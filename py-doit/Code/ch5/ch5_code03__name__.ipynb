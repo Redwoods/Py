{
  "nbformat": 4,
  "nbformat_minor": 0,
  "metadata": {
    "colab": {
      "name": "ch5_code03__name__.ipynb",
      "provenance": [],
      "collapsed_sections": [],
      "authorship_tag": "ABX9TyOotPErOBl74VwwnxV69Cfo",
      "include_colab_link": true
    },
    "kernelspec": {
      "name": "python3",
      "display_name": "Python 3"
    }
  },
  "cells": [
    {
      "cell_type": "markdown",
      "metadata": {
        "id": "view-in-github",
        "colab_type": "text"
      },
      "source": [
        "<a href=\"https://colab.research.google.com/github/Redwoods/Py/blob/master/py-doit/Code/ch5/ch5_code03__name__.ipynb\" target=\"_parent\"><img src=\"https://colab.research.google.com/assets/colab-badge.svg\" alt=\"Open In Colab\"/></a>"
      ]
    },
    {
      "cell_type": "markdown",
      "metadata": {
        "id": "Te4sR-Yp5fve"
      },
      "source": [
        "## 보충 설명\n",
        "## if \\_\\_name\\_\\_ == \"\\_\\_main\\_\\_\" 의 의미는?"
      ]
    },
    {
      "cell_type": "markdown",
      "metadata": {
        "id": "APZV3iOx3NX3"
      },
      "source": [
        "## Filename: run_or_import.py\n",
        "### Save run_or_import.py in /content folder.\n",
        "```\n",
        "# run_or_import.py\n",
        "if __name__ == '__main__':\n",
        "\tprint('run *.py')\n",
        "else:\n",
        "\tprint('import module')\n",
        "```\n"
      ]
    },
    {
      "cell_type": "markdown",
      "metadata": {
        "id": "LnJ2fJCAhtup"
      },
      "source": [
        "### run *.py\n",
        "- 다음 조건이 성립.\n",
        "> \\_\\_name\\_\\_ == '\\_\\_main\\_\\_'"
      ]
    },
    {
      "cell_type": "code",
      "metadata": {
        "id": "1sdg6ocS3Dmc",
        "colab": {
          "base_uri": "https://localhost:8080/",
          "height": 35
        },
        "outputId": "4f274ddc-3678-4cd5-d5fe-e9e26eb3e351"
      },
      "source": [
        "run run_or_import.py"
      ],
      "execution_count": null,
      "outputs": [
        {
          "output_type": "stream",
          "text": [
            "run *.py\n"
          ],
          "name": "stdout"
        }
      ]
    },
    {
      "cell_type": "code",
      "metadata": {
        "id": "7etqA0MNh8EX",
        "colab": {
          "base_uri": "https://localhost:8080/",
          "height": 35
        },
        "outputId": "f6678b85-046c-4202-d42a-38843eb3fc66"
      },
      "source": [
        "!python run_or_import.py"
      ],
      "execution_count": null,
      "outputs": [
        {
          "output_type": "stream",
          "text": [
            "run *.py\n"
          ],
          "name": "stdout"
        }
      ]
    },
    {
      "cell_type": "markdown",
      "metadata": {
        "id": "I0RfgmL0iBtC"
      },
      "source": [
        "### import module\n",
        "- 다음 조건이 성립\n",
        "> \\_\\_name\\_\\_ != '\\_\\_main\\_\\_'"
      ]
    },
    {
      "cell_type": "code",
      "metadata": {
        "id": "3Ak72_pVj9gd",
        "colab": {
          "base_uri": "https://localhost:8080/",
          "height": 35
        },
        "outputId": "0e43b211-8b0e-473b-d83e-f974fa9e3969"
      },
      "source": [
        "import run_or_import"
      ],
      "execution_count": null,
      "outputs": [
        {
          "output_type": "stream",
          "text": [
            "import module\n"
          ],
          "name": "stdout"
        }
      ]
    },
    {
      "cell_type": "markdown",
      "metadata": {
        "id": "O9dodOzWi9Un"
      },
      "source": [
        "### 차이점을 잘 이해했나요?"
      ]
    },
    {
      "cell_type": "code",
      "metadata": {
        "id": "XpHTpmSCkvNF"
      },
      "source": [
        ""
      ],
      "execution_count": null,
      "outputs": []
    }
  ]
}