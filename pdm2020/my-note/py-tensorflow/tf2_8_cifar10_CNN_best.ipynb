{
  "nbformat": 4,
  "nbformat_minor": 0,
  "metadata": {
    "colab": {
      "name": "tf2_8_cifar10_CNN_best.ipynb",
      "provenance": [],
      "collapsed_sections": [],
      "include_colab_link": true
    },
    "kernelspec": {
      "name": "python3",
      "display_name": "Python 3"
    },
    "accelerator": "GPU"
  },
  "cells": [
    {
      "cell_type": "markdown",
      "metadata": {
        "id": "view-in-github",
        "colab_type": "text"
      },
      "source": [
        "<a href=\"https://colab.research.google.com/github/Redwoods/Py/blob/master/pdm2020/my-note/py-tensorflow/tf2_8_cifar10_CNN_best.ipynb\" target=\"_parent\"><img src=\"https://colab.research.google.com/assets/colab-badge.svg\" alt=\"Open In Colab\"/></a>"
      ]
    },
    {
      "cell_type": "markdown",
      "metadata": {
        "id": "rswfCVLZ-QW0"
      },
      "source": [
        "# **CNN model of cifar-10 dataset**\n",
        "- Conv2D + FCN\n",
        "    * Conv2D : 2차원 합성곱 필터링 + 풀링(Pooling)\n",
        "    * FCN : 1차원 완전연결신경망\n",
        "\n",
        "***\n",
        "- ## Traget: Find the best model\n",
        "***\n",
        "\n",
        "![mnist_NN_2_layers](https://img1.daumcdn.net/thumb/R1280x0/?scode=mtistory2&fname=https%3A%2F%2Fblog.kakaocdn.net%2Fdn%2FdJp5Z6%2FbtqAPebnF3x%2FQCe5vVcskhmxe964bGz4iK%2Fimg.png)\n",
        "\n",
        "(source: https://img1.daumcdn.net/thumb/R1280x0/?scode=mtistory2&fname=https%3A%2F%2Fblog.kakaocdn.net%2Fdn%2FdJp5Z6%2FbtqAPebnF3x%2FQCe5vVcskhmxe964bGz4iK%2Fimg.png)"
      ]
    },
    {
      "cell_type": "markdown",
      "metadata": {
        "id": "ISueys4bNHd1"
      },
      "source": [
        "### CIFAR-10 Dataset (CIFAR: Canadian Institute For Advanced Research)\n",
        "> https://www.cs.toronto.edu/~kriz/cifar.html\n",
        "\n",
        "- (50000, 32, 32, 3), train\n",
        "- (10000, 32, 32, 3), test\n",
        "- color photographs of objects from 10 classes, such as frogs, birds, cats, ships, etc\n",
        "> class names\n",
        "> - ['airplane', 'automobile', 'bird', 'cat', 'deer', 'dog', 'frog', 'horse', 'ship', 'truck']\n",
        "\n",
        "- 참고 문헌  \n",
        "\n",
        "> https://becominghuman.ai/cifar-10-image-classification-fd2ace47c5e8  \n",
        "\n",
        "> https://becominghuman.ai/convolutional-neural-networks-cnns-convnets-for-visual-recognition-cae879a70f1a\n",
        "\n",
        "> https://towardsdatascience.com/cifar-10-image-classification-in-tensorflow-5b501f7dc77c"
      ]
    },
    {
      "cell_type": "markdown",
      "metadata": {
        "id": "1yhvkxS_HhpK"
      },
      "source": [
        "## Search the best model of C2F2\n",
        "- callback\n",
        "    - Early stopping\n",
        "    - model checkpoint"
      ]
    },
    {
      "cell_type": "code",
      "metadata": {
        "id": "8GgGzPXPVyfa",
        "colab": {
          "base_uri": "https://localhost:8080/"
        },
        "outputId": "c6071111-545d-4544-91a7-71eb91c82e64"
      },
      "source": [
        "import numpy as np\n",
        "import tensorflow as tf\n",
        "from tensorflow import keras\n",
        "import pandas as pd\n",
        "import matplotlib.pyplot as plt\n",
        "%matplotlib inline\n",
        "\n",
        "tf.random.set_seed(0)\n",
        "\n",
        "print(tf.__version__)"
      ],
      "execution_count": null,
      "outputs": [
        {
          "output_type": "stream",
          "text": [
            "2.3.0\n"
          ],
          "name": "stdout"
        }
      ]
    },
    {
      "cell_type": "code",
      "metadata": {
        "id": "nMZqMpIvIlwf"
      },
      "source": [
        "# import TF2 submodules\n",
        "from tensorflow.keras import layers, models, callbacks"
      ],
      "execution_count": null,
      "outputs": []
    },
    {
      "cell_type": "markdown",
      "metadata": {
        "id": "-0IOOUM14Jk1"
      },
      "source": [
        "## **데이터 로딩, 정규화**"
      ]
    },
    {
      "cell_type": "code",
      "metadata": {
        "id": "N1ogJ7I64Fz-",
        "colab": {
          "base_uri": "https://localhost:8080/"
        },
        "outputId": "6aafb8ca-d40a-4763-82d1-c402941d9396"
      },
      "source": [
        "from keras.datasets import cifar10\n",
        "\n",
        "(X_train0, y_train0), (X_test0, y_test0) = cifar10.load_data()\n",
        "\n",
        "# Reshape\n",
        "# X_train = X_train0.reshape(60000,28,28,1)\n",
        "# X_test = X_test0.reshape(10000,28,28,1)\n",
        "\n",
        "# Normalization\n",
        "X_train, X_test = X_train0/255.0, X_test0/255.0 # 정규화\n",
        "\n",
        "print(\"X_train={0}\".format(X_train.shape))\n",
        "print(\"y_train={0}\".format(y_train0.shape)) \n",
        "print(\"X_test={0}\".format(X_test.shape))\n",
        "print(\"y_test={0}\".format(y_test0.shape))"
      ],
      "execution_count": null,
      "outputs": [
        {
          "output_type": "stream",
          "text": [
            "Downloading data from https://www.cs.toronto.edu/~kriz/cifar-10-python.tar.gz\n",
            "170500096/170498071 [==============================] - 2s 0us/step\n",
            "X_train=(50000, 32, 32, 3)\n",
            "y_train=(50000, 1)\n",
            "X_test=(10000, 32, 32, 3)\n",
            "y_test=(10000, 1)\n"
          ],
          "name": "stdout"
        }
      ]
    },
    {
      "cell_type": "code",
      "metadata": {
        "id": "F46-QZqJHiQ6",
        "colab": {
          "base_uri": "https://localhost:8080/"
        },
        "outputId": "1fb6c5e8-5a01-428d-de3f-fd99c6d06695"
      },
      "source": [
        "# One-Hot-Encoding\n",
        "# Use function to_categorical() to do One-Hot-Encoding\n",
        "# tf.keras.utils.to_categorical\n",
        "from keras.utils import to_categorical\n",
        "\n",
        "y_train = to_categorical(y_train0, 10)\n",
        "y_test = to_categorical(y_test0, 10)\n",
        "y_train.shape,y_test.shape"
      ],
      "execution_count": null,
      "outputs": [
        {
          "output_type": "execute_result",
          "data": {
            "text/plain": [
              "((50000, 10), (10000, 10))"
            ]
          },
          "metadata": {
            "tags": []
          },
          "execution_count": 4
        }
      ]
    },
    {
      "cell_type": "code",
      "metadata": {
        "id": "eZ3OfP5PkEkL",
        "colab": {
          "base_uri": "https://localhost:8080/"
        },
        "outputId": "b4760eb0-79b4-4355-ed5d-015cbe9431be"
      },
      "source": [
        "# y_train0.shape vs. y_train.shape\n",
        "y_train0.shape, y_train.shape"
      ],
      "execution_count": null,
      "outputs": [
        {
          "output_type": "execute_result",
          "data": {
            "text/plain": [
              "((50000, 1), (50000, 10))"
            ]
          },
          "metadata": {
            "tags": []
          },
          "execution_count": 5
        }
      ]
    },
    {
      "cell_type": "markdown",
      "metadata": {
        "id": "5z7SozStigmF"
      },
      "source": [
        "### Display images in CIFAR-10\n",
        "- one random image\n",
        "- 10 representative images"
      ]
    },
    {
      "cell_type": "code",
      "metadata": {
        "id": "IK7XT3XoirSL",
        "colab": {
          "base_uri": "https://localhost:8080/",
          "height": 285
        },
        "outputId": "1a95e5b0-0769-4290-dde7-7a56a4ae6dc3"
      },
      "source": [
        "# Code here!\n",
        "# display one random image from the training set:\n",
        "class_names =  ['airplane', 'automobile', 'bird', 'cat', 'deer', 'dog', 'frog', 'horse', 'ship', 'truck']\n",
        "\n",
        "idx = np.random.randint(0, X_train0.shape[0])\n",
        "print(idx)\n",
        "image = X_train0[idx]\n",
        "plt.imshow(image) #, cmap=plt.get_cmap('gray'))\n",
        "plt.title(class_names[y_train0[idx][0]])\n",
        "plt.xticks([])\n",
        "plt.yticks([])\n",
        "plt.show()"
      ],
      "execution_count": null,
      "outputs": [
        {
          "output_type": "stream",
          "text": [
            "1546\n"
          ],
          "name": "stdout"
        },
        {
          "output_type": "display_data",
          "data": {
            "image/png": "[encoded data removed]",
            "text/plain": [
              "<Figure size 432x288 with 1 Axes>"
            ]
          },
          "metadata": {
            "tags": []
          }
        }
      ]
    },
    {
      "cell_type": "code",
      "metadata": {
        "id": "LzhD5pcukau7",
        "colab": {
          "base_uri": "https://localhost:8080/",
          "height": 325
        },
        "outputId": "6f544ff4-f777-4ecb-c69d-4574230e4b72"
      },
      "source": [
        "fig = plt.figure(figsize=(10,6))\n",
        "num0_9 = np.unique(y_train0, return_index=True)[1]\n",
        "images = X_train[num0_9]\n",
        "for i in range(10):\n",
        "    plt.subplot(2, 5, i+1)\n",
        "    # num0_9 = X_train0[y_train0 == i]\n",
        "    \n",
        "    # print(num0_9.shape)\n",
        "    # plt.imshow(num0_9[0]) \n",
        "    plt.imshow(images[i])\n",
        "    plt.title(\"Class %d\" % (i))\n",
        "    plt.xticks([])\n",
        "    plt.yticks([])"
      ],
      "execution_count": null,
      "outputs": [
        {
          "output_type": "display_data",
          "data": {
            "image/png": "[encoded data removed]",
            "text/plain": [
              "<Figure size 720x432 with 10 Axes>"
            ]
          },
          "metadata": {
            "tags": []
          }
        }
      ]
    },
    {
      "cell_type": "markdown",
      "metadata": {
        "id": "55DYVfFXi0WR"
      },
      "source": [
        "# Design CNN"
      ]
    },
    {
      "cell_type": "markdown",
      "metadata": {
        "id": "iPcLIcUCcsiG"
      },
      "source": [
        "### import models, layers, callbacks\n",
        "- models: Sequential\n",
        "- layers: Conv2D, MaxPool2D, Flatten\n",
        "- callbacks: ModelCheckpoint, EarlyStopping"
      ]
    },
    {
      "cell_type": "code",
      "metadata": {
        "id": "NzqMC4Xtc3ZE"
      },
      "source": [
        "from keras.models import Sequential\n",
        "from keras.layers import Conv2D, MaxPool2D, Flatten\n",
        "from keras.callbacks import ModelCheckpoint, EarlyStopping"
      ],
      "execution_count": null,
      "outputs": []
    },
    {
      "cell_type": "markdown",
      "metadata": {
        "id": "7Z6DJJUCei-s"
      },
      "source": [
        "## **CNN2 + FCN2**"
      ]
    },
    {
      "cell_type": "code",
      "metadata": {
        "id": "pV3NFglM7P65"
      },
      "source": [
        "c2f2 = keras.models.Sequential([ \n",
        "    Conv2D(input_shape=(32,32,3),kernel_size=(3,3),strides=(1,1),filters= 32,padding='same',activation='relu'),\n",
        "    MaxPool2D(pool_size=(2,2), strides=(2,2)), \n",
        "    Conv2D(kernel_size=(3,3),strides=(1,1),filters= 64,padding='same',activation='relu'),\n",
        "    MaxPool2D(pool_size=(2,2), strides=(2,2)),\n",
        "    Flatten(), \n",
        "    keras.layers.Dense(128, activation='relu'),  \n",
        "    keras.layers.Dropout(0.25), \n",
        "    keras.layers.Dense(10, activation='softmax')\n",
        "])\n",
        "\n",
        "c2f2.compile(optimizer='adam',\n",
        "              loss='categorical_crossentropy',\n",
        "              metrics=['accuracy']) "
      ],
      "execution_count": null,
      "outputs": []
    },
    {
      "cell_type": "code",
      "metadata": {
        "id": "OGtCiKy57YkR",
        "colab": {
          "base_uri": "https://localhost:8080/"
        },
        "outputId": "b9743ea9-0ed1-4517-e58b-0b3c361e8564"
      },
      "source": [
        "c2f2.summary()"
      ],
      "execution_count": null,
      "outputs": [
        {
          "output_type": "stream",
          "text": [
            "Model: \"sequential\"\n",
            "_________________________________________________________________\n",
            "Layer (type)                 Output Shape              Param #   \n",
            "=================================================================\n",
            "conv2d (Conv2D)              (None, 32, 32, 32)        896       \n",
            "_________________________________________________________________\n",
            "max_pooling2d (MaxPooling2D) (None, 16, 16, 32)        0         \n",
            "_________________________________________________________________\n",
            "conv2d_1 (Conv2D)            (None, 16, 16, 64)        18496     \n",
            "_________________________________________________________________\n",
            "max_pooling2d_1 (MaxPooling2 (None, 8, 8, 64)          0         \n",
            "_________________________________________________________________\n",
            "flatten (Flatten)            (None, 4096)              0         \n",
            "_________________________________________________________________\n",
            "dense (Dense)                (None, 128)               524416    \n",
            "_________________________________________________________________\n",
            "dropout (Dropout)            (None, 128)               0         \n",
            "_________________________________________________________________\n",
            "dense_1 (Dense)              (None, 10)                1290      \n",
            "=================================================================\n",
            "Total params: 545,098\n",
            "Trainable params: 545,098\n",
            "Non-trainable params: 0\n",
            "_________________________________________________________________\n"
          ],
          "name": "stdout"
        }
      ]
    },
    {
      "cell_type": "code",
      "metadata": {
        "id": "zw_pQPBdJmU8"
      },
      "source": [
        "cp_callback = callbacks.ModelCheckpoint(filepath=\"./cifar10_c2f2_best_weights.{epoch:03d}-{val_accuracy:.4f}.hdf5\", \n",
        "                              monitor='val_accuracy', verbose=0, save_best_only=True)\n",
        "es_callback = callbacks.EarlyStopping(monitor='val_accuracy', \n",
        "                            mode='max', verbose=1, patience=25)    # patience=10, 25, 50"
      ],
      "execution_count": null,
      "outputs": []
    },
    {
      "cell_type": "code",
      "metadata": {
        "id": "94GWWQt-7eRS",
        "colab": {
          "base_uri": "https://localhost:8080/"
        },
        "outputId": "22f57296-c001-43a1-bb81-c661a8d8b82b"
      },
      "source": [
        "hist = c2f2.fit(X_train, y_train, epochs = 500 , batch_size =32, \n",
        "         callbacks=[cp_callback, es_callback], \n",
        "         validation_data=(X_test,y_test))"
      ],
      "execution_count": null,
      "outputs": [
        {
          "output_type": "stream",
          "text": [
            "Epoch 1/500\n",
            "1563/1563 [==============================] - 6s 4ms/step - loss: 1.5149 - accuracy: 0.4519 - val_loss: 1.2450 - val_accuracy: 0.5583\n",
            "Epoch 2/500\n",
            "1563/1563 [==============================] - 5s 4ms/step - loss: 1.1814 - accuracy: 0.5825 - val_loss: 1.0601 - val_accuracy: 0.6297\n",
            "Epoch 3/500\n",
            "1563/1563 [==============================] - 6s 4ms/step - loss: 1.0548 - accuracy: 0.6277 - val_loss: 0.9807 - val_accuracy: 0.6572\n",
            "Epoch 4/500\n",
            "1563/1563 [==============================] - 6s 4ms/step - loss: 0.9728 - accuracy: 0.6569 - val_loss: 0.9559 - val_accuracy: 0.6650\n",
            "Epoch 5/500\n",
            "1563/1563 [==============================] - 7s 4ms/step - loss: 0.9089 - accuracy: 0.6771 - val_loss: 0.9065 - val_accuracy: 0.6823\n",
            "Epoch 6/500\n",
            "1563/1563 [==============================] - 6s 4ms/step - loss: 0.8525 - accuracy: 0.6968 - val_loss: 0.8855 - val_accuracy: 0.6920\n",
            "Epoch 7/500\n",
            "1563/1563 [==============================] - 6s 4ms/step - loss: 0.8035 - accuracy: 0.7157 - val_loss: 0.8901 - val_accuracy: 0.6918\n",
            "Epoch 8/500\n",
            "1563/1563 [==============================] - 6s 4ms/step - loss: 0.7538 - accuracy: 0.7304 - val_loss: 0.8539 - val_accuracy: 0.7066\n",
            "Epoch 9/500\n",
            "1563/1563 [==============================] - 6s 4ms/step - loss: 0.7094 - accuracy: 0.7464 - val_loss: 0.8612 - val_accuracy: 0.7059\n",
            "Epoch 10/500\n",
            "1563/1563 [==============================] - 6s 4ms/step - loss: 0.6752 - accuracy: 0.7555 - val_loss: 0.8818 - val_accuracy: 0.7100\n",
            "Epoch 11/500\n",
            "1563/1563 [==============================] - 6s 4ms/step - loss: 0.6270 - accuracy: 0.7742 - val_loss: 0.9361 - val_accuracy: 0.6919\n",
            "Epoch 12/500\n",
            "1563/1563 [==============================] - 6s 4ms/step - loss: 0.5924 - accuracy: 0.7841 - val_loss: 0.8981 - val_accuracy: 0.7051\n",
            "Epoch 13/500\n",
            "1563/1563 [==============================] - 6s 4ms/step - loss: 0.5669 - accuracy: 0.7933 - val_loss: 0.9187 - val_accuracy: 0.7062\n",
            "Epoch 14/500\n",
            "1563/1563 [==============================] - 6s 4ms/step - loss: 0.5336 - accuracy: 0.8072 - val_loss: 0.9483 - val_accuracy: 0.7068\n",
            "Epoch 15/500\n",
            "1563/1563 [==============================] - 6s 4ms/step - loss: 0.5085 - accuracy: 0.8158 - val_loss: 0.9567 - val_accuracy: 0.6957\n",
            "Epoch 16/500\n",
            "1563/1563 [==============================] - 6s 4ms/step - loss: 0.4766 - accuracy: 0.8246 - val_loss: 0.9754 - val_accuracy: 0.7097\n",
            "Epoch 17/500\n",
            "1563/1563 [==============================] - 6s 4ms/step - loss: 0.4550 - accuracy: 0.8331 - val_loss: 1.0585 - val_accuracy: 0.6979\n",
            "Epoch 18/500\n",
            "1563/1563 [==============================] - 6s 4ms/step - loss: 0.4320 - accuracy: 0.8399 - val_loss: 1.0716 - val_accuracy: 0.6963\n",
            "Epoch 19/500\n",
            "1563/1563 [==============================] - 6s 4ms/step - loss: 0.4064 - accuracy: 0.8490 - val_loss: 1.0494 - val_accuracy: 0.7070\n",
            "Epoch 20/500\n",
            "1563/1563 [==============================] - 6s 4ms/step - loss: 0.3962 - accuracy: 0.8528 - val_loss: 1.0954 - val_accuracy: 0.7053\n",
            "Epoch 21/500\n",
            "1563/1563 [==============================] - 6s 4ms/step - loss: 0.3796 - accuracy: 0.8591 - val_loss: 1.1180 - val_accuracy: 0.7061\n",
            "Epoch 22/500\n",
            "1563/1563 [==============================] - 6s 4ms/step - loss: 0.3608 - accuracy: 0.8662 - val_loss: 1.1601 - val_accuracy: 0.7018\n",
            "Epoch 23/500\n",
            "1563/1563 [==============================] - 6s 4ms/step - loss: 0.3519 - accuracy: 0.8710 - val_loss: 1.1995 - val_accuracy: 0.7057\n",
            "Epoch 24/500\n",
            "1563/1563 [==============================] - 6s 4ms/step - loss: 0.3399 - accuracy: 0.8744 - val_loss: 1.2868 - val_accuracy: 0.7020\n",
            "Epoch 25/500\n",
            "1563/1563 [==============================] - 6s 4ms/step - loss: 0.3278 - accuracy: 0.8797 - val_loss: 1.2651 - val_accuracy: 0.7014\n",
            "Epoch 26/500\n",
            "1563/1563 [==============================] - 6s 4ms/step - loss: 0.3152 - accuracy: 0.8831 - val_loss: 1.2607 - val_accuracy: 0.6952\n",
            "Epoch 27/500\n",
            "1563/1563 [==============================] - 6s 4ms/step - loss: 0.3058 - accuracy: 0.8863 - val_loss: 1.3227 - val_accuracy: 0.6926\n",
            "Epoch 28/500\n",
            "1563/1563 [==============================] - 6s 4ms/step - loss: 0.2960 - accuracy: 0.8910 - val_loss: 1.3582 - val_accuracy: 0.6928\n",
            "Epoch 29/500\n",
            "1563/1563 [==============================] - 6s 4ms/step - loss: 0.2884 - accuracy: 0.8946 - val_loss: 1.3761 - val_accuracy: 0.6941\n",
            "Epoch 30/500\n",
            "1563/1563 [==============================] - 6s 4ms/step - loss: 0.2770 - accuracy: 0.8989 - val_loss: 1.4728 - val_accuracy: 0.6948\n",
            "Epoch 31/500\n",
            "1563/1563 [==============================] - 6s 4ms/step - loss: 0.2713 - accuracy: 0.8989 - val_loss: 1.4785 - val_accuracy: 0.6936\n",
            "Epoch 32/500\n",
            "1563/1563 [==============================] - 6s 4ms/step - loss: 0.2681 - accuracy: 0.9001 - val_loss: 1.4489 - val_accuracy: 0.6965\n",
            "Epoch 33/500\n",
            "1563/1563 [==============================] - 6s 4ms/step - loss: 0.2596 - accuracy: 0.9048 - val_loss: 1.5784 - val_accuracy: 0.6920\n",
            "Epoch 34/500\n",
            "1563/1563 [==============================] - 6s 4ms/step - loss: 0.2523 - accuracy: 0.9074 - val_loss: 1.5449 - val_accuracy: 0.6883\n",
            "Epoch 35/500\n",
            "1563/1563 [==============================] - 6s 4ms/step - loss: 0.2525 - accuracy: 0.9075 - val_loss: 1.5267 - val_accuracy: 0.6935\n",
            "Epoch 00035: early stopping\n"
          ],
          "name": "stdout"
        }
      ]
    },
    {
      "cell_type": "code",
      "metadata": {
        "id": "0-7is2U49A6Z",
        "colab": {
          "base_uri": "https://localhost:8080/"
        },
        "outputId": "ffa0cdc6-2cb9-4be2-d7d0-2cd4e2da397a"
      },
      "source": [
        "c2f2.evaluate(X_test, y_test, batch_size =32)"
      ],
      "execution_count": null,
      "outputs": [
        {
          "output_type": "stream",
          "text": [
            "313/313 [==============================] - 1s 2ms/step - loss: 1.5267 - accuracy: 0.6935\n"
          ],
          "name": "stdout"
        },
        {
          "output_type": "execute_result",
          "data": {
            "text/plain": [
              "[1.526725172996521, 0.6934999823570251]"
            ]
          },
          "metadata": {
            "tags": []
          },
          "execution_count": 13
        }
      ]
    },
    {
      "cell_type": "markdown",
      "metadata": {
        "id": "SUJxRQtafihM"
      },
      "source": [
        "## **CNN2 + FCN3**"
      ]
    },
    {
      "cell_type": "code",
      "metadata": {
        "id": "Nl5CyAymAB34"
      },
      "source": [
        "c2f3 = keras.models.Sequential([ \n",
        "    Conv2D(input_shape=(32,32,3),kernel_size=(3,3),strides=(1,1),filters= 32,padding='same',activation='relu'),\n",
        "    MaxPool2D(pool_size=(2,2), strides=(2,2)), \n",
        "    Conv2D(kernel_size=(3,3),strides=(1,1),filters= 64,padding='same',activation='relu'),\n",
        "    MaxPool2D(pool_size=(2,2), strides=(2,2)),\n",
        "    Flatten(), \n",
        "    keras.layers.Dense(128, activation='relu'),  \n",
        "    keras.layers.Dropout(0.25), \n",
        "    keras.layers.Dense(64, activation='relu'),  \n",
        "    keras.layers.Dropout(0.25), \n",
        "    keras.layers.Dense(10, activation='softmax')\n",
        "])\n",
        "\n",
        "c2f3.compile(optimizer='adam',\n",
        "              loss='categorical_crossentropy',\n",
        "              metrics=['accuracy']) "
      ],
      "execution_count": null,
      "outputs": []
    },
    {
      "cell_type": "code",
      "metadata": {
        "id": "gYxuGW_2ANL8",
        "colab": {
          "base_uri": "https://localhost:8080/"
        },
        "outputId": "34931188-bafc-4de3-8708-14b4658f8730"
      },
      "source": [
        "c2f3.summary()"
      ],
      "execution_count": null,
      "outputs": [
        {
          "output_type": "stream",
          "text": [
            "Model: \"sequential_1\"\n",
            "_________________________________________________________________\n",
            "Layer (type)                 Output Shape              Param #   \n",
            "=================================================================\n",
            "conv2d_2 (Conv2D)            (None, 32, 32, 32)        896       \n",
            "_________________________________________________________________\n",
            "max_pooling2d_2 (MaxPooling2 (None, 16, 16, 32)        0         \n",
            "_________________________________________________________________\n",
            "conv2d_3 (Conv2D)            (None, 16, 16, 64)        18496     \n",
            "_________________________________________________________________\n",
            "max_pooling2d_3 (MaxPooling2 (None, 8, 8, 64)          0         \n",
            "_________________________________________________________________\n",
            "flatten_1 (Flatten)          (None, 4096)              0         \n",
            "_________________________________________________________________\n",
            "dense_2 (Dense)              (None, 128)               524416    \n",
            "_________________________________________________________________\n",
            "dropout_1 (Dropout)          (None, 128)               0         \n",
            "_________________________________________________________________\n",
            "dense_3 (Dense)              (None, 64)                8256      \n",
            "_________________________________________________________________\n",
            "dropout_2 (Dropout)          (None, 64)                0         \n",
            "_________________________________________________________________\n",
            "dense_4 (Dense)              (None, 10)                650       \n",
            "=================================================================\n",
            "Total params: 552,714\n",
            "Trainable params: 552,714\n",
            "Non-trainable params: 0\n",
            "_________________________________________________________________\n"
          ],
          "name": "stdout"
        }
      ]
    },
    {
      "cell_type": "code",
      "metadata": {
        "id": "KMsTuhO2x61z"
      },
      "source": [
        "cp_callback = callbacks.ModelCheckpoint(filepath=\"./cifar10_c2f3_best_weights.{epoch:03d}-{val_accuracy:.4f}.hdf5\", \n",
        "                              monitor='val_accuracy', verbose=0, save_best_only=True)\n",
        "es_callback = callbacks.EarlyStopping(monitor='val_accuracy', \n",
        "                            mode='max', verbose=1, patience=25)    # patience=10, 25, 50"
      ],
      "execution_count": null,
      "outputs": []
    },
    {
      "cell_type": "code",
      "metadata": {
        "id": "lO1of4AOAQlV",
        "colab": {
          "base_uri": "https://localhost:8080/"
        },
        "outputId": "9d8b448f-65f2-4fcb-edc5-5e616d503b8f"
      },
      "source": [
        "c2f3.fit(X_train, y_train, epochs=500, batch_size =32, \n",
        "         callbacks=[cp_callback, es_callback], \n",
        "         validation_data=(X_test,y_test))"
      ],
      "execution_count": null,
      "outputs": [
        {
          "output_type": "stream",
          "text": [
            "Epoch 1/500\n",
            "1563/1563 [==============================] - 6s 4ms/step - loss: 1.5602 - accuracy: 0.4332 - val_loss: 1.2011 - val_accuracy: 0.5707\n",
            "Epoch 2/500\n",
            "1563/1563 [==============================] - 6s 4ms/step - loss: 1.2029 - accuracy: 0.5765 - val_loss: 1.0544 - val_accuracy: 0.6252\n",
            "Epoch 3/500\n",
            "1563/1563 [==============================] - 6s 4ms/step - loss: 1.0575 - accuracy: 0.6308 - val_loss: 1.0028 - val_accuracy: 0.6493\n",
            "Epoch 4/500\n",
            "1563/1563 [==============================] - 6s 4ms/step - loss: 0.9638 - accuracy: 0.6643 - val_loss: 0.9658 - val_accuracy: 0.6632\n",
            "Epoch 5/500\n",
            "1563/1563 [==============================] - 6s 4ms/step - loss: 0.8888 - accuracy: 0.6907 - val_loss: 0.9275 - val_accuracy: 0.6815\n",
            "Epoch 6/500\n",
            "1563/1563 [==============================] - 6s 4ms/step - loss: 0.8206 - accuracy: 0.7126 - val_loss: 0.9013 - val_accuracy: 0.6853\n",
            "Epoch 7/500\n",
            "1563/1563 [==============================] - 6s 4ms/step - loss: 0.7728 - accuracy: 0.7306 - val_loss: 0.8709 - val_accuracy: 0.6992\n",
            "Epoch 8/500\n",
            "1563/1563 [==============================] - 6s 4ms/step - loss: 0.7155 - accuracy: 0.7508 - val_loss: 0.8931 - val_accuracy: 0.6982\n",
            "Epoch 9/500\n",
            "1563/1563 [==============================] - 6s 4ms/step - loss: 0.6771 - accuracy: 0.7609 - val_loss: 0.8938 - val_accuracy: 0.6989\n",
            "Epoch 10/500\n",
            "1563/1563 [==============================] - 7s 4ms/step - loss: 0.6371 - accuracy: 0.7755 - val_loss: 0.8945 - val_accuracy: 0.7030\n",
            "Epoch 11/500\n",
            "1563/1563 [==============================] - 6s 4ms/step - loss: 0.6048 - accuracy: 0.7873 - val_loss: 0.9035 - val_accuracy: 0.7064\n",
            "Epoch 12/500\n",
            "1563/1563 [==============================] - 6s 4ms/step - loss: 0.5767 - accuracy: 0.7981 - val_loss: 0.9108 - val_accuracy: 0.7058\n",
            "Epoch 13/500\n",
            "1563/1563 [==============================] - 6s 4ms/step - loss: 0.5369 - accuracy: 0.8109 - val_loss: 0.9421 - val_accuracy: 0.7064\n",
            "Epoch 14/500\n",
            "1563/1563 [==============================] - 6s 4ms/step - loss: 0.5181 - accuracy: 0.8159 - val_loss: 0.9473 - val_accuracy: 0.7064\n",
            "Epoch 15/500\n",
            "1563/1563 [==============================] - 6s 4ms/step - loss: 0.4940 - accuracy: 0.8234 - val_loss: 0.9866 - val_accuracy: 0.7077\n",
            "Epoch 16/500\n",
            "1563/1563 [==============================] - 6s 4ms/step - loss: 0.4722 - accuracy: 0.8309 - val_loss: 1.0201 - val_accuracy: 0.7053\n",
            "Epoch 17/500\n",
            "1563/1563 [==============================] - 6s 4ms/step - loss: 0.4508 - accuracy: 0.8396 - val_loss: 1.0300 - val_accuracy: 0.6998\n",
            "Epoch 18/500\n",
            "1563/1563 [==============================] - 6s 4ms/step - loss: 0.4395 - accuracy: 0.8427 - val_loss: 1.0191 - val_accuracy: 0.7070\n",
            "Epoch 19/500\n",
            "1563/1563 [==============================] - 6s 4ms/step - loss: 0.4263 - accuracy: 0.8486 - val_loss: 1.0516 - val_accuracy: 0.7049\n",
            "Epoch 20/500\n",
            "1563/1563 [==============================] - 6s 4ms/step - loss: 0.4087 - accuracy: 0.8570 - val_loss: 1.0967 - val_accuracy: 0.6989\n",
            "Epoch 21/500\n",
            "1563/1563 [==============================] - 6s 4ms/step - loss: 0.3939 - accuracy: 0.8592 - val_loss: 1.1014 - val_accuracy: 0.7014\n",
            "Epoch 22/500\n",
            "1563/1563 [==============================] - 6s 4ms/step - loss: 0.3762 - accuracy: 0.8658 - val_loss: 1.1420 - val_accuracy: 0.7023\n",
            "Epoch 23/500\n",
            "1563/1563 [==============================] - 6s 4ms/step - loss: 0.3708 - accuracy: 0.8684 - val_loss: 1.1666 - val_accuracy: 0.7011\n",
            "Epoch 24/500\n",
            "1563/1563 [==============================] - 6s 4ms/step - loss: 0.3510 - accuracy: 0.8740 - val_loss: 1.1432 - val_accuracy: 0.7035\n",
            "Epoch 25/500\n",
            "1563/1563 [==============================] - 6s 4ms/step - loss: 0.3429 - accuracy: 0.8776 - val_loss: 1.2000 - val_accuracy: 0.7014\n",
            "Epoch 26/500\n",
            "1563/1563 [==============================] - 6s 4ms/step - loss: 0.3351 - accuracy: 0.8817 - val_loss: 1.1989 - val_accuracy: 0.7055\n",
            "Epoch 27/500\n",
            "1563/1563 [==============================] - 6s 4ms/step - loss: 0.3268 - accuracy: 0.8848 - val_loss: 1.2111 - val_accuracy: 0.7049\n",
            "Epoch 28/500\n",
            "1563/1563 [==============================] - 6s 4ms/step - loss: 0.3212 - accuracy: 0.8869 - val_loss: 1.2830 - val_accuracy: 0.6971\n",
            "Epoch 29/500\n",
            "1563/1563 [==============================] - 6s 4ms/step - loss: 0.3112 - accuracy: 0.8897 - val_loss: 1.2782 - val_accuracy: 0.7010\n",
            "Epoch 30/500\n",
            "1563/1563 [==============================] - 6s 4ms/step - loss: 0.3033 - accuracy: 0.8934 - val_loss: 1.2906 - val_accuracy: 0.7018\n",
            "Epoch 31/500\n",
            "1563/1563 [==============================] - 6s 4ms/step - loss: 0.2994 - accuracy: 0.8923 - val_loss: 1.3241 - val_accuracy: 0.7037\n",
            "Epoch 32/500\n",
            "1563/1563 [==============================] - 6s 4ms/step - loss: 0.2872 - accuracy: 0.8962 - val_loss: 1.2434 - val_accuracy: 0.6951\n",
            "Epoch 33/500\n",
            "1563/1563 [==============================] - 6s 4ms/step - loss: 0.2839 - accuracy: 0.9011 - val_loss: 1.3934 - val_accuracy: 0.6986\n",
            "Epoch 34/500\n",
            "1563/1563 [==============================] - 6s 4ms/step - loss: 0.2775 - accuracy: 0.9018 - val_loss: 1.3975 - val_accuracy: 0.6980\n",
            "Epoch 35/500\n",
            "1563/1563 [==============================] - 6s 4ms/step - loss: 0.2769 - accuracy: 0.9029 - val_loss: 1.3725 - val_accuracy: 0.7010\n",
            "Epoch 36/500\n",
            "1563/1563 [==============================] - 6s 4ms/step - loss: 0.2708 - accuracy: 0.9052 - val_loss: 1.3554 - val_accuracy: 0.7044\n",
            "Epoch 37/500\n",
            "1563/1563 [==============================] - 6s 4ms/step - loss: 0.2685 - accuracy: 0.9051 - val_loss: 1.4293 - val_accuracy: 0.7040\n",
            "Epoch 38/500\n",
            "1563/1563 [==============================] - 6s 4ms/step - loss: 0.2589 - accuracy: 0.9087 - val_loss: 1.4362 - val_accuracy: 0.6999\n",
            "Epoch 39/500\n",
            "1563/1563 [==============================] - 6s 4ms/step - loss: 0.2539 - accuracy: 0.9110 - val_loss: 1.4218 - val_accuracy: 0.7004\n",
            "Epoch 40/500\n",
            "1563/1563 [==============================] - 6s 4ms/step - loss: 0.2483 - accuracy: 0.9130 - val_loss: 1.4930 - val_accuracy: 0.7028\n",
            "Epoch 00040: early stopping\n"
          ],
          "name": "stdout"
        },
        {
          "output_type": "execute_result",
          "data": {
            "text/plain": [
              "<tensorflow.python.keras.callbacks.History at 0x7fddc004be10>"
            ]
          },
          "metadata": {
            "tags": []
          },
          "execution_count": 17
        }
      ]
    },
    {
      "cell_type": "code",
      "metadata": {
        "id": "W-eIxCasDBil",
        "colab": {
          "base_uri": "https://localhost:8080/"
        },
        "outputId": "597b0ec3-3f75-4500-fe99-daacc741738a"
      },
      "source": [
        " c2f3.evaluate(X_test, y_test, batch_size = 32)"
      ],
      "execution_count": null,
      "outputs": [
        {
          "output_type": "stream",
          "text": [
            "313/313 [==============================] - 1s 2ms/step - loss: 1.4930 - accuracy: 0.7028\n"
          ],
          "name": "stdout"
        },
        {
          "output_type": "execute_result",
          "data": {
            "text/plain": [
              "[1.4929782152175903, 0.7027999758720398]"
            ]
          },
          "metadata": {
            "tags": []
          },
          "execution_count": 18
        }
      ]
    },
    {
      "cell_type": "markdown",
      "metadata": {
        "id": "5XYSVtC-DVsz"
      },
      "source": [
        "# **[DIY] Hidden layer에 따른 정확도**"
      ]
    },
    {
      "cell_type": "code",
      "metadata": {
        "id": "OiCc_UO2rGmp",
        "colab": {
          "base_uri": "https://localhost:8080/"
        },
        "outputId": "ddd76d1b-88b0-423d-9734-519585d64591"
      },
      "source": [
        "score1=c2f2.evaluate(X_test, y_test, batch_size = 32)\n",
        "score2=c2f3.evaluate(X_test, y_test, batch_size = 32)\n",
        "losses = [score1[0],score2[0]]\n",
        "accuracies= [score1[1],score2[1]]\n",
        "losses,accuracies"
      ],
      "execution_count": null,
      "outputs": [
        {
          "output_type": "stream",
          "text": [
            "313/313 [==============================] - 1s 2ms/step - loss: 1.5267 - accuracy: 0.6935\n",
            "313/313 [==============================] - 1s 2ms/step - loss: 1.4930 - accuracy: 0.7028\n"
          ],
          "name": "stdout"
        },
        {
          "output_type": "execute_result",
          "data": {
            "text/plain": [
              "([1.526725172996521, 1.4929782152175903],\n",
              " [0.6934999823570251, 0.7027999758720398])"
            ]
          },
          "metadata": {
            "tags": []
          },
          "execution_count": 19
        }
      ]
    },
    {
      "cell_type": "code",
      "metadata": {
        "id": "vZv6a2aVRw9j",
        "colab": {
          "base_uri": "https://localhost:8080/",
          "height": 269
        },
        "outputId": "fcaab5dc-9383-4eb7-f97e-6f88eff8ffca"
      },
      "source": [
        "x = np.arange(2)\n",
        "cnns = ['C2F2','C2F3']\n",
        "\n",
        "plt.bar(x, accuracies)\n",
        "plt.xticks(x, cnns)\n",
        "plt.ylim((.5,1.0))\n",
        "plt.show()"
      ],
      "execution_count": null,
      "outputs": [
        {
          "output_type": "display_data",
          "data": {
            "image/png": "[encoded data removed]",
            "text/plain": [
              "<Figure size 432x288 with 1 Axes>"
            ]
          },
          "metadata": {
            "tags": [],
            "needs_background": "light"
          }
        }
      ]
    },
    {
      "cell_type": "markdown",
      "metadata": {
        "id": "63oPbpPejqOj"
      },
      "source": [
        "## Complex model\n",
        "- C4F5 model\n",
        "\n",
        "![cnn_c4f5.png](https://raw.githubusercontent.com/Redwoods/Py/master//pdm2020/my-note/py-tensorflow/images/cnn_c4f5.png)"
      ]
    },
    {
      "cell_type": "code",
      "metadata": {
        "id": "kSN8pq8DkQ6B"
      },
      "source": [
        "c4f5 = keras.models.Sequential([ \n",
        "    Conv2D(input_shape=(32,32,3),kernel_size=(3,3),strides=(1,1),filters= 64,padding='same',activation='relu'),\n",
        "    MaxPool2D(pool_size=(2,2), strides=(2,2)), \n",
        "    Conv2D(kernel_size=(3,3),strides=(1,1),filters= 128,padding='same',activation='relu'),\n",
        "    MaxPool2D(pool_size=(2,2), strides=(2,2)),\n",
        "    Conv2D(kernel_size=(3,3),strides=(1,1),filters= 256,padding='same',activation='relu'),\n",
        "    MaxPool2D(pool_size=(2,2), strides=(2,2)),\n",
        "    Conv2D(kernel_size=(3,3),strides=(1,1),filters= 512,padding='same',activation='relu'),\n",
        "    MaxPool2D(pool_size=(2,2), strides=(2,2)),\n",
        "    Flatten(), \n",
        "    keras.layers.Dense(128, activation='relu'),  \n",
        "    keras.layers.Dropout(0.25), \n",
        "    keras.layers.Dense(256, activation='relu'),  \n",
        "    keras.layers.Dropout(0.25), \n",
        "    keras.layers.Dense(512, activation='relu'),  \n",
        "    keras.layers.Dropout(0.25), \n",
        "    keras.layers.Dense(1024, activation='relu'),  \n",
        "    keras.layers.Dropout(0.25), \n",
        "    keras.layers.Dense(10, activation='softmax')\n",
        "])\n",
        "\n",
        "c4f5.compile(optimizer='adam',\n",
        "              loss='categorical_crossentropy',\n",
        "              metrics=['accuracy']) "
      ],
      "execution_count": null,
      "outputs": []
    },
    {
      "cell_type": "code",
      "metadata": {
        "colab": {
          "base_uri": "https://localhost:8080/"
        },
        "id": "k7qWzpLRkQ6C",
        "outputId": "2e8e1e1c-b626-4310-abd2-5e1df4e20eed"
      },
      "source": [
        "c4f5.summary()"
      ],
      "execution_count": null,
      "outputs": [
        {
          "output_type": "stream",
          "text": [
            "Model: \"sequential_3\"\n",
            "_________________________________________________________________\n",
            "Layer (type)                 Output Shape              Param #   \n",
            "=================================================================\n",
            "conv2d_6 (Conv2D)            (None, 32, 32, 64)        1792      \n",
            "_________________________________________________________________\n",
            "max_pooling2d_6 (MaxPooling2 (None, 16, 16, 64)        0         \n",
            "_________________________________________________________________\n",
            "conv2d_7 (Conv2D)            (None, 16, 16, 128)       73856     \n",
            "_________________________________________________________________\n",
            "max_pooling2d_7 (MaxPooling2 (None, 8, 8, 128)         0         \n",
            "_________________________________________________________________\n",
            "conv2d_8 (Conv2D)            (None, 8, 8, 256)         295168    \n",
            "_________________________________________________________________\n",
            "max_pooling2d_8 (MaxPooling2 (None, 4, 4, 256)         0         \n",
            "_________________________________________________________________\n",
            "conv2d_9 (Conv2D)            (None, 4, 4, 512)         1180160   \n",
            "_________________________________________________________________\n",
            "max_pooling2d_9 (MaxPooling2 (None, 2, 2, 512)         0         \n",
            "_________________________________________________________________\n",
            "flatten_3 (Flatten)          (None, 2048)              0         \n",
            "_________________________________________________________________\n",
            "dense_7 (Dense)              (None, 128)               262272    \n",
            "_________________________________________________________________\n",
            "dropout_4 (Dropout)          (None, 128)               0         \n",
            "_________________________________________________________________\n",
            "dense_8 (Dense)              (None, 256)               33024     \n",
            "_________________________________________________________________\n",
            "dropout_5 (Dropout)          (None, 256)               0         \n",
            "_________________________________________________________________\n",
            "dense_9 (Dense)              (None, 512)               131584    \n",
            "_________________________________________________________________\n",
            "dropout_6 (Dropout)          (None, 512)               0         \n",
            "_________________________________________________________________\n",
            "dense_10 (Dense)             (None, 1024)              525312    \n",
            "_________________________________________________________________\n",
            "dropout_7 (Dropout)          (None, 1024)              0         \n",
            "_________________________________________________________________\n",
            "dense_11 (Dense)             (None, 10)                10250     \n",
            "=================================================================\n",
            "Total params: 2,513,418\n",
            "Trainable params: 2,513,418\n",
            "Non-trainable params: 0\n",
            "_________________________________________________________________\n"
          ],
          "name": "stdout"
        }
      ]
    },
    {
      "cell_type": "code",
      "metadata": {
        "id": "-pKJWy-2kQ6C"
      },
      "source": [
        "cp_callback = callbacks.ModelCheckpoint(filepath=\"./cifar10_c4f5_best_weights.{epoch:03d}-{val_accuracy:.4f}.hdf5\", \n",
        "                              monitor='val_accuracy', verbose=0, save_best_only=True)\n",
        "es_callback = callbacks.EarlyStopping(monitor='val_accuracy', \n",
        "                            mode='max', verbose=1, patience=25)    # patience=10, 25, 50"
      ],
      "execution_count": null,
      "outputs": []
    },
    {
      "cell_type": "code",
      "metadata": {
        "colab": {
          "base_uri": "https://localhost:8080/"
        },
        "id": "wKdgr9EskQ6C",
        "outputId": "1f016fc6-9651-4d59-f2e9-0e769dbb15a0"
      },
      "source": [
        "c4f5.fit(X_train, y_train, epochs=500, batch_size =32, \n",
        "         callbacks=[cp_callback, es_callback], \n",
        "         validation_data=(X_test,y_test))"
      ],
      "execution_count": null,
      "outputs": [
        {
          "output_type": "stream",
          "text": [
            "Epoch 1/500\n",
            "1563/1563 [==============================] - 11s 7ms/step - loss: 1.6855 - accuracy: 0.3570 - val_loss: 1.3777 - val_accuracy: 0.4850\n",
            "Epoch 2/500\n",
            "1563/1563 [==============================] - 11s 7ms/step - loss: 1.2580 - accuracy: 0.5558 - val_loss: 1.0539 - val_accuracy: 0.6349\n",
            "Epoch 3/500\n",
            "1563/1563 [==============================] - 11s 7ms/step - loss: 1.0557 - accuracy: 0.6342 - val_loss: 0.9830 - val_accuracy: 0.6648\n",
            "Epoch 4/500\n",
            "1563/1563 [==============================] - 11s 7ms/step - loss: 0.9280 - accuracy: 0.6842 - val_loss: 0.9431 - val_accuracy: 0.6819\n",
            "Epoch 5/500\n",
            "1563/1563 [==============================] - 11s 7ms/step - loss: 0.8377 - accuracy: 0.7161 - val_loss: 0.9199 - val_accuracy: 0.6898\n",
            "Epoch 6/500\n",
            "1563/1563 [==============================] - 11s 7ms/step - loss: 0.7677 - accuracy: 0.7429 - val_loss: 0.8453 - val_accuracy: 0.7172\n",
            "Epoch 7/500\n",
            "1563/1563 [==============================] - 11s 7ms/step - loss: 0.7180 - accuracy: 0.7621 - val_loss: 0.8967 - val_accuracy: 0.7015\n",
            "Epoch 8/500\n",
            "1563/1563 [==============================] - 11s 7ms/step - loss: 0.6620 - accuracy: 0.7798 - val_loss: 0.8488 - val_accuracy: 0.7215\n",
            "Epoch 9/500\n",
            "1563/1563 [==============================] - 11s 7ms/step - loss: 0.6214 - accuracy: 0.7956 - val_loss: 0.8483 - val_accuracy: 0.7203\n",
            "Epoch 10/500\n",
            "1563/1563 [==============================] - 11s 7ms/step - loss: 0.5881 - accuracy: 0.8088 - val_loss: 0.9054 - val_accuracy: 0.7174\n",
            "Epoch 11/500\n",
            "1563/1563 [==============================] - 11s 7ms/step - loss: 0.5435 - accuracy: 0.8238 - val_loss: 0.9023 - val_accuracy: 0.7251\n",
            "Epoch 12/500\n",
            "1563/1563 [==============================] - 11s 7ms/step - loss: 0.5189 - accuracy: 0.8309 - val_loss: 0.9087 - val_accuracy: 0.7157\n",
            "Epoch 13/500\n",
            "1563/1563 [==============================] - 11s 7ms/step - loss: 0.4829 - accuracy: 0.8436 - val_loss: 1.1388 - val_accuracy: 0.6986\n",
            "Epoch 14/500\n",
            "1563/1563 [==============================] - 11s 7ms/step - loss: 0.4638 - accuracy: 0.8548 - val_loss: 0.9956 - val_accuracy: 0.7041\n",
            "Epoch 15/500\n",
            "1563/1563 [==============================] - 11s 7ms/step - loss: 0.4440 - accuracy: 0.8579 - val_loss: 0.9084 - val_accuracy: 0.7241\n",
            "Epoch 16/500\n",
            "1563/1563 [==============================] - 11s 7ms/step - loss: 0.4257 - accuracy: 0.8649 - val_loss: 0.9174 - val_accuracy: 0.7303\n",
            "Epoch 17/500\n",
            "1563/1563 [==============================] - 11s 7ms/step - loss: 0.4044 - accuracy: 0.8725 - val_loss: 0.8881 - val_accuracy: 0.7345\n",
            "Epoch 18/500\n",
            "1563/1563 [==============================] - 11s 7ms/step - loss: 0.3901 - accuracy: 0.8780 - val_loss: 0.9468 - val_accuracy: 0.7240\n",
            "Epoch 19/500\n",
            "1563/1563 [==============================] - 11s 7ms/step - loss: 0.3761 - accuracy: 0.8828 - val_loss: 0.9560 - val_accuracy: 0.7373\n",
            "Epoch 20/500\n",
            "1563/1563 [==============================] - 11s 7ms/step - loss: 0.3735 - accuracy: 0.8845 - val_loss: 0.9331 - val_accuracy: 0.7369\n",
            "Epoch 21/500\n",
            "1563/1563 [==============================] - 11s 7ms/step - loss: 0.3555 - accuracy: 0.8922 - val_loss: 0.9603 - val_accuracy: 0.7244\n",
            "Epoch 22/500\n",
            "1563/1563 [==============================] - 11s 7ms/step - loss: 0.3349 - accuracy: 0.8977 - val_loss: 0.9353 - val_accuracy: 0.7354\n",
            "Epoch 23/500\n",
            "1563/1563 [==============================] - 11s 7ms/step - loss: 0.3234 - accuracy: 0.9023 - val_loss: 1.0256 - val_accuracy: 0.7337\n",
            "Epoch 24/500\n",
            "1563/1563 [==============================] - 11s 7ms/step - loss: 0.3428 - accuracy: 0.8958 - val_loss: 1.0070 - val_accuracy: 0.7317\n",
            "Epoch 25/500\n",
            "1563/1563 [==============================] - 11s 7ms/step - loss: 0.3034 - accuracy: 0.9086 - val_loss: 1.0501 - val_accuracy: 0.7285\n",
            "Epoch 26/500\n",
            "1563/1563 [==============================] - 11s 7ms/step - loss: 0.3171 - accuracy: 0.9057 - val_loss: 1.0188 - val_accuracy: 0.7324\n",
            "Epoch 27/500\n",
            "1563/1563 [==============================] - 11s 7ms/step - loss: 0.2860 - accuracy: 0.9152 - val_loss: 1.0305 - val_accuracy: 0.7266\n",
            "Epoch 28/500\n",
            "1563/1563 [==============================] - 11s 7ms/step - loss: 0.2970 - accuracy: 0.9123 - val_loss: 1.0624 - val_accuracy: 0.7180\n",
            "Epoch 29/500\n",
            "1563/1563 [==============================] - 11s 7ms/step - loss: 0.2817 - accuracy: 0.9183 - val_loss: 1.0803 - val_accuracy: 0.7111\n",
            "Epoch 30/500\n",
            "1563/1563 [==============================] - 11s 7ms/step - loss: 0.3049 - accuracy: 0.9112 - val_loss: 0.9731 - val_accuracy: 0.7294\n",
            "Epoch 31/500\n",
            "1563/1563 [==============================] - 11s 7ms/step - loss: 0.2700 - accuracy: 0.9218 - val_loss: 1.0837 - val_accuracy: 0.7236\n",
            "Epoch 32/500\n",
            "1563/1563 [==============================] - 11s 7ms/step - loss: 0.2721 - accuracy: 0.9229 - val_loss: 1.1083 - val_accuracy: 0.7185\n",
            "Epoch 33/500\n",
            "1563/1563 [==============================] - 11s 7ms/step - loss: 0.2682 - accuracy: 0.9236 - val_loss: 1.0310 - val_accuracy: 0.7225\n",
            "Epoch 34/500\n",
            "1563/1563 [==============================] - 11s 7ms/step - loss: 0.2677 - accuracy: 0.9233 - val_loss: 1.1357 - val_accuracy: 0.7269\n",
            "Epoch 35/500\n",
            "1563/1563 [==============================] - 11s 7ms/step - loss: 0.2547 - accuracy: 0.9289 - val_loss: 1.1258 - val_accuracy: 0.7364\n",
            "Epoch 36/500\n",
            "1563/1563 [==============================] - 11s 7ms/step - loss: 0.2501 - accuracy: 0.9322 - val_loss: 1.1072 - val_accuracy: 0.7127\n",
            "Epoch 37/500\n",
            "1563/1563 [==============================] - 11s 7ms/step - loss: 0.2631 - accuracy: 0.9269 - val_loss: 1.0747 - val_accuracy: 0.7258\n",
            "Epoch 38/500\n",
            "1563/1563 [==============================] - 11s 7ms/step - loss: 0.2371 - accuracy: 0.9341 - val_loss: 1.1175 - val_accuracy: 0.7293\n",
            "Epoch 39/500\n",
            "1563/1563 [==============================] - 11s 7ms/step - loss: 0.2756 - accuracy: 0.9252 - val_loss: 1.1222 - val_accuracy: 0.6970\n",
            "Epoch 40/500\n",
            "1563/1563 [==============================] - 11s 7ms/step - loss: 0.2588 - accuracy: 0.9287 - val_loss: 1.1309 - val_accuracy: 0.7226\n",
            "Epoch 41/500\n",
            "1563/1563 [==============================] - 11s 7ms/step - loss: 0.2395 - accuracy: 0.9345 - val_loss: 1.1852 - val_accuracy: 0.7276\n",
            "Epoch 42/500\n",
            "1563/1563 [==============================] - 11s 7ms/step - loss: 0.2507 - accuracy: 0.9338 - val_loss: 1.2394 - val_accuracy: 0.6977\n",
            "Epoch 43/500\n",
            "1563/1563 [==============================] - 11s 7ms/step - loss: 0.2459 - accuracy: 0.9339 - val_loss: 1.1233 - val_accuracy: 0.7255\n",
            "Epoch 44/500\n",
            "1563/1563 [==============================] - 11s 7ms/step - loss: 0.4212 - accuracy: 0.8782 - val_loss: 1.1807 - val_accuracy: 0.7287\n",
            "Epoch 00044: early stopping\n"
          ],
          "name": "stdout"
        },
        {
          "output_type": "execute_result",
          "data": {
            "text/plain": [
              "<tensorflow.python.keras.callbacks.History at 0x7fdd6e367748>"
            ]
          },
          "metadata": {
            "tags": []
          },
          "execution_count": 27
        }
      ]
    },
    {
      "cell_type": "code",
      "metadata": {
        "colab": {
          "base_uri": "https://localhost:8080/"
        },
        "id": "jfwYHBexkQ6D",
        "outputId": "ef2115c2-f78e-4eea-9af1-ad2f07a11905"
      },
      "source": [
        " c4f5.evaluate(X_test, y_test, batch_size = 32)"
      ],
      "execution_count": null,
      "outputs": [
        {
          "output_type": "stream",
          "text": [
            "313/313 [==============================] - 1s 4ms/step - loss: 1.1807 - accuracy: 0.7287\n"
          ],
          "name": "stdout"
        },
        {
          "output_type": "execute_result",
          "data": {
            "text/plain": [
              "[1.1806925535202026, 0.7286999821662903]"
            ]
          },
          "metadata": {
            "tags": []
          },
          "execution_count": 28
        }
      ]
    },
    {
      "cell_type": "markdown",
      "metadata": {
        "id": "3Ub3qGnjs4EI"
      },
      "source": [
        "## Graph of loss and accuracy\n",
        "- model: C4f5"
      ]
    },
    {
      "cell_type": "code",
      "metadata": {
        "id": "NiSAsgsNtUte"
      },
      "source": [
        "c4f5 = keras.models.Sequential([ \n",
        "    Conv2D(input_shape=(32,32,3),kernel_size=(3,3),strides=(1,1),filters= 64,padding='same',activation='relu'),\n",
        "    MaxPool2D(pool_size=(2,2), strides=(2,2)), \n",
        "    Conv2D(kernel_size=(3,3),strides=(1,1),filters= 128,padding='same',activation='relu'),\n",
        "    MaxPool2D(pool_size=(2,2), strides=(2,2)),\n",
        "    Conv2D(kernel_size=(3,3),strides=(1,1),filters= 256,padding='same',activation='relu'),\n",
        "    MaxPool2D(pool_size=(2,2), strides=(2,2)),\n",
        "    Conv2D(kernel_size=(3,3),strides=(1,1),filters= 512,padding='same',activation='relu'),\n",
        "    MaxPool2D(pool_size=(2,2), strides=(2,2)),\n",
        "    Flatten(), \n",
        "    keras.layers.Dense(128, activation='relu'),  \n",
        "    keras.layers.Dropout(0.25), \n",
        "    keras.layers.Dense(256, activation='relu'),  \n",
        "    keras.layers.Dropout(0.25), \n",
        "    keras.layers.Dense(512, activation='relu'),  \n",
        "    keras.layers.Dropout(0.25), \n",
        "    keras.layers.Dense(1024, activation='relu'),  \n",
        "    keras.layers.Dropout(0.25), \n",
        "    keras.layers.Dense(10, activation='softmax')\n",
        "])\n",
        "\n",
        "c4f5.compile(optimizer='adam',\n",
        "              loss='categorical_crossentropy',\n",
        "              metrics=['accuracy'])"
      ],
      "execution_count": null,
      "outputs": []
    },
    {
      "cell_type": "code",
      "metadata": {
        "id": "-Yfqv2AqtUtz",
        "colab": {
          "base_uri": "https://localhost:8080/"
        },
        "outputId": "8621a137-009f-4c43-b9d2-d8913b29eef7"
      },
      "source": [
        "epoch = 44\n",
        "hist = c4f5.fit(X_train, y_train, \n",
        "         epochs = epoch, \n",
        "         batch_size =32, \n",
        "         validation_data=(X_test,y_test))"
      ],
      "execution_count": null,
      "outputs": [
        {
          "output_type": "stream",
          "text": [
            "Epoch 1/44\n",
            "1563/1563 [==============================] - 11s 7ms/step - loss: 1.6737 - accuracy: 0.3584 - val_loss: 1.3561 - val_accuracy: 0.4978\n",
            "Epoch 2/44\n",
            "1563/1563 [==============================] - 11s 7ms/step - loss: 1.2458 - accuracy: 0.5576 - val_loss: 1.1797 - val_accuracy: 0.5841\n",
            "Epoch 3/44\n",
            "1563/1563 [==============================] - 11s 7ms/step - loss: 1.0534 - accuracy: 0.6359 - val_loss: 0.9681 - val_accuracy: 0.6661\n",
            "Epoch 4/44\n",
            "1563/1563 [==============================] - 11s 7ms/step - loss: 0.9261 - accuracy: 0.6850 - val_loss: 0.9370 - val_accuracy: 0.6780\n",
            "Epoch 5/44\n",
            "1563/1563 [==============================] - 11s 7ms/step - loss: 0.8474 - accuracy: 0.7126 - val_loss: 0.8720 - val_accuracy: 0.7059\n",
            "Epoch 6/44\n",
            "1563/1563 [==============================] - 11s 7ms/step - loss: 0.7700 - accuracy: 0.7434 - val_loss: 0.9117 - val_accuracy: 0.6995\n",
            "Epoch 7/44\n",
            "1563/1563 [==============================] - 11s 7ms/step - loss: 0.7081 - accuracy: 0.7651 - val_loss: 0.8824 - val_accuracy: 0.7058\n",
            "Epoch 8/44\n",
            "1563/1563 [==============================] - 11s 7ms/step - loss: 0.6618 - accuracy: 0.7817 - val_loss: 0.8564 - val_accuracy: 0.7163\n",
            "Epoch 9/44\n",
            "1563/1563 [==============================] - 11s 7ms/step - loss: 0.6282 - accuracy: 0.7921 - val_loss: 0.8534 - val_accuracy: 0.7205\n",
            "Epoch 10/44\n",
            "1563/1563 [==============================] - 11s 7ms/step - loss: 0.5833 - accuracy: 0.8118 - val_loss: 0.8229 - val_accuracy: 0.7312\n",
            "Epoch 11/44\n",
            "1563/1563 [==============================] - 11s 7ms/step - loss: 0.5479 - accuracy: 0.8218 - val_loss: 0.8840 - val_accuracy: 0.7101\n",
            "Epoch 12/44\n",
            "1563/1563 [==============================] - 11s 7ms/step - loss: 0.5257 - accuracy: 0.8293 - val_loss: 0.8567 - val_accuracy: 0.7328\n",
            "Epoch 13/44\n",
            "1563/1563 [==============================] - 11s 7ms/step - loss: 0.5010 - accuracy: 0.8413 - val_loss: 0.9004 - val_accuracy: 0.7277\n",
            "Epoch 14/44\n",
            "1563/1563 [==============================] - 11s 7ms/step - loss: 0.4782 - accuracy: 0.8495 - val_loss: 0.8761 - val_accuracy: 0.7265\n",
            "Epoch 15/44\n",
            "1563/1563 [==============================] - 11s 7ms/step - loss: 0.4588 - accuracy: 0.8549 - val_loss: 0.8379 - val_accuracy: 0.7343\n",
            "Epoch 16/44\n",
            "1563/1563 [==============================] - 11s 7ms/step - loss: 0.4417 - accuracy: 0.8612 - val_loss: 0.9079 - val_accuracy: 0.7164\n",
            "Epoch 17/44\n",
            "1563/1563 [==============================] - 11s 7ms/step - loss: 0.4245 - accuracy: 0.8658 - val_loss: 0.8777 - val_accuracy: 0.7307\n",
            "Epoch 18/44\n",
            "1563/1563 [==============================] - 11s 7ms/step - loss: 0.4111 - accuracy: 0.8709 - val_loss: 0.8913 - val_accuracy: 0.7342\n",
            "Epoch 19/44\n",
            "1563/1563 [==============================] - 11s 7ms/step - loss: 0.3924 - accuracy: 0.8798 - val_loss: 0.9073 - val_accuracy: 0.7445\n",
            "Epoch 20/44\n",
            "1563/1563 [==============================] - 11s 7ms/step - loss: 0.3808 - accuracy: 0.8819 - val_loss: 0.9293 - val_accuracy: 0.7362\n",
            "Epoch 21/44\n",
            "1563/1563 [==============================] - 11s 7ms/step - loss: 0.3625 - accuracy: 0.8882 - val_loss: 0.9337 - val_accuracy: 0.7312\n",
            "Epoch 22/44\n",
            "1563/1563 [==============================] - 11s 7ms/step - loss: 0.3681 - accuracy: 0.8886 - val_loss: 0.9499 - val_accuracy: 0.7285\n",
            "Epoch 23/44\n",
            "1563/1563 [==============================] - 11s 7ms/step - loss: 0.3637 - accuracy: 0.8926 - val_loss: 0.8995 - val_accuracy: 0.7437\n",
            "Epoch 24/44\n",
            "1563/1563 [==============================] - 11s 7ms/step - loss: 0.3419 - accuracy: 0.8973 - val_loss: 0.9081 - val_accuracy: 0.7336\n",
            "Epoch 25/44\n",
            "1563/1563 [==============================] - 11s 7ms/step - loss: 0.3331 - accuracy: 0.9018 - val_loss: 1.0779 - val_accuracy: 0.7230\n",
            "Epoch 26/44\n",
            "1563/1563 [==============================] - 11s 7ms/step - loss: 0.3636 - accuracy: 0.8920 - val_loss: 0.8972 - val_accuracy: 0.7369\n",
            "Epoch 27/44\n",
            "1563/1563 [==============================] - 11s 7ms/step - loss: 0.3249 - accuracy: 0.9037 - val_loss: 1.0466 - val_accuracy: 0.7151\n",
            "Epoch 28/44\n",
            "1563/1563 [==============================] - 11s 7ms/step - loss: 0.3219 - accuracy: 0.9054 - val_loss: 0.9590 - val_accuracy: 0.7351\n",
            "Epoch 29/44\n",
            "1563/1563 [==============================] - 11s 7ms/step - loss: 0.3120 - accuracy: 0.9077 - val_loss: 1.0024 - val_accuracy: 0.7208\n",
            "Epoch 30/44\n",
            "1563/1563 [==============================] - 11s 7ms/step - loss: 0.3112 - accuracy: 0.9095 - val_loss: 0.9851 - val_accuracy: 0.7391\n",
            "Epoch 31/44\n",
            "1563/1563 [==============================] - 11s 7ms/step - loss: 0.3366 - accuracy: 0.9027 - val_loss: 0.9844 - val_accuracy: 0.7412\n",
            "Epoch 32/44\n",
            "1563/1563 [==============================] - 11s 7ms/step - loss: 0.2903 - accuracy: 0.9190 - val_loss: 1.0288 - val_accuracy: 0.7315\n",
            "Epoch 33/44\n",
            "1563/1563 [==============================] - 11s 7ms/step - loss: 0.2912 - accuracy: 0.9164 - val_loss: 0.9479 - val_accuracy: 0.7280\n",
            "Epoch 34/44\n",
            "1563/1563 [==============================] - 11s 7ms/step - loss: 0.3000 - accuracy: 0.9142 - val_loss: 0.9953 - val_accuracy: 0.7303\n",
            "Epoch 35/44\n",
            "1563/1563 [==============================] - 11s 7ms/step - loss: 0.3288 - accuracy: 0.9047 - val_loss: 0.9942 - val_accuracy: 0.7401\n",
            "Epoch 36/44\n",
            "1563/1563 [==============================] - 11s 7ms/step - loss: 0.3046 - accuracy: 0.9158 - val_loss: 1.0434 - val_accuracy: 0.7300\n",
            "Epoch 37/44\n",
            "1563/1563 [==============================] - 11s 7ms/step - loss: 0.2751 - accuracy: 0.9228 - val_loss: 1.0490 - val_accuracy: 0.7289\n",
            "Epoch 38/44\n",
            "1563/1563 [==============================] - 11s 7ms/step - loss: 0.2692 - accuracy: 0.9246 - val_loss: 1.1098 - val_accuracy: 0.7255\n",
            "Epoch 39/44\n",
            "1563/1563 [==============================] - 11s 7ms/step - loss: 0.3817 - accuracy: 0.8946 - val_loss: 1.0463 - val_accuracy: 0.7350\n",
            "Epoch 40/44\n",
            "1563/1563 [==============================] - 11s 7ms/step - loss: 0.2591 - accuracy: 0.9284 - val_loss: 1.0065 - val_accuracy: 0.7381\n",
            "Epoch 41/44\n",
            "1563/1563 [==============================] - 11s 7ms/step - loss: 0.2633 - accuracy: 0.9276 - val_loss: 1.1051 - val_accuracy: 0.7349\n",
            "Epoch 42/44\n",
            "1563/1563 [==============================] - 11s 7ms/step - loss: 0.2935 - accuracy: 0.9189 - val_loss: 1.1009 - val_accuracy: 0.7278\n",
            "Epoch 43/44\n",
            "1563/1563 [==============================] - 11s 7ms/step - loss: 0.2826 - accuracy: 0.9215 - val_loss: 1.0358 - val_accuracy: 0.7193\n",
            "Epoch 44/44\n",
            "1563/1563 [==============================] - 11s 7ms/step - loss: 0.3086 - accuracy: 0.9157 - val_loss: 1.0756 - val_accuracy: 0.7008\n"
          ],
          "name": "stdout"
        }
      ]
    },
    {
      "cell_type": "code",
      "metadata": {
        "id": "WNmXXLhvWUiK",
        "colab": {
          "base_uri": "https://localhost:8080/",
          "height": 312
        },
        "outputId": "190fb0bf-14f1-4954-e590-32dcf8f916d1"
      },
      "source": [
        "# Plot loass and accuracy\n",
        "# Plot training & validation accuracy values\n",
        "epochs = epoch\n",
        "loss_list = [100 * i for i in hist.history['loss']]\n",
        "acc_list = [100 * i for i in hist.history['accuracy']]\n",
        "plt.plot(range(1,epochs+1),loss_list) \n",
        "plt.plot(range(1,epochs+1),acc_list) \n",
        "plt.title('Model loss & accuracy')\n",
        "plt.ylabel('Accuracy (%)')\n",
        "plt.xlabel('Epoch')\n",
        "plt.legend(['loss', 'accuracy'], loc='center left')"
      ],
      "execution_count": null,
      "outputs": [
        {
          "output_type": "execute_result",
          "data": {
            "text/plain": [
              "<matplotlib.legend.Legend at 0x7fdd6e1fc2e8>"
            ]
          },
          "metadata": {
            "tags": []
          },
          "execution_count": 31
        },
        {
          "output_type": "display_data",
          "data": {
            "image/png": "[encoded data removed]",
            "text/plain": [
              "<Figure size 432x288 with 1 Axes>"
            ]
          },
          "metadata": {
            "tags": [],
            "needs_background": "light"
          }
        }
      ]
    },
    {
      "cell_type": "code",
      "metadata": {
        "id": "0wNssVPhu_8m"
      },
      "source": [
        "vloss_list = [100 * i for i in hist.history['val_loss']]\n",
        "vacc_list = [100 * i for i in hist.history['val_accuracy']]"
      ],
      "execution_count": null,
      "outputs": []
    },
    {
      "cell_type": "code",
      "metadata": {
        "id": "TX5Uzro4vjaY",
        "colab": {
          "base_uri": "https://localhost:8080/",
          "height": 312
        },
        "outputId": "f57d7843-b65a-4c86-8f43-94927a098099"
      },
      "source": [
        "plt.plot(range(1,epochs+1),vloss_list)  \n",
        "plt.plot(range(1,epochs+1),vacc_list)  \n",
        "plt.title('Model val_loss & val_accuracy')\n",
        "plt.ylabel('Accuracy (%)')\n",
        "plt.xlabel('Epoch')\n",
        "plt.legend(['val_loss', 'val_accuracy'], loc='center left')"
      ],
      "execution_count": null,
      "outputs": [
        {
          "output_type": "execute_result",
          "data": {
            "text/plain": [
              "<matplotlib.legend.Legend at 0x7fdd6e6adeb8>"
            ]
          },
          "metadata": {
            "tags": []
          },
          "execution_count": 33
        },
        {
          "output_type": "display_data",
          "data": {
            "image/png": "[encoded data removed]",
            "text/plain": [
              "<Figure size 432x288 with 1 Axes>"
            ]
          },
          "metadata": {
            "tags": [],
            "needs_background": "light"
          }
        }
      ]
    },
    {
      "cell_type": "code",
      "metadata": {
        "id": "blALTNdyvjVK",
        "colab": {
          "base_uri": "https://localhost:8080/",
          "height": 312
        },
        "outputId": "40a04cf9-33f2-4696-8487-0dec6b86e464"
      },
      "source": [
        "plt.plot(range(1,epochs+1),acc_list)  \n",
        "plt.plot(range(1,epochs+1),vacc_list)  \n",
        "plt.plot(np.argmax(np.array(vacc_list))+1,vacc_list[np.argmax(np.array(vacc_list))], 'r*') \n",
        "plt.title('accuracy vs. val_accuracy, best = ' +str(vacc_list[np.argmax(np.array(vacc_list))]))\n",
        "plt.ylabel('Accuracy (%)')\n",
        "plt.xlabel('Epoch')\n",
        "plt.legend(['accuracy','val_accuracy','best']) #, loc='center bottom')\n"
      ],
      "execution_count": null,
      "outputs": [
        {
          "output_type": "execute_result",
          "data": {
            "text/plain": [
              "<matplotlib.legend.Legend at 0x7fdd6236be48>"
            ]
          },
          "metadata": {
            "tags": []
          },
          "execution_count": 40
        },
        {
          "output_type": "display_data",
          "data": {
            "image/png": "[encoded data removed]",
            "text/plain": [
              "<Figure size 432x288 with 1 Axes>"
            ]
          },
          "metadata": {
            "tags": [],
            "needs_background": "light"
          }
        }
      ]
    },
    {
      "cell_type": "markdown",
      "metadata": {
        "id": "SQ3M6vRVXG78"
      },
      "source": [
        "## cifar10 모델 학습\n",
        "> https://gruuuuu.github.io/machine-learning/cifar10-cnn/#"
      ]
    },
    {
      "cell_type": "markdown",
      "metadata": {
        "id": "gBPKMI4y3fsa"
      },
      "source": [
        "## 모형의 저장\n",
        "\n",
        "- 트레이닝이 끝난 모형은 save 메서드로 가중치와 함께 hdf5 형식으로 저장\n",
        "- load 명령으로 불러 사용"
      ]
    },
    {
      "cell_type": "code",
      "metadata": {
        "id": "KCfbQl2v3fsa"
      },
      "source": [
        "# c2f2.save('fmnist_cnn_best.hdf5')"
      ],
      "execution_count": null,
      "outputs": []
    },
    {
      "cell_type": "code",
      "metadata": {
        "id": "b7-ysIVy3fse",
        "colab": {
          "base_uri": "https://localhost:8080/"
        },
        "outputId": "c95aa6f5-a896-4070-e0be-ab5e9fa2ebee"
      },
      "source": [
        "from keras.models import load_model\n",
        "\n",
        "model = load_model('cifar10_c4f5_best_weights.019-0.7373.hdf5')\n",
        "model.evaluate(X_test, y_test, batch_size=32)"
      ],
      "execution_count": null,
      "outputs": [
        {
          "output_type": "stream",
          "text": [
            "313/313 [==============================] - 1s 3ms/step - loss: 0.9560 - accuracy: 0.7373\n"
          ],
          "name": "stdout"
        },
        {
          "output_type": "execute_result",
          "data": {
            "text/plain": [
              "[0.9560230374336243, 0.7372999787330627]"
            ]
          },
          "metadata": {
            "tags": []
          },
          "execution_count": 41
        }
      ]
    },
    {
      "cell_type": "markdown",
      "metadata": {
        "id": "KF3UzDJotZrh"
      },
      "source": [
        "## Confusion matrix"
      ]
    },
    {
      "cell_type": "code",
      "metadata": {
        "id": "RV1IaOyeu6Em"
      },
      "source": [
        "from sklearn.metrics import confusion_matrix\n",
        "import seaborn as sns"
      ],
      "execution_count": null,
      "outputs": []
    },
    {
      "cell_type": "code",
      "metadata": {
        "id": "Bxs1eC-cuO0Y"
      },
      "source": [
        "predictions = model.predict(X_test)"
      ],
      "execution_count": null,
      "outputs": []
    },
    {
      "cell_type": "code",
      "metadata": {
        "colab": {
          "base_uri": "https://localhost:8080/"
        },
        "id": "6Tqhg-UJujo5",
        "outputId": "e000737e-4e68-4f73-fe52-98659834ec89"
      },
      "source": [
        "predictions.shape"
      ],
      "execution_count": null,
      "outputs": [
        {
          "output_type": "execute_result",
          "data": {
            "text/plain": [
              "(10000, 10)"
            ]
          },
          "metadata": {
            "tags": []
          },
          "execution_count": 45
        }
      ]
    },
    {
      "cell_type": "code",
      "metadata": {
        "colab": {
          "base_uri": "https://localhost:8080/"
        },
        "id": "nZch1JFSufoR",
        "outputId": "1160b444-8b32-4796-d999-535a5f43c93c"
      },
      "source": [
        "predictions0 = np.argmax(predictions, axis=1)\n",
        "predictions0.shape"
      ],
      "execution_count": null,
      "outputs": [
        {
          "output_type": "execute_result",
          "data": {
            "text/plain": [
              "(10000,)"
            ]
          },
          "metadata": {
            "tags": []
          },
          "execution_count": 46
        }
      ]
    },
    {
      "cell_type": "code",
      "metadata": {
        "id": "hiPMQeYXt12l"
      },
      "source": [
        "cm = confusion_matrix(y_test0, predictions0)"
      ],
      "execution_count": null,
      "outputs": []
    },
    {
      "cell_type": "code",
      "metadata": {
        "id": "YITaGwYjvatc"
      },
      "source": [
        "class_names = ['airplane', 'automobile', 'bird', 'cat', 'deer', 'dog', 'frog', 'horse', 'ship', 'truck']"
      ],
      "execution_count": null,
      "outputs": []
    },
    {
      "cell_type": "code",
      "metadata": {
        "colab": {
          "base_uri": "https://localhost:8080/",
          "height": 551
        },
        "id": "2qGHMNU3u8ut",
        "outputId": "6561c5c6-f90f-41b2-cb38-fed8bf9478e1"
      },
      "source": [
        "plt.figure(figsize=(9,9))\n",
        "sns.heatmap(cm, cbar=False, xticklabels=class_names, yticklabels=class_names, fmt='d', annot=True, cmap=plt.cm.coolwarm)\n",
        "plt.xlabel('Predicted')\n",
        "plt.ylabel('Actual')\n",
        "plt.show()"
      ],
      "execution_count": null,
      "outputs": [
        {
          "output_type": "display_data",
          "data": {
            "image/png": "[encoded data removed]",
            "text/plain": [
              "<Figure size 648x648 with 1 Axes>"
            ]
          },
          "metadata": {
            "tags": [],
            "needs_background": "light"
          }
        }
      ]
    },
    {
      "cell_type": "markdown",
      "metadata": {
        "id": "0n2PfCMBh2ju"
      },
      "source": [
        "# State of current scores of cifar-10\n",
        "\n",
        "> https://paperswithcode.com/sota/image-classification-on-cifar-10"
      ]
    },
    {
      "cell_type": "markdown",
      "metadata": {
        "id": "7abyx_2n0_7d"
      },
      "source": [
        "## Transfer learning on cifar-10\n",
        "\n",
        "- https://medium.com/@andrew.dabydeen/transfer-learning-using-resnet50-and-cifar-10-6242ed4b4245\n",
        "\n",
        "- https://medium.com/swlh/comparative-analysis-of-cifar-10-image-classification-transfer-learning-vs-user-defined-cnns-e673685d925e\n",
        "\n",
        "- https://medium.com/swlh/hands-on-the-cifar-10-dataset-with-transfer-learning-2e768fd6c318\n",
        "\n",
        "- https://medium.com/analytics-vidhya/the-transfer-learning-experience-with-vgg16-and-cifar-10-dataset-9b25b306a23f"
      ]
    },
    {
      "cell_type": "code",
      "metadata": {
        "id": "o5iFioeMiAHE"
      },
      "source": [
        ""
      ],
      "execution_count": null,
      "outputs": []
    }
  ]
}