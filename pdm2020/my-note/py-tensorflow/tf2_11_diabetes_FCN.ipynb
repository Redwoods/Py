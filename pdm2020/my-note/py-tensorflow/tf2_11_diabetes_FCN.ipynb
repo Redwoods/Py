{
  "nbformat": 4,
  "nbformat_minor": 0,
  "metadata": {
    "kernelspec": {
      "display_name": "Python 3",
      "language": "python",
      "name": "python3"
    },
    "language_info": {
      "codemirror_mode": {
        "name": "ipython",
        "version": 3
      },
      "file_extension": ".py",
      "mimetype": "text/x-python",
      "name": "python",
      "nbconvert_exporter": "python",
      "pygments_lexer": "ipython3",
      "version": "3.6.5"
    },
    "colab": {
      "name": "tf2_11_diabetes_FCN.ipynb",
      "provenance": [],
      "collapsed_sections": [],
      "include_colab_link": true
    }
  },
  "cells": [
    {
      "cell_type": "markdown",
      "metadata": {
        "id": "view-in-github",
        "colab_type": "text"
      },
      "source": [
        "<a href=\"https://colab.research.google.com/github/Redwoods/Py/blob/master/pdm2020/my-note/py-tensorflow/tf2_11_diabetes_FCN.ipynb\" target=\"_parent\"><img src=\"https://colab.research.google.com/assets/colab-badge.svg\" alt=\"Open In Colab\"/></a>"
      ]
    },
    {
      "cell_type": "markdown",
      "metadata": {
        "id": "nOvJjCFrkWDc"
      },
      "source": [
        "# **DL: FCN of Pima-Indians-Diabetes-Data** \n",
        "\n",
        "> https://medium.com/@soumen.atta/analyzing-pima-indians-diabetes-data-using-python-89a021b5f4eb\n"
      ]
    },
    {
      "cell_type": "code",
      "metadata": {
        "_cell_guid": "8e27055d-7b00-49f6-b0e8-f53ff433ddca",
        "_uuid": "1e1e2b84-2d40-497b-92bd-f238f939cfa8",
        "id": "WUOW3NKRkWDd",
        "colab": {
          "base_uri": "https://localhost:8080/"
        },
        "outputId": "cd64e22d-4a7e-4630-df7d-f1c7c6eda818"
      },
      "source": [
        "# Load the required packages \n",
        "import numpy as np\n",
        "import tensorflow as tf\n",
        "from tensorflow import keras\n",
        "import pandas as pd\n",
        "from pandas import read_csv\n",
        "import matplotlib.pyplot as plt\n",
        "%matplotlib inline\n",
        "\n",
        "tf.random.set_seed(0)\n",
        "\n",
        "print(tf.__version__)"
      ],
      "execution_count": 1,
      "outputs": [
        {
          "output_type": "stream",
          "name": "stdout",
          "text": [
            "2.7.0\n"
          ]
        }
      ]
    },
    {
      "cell_type": "markdown",
      "metadata": {
        "id": "TcfPniN2kWDg"
      },
      "source": [
        "**Load CSV file using Pandas**"
      ]
    },
    {
      "cell_type": "code",
      "metadata": {
        "id": "Ahd9x_NVkWDg",
        "colab": {
          "base_uri": "https://localhost:8080/"
        },
        "outputId": "e29d8abc-3609-4ca5-8b25-fa8bc99d624e"
      },
      "source": [
        "# Specify the file name \n",
        "url = \"https://github.com/Redwoods/Py/raw/master/pdm2020/my-note/py-pandas/data/diabetes.csv\"\n",
        "filename = url\n",
        "# filename = 'diabetes.csv'  # access to local file\n",
        "\n",
        "# Read the data \n",
        "data = read_csv(filename) \n",
        "\n",
        "# Print the shape \n",
        "data.shape"
      ],
      "execution_count": 2,
      "outputs": [
        {
          "output_type": "execute_result",
          "data": {
            "text/plain": [
              "(768, 9)"
            ]
          },
          "metadata": {},
          "execution_count": 2
        }
      ]
    },
    {
      "cell_type": "code",
      "metadata": {
        "id": "q_g68MTvkWDi",
        "colab": {
          "base_uri": "https://localhost:8080/",
          "height": 205
        },
        "outputId": "b5b34ef8-686d-4f39-c779-43982c61a2e0"
      },
      "source": [
        "# Print the first 5 rows \n",
        "data.head()"
      ],
      "execution_count": 3,
      "outputs": [
        {
          "output_type": "execute_result",
          "data": {
            "text/html": [
              "<div>\n",
              "<style scoped>\n",
              "    .dataframe tbody tr th:only-of-type {\n",
              "        vertical-align: middle;\n",
              "    }\n",
              "\n",
              "    .dataframe tbody tr th {\n",
              "        vertical-align: top;\n",
              "    }\n",
              "\n",
              "    .dataframe thead th {\n",
              "        text-align: right;\n",
              "    }\n",
              "</style>\n",
              "<table border=\"1\" class=\"dataframe\">\n",
              "  <thead>\n",
              "    <tr style=\"text-align: right;\">\n",
              "      <th></th>\n",
              "      <th>Pregnancies</th>\n",
              "      <th>Glucose</th>\n",
              "      <th>BloodPressure</th>\n",
              "      <th>SkinThickness</th>\n",
              "      <th>Insulin</th>\n",
              "      <th>BMI</th>\n",
              "      <th>DiabetesPedigreeFunction</th>\n",
              "      <th>Age</th>\n",
              "      <th>Outcome</th>\n",
              "    </tr>\n",
              "  </thead>\n",
              "  <tbody>\n",
              "    <tr>\n",
              "      <th>0</th>\n",
              "      <td>6</td>\n",
              "      <td>148</td>\n",
              "      <td>72</td>\n",
              "      <td>35</td>\n",
              "      <td>0</td>\n",
              "      <td>33.6</td>\n",
              "      <td>0.627</td>\n",
              "      <td>50</td>\n",
              "      <td>1</td>\n",
              "    </tr>\n",
              "    <tr>\n",
              "      <th>1</th>\n",
              "      <td>1</td>\n",
              "      <td>85</td>\n",
              "      <td>66</td>\n",
              "      <td>29</td>\n",
              "      <td>0</td>\n",
              "      <td>26.6</td>\n",
              "      <td>0.351</td>\n",
              "      <td>31</td>\n",
              "      <td>0</td>\n",
              "    </tr>\n",
              "    <tr>\n",
              "      <th>2</th>\n",
              "      <td>8</td>\n",
              "      <td>183</td>\n",
              "      <td>64</td>\n",
              "      <td>0</td>\n",
              "      <td>0</td>\n",
              "      <td>23.3</td>\n",
              "      <td>0.672</td>\n",
              "      <td>32</td>\n",
              "      <td>1</td>\n",
              "    </tr>\n",
              "    <tr>\n",
              "      <th>3</th>\n",
              "      <td>1</td>\n",
              "      <td>89</td>\n",
              "      <td>66</td>\n",
              "      <td>23</td>\n",
              "      <td>94</td>\n",
              "      <td>28.1</td>\n",
              "      <td>0.167</td>\n",
              "      <td>21</td>\n",
              "      <td>0</td>\n",
              "    </tr>\n",
              "    <tr>\n",
              "      <th>4</th>\n",
              "      <td>0</td>\n",
              "      <td>137</td>\n",
              "      <td>40</td>\n",
              "      <td>35</td>\n",
              "      <td>168</td>\n",
              "      <td>43.1</td>\n",
              "      <td>2.288</td>\n",
              "      <td>33</td>\n",
              "      <td>1</td>\n",
              "    </tr>\n",
              "  </tbody>\n",
              "</table>\n",
              "</div>"
            ],
            "text/plain": [
              "   Pregnancies  Glucose  BloodPressure  ...  DiabetesPedigreeFunction  Age  Outcome\n",
              "0            6      148             72  ...                     0.627   50        1\n",
              "1            1       85             66  ...                     0.351   31        0\n",
              "2            8      183             64  ...                     0.672   32        1\n",
              "3            1       89             66  ...                     0.167   21        0\n",
              "4            0      137             40  ...                     2.288   33        1\n",
              "\n",
              "[5 rows x 9 columns]"
            ]
          },
          "metadata": {},
          "execution_count": 3
        }
      ]
    },
    {
      "cell_type": "code",
      "metadata": {
        "id": "wAFYD041Xb1A"
      },
      "source": [
        "# import TF2 submodules\n",
        "from tensorflow.keras import layers, models, callbacks\n",
        "from keras.models import Sequential\n",
        "from keras.layers import Dense, Conv2D, MaxPool2D, Flatten\n",
        "from keras.callbacks import ModelCheckpoint, EarlyStopping"
      ],
      "execution_count": 4,
      "outputs": []
    },
    {
      "cell_type": "code",
      "metadata": {
        "colab": {
          "base_uri": "https://localhost:8080/"
        },
        "id": "Xr_Qs9rnW3Bu",
        "outputId": "d5417b41-caa9-4143-cd44-75e58849e134"
      },
      "source": [
        "# Split dataset to train & test set\n",
        "X_train = data.iloc[:600,0:8]\n",
        "y_train = data.iloc[:600,8]\n",
        "X_test = data.iloc[600:,0:8]\n",
        "y_test = data.iloc[600:,8]\n",
        "X_train.shape,y_train.shape,X_test.shape,y_test.shape"
      ],
      "execution_count": 5,
      "outputs": [
        {
          "output_type": "execute_result",
          "data": {
            "text/plain": [
              "((600, 8), (600,), (168, 8), (168,))"
            ]
          },
          "metadata": {},
          "execution_count": 5
        }
      ]
    },
    {
      "cell_type": "markdown",
      "metadata": {
        "id": "qJ305pLHm5HF"
      },
      "source": [
        "## Deep learning of Diabetes dataset\n",
        "- noDM(0), DM(1)\n",
        "\n",
        "### output through sigmoid function in the output layer\n",
        "- 0 if output < 0.5\n",
        "- 1 if output >= 0.5"
      ]
    },
    {
      "cell_type": "code",
      "metadata": {
        "id": "0B5Xc0atXtuC"
      },
      "source": [
        "# define the keras model: simplr FCN\n",
        "model = Sequential()\n",
        "model.add(Dense(12, input_dim=8, activation='relu'))\n",
        "model.add(Dense(8, activation='relu'))\n",
        "model.add(Dense(1, activation='sigmoid'))\n",
        "# compile the keras model\n",
        "model.compile(loss='binary_crossentropy', \n",
        "              optimizer='adam', \n",
        "              metrics=['accuracy'])\n"
      ],
      "execution_count": 7,
      "outputs": []
    },
    {
      "cell_type": "code",
      "metadata": {
        "colab": {
          "base_uri": "https://localhost:8080/"
        },
        "id": "ROjU8SG-X2XU",
        "outputId": "11737c2b-7c4a-45b4-e75b-9e7178b5c7b2"
      },
      "source": [
        "# fit the keras model on the dataset\n",
        "hist = model.fit(X_train, y_train, epochs=150, batch_size=10, verbose=1, \n",
        "                 validation_data=(X_test, y_test))\n"
      ],
      "execution_count": 8,
      "outputs": [
        {
          "output_type": "stream",
          "name": "stdout",
          "text": [
            "Epoch 1/150\n",
            "60/60 [==============================] - 1s 6ms/step - loss: 2.6765 - accuracy: 0.5950 - val_loss: 1.7975 - val_accuracy: 0.5536\n",
            "Epoch 2/150\n",
            "60/60 [==============================] - 0s 2ms/step - loss: 1.3230 - accuracy: 0.5700 - val_loss: 1.0314 - val_accuracy: 0.5238\n",
            "Epoch 3/150\n",
            "60/60 [==============================] - 0s 2ms/step - loss: 0.8963 - accuracy: 0.5917 - val_loss: 0.8072 - val_accuracy: 0.5119\n",
            "Epoch 4/150\n",
            "60/60 [==============================] - 0s 2ms/step - loss: 0.8186 - accuracy: 0.5700 - val_loss: 0.7913 - val_accuracy: 0.6012\n",
            "Epoch 5/150\n",
            "60/60 [==============================] - 0s 2ms/step - loss: 0.7623 - accuracy: 0.6550 - val_loss: 0.7398 - val_accuracy: 0.6310\n",
            "Epoch 6/150\n",
            "60/60 [==============================] - 0s 2ms/step - loss: 0.7592 - accuracy: 0.6500 - val_loss: 0.7433 - val_accuracy: 0.6310\n",
            "Epoch 7/150\n",
            "60/60 [==============================] - 0s 2ms/step - loss: 0.7168 - accuracy: 0.6550 - val_loss: 0.7227 - val_accuracy: 0.6250\n",
            "Epoch 8/150\n",
            "60/60 [==============================] - 0s 2ms/step - loss: 0.6934 - accuracy: 0.6633 - val_loss: 0.6968 - val_accuracy: 0.6429\n",
            "Epoch 9/150\n",
            "60/60 [==============================] - 0s 2ms/step - loss: 0.6822 - accuracy: 0.6550 - val_loss: 0.6518 - val_accuracy: 0.6607\n",
            "Epoch 10/150\n",
            "60/60 [==============================] - 0s 3ms/step - loss: 0.6574 - accuracy: 0.6567 - val_loss: 0.6234 - val_accuracy: 0.6607\n",
            "Epoch 11/150\n",
            "60/60 [==============================] - 0s 2ms/step - loss: 0.6289 - accuracy: 0.6600 - val_loss: 0.6130 - val_accuracy: 0.6607\n",
            "Epoch 12/150\n",
            "60/60 [==============================] - 0s 2ms/step - loss: 0.6244 - accuracy: 0.6700 - val_loss: 0.6115 - val_accuracy: 0.6548\n",
            "Epoch 13/150\n",
            "60/60 [==============================] - 0s 2ms/step - loss: 0.6193 - accuracy: 0.6700 - val_loss: 0.6037 - val_accuracy: 0.6548\n",
            "Epoch 14/150\n",
            "60/60 [==============================] - 0s 2ms/step - loss: 0.6120 - accuracy: 0.6817 - val_loss: 0.6323 - val_accuracy: 0.6250\n",
            "Epoch 15/150\n",
            "60/60 [==============================] - 0s 2ms/step - loss: 0.6059 - accuracy: 0.6817 - val_loss: 0.6036 - val_accuracy: 0.6607\n",
            "Epoch 16/150\n",
            "60/60 [==============================] - 0s 3ms/step - loss: 0.5992 - accuracy: 0.6800 - val_loss: 0.6194 - val_accuracy: 0.6548\n",
            "Epoch 17/150\n",
            "60/60 [==============================] - 0s 2ms/step - loss: 0.6120 - accuracy: 0.6717 - val_loss: 0.6071 - val_accuracy: 0.6726\n",
            "Epoch 18/150\n",
            "60/60 [==============================] - 0s 3ms/step - loss: 0.5964 - accuracy: 0.6850 - val_loss: 0.6083 - val_accuracy: 0.6548\n",
            "Epoch 19/150\n",
            "60/60 [==============================] - 0s 2ms/step - loss: 0.6001 - accuracy: 0.6867 - val_loss: 0.6060 - val_accuracy: 0.6905\n",
            "Epoch 20/150\n",
            "60/60 [==============================] - 0s 2ms/step - loss: 0.5887 - accuracy: 0.6750 - val_loss: 0.6136 - val_accuracy: 0.6607\n",
            "Epoch 21/150\n",
            "60/60 [==============================] - 0s 2ms/step - loss: 0.5900 - accuracy: 0.6850 - val_loss: 0.6372 - val_accuracy: 0.6548\n",
            "Epoch 22/150\n",
            "60/60 [==============================] - 0s 3ms/step - loss: 0.5917 - accuracy: 0.6800 - val_loss: 0.6081 - val_accuracy: 0.6726\n",
            "Epoch 23/150\n",
            "60/60 [==============================] - 0s 2ms/step - loss: 0.5867 - accuracy: 0.6883 - val_loss: 0.6093 - val_accuracy: 0.6726\n",
            "Epoch 24/150\n",
            "60/60 [==============================] - 0s 2ms/step - loss: 0.5909 - accuracy: 0.6783 - val_loss: 0.6506 - val_accuracy: 0.6548\n",
            "Epoch 25/150\n",
            "60/60 [==============================] - 0s 2ms/step - loss: 0.5877 - accuracy: 0.6917 - val_loss: 0.6145 - val_accuracy: 0.6548\n",
            "Epoch 26/150\n",
            "60/60 [==============================] - 0s 2ms/step - loss: 0.5867 - accuracy: 0.6767 - val_loss: 0.6165 - val_accuracy: 0.6429\n",
            "Epoch 27/150\n",
            "60/60 [==============================] - 0s 2ms/step - loss: 0.5855 - accuracy: 0.6900 - val_loss: 0.6103 - val_accuracy: 0.6607\n",
            "Epoch 28/150\n",
            "60/60 [==============================] - 0s 2ms/step - loss: 0.5873 - accuracy: 0.6867 - val_loss: 0.6070 - val_accuracy: 0.6726\n",
            "Epoch 29/150\n",
            "60/60 [==============================] - 0s 2ms/step - loss: 0.5873 - accuracy: 0.6767 - val_loss: 0.6075 - val_accuracy: 0.6726\n",
            "Epoch 30/150\n",
            "60/60 [==============================] - 0s 2ms/step - loss: 0.5829 - accuracy: 0.6933 - val_loss: 0.6113 - val_accuracy: 0.6726\n",
            "Epoch 31/150\n",
            "60/60 [==============================] - 0s 2ms/step - loss: 0.5824 - accuracy: 0.6800 - val_loss: 0.6182 - val_accuracy: 0.6429\n",
            "Epoch 32/150\n",
            "60/60 [==============================] - 0s 2ms/step - loss: 0.5848 - accuracy: 0.6950 - val_loss: 0.6389 - val_accuracy: 0.6369\n",
            "Epoch 33/150\n",
            "60/60 [==============================] - 0s 2ms/step - loss: 0.5952 - accuracy: 0.6800 - val_loss: 0.6073 - val_accuracy: 0.6607\n",
            "Epoch 34/150\n",
            "60/60 [==============================] - 0s 2ms/step - loss: 0.5803 - accuracy: 0.6900 - val_loss: 0.6378 - val_accuracy: 0.6369\n",
            "Epoch 35/150\n",
            "60/60 [==============================] - 0s 2ms/step - loss: 0.5909 - accuracy: 0.6850 - val_loss: 0.6133 - val_accuracy: 0.6548\n",
            "Epoch 36/150\n",
            "60/60 [==============================] - 0s 2ms/step - loss: 0.5848 - accuracy: 0.6833 - val_loss: 0.6041 - val_accuracy: 0.6726\n",
            "Epoch 37/150\n",
            "60/60 [==============================] - 0s 3ms/step - loss: 0.5854 - accuracy: 0.6800 - val_loss: 0.6064 - val_accuracy: 0.6726\n",
            "Epoch 38/150\n",
            "60/60 [==============================] - 0s 2ms/step - loss: 0.5811 - accuracy: 0.6850 - val_loss: 0.6172 - val_accuracy: 0.6667\n",
            "Epoch 39/150\n",
            "60/60 [==============================] - 0s 2ms/step - loss: 0.5838 - accuracy: 0.6800 - val_loss: 0.6078 - val_accuracy: 0.6786\n",
            "Epoch 40/150\n",
            "60/60 [==============================] - 0s 2ms/step - loss: 0.5848 - accuracy: 0.6850 - val_loss: 0.6064 - val_accuracy: 0.6726\n",
            "Epoch 41/150\n",
            "60/60 [==============================] - 0s 2ms/step - loss: 0.5824 - accuracy: 0.6833 - val_loss: 0.6394 - val_accuracy: 0.6310\n",
            "Epoch 42/150\n",
            "60/60 [==============================] - 0s 2ms/step - loss: 0.5854 - accuracy: 0.6817 - val_loss: 0.6172 - val_accuracy: 0.6607\n",
            "Epoch 43/150\n",
            "60/60 [==============================] - 0s 2ms/step - loss: 0.5715 - accuracy: 0.7000 - val_loss: 0.6138 - val_accuracy: 0.6548\n",
            "Epoch 44/150\n",
            "60/60 [==============================] - 0s 2ms/step - loss: 0.5804 - accuracy: 0.6883 - val_loss: 0.6066 - val_accuracy: 0.6726\n",
            "Epoch 45/150\n",
            "60/60 [==============================] - 0s 3ms/step - loss: 0.5798 - accuracy: 0.6850 - val_loss: 0.6130 - val_accuracy: 0.6667\n",
            "Epoch 46/150\n",
            "60/60 [==============================] - 0s 2ms/step - loss: 0.5775 - accuracy: 0.6900 - val_loss: 0.6033 - val_accuracy: 0.6667\n",
            "Epoch 47/150\n",
            "60/60 [==============================] - 0s 2ms/step - loss: 0.5819 - accuracy: 0.6883 - val_loss: 0.6099 - val_accuracy: 0.6607\n",
            "Epoch 48/150\n",
            "60/60 [==============================] - 0s 2ms/step - loss: 0.5867 - accuracy: 0.6867 - val_loss: 0.6045 - val_accuracy: 0.6726\n",
            "Epoch 49/150\n",
            "60/60 [==============================] - 0s 2ms/step - loss: 0.5828 - accuracy: 0.6917 - val_loss: 0.6129 - val_accuracy: 0.6667\n",
            "Epoch 50/150\n",
            "60/60 [==============================] - 0s 2ms/step - loss: 0.5780 - accuracy: 0.6917 - val_loss: 0.6087 - val_accuracy: 0.6726\n",
            "Epoch 51/150\n",
            "60/60 [==============================] - 0s 2ms/step - loss: 0.5867 - accuracy: 0.6783 - val_loss: 0.6062 - val_accuracy: 0.6607\n",
            "Epoch 52/150\n",
            "60/60 [==============================] - 0s 2ms/step - loss: 0.5796 - accuracy: 0.6750 - val_loss: 0.6075 - val_accuracy: 0.6726\n",
            "Epoch 53/150\n",
            "60/60 [==============================] - 0s 2ms/step - loss: 0.5767 - accuracy: 0.6917 - val_loss: 0.6120 - val_accuracy: 0.6488\n",
            "Epoch 54/150\n",
            "60/60 [==============================] - 0s 2ms/step - loss: 0.5854 - accuracy: 0.6817 - val_loss: 0.6141 - val_accuracy: 0.6607\n",
            "Epoch 55/150\n",
            "60/60 [==============================] - 0s 2ms/step - loss: 0.5800 - accuracy: 0.6983 - val_loss: 0.6185 - val_accuracy: 0.6488\n",
            "Epoch 56/150\n",
            "60/60 [==============================] - 0s 2ms/step - loss: 0.5809 - accuracy: 0.6817 - val_loss: 0.6073 - val_accuracy: 0.6667\n",
            "Epoch 57/150\n",
            "60/60 [==============================] - 0s 2ms/step - loss: 0.5823 - accuracy: 0.6950 - val_loss: 0.6490 - val_accuracy: 0.6190\n",
            "Epoch 58/150\n",
            "60/60 [==============================] - 0s 2ms/step - loss: 0.5996 - accuracy: 0.6583 - val_loss: 0.6109 - val_accuracy: 0.6548\n",
            "Epoch 59/150\n",
            "60/60 [==============================] - 0s 2ms/step - loss: 0.5731 - accuracy: 0.7050 - val_loss: 0.6302 - val_accuracy: 0.6250\n",
            "Epoch 60/150\n",
            "60/60 [==============================] - 0s 2ms/step - loss: 0.5784 - accuracy: 0.6983 - val_loss: 0.6050 - val_accuracy: 0.6667\n",
            "Epoch 61/150\n",
            "60/60 [==============================] - 0s 3ms/step - loss: 0.5809 - accuracy: 0.6917 - val_loss: 0.6021 - val_accuracy: 0.6786\n",
            "Epoch 62/150\n",
            "60/60 [==============================] - 0s 2ms/step - loss: 0.5717 - accuracy: 0.6933 - val_loss: 0.6022 - val_accuracy: 0.6786\n",
            "Epoch 63/150\n",
            "60/60 [==============================] - 0s 3ms/step - loss: 0.5753 - accuracy: 0.6933 - val_loss: 0.6333 - val_accuracy: 0.6310\n",
            "Epoch 64/150\n",
            "60/60 [==============================] - 0s 2ms/step - loss: 0.5826 - accuracy: 0.6917 - val_loss: 0.6035 - val_accuracy: 0.6726\n",
            "Epoch 65/150\n",
            "60/60 [==============================] - 0s 2ms/step - loss: 0.5859 - accuracy: 0.6833 - val_loss: 0.6047 - val_accuracy: 0.6667\n",
            "Epoch 66/150\n",
            "60/60 [==============================] - 0s 2ms/step - loss: 0.5800 - accuracy: 0.6917 - val_loss: 0.6056 - val_accuracy: 0.6607\n",
            "Epoch 67/150\n",
            "60/60 [==============================] - 0s 2ms/step - loss: 0.5737 - accuracy: 0.6900 - val_loss: 0.6039 - val_accuracy: 0.6607\n",
            "Epoch 68/150\n",
            "60/60 [==============================] - 0s 2ms/step - loss: 0.5821 - accuracy: 0.6867 - val_loss: 0.6039 - val_accuracy: 0.6667\n",
            "Epoch 69/150\n",
            "60/60 [==============================] - 0s 2ms/step - loss: 0.5741 - accuracy: 0.7000 - val_loss: 0.6009 - val_accuracy: 0.6607\n",
            "Epoch 70/150\n",
            "60/60 [==============================] - 0s 2ms/step - loss: 0.5820 - accuracy: 0.6850 - val_loss: 0.6408 - val_accuracy: 0.6190\n",
            "Epoch 71/150\n",
            "60/60 [==============================] - 0s 2ms/step - loss: 0.5818 - accuracy: 0.6833 - val_loss: 0.6011 - val_accuracy: 0.6786\n",
            "Epoch 72/150\n",
            "60/60 [==============================] - 0s 2ms/step - loss: 0.5697 - accuracy: 0.6983 - val_loss: 0.6094 - val_accuracy: 0.6667\n",
            "Epoch 73/150\n",
            "60/60 [==============================] - 0s 2ms/step - loss: 0.5760 - accuracy: 0.6933 - val_loss: 0.5993 - val_accuracy: 0.6786\n",
            "Epoch 74/150\n",
            "60/60 [==============================] - 0s 2ms/step - loss: 0.5740 - accuracy: 0.6900 - val_loss: 0.6066 - val_accuracy: 0.6548\n",
            "Epoch 75/150\n",
            "60/60 [==============================] - 0s 2ms/step - loss: 0.5795 - accuracy: 0.6833 - val_loss: 0.6388 - val_accuracy: 0.6607\n",
            "Epoch 76/150\n",
            "60/60 [==============================] - 0s 2ms/step - loss: 0.5972 - accuracy: 0.6850 - val_loss: 0.6144 - val_accuracy: 0.6488\n",
            "Epoch 77/150\n",
            "60/60 [==============================] - 0s 3ms/step - loss: 0.5746 - accuracy: 0.6883 - val_loss: 0.6140 - val_accuracy: 0.6607\n",
            "Epoch 78/150\n",
            "60/60 [==============================] - 0s 2ms/step - loss: 0.5760 - accuracy: 0.6950 - val_loss: 0.6000 - val_accuracy: 0.6726\n",
            "Epoch 79/150\n",
            "60/60 [==============================] - 0s 2ms/step - loss: 0.5754 - accuracy: 0.6967 - val_loss: 0.6073 - val_accuracy: 0.6607\n",
            "Epoch 80/150\n",
            "60/60 [==============================] - 0s 2ms/step - loss: 0.5709 - accuracy: 0.7050 - val_loss: 0.5982 - val_accuracy: 0.6786\n",
            "Epoch 81/150\n",
            "60/60 [==============================] - 0s 3ms/step - loss: 0.5700 - accuracy: 0.7000 - val_loss: 0.6121 - val_accuracy: 0.6548\n",
            "Epoch 82/150\n",
            "60/60 [==============================] - 0s 2ms/step - loss: 0.5715 - accuracy: 0.6917 - val_loss: 0.6021 - val_accuracy: 0.6607\n",
            "Epoch 83/150\n",
            "60/60 [==============================] - 0s 2ms/step - loss: 0.5703 - accuracy: 0.7050 - val_loss: 0.6005 - val_accuracy: 0.6786\n",
            "Epoch 84/150\n",
            "60/60 [==============================] - 0s 2ms/step - loss: 0.5734 - accuracy: 0.7000 - val_loss: 0.5966 - val_accuracy: 0.6786\n",
            "Epoch 85/150\n",
            "60/60 [==============================] - 0s 3ms/step - loss: 0.5688 - accuracy: 0.7033 - val_loss: 0.6075 - val_accuracy: 0.6607\n",
            "Epoch 86/150\n",
            "60/60 [==============================] - 0s 2ms/step - loss: 0.5717 - accuracy: 0.6983 - val_loss: 0.5964 - val_accuracy: 0.6726\n",
            "Epoch 87/150\n",
            "60/60 [==============================] - 0s 2ms/step - loss: 0.5678 - accuracy: 0.7033 - val_loss: 0.6320 - val_accuracy: 0.6190\n",
            "Epoch 88/150\n",
            "60/60 [==============================] - 0s 2ms/step - loss: 0.5694 - accuracy: 0.6900 - val_loss: 0.5988 - val_accuracy: 0.6667\n",
            "Epoch 89/150\n",
            "60/60 [==============================] - 0s 2ms/step - loss: 0.5742 - accuracy: 0.6933 - val_loss: 0.5993 - val_accuracy: 0.6667\n",
            "Epoch 90/150\n",
            "60/60 [==============================] - 0s 2ms/step - loss: 0.5742 - accuracy: 0.7000 - val_loss: 0.6017 - val_accuracy: 0.6845\n",
            "Epoch 91/150\n",
            "60/60 [==============================] - 0s 2ms/step - loss: 0.5701 - accuracy: 0.7000 - val_loss: 0.6072 - val_accuracy: 0.6667\n",
            "Epoch 92/150\n",
            "60/60 [==============================] - 0s 2ms/step - loss: 0.5718 - accuracy: 0.6983 - val_loss: 0.6084 - val_accuracy: 0.6429\n",
            "Epoch 93/150\n",
            "60/60 [==============================] - 0s 2ms/step - loss: 0.5792 - accuracy: 0.6850 - val_loss: 0.6262 - val_accuracy: 0.6369\n",
            "Epoch 94/150\n",
            "60/60 [==============================] - 0s 2ms/step - loss: 0.5720 - accuracy: 0.6850 - val_loss: 0.6113 - val_accuracy: 0.6607\n",
            "Epoch 95/150\n",
            "60/60 [==============================] - 0s 2ms/step - loss: 0.5744 - accuracy: 0.6950 - val_loss: 0.6055 - val_accuracy: 0.6548\n",
            "Epoch 96/150\n",
            "60/60 [==============================] - 0s 2ms/step - loss: 0.5723 - accuracy: 0.6917 - val_loss: 0.6071 - val_accuracy: 0.6488\n",
            "Epoch 97/150\n",
            "60/60 [==============================] - 0s 2ms/step - loss: 0.5729 - accuracy: 0.6950 - val_loss: 0.5957 - val_accuracy: 0.6786\n",
            "Epoch 98/150\n",
            "60/60 [==============================] - 0s 2ms/step - loss: 0.5722 - accuracy: 0.6967 - val_loss: 0.6016 - val_accuracy: 0.6548\n",
            "Epoch 99/150\n",
            "60/60 [==============================] - 0s 3ms/step - loss: 0.5698 - accuracy: 0.6933 - val_loss: 0.5979 - val_accuracy: 0.6786\n",
            "Epoch 100/150\n",
            "60/60 [==============================] - 0s 2ms/step - loss: 0.5713 - accuracy: 0.7050 - val_loss: 0.6000 - val_accuracy: 0.6726\n",
            "Epoch 101/150\n",
            "60/60 [==============================] - 0s 2ms/step - loss: 0.5725 - accuracy: 0.7017 - val_loss: 0.6072 - val_accuracy: 0.6667\n",
            "Epoch 102/150\n",
            "60/60 [==============================] - 0s 3ms/step - loss: 0.5753 - accuracy: 0.6933 - val_loss: 0.5987 - val_accuracy: 0.6726\n",
            "Epoch 103/150\n",
            "60/60 [==============================] - 0s 2ms/step - loss: 0.5673 - accuracy: 0.7050 - val_loss: 0.6241 - val_accuracy: 0.6369\n",
            "Epoch 104/150\n",
            "60/60 [==============================] - 0s 2ms/step - loss: 0.5853 - accuracy: 0.6900 - val_loss: 0.5962 - val_accuracy: 0.6786\n",
            "Epoch 105/150\n",
            "60/60 [==============================] - 0s 3ms/step - loss: 0.5681 - accuracy: 0.7050 - val_loss: 0.6113 - val_accuracy: 0.6548\n",
            "Epoch 106/150\n",
            "60/60 [==============================] - 0s 2ms/step - loss: 0.5709 - accuracy: 0.6967 - val_loss: 0.6002 - val_accuracy: 0.6726\n",
            "Epoch 107/150\n",
            "60/60 [==============================] - 0s 2ms/step - loss: 0.5724 - accuracy: 0.6950 - val_loss: 0.6114 - val_accuracy: 0.6488\n",
            "Epoch 108/150\n",
            "60/60 [==============================] - 0s 2ms/step - loss: 0.5700 - accuracy: 0.6900 - val_loss: 0.5975 - val_accuracy: 0.6726\n",
            "Epoch 109/150\n",
            "60/60 [==============================] - 0s 2ms/step - loss: 0.5682 - accuracy: 0.6983 - val_loss: 0.5976 - val_accuracy: 0.6667\n",
            "Epoch 110/150\n",
            "60/60 [==============================] - 0s 3ms/step - loss: 0.5751 - accuracy: 0.6917 - val_loss: 0.6043 - val_accuracy: 0.6607\n",
            "Epoch 111/150\n",
            "60/60 [==============================] - 0s 2ms/step - loss: 0.5727 - accuracy: 0.6883 - val_loss: 0.5965 - val_accuracy: 0.6786\n",
            "Epoch 112/150\n",
            "60/60 [==============================] - 0s 3ms/step - loss: 0.5713 - accuracy: 0.7017 - val_loss: 0.6170 - val_accuracy: 0.6429\n",
            "Epoch 113/150\n",
            "60/60 [==============================] - 0s 2ms/step - loss: 0.5699 - accuracy: 0.7100 - val_loss: 0.5990 - val_accuracy: 0.6607\n",
            "Epoch 114/150\n",
            "60/60 [==============================] - 0s 3ms/step - loss: 0.5695 - accuracy: 0.6950 - val_loss: 0.5964 - val_accuracy: 0.6845\n",
            "Epoch 115/150\n",
            "60/60 [==============================] - 0s 2ms/step - loss: 0.5710 - accuracy: 0.6850 - val_loss: 0.6016 - val_accuracy: 0.6488\n",
            "Epoch 116/150\n",
            "60/60 [==============================] - 0s 2ms/step - loss: 0.5705 - accuracy: 0.6950 - val_loss: 0.6072 - val_accuracy: 0.6548\n",
            "Epoch 117/150\n",
            "60/60 [==============================] - 0s 2ms/step - loss: 0.5699 - accuracy: 0.6900 - val_loss: 0.5968 - val_accuracy: 0.6667\n",
            "Epoch 118/150\n",
            "60/60 [==============================] - 0s 2ms/step - loss: 0.5782 - accuracy: 0.6833 - val_loss: 0.6211 - val_accuracy: 0.6429\n",
            "Epoch 119/150\n",
            "60/60 [==============================] - 0s 2ms/step - loss: 0.5719 - accuracy: 0.6967 - val_loss: 0.6029 - val_accuracy: 0.6548\n",
            "Epoch 120/150\n",
            "60/60 [==============================] - 0s 2ms/step - loss: 0.5741 - accuracy: 0.6817 - val_loss: 0.6153 - val_accuracy: 0.6488\n",
            "Epoch 121/150\n",
            "60/60 [==============================] - 0s 2ms/step - loss: 0.5798 - accuracy: 0.6917 - val_loss: 0.6021 - val_accuracy: 0.6548\n",
            "Epoch 122/150\n",
            "60/60 [==============================] - 0s 2ms/step - loss: 0.5726 - accuracy: 0.7017 - val_loss: 0.5992 - val_accuracy: 0.6607\n",
            "Epoch 123/150\n",
            "60/60 [==============================] - 0s 2ms/step - loss: 0.5694 - accuracy: 0.6900 - val_loss: 0.5924 - val_accuracy: 0.6786\n",
            "Epoch 124/150\n",
            "60/60 [==============================] - 0s 2ms/step - loss: 0.5786 - accuracy: 0.6867 - val_loss: 0.5987 - val_accuracy: 0.6845\n",
            "Epoch 125/150\n",
            "60/60 [==============================] - 0s 2ms/step - loss: 0.5713 - accuracy: 0.6900 - val_loss: 0.6063 - val_accuracy: 0.6488\n",
            "Epoch 126/150\n",
            "60/60 [==============================] - 0s 2ms/step - loss: 0.5663 - accuracy: 0.7017 - val_loss: 0.5978 - val_accuracy: 0.6726\n",
            "Epoch 127/150\n",
            "60/60 [==============================] - 0s 3ms/step - loss: 0.5741 - accuracy: 0.6967 - val_loss: 0.6024 - val_accuracy: 0.6667\n",
            "Epoch 128/150\n",
            "60/60 [==============================] - 0s 3ms/step - loss: 0.5667 - accuracy: 0.6933 - val_loss: 0.6029 - val_accuracy: 0.6607\n",
            "Epoch 129/150\n",
            "60/60 [==============================] - 0s 2ms/step - loss: 0.5685 - accuracy: 0.6983 - val_loss: 0.5959 - val_accuracy: 0.6607\n",
            "Epoch 130/150\n",
            "60/60 [==============================] - 0s 2ms/step - loss: 0.5650 - accuracy: 0.6917 - val_loss: 0.5947 - val_accuracy: 0.6845\n",
            "Epoch 131/150\n",
            "60/60 [==============================] - 0s 2ms/step - loss: 0.5696 - accuracy: 0.6867 - val_loss: 0.5964 - val_accuracy: 0.6607\n",
            "Epoch 132/150\n",
            "60/60 [==============================] - 0s 2ms/step - loss: 0.5704 - accuracy: 0.6933 - val_loss: 0.5935 - val_accuracy: 0.6786\n",
            "Epoch 133/150\n",
            "60/60 [==============================] - 0s 2ms/step - loss: 0.5648 - accuracy: 0.6917 - val_loss: 0.5975 - val_accuracy: 0.6786\n",
            "Epoch 134/150\n",
            "60/60 [==============================] - 0s 2ms/step - loss: 0.5652 - accuracy: 0.6950 - val_loss: 0.6019 - val_accuracy: 0.6667\n",
            "Epoch 135/150\n",
            "60/60 [==============================] - 0s 2ms/step - loss: 0.5642 - accuracy: 0.7067 - val_loss: 0.6033 - val_accuracy: 0.6667\n",
            "Epoch 136/150\n",
            "60/60 [==============================] - 0s 2ms/step - loss: 0.5649 - accuracy: 0.6950 - val_loss: 0.5992 - val_accuracy: 0.6548\n",
            "Epoch 137/150\n",
            "60/60 [==============================] - 0s 2ms/step - loss: 0.5737 - accuracy: 0.6900 - val_loss: 0.5969 - val_accuracy: 0.6667\n",
            "Epoch 138/150\n",
            "60/60 [==============================] - 0s 2ms/step - loss: 0.5632 - accuracy: 0.7000 - val_loss: 0.6277 - val_accuracy: 0.6250\n",
            "Epoch 139/150\n",
            "60/60 [==============================] - 0s 2ms/step - loss: 0.5775 - accuracy: 0.6883 - val_loss: 0.6041 - val_accuracy: 0.6607\n",
            "Epoch 140/150\n",
            "60/60 [==============================] - 0s 2ms/step - loss: 0.5726 - accuracy: 0.7017 - val_loss: 0.6004 - val_accuracy: 0.6607\n",
            "Epoch 141/150\n",
            "60/60 [==============================] - 0s 2ms/step - loss: 0.5670 - accuracy: 0.6933 - val_loss: 0.6004 - val_accuracy: 0.6548\n",
            "Epoch 142/150\n",
            "60/60 [==============================] - 0s 2ms/step - loss: 0.5660 - accuracy: 0.6917 - val_loss: 0.5975 - val_accuracy: 0.6786\n",
            "Epoch 143/150\n",
            "60/60 [==============================] - 0s 2ms/step - loss: 0.5742 - accuracy: 0.6983 - val_loss: 0.5924 - val_accuracy: 0.6786\n",
            "Epoch 144/150\n",
            "60/60 [==============================] - 0s 2ms/step - loss: 0.5722 - accuracy: 0.6917 - val_loss: 0.6219 - val_accuracy: 0.6369\n",
            "Epoch 145/150\n",
            "60/60 [==============================] - 0s 2ms/step - loss: 0.5740 - accuracy: 0.6950 - val_loss: 0.5924 - val_accuracy: 0.6726\n",
            "Epoch 146/150\n",
            "60/60 [==============================] - 0s 2ms/step - loss: 0.5673 - accuracy: 0.6967 - val_loss: 0.5904 - val_accuracy: 0.6726\n",
            "Epoch 147/150\n",
            "60/60 [==============================] - 0s 2ms/step - loss: 0.5674 - accuracy: 0.6933 - val_loss: 0.5935 - val_accuracy: 0.6667\n",
            "Epoch 148/150\n",
            "60/60 [==============================] - 0s 3ms/step - loss: 0.5616 - accuracy: 0.6933 - val_loss: 0.6061 - val_accuracy: 0.6548\n",
            "Epoch 149/150\n",
            "60/60 [==============================] - 0s 2ms/step - loss: 0.5666 - accuracy: 0.6983 - val_loss: 0.5931 - val_accuracy: 0.6726\n",
            "Epoch 150/150\n",
            "60/60 [==============================] - 0s 2ms/step - loss: 0.5690 - accuracy: 0.6883 - val_loss: 0.5913 - val_accuracy: 0.6726\n"
          ]
        }
      ]
    },
    {
      "cell_type": "code",
      "metadata": {
        "colab": {
          "base_uri": "https://localhost:8080/",
          "height": 295
        },
        "id": "31lyImw0oLoB",
        "outputId": "d9f1565f-a56f-488c-84e9-e84a080be643"
      },
      "source": [
        "# 훈련 데이터와 검증 데이터에 대한 loss 시각화.\n",
        "epochs = range(1, len(hist.history['loss']) + 1)\n",
        "\n",
        "loss_list = hist.history['loss'] #[100 * i for i in history.history['loss']]\n",
        "vloss_list = hist.history['val_loss'] #[100 * i for i in history.history['val_loss']]\n",
        "\n",
        "plt.plot(epochs,loss_list)  \n",
        "plt.plot(epochs,vloss_list)\n",
        "\n",
        "plt.plot(np.argmin(np.array(vloss_list))+1,vloss_list[np.argmin(np.array(vloss_list))], 'r*')\n",
        "plt.title('mnist: NN(FCN) model - val_loss, min:' + str(np.round(vloss_list[np.argmin(np.array(vloss_list))],2)))\n",
        "plt.ylabel('val-Loss (%)')\n",
        "plt.xlabel('Epoch')\n",
        "plt.legend(['loss','val_loss','best'], loc='best')\n",
        "plt.show()"
      ],
      "execution_count": 9,
      "outputs": [
        {
          "output_type": "display_data",
          "data": {
            "image/png": "[encoded data removed]",
            "text/plain": [
              "<Figure size 432x288 with 1 Axes>"
            ]
          },
          "metadata": {
            "needs_background": "light"
          }
        }
      ]
    },
    {
      "cell_type": "code",
      "metadata": {
        "colab": {
          "base_uri": "https://localhost:8080/",
          "height": 295
        },
        "id": "U88jdeiqoWID",
        "outputId": "3a4cb37a-1bd4-48c8-a068-eaa38bdae2e7"
      },
      "source": [
        "# 훈련 데이터와 검증 데이터에 대한 accuracy 시각화.\n",
        "epochs = range(1, len(hist.history['accuracy']) + 1)\n",
        "\n",
        "acc_list = [100 * i for i in hist.history['accuracy']]\n",
        "vacc_list = [100 * i for i in hist.history['val_accuracy']]\n",
        "\n",
        "plt.plot(epochs,acc_list)  \n",
        "plt.plot(epochs,vacc_list)\n",
        "\n",
        "plt.plot(np.argmax(np.array(vacc_list))+1,vacc_list[np.argmax(np.array(vacc_list))], 'r*')\n",
        "plt.title('mnist: NN(FCN) model - val_accuracy, max:' + str(np.round(vacc_list[np.argmax(np.array(vacc_list))],2)))\n",
        "plt.ylabel('val-Accuracy (%)')\n",
        "plt.xlabel('Epoch')\n",
        "plt.legend(['accuracy','val_accuracy','best'], loc='best')\n",
        "plt.show()"
      ],
      "execution_count": 10,
      "outputs": [
        {
          "output_type": "display_data",
          "data": {
            "image/png": "[encoded data removed]",
            "text/plain": [
              "<Figure size 432x288 with 1 Axes>"
            ]
          },
          "metadata": {
            "needs_background": "light"
          }
        }
      ]
    },
    {
      "cell_type": "code",
      "metadata": {
        "colab": {
          "base_uri": "https://localhost:8080/"
        },
        "id": "i-owBe_-nLfL",
        "outputId": "91517913-28ab-4d45-9af6-5b49ea407c7d"
      },
      "source": [
        "# model performance\n",
        "model.evaluate(X_test, y_test)"
      ],
      "execution_count": 11,
      "outputs": [
        {
          "output_type": "stream",
          "name": "stdout",
          "text": [
            "6/6 [==============================] - 0s 3ms/step - loss: 0.5913 - accuracy: 0.6726\n"
          ]
        },
        {
          "output_type": "execute_result",
          "data": {
            "text/plain": [
              "[0.591289758682251, 0.6726190447807312]"
            ]
          },
          "metadata": {},
          "execution_count": 11
        }
      ]
    },
    {
      "cell_type": "code",
      "metadata": {
        "colab": {
          "base_uri": "https://localhost:8080/"
        },
        "id": "cv0lPPtdbZIt",
        "outputId": "c52b5e91-3578-4d06-f805-8a481fdf3b79"
      },
      "source": [
        "y_train[:5],y_train.shape"
      ],
      "execution_count": 12,
      "outputs": [
        {
          "output_type": "execute_result",
          "data": {
            "text/plain": [
              "(0    1\n",
              " 1    0\n",
              " 2    1\n",
              " 3    0\n",
              " 4    1\n",
              " Name: Outcome, dtype: int64, (600,))"
            ]
          },
          "metadata": {},
          "execution_count": 12
        }
      ]
    },
    {
      "cell_type": "code",
      "metadata": {
        "colab": {
          "base_uri": "https://localhost:8080/"
        },
        "id": "u10xb1P7b-QT",
        "outputId": "0a47a5b7-4f56-4221-bde7-86009cee0e0a"
      },
      "source": [
        "model.predict(X_train)[0:5],[int(np.round(prob)) for prob in model.predict(X_train)[0:5]]"
      ],
      "execution_count": 13,
      "outputs": [
        {
          "output_type": "execute_result",
          "data": {
            "text/plain": [
              "(array([[0.43663844],\n",
              "        [0.20685452],\n",
              "        [0.43663844],\n",
              "        [0.16133839],\n",
              "        [0.7372434 ]], dtype=float32), [0, 0, 0, 0, 1])"
            ]
          },
          "metadata": {},
          "execution_count": 13
        }
      ]
    },
    {
      "cell_type": "code",
      "metadata": {
        "colab": {
          "base_uri": "https://localhost:8080/"
        },
        "id": "p88uIn2gdA_E",
        "outputId": "ca64d65c-3973-4155-95e1-ddb62f8e8512"
      },
      "source": [
        "# the first data in trainset\n",
        "X_train.iloc[0].tolist()"
      ],
      "execution_count": 14,
      "outputs": [
        {
          "output_type": "execute_result",
          "data": {
            "text/plain": [
              "[6.0, 148.0, 72.0, 35.0, 0.0, 33.6, 0.627, 50.0]"
            ]
          },
          "metadata": {},
          "execution_count": 14
        }
      ]
    },
    {
      "cell_type": "code",
      "metadata": {
        "colab": {
          "base_uri": "https://localhost:8080/"
        },
        "id": "9hu9yuFijM30",
        "outputId": "5d4ce68e-7cb0-4c5d-927a-1e002db8687c"
      },
      "source": [
        "X_test.shape"
      ],
      "execution_count": 15,
      "outputs": [
        {
          "output_type": "execute_result",
          "data": {
            "text/plain": [
              "(168, 8)"
            ]
          },
          "metadata": {},
          "execution_count": 15
        }
      ]
    },
    {
      "cell_type": "code",
      "metadata": {
        "colab": {
          "base_uri": "https://localhost:8080/"
        },
        "id": "-QBxuYwBje4t",
        "outputId": "ac2a9dfd-d656-45ed-f40c-36264b1d62b5"
      },
      "source": [
        "y_test[:10].values"
      ],
      "execution_count": 16,
      "outputs": [
        {
          "output_type": "execute_result",
          "data": {
            "text/plain": [
              "array([0, 0, 0, 1, 1, 0, 1, 0, 0, 0])"
            ]
          },
          "metadata": {},
          "execution_count": 16
        }
      ]
    },
    {
      "cell_type": "code",
      "metadata": {
        "colab": {
          "base_uri": "https://localhost:8080/"
        },
        "id": "0qKhHR2BkDj1",
        "outputId": "9e13c535-9c6a-4fd3-df49-5613fde9e469"
      },
      "source": [
        "X_test.iloc[0].values.tolist(),y_test.iloc[0]"
      ],
      "execution_count": 17,
      "outputs": [
        {
          "output_type": "execute_result",
          "data": {
            "text/plain": [
              "([1.0, 108.0, 88.0, 19.0, 0.0, 27.1, 0.4, 24.0], 0)"
            ]
          },
          "metadata": {},
          "execution_count": 17
        }
      ]
    },
    {
      "cell_type": "code",
      "metadata": {
        "colab": {
          "base_uri": "https://localhost:8080/"
        },
        "id": "8C7SkexxkS5c",
        "outputId": "47452224-c72c-4315-d40b-75863b00a7a4"
      },
      "source": [
        "# make class predictions for test data with the model\n",
        "predictions = [int(np.round(prob)) for prob in model.predict(X_test)]\n",
        "predictions[:10]"
      ],
      "execution_count": 20,
      "outputs": [
        {
          "output_type": "execute_result",
          "data": {
            "text/plain": [
              "[0, 0, 0, 0, 0, 0, 1, 0, 0, 0]"
            ]
          },
          "metadata": {},
          "execution_count": 20
        }
      ]
    },
    {
      "cell_type": "code",
      "metadata": {
        "colab": {
          "base_uri": "https://localhost:8080/"
        },
        "id": "-l8Or1_8YV8H",
        "outputId": "3fa77c22-7614-41ec-e80f-29550cf75fde"
      },
      "source": [
        "# summarize the first 10 cases in testset\n",
        "for i in range(10):\n",
        "   print('%s => %d (expected %d)' % (X_test.iloc[i].values.tolist(), predictions[i], y_test.iloc[i]))"
      ],
      "execution_count": 21,
      "outputs": [
        {
          "output_type": "stream",
          "name": "stdout",
          "text": [
            "[1.0, 108.0, 88.0, 19.0, 0.0, 27.1, 0.4, 24.0] => 0 (expected 0)\n",
            "[6.0, 96.0, 0.0, 0.0, 0.0, 23.7, 0.19, 28.0] => 0 (expected 0)\n",
            "[1.0, 124.0, 74.0, 36.0, 0.0, 27.8, 0.1, 30.0] => 0 (expected 0)\n",
            "[7.0, 150.0, 78.0, 29.0, 126.0, 35.2, 0.6920000000000001, 54.0] => 0 (expected 1)\n",
            "[4.0, 183.0, 0.0, 0.0, 0.0, 28.4, 0.212, 36.0] => 0 (expected 1)\n",
            "[1.0, 124.0, 60.0, 32.0, 0.0, 35.8, 0.514, 21.0] => 0 (expected 0)\n",
            "[1.0, 181.0, 78.0, 42.0, 293.0, 40.0, 1.258, 22.0] => 1 (expected 1)\n",
            "[1.0, 92.0, 62.0, 25.0, 41.0, 19.5, 0.48200000000000004, 25.0] => 0 (expected 0)\n",
            "[0.0, 152.0, 82.0, 39.0, 272.0, 41.5, 0.27, 27.0] => 0 (expected 0)\n",
            "[1.0, 111.0, 62.0, 13.0, 182.0, 24.0, 0.138, 23.0] => 0 (expected 0)\n"
          ]
        }
      ]
    },
    {
      "cell_type": "markdown",
      "metadata": {
        "id": "zCh-95EO_-17"
      },
      "source": [
        "### Confusion matrix"
      ]
    },
    {
      "cell_type": "code",
      "metadata": {
        "id": "i4QJwcVvADpU"
      },
      "source": [
        "import seaborn as sns\n",
        "from sklearn.metrics import confusion_matrix"
      ],
      "execution_count": 22,
      "outputs": []
    },
    {
      "cell_type": "code",
      "metadata": {
        "id": "hiPMQeYXt12l"
      },
      "source": [
        "cm = confusion_matrix(y_test, predictions)"
      ],
      "execution_count": 23,
      "outputs": []
    },
    {
      "cell_type": "code",
      "metadata": {
        "id": "YITaGwYjvatc"
      },
      "source": [
        "class_names = ['noDM','DM']"
      ],
      "execution_count": 24,
      "outputs": []
    },
    {
      "cell_type": "code",
      "metadata": {
        "id": "2qGHMNU3u8ut",
        "colab": {
          "base_uri": "https://localhost:8080/",
          "height": 334
        },
        "outputId": "f68e9f99-0f5e-4fab-e80b-af59f8244017"
      },
      "source": [
        "plt.figure(figsize=(5,5))\n",
        "sns.heatmap(cm, cbar=False, xticklabels=class_names, yticklabels=class_names, fmt='d', annot=True, cmap=plt.cm.coolwarm)\n",
        "plt.xlabel('Predicted')\n",
        "plt.ylabel('Actual')\n",
        "plt.show()"
      ],
      "execution_count": 25,
      "outputs": [
        {
          "output_type": "display_data",
          "data": {
            "image/png": "[encoded data removed]",
            "text/plain": [
              "<Figure size 360x360 with 1 Axes>"
            ]
          },
          "metadata": {
            "needs_background": "light"
          }
        }
      ]
    },
    {
      "cell_type": "markdown",
      "metadata": {
        "id": "xG6RmEh-rECP"
      },
      "source": [
        "## [DIY-1] Save the best model\n",
        "- hdf5 file"
      ]
    },
    {
      "cell_type": "code",
      "metadata": {
        "id": "UVgMnQNMrqL4"
      },
      "source": [
        "# define the keras model\n",
        "model2 = Sequential([\n",
        "    Dense(16, input_dim=8, activation='relu'),\n",
        "    Dense(8, activation='relu'), \n",
        "    Dense(1, activation='sigmoid')                 \n",
        "])\n",
        "# compile the keras model\n",
        "model2.compile(loss='binary_crossentropy', \n",
        "              optimizer='adam', \n",
        "              metrics=['accuracy'])\n"
      ],
      "execution_count": 28,
      "outputs": []
    },
    {
      "cell_type": "markdown",
      "metadata": {
        "id": "JjB5zR4vsUHw"
      },
      "source": [
        "### callbacks"
      ]
    },
    {
      "cell_type": "code",
      "metadata": {
        "id": "V20fWcM4sTAk"
      },
      "source": [
        "cp_callback = callbacks.ModelCheckpoint(filepath=\"./diabetes_DL_best_weights.{epoch:03d}-{val_accuracy:.3f}.hdf5\", \n",
        "                              monitor='val_accuracy', verbose=0, save_best_only=True)\n",
        "es_callback = callbacks.EarlyStopping(monitor='val_accuracy', \n",
        "                            mode='max', verbose=1, patience=50)    # patience=10, 20, 50"
      ],
      "execution_count": 29,
      "outputs": []
    },
    {
      "cell_type": "code",
      "metadata": {
        "colab": {
          "base_uri": "https://localhost:8080/"
        },
        "id": "hjNTHDcurqL5",
        "outputId": "e83bb959-7411-45d2-f96b-f8367362e851"
      },
      "source": [
        "# fit the keras model on the dataset\n",
        "hist = model2.fit(X_train, y_train, epochs=500, batch_size=10, verbose=1, \n",
        "                  callbacks=[cp_callback, es_callback], \n",
        "                  validation_data=(X_test, y_test))\n"
      ],
      "execution_count": 30,
      "outputs": [
        {
          "output_type": "stream",
          "name": "stdout",
          "text": [
            "Epoch 1/500\n",
            "60/60 [==============================] - 1s 5ms/step - loss: 5.9417 - accuracy: 0.6283 - val_loss: 1.4548 - val_accuracy: 0.4226\n",
            "Epoch 2/500\n",
            "60/60 [==============================] - 0s 3ms/step - loss: 0.9924 - accuracy: 0.5667 - val_loss: 0.9545 - val_accuracy: 0.5179\n",
            "Epoch 3/500\n",
            "60/60 [==============================] - 0s 2ms/step - loss: 0.7972 - accuracy: 0.6133 - val_loss: 0.7988 - val_accuracy: 0.6012\n",
            "Epoch 4/500\n",
            "60/60 [==============================] - 0s 2ms/step - loss: 0.7262 - accuracy: 0.6367 - val_loss: 0.7218 - val_accuracy: 0.6131\n",
            "Epoch 5/500\n",
            "60/60 [==============================] - 0s 2ms/step - loss: 0.6992 - accuracy: 0.6283 - val_loss: 0.6604 - val_accuracy: 0.6667\n",
            "Epoch 6/500\n",
            "60/60 [==============================] - 0s 2ms/step - loss: 0.6512 - accuracy: 0.6600 - val_loss: 0.6465 - val_accuracy: 0.6845\n",
            "Epoch 7/500\n",
            "60/60 [==============================] - 0s 2ms/step - loss: 0.6684 - accuracy: 0.6483 - val_loss: 0.7099 - val_accuracy: 0.6012\n",
            "Epoch 8/500\n",
            "60/60 [==============================] - 0s 2ms/step - loss: 0.6147 - accuracy: 0.6617 - val_loss: 0.6196 - val_accuracy: 0.6786\n",
            "Epoch 9/500\n",
            "60/60 [==============================] - 0s 2ms/step - loss: 0.6317 - accuracy: 0.6467 - val_loss: 0.6499 - val_accuracy: 0.6786\n",
            "Epoch 10/500\n",
            "60/60 [==============================] - 0s 2ms/step - loss: 0.6095 - accuracy: 0.6567 - val_loss: 0.6348 - val_accuracy: 0.6726\n",
            "Epoch 11/500\n",
            "60/60 [==============================] - 0s 2ms/step - loss: 0.6245 - accuracy: 0.6617 - val_loss: 0.6134 - val_accuracy: 0.6667\n",
            "Epoch 12/500\n",
            "60/60 [==============================] - 0s 2ms/step - loss: 0.5934 - accuracy: 0.6867 - val_loss: 0.6511 - val_accuracy: 0.6488\n",
            "Epoch 13/500\n",
            "60/60 [==============================] - 0s 2ms/step - loss: 0.6107 - accuracy: 0.6667 - val_loss: 0.6017 - val_accuracy: 0.6726\n",
            "Epoch 14/500\n",
            "60/60 [==============================] - 0s 2ms/step - loss: 0.5686 - accuracy: 0.7017 - val_loss: 0.6682 - val_accuracy: 0.6190\n",
            "Epoch 15/500\n",
            "60/60 [==============================] - 0s 2ms/step - loss: 0.5890 - accuracy: 0.6800 - val_loss: 0.6043 - val_accuracy: 0.6726\n",
            "Epoch 16/500\n",
            "60/60 [==============================] - 0s 3ms/step - loss: 0.5857 - accuracy: 0.7000 - val_loss: 0.6027 - val_accuracy: 0.6786\n",
            "Epoch 17/500\n",
            "60/60 [==============================] - 0s 2ms/step - loss: 0.5728 - accuracy: 0.6983 - val_loss: 0.5991 - val_accuracy: 0.6964\n",
            "Epoch 18/500\n",
            "60/60 [==============================] - 0s 2ms/step - loss: 0.5625 - accuracy: 0.7067 - val_loss: 0.6052 - val_accuracy: 0.7083\n",
            "Epoch 19/500\n",
            "60/60 [==============================] - 0s 2ms/step - loss: 0.5769 - accuracy: 0.7017 - val_loss: 0.7289 - val_accuracy: 0.6012\n",
            "Epoch 20/500\n",
            "60/60 [==============================] - 0s 2ms/step - loss: 0.5850 - accuracy: 0.6950 - val_loss: 0.6120 - val_accuracy: 0.7024\n",
            "Epoch 21/500\n",
            "60/60 [==============================] - 0s 2ms/step - loss: 0.5501 - accuracy: 0.7250 - val_loss: 0.5988 - val_accuracy: 0.7202\n",
            "Epoch 22/500\n",
            "60/60 [==============================] - 0s 2ms/step - loss: 0.5752 - accuracy: 0.7000 - val_loss: 0.6191 - val_accuracy: 0.6726\n",
            "Epoch 23/500\n",
            "60/60 [==============================] - 0s 2ms/step - loss: 0.5584 - accuracy: 0.7067 - val_loss: 0.6051 - val_accuracy: 0.6845\n",
            "Epoch 24/500\n",
            "60/60 [==============================] - 0s 2ms/step - loss: 0.5529 - accuracy: 0.7167 - val_loss: 0.6065 - val_accuracy: 0.7143\n",
            "Epoch 25/500\n",
            "60/60 [==============================] - 0s 2ms/step - loss: 0.5407 - accuracy: 0.7300 - val_loss: 0.6282 - val_accuracy: 0.6964\n",
            "Epoch 26/500\n",
            "60/60 [==============================] - 0s 2ms/step - loss: 0.5710 - accuracy: 0.7133 - val_loss: 0.6590 - val_accuracy: 0.6548\n",
            "Epoch 27/500\n",
            "60/60 [==============================] - 0s 2ms/step - loss: 0.5535 - accuracy: 0.7067 - val_loss: 0.6278 - val_accuracy: 0.6845\n",
            "Epoch 28/500\n",
            "60/60 [==============================] - 0s 2ms/step - loss: 0.5833 - accuracy: 0.6917 - val_loss: 0.6203 - val_accuracy: 0.6548\n",
            "Epoch 29/500\n",
            "60/60 [==============================] - 0s 2ms/step - loss: 0.5441 - accuracy: 0.7233 - val_loss: 0.6320 - val_accuracy: 0.6845\n",
            "Epoch 30/500\n",
            "60/60 [==============================] - 0s 2ms/step - loss: 0.5521 - accuracy: 0.7183 - val_loss: 0.6773 - val_accuracy: 0.6548\n",
            "Epoch 31/500\n",
            "60/60 [==============================] - 0s 2ms/step - loss: 0.5588 - accuracy: 0.7200 - val_loss: 0.6278 - val_accuracy: 0.7202\n",
            "Epoch 32/500\n",
            "60/60 [==============================] - 0s 2ms/step - loss: 0.5566 - accuracy: 0.7183 - val_loss: 0.7861 - val_accuracy: 0.6012\n",
            "Epoch 33/500\n",
            "60/60 [==============================] - 0s 2ms/step - loss: 0.5890 - accuracy: 0.7133 - val_loss: 0.6133 - val_accuracy: 0.7024\n",
            "Epoch 34/500\n",
            "60/60 [==============================] - 0s 3ms/step - loss: 0.5365 - accuracy: 0.7217 - val_loss: 0.6068 - val_accuracy: 0.6964\n",
            "Epoch 35/500\n",
            "60/60 [==============================] - 0s 2ms/step - loss: 0.5533 - accuracy: 0.7283 - val_loss: 0.5962 - val_accuracy: 0.7024\n",
            "Epoch 36/500\n",
            "60/60 [==============================] - 0s 3ms/step - loss: 0.5459 - accuracy: 0.7200 - val_loss: 0.5970 - val_accuracy: 0.7143\n",
            "Epoch 37/500\n",
            "60/60 [==============================] - 0s 2ms/step - loss: 0.5432 - accuracy: 0.7150 - val_loss: 0.6078 - val_accuracy: 0.6726\n",
            "Epoch 38/500\n",
            "60/60 [==============================] - 0s 2ms/step - loss: 0.5305 - accuracy: 0.7317 - val_loss: 0.6302 - val_accuracy: 0.6786\n",
            "Epoch 39/500\n",
            "60/60 [==============================] - 0s 2ms/step - loss: 0.5429 - accuracy: 0.7283 - val_loss: 0.6045 - val_accuracy: 0.6726\n",
            "Epoch 40/500\n",
            "60/60 [==============================] - 0s 2ms/step - loss: 0.5562 - accuracy: 0.7417 - val_loss: 0.6773 - val_accuracy: 0.6607\n",
            "Epoch 41/500\n",
            "60/60 [==============================] - 0s 2ms/step - loss: 0.5474 - accuracy: 0.7333 - val_loss: 0.6168 - val_accuracy: 0.6905\n",
            "Epoch 42/500\n",
            "60/60 [==============================] - 0s 2ms/step - loss: 0.5361 - accuracy: 0.7200 - val_loss: 0.6255 - val_accuracy: 0.6667\n",
            "Epoch 43/500\n",
            "60/60 [==============================] - 0s 2ms/step - loss: 0.5331 - accuracy: 0.7350 - val_loss: 0.5978 - val_accuracy: 0.7024\n",
            "Epoch 44/500\n",
            "60/60 [==============================] - 0s 2ms/step - loss: 0.5273 - accuracy: 0.7267 - val_loss: 0.6262 - val_accuracy: 0.6607\n",
            "Epoch 45/500\n",
            "60/60 [==============================] - 0s 3ms/step - loss: 0.5523 - accuracy: 0.7183 - val_loss: 0.5983 - val_accuracy: 0.7321\n",
            "Epoch 46/500\n",
            "60/60 [==============================] - 0s 2ms/step - loss: 0.5257 - accuracy: 0.7317 - val_loss: 0.6101 - val_accuracy: 0.7321\n",
            "Epoch 47/500\n",
            "60/60 [==============================] - 0s 2ms/step - loss: 0.5353 - accuracy: 0.7100 - val_loss: 0.6402 - val_accuracy: 0.6964\n",
            "Epoch 48/500\n",
            "60/60 [==============================] - 0s 2ms/step - loss: 0.5433 - accuracy: 0.7333 - val_loss: 0.6332 - val_accuracy: 0.6667\n",
            "Epoch 49/500\n",
            "60/60 [==============================] - 0s 2ms/step - loss: 0.5473 - accuracy: 0.7317 - val_loss: 0.6190 - val_accuracy: 0.6845\n",
            "Epoch 50/500\n",
            "60/60 [==============================] - 0s 2ms/step - loss: 0.5242 - accuracy: 0.7317 - val_loss: 0.5968 - val_accuracy: 0.7083\n",
            "Epoch 51/500\n",
            "60/60 [==============================] - 0s 2ms/step - loss: 0.5449 - accuracy: 0.7283 - val_loss: 0.6494 - val_accuracy: 0.6429\n",
            "Epoch 52/500\n",
            "60/60 [==============================] - 0s 2ms/step - loss: 0.5562 - accuracy: 0.7167 - val_loss: 0.6250 - val_accuracy: 0.7024\n",
            "Epoch 53/500\n",
            "60/60 [==============================] - 0s 2ms/step - loss: 0.5157 - accuracy: 0.7333 - val_loss: 0.5881 - val_accuracy: 0.6964\n",
            "Epoch 54/500\n",
            "60/60 [==============================] - 0s 2ms/step - loss: 0.5272 - accuracy: 0.7550 - val_loss: 0.6298 - val_accuracy: 0.7024\n",
            "Epoch 55/500\n",
            "60/60 [==============================] - 0s 3ms/step - loss: 0.5295 - accuracy: 0.7500 - val_loss: 0.6084 - val_accuracy: 0.7143\n",
            "Epoch 56/500\n",
            "60/60 [==============================] - 0s 2ms/step - loss: 0.5285 - accuracy: 0.7367 - val_loss: 0.5986 - val_accuracy: 0.7024\n",
            "Epoch 57/500\n",
            "60/60 [==============================] - 0s 2ms/step - loss: 0.5237 - accuracy: 0.7283 - val_loss: 0.6832 - val_accuracy: 0.6190\n",
            "Epoch 58/500\n",
            "60/60 [==============================] - 0s 2ms/step - loss: 0.5259 - accuracy: 0.7383 - val_loss: 0.6038 - val_accuracy: 0.7202\n",
            "Epoch 59/500\n",
            "60/60 [==============================] - 0s 2ms/step - loss: 0.5339 - accuracy: 0.7467 - val_loss: 0.6818 - val_accuracy: 0.6071\n",
            "Epoch 60/500\n",
            "60/60 [==============================] - 0s 2ms/step - loss: 0.5249 - accuracy: 0.7350 - val_loss: 0.5891 - val_accuracy: 0.7143\n",
            "Epoch 61/500\n",
            "60/60 [==============================] - 0s 2ms/step - loss: 0.5412 - accuracy: 0.7367 - val_loss: 0.6340 - val_accuracy: 0.6548\n",
            "Epoch 62/500\n",
            "60/60 [==============================] - 0s 2ms/step - loss: 0.5090 - accuracy: 0.7583 - val_loss: 0.5931 - val_accuracy: 0.7202\n",
            "Epoch 63/500\n",
            "60/60 [==============================] - 0s 3ms/step - loss: 0.5009 - accuracy: 0.7650 - val_loss: 0.5952 - val_accuracy: 0.7262\n",
            "Epoch 64/500\n",
            "60/60 [==============================] - 0s 2ms/step - loss: 0.5062 - accuracy: 0.7550 - val_loss: 0.5859 - val_accuracy: 0.7143\n",
            "Epoch 65/500\n",
            "60/60 [==============================] - 0s 3ms/step - loss: 0.5094 - accuracy: 0.7400 - val_loss: 0.5936 - val_accuracy: 0.7202\n",
            "Epoch 66/500\n",
            "60/60 [==============================] - 0s 2ms/step - loss: 0.5146 - accuracy: 0.7167 - val_loss: 0.6015 - val_accuracy: 0.7321\n",
            "Epoch 67/500\n",
            "60/60 [==============================] - 0s 3ms/step - loss: 0.5209 - accuracy: 0.7483 - val_loss: 0.5906 - val_accuracy: 0.7500\n",
            "Epoch 68/500\n",
            "60/60 [==============================] - 0s 2ms/step - loss: 0.5156 - accuracy: 0.7417 - val_loss: 0.6933 - val_accuracy: 0.6429\n",
            "Epoch 69/500\n",
            "60/60 [==============================] - 0s 2ms/step - loss: 0.5199 - accuracy: 0.7433 - val_loss: 0.6192 - val_accuracy: 0.6964\n",
            "Epoch 70/500\n",
            "60/60 [==============================] - 0s 2ms/step - loss: 0.5265 - accuracy: 0.7417 - val_loss: 0.6239 - val_accuracy: 0.6726\n",
            "Epoch 71/500\n",
            "60/60 [==============================] - 0s 3ms/step - loss: 0.5404 - accuracy: 0.7217 - val_loss: 0.6380 - val_accuracy: 0.7202\n",
            "Epoch 72/500\n",
            "60/60 [==============================] - 0s 2ms/step - loss: 0.4999 - accuracy: 0.7517 - val_loss: 0.6011 - val_accuracy: 0.7381\n",
            "Epoch 73/500\n",
            "60/60 [==============================] - 0s 2ms/step - loss: 0.5162 - accuracy: 0.7500 - val_loss: 0.6731 - val_accuracy: 0.6905\n",
            "Epoch 74/500\n",
            "60/60 [==============================] - 0s 2ms/step - loss: 0.5048 - accuracy: 0.7533 - val_loss: 0.5879 - val_accuracy: 0.7440\n",
            "Epoch 75/500\n",
            "60/60 [==============================] - 0s 3ms/step - loss: 0.5012 - accuracy: 0.7533 - val_loss: 0.7365 - val_accuracy: 0.6726\n",
            "Epoch 76/500\n",
            "60/60 [==============================] - 0s 2ms/step - loss: 0.5276 - accuracy: 0.7367 - val_loss: 0.5938 - val_accuracy: 0.7381\n",
            "Epoch 77/500\n",
            "60/60 [==============================] - 0s 2ms/step - loss: 0.4916 - accuracy: 0.7550 - val_loss: 0.6050 - val_accuracy: 0.7321\n",
            "Epoch 78/500\n",
            "60/60 [==============================] - 0s 2ms/step - loss: 0.5160 - accuracy: 0.7433 - val_loss: 0.5861 - val_accuracy: 0.7262\n",
            "Epoch 79/500\n",
            "60/60 [==============================] - 0s 2ms/step - loss: 0.5057 - accuracy: 0.7500 - val_loss: 0.6539 - val_accuracy: 0.6905\n",
            "Epoch 80/500\n",
            "60/60 [==============================] - 0s 2ms/step - loss: 0.4991 - accuracy: 0.7483 - val_loss: 0.6029 - val_accuracy: 0.7202\n",
            "Epoch 81/500\n",
            "60/60 [==============================] - 0s 2ms/step - loss: 0.4964 - accuracy: 0.7533 - val_loss: 0.5927 - val_accuracy: 0.7381\n",
            "Epoch 82/500\n",
            "60/60 [==============================] - 0s 2ms/step - loss: 0.4968 - accuracy: 0.7450 - val_loss: 0.5859 - val_accuracy: 0.7381\n",
            "Epoch 83/500\n",
            "60/60 [==============================] - 0s 2ms/step - loss: 0.5084 - accuracy: 0.7450 - val_loss: 0.5949 - val_accuracy: 0.7202\n",
            "Epoch 84/500\n",
            "60/60 [==============================] - 0s 2ms/step - loss: 0.5003 - accuracy: 0.7567 - val_loss: 0.6008 - val_accuracy: 0.7262\n",
            "Epoch 85/500\n",
            "60/60 [==============================] - 0s 2ms/step - loss: 0.5038 - accuracy: 0.7450 - val_loss: 0.5977 - val_accuracy: 0.7262\n",
            "Epoch 86/500\n",
            "60/60 [==============================] - 0s 2ms/step - loss: 0.4937 - accuracy: 0.7500 - val_loss: 0.5899 - val_accuracy: 0.7381\n",
            "Epoch 87/500\n",
            "60/60 [==============================] - 0s 2ms/step - loss: 0.4905 - accuracy: 0.7467 - val_loss: 0.6201 - val_accuracy: 0.7083\n",
            "Epoch 88/500\n",
            "60/60 [==============================] - 0s 2ms/step - loss: 0.4984 - accuracy: 0.7500 - val_loss: 0.6323 - val_accuracy: 0.7083\n",
            "Epoch 89/500\n",
            "60/60 [==============================] - 0s 2ms/step - loss: 0.4983 - accuracy: 0.7517 - val_loss: 0.6048 - val_accuracy: 0.7202\n",
            "Epoch 90/500\n",
            "60/60 [==============================] - 0s 3ms/step - loss: 0.4865 - accuracy: 0.7750 - val_loss: 0.5868 - val_accuracy: 0.7619\n",
            "Epoch 91/500\n",
            "60/60 [==============================] - 0s 2ms/step - loss: 0.4885 - accuracy: 0.7550 - val_loss: 0.5978 - val_accuracy: 0.7381\n",
            "Epoch 92/500\n",
            "60/60 [==============================] - 0s 2ms/step - loss: 0.4833 - accuracy: 0.7600 - val_loss: 0.6001 - val_accuracy: 0.7321\n",
            "Epoch 93/500\n",
            "60/60 [==============================] - 0s 2ms/step - loss: 0.5046 - accuracy: 0.7467 - val_loss: 0.6343 - val_accuracy: 0.6845\n",
            "Epoch 94/500\n",
            "60/60 [==============================] - 0s 2ms/step - loss: 0.5091 - accuracy: 0.7383 - val_loss: 0.6195 - val_accuracy: 0.7202\n",
            "Epoch 95/500\n",
            "60/60 [==============================] - 0s 2ms/step - loss: 0.4884 - accuracy: 0.7517 - val_loss: 0.5957 - val_accuracy: 0.7381\n",
            "Epoch 96/500\n",
            "60/60 [==============================] - 0s 2ms/step - loss: 0.5081 - accuracy: 0.7433 - val_loss: 0.5919 - val_accuracy: 0.7083\n",
            "Epoch 97/500\n",
            "60/60 [==============================] - 0s 3ms/step - loss: 0.4853 - accuracy: 0.7583 - val_loss: 0.6036 - val_accuracy: 0.7381\n",
            "Epoch 98/500\n",
            "60/60 [==============================] - 0s 2ms/step - loss: 0.5048 - accuracy: 0.7433 - val_loss: 0.5979 - val_accuracy: 0.7321\n",
            "Epoch 99/500\n",
            "60/60 [==============================] - 0s 2ms/step - loss: 0.4955 - accuracy: 0.7517 - val_loss: 0.6071 - val_accuracy: 0.7381\n",
            "Epoch 100/500\n",
            "60/60 [==============================] - 0s 3ms/step - loss: 0.4975 - accuracy: 0.7500 - val_loss: 0.5974 - val_accuracy: 0.7381\n",
            "Epoch 101/500\n",
            "60/60 [==============================] - 0s 2ms/step - loss: 0.4850 - accuracy: 0.7517 - val_loss: 0.6043 - val_accuracy: 0.7321\n",
            "Epoch 102/500\n",
            "60/60 [==============================] - 0s 3ms/step - loss: 0.5017 - accuracy: 0.7450 - val_loss: 0.6355 - val_accuracy: 0.6845\n",
            "Epoch 103/500\n",
            "60/60 [==============================] - 0s 2ms/step - loss: 0.4772 - accuracy: 0.7700 - val_loss: 0.6424 - val_accuracy: 0.6726\n",
            "Epoch 104/500\n",
            "60/60 [==============================] - 0s 2ms/step - loss: 0.5007 - accuracy: 0.7583 - val_loss: 0.5983 - val_accuracy: 0.7262\n",
            "Epoch 105/500\n",
            "60/60 [==============================] - 0s 2ms/step - loss: 0.4841 - accuracy: 0.7700 - val_loss: 0.5856 - val_accuracy: 0.7738\n",
            "Epoch 106/500\n",
            "60/60 [==============================] - 0s 2ms/step - loss: 0.4835 - accuracy: 0.7633 - val_loss: 0.6004 - val_accuracy: 0.7321\n",
            "Epoch 107/500\n",
            "60/60 [==============================] - 0s 2ms/step - loss: 0.5113 - accuracy: 0.7617 - val_loss: 0.6567 - val_accuracy: 0.6786\n",
            "Epoch 108/500\n",
            "60/60 [==============================] - 0s 2ms/step - loss: 0.4803 - accuracy: 0.7550 - val_loss: 0.6145 - val_accuracy: 0.7381\n",
            "Epoch 109/500\n",
            "60/60 [==============================] - 0s 2ms/step - loss: 0.4821 - accuracy: 0.7600 - val_loss: 0.6143 - val_accuracy: 0.7202\n",
            "Epoch 110/500\n",
            "60/60 [==============================] - 0s 2ms/step - loss: 0.4883 - accuracy: 0.7617 - val_loss: 0.6213 - val_accuracy: 0.7262\n",
            "Epoch 111/500\n",
            "60/60 [==============================] - 0s 2ms/step - loss: 0.4963 - accuracy: 0.7550 - val_loss: 0.5994 - val_accuracy: 0.7440\n",
            "Epoch 112/500\n",
            "60/60 [==============================] - 0s 2ms/step - loss: 0.4852 - accuracy: 0.7783 - val_loss: 0.6514 - val_accuracy: 0.6905\n",
            "Epoch 113/500\n",
            "60/60 [==============================] - 0s 2ms/step - loss: 0.4778 - accuracy: 0.7617 - val_loss: 0.6147 - val_accuracy: 0.7381\n",
            "Epoch 114/500\n",
            "60/60 [==============================] - 0s 2ms/step - loss: 0.4781 - accuracy: 0.7567 - val_loss: 0.6402 - val_accuracy: 0.7083\n",
            "Epoch 115/500\n",
            "60/60 [==============================] - 0s 2ms/step - loss: 0.4807 - accuracy: 0.7667 - val_loss: 0.6005 - val_accuracy: 0.7440\n",
            "Epoch 116/500\n",
            "60/60 [==============================] - 0s 2ms/step - loss: 0.4810 - accuracy: 0.7683 - val_loss: 0.6316 - val_accuracy: 0.7321\n",
            "Epoch 117/500\n",
            "60/60 [==============================] - 0s 3ms/step - loss: 0.4877 - accuracy: 0.7550 - val_loss: 0.6182 - val_accuracy: 0.7619\n",
            "Epoch 118/500\n",
            "60/60 [==============================] - 0s 3ms/step - loss: 0.5040 - accuracy: 0.7550 - val_loss: 0.5913 - val_accuracy: 0.7500\n",
            "Epoch 119/500\n",
            "60/60 [==============================] - 0s 2ms/step - loss: 0.4889 - accuracy: 0.7400 - val_loss: 0.5999 - val_accuracy: 0.7679\n",
            "Epoch 120/500\n",
            "60/60 [==============================] - 0s 3ms/step - loss: 0.4923 - accuracy: 0.7733 - val_loss: 0.6128 - val_accuracy: 0.7381\n",
            "Epoch 121/500\n",
            "60/60 [==============================] - 0s 2ms/step - loss: 0.4868 - accuracy: 0.7767 - val_loss: 0.6261 - val_accuracy: 0.6905\n",
            "Epoch 122/500\n",
            "60/60 [==============================] - 0s 2ms/step - loss: 0.4792 - accuracy: 0.7683 - val_loss: 0.6128 - val_accuracy: 0.7500\n",
            "Epoch 123/500\n",
            "60/60 [==============================] - 0s 3ms/step - loss: 0.4704 - accuracy: 0.7667 - val_loss: 0.6646 - val_accuracy: 0.6964\n",
            "Epoch 124/500\n",
            "60/60 [==============================] - 0s 3ms/step - loss: 0.5011 - accuracy: 0.7433 - val_loss: 0.6420 - val_accuracy: 0.6845\n",
            "Epoch 125/500\n",
            "60/60 [==============================] - 0s 2ms/step - loss: 0.4959 - accuracy: 0.7500 - val_loss: 0.6001 - val_accuracy: 0.7500\n",
            "Epoch 126/500\n",
            "60/60 [==============================] - 0s 3ms/step - loss: 0.4714 - accuracy: 0.7650 - val_loss: 0.6405 - val_accuracy: 0.7083\n",
            "Epoch 127/500\n",
            "60/60 [==============================] - 0s 2ms/step - loss: 0.4982 - accuracy: 0.7333 - val_loss: 0.6117 - val_accuracy: 0.7262\n",
            "Epoch 128/500\n",
            "60/60 [==============================] - 0s 2ms/step - loss: 0.4726 - accuracy: 0.7583 - val_loss: 0.6368 - val_accuracy: 0.7083\n",
            "Epoch 129/500\n",
            "60/60 [==============================] - 0s 3ms/step - loss: 0.4717 - accuracy: 0.7733 - val_loss: 0.6249 - val_accuracy: 0.7321\n",
            "Epoch 130/500\n",
            "60/60 [==============================] - 0s 2ms/step - loss: 0.4685 - accuracy: 0.7617 - val_loss: 0.6330 - val_accuracy: 0.7262\n",
            "Epoch 131/500\n",
            "60/60 [==============================] - 0s 3ms/step - loss: 0.4832 - accuracy: 0.7667 - val_loss: 0.6170 - val_accuracy: 0.7560\n",
            "Epoch 132/500\n",
            "60/60 [==============================] - 0s 2ms/step - loss: 0.4788 - accuracy: 0.7583 - val_loss: 0.5997 - val_accuracy: 0.7321\n",
            "Epoch 133/500\n",
            "60/60 [==============================] - 0s 2ms/step - loss: 0.4643 - accuracy: 0.7683 - val_loss: 0.6301 - val_accuracy: 0.7262\n",
            "Epoch 134/500\n",
            "60/60 [==============================] - 0s 2ms/step - loss: 0.4655 - accuracy: 0.7833 - val_loss: 0.6832 - val_accuracy: 0.6905\n",
            "Epoch 135/500\n",
            "60/60 [==============================] - 0s 2ms/step - loss: 0.4729 - accuracy: 0.7683 - val_loss: 0.6040 - val_accuracy: 0.7440\n",
            "Epoch 136/500\n",
            "60/60 [==============================] - 0s 2ms/step - loss: 0.4566 - accuracy: 0.7850 - val_loss: 0.6162 - val_accuracy: 0.7321\n",
            "Epoch 137/500\n",
            "60/60 [==============================] - 0s 2ms/step - loss: 0.4679 - accuracy: 0.7633 - val_loss: 0.6205 - val_accuracy: 0.7262\n",
            "Epoch 138/500\n",
            "60/60 [==============================] - 0s 2ms/step - loss: 0.4662 - accuracy: 0.7800 - val_loss: 0.6184 - val_accuracy: 0.7143\n",
            "Epoch 139/500\n",
            "60/60 [==============================] - 0s 3ms/step - loss: 0.4649 - accuracy: 0.7717 - val_loss: 0.6668 - val_accuracy: 0.6905\n",
            "Epoch 140/500\n",
            "60/60 [==============================] - 0s 2ms/step - loss: 0.4697 - accuracy: 0.7800 - val_loss: 0.6288 - val_accuracy: 0.7083\n",
            "Epoch 141/500\n",
            "60/60 [==============================] - 0s 2ms/step - loss: 0.4738 - accuracy: 0.7667 - val_loss: 0.6149 - val_accuracy: 0.7202\n",
            "Epoch 142/500\n",
            "60/60 [==============================] - 0s 2ms/step - loss: 0.4579 - accuracy: 0.7833 - val_loss: 0.6801 - val_accuracy: 0.6905\n",
            "Epoch 143/500\n",
            "60/60 [==============================] - 0s 2ms/step - loss: 0.4903 - accuracy: 0.7633 - val_loss: 0.6302 - val_accuracy: 0.7083\n",
            "Epoch 144/500\n",
            "60/60 [==============================] - 0s 2ms/step - loss: 0.4794 - accuracy: 0.7717 - val_loss: 0.7107 - val_accuracy: 0.6667\n",
            "Epoch 145/500\n",
            "60/60 [==============================] - 0s 2ms/step - loss: 0.4912 - accuracy: 0.7500 - val_loss: 0.6121 - val_accuracy: 0.7262\n",
            "Epoch 146/500\n",
            "60/60 [==============================] - 0s 2ms/step - loss: 0.4577 - accuracy: 0.7700 - val_loss: 0.6033 - val_accuracy: 0.7143\n",
            "Epoch 147/500\n",
            "60/60 [==============================] - 0s 2ms/step - loss: 0.4576 - accuracy: 0.7683 - val_loss: 0.6306 - val_accuracy: 0.7143\n",
            "Epoch 148/500\n",
            "60/60 [==============================] - 0s 2ms/step - loss: 0.4616 - accuracy: 0.7633 - val_loss: 0.6059 - val_accuracy: 0.7381\n",
            "Epoch 149/500\n",
            "60/60 [==============================] - 0s 2ms/step - loss: 0.4675 - accuracy: 0.7667 - val_loss: 0.6369 - val_accuracy: 0.7262\n",
            "Epoch 150/500\n",
            "60/60 [==============================] - 0s 2ms/step - loss: 0.4728 - accuracy: 0.7600 - val_loss: 0.6389 - val_accuracy: 0.7143\n",
            "Epoch 151/500\n",
            "60/60 [==============================] - 0s 2ms/step - loss: 0.4772 - accuracy: 0.7700 - val_loss: 0.6178 - val_accuracy: 0.7083\n",
            "Epoch 152/500\n",
            "60/60 [==============================] - 0s 2ms/step - loss: 0.4692 - accuracy: 0.7600 - val_loss: 0.6203 - val_accuracy: 0.7321\n",
            "Epoch 153/500\n",
            "60/60 [==============================] - 0s 3ms/step - loss: 0.4663 - accuracy: 0.7650 - val_loss: 0.6073 - val_accuracy: 0.7321\n",
            "Epoch 154/500\n",
            "60/60 [==============================] - 0s 2ms/step - loss: 0.4756 - accuracy: 0.7733 - val_loss: 0.6298 - val_accuracy: 0.7321\n",
            "Epoch 155/500\n",
            "60/60 [==============================] - 0s 2ms/step - loss: 0.4567 - accuracy: 0.7750 - val_loss: 0.6212 - val_accuracy: 0.7440\n",
            "Epoch 00155: early stopping\n"
          ]
        }
      ]
    },
    {
      "cell_type": "code",
      "metadata": {
        "colab": {
          "base_uri": "https://localhost:8080/",
          "height": 295
        },
        "id": "7cTBmcNAuIDs",
        "outputId": "87e1fd72-ee02-4190-8b99-3002e5c58ae3"
      },
      "source": [
        "# 훈련 데이터와 검증 데이터에 대한 accuracy 시각화.\n",
        "epochs = range(1, len(hist.history['accuracy']) + 1)\n",
        "\n",
        "acc_list = [100 * i for i in hist.history['accuracy']]\n",
        "vacc_list = [100 * i for i in hist.history['val_accuracy']]\n",
        "\n",
        "plt.plot(epochs,acc_list)  \n",
        "plt.plot(epochs,vacc_list)\n",
        "\n",
        "plt.plot(np.argmax(np.array(vacc_list))+1,vacc_list[np.argmax(np.array(vacc_list))], 'r*')\n",
        "plt.title('mnist: NN(FCN) model - val_accuracy, max:' + str(np.round(vacc_list[np.argmax(np.array(vacc_list))],2)))\n",
        "plt.ylabel('val-Accuracy (%)')\n",
        "plt.xlabel('Epoch')\n",
        "plt.legend(['accuracy','val_accuracy','best'], loc='best')\n",
        "plt.show()"
      ],
      "execution_count": 31,
      "outputs": [
        {
          "output_type": "display_data",
          "data": {
            "image/png": "[encoded data removed]",
            "text/plain": [
              "<Figure size 432x288 with 1 Axes>"
            ]
          },
          "metadata": {
            "needs_background": "light"
          }
        }
      ]
    },
    {
      "cell_type": "markdown",
      "metadata": {
        "id": "mfpDVTp9tp0T"
      },
      "source": [
        "### best model\n",
        "> diabetes_DL_best_weights.105-0.774.hdf5"
      ]
    },
    {
      "cell_type": "code",
      "metadata": {
        "colab": {
          "base_uri": "https://localhost:8080/"
        },
        "id": "7XICED9Jt5ls",
        "outputId": "b4a64ae3-c77b-467a-cade-ec669b9e9050"
      },
      "source": [
        "# model2 performance\n",
        "model2.evaluate(X_test, y_test)"
      ],
      "execution_count": 32,
      "outputs": [
        {
          "output_type": "stream",
          "name": "stdout",
          "text": [
            "6/6 [==============================] - 0s 3ms/step - loss: 0.6212 - accuracy: 0.7440\n"
          ]
        },
        {
          "output_type": "execute_result",
          "data": {
            "text/plain": [
              "[0.6211753487586975, 0.7440476417541504]"
            ]
          },
          "metadata": {},
          "execution_count": 32
        }
      ]
    },
    {
      "cell_type": "code",
      "metadata": {
        "colab": {
          "base_uri": "https://localhost:8080/"
        },
        "id": "qdp3G_DcZ1Ek",
        "outputId": "360ab7d9-33b8-4345-d5be-4aae0ffee318"
      },
      "source": [
        "from keras.models import load_model\n",
        "\n",
        "# model = load_model('your_best_model.hdf5')\n",
        "model2_best = load_model('diabetes_DL_best_weights.105-0.774.hdf5')\n",
        "model2_best.evaluate(X_test, y_test)"
      ],
      "execution_count": 33,
      "outputs": [
        {
          "output_type": "stream",
          "name": "stdout",
          "text": [
            "6/6 [==============================] - 0s 3ms/step - loss: 0.5856 - accuracy: 0.7738\n"
          ]
        },
        {
          "output_type": "execute_result",
          "data": {
            "text/plain": [
              "[0.5856432318687439, 0.773809552192688]"
            ]
          },
          "metadata": {},
          "execution_count": 33
        }
      ]
    },
    {
      "cell_type": "markdown",
      "metadata": {
        "id": "ICOiTafiyl7b"
      },
      "source": [
        "***"
      ]
    },
    {
      "cell_type": "markdown",
      "metadata": {
        "id": "s_NsDYVbyc1_"
      },
      "source": [
        "## [DIY-2] 데이터 전처리 후 딥러닝 모델 만들어서 평가"
      ]
    },
    {
      "cell_type": "markdown",
      "metadata": {
        "id": "rWoRa2VqSkHI"
      },
      "source": [
        "## Check data\n",
        "- null\n",
        "- NaN"
      ]
    },
    {
      "cell_type": "code",
      "metadata": {
        "id": "whrqReP4mOhl",
        "colab": {
          "base_uri": "https://localhost:8080/"
        },
        "outputId": "d660e5bc-aa78-4420-d049-1ca486c2d493"
      },
      "source": [
        "# Check NaN\n",
        "# data.isna().sum()\n",
        "data.isnull().sum()"
      ],
      "execution_count": 34,
      "outputs": [
        {
          "output_type": "execute_result",
          "data": {
            "text/plain": [
              "Pregnancies                 0\n",
              "Glucose                     0\n",
              "BloodPressure               0\n",
              "SkinThickness               0\n",
              "Insulin                     0\n",
              "BMI                         0\n",
              "DiabetesPedigreeFunction    0\n",
              "Age                         0\n",
              "Outcome                     0\n",
              "dtype: int64"
            ]
          },
          "metadata": {},
          "execution_count": 34
        }
      ]
    },
    {
      "cell_type": "markdown",
      "metadata": {
        "id": "h--H_58sxzEz"
      },
      "source": [
        "### 과연 diabetes 데이터는 문제가 없는가?\n",
        "\n",
        "- 각 항목에서 0이 허용되지 않는 경우에 0이 있다면 => 문제 있는 데이터!\n",
        "- Pregnancies, Outcome은 0이 가능한 값이므로 제외하고 0이 있는 항목(column) 조사"
      ]
    },
    {
      "cell_type": "code",
      "metadata": {
        "colab": {
          "base_uri": "https://localhost:8080/",
          "height": 361
        },
        "id": "9ETrQATux_Wt",
        "outputId": "03994b0a-06cf-4476-869c-67b5866655cc"
      },
      "source": [
        "data.head(10)"
      ],
      "execution_count": 35,
      "outputs": [
        {
          "output_type": "execute_result",
          "data": {
            "text/html": [
              "<div>\n",
              "<style scoped>\n",
              "    .dataframe tbody tr th:only-of-type {\n",
              "        vertical-align: middle;\n",
              "    }\n",
              "\n",
              "    .dataframe tbody tr th {\n",
              "        vertical-align: top;\n",
              "    }\n",
              "\n",
              "    .dataframe thead th {\n",
              "        text-align: right;\n",
              "    }\n",
              "</style>\n",
              "<table border=\"1\" class=\"dataframe\">\n",
              "  <thead>\n",
              "    <tr style=\"text-align: right;\">\n",
              "      <th></th>\n",
              "      <th>Pregnancies</th>\n",
              "      <th>Glucose</th>\n",
              "      <th>BloodPressure</th>\n",
              "      <th>SkinThickness</th>\n",
              "      <th>Insulin</th>\n",
              "      <th>BMI</th>\n",
              "      <th>DiabetesPedigreeFunction</th>\n",
              "      <th>Age</th>\n",
              "      <th>Outcome</th>\n",
              "    </tr>\n",
              "  </thead>\n",
              "  <tbody>\n",
              "    <tr>\n",
              "      <th>0</th>\n",
              "      <td>6</td>\n",
              "      <td>148</td>\n",
              "      <td>72</td>\n",
              "      <td>35</td>\n",
              "      <td>0</td>\n",
              "      <td>33.6</td>\n",
              "      <td>0.627</td>\n",
              "      <td>50</td>\n",
              "      <td>1</td>\n",
              "    </tr>\n",
              "    <tr>\n",
              "      <th>1</th>\n",
              "      <td>1</td>\n",
              "      <td>85</td>\n",
              "      <td>66</td>\n",
              "      <td>29</td>\n",
              "      <td>0</td>\n",
              "      <td>26.6</td>\n",
              "      <td>0.351</td>\n",
              "      <td>31</td>\n",
              "      <td>0</td>\n",
              "    </tr>\n",
              "    <tr>\n",
              "      <th>2</th>\n",
              "      <td>8</td>\n",
              "      <td>183</td>\n",
              "      <td>64</td>\n",
              "      <td>0</td>\n",
              "      <td>0</td>\n",
              "      <td>23.3</td>\n",
              "      <td>0.672</td>\n",
              "      <td>32</td>\n",
              "      <td>1</td>\n",
              "    </tr>\n",
              "    <tr>\n",
              "      <th>3</th>\n",
              "      <td>1</td>\n",
              "      <td>89</td>\n",
              "      <td>66</td>\n",
              "      <td>23</td>\n",
              "      <td>94</td>\n",
              "      <td>28.1</td>\n",
              "      <td>0.167</td>\n",
              "      <td>21</td>\n",
              "      <td>0</td>\n",
              "    </tr>\n",
              "    <tr>\n",
              "      <th>4</th>\n",
              "      <td>0</td>\n",
              "      <td>137</td>\n",
              "      <td>40</td>\n",
              "      <td>35</td>\n",
              "      <td>168</td>\n",
              "      <td>43.1</td>\n",
              "      <td>2.288</td>\n",
              "      <td>33</td>\n",
              "      <td>1</td>\n",
              "    </tr>\n",
              "    <tr>\n",
              "      <th>5</th>\n",
              "      <td>5</td>\n",
              "      <td>116</td>\n",
              "      <td>74</td>\n",
              "      <td>0</td>\n",
              "      <td>0</td>\n",
              "      <td>25.6</td>\n",
              "      <td>0.201</td>\n",
              "      <td>30</td>\n",
              "      <td>0</td>\n",
              "    </tr>\n",
              "    <tr>\n",
              "      <th>6</th>\n",
              "      <td>3</td>\n",
              "      <td>78</td>\n",
              "      <td>50</td>\n",
              "      <td>32</td>\n",
              "      <td>88</td>\n",
              "      <td>31.0</td>\n",
              "      <td>0.248</td>\n",
              "      <td>26</td>\n",
              "      <td>1</td>\n",
              "    </tr>\n",
              "    <tr>\n",
              "      <th>7</th>\n",
              "      <td>10</td>\n",
              "      <td>115</td>\n",
              "      <td>0</td>\n",
              "      <td>0</td>\n",
              "      <td>0</td>\n",
              "      <td>35.3</td>\n",
              "      <td>0.134</td>\n",
              "      <td>29</td>\n",
              "      <td>0</td>\n",
              "    </tr>\n",
              "    <tr>\n",
              "      <th>8</th>\n",
              "      <td>2</td>\n",
              "      <td>197</td>\n",
              "      <td>70</td>\n",
              "      <td>45</td>\n",
              "      <td>543</td>\n",
              "      <td>30.5</td>\n",
              "      <td>0.158</td>\n",
              "      <td>53</td>\n",
              "      <td>1</td>\n",
              "    </tr>\n",
              "    <tr>\n",
              "      <th>9</th>\n",
              "      <td>8</td>\n",
              "      <td>125</td>\n",
              "      <td>96</td>\n",
              "      <td>0</td>\n",
              "      <td>0</td>\n",
              "      <td>0.0</td>\n",
              "      <td>0.232</td>\n",
              "      <td>54</td>\n",
              "      <td>1</td>\n",
              "    </tr>\n",
              "  </tbody>\n",
              "</table>\n",
              "</div>"
            ],
            "text/plain": [
              "   Pregnancies  Glucose  BloodPressure  ...  DiabetesPedigreeFunction  Age  Outcome\n",
              "0            6      148             72  ...                     0.627   50        1\n",
              "1            1       85             66  ...                     0.351   31        0\n",
              "2            8      183             64  ...                     0.672   32        1\n",
              "3            1       89             66  ...                     0.167   21        0\n",
              "4            0      137             40  ...                     2.288   33        1\n",
              "5            5      116             74  ...                     0.201   30        0\n",
              "6            3       78             50  ...                     0.248   26        1\n",
              "7           10      115              0  ...                     0.134   29        0\n",
              "8            2      197             70  ...                     0.158   53        1\n",
              "9            8      125             96  ...                     0.232   54        1\n",
              "\n",
              "[10 rows x 9 columns]"
            ]
          },
          "metadata": {},
          "execution_count": 35
        }
      ]
    },
    {
      "cell_type": "code",
      "metadata": {
        "colab": {
          "base_uri": "https://localhost:8080/"
        },
        "id": "UN8Ub9s-y7RM",
        "outputId": "8b4f4fc7-66cd-4737-c456-e65499fabf15"
      },
      "source": [
        "# Pregnancies, Outcome은 0이 가능한 값이므로 제외하고 0이 있는 항목(column) 조사\n",
        "columns_with_zero = data.columns[(data==0).sum() > 0][1:-1]\n",
        "columns_with_zero"
      ],
      "execution_count": 36,
      "outputs": [
        {
          "output_type": "execute_result",
          "data": {
            "text/plain": [
              "Index(['Glucose', 'BloodPressure', 'SkinThickness', 'Insulin', 'BMI'], dtype='object')"
            ]
          },
          "metadata": {},
          "execution_count": 36
        }
      ]
    },
    {
      "cell_type": "code",
      "metadata": {
        "id": "jYGrj7udx6mk"
      },
      "source": [
        "# Clean the data : zero2median()\n",
        "# 1. Check zeros in features with Pregnancies, Outcome excluded.\n",
        "# 2. Replace zero with NaN \n",
        "# 3. Replace NaN with the median of the corresponding featurs\n",
        "def zero2median(df):\n",
        "    columns_with_zero = df.columns[(df==0).sum() > 0][1:-1]\n",
        "    # Index(['Glucose', 'BloodPressure', 'SkinThickness', 'Insulin', 'BMI'], dtype='object')\n",
        "    df[columns_with_zero]=df[columns_with_zero].replace(0,np.nan)\n",
        "    for feature in columns_with_zero:\n",
        "        df[feature].fillna(df[feature].median(),inplace=True)\n",
        "    \n",
        "    return df\n",
        "\n",
        "# Make clean dataframe, data2 from data\n",
        "data2 = zero2median(data)"
      ],
      "execution_count": 37,
      "outputs": []
    },
    {
      "cell_type": "code",
      "metadata": {
        "colab": {
          "base_uri": "https://localhost:8080/",
          "height": 361
        },
        "id": "jUBEg3S0zxQv",
        "outputId": "dee63a77-7a1f-48ee-953b-b25d91d176d0"
      },
      "source": [
        "data2.head(10)"
      ],
      "execution_count": 38,
      "outputs": [
        {
          "output_type": "execute_result",
          "data": {
            "text/html": [
              "<div>\n",
              "<style scoped>\n",
              "    .dataframe tbody tr th:only-of-type {\n",
              "        vertical-align: middle;\n",
              "    }\n",
              "\n",
              "    .dataframe tbody tr th {\n",
              "        vertical-align: top;\n",
              "    }\n",
              "\n",
              "    .dataframe thead th {\n",
              "        text-align: right;\n",
              "    }\n",
              "</style>\n",
              "<table border=\"1\" class=\"dataframe\">\n",
              "  <thead>\n",
              "    <tr style=\"text-align: right;\">\n",
              "      <th></th>\n",
              "      <th>Pregnancies</th>\n",
              "      <th>Glucose</th>\n",
              "      <th>BloodPressure</th>\n",
              "      <th>SkinThickness</th>\n",
              "      <th>Insulin</th>\n",
              "      <th>BMI</th>\n",
              "      <th>DiabetesPedigreeFunction</th>\n",
              "      <th>Age</th>\n",
              "      <th>Outcome</th>\n",
              "    </tr>\n",
              "  </thead>\n",
              "  <tbody>\n",
              "    <tr>\n",
              "      <th>0</th>\n",
              "      <td>6</td>\n",
              "      <td>148.0</td>\n",
              "      <td>72.0</td>\n",
              "      <td>35.0</td>\n",
              "      <td>125.0</td>\n",
              "      <td>33.6</td>\n",
              "      <td>0.627</td>\n",
              "      <td>50</td>\n",
              "      <td>1</td>\n",
              "    </tr>\n",
              "    <tr>\n",
              "      <th>1</th>\n",
              "      <td>1</td>\n",
              "      <td>85.0</td>\n",
              "      <td>66.0</td>\n",
              "      <td>29.0</td>\n",
              "      <td>125.0</td>\n",
              "      <td>26.6</td>\n",
              "      <td>0.351</td>\n",
              "      <td>31</td>\n",
              "      <td>0</td>\n",
              "    </tr>\n",
              "    <tr>\n",
              "      <th>2</th>\n",
              "      <td>8</td>\n",
              "      <td>183.0</td>\n",
              "      <td>64.0</td>\n",
              "      <td>29.0</td>\n",
              "      <td>125.0</td>\n",
              "      <td>23.3</td>\n",
              "      <td>0.672</td>\n",
              "      <td>32</td>\n",
              "      <td>1</td>\n",
              "    </tr>\n",
              "    <tr>\n",
              "      <th>3</th>\n",
              "      <td>1</td>\n",
              "      <td>89.0</td>\n",
              "      <td>66.0</td>\n",
              "      <td>23.0</td>\n",
              "      <td>94.0</td>\n",
              "      <td>28.1</td>\n",
              "      <td>0.167</td>\n",
              "      <td>21</td>\n",
              "      <td>0</td>\n",
              "    </tr>\n",
              "    <tr>\n",
              "      <th>4</th>\n",
              "      <td>0</td>\n",
              "      <td>137.0</td>\n",
              "      <td>40.0</td>\n",
              "      <td>35.0</td>\n",
              "      <td>168.0</td>\n",
              "      <td>43.1</td>\n",
              "      <td>2.288</td>\n",
              "      <td>33</td>\n",
              "      <td>1</td>\n",
              "    </tr>\n",
              "    <tr>\n",
              "      <th>5</th>\n",
              "      <td>5</td>\n",
              "      <td>116.0</td>\n",
              "      <td>74.0</td>\n",
              "      <td>29.0</td>\n",
              "      <td>125.0</td>\n",
              "      <td>25.6</td>\n",
              "      <td>0.201</td>\n",
              "      <td>30</td>\n",
              "      <td>0</td>\n",
              "    </tr>\n",
              "    <tr>\n",
              "      <th>6</th>\n",
              "      <td>3</td>\n",
              "      <td>78.0</td>\n",
              "      <td>50.0</td>\n",
              "      <td>32.0</td>\n",
              "      <td>88.0</td>\n",
              "      <td>31.0</td>\n",
              "      <td>0.248</td>\n",
              "      <td>26</td>\n",
              "      <td>1</td>\n",
              "    </tr>\n",
              "    <tr>\n",
              "      <th>7</th>\n",
              "      <td>10</td>\n",
              "      <td>115.0</td>\n",
              "      <td>72.0</td>\n",
              "      <td>29.0</td>\n",
              "      <td>125.0</td>\n",
              "      <td>35.3</td>\n",
              "      <td>0.134</td>\n",
              "      <td>29</td>\n",
              "      <td>0</td>\n",
              "    </tr>\n",
              "    <tr>\n",
              "      <th>8</th>\n",
              "      <td>2</td>\n",
              "      <td>197.0</td>\n",
              "      <td>70.0</td>\n",
              "      <td>45.0</td>\n",
              "      <td>543.0</td>\n",
              "      <td>30.5</td>\n",
              "      <td>0.158</td>\n",
              "      <td>53</td>\n",
              "      <td>1</td>\n",
              "    </tr>\n",
              "    <tr>\n",
              "      <th>9</th>\n",
              "      <td>8</td>\n",
              "      <td>125.0</td>\n",
              "      <td>96.0</td>\n",
              "      <td>29.0</td>\n",
              "      <td>125.0</td>\n",
              "      <td>32.3</td>\n",
              "      <td>0.232</td>\n",
              "      <td>54</td>\n",
              "      <td>1</td>\n",
              "    </tr>\n",
              "  </tbody>\n",
              "</table>\n",
              "</div>"
            ],
            "text/plain": [
              "   Pregnancies  Glucose  BloodPressure  ...  DiabetesPedigreeFunction  Age  Outcome\n",
              "0            6    148.0           72.0  ...                     0.627   50        1\n",
              "1            1     85.0           66.0  ...                     0.351   31        0\n",
              "2            8    183.0           64.0  ...                     0.672   32        1\n",
              "3            1     89.0           66.0  ...                     0.167   21        0\n",
              "4            0    137.0           40.0  ...                     2.288   33        1\n",
              "5            5    116.0           74.0  ...                     0.201   30        0\n",
              "6            3     78.0           50.0  ...                     0.248   26        1\n",
              "7           10    115.0           72.0  ...                     0.134   29        0\n",
              "8            2    197.0           70.0  ...                     0.158   53        1\n",
              "9            8    125.0           96.0  ...                     0.232   54        1\n",
              "\n",
              "[10 rows x 9 columns]"
            ]
          },
          "metadata": {},
          "execution_count": 38
        }
      ]
    },
    {
      "cell_type": "markdown",
      "metadata": {
        "id": "Ares-U3O0bIm"
      },
      "source": [
        "## [DIY] 전처리된 데이터프레임 data2를 이용해서 FCN으로 best model을 찾으시오.\n",
        "- best model: hdf5 file\n",
        "- Accuracy graph\n",
        "- Confusion matrix graph"
      ]
    },
    {
      "cell_type": "code",
      "metadata": {
        "id": "YDrUtW3HwUyf"
      },
      "source": [
        "# Your code here\n",
        "\n",
        "\n"
      ],
      "execution_count": null,
      "outputs": []
    }
  ]
}