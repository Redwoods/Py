{
  "nbformat": 4,
  "nbformat_minor": 0,
  "metadata": {
    "colab": {
      "name": "tf2_1_datasets_cv_I.ipynb",
      "provenance": [],
      "collapsed_sections": [],
      "include_colab_link": true
    },
    "kernelspec": {
      "name": "python3",
      "display_name": "Python 3"
    }
  },
  "cells": [
    {
      "cell_type": "markdown",
      "metadata": {
        "id": "view-in-github",
        "colab_type": "text"
      },
      "source": [
        "<a href=\"https://colab.research.google.com/github/Redwoods/Py/blob/master/pdm2020/my-note/py-tensorflow/tf2_1_datasets_cv_I.ipynb\" target=\"_parent\"><img src=\"https://colab.research.google.com/assets/colab-badge.svg\" alt=\"Open In Colab\"/></a>"
      ]
    },
    {
      "cell_type": "markdown",
      "metadata": {
        "id": "fgVCR-9B8riA"
      },
      "source": [
        "# CV (Computer vision) datasets-1 in AI\n",
        "> https://www.tensorflow.org/api_docs/python/tf/keras/datasets  \n",
        "- from keras\n",
        "    - MNIST : mnist\n",
        "    - Fashion-MNIST: fashion_mnist\n",
        "    -  ...\n",
        "\n"
      ]
    },
    {
      "cell_type": "markdown",
      "metadata": {
        "id": "oCn56Xh79GPp"
      },
      "source": [
        "## MNIST (Modified National Institute of Standards and Technology)\n",
        "> http://yann.lecun.com/exdb/mnist/\n",
        "\n",
        "- (60000, 28, 28), train\n",
        "- (10000, 28, 28), test\n",
        "- grayscale images of handwritten single digits between 0 and 9"
      ]
    },
    {
      "cell_type": "code",
      "metadata": {
        "id": "wZAy5gAA5_OE"
      },
      "source": [
        "import numpy as np\n",
        "import tensorflow as tf\n",
        "from tensorflow import keras\n",
        "import pandas as pd\n",
        "import matplotlib.pyplot as plt\n",
        "# %matplotlib inline\n",
        "\n",
        "print(tf.__version__)"
      ],
      "execution_count": null,
      "outputs": []
    },
    {
      "cell_type": "code",
      "metadata": {
        "id": "jb1j3u9N7qXW"
      },
      "source": [
        "from keras.datasets import mnist\n",
        "# from tensorflow.keras.datasets import mnist"
      ],
      "execution_count": null,
      "outputs": []
    },
    {
      "cell_type": "code",
      "metadata": {
        "id": "vEH3xFY_9FF6"
      },
      "source": [
        "# load dataset\n",
        "(trainX, trainy), (testX, testy) = mnist.load_data()\n",
        "# summarize loaded dataset\n",
        "print('Train: X=%s, y=%s' % (trainX.shape, trainy.shape))\n",
        "print('Test: X=%s, y=%s' % (testX.shape, testy.shape))\n",
        "# 데이터를 담는 변수 이름을 대, 소문자로 구분하는 이유는?"
      ],
      "execution_count": null,
      "outputs": []
    },
    {
      "cell_type": "code",
      "metadata": {
        "id": "xHTllCXd9xm9"
      },
      "source": [
        "# plot first few images\n",
        "for i in range(9):\n",
        "\t# define subplot\n",
        "\tplt.subplot(330 + 1 + i)\n",
        "\t# plot raw pixel data\n",
        "\tplt.imshow(trainX[i], cmap=plt.get_cmap('gray'))\n",
        "# show the figure\n",
        "plt.show()"
      ],
      "execution_count": null,
      "outputs": []
    },
    {
      "cell_type": "markdown",
      "metadata": {
        "id": "LoDN8OcGAh1b"
      },
      "source": [
        "### MNIST trainset"
      ]
    },
    {
      "cell_type": "code",
      "metadata": {
        "id": "QcKRv2wtdGDd"
      },
      "source": [
        "type(trainy), trainy.shape"
      ],
      "execution_count": null,
      "outputs": []
    },
    {
      "cell_type": "code",
      "metadata": {
        "id": "ucSuDVnT2LBM"
      },
      "source": [
        "# trainy[:20]"
      ],
      "execution_count": null,
      "outputs": []
    },
    {
      "cell_type": "markdown",
      "metadata": {
        "id": "dXNHDczJpuOj"
      },
      "source": [
        "#### 각 숫자의 빈도"
      ]
    },
    {
      "cell_type": "code",
      "metadata": {
        "id": "M5zhY9Phnv0-"
      },
      "source": [
        "unique, counts = np.unique(trainy, return_counts=True)\n",
        "print(unique, counts)\n",
        "mnist_train_dic = dict(zip(unique, counts))\n",
        "mnist_train_dic"
      ],
      "execution_count": null,
      "outputs": []
    },
    {
      "cell_type": "code",
      "metadata": {
        "id": "0i8zTQjggin1"
      },
      "source": [
        "# Bar chart of counts of each number in MNIST trainset\n",
        "plt.bar(list(mnist_train_dic.keys()), mnist_train_dic.values(), color='g')"
      ],
      "execution_count": null,
      "outputs": []
    },
    {
      "cell_type": "markdown",
      "metadata": {
        "id": "olcnNhntr4pu"
      },
      "source": [
        "#### 트레인데이터에서 무작위로 숫자 하나 선택해서 출력"
      ]
    },
    {
      "cell_type": "code",
      "metadata": {
        "id": "Zb_fsul1sHLk"
      },
      "source": [
        "# display one random image from our training set:\n",
        "class_names = [\"0\",\"1\",\"2\",\"3\",\"4\",\"5\",\"6\",\"7\",\"8\",\"9\"]\n",
        "\n",
        "idx = np.random.randint(0, trainX.shape[0])\n",
        "print(idx)\n",
        "image = trainX[idx]\n",
        "plt.imshow(image)  # , cmap=plt.get_cmap('gray')\n",
        "plt.title(class_names[trainy[idx]])\n",
        "plt.xticks([])\n",
        "plt.yticks([])\n",
        "plt.show()"
      ],
      "execution_count": null,
      "outputs": []
    },
    {
      "cell_type": "markdown",
      "metadata": {
        "id": "0UNzi1yhqBqQ"
      },
      "source": [
        "#### 대표 숫자 그림 출력"
      ]
    },
    {
      "cell_type": "code",
      "metadata": {
        "id": "S3YjSxElbBmd"
      },
      "source": [
        "fig = plt.figure(figsize=(10,6))\n",
        "for i in range(10):\n",
        "    plt.subplot(2, 5, i+1)\n",
        "    num0_9 = trainX[trainy == i]\n",
        "    plt.imshow(num0_9[0], cmap='gray') #, interpolation='none')\n",
        "    plt.title(\"Class %d\" % (i))\n",
        "    plt.xticks([])\n",
        "    plt.yticks([])\n",
        "\n"
      ],
      "execution_count": null,
      "outputs": []
    },
    {
      "cell_type": "markdown",
      "metadata": {
        "id": "LiK8AA89oYIa"
      },
      "source": [
        "### [DIY] MNIST trainset에서 각 숫자가 출현하는 첫 인덱스를 이용해서 대표숫자를 출력하시오."
      ]
    },
    {
      "cell_type": "code",
      "metadata": {
        "id": "aUroH75Aqu_v"
      },
      "source": [
        "# ## Your code here!\n",
        "# class_names = [\"0\",\"1\",\"2\",\"3\",\"4\",\"5\",\"6\",\"7\",\"8\",\"9\"]\n",
        "# num_10 = np.unique(trainy, return_index=True)[1]\n",
        "# images = trainX[num_10]\n",
        "# for i in range(len(images)):\n",
        "#     # define subplot\n",
        "#     plt.subplot(2,5,1 + i) #, sharey=False)\n",
        "#     # plot raw pixel data\n",
        "#     plt.imshow(images[i])\n",
        "#     plt.title(class_names[i])\n",
        "#     plt.xticks([])\n",
        "#     plt.yticks([])\n",
        "# plt.suptitle(\"10 different numbers\", fontsize=18)"
      ],
      "execution_count": null,
      "outputs": []
    },
    {
      "cell_type": "markdown",
      "metadata": {
        "id": "PqiRJ1gCAsfS"
      },
      "source": [
        "### MNIST test set"
      ]
    },
    {
      "cell_type": "code",
      "metadata": {
        "id": "C3eYfCcPAD0y"
      },
      "source": [
        "# import numpy as np\n",
        "print(type(testy))\n",
        "unique, counts = np.unique(testy, return_counts=True)\n",
        "mnist_test_dic = dict(zip(unique, counts))\n",
        "mnist_test_dic"
      ],
      "execution_count": null,
      "outputs": []
    },
    {
      "cell_type": "code",
      "metadata": {
        "id": "9y5CgoPAAD00"
      },
      "source": [
        "# Bar chart of counts of each number in MNIST trainset\n",
        "plt.bar(list(mnist_test_dic.keys()), mnist_test_dic.values(), color='g')"
      ],
      "execution_count": null,
      "outputs": []
    },
    {
      "cell_type": "markdown",
      "metadata": {
        "id": "we897vQJur61"
      },
      "source": [
        "### [DIY] 테스트데이터에서 무작위로 숫자 하나 선택해서 출력"
      ]
    },
    {
      "cell_type": "code",
      "metadata": {
        "id": "fDpK043su9lf"
      },
      "source": [
        "# Your code here!\n",
        "\n"
      ],
      "execution_count": null,
      "outputs": []
    },
    {
      "cell_type": "markdown",
      "metadata": {
        "id": "NoO34747vQcn"
      },
      "source": [
        "#### 대표 숫자 그림 출력"
      ]
    },
    {
      "cell_type": "code",
      "metadata": {
        "id": "ZAyylEAkAD02"
      },
      "source": [
        "fig = plt.figure(figsize=(10,6))\n",
        "for i in range(10):\n",
        "    plt.subplot(2, 5, i+1)\n",
        "    num0_9 = testX[testy == i]\n",
        "    plt.imshow(num0_9[0], cmap='gray') #, interpolation='none')\n",
        "    plt.title(\"Class %d\" % (i))\n",
        "    plt.xticks([])\n",
        "    plt.yticks([])\n",
        "\n"
      ],
      "execution_count": null,
      "outputs": []
    },
    {
      "cell_type": "markdown",
      "metadata": {
        "id": "EZqCZWDrq5l9"
      },
      "source": [
        "### [DIY] MNIST testset에서 각 숫자가 출현하는 첫 인덱스를 이용해서 대표숫자를 출력하시오."
      ]
    },
    {
      "cell_type": "code",
      "metadata": {
        "id": "L_KgERX1q97V"
      },
      "source": [
        "# Your code!\n",
        "\n"
      ],
      "execution_count": null,
      "outputs": []
    },
    {
      "cell_type": "markdown",
      "metadata": {
        "id": "bmDkI1whq6LS"
      },
      "source": [
        "***"
      ]
    },
    {
      "cell_type": "markdown",
      "metadata": {
        "id": "fDPYiwic_e9R"
      },
      "source": [
        "## Fashion-MNIST Dataset\n",
        "> from keras.datasets import fashion_mnist\n",
        "\n",
        "- (60000, 28, 28), train\n",
        "- (10000, 28, 28), test\n",
        "- grayscale images of items of 10 types of clothing, such as shoes, t-shirts, dresses, and more.\n",
        "\n",
        "### class names\n",
        "- class_names = ['T-shirt/top', 'Trouser', 'Pullover', 'Dress', 'Coat', 'Sandal', 'Shirt', 'Sneaker', 'Bag', 'Ankle boot']"
      ]
    },
    {
      "cell_type": "code",
      "metadata": {
        "id": "ulcFyOk9_lUB"
      },
      "source": [
        "from keras.datasets import fashion_mnist\n",
        "# load dataset\n",
        "(trainX, trainy), (testX, testy) = fashion_mnist.load_data()\n",
        "# summarize loaded dataset\n",
        "print('Train: X=%s, y=%s' % (trainX.shape, trainy.shape))\n",
        "print('Test: X=%s, y=%s' % (testX.shape, testy.shape))\n"
      ],
      "execution_count": null,
      "outputs": []
    },
    {
      "cell_type": "code",
      "metadata": {
        "id": "YzKldZDkw7Er"
      },
      "source": [
        "# plot first few images\n",
        "for i in range(9):\n",
        "\t# define subplot\n",
        "\tplt.subplot(330 + 1 + i)\n",
        "\t# plot raw pixel data\n",
        "\tplt.imshow(trainX[i], cmap=plt.get_cmap('gray'))\n",
        "# show the figure\n",
        "plt.show()"
      ],
      "execution_count": null,
      "outputs": []
    },
    {
      "cell_type": "markdown",
      "metadata": {
        "id": "q-cvKRRHw7Eu"
      },
      "source": [
        "Fashion MNIST trainset"
      ]
    },
    {
      "cell_type": "code",
      "metadata": {
        "id": "tmzDnxxww7Eu"
      },
      "source": [
        "type(trainy), trainy.shape"
      ],
      "execution_count": null,
      "outputs": []
    },
    {
      "cell_type": "code",
      "metadata": {
        "id": "cjsnZejMyjx5"
      },
      "source": [
        "trainy[:9]"
      ],
      "execution_count": null,
      "outputs": []
    },
    {
      "cell_type": "markdown",
      "metadata": {
        "id": "ZVVTAVaBw7Ew"
      },
      "source": [
        "#### 각 패션의 빈도"
      ]
    },
    {
      "cell_type": "code",
      "metadata": {
        "id": "8DJHCmqNw7Ew"
      },
      "source": [
        "unique, counts = np.unique(trainy, return_counts=True)\n",
        "print(unique, counts)\n",
        "# mnisfmnist_train_dic = dict(zip(unique, counts))\n",
        "# ft_train_dic"
      ],
      "execution_count": null,
      "outputs": []
    },
    {
      "cell_type": "code",
      "metadata": {
        "id": "AyYZ1rl4w7Ez"
      },
      "source": [
        "# Bar chart of counts of each fashion in fMNIST trainset\n",
        "plt.bar(list(fmnist_train_dic.keys()), fmnist_train_dic.values(), color='g')"
      ],
      "execution_count": null,
      "outputs": []
    },
    {
      "cell_type": "markdown",
      "metadata": {
        "id": "Q4yT1pj7w7E0"
      },
      "source": [
        "#### 트레인데이터에서 무작위로 하나의 패션 선택해서 출력"
      ]
    },
    {
      "cell_type": "code",
      "metadata": {
        "id": "0ycrObXbw7E1"
      },
      "source": [
        "# display one random image from our training set:\n",
        "class_names = ['T-shirt/top', 'Trouser', 'Pullover', 'Dress', 'Coat', 'Sandal', 'Shirt', 'Sneaker', 'Bag', 'Ankle boot']\n",
        "\n",
        "idx = np.random.randint(0, trainX.shape[0])\n",
        "print(idx)\n",
        "image = trainX[idx]\n",
        "plt.imshow(image)\n",
        "plt.title(class_names[trainy[idx]])\n",
        "plt.xticks([])\n",
        "plt.yticks([])\n",
        "plt.show()"
      ],
      "execution_count": null,
      "outputs": []
    },
    {
      "cell_type": "markdown",
      "metadata": {
        "id": "3oS_ZeU-w7E2"
      },
      "source": [
        "#### 대표 패션 그림 출력"
      ]
    },
    {
      "cell_type": "code",
      "metadata": {
        "id": "5ApzHSY3w7E2"
      },
      "source": [
        "fig = plt.figure(figsize=(10,6))\n",
        "for i in range(10):\n",
        "    plt.subplot(2, 5, i+1)\n",
        "    num0_9 = trainX[trainy == i]\n",
        "    plt.imshow(num0_9[0], cmap='gray') #, interpolation='none')\n",
        "    plt.title(\"Class %d\" % (i))\n",
        "    plt.xticks([])\n",
        "    plt.yticks([])\n",
        "\n"
      ],
      "execution_count": null,
      "outputs": []
    },
    {
      "cell_type": "markdown",
      "metadata": {
        "id": "qotLBx5Lw7E4"
      },
      "source": [
        "### [DIY] fMNIST trainset에서 각 패션이 출현하는 첫 인덱스를 이용해서 대표패션를 출력하시오."
      ]
    },
    {
      "cell_type": "code",
      "metadata": {
        "id": "c6mX3vIyw7E4"
      },
      "source": [
        "# Your code here!\n",
        "# class_names = ['T-shirt/top', 'Trouser', 'Pullover', 'Dress', 'Coat', 'Sandal', 'Shirt', 'Sneaker', 'Bag', 'Ankle boot']\n",
        "# num_10 = np.unique(trainy, return_index=True)[1]\n",
        "# images = trainX[num_10]\n",
        "# # fig = plt.figure(figsize=(10,6))\n",
        "# for i in range(len(images)):\n",
        "#     # define subplot\n",
        "#     plt.subplot(2,5,1 + i) #, sharey=False)\n",
        "#     # plot raw pixel data\n",
        "#     plt.imshow(images[i])\n",
        "#     plt.title(class_names[i])\n",
        "#     plt.xticks([])\n",
        "#     plt.yticks([])\n",
        "# plt.suptitle(\"10 different fashions\", fontsize=18)\n",
        "# plt.show()"
      ],
      "execution_count": null,
      "outputs": []
    },
    {
      "cell_type": "markdown",
      "metadata": {
        "id": "1BoNx_P1w7E5"
      },
      "source": [
        "### fMNIST test set"
      ]
    },
    {
      "cell_type": "code",
      "metadata": {
        "id": "rAkRSevlw7E6"
      },
      "source": [
        "# import numpy as np\n",
        "print(type(testy))\n",
        "unique, counts = np.unique(testy, return_counts=True)\n",
        "fmnist_test_dic = dict(zip(unique, counts))\n",
        "fmnist_test_dic"
      ],
      "execution_count": null,
      "outputs": []
    },
    {
      "cell_type": "code",
      "metadata": {
        "id": "J0SxQymUw7E7"
      },
      "source": [
        "# Bar chart of counts of each fashion in fMNIST trainset\n",
        "plt.bar(list(fmnist_test_dic.keys()), fmnist_test_dic.values(), color='g')"
      ],
      "execution_count": null,
      "outputs": []
    },
    {
      "cell_type": "markdown",
      "metadata": {
        "id": "z_QfAa_6w7E9"
      },
      "source": [
        "### [DIY] 테스트데이터에서 무작위로 패션 하나 선택해서 출력"
      ]
    },
    {
      "cell_type": "code",
      "metadata": {
        "id": "mHPgUtmXw7E9"
      },
      "source": [
        "# Your code here!\n",
        "\n"
      ],
      "execution_count": null,
      "outputs": []
    },
    {
      "cell_type": "markdown",
      "metadata": {
        "id": "CC33dizjw7E-"
      },
      "source": [
        "#### 대표 패션 그림 출력"
      ]
    },
    {
      "cell_type": "code",
      "metadata": {
        "id": "PlKCfSE4w7E-"
      },
      "source": [
        "fig = plt.figure(figsize=(10,6))\n",
        "for i in range(10):\n",
        "    plt.subplot(2, 5, i+1)\n",
        "    num0_9 = testX[testy == i]\n",
        "    plt.imshow(num0_9[0], cmap='gray') #, interpolation='none')\n",
        "    plt.title(\"Class %d\" % (i))\n",
        "    plt.xticks([])\n",
        "    plt.yticks([])\n",
        "\n"
      ],
      "execution_count": null,
      "outputs": []
    },
    {
      "cell_type": "markdown",
      "metadata": {
        "id": "yqkIaV0gw7FA"
      },
      "source": [
        "### [DIY] fMNIST testset에서 각 패션이 출현하는 첫 인덱스를 이용해서 대표패션을 출력하시오."
      ]
    },
    {
      "cell_type": "code",
      "metadata": {
        "id": "5cMKR0nrw7FA"
      },
      "source": [
        "# Your code!\n",
        "\n",
        "\n"
      ],
      "execution_count": null,
      "outputs": []
    },
    {
      "cell_type": "markdown",
      "metadata": {
        "id": "ZHl4lVIB1j7X"
      },
      "source": [
        "\n",
        "\n",
        "---\n",
        "\n",
        "\n",
        "\n",
        "---\n",
        "\n"
      ]
    }
  ]
}