{
  "nbformat": 4,
  "nbformat_minor": 0,
  "metadata": {
    "colab": {
      "name": "tf2_7_fmnist_CNN_best.ipynb",
      "provenance": [],
      "collapsed_sections": [],
      "include_colab_link": true
    },
    "kernelspec": {
      "name": "python3",
      "display_name": "Python 3"
    },
    "accelerator": "GPU"
  },
  "cells": [
    {
      "cell_type": "markdown",
      "metadata": {
        "id": "view-in-github",
        "colab_type": "text"
      },
      "source": [
        "<a href=\"https://colab.research.google.com/github/Redwoods/Py/blob/master/pdm2020/my-note/py-tensorflow/tf2_7_fmnist_CNN_best.ipynb\" target=\"_parent\"><img src=\"https://colab.research.google.com/assets/colab-badge.svg\" alt=\"Open In Colab\"/></a>"
      ]
    },
    {
      "cell_type": "markdown",
      "metadata": {
        "id": "rswfCVLZ-QW0"
      },
      "source": [
        "# **CNN model of fmnist dataset**\n",
        "- Conv2D + FCN\n",
        "    * Conv2D : 2차원 합성곱 필터링 + 풀링(Pooling)\n",
        "    * FCN : 1차원 완전연결신경망\n",
        "\n",
        "***\n",
        "- ## Traget: Find the best model\n",
        "***\n",
        "\n",
        "![mnist_NN_2_layers](https://img1.daumcdn.net/thumb/R1280x0/?scode=mtistory2&fname=https%3A%2F%2Fblog.kakaocdn.net%2Fdn%2FdJp5Z6%2FbtqAPebnF3x%2FQCe5vVcskhmxe964bGz4iK%2Fimg.png)\n",
        "\n",
        "(source: https://img1.daumcdn.net/thumb/R1280x0/?scode=mtistory2&fname=https%3A%2F%2Fblog.kakaocdn.net%2Fdn%2FdJp5Z6%2FbtqAPebnF3x%2FQCe5vVcskhmxe964bGz4iK%2Fimg.png)"
      ]
    },
    {
      "cell_type": "markdown",
      "metadata": {
        "id": "ISueys4bNHd1"
      },
      "source": [
        "## dataset: fashion_mnist\n",
        "- (60000, 28, 28), train\n",
        "- (10000, 28, 28), test\n",
        "- grayscale images of items of 10 types of clothings, such as shoes, t-shirts, dresses, and more.\n",
        "- class names\n",
        "> class_names = ['T-shirt/top', 'Trouser', 'Pullover', 'Dress', 'Coat', 'Sandal', 'Shirt', 'Sneaker', 'Bag', 'Ankle boot']\n",
        "\n",
        "- DL of fmnist\n",
        "> https://machinelearningmastery.com/how-to-develop-a-cnn-from-scratch-for-fashion-mnist-clothing-classification/\n"
      ]
    },
    {
      "cell_type": "markdown",
      "metadata": {
        "id": "1yhvkxS_HhpK"
      },
      "source": [
        "## Search the best model of C2F2\n",
        "- callback\n",
        "    - Early stopping\n",
        "    - model checkpoint"
      ]
    },
    {
      "cell_type": "code",
      "metadata": {
        "id": "8GgGzPXPVyfa",
        "colab": {
          "base_uri": "https://localhost:8080/"
        },
        "outputId": "b3a00458-9681-454f-cd25-ffb8c0667341"
      },
      "source": [
        "import numpy as np\n",
        "import tensorflow as tf\n",
        "from tensorflow import keras\n",
        "import pandas as pd\n",
        "import matplotlib.pyplot as plt\n",
        "%matplotlib inline\n",
        "\n",
        "tf.random.set_seed(0)\n",
        "\n",
        "print(tf.__version__)"
      ],
      "execution_count": 1,
      "outputs": [
        {
          "output_type": "stream",
          "text": [
            "2.3.0\n"
          ],
          "name": "stdout"
        }
      ]
    },
    {
      "cell_type": "code",
      "metadata": {
        "id": "nMZqMpIvIlwf"
      },
      "source": [
        "# import TF2 submodules\n",
        "from tensorflow.keras import layers, models, callbacks"
      ],
      "execution_count": 2,
      "outputs": []
    },
    {
      "cell_type": "markdown",
      "metadata": {
        "id": "-0IOOUM14Jk1"
      },
      "source": [
        "## **데이터 로딩, 정규화**"
      ]
    },
    {
      "cell_type": "code",
      "metadata": {
        "id": "N1ogJ7I64Fz-",
        "colab": {
          "base_uri": "https://localhost:8080/"
        },
        "outputId": "a992b28c-ead4-405c-c62a-25b7b5a77b8e"
      },
      "source": [
        "from keras.datasets import fashion_mnist\n",
        "\n",
        "(X_train0, y_train0), (X_test0, y_test0) = fashion_mnist.load_data()\n",
        "\n",
        "# Reshape\n",
        "X_train = X_train0.reshape(60000,28,28,1)\n",
        "X_test = X_test0.reshape(10000,28,28,1)\n",
        "\n",
        "# Normalization\n",
        "X_train, X_test = X_train/255.0, X_test/255.0 # 정규화\n",
        "\n",
        "print(\"X_train={0}\".format(X_train.shape))\n",
        "print(\"y_train={0}\".format(y_train0.shape)) \n",
        "print(\"X_test={0}\".format(X_test.shape))\n",
        "print(\"y_test={0}\".format(y_test0.shape))"
      ],
      "execution_count": 3,
      "outputs": [
        {
          "output_type": "stream",
          "text": [
            "Downloading data from https://storage.googleapis.com/tensorflow/tf-keras-datasets/train-labels-idx1-ubyte.gz\n",
            "32768/29515 [=================================] - 0s 0us/step\n",
            "Downloading data from https://storage.googleapis.com/tensorflow/tf-keras-datasets/train-images-idx3-ubyte.gz\n",
            "26427392/26421880 [==============================] - 0s 0us/step\n",
            "Downloading data from https://storage.googleapis.com/tensorflow/tf-keras-datasets/t10k-labels-idx1-ubyte.gz\n",
            "8192/5148 [===============================================] - 0s 0us/step\n",
            "Downloading data from https://storage.googleapis.com/tensorflow/tf-keras-datasets/t10k-images-idx3-ubyte.gz\n",
            "4423680/4422102 [==============================] - 0s 0us/step\n",
            "X_train=(60000, 28, 28, 1)\n",
            "y_train=(60000,)\n",
            "X_test=(10000, 28, 28, 1)\n",
            "y_test=(10000,)\n"
          ],
          "name": "stdout"
        }
      ]
    },
    {
      "cell_type": "code",
      "metadata": {
        "id": "F46-QZqJHiQ6",
        "colab": {
          "base_uri": "https://localhost:8080/"
        },
        "outputId": "1180f03e-0b5f-406b-ba30-99c2a55c0583"
      },
      "source": [
        "# One-Hot-Encoding\n",
        "# Use function to_categorical() to do One-Hot-Encoding\n",
        "# tf.keras.utils.to_categorical\n",
        "from keras.utils import to_categorical\n",
        "\n",
        "y_train = to_categorical(y_train0, 10)\n",
        "y_test = to_categorical(y_test0, 10)\n",
        "y_train.shape,y_test.shape"
      ],
      "execution_count": 4,
      "outputs": [
        {
          "output_type": "execute_result",
          "data": {
            "text/plain": [
              "((60000, 10), (10000, 10))"
            ]
          },
          "metadata": {
            "tags": []
          },
          "execution_count": 4
        }
      ]
    },
    {
      "cell_type": "code",
      "metadata": {
        "id": "eZ3OfP5PkEkL",
        "colab": {
          "base_uri": "https://localhost:8080/"
        },
        "outputId": "29c1afad-e0f0-4445-f95f-6196c0e3944a"
      },
      "source": [
        "# y_train0.shape vs. y_train.shape\n",
        "y_train0.shape, y_train.shape"
      ],
      "execution_count": 5,
      "outputs": [
        {
          "output_type": "execute_result",
          "data": {
            "text/plain": [
              "((60000,), (60000, 10))"
            ]
          },
          "metadata": {
            "tags": []
          },
          "execution_count": 5
        }
      ]
    },
    {
      "cell_type": "markdown",
      "metadata": {
        "id": "5z7SozStigmF"
      },
      "source": [
        "### Display fashions\n",
        "- one random fashion\n",
        "- 10 representative fashions"
      ]
    },
    {
      "cell_type": "code",
      "metadata": {
        "id": "IK7XT3XoirSL",
        "colab": {
          "base_uri": "https://localhost:8080/",
          "height": 286
        },
        "outputId": "b9017871-e8d7-4258-8f82-de7022f357df"
      },
      "source": [
        "# Code here!\n",
        "# display one random image from the training set:\n",
        "class_names =  ['T-shirt/top', 'Trouser', 'Pullover', 'Dress', 'Coat', 'Sandal', 'Shirt', 'Sneaker', 'Bag', 'Ankle boot']\n",
        "\n",
        "idx = np.random.randint(0, X_train0.shape[0])\n",
        "print(idx)\n",
        "image = X_train0[idx]\n",
        "plt.imshow(image) #, cmap=plt.get_cmap('gray'))\n",
        "plt.title(class_names[y_train0[idx]])\n",
        "plt.xticks([])\n",
        "plt.yticks([])\n",
        "plt.show()"
      ],
      "execution_count": 6,
      "outputs": [
        {
          "output_type": "stream",
          "text": [
            "42709\n"
          ],
          "name": "stdout"
        },
        {
          "output_type": "display_data",
          "data": {
            "image/png": "[encoded data removed]",
            "text/plain": [
              "<Figure size 432x288 with 1 Axes>"
            ]
          },
          "metadata": {
            "tags": []
          }
        }
      ]
    },
    {
      "cell_type": "code",
      "metadata": {
        "id": "LzhD5pcukau7",
        "colab": {
          "base_uri": "https://localhost:8080/",
          "height": 325
        },
        "outputId": "e458755e-25cc-4c0f-aade-dc91e22d60d2"
      },
      "source": [
        "fig = plt.figure(figsize=(10,6))\n",
        "for i in range(10):\n",
        "    plt.subplot(2, 5, i+1)\n",
        "    num0_9 = X_train0[y_train0 == i]\n",
        "    # print(num0_9.shape)\n",
        "    plt.imshow(num0_9[0]) #, cmap='gray') #, interpolation='none')\n",
        "    plt.title(\"Class %d\" % (i))\n",
        "    plt.xticks([])\n",
        "    plt.yticks([])"
      ],
      "execution_count": 7,
      "outputs": [
        {
          "output_type": "display_data",
          "data": {
            "image/png": "[encoded data removed]",
            "text/plain": [
              "<Figure size 720x432 with 10 Axes>"
            ]
          },
          "metadata": {
            "tags": []
          }
        }
      ]
    },
    {
      "cell_type": "markdown",
      "metadata": {
        "id": "55DYVfFXi0WR"
      },
      "source": [
        "# Design CNN"
      ]
    },
    {
      "cell_type": "markdown",
      "metadata": {
        "id": "iPcLIcUCcsiG"
      },
      "source": [
        "### import models, layers, callbacks\n",
        "- models: Sequential\n",
        "- layers: Conv2D, MaxPool2D, Flatten\n",
        "- callbacks: ModelCheckpoint, EarlyStopping"
      ]
    },
    {
      "cell_type": "code",
      "metadata": {
        "id": "NzqMC4Xtc3ZE"
      },
      "source": [
        "from keras.models import Sequential\n",
        "from keras.layers import Conv2D, MaxPool2D, Flatten\n",
        "from keras.callbacks import ModelCheckpoint, EarlyStopping"
      ],
      "execution_count": 8,
      "outputs": []
    },
    {
      "cell_type": "markdown",
      "metadata": {
        "id": "7Z6DJJUCei-s"
      },
      "source": [
        "## **CNN2 + FCN2**"
      ]
    },
    {
      "cell_type": "code",
      "metadata": {
        "id": "pV3NFglM7P65"
      },
      "source": [
        "c2f2 = keras.models.Sequential([ \n",
        "    Conv2D(input_shape=(28,28,1),kernel_size=(3,3),strides=(1,1),filters= 32,padding='same',activation='relu'),\n",
        "    MaxPool2D(pool_size=(2,2), strides=(2,2)), \n",
        "    Conv2D(kernel_size=(3,3),strides=(1,1),filters= 64,padding='same',activation='relu'),\n",
        "    MaxPool2D(pool_size=(2,2), strides=(2,2)),\n",
        "    Flatten(), \n",
        "    keras.layers.Dense(128, activation='relu'),  \n",
        "    keras.layers.Dropout(0.25), \n",
        "    keras.layers.Dense(10, activation='softmax')\n",
        "])\n",
        "\n",
        "c2f2.compile(optimizer='adam',\n",
        "              loss='categorical_crossentropy',\n",
        "              metrics=['accuracy']) "
      ],
      "execution_count": 9,
      "outputs": []
    },
    {
      "cell_type": "code",
      "metadata": {
        "id": "OGtCiKy57YkR",
        "colab": {
          "base_uri": "https://localhost:8080/"
        },
        "outputId": "468bf1f6-418b-4a4f-8529-b55e6ce3423a"
      },
      "source": [
        "c2f2.summary()"
      ],
      "execution_count": 10,
      "outputs": [
        {
          "output_type": "stream",
          "text": [
            "Model: \"sequential\"\n",
            "_________________________________________________________________\n",
            "Layer (type)                 Output Shape              Param #   \n",
            "=================================================================\n",
            "conv2d (Conv2D)              (None, 28, 28, 32)        320       \n",
            "_________________________________________________________________\n",
            "max_pooling2d (MaxPooling2D) (None, 14, 14, 32)        0         \n",
            "_________________________________________________________________\n",
            "conv2d_1 (Conv2D)            (None, 14, 14, 64)        18496     \n",
            "_________________________________________________________________\n",
            "max_pooling2d_1 (MaxPooling2 (None, 7, 7, 64)          0         \n",
            "_________________________________________________________________\n",
            "flatten (Flatten)            (None, 3136)              0         \n",
            "_________________________________________________________________\n",
            "dense (Dense)                (None, 128)               401536    \n",
            "_________________________________________________________________\n",
            "dropout (Dropout)            (None, 128)               0         \n",
            "_________________________________________________________________\n",
            "dense_1 (Dense)              (None, 10)                1290      \n",
            "=================================================================\n",
            "Total params: 421,642\n",
            "Trainable params: 421,642\n",
            "Non-trainable params: 0\n",
            "_________________________________________________________________\n"
          ],
          "name": "stdout"
        }
      ]
    },
    {
      "cell_type": "code",
      "metadata": {
        "id": "zw_pQPBdJmU8"
      },
      "source": [
        "cp_callback = callbacks.ModelCheckpoint(filepath=\"./fmnist_c2f2_best_weights.{epoch:03d}-{val_accuracy:.4f}.hdf5\", \n",
        "                              monitor='val_accuracy', verbose=0, save_best_only=True)\n",
        "es_callback = callbacks.EarlyStopping(monitor='val_accuracy', \n",
        "                            mode='max', verbose=1, patience=50)    # patience=20, 50"
      ],
      "execution_count": 11,
      "outputs": []
    },
    {
      "cell_type": "code",
      "metadata": {
        "id": "94GWWQt-7eRS",
        "colab": {
          "base_uri": "https://localhost:8080/"
        },
        "outputId": "83406894-3f4f-40a8-fabe-d7e3a8e22b82"
      },
      "source": [
        "hist = c2f2.fit(X_train, y_train, epochs = 500 , batch_size =32, \n",
        "         callbacks=[cp_callback, es_callback], \n",
        "         validation_data=(X_test,y_test))"
      ],
      "execution_count": 12,
      "outputs": [
        {
          "output_type": "stream",
          "text": [
            "Epoch 1/500\n",
            "1875/1875 [==============================] - 6s 3ms/step - loss: 0.4336 - accuracy: 0.8439 - val_loss: 0.3217 - val_accuracy: 0.8855\n",
            "Epoch 2/500\n",
            "1875/1875 [==============================] - 6s 3ms/step - loss: 0.2854 - accuracy: 0.8963 - val_loss: 0.2660 - val_accuracy: 0.9022\n",
            "Epoch 3/500\n",
            "1875/1875 [==============================] - 5s 3ms/step - loss: 0.2398 - accuracy: 0.9118 - val_loss: 0.2512 - val_accuracy: 0.9071\n",
            "Epoch 4/500\n",
            "1875/1875 [==============================] - 5s 3ms/step - loss: 0.2074 - accuracy: 0.9225 - val_loss: 0.2416 - val_accuracy: 0.9113\n",
            "Epoch 5/500\n",
            "1875/1875 [==============================] - 5s 3ms/step - loss: 0.1873 - accuracy: 0.9302 - val_loss: 0.2580 - val_accuracy: 0.9119\n",
            "Epoch 6/500\n",
            "1875/1875 [==============================] - 5s 3ms/step - loss: 0.1658 - accuracy: 0.9387 - val_loss: 0.2296 - val_accuracy: 0.9209\n",
            "Epoch 7/500\n",
            "1875/1875 [==============================] - 5s 3ms/step - loss: 0.1484 - accuracy: 0.9433 - val_loss: 0.2355 - val_accuracy: 0.9208\n",
            "Epoch 8/500\n",
            "1875/1875 [==============================] - 5s 3ms/step - loss: 0.1323 - accuracy: 0.9495 - val_loss: 0.2426 - val_accuracy: 0.9237\n",
            "Epoch 9/500\n",
            "1875/1875 [==============================] - 5s 3ms/step - loss: 0.1184 - accuracy: 0.9556 - val_loss: 0.2476 - val_accuracy: 0.9231\n",
            "Epoch 10/500\n",
            "1875/1875 [==============================] - 5s 3ms/step - loss: 0.1092 - accuracy: 0.9577 - val_loss: 0.2580 - val_accuracy: 0.9195\n",
            "Epoch 11/500\n",
            "1875/1875 [==============================] - 5s 3ms/step - loss: 0.0990 - accuracy: 0.9621 - val_loss: 0.2746 - val_accuracy: 0.9256\n",
            "Epoch 12/500\n",
            "1875/1875 [==============================] - 5s 3ms/step - loss: 0.0886 - accuracy: 0.9660 - val_loss: 0.2796 - val_accuracy: 0.9203\n",
            "Epoch 13/500\n",
            "1875/1875 [==============================] - 5s 3ms/step - loss: 0.0787 - accuracy: 0.9701 - val_loss: 0.3131 - val_accuracy: 0.9196\n",
            "Epoch 14/500\n",
            "1875/1875 [==============================] - 5s 3ms/step - loss: 0.0747 - accuracy: 0.9711 - val_loss: 0.3236 - val_accuracy: 0.9190\n",
            "Epoch 15/500\n",
            "1875/1875 [==============================] - 5s 3ms/step - loss: 0.0681 - accuracy: 0.9743 - val_loss: 0.3239 - val_accuracy: 0.9210\n",
            "Epoch 16/500\n",
            "1875/1875 [==============================] - 5s 3ms/step - loss: 0.0646 - accuracy: 0.9757 - val_loss: 0.3543 - val_accuracy: 0.9225\n",
            "Epoch 17/500\n",
            "1875/1875 [==============================] - 5s 3ms/step - loss: 0.0595 - accuracy: 0.9770 - val_loss: 0.3733 - val_accuracy: 0.9203\n",
            "Epoch 18/500\n",
            "1875/1875 [==============================] - 5s 3ms/step - loss: 0.0568 - accuracy: 0.9786 - val_loss: 0.3765 - val_accuracy: 0.9213\n",
            "Epoch 19/500\n",
            "1875/1875 [==============================] - 5s 3ms/step - loss: 0.0530 - accuracy: 0.9799 - val_loss: 0.4033 - val_accuracy: 0.9216\n",
            "Epoch 20/500\n",
            "1875/1875 [==============================] - 6s 3ms/step - loss: 0.0502 - accuracy: 0.9808 - val_loss: 0.4084 - val_accuracy: 0.9250\n",
            "Epoch 21/500\n",
            "1875/1875 [==============================] - 5s 3ms/step - loss: 0.0475 - accuracy: 0.9820 - val_loss: 0.4179 - val_accuracy: 0.9240\n",
            "Epoch 22/500\n",
            "1875/1875 [==============================] - 5s 3ms/step - loss: 0.0445 - accuracy: 0.9833 - val_loss: 0.4316 - val_accuracy: 0.9237\n",
            "Epoch 23/500\n",
            "1875/1875 [==============================] - 5s 3ms/step - loss: 0.0445 - accuracy: 0.9832 - val_loss: 0.4159 - val_accuracy: 0.9209\n",
            "Epoch 24/500\n",
            "1875/1875 [==============================] - 5s 3ms/step - loss: 0.0443 - accuracy: 0.9840 - val_loss: 0.4699 - val_accuracy: 0.9226\n",
            "Epoch 25/500\n",
            "1875/1875 [==============================] - 5s 3ms/step - loss: 0.0422 - accuracy: 0.9840 - val_loss: 0.4438 - val_accuracy: 0.9202\n",
            "Epoch 26/500\n",
            "1875/1875 [==============================] - 5s 3ms/step - loss: 0.0412 - accuracy: 0.9846 - val_loss: 0.4518 - val_accuracy: 0.9197\n",
            "Epoch 27/500\n",
            "1875/1875 [==============================] - 5s 3ms/step - loss: 0.0407 - accuracy: 0.9851 - val_loss: 0.4813 - val_accuracy: 0.9207\n",
            "Epoch 28/500\n",
            "1875/1875 [==============================] - 5s 3ms/step - loss: 0.0395 - accuracy: 0.9855 - val_loss: 0.5196 - val_accuracy: 0.9197\n",
            "Epoch 29/500\n",
            "1875/1875 [==============================] - 5s 3ms/step - loss: 0.0365 - accuracy: 0.9866 - val_loss: 0.4683 - val_accuracy: 0.9193\n",
            "Epoch 30/500\n",
            "1875/1875 [==============================] - 5s 3ms/step - loss: 0.0377 - accuracy: 0.9864 - val_loss: 0.5134 - val_accuracy: 0.9161\n",
            "Epoch 31/500\n",
            "1875/1875 [==============================] - 5s 3ms/step - loss: 0.0364 - accuracy: 0.9863 - val_loss: 0.5502 - val_accuracy: 0.9194\n",
            "Epoch 32/500\n",
            "1875/1875 [==============================] - 6s 3ms/step - loss: 0.0373 - accuracy: 0.9860 - val_loss: 0.4616 - val_accuracy: 0.9218\n",
            "Epoch 33/500\n",
            "1875/1875 [==============================] - 6s 3ms/step - loss: 0.0354 - accuracy: 0.9868 - val_loss: 0.5012 - val_accuracy: 0.9211\n",
            "Epoch 34/500\n",
            "1875/1875 [==============================] - 6s 3ms/step - loss: 0.0335 - accuracy: 0.9878 - val_loss: 0.5289 - val_accuracy: 0.9196\n",
            "Epoch 35/500\n",
            "1875/1875 [==============================] - 5s 3ms/step - loss: 0.0322 - accuracy: 0.9886 - val_loss: 0.5366 - val_accuracy: 0.9199\n",
            "Epoch 36/500\n",
            "1875/1875 [==============================] - 5s 3ms/step - loss: 0.0330 - accuracy: 0.9883 - val_loss: 0.5367 - val_accuracy: 0.9224\n",
            "Epoch 37/500\n",
            "1875/1875 [==============================] - 6s 3ms/step - loss: 0.0311 - accuracy: 0.9893 - val_loss: 0.5676 - val_accuracy: 0.9200\n",
            "Epoch 38/500\n",
            "1875/1875 [==============================] - 5s 3ms/step - loss: 0.0327 - accuracy: 0.9877 - val_loss: 0.5592 - val_accuracy: 0.9224\n",
            "Epoch 39/500\n",
            "1875/1875 [==============================] - 5s 3ms/step - loss: 0.0326 - accuracy: 0.9880 - val_loss: 0.5554 - val_accuracy: 0.9192\n",
            "Epoch 40/500\n",
            "1875/1875 [==============================] - 5s 3ms/step - loss: 0.0299 - accuracy: 0.9892 - val_loss: 0.5432 - val_accuracy: 0.9176\n",
            "Epoch 41/500\n",
            "1875/1875 [==============================] - 5s 3ms/step - loss: 0.0317 - accuracy: 0.9889 - val_loss: 0.6352 - val_accuracy: 0.9194\n",
            "Epoch 42/500\n",
            "1875/1875 [==============================] - 5s 3ms/step - loss: 0.0313 - accuracy: 0.9894 - val_loss: 0.5702 - val_accuracy: 0.9225\n",
            "Epoch 43/500\n",
            "1875/1875 [==============================] - 5s 3ms/step - loss: 0.0277 - accuracy: 0.9901 - val_loss: 0.5787 - val_accuracy: 0.9187\n",
            "Epoch 44/500\n",
            "1875/1875 [==============================] - 6s 3ms/step - loss: 0.0306 - accuracy: 0.9892 - val_loss: 0.5973 - val_accuracy: 0.9194\n",
            "Epoch 45/500\n",
            "1875/1875 [==============================] - 5s 3ms/step - loss: 0.0296 - accuracy: 0.9897 - val_loss: 0.6256 - val_accuracy: 0.9170\n",
            "Epoch 46/500\n",
            "1875/1875 [==============================] - 5s 3ms/step - loss: 0.0268 - accuracy: 0.9908 - val_loss: 0.6366 - val_accuracy: 0.9192\n",
            "Epoch 47/500\n",
            "1875/1875 [==============================] - 5s 3ms/step - loss: 0.0282 - accuracy: 0.9903 - val_loss: 0.6938 - val_accuracy: 0.9203\n",
            "Epoch 48/500\n",
            "1875/1875 [==============================] - 5s 3ms/step - loss: 0.0299 - accuracy: 0.9895 - val_loss: 0.6694 - val_accuracy: 0.9192\n",
            "Epoch 49/500\n",
            "1875/1875 [==============================] - 5s 3ms/step - loss: 0.0289 - accuracy: 0.9905 - val_loss: 0.6054 - val_accuracy: 0.9185\n",
            "Epoch 50/500\n",
            "1875/1875 [==============================] - 5s 3ms/step - loss: 0.0243 - accuracy: 0.9910 - val_loss: 0.6926 - val_accuracy: 0.9193\n",
            "Epoch 51/500\n",
            "1875/1875 [==============================] - 5s 3ms/step - loss: 0.0287 - accuracy: 0.9905 - val_loss: 0.6849 - val_accuracy: 0.9176\n",
            "Epoch 52/500\n",
            "1875/1875 [==============================] - 6s 3ms/step - loss: 0.0276 - accuracy: 0.9906 - val_loss: 0.7428 - val_accuracy: 0.9199\n",
            "Epoch 53/500\n",
            "1875/1875 [==============================] - 5s 3ms/step - loss: 0.0258 - accuracy: 0.9912 - val_loss: 0.6702 - val_accuracy: 0.9169\n",
            "Epoch 54/500\n",
            "1875/1875 [==============================] - 5s 3ms/step - loss: 0.0274 - accuracy: 0.9906 - val_loss: 0.7033 - val_accuracy: 0.9210\n",
            "Epoch 55/500\n",
            "1875/1875 [==============================] - 5s 3ms/step - loss: 0.0243 - accuracy: 0.9920 - val_loss: 0.8148 - val_accuracy: 0.9229\n",
            "Epoch 56/500\n",
            "1875/1875 [==============================] - 5s 3ms/step - loss: 0.0284 - accuracy: 0.9906 - val_loss: 0.6854 - val_accuracy: 0.9226\n",
            "Epoch 57/500\n",
            "1875/1875 [==============================] - 5s 3ms/step - loss: 0.0277 - accuracy: 0.9909 - val_loss: 0.6927 - val_accuracy: 0.9204\n",
            "Epoch 58/500\n",
            "1875/1875 [==============================] - 6s 3ms/step - loss: 0.0251 - accuracy: 0.9914 - val_loss: 0.6930 - val_accuracy: 0.9210\n",
            "Epoch 59/500\n",
            "1875/1875 [==============================] - 6s 3ms/step - loss: 0.0261 - accuracy: 0.9913 - val_loss: 0.7173 - val_accuracy: 0.9182\n",
            "Epoch 60/500\n",
            "1875/1875 [==============================] - 5s 3ms/step - loss: 0.0243 - accuracy: 0.9910 - val_loss: 0.7007 - val_accuracy: 0.9169\n",
            "Epoch 61/500\n",
            "1875/1875 [==============================] - 5s 3ms/step - loss: 0.0255 - accuracy: 0.9915 - val_loss: 0.6810 - val_accuracy: 0.9141\n",
            "Epoch 00061: early stopping\n"
          ],
          "name": "stdout"
        }
      ]
    },
    {
      "cell_type": "code",
      "metadata": {
        "id": "0-7is2U49A6Z",
        "colab": {
          "base_uri": "https://localhost:8080/"
        },
        "outputId": "0290ff84-fe4b-4b29-9021-8c67c6b0df28"
      },
      "source": [
        "c2f2.evaluate(X_test, y_test, batch_size =32)"
      ],
      "execution_count": 13,
      "outputs": [
        {
          "output_type": "stream",
          "text": [
            "313/313 [==============================] - 1s 2ms/step - loss: 0.6810 - accuracy: 0.9141\n"
          ],
          "name": "stdout"
        },
        {
          "output_type": "execute_result",
          "data": {
            "text/plain": [
              "[0.6810128688812256, 0.9140999913215637]"
            ]
          },
          "metadata": {
            "tags": []
          },
          "execution_count": 13
        }
      ]
    },
    {
      "cell_type": "markdown",
      "metadata": {
        "id": "SUJxRQtafihM"
      },
      "source": [
        "## **CNN2 + FCN3**"
      ]
    },
    {
      "cell_type": "code",
      "metadata": {
        "id": "Nl5CyAymAB34"
      },
      "source": [
        "c2f3 = keras.models.Sequential([ \n",
        "    Conv2D(input_shape=(28,28,1),kernel_size=(3,3),strides=(1,1),filters= 32,padding='same',activation='relu'),\n",
        "    MaxPool2D(pool_size=(2,2), strides=(2,2)), \n",
        "    Conv2D(kernel_size=(3,3),strides=(1,1),filters= 64,padding='same',activation='relu'),\n",
        "    MaxPool2D(pool_size=(2,2), strides=(2,2)),\n",
        "    Flatten(), \n",
        "    keras.layers.Dense(128, activation='relu'),  \n",
        "    keras.layers.Dropout(0.25), \n",
        "    keras.layers.Dense(64, activation='relu'),  \n",
        "    keras.layers.Dropout(0.25), \n",
        "    keras.layers.Dense(10, activation='softmax')\n",
        "])\n",
        "\n",
        "c2f3.compile(optimizer='adam',\n",
        "              loss='categorical_crossentropy',\n",
        "              metrics=['accuracy']) "
      ],
      "execution_count": 14,
      "outputs": []
    },
    {
      "cell_type": "code",
      "metadata": {
        "id": "gYxuGW_2ANL8",
        "colab": {
          "base_uri": "https://localhost:8080/"
        },
        "outputId": "5976c1bc-339a-465c-f76f-b531f1aa88ef"
      },
      "source": [
        "c2f3.summary()"
      ],
      "execution_count": 15,
      "outputs": [
        {
          "output_type": "stream",
          "text": [
            "Model: \"sequential_1\"\n",
            "_________________________________________________________________\n",
            "Layer (type)                 Output Shape              Param #   \n",
            "=================================================================\n",
            "conv2d_2 (Conv2D)            (None, 28, 28, 32)        320       \n",
            "_________________________________________________________________\n",
            "max_pooling2d_2 (MaxPooling2 (None, 14, 14, 32)        0         \n",
            "_________________________________________________________________\n",
            "conv2d_3 (Conv2D)            (None, 14, 14, 64)        18496     \n",
            "_________________________________________________________________\n",
            "max_pooling2d_3 (MaxPooling2 (None, 7, 7, 64)          0         \n",
            "_________________________________________________________________\n",
            "flatten_1 (Flatten)          (None, 3136)              0         \n",
            "_________________________________________________________________\n",
            "dense_2 (Dense)              (None, 128)               401536    \n",
            "_________________________________________________________________\n",
            "dropout_1 (Dropout)          (None, 128)               0         \n",
            "_________________________________________________________________\n",
            "dense_3 (Dense)              (None, 64)                8256      \n",
            "_________________________________________________________________\n",
            "dropout_2 (Dropout)          (None, 64)                0         \n",
            "_________________________________________________________________\n",
            "dense_4 (Dense)              (None, 10)                650       \n",
            "=================================================================\n",
            "Total params: 429,258\n",
            "Trainable params: 429,258\n",
            "Non-trainable params: 0\n",
            "_________________________________________________________________\n"
          ],
          "name": "stdout"
        }
      ]
    },
    {
      "cell_type": "code",
      "metadata": {
        "id": "KMsTuhO2x61z"
      },
      "source": [
        "cp_callback = callbacks.ModelCheckpoint(filepath=\"./fmnist_c2f3_best_weights.{epoch:03d}-{val_accuracy:.4f}.hdf5\", \n",
        "                              monitor='val_accuracy', verbose=0, save_best_only=True)\n",
        "es_callback = callbacks.EarlyStopping(monitor='val_accuracy', \n",
        "                            mode='max', verbose=1, patience=50)    # patience=20, 50"
      ],
      "execution_count": 16,
      "outputs": []
    },
    {
      "cell_type": "code",
      "metadata": {
        "id": "lO1of4AOAQlV",
        "colab": {
          "base_uri": "https://localhost:8080/"
        },
        "outputId": "f49c2b3b-40c8-4b43-ebba-77cfa15324d6"
      },
      "source": [
        "c2f3.fit(X_train, y_train, epochs=500, batch_size =32, \n",
        "         callbacks=[cp_callback, es_callback], \n",
        "         validation_data=(X_test,y_test))"
      ],
      "execution_count": 17,
      "outputs": [
        {
          "output_type": "stream",
          "text": [
            "Epoch 1/500\n",
            "1875/1875 [==============================] - 6s 3ms/step - loss: 0.4937 - accuracy: 0.8227 - val_loss: 0.3331 - val_accuracy: 0.8811\n",
            "Epoch 2/500\n",
            "1875/1875 [==============================] - 6s 3ms/step - loss: 0.3158 - accuracy: 0.8880 - val_loss: 0.2728 - val_accuracy: 0.9039\n",
            "Epoch 3/500\n",
            "1875/1875 [==============================] - 5s 3ms/step - loss: 0.2650 - accuracy: 0.9042 - val_loss: 0.2619 - val_accuracy: 0.9056\n",
            "Epoch 4/500\n",
            "1875/1875 [==============================] - 6s 3ms/step - loss: 0.2331 - accuracy: 0.9155 - val_loss: 0.2472 - val_accuracy: 0.9079\n",
            "Epoch 5/500\n",
            "1875/1875 [==============================] - 6s 3ms/step - loss: 0.2117 - accuracy: 0.9239 - val_loss: 0.2387 - val_accuracy: 0.9151\n",
            "Epoch 6/500\n",
            "1875/1875 [==============================] - 6s 3ms/step - loss: 0.1905 - accuracy: 0.9314 - val_loss: 0.2489 - val_accuracy: 0.9128\n",
            "Epoch 7/500\n",
            "1875/1875 [==============================] - 6s 3ms/step - loss: 0.1753 - accuracy: 0.9357 - val_loss: 0.2354 - val_accuracy: 0.9200\n",
            "Epoch 8/500\n",
            "1875/1875 [==============================] - 6s 3ms/step - loss: 0.1575 - accuracy: 0.9413 - val_loss: 0.2370 - val_accuracy: 0.9208\n",
            "Epoch 9/500\n",
            "1875/1875 [==============================] - 5s 3ms/step - loss: 0.1479 - accuracy: 0.9455 - val_loss: 0.2382 - val_accuracy: 0.9228\n",
            "Epoch 10/500\n",
            "1875/1875 [==============================] - 5s 3ms/step - loss: 0.1339 - accuracy: 0.9516 - val_loss: 0.2549 - val_accuracy: 0.9219\n",
            "Epoch 11/500\n",
            "1875/1875 [==============================] - 6s 3ms/step - loss: 0.1236 - accuracy: 0.9543 - val_loss: 0.2989 - val_accuracy: 0.9177\n",
            "Epoch 12/500\n",
            "1875/1875 [==============================] - 6s 3ms/step - loss: 0.1163 - accuracy: 0.9577 - val_loss: 0.2561 - val_accuracy: 0.9235\n",
            "Epoch 13/500\n",
            "1875/1875 [==============================] - 5s 3ms/step - loss: 0.1100 - accuracy: 0.9596 - val_loss: 0.2824 - val_accuracy: 0.9230\n",
            "Epoch 14/500\n",
            "1875/1875 [==============================] - 6s 3ms/step - loss: 0.1019 - accuracy: 0.9636 - val_loss: 0.2768 - val_accuracy: 0.9257\n",
            "Epoch 15/500\n",
            "1875/1875 [==============================] - 6s 3ms/step - loss: 0.0977 - accuracy: 0.9643 - val_loss: 0.3070 - val_accuracy: 0.9199\n",
            "Epoch 16/500\n",
            "1875/1875 [==============================] - 6s 3ms/step - loss: 0.0877 - accuracy: 0.9675 - val_loss: 0.3179 - val_accuracy: 0.9234\n",
            "Epoch 17/500\n",
            "1875/1875 [==============================] - 6s 3ms/step - loss: 0.0885 - accuracy: 0.9668 - val_loss: 0.3119 - val_accuracy: 0.9256\n",
            "Epoch 18/500\n",
            "1875/1875 [==============================] - 6s 3ms/step - loss: 0.0812 - accuracy: 0.9696 - val_loss: 0.3206 - val_accuracy: 0.9233\n",
            "Epoch 19/500\n",
            "1875/1875 [==============================] - 6s 3ms/step - loss: 0.0790 - accuracy: 0.9709 - val_loss: 0.3299 - val_accuracy: 0.9264\n",
            "Epoch 20/500\n",
            "1875/1875 [==============================] - 6s 3ms/step - loss: 0.0719 - accuracy: 0.9738 - val_loss: 0.3522 - val_accuracy: 0.9215\n",
            "Epoch 21/500\n",
            "1875/1875 [==============================] - 6s 3ms/step - loss: 0.0706 - accuracy: 0.9737 - val_loss: 0.3768 - val_accuracy: 0.9245\n",
            "Epoch 22/500\n",
            "1875/1875 [==============================] - 6s 3ms/step - loss: 0.0703 - accuracy: 0.9740 - val_loss: 0.3550 - val_accuracy: 0.9232\n",
            "Epoch 23/500\n",
            "1875/1875 [==============================] - 6s 3ms/step - loss: 0.0636 - accuracy: 0.9765 - val_loss: 0.3861 - val_accuracy: 0.9211\n",
            "Epoch 24/500\n",
            "1875/1875 [==============================] - 6s 3ms/step - loss: 0.0646 - accuracy: 0.9769 - val_loss: 0.3721 - val_accuracy: 0.9220\n",
            "Epoch 25/500\n",
            "1875/1875 [==============================] - 6s 3ms/step - loss: 0.0630 - accuracy: 0.9774 - val_loss: 0.3878 - val_accuracy: 0.9194\n",
            "Epoch 26/500\n",
            "1875/1875 [==============================] - 6s 3ms/step - loss: 0.0597 - accuracy: 0.9785 - val_loss: 0.3742 - val_accuracy: 0.9221\n",
            "Epoch 27/500\n",
            "1875/1875 [==============================] - 6s 3ms/step - loss: 0.0571 - accuracy: 0.9792 - val_loss: 0.4080 - val_accuracy: 0.9241\n",
            "Epoch 28/500\n",
            "1875/1875 [==============================] - 6s 3ms/step - loss: 0.0572 - accuracy: 0.9797 - val_loss: 0.4345 - val_accuracy: 0.9233\n",
            "Epoch 29/500\n",
            "1875/1875 [==============================] - 5s 3ms/step - loss: 0.0557 - accuracy: 0.9804 - val_loss: 0.4136 - val_accuracy: 0.9188\n",
            "Epoch 30/500\n",
            "1875/1875 [==============================] - 6s 3ms/step - loss: 0.0536 - accuracy: 0.9807 - val_loss: 0.4368 - val_accuracy: 0.9174\n",
            "Epoch 31/500\n",
            "1875/1875 [==============================] - 6s 3ms/step - loss: 0.0534 - accuracy: 0.9811 - val_loss: 0.4798 - val_accuracy: 0.9200\n",
            "Epoch 32/500\n",
            "1875/1875 [==============================] - 6s 3ms/step - loss: 0.0508 - accuracy: 0.9818 - val_loss: 0.4849 - val_accuracy: 0.9193\n",
            "Epoch 33/500\n",
            "1875/1875 [==============================] - 6s 3ms/step - loss: 0.0489 - accuracy: 0.9827 - val_loss: 0.4602 - val_accuracy: 0.9211\n",
            "Epoch 34/500\n",
            "1875/1875 [==============================] - 6s 3ms/step - loss: 0.0485 - accuracy: 0.9820 - val_loss: 0.4990 - val_accuracy: 0.9225\n",
            "Epoch 35/500\n",
            "1875/1875 [==============================] - 6s 3ms/step - loss: 0.0493 - accuracy: 0.9834 - val_loss: 0.4638 - val_accuracy: 0.9145\n",
            "Epoch 36/500\n",
            "1875/1875 [==============================] - 5s 3ms/step - loss: 0.0457 - accuracy: 0.9845 - val_loss: 0.4746 - val_accuracy: 0.9195\n",
            "Epoch 37/500\n",
            "1875/1875 [==============================] - 5s 3ms/step - loss: 0.0479 - accuracy: 0.9834 - val_loss: 0.4704 - val_accuracy: 0.9213\n",
            "Epoch 38/500\n",
            "1875/1875 [==============================] - 5s 3ms/step - loss: 0.0472 - accuracy: 0.9837 - val_loss: 0.4782 - val_accuracy: 0.9192\n",
            "Epoch 39/500\n",
            "1875/1875 [==============================] - 6s 3ms/step - loss: 0.0473 - accuracy: 0.9837 - val_loss: 0.5062 - val_accuracy: 0.9193\n",
            "Epoch 40/500\n",
            "1875/1875 [==============================] - 5s 3ms/step - loss: 0.0421 - accuracy: 0.9854 - val_loss: 0.4982 - val_accuracy: 0.9236\n",
            "Epoch 41/500\n",
            "1875/1875 [==============================] - 6s 3ms/step - loss: 0.0430 - accuracy: 0.9851 - val_loss: 0.4962 - val_accuracy: 0.9222\n",
            "Epoch 42/500\n",
            "1875/1875 [==============================] - 5s 3ms/step - loss: 0.0410 - accuracy: 0.9857 - val_loss: 0.5109 - val_accuracy: 0.9201\n",
            "Epoch 43/500\n",
            "1875/1875 [==============================] - 5s 3ms/step - loss: 0.0406 - accuracy: 0.9859 - val_loss: 0.5024 - val_accuracy: 0.9194\n",
            "Epoch 44/500\n",
            "1875/1875 [==============================] - 6s 3ms/step - loss: 0.0386 - accuracy: 0.9866 - val_loss: 0.4800 - val_accuracy: 0.9162\n",
            "Epoch 45/500\n",
            "1875/1875 [==============================] - 5s 3ms/step - loss: 0.0428 - accuracy: 0.9855 - val_loss: 0.5152 - val_accuracy: 0.9222\n",
            "Epoch 46/500\n",
            "1875/1875 [==============================] - 6s 3ms/step - loss: 0.0419 - accuracy: 0.9862 - val_loss: 0.5209 - val_accuracy: 0.9216\n",
            "Epoch 47/500\n",
            "1875/1875 [==============================] - 6s 3ms/step - loss: 0.0374 - accuracy: 0.9873 - val_loss: 0.5647 - val_accuracy: 0.9234\n",
            "Epoch 48/500\n",
            "1875/1875 [==============================] - 6s 3ms/step - loss: 0.0378 - accuracy: 0.9866 - val_loss: 0.5402 - val_accuracy: 0.9232\n",
            "Epoch 49/500\n",
            "1875/1875 [==============================] - 6s 3ms/step - loss: 0.0375 - accuracy: 0.9873 - val_loss: 0.5601 - val_accuracy: 0.9210\n",
            "Epoch 50/500\n",
            "1875/1875 [==============================] - 6s 3ms/step - loss: 0.0387 - accuracy: 0.9877 - val_loss: 0.5545 - val_accuracy: 0.9192\n",
            "Epoch 51/500\n",
            "1875/1875 [==============================] - 5s 3ms/step - loss: 0.0370 - accuracy: 0.9877 - val_loss: 0.5652 - val_accuracy: 0.9171\n",
            "Epoch 52/500\n",
            "1875/1875 [==============================] - 6s 3ms/step - loss: 0.0377 - accuracy: 0.9879 - val_loss: 0.5923 - val_accuracy: 0.9187\n",
            "Epoch 53/500\n",
            "1875/1875 [==============================] - 6s 3ms/step - loss: 0.0372 - accuracy: 0.9873 - val_loss: 0.6318 - val_accuracy: 0.9162\n",
            "Epoch 54/500\n",
            "1875/1875 [==============================] - 6s 3ms/step - loss: 0.0342 - accuracy: 0.9880 - val_loss: 0.5770 - val_accuracy: 0.9188\n",
            "Epoch 55/500\n",
            "1875/1875 [==============================] - 6s 3ms/step - loss: 0.0355 - accuracy: 0.9880 - val_loss: 0.6191 - val_accuracy: 0.9215\n",
            "Epoch 56/500\n",
            "1875/1875 [==============================] - 6s 3ms/step - loss: 0.0344 - accuracy: 0.9885 - val_loss: 0.5868 - val_accuracy: 0.9203\n",
            "Epoch 57/500\n",
            "1875/1875 [==============================] - 6s 3ms/step - loss: 0.0370 - accuracy: 0.9879 - val_loss: 0.6087 - val_accuracy: 0.9205\n",
            "Epoch 58/500\n",
            "1875/1875 [==============================] - 6s 3ms/step - loss: 0.0347 - accuracy: 0.9885 - val_loss: 0.5494 - val_accuracy: 0.9213\n",
            "Epoch 59/500\n",
            "1875/1875 [==============================] - 5s 3ms/step - loss: 0.0350 - accuracy: 0.9884 - val_loss: 0.5849 - val_accuracy: 0.9211\n",
            "Epoch 60/500\n",
            "1875/1875 [==============================] - 6s 3ms/step - loss: 0.0321 - accuracy: 0.9893 - val_loss: 0.6260 - val_accuracy: 0.9187\n",
            "Epoch 61/500\n",
            "1875/1875 [==============================] - 6s 3ms/step - loss: 0.0358 - accuracy: 0.9885 - val_loss: 0.5868 - val_accuracy: 0.9208\n",
            "Epoch 62/500\n",
            "1875/1875 [==============================] - 6s 3ms/step - loss: 0.0313 - accuracy: 0.9894 - val_loss: 0.6610 - val_accuracy: 0.9201\n",
            "Epoch 63/500\n",
            "1875/1875 [==============================] - 6s 3ms/step - loss: 0.0307 - accuracy: 0.9900 - val_loss: 0.6156 - val_accuracy: 0.9173\n",
            "Epoch 64/500\n",
            "1875/1875 [==============================] - 6s 3ms/step - loss: 0.0333 - accuracy: 0.9895 - val_loss: 0.5854 - val_accuracy: 0.9180\n",
            "Epoch 65/500\n",
            "1875/1875 [==============================] - 6s 3ms/step - loss: 0.0330 - accuracy: 0.9891 - val_loss: 0.6061 - val_accuracy: 0.9209\n",
            "Epoch 66/500\n",
            "1875/1875 [==============================] - 6s 3ms/step - loss: 0.0316 - accuracy: 0.9897 - val_loss: 0.6526 - val_accuracy: 0.9197\n",
            "Epoch 67/500\n",
            "1875/1875 [==============================] - 6s 3ms/step - loss: 0.0332 - accuracy: 0.9891 - val_loss: 0.6765 - val_accuracy: 0.9190\n",
            "Epoch 68/500\n",
            "1875/1875 [==============================] - 6s 3ms/step - loss: 0.0292 - accuracy: 0.9902 - val_loss: 0.5852 - val_accuracy: 0.9204\n",
            "Epoch 69/500\n",
            "1875/1875 [==============================] - 6s 3ms/step - loss: 0.0328 - accuracy: 0.9889 - val_loss: 0.6511 - val_accuracy: 0.9203\n",
            "Epoch 00069: early stopping\n"
          ],
          "name": "stdout"
        },
        {
          "output_type": "execute_result",
          "data": {
            "text/plain": [
              "<tensorflow.python.keras.callbacks.History at 0x7f4286ec1c18>"
            ]
          },
          "metadata": {
            "tags": []
          },
          "execution_count": 17
        }
      ]
    },
    {
      "cell_type": "code",
      "metadata": {
        "id": "W-eIxCasDBil",
        "colab": {
          "base_uri": "https://localhost:8080/"
        },
        "outputId": "b38971e7-c839-4c54-b445-64c39098d43e"
      },
      "source": [
        " c2f3.evaluate(X_test, y_test, batch_size = 32)"
      ],
      "execution_count": 30,
      "outputs": [
        {
          "output_type": "stream",
          "text": [
            "313/313 [==============================] - 1s 2ms/step - loss: 0.6511 - accuracy: 0.9203\n"
          ],
          "name": "stdout"
        },
        {
          "output_type": "execute_result",
          "data": {
            "text/plain": [
              "[0.6511179208755493, 0.9203000068664551]"
            ]
          },
          "metadata": {
            "tags": []
          },
          "execution_count": 30
        }
      ]
    },
    {
      "cell_type": "markdown",
      "metadata": {
        "id": "5XYSVtC-DVsz"
      },
      "source": [
        "# **[DIY] Hidden layer에 따른 정확도**"
      ]
    },
    {
      "cell_type": "code",
      "metadata": {
        "id": "OiCc_UO2rGmp",
        "colab": {
          "base_uri": "https://localhost:8080/"
        },
        "outputId": "7d2d770f-1182-4e74-d31b-9782cd0e6bc1"
      },
      "source": [
        "score1=c2f2.evaluate(X_test, y_test, batch_size = 32)\n",
        "score2=c2f3.evaluate(X_test, y_test, batch_size = 32)\n",
        "losses = [score1[0],score2[0]]\n",
        "accuracies= [score1[1],score2[1]]\n",
        "losses,accuracies"
      ],
      "execution_count": 19,
      "outputs": [
        {
          "output_type": "stream",
          "text": [
            "313/313 [==============================] - 1s 2ms/step - loss: 0.6810 - accuracy: 0.9141\n",
            "313/313 [==============================] - 1s 2ms/step - loss: 0.6511 - accuracy: 0.9203\n"
          ],
          "name": "stdout"
        },
        {
          "output_type": "execute_result",
          "data": {
            "text/plain": [
              "([0.6810128688812256, 0.6511179208755493],\n",
              " [0.9140999913215637, 0.9203000068664551])"
            ]
          },
          "metadata": {
            "tags": []
          },
          "execution_count": 19
        }
      ]
    },
    {
      "cell_type": "code",
      "metadata": {
        "id": "vZv6a2aVRw9j",
        "colab": {
          "base_uri": "https://localhost:8080/",
          "height": 269
        },
        "outputId": "12119758-425b-4355-e267-eda46f5cb1c4"
      },
      "source": [
        "x = np.arange(2)\n",
        "cnns = ['C2F2','C2F3']\n",
        "\n",
        "plt.bar(x, accuracies)\n",
        "plt.xticks(x, cnns)\n",
        "plt.ylim((.9,1.0))\n",
        "plt.show()"
      ],
      "execution_count": 20,
      "outputs": [
        {
          "output_type": "display_data",
          "data": {
            "image/png": "[encoded data removed]",
            "text/plain": [
              "<Figure size 432x288 with 1 Axes>"
            ]
          },
          "metadata": {
            "tags": [],
            "needs_background": "light"
          }
        }
      ]
    },
    {
      "cell_type": "markdown",
      "metadata": {
        "id": "3Ub3qGnjs4EI"
      },
      "source": [
        "## Graph of loss and accuracy\n",
        "- model: C2F2"
      ]
    },
    {
      "cell_type": "code",
      "metadata": {
        "id": "NiSAsgsNtUte"
      },
      "source": [
        "c2f2 = keras.models.Sequential([ \n",
        "    Conv2D(input_shape=(28,28,1),kernel_size=(3,3),strides=(1,1),filters= 32,padding='same',activation='relu'),\n",
        "    MaxPool2D(pool_size=(2,2), strides=(2,2)), \n",
        "    Conv2D(kernel_size=(3,3),strides=(1,1),filters= 64,padding='same',activation='relu'),\n",
        "    MaxPool2D(pool_size=(2,2), strides=(2,2)),\n",
        "    Flatten(), \n",
        "    keras.layers.Dense(128, activation='relu'),  \n",
        "    keras.layers.Dropout(0.25), \n",
        "    keras.layers.Dense(10, activation='softmax')\n",
        "])\n",
        "\n",
        "c2f2.compile(optimizer='adam',\n",
        "            loss='categorical_crossentropy',\n",
        "            metrics=['accuracy'])"
      ],
      "execution_count": 21,
      "outputs": []
    },
    {
      "cell_type": "code",
      "metadata": {
        "id": "dJHBUlomtUtt",
        "colab": {
          "base_uri": "https://localhost:8080/"
        },
        "outputId": "6e52801f-645f-42f5-9ef7-4fec80081443"
      },
      "source": [
        "c2f2.summary()"
      ],
      "execution_count": 22,
      "outputs": [
        {
          "output_type": "stream",
          "text": [
            "Model: \"sequential_2\"\n",
            "_________________________________________________________________\n",
            "Layer (type)                 Output Shape              Param #   \n",
            "=================================================================\n",
            "conv2d_4 (Conv2D)            (None, 28, 28, 32)        320       \n",
            "_________________________________________________________________\n",
            "max_pooling2d_4 (MaxPooling2 (None, 14, 14, 32)        0         \n",
            "_________________________________________________________________\n",
            "conv2d_5 (Conv2D)            (None, 14, 14, 64)        18496     \n",
            "_________________________________________________________________\n",
            "max_pooling2d_5 (MaxPooling2 (None, 7, 7, 64)          0         \n",
            "_________________________________________________________________\n",
            "flatten_2 (Flatten)          (None, 3136)              0         \n",
            "_________________________________________________________________\n",
            "dense_5 (Dense)              (None, 128)               401536    \n",
            "_________________________________________________________________\n",
            "dropout_3 (Dropout)          (None, 128)               0         \n",
            "_________________________________________________________________\n",
            "dense_6 (Dense)              (None, 10)                1290      \n",
            "=================================================================\n",
            "Total params: 421,642\n",
            "Trainable params: 421,642\n",
            "Non-trainable params: 0\n",
            "_________________________________________________________________\n"
          ],
          "name": "stdout"
        }
      ]
    },
    {
      "cell_type": "code",
      "metadata": {
        "id": "-Yfqv2AqtUtz",
        "colab": {
          "base_uri": "https://localhost:8080/"
        },
        "outputId": "6fe3389d-d084-4443-a598-a8598c8983ef"
      },
      "source": [
        "hist = c2f2.fit(X_train, y_train, \n",
        "         epochs = 20 , \n",
        "         batch_size =32, \n",
        "         validation_data=(X_test,y_test))"
      ],
      "execution_count": 23,
      "outputs": [
        {
          "output_type": "stream",
          "text": [
            "Epoch 1/20\n",
            "1875/1875 [==============================] - 5s 3ms/step - loss: 0.4340 - accuracy: 0.8434 - val_loss: 0.3141 - val_accuracy: 0.8874\n",
            "Epoch 2/20\n",
            "1875/1875 [==============================] - 5s 3ms/step - loss: 0.2831 - accuracy: 0.8967 - val_loss: 0.2745 - val_accuracy: 0.8993\n",
            "Epoch 3/20\n",
            "1875/1875 [==============================] - 5s 3ms/step - loss: 0.2390 - accuracy: 0.9130 - val_loss: 0.2531 - val_accuracy: 0.9081\n",
            "Epoch 4/20\n",
            "1875/1875 [==============================] - 5s 3ms/step - loss: 0.2087 - accuracy: 0.9233 - val_loss: 0.2336 - val_accuracy: 0.9168\n",
            "Epoch 5/20\n",
            "1875/1875 [==============================] - 5s 3ms/step - loss: 0.1843 - accuracy: 0.9308 - val_loss: 0.2328 - val_accuracy: 0.9169\n",
            "Epoch 6/20\n",
            "1875/1875 [==============================] - 5s 3ms/step - loss: 0.1640 - accuracy: 0.9389 - val_loss: 0.2349 - val_accuracy: 0.9204\n",
            "Epoch 7/20\n",
            "1875/1875 [==============================] - 5s 3ms/step - loss: 0.1472 - accuracy: 0.9459 - val_loss: 0.2381 - val_accuracy: 0.9215\n",
            "Epoch 8/20\n",
            "1875/1875 [==============================] - 5s 3ms/step - loss: 0.1338 - accuracy: 0.9498 - val_loss: 0.2316 - val_accuracy: 0.9215\n",
            "Epoch 9/20\n",
            "1875/1875 [==============================] - 5s 3ms/step - loss: 0.1182 - accuracy: 0.9561 - val_loss: 0.2517 - val_accuracy: 0.9246\n",
            "Epoch 10/20\n",
            "1875/1875 [==============================] - 5s 3ms/step - loss: 0.1078 - accuracy: 0.9591 - val_loss: 0.2727 - val_accuracy: 0.9208\n",
            "Epoch 11/20\n",
            "1875/1875 [==============================] - 5s 3ms/step - loss: 0.0961 - accuracy: 0.9637 - val_loss: 0.2729 - val_accuracy: 0.9242\n",
            "Epoch 12/20\n",
            "1875/1875 [==============================] - 5s 3ms/step - loss: 0.0882 - accuracy: 0.9671 - val_loss: 0.2764 - val_accuracy: 0.9211\n",
            "Epoch 13/20\n",
            "1875/1875 [==============================] - 5s 3ms/step - loss: 0.0796 - accuracy: 0.9704 - val_loss: 0.2952 - val_accuracy: 0.9219\n",
            "Epoch 14/20\n",
            "1875/1875 [==============================] - 5s 3ms/step - loss: 0.0755 - accuracy: 0.9709 - val_loss: 0.3091 - val_accuracy: 0.9213\n",
            "Epoch 15/20\n",
            "1875/1875 [==============================] - 5s 3ms/step - loss: 0.0712 - accuracy: 0.9721 - val_loss: 0.3153 - val_accuracy: 0.9220\n",
            "Epoch 16/20\n",
            "1875/1875 [==============================] - 5s 3ms/step - loss: 0.0629 - accuracy: 0.9761 - val_loss: 0.3479 - val_accuracy: 0.9218\n",
            "Epoch 17/20\n",
            "1875/1875 [==============================] - 5s 3ms/step - loss: 0.0622 - accuracy: 0.9755 - val_loss: 0.3291 - val_accuracy: 0.9251\n",
            "Epoch 18/20\n",
            "1875/1875 [==============================] - 5s 3ms/step - loss: 0.0564 - accuracy: 0.9787 - val_loss: 0.3493 - val_accuracy: 0.9249\n",
            "Epoch 19/20\n",
            "1875/1875 [==============================] - 5s 3ms/step - loss: 0.0552 - accuracy: 0.9787 - val_loss: 0.3851 - val_accuracy: 0.9235\n",
            "Epoch 20/20\n",
            "1875/1875 [==============================] - 5s 3ms/step - loss: 0.0494 - accuracy: 0.9809 - val_loss: 0.4050 - val_accuracy: 0.9218\n"
          ],
          "name": "stdout"
        }
      ]
    },
    {
      "cell_type": "code",
      "metadata": {
        "id": "WNmXXLhvWUiK",
        "colab": {
          "base_uri": "https://localhost:8080/",
          "height": 313
        },
        "outputId": "f8a3a9ff-c393-49bc-c112-451a5ab4edde"
      },
      "source": [
        "# Plot loass and accuracy\n",
        "# Plot training & validation accuracy values\n",
        "epochs = 20\n",
        "loss_list = [100 * i for i in hist.history['loss']]\n",
        "acc_list = [100 * i for i in hist.history['accuracy']]\n",
        "plt.plot(range(1,epochs+1),loss_list) \n",
        "plt.plot(range(1,epochs+1),acc_list) \n",
        "plt.title('Model loss & accuracy')\n",
        "plt.ylabel('Accuracy (%)')\n",
        "plt.xlabel('Epoch')\n",
        "plt.legend(['loss', 'accuracy'], loc='center left')"
      ],
      "execution_count": 24,
      "outputs": [
        {
          "output_type": "execute_result",
          "data": {
            "text/plain": [
              "<matplotlib.legend.Legend at 0x7f4286360eb8>"
            ]
          },
          "metadata": {
            "tags": []
          },
          "execution_count": 24
        },
        {
          "output_type": "display_data",
          "data": {
            "image/png": "[encoded data removed]",
            "text/plain": [
              "<Figure size 432x288 with 1 Axes>"
            ]
          },
          "metadata": {
            "tags": [],
            "needs_background": "light"
          }
        }
      ]
    },
    {
      "cell_type": "code",
      "metadata": {
        "id": "0wNssVPhu_8m"
      },
      "source": [
        "vloss_list = [100 * i for i in hist.history['val_loss']]\n",
        "vacc_list = [100 * i for i in hist.history['val_accuracy']]"
      ],
      "execution_count": 25,
      "outputs": []
    },
    {
      "cell_type": "code",
      "metadata": {
        "id": "TX5Uzro4vjaY",
        "colab": {
          "base_uri": "https://localhost:8080/",
          "height": 313
        },
        "outputId": "ba615440-37c6-45f2-ca15-f063d4c05002"
      },
      "source": [
        "plt.plot(range(1,epochs+1),vloss_list)  \n",
        "plt.plot(range(1,epochs+1),vacc_list)  \n",
        "plt.title('Model val_loss & val_accuracy')\n",
        "plt.ylabel('Accuracy (%)')\n",
        "plt.xlabel('Epoch')\n",
        "plt.legend(['val_loss', 'val_accuracy'], loc='center left')"
      ],
      "execution_count": 26,
      "outputs": [
        {
          "output_type": "execute_result",
          "data": {
            "text/plain": [
              "<matplotlib.legend.Legend at 0x7f428632ed68>"
            ]
          },
          "metadata": {
            "tags": []
          },
          "execution_count": 26
        },
        {
          "output_type": "display_data",
          "data": {
            "image/png": "[encoded data removed]",
            "text/plain": [
              "<Figure size 432x288 with 1 Axes>"
            ]
          },
          "metadata": {
            "tags": [],
            "needs_background": "light"
          }
        }
      ]
    },
    {
      "cell_type": "code",
      "metadata": {
        "id": "blALTNdyvjVK",
        "colab": {
          "base_uri": "https://localhost:8080/",
          "height": 313
        },
        "outputId": "703dd917-c9c0-4700-98ca-63e7ef6c2421"
      },
      "source": [
        "plt.plot(range(1,epochs+1),acc_list)  \n",
        "plt.plot(range(1,epochs+1),vacc_list)  \n",
        "plt.title('accuracy vs. val_accuracy')\n",
        "plt.ylabel('Accuracy (%)')\n",
        "plt.xlabel('Epoch')\n",
        "plt.legend(['accuracy','val_accuracy']) #, loc='center bottom')"
      ],
      "execution_count": 27,
      "outputs": [
        {
          "output_type": "execute_result",
          "data": {
            "text/plain": [
              "<matplotlib.legend.Legend at 0x7f428628dba8>"
            ]
          },
          "metadata": {
            "tags": []
          },
          "execution_count": 27
        },
        {
          "output_type": "display_data",
          "data": {
            "image/png": "[encoded data removed]",
            "text/plain": [
              "<Figure size 432x288 with 1 Axes>"
            ]
          },
          "metadata": {
            "tags": [],
            "needs_background": "light"
          }
        }
      ]
    },
    {
      "cell_type": "markdown",
      "metadata": {
        "id": "gBPKMI4y3fsa"
      },
      "source": [
        "## 모형의 저장\n",
        "\n",
        "- 트레이닝이 끝난 모형은 save 메서드로 가중치와 함께 hdf5 형식으로 저장\n",
        "- load 명령으로 불러 사용"
      ]
    },
    {
      "cell_type": "code",
      "metadata": {
        "id": "KCfbQl2v3fsa"
      },
      "source": [
        "# c2f2.save('fmnist_cnn_best.hdf5')"
      ],
      "execution_count": 28,
      "outputs": []
    },
    {
      "cell_type": "code",
      "metadata": {
        "id": "b7-ysIVy3fse",
        "colab": {
          "base_uri": "https://localhost:8080/"
        },
        "outputId": "aa582f6e-f404-46cd-9619-94f26861f17d"
      },
      "source": [
        "from keras.models import load_model\n",
        "\n",
        "model = load_model('fmnist_c2f3_best_weights.019-0.9264.hdf5')\n",
        "model.evaluate(X_test, y_test, batch_size=32)"
      ],
      "execution_count": 31,
      "outputs": [
        {
          "output_type": "stream",
          "text": [
            "313/313 [==============================] - 1s 2ms/step - loss: 0.3299 - accuracy: 0.9264\n"
          ],
          "name": "stdout"
        },
        {
          "output_type": "execute_result",
          "data": {
            "text/plain": [
              "[0.32994788885116577, 0.9264000058174133]"
            ]
          },
          "metadata": {
            "tags": []
          },
          "execution_count": 31
        }
      ]
    },
    {
      "cell_type": "markdown",
      "metadata": {
        "id": "KF3UzDJotZrh"
      },
      "source": [
        "## Confusion matrix"
      ]
    },
    {
      "cell_type": "code",
      "metadata": {
        "id": "RV1IaOyeu6Em"
      },
      "source": [
        "from sklearn.metrics import confusion_matrix\n",
        "import seaborn as sns"
      ],
      "execution_count": 32,
      "outputs": []
    },
    {
      "cell_type": "code",
      "metadata": {
        "id": "Bxs1eC-cuO0Y"
      },
      "source": [
        "predictions = model.predict(X_test)"
      ],
      "execution_count": 33,
      "outputs": []
    },
    {
      "cell_type": "code",
      "metadata": {
        "id": "6Tqhg-UJujo5",
        "outputId": "6dbec849-b13d-463d-8b0b-1c57a6ce952a",
        "colab": {
          "base_uri": "https://localhost:8080/"
        }
      },
      "source": [
        "predictions.shape"
      ],
      "execution_count": 34,
      "outputs": [
        {
          "output_type": "execute_result",
          "data": {
            "text/plain": [
              "(10000, 10)"
            ]
          },
          "metadata": {
            "tags": []
          },
          "execution_count": 34
        }
      ]
    },
    {
      "cell_type": "code",
      "metadata": {
        "id": "nZch1JFSufoR",
        "outputId": "78bd9fb7-8b28-4047-e736-d18539482a9f",
        "colab": {
          "base_uri": "https://localhost:8080/"
        }
      },
      "source": [
        "predictions0 = np.argmax(predictions, axis=1)\n",
        "predictions0.shape"
      ],
      "execution_count": 35,
      "outputs": [
        {
          "output_type": "execute_result",
          "data": {
            "text/plain": [
              "(10000,)"
            ]
          },
          "metadata": {
            "tags": []
          },
          "execution_count": 35
        }
      ]
    },
    {
      "cell_type": "code",
      "metadata": {
        "id": "hiPMQeYXt12l"
      },
      "source": [
        "cm = confusion_matrix(y_test0, predictions0)"
      ],
      "execution_count": 36,
      "outputs": []
    },
    {
      "cell_type": "code",
      "metadata": {
        "id": "YITaGwYjvatc"
      },
      "source": [
        "class_names =  ['T-shirt/top', 'Trouser', 'Pullover', 'Dress', 'Coat', 'Sandal', 'Shirt', 'Sneaker', 'Bag', 'Ankle boot']"
      ],
      "execution_count": 37,
      "outputs": []
    },
    {
      "cell_type": "code",
      "metadata": {
        "id": "2qGHMNU3u8ut",
        "outputId": "87db3223-e033-40eb-df09-cb6f033c5525",
        "colab": {
          "base_uri": "https://localhost:8080/",
          "height": 551
        }
      },
      "source": [
        "plt.figure(figsize=(9,9))\n",
        "sns.heatmap(cm, cbar=False, xticklabels=class_names, yticklabels=class_names, fmt='d', annot=True, cmap=plt.cm.coolwarm)\n",
        "plt.xlabel('Predicted')\n",
        "plt.ylabel('Actual')\n",
        "plt.show()"
      ],
      "execution_count": 38,
      "outputs": [
        {
          "output_type": "display_data",
          "data": {
            "image/png": "[encoded data removed]",
            "text/plain": [
              "<Figure size 648x648 with 1 Axes>"
            ]
          },
          "metadata": {
            "tags": [],
            "needs_background": "light"
          }
        }
      ]
    },
    {
      "cell_type": "code",
      "metadata": {
        "id": "T6ebZJ77wGGi"
      },
      "source": [
        ""
      ],
      "execution_count": null,
      "outputs": []
    }
  ]
}