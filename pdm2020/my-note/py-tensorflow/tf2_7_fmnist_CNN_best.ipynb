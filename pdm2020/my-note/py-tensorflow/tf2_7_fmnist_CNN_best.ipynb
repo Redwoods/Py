{
  "nbformat": 4,
  "nbformat_minor": 0,
  "metadata": {
    "colab": {
      "name": "tf2_7_fmnist_CNN_best.ipynb",
      "provenance": [],
      "collapsed_sections": [],
      "include_colab_link": true
    },
    "kernelspec": {
      "name": "python3",
      "display_name": "Python 3"
    },
    "accelerator": "GPU"
  },
  "cells": [
    {
      "cell_type": "markdown",
      "metadata": {
        "id": "view-in-github",
        "colab_type": "text"
      },
      "source": [
        "<a href=\"https://colab.research.google.com/github/Redwoods/Py/blob/master/pdm2020/my-note/py-tensorflow/tf2_7_fmnist_CNN_best.ipynb\" target=\"_parent\"><img src=\"https://colab.research.google.com/assets/colab-badge.svg\" alt=\"Open In Colab\"/></a>"
      ]
    },
    {
      "cell_type": "markdown",
      "metadata": {
        "id": "rswfCVLZ-QW0"
      },
      "source": [
        "# **CNN model of fmnist dataset**\n",
        "- Conv2D + FCN\n",
        "    * Conv2D : 2차원 합성곱 필터링 + 풀링(Pooling)\n",
        "    * FCN : 1차원 완전연결신경망\n",
        "\n",
        "***\n",
        "- ## Traget: Find the best model\n",
        "***\n",
        "\n",
        "![mnist_NN_2_layers](https://img1.daumcdn.net/thumb/R1280x0/?scode=mtistory2&fname=https%3A%2F%2Fblog.kakaocdn.net%2Fdn%2FdJp5Z6%2FbtqAPebnF3x%2FQCe5vVcskhmxe964bGz4iK%2Fimg.png)\n",
        "\n",
        "(source: https://img1.daumcdn.net/thumb/R1280x0/?scode=mtistory2&fname=https%3A%2F%2Fblog.kakaocdn.net%2Fdn%2FdJp5Z6%2FbtqAPebnF3x%2FQCe5vVcskhmxe964bGz4iK%2Fimg.png)"
      ]
    },
    {
      "cell_type": "markdown",
      "metadata": {
        "id": "ISueys4bNHd1"
      },
      "source": [
        "## dataset: fashion_mnist\n",
        "- (60000, 28, 28), train\n",
        "- (10000, 28, 28), test\n",
        "- grayscale images of items of 10 types of clothings, such as shoes, t-shirts, dresses, and more.\n",
        "- class names\n",
        "> class_names = ['T-shirt/top', 'Trouser', 'Pullover', 'Dress', 'Coat', 'Sandal', 'Shirt', 'Sneaker', 'Bag', 'Ankle boot']\n",
        "\n",
        "- DL of fmnist\n",
        "> https://machinelearningmastery.com/how-to-develop-a-cnn-from-scratch-for-fashion-mnist-clothing-classification/\n"
      ]
    },
    {
      "cell_type": "markdown",
      "metadata": {
        "id": "1yhvkxS_HhpK"
      },
      "source": [
        "## Search the best model of C2F2\n",
        "- callback\n",
        "    - Early stopping\n",
        "    - model checkpoint"
      ]
    },
    {
      "cell_type": "code",
      "metadata": {
        "id": "8GgGzPXPVyfa",
        "colab": {
          "base_uri": "https://localhost:8080/"
        },
        "outputId": "99d913a9-b41d-4590-a200-b4c53a00bb51"
      },
      "source": [
        "import numpy as np\n",
        "import tensorflow as tf\n",
        "from tensorflow import keras\n",
        "import pandas as pd\n",
        "import matplotlib.pyplot as plt\n",
        "%matplotlib inline\n",
        "\n",
        "tf.random.set_seed(0)\n",
        "\n",
        "print(tf.__version__)"
      ],
      "execution_count": null,
      "outputs": [
        {
          "output_type": "stream",
          "text": [
            "2.3.0\n"
          ],
          "name": "stdout"
        }
      ]
    },
    {
      "cell_type": "code",
      "metadata": {
        "id": "nMZqMpIvIlwf"
      },
      "source": [
        "# import TF2 submodules\n",
        "from tensorflow.keras import layers, models, callbacks"
      ],
      "execution_count": null,
      "outputs": []
    },
    {
      "cell_type": "markdown",
      "metadata": {
        "id": "-0IOOUM14Jk1"
      },
      "source": [
        "## **데이터 로딩, 정규화**"
      ]
    },
    {
      "cell_type": "code",
      "metadata": {
        "id": "N1ogJ7I64Fz-",
        "colab": {
          "base_uri": "https://localhost:8080/"
        },
        "outputId": "912b068c-9770-469b-c41f-291445c5c2a1"
      },
      "source": [
        "from keras.datasets import fashion_mnist\n",
        "\n",
        "(X_train0, y_train0), (X_test0, y_test0) = fashion_mnist.load_data()\n",
        "\n",
        "# Reshape\n",
        "X_train = X_train0.reshape(60000,28,28,1)\n",
        "X_test = X_test0.reshape(10000,28,28,1)\n",
        "\n",
        "# Normalization\n",
        "X_train, X_test = X_train/255.0, X_test/255.0 # 정규화\n",
        "\n",
        "print(\"X_train={0}\".format(X_train.shape))\n",
        "print(\"y_train={0}\".format(y_train0.shape)) \n",
        "print(\"X_test={0}\".format(X_test.shape))\n",
        "print(\"y_test={0}\".format(y_test0.shape))"
      ],
      "execution_count": null,
      "outputs": [
        {
          "output_type": "stream",
          "text": [
            "Downloading data from https://storage.googleapis.com/tensorflow/tf-keras-datasets/train-labels-idx1-ubyte.gz\n",
            "32768/29515 [=================================] - 0s 0us/step\n",
            "Downloading data from https://storage.googleapis.com/tensorflow/tf-keras-datasets/train-images-idx3-ubyte.gz\n",
            "26427392/26421880 [==============================] - 0s 0us/step\n",
            "Downloading data from https://storage.googleapis.com/tensorflow/tf-keras-datasets/t10k-labels-idx1-ubyte.gz\n",
            "8192/5148 [===============================================] - 0s 0us/step\n",
            "Downloading data from https://storage.googleapis.com/tensorflow/tf-keras-datasets/t10k-images-idx3-ubyte.gz\n",
            "4423680/4422102 [==============================] - 0s 0us/step\n",
            "X_train=(60000, 28, 28, 1)\n",
            "y_train=(60000,)\n",
            "X_test=(10000, 28, 28, 1)\n",
            "y_test=(10000,)\n"
          ],
          "name": "stdout"
        }
      ]
    },
    {
      "cell_type": "code",
      "metadata": {
        "id": "F46-QZqJHiQ6",
        "colab": {
          "base_uri": "https://localhost:8080/"
        },
        "outputId": "5f6e5290-e9ea-4a3b-c0cc-adf601bd6d8d"
      },
      "source": [
        "# One-Hot-Encoding\n",
        "# Use function to_categorical() to do One-Hot-Encoding\n",
        "# tf.keras.utils.to_categorical\n",
        "from keras.utils import to_categorical\n",
        "\n",
        "y_train = to_categorical(y_train0, 10)\n",
        "y_test = to_categorical(y_test0, 10)\n",
        "y_train.shape,y_test.shape"
      ],
      "execution_count": null,
      "outputs": [
        {
          "output_type": "execute_result",
          "data": {
            "text/plain": [
              "((60000, 10), (10000, 10))"
            ]
          },
          "metadata": {
            "tags": []
          },
          "execution_count": 6
        }
      ]
    },
    {
      "cell_type": "code",
      "metadata": {
        "id": "eZ3OfP5PkEkL",
        "colab": {
          "base_uri": "https://localhost:8080/"
        },
        "outputId": "3e2d9470-ac64-43c2-c774-43b1f6dce026"
      },
      "source": [
        "# y_train0.shape vs. y_train.shape\n",
        "y_train0.shape, y_train.shape"
      ],
      "execution_count": null,
      "outputs": [
        {
          "output_type": "execute_result",
          "data": {
            "text/plain": [
              "((60000,), (60000, 10))"
            ]
          },
          "metadata": {
            "tags": []
          },
          "execution_count": 18
        }
      ]
    },
    {
      "cell_type": "markdown",
      "metadata": {
        "id": "5z7SozStigmF"
      },
      "source": [
        "### Display fashions\n",
        "- one random fashion\n",
        "- 10 representative fashions"
      ]
    },
    {
      "cell_type": "code",
      "metadata": {
        "id": "IK7XT3XoirSL",
        "colab": {
          "base_uri": "https://localhost:8080/",
          "height": 287
        },
        "outputId": "f78b77c1-f1ed-4e48-d4b4-fbde357c57a2"
      },
      "source": [
        "# Code here!\n",
        "# display one random image from the training set:\n",
        "class_names =  ['T-shirt/top', 'Trouser', 'Pullover', 'Dress', 'Coat', 'Sandal', 'Shirt', 'Sneaker', 'Bag', 'Ankle boot']\n",
        "\n",
        "idx = np.random.randint(0, X_train0.shape[0])\n",
        "print(idx)\n",
        "image = X_train0[idx]\n",
        "plt.imshow(image) #, cmap=plt.get_cmap('gray'))\n",
        "plt.title(class_names[y_train0[idx]])\n",
        "plt.xticks([])\n",
        "plt.yticks([])\n",
        "plt.show()"
      ],
      "execution_count": null,
      "outputs": [
        {
          "output_type": "stream",
          "text": [
            "20817\n"
          ],
          "name": "stdout"
        },
        {
          "output_type": "display_data",
          "data": {
            "image/png": "[encoded data removed]",
            "text/plain": [
              "<Figure size 432x288 with 1 Axes>"
            ]
          },
          "metadata": {
            "tags": []
          }
        }
      ]
    },
    {
      "cell_type": "code",
      "metadata": {
        "id": "LzhD5pcukau7",
        "colab": {
          "base_uri": "https://localhost:8080/",
          "height": 325
        },
        "outputId": "1b69a697-7029-4410-c75d-5ec3323c8f89"
      },
      "source": [
        "fig = plt.figure(figsize=(10,6))\n",
        "for i in range(10):\n",
        "    plt.subplot(2, 5, i+1)\n",
        "    num0_9 = X_train0[y_train0 == i]\n",
        "    # print(num0_9.shape)\n",
        "    plt.imshow(num0_9[0]) #, cmap='gray') #, interpolation='none')\n",
        "    plt.title(\"Class %d\" % (i))\n",
        "    plt.xticks([])\n",
        "    plt.yticks([])"
      ],
      "execution_count": null,
      "outputs": [
        {
          "output_type": "display_data",
          "data": {
            "image/png": "[encoded data removed]",
            "text/plain": [
              "<Figure size 720x432 with 10 Axes>"
            ]
          },
          "metadata": {
            "tags": []
          }
        }
      ]
    },
    {
      "cell_type": "markdown",
      "metadata": {
        "id": "55DYVfFXi0WR"
      },
      "source": [
        "# Design CNN"
      ]
    },
    {
      "cell_type": "markdown",
      "metadata": {
        "id": "iPcLIcUCcsiG"
      },
      "source": [
        "### import models, layers, callbacks\n",
        "- models: Sequential\n",
        "- layers: Conv2D, MaxPool2D, Flatten\n",
        "- callbacks: ModelCheckpoint, EarlyStopping"
      ]
    },
    {
      "cell_type": "code",
      "metadata": {
        "id": "NzqMC4Xtc3ZE"
      },
      "source": [
        "from keras.models import Sequential\n",
        "from keras.layers import Conv2D, MaxPool2D, Flatten\n",
        "from keras.callbacks import ModelCheckpoint, EarlyStopping"
      ],
      "execution_count": null,
      "outputs": []
    },
    {
      "cell_type": "markdown",
      "metadata": {
        "id": "7Z6DJJUCei-s"
      },
      "source": [
        "## **CNN2 + FCN2**"
      ]
    },
    {
      "cell_type": "code",
      "metadata": {
        "id": "pV3NFglM7P65"
      },
      "source": [
        "c2f2 = keras.models.Sequential([ \n",
        "    Conv2D(input_shape=(28,28,1),kernel_size=(3,3),strides=(1,1),filters= 32,padding='same',activation='relu'),\n",
        "    MaxPool2D(pool_size=(2,2), strides=(2,2)), \n",
        "    Conv2D(kernel_size=(3,3),strides=(1,1),filters= 64,padding='same',activation='relu'),\n",
        "    MaxPool2D(pool_size=(2,2), strides=(2,2)),\n",
        "    Flatten(), \n",
        "    keras.layers.Dense(128, activation='relu'),  \n",
        "    keras.layers.Dropout(0.25), \n",
        "    keras.layers.Dense(10, activation='softmax')\n",
        "])\n",
        "\n",
        "c2f2.compile(optimizer='adam',\n",
        "              loss='categorical_crossentropy',\n",
        "              metrics=['accuracy']) "
      ],
      "execution_count": null,
      "outputs": []
    },
    {
      "cell_type": "code",
      "metadata": {
        "id": "OGtCiKy57YkR",
        "colab": {
          "base_uri": "https://localhost:8080/"
        },
        "outputId": "a85eb597-f51f-4452-efff-e780e5d985e8"
      },
      "source": [
        "c2f2.summary()"
      ],
      "execution_count": null,
      "outputs": [
        {
          "output_type": "stream",
          "text": [
            "Model: \"sequential_1\"\n",
            "_________________________________________________________________\n",
            "Layer (type)                 Output Shape              Param #   \n",
            "=================================================================\n",
            "conv2d_2 (Conv2D)            (None, 28, 28, 32)        320       \n",
            "_________________________________________________________________\n",
            "max_pooling2d_2 (MaxPooling2 (None, 14, 14, 32)        0         \n",
            "_________________________________________________________________\n",
            "conv2d_3 (Conv2D)            (None, 14, 14, 64)        18496     \n",
            "_________________________________________________________________\n",
            "max_pooling2d_3 (MaxPooling2 (None, 7, 7, 64)          0         \n",
            "_________________________________________________________________\n",
            "flatten_1 (Flatten)          (None, 3136)              0         \n",
            "_________________________________________________________________\n",
            "dense_3 (Dense)              (None, 128)               401536    \n",
            "_________________________________________________________________\n",
            "dropout_2 (Dropout)          (None, 128)               0         \n",
            "_________________________________________________________________\n",
            "dense_4 (Dense)              (None, 10)                1290      \n",
            "=================================================================\n",
            "Total params: 421,642\n",
            "Trainable params: 421,642\n",
            "Non-trainable params: 0\n",
            "_________________________________________________________________\n"
          ],
          "name": "stdout"
        }
      ]
    },
    {
      "cell_type": "code",
      "metadata": {
        "id": "zw_pQPBdJmU8"
      },
      "source": [
        "cp_callback = callbacks.ModelCheckpoint(filepath=\"./fmnist_c2f2_best_weights.{epoch:03d}-{val_accuracy:.4f}.hdf5\", \n",
        "                              monitor='val_accuracy', verbose=0, save_best_only=True)\n",
        "es_callback = callbacks.EarlyStopping(monitor='val_accuracy', \n",
        "                            mode='max', verbose=1, patience=50)    # patience=20, 50"
      ],
      "execution_count": null,
      "outputs": []
    },
    {
      "cell_type": "code",
      "metadata": {
        "id": "94GWWQt-7eRS",
        "colab": {
          "base_uri": "https://localhost:8080/"
        },
        "outputId": "2d55fb86-b16b-41fc-c626-9347315ffe64"
      },
      "source": [
        "hist = c2f2.fit(X_train, y_train, epochs = 500 , batch_size =32, \n",
        "         callbacks=[cp_callback, es_callback], \n",
        "         validation_data=(X_test,y_test))"
      ],
      "execution_count": null,
      "outputs": [
        {
          "output_type": "stream",
          "text": [
            "Epoch 1/500\n",
            "1875/1875 [==============================] - 6s 3ms/step - loss: 0.4304 - accuracy: 0.8487 - val_loss: 0.3123 - val_accuracy: 0.8880\n",
            "Epoch 2/500\n",
            "1875/1875 [==============================] - 5s 3ms/step - loss: 0.2809 - accuracy: 0.8971 - val_loss: 0.2633 - val_accuracy: 0.9031\n",
            "Epoch 3/500\n",
            "1875/1875 [==============================] - 5s 3ms/step - loss: 0.2343 - accuracy: 0.9148 - val_loss: 0.2667 - val_accuracy: 0.9061\n",
            "Epoch 4/500\n",
            "1875/1875 [==============================] - 5s 3ms/step - loss: 0.2042 - accuracy: 0.9235 - val_loss: 0.2435 - val_accuracy: 0.9120\n",
            "Epoch 5/500\n",
            "1875/1875 [==============================] - 5s 3ms/step - loss: 0.1827 - accuracy: 0.9316 - val_loss: 0.2398 - val_accuracy: 0.9126\n",
            "Epoch 6/500\n",
            "1875/1875 [==============================] - 5s 3ms/step - loss: 0.1583 - accuracy: 0.9418 - val_loss: 0.2358 - val_accuracy: 0.9175\n",
            "Epoch 7/500\n",
            "1875/1875 [==============================] - 6s 3ms/step - loss: 0.1434 - accuracy: 0.9454 - val_loss: 0.2434 - val_accuracy: 0.9186\n",
            "Epoch 8/500\n",
            "1875/1875 [==============================] - 5s 3ms/step - loss: 0.1283 - accuracy: 0.9513 - val_loss: 0.2362 - val_accuracy: 0.9219\n",
            "Epoch 9/500\n",
            "1875/1875 [==============================] - 5s 3ms/step - loss: 0.1145 - accuracy: 0.9565 - val_loss: 0.2561 - val_accuracy: 0.9191\n",
            "Epoch 10/500\n",
            "1875/1875 [==============================] - 5s 3ms/step - loss: 0.0997 - accuracy: 0.9626 - val_loss: 0.2734 - val_accuracy: 0.9194\n",
            "Epoch 11/500\n",
            "1875/1875 [==============================] - 5s 3ms/step - loss: 0.0916 - accuracy: 0.9650 - val_loss: 0.2967 - val_accuracy: 0.9194\n",
            "Epoch 12/500\n",
            "1875/1875 [==============================] - 5s 3ms/step - loss: 0.0831 - accuracy: 0.9686 - val_loss: 0.3044 - val_accuracy: 0.9173\n",
            "Epoch 13/500\n",
            "1875/1875 [==============================] - 5s 3ms/step - loss: 0.0769 - accuracy: 0.9702 - val_loss: 0.3014 - val_accuracy: 0.9212\n",
            "Epoch 14/500\n",
            "1875/1875 [==============================] - 5s 3ms/step - loss: 0.0697 - accuracy: 0.9737 - val_loss: 0.3416 - val_accuracy: 0.9201\n",
            "Epoch 15/500\n",
            "1875/1875 [==============================] - 5s 3ms/step - loss: 0.0653 - accuracy: 0.9752 - val_loss: 0.3300 - val_accuracy: 0.9193\n",
            "Epoch 16/500\n",
            "1875/1875 [==============================] - 5s 3ms/step - loss: 0.0596 - accuracy: 0.9780 - val_loss: 0.3648 - val_accuracy: 0.9174\n",
            "Epoch 17/500\n",
            "1875/1875 [==============================] - 5s 3ms/step - loss: 0.0554 - accuracy: 0.9794 - val_loss: 0.4006 - val_accuracy: 0.9205\n",
            "Epoch 18/500\n",
            "1875/1875 [==============================] - 5s 3ms/step - loss: 0.0529 - accuracy: 0.9793 - val_loss: 0.4028 - val_accuracy: 0.9186\n",
            "Epoch 19/500\n",
            "1875/1875 [==============================] - 5s 3ms/step - loss: 0.0487 - accuracy: 0.9813 - val_loss: 0.4269 - val_accuracy: 0.9146\n",
            "Epoch 20/500\n",
            "1875/1875 [==============================] - 5s 3ms/step - loss: 0.0454 - accuracy: 0.9827 - val_loss: 0.4349 - val_accuracy: 0.9199\n",
            "Epoch 21/500\n",
            "1875/1875 [==============================] - 5s 3ms/step - loss: 0.0454 - accuracy: 0.9826 - val_loss: 0.4813 - val_accuracy: 0.9199\n",
            "Epoch 22/500\n",
            "1875/1875 [==============================] - 5s 3ms/step - loss: 0.0424 - accuracy: 0.9837 - val_loss: 0.4252 - val_accuracy: 0.9225\n",
            "Epoch 23/500\n",
            "1875/1875 [==============================] - 5s 3ms/step - loss: 0.0396 - accuracy: 0.9849 - val_loss: 0.4541 - val_accuracy: 0.9218\n",
            "Epoch 24/500\n",
            "1875/1875 [==============================] - 5s 3ms/step - loss: 0.0410 - accuracy: 0.9847 - val_loss: 0.4476 - val_accuracy: 0.9180\n",
            "Epoch 25/500\n",
            "1875/1875 [==============================] - 5s 3ms/step - loss: 0.0400 - accuracy: 0.9851 - val_loss: 0.4498 - val_accuracy: 0.9209\n",
            "Epoch 26/500\n",
            "1875/1875 [==============================] - 5s 3ms/step - loss: 0.0375 - accuracy: 0.9864 - val_loss: 0.4539 - val_accuracy: 0.9200\n",
            "Epoch 27/500\n",
            "1875/1875 [==============================] - 5s 3ms/step - loss: 0.0393 - accuracy: 0.9857 - val_loss: 0.4938 - val_accuracy: 0.9198\n",
            "Epoch 28/500\n",
            "1875/1875 [==============================] - 5s 3ms/step - loss: 0.0351 - accuracy: 0.9876 - val_loss: 0.4778 - val_accuracy: 0.9186\n",
            "Epoch 29/500\n",
            "1875/1875 [==============================] - 5s 3ms/step - loss: 0.0376 - accuracy: 0.9865 - val_loss: 0.4793 - val_accuracy: 0.9188\n",
            "Epoch 30/500\n",
            "1875/1875 [==============================] - 5s 3ms/step - loss: 0.0353 - accuracy: 0.9875 - val_loss: 0.4900 - val_accuracy: 0.9194\n",
            "Epoch 31/500\n",
            "1875/1875 [==============================] - 5s 3ms/step - loss: 0.0336 - accuracy: 0.9876 - val_loss: 0.5257 - val_accuracy: 0.9168\n",
            "Epoch 32/500\n",
            "1875/1875 [==============================] - 5s 3ms/step - loss: 0.0322 - accuracy: 0.9884 - val_loss: 0.4935 - val_accuracy: 0.9178\n",
            "Epoch 33/500\n",
            "1875/1875 [==============================] - 5s 3ms/step - loss: 0.0316 - accuracy: 0.9880 - val_loss: 0.5241 - val_accuracy: 0.9213\n",
            "Epoch 34/500\n",
            "1875/1875 [==============================] - 5s 3ms/step - loss: 0.0324 - accuracy: 0.9879 - val_loss: 0.5066 - val_accuracy: 0.9198\n",
            "Epoch 35/500\n",
            "1875/1875 [==============================] - 6s 3ms/step - loss: 0.0312 - accuracy: 0.9889 - val_loss: 0.5541 - val_accuracy: 0.9212\n",
            "Epoch 36/500\n",
            "1875/1875 [==============================] - 5s 3ms/step - loss: 0.0296 - accuracy: 0.9896 - val_loss: 0.5003 - val_accuracy: 0.9215\n",
            "Epoch 37/500\n",
            "1875/1875 [==============================] - 5s 3ms/step - loss: 0.0328 - accuracy: 0.9885 - val_loss: 0.5887 - val_accuracy: 0.9187\n",
            "Epoch 38/500\n",
            "1875/1875 [==============================] - 5s 3ms/step - loss: 0.0286 - accuracy: 0.9898 - val_loss: 0.5546 - val_accuracy: 0.9191\n",
            "Epoch 39/500\n",
            "1875/1875 [==============================] - 5s 3ms/step - loss: 0.0295 - accuracy: 0.9898 - val_loss: 0.5672 - val_accuracy: 0.9193\n",
            "Epoch 40/500\n",
            "1875/1875 [==============================] - 5s 3ms/step - loss: 0.0298 - accuracy: 0.9898 - val_loss: 0.6423 - val_accuracy: 0.9213\n",
            "Epoch 41/500\n",
            "1875/1875 [==============================] - 5s 3ms/step - loss: 0.0294 - accuracy: 0.9897 - val_loss: 0.6515 - val_accuracy: 0.9154\n",
            "Epoch 42/500\n",
            "1875/1875 [==============================] - 5s 3ms/step - loss: 0.0268 - accuracy: 0.9910 - val_loss: 0.6779 - val_accuracy: 0.9156\n",
            "Epoch 43/500\n",
            "1875/1875 [==============================] - 5s 3ms/step - loss: 0.0285 - accuracy: 0.9902 - val_loss: 0.6049 - val_accuracy: 0.9181\n",
            "Epoch 44/500\n",
            "1875/1875 [==============================] - 5s 3ms/step - loss: 0.0280 - accuracy: 0.9903 - val_loss: 0.6761 - val_accuracy: 0.9173\n",
            "Epoch 45/500\n",
            "1875/1875 [==============================] - 5s 3ms/step - loss: 0.0281 - accuracy: 0.9906 - val_loss: 0.6478 - val_accuracy: 0.9151\n",
            "Epoch 46/500\n",
            "1875/1875 [==============================] - 5s 3ms/step - loss: 0.0243 - accuracy: 0.9921 - val_loss: 0.7278 - val_accuracy: 0.9164\n",
            "Epoch 47/500\n",
            "1875/1875 [==============================] - 6s 3ms/step - loss: 0.0275 - accuracy: 0.9906 - val_loss: 0.6689 - val_accuracy: 0.9190\n",
            "Epoch 48/500\n",
            "1875/1875 [==============================] - 6s 3ms/step - loss: 0.0281 - accuracy: 0.9904 - val_loss: 0.7047 - val_accuracy: 0.9166\n",
            "Epoch 49/500\n",
            "1875/1875 [==============================] - 6s 3ms/step - loss: 0.0287 - accuracy: 0.9902 - val_loss: 0.6916 - val_accuracy: 0.9202\n",
            "Epoch 50/500\n",
            "1875/1875 [==============================] - 5s 3ms/step - loss: 0.0233 - accuracy: 0.9922 - val_loss: 0.6871 - val_accuracy: 0.9206\n",
            "Epoch 51/500\n",
            "1875/1875 [==============================] - 5s 3ms/step - loss: 0.0262 - accuracy: 0.9906 - val_loss: 0.6987 - val_accuracy: 0.9190\n",
            "Epoch 52/500\n",
            "1875/1875 [==============================] - 6s 3ms/step - loss: 0.0281 - accuracy: 0.9908 - val_loss: 0.6509 - val_accuracy: 0.9202\n",
            "Epoch 53/500\n",
            "1875/1875 [==============================] - 6s 3ms/step - loss: 0.0224 - accuracy: 0.9925 - val_loss: 0.7005 - val_accuracy: 0.9196\n",
            "Epoch 54/500\n",
            "1875/1875 [==============================] - 5s 3ms/step - loss: 0.0264 - accuracy: 0.9909 - val_loss: 0.6757 - val_accuracy: 0.9221\n",
            "Epoch 55/500\n",
            "1875/1875 [==============================] - 5s 3ms/step - loss: 0.0234 - accuracy: 0.9923 - val_loss: 0.7597 - val_accuracy: 0.9195\n",
            "Epoch 56/500\n",
            "1875/1875 [==============================] - 5s 3ms/step - loss: 0.0279 - accuracy: 0.9909 - val_loss: 0.7327 - val_accuracy: 0.9186\n",
            "Epoch 57/500\n",
            "1875/1875 [==============================] - 5s 3ms/step - loss: 0.0241 - accuracy: 0.9919 - val_loss: 0.7770 - val_accuracy: 0.9199\n",
            "Epoch 58/500\n",
            "1875/1875 [==============================] - 5s 3ms/step - loss: 0.0245 - accuracy: 0.9922 - val_loss: 0.7745 - val_accuracy: 0.9165\n",
            "Epoch 59/500\n",
            "1875/1875 [==============================] - 5s 3ms/step - loss: 0.0264 - accuracy: 0.9915 - val_loss: 0.7626 - val_accuracy: 0.9215\n",
            "Epoch 60/500\n",
            "1875/1875 [==============================] - 5s 3ms/step - loss: 0.0245 - accuracy: 0.9916 - val_loss: 0.7212 - val_accuracy: 0.9206\n",
            "Epoch 61/500\n",
            "1875/1875 [==============================] - 5s 3ms/step - loss: 0.0220 - accuracy: 0.9928 - val_loss: 0.7446 - val_accuracy: 0.9195\n",
            "Epoch 62/500\n",
            "1875/1875 [==============================] - 5s 3ms/step - loss: 0.0281 - accuracy: 0.9911 - val_loss: 0.6612 - val_accuracy: 0.9211\n",
            "Epoch 63/500\n",
            "1875/1875 [==============================] - 5s 3ms/step - loss: 0.0241 - accuracy: 0.9919 - val_loss: 0.7490 - val_accuracy: 0.9215\n",
            "Epoch 64/500\n",
            "1875/1875 [==============================] - 5s 3ms/step - loss: 0.0236 - accuracy: 0.9926 - val_loss: 0.7385 - val_accuracy: 0.9209\n",
            "Epoch 65/500\n",
            "1875/1875 [==============================] - 5s 3ms/step - loss: 0.0225 - accuracy: 0.9922 - val_loss: 0.7650 - val_accuracy: 0.9211\n",
            "Epoch 66/500\n",
            "1875/1875 [==============================] - 5s 3ms/step - loss: 0.0216 - accuracy: 0.9928 - val_loss: 0.7025 - val_accuracy: 0.9219\n",
            "Epoch 67/500\n",
            "1875/1875 [==============================] - 5s 3ms/step - loss: 0.0237 - accuracy: 0.9923 - val_loss: 0.8122 - val_accuracy: 0.9183\n",
            "Epoch 68/500\n",
            "1875/1875 [==============================] - 5s 3ms/step - loss: 0.0256 - accuracy: 0.9922 - val_loss: 0.7121 - val_accuracy: 0.9191\n",
            "Epoch 69/500\n",
            "1875/1875 [==============================] - 5s 3ms/step - loss: 0.0204 - accuracy: 0.9931 - val_loss: 0.9285 - val_accuracy: 0.9213\n",
            "Epoch 70/500\n",
            "1875/1875 [==============================] - 5s 3ms/step - loss: 0.0250 - accuracy: 0.9919 - val_loss: 0.7790 - val_accuracy: 0.9197\n",
            "Epoch 71/500\n",
            "1875/1875 [==============================] - 6s 3ms/step - loss: 0.0231 - accuracy: 0.9926 - val_loss: 0.8347 - val_accuracy: 0.9187\n",
            "Epoch 72/500\n",
            "1875/1875 [==============================] - 5s 3ms/step - loss: 0.0206 - accuracy: 0.9932 - val_loss: 0.7765 - val_accuracy: 0.9222\n",
            "Epoch 00072: early stopping\n"
          ],
          "name": "stdout"
        }
      ]
    },
    {
      "cell_type": "code",
      "metadata": {
        "id": "0-7is2U49A6Z",
        "colab": {
          "base_uri": "https://localhost:8080/"
        },
        "outputId": "513c0756-a7e7-46b7-d2be-c6006f9a1e0b"
      },
      "source": [
        "c2f2.evaluate(X_test, y_test, batch_size =32)"
      ],
      "execution_count": null,
      "outputs": [
        {
          "output_type": "stream",
          "text": [
            "313/313 [==============================] - 1s 2ms/step - loss: 0.7765 - accuracy: 0.9222\n"
          ],
          "name": "stdout"
        },
        {
          "output_type": "execute_result",
          "data": {
            "text/plain": [
              "[0.7765094637870789, 0.9222000241279602]"
            ]
          },
          "metadata": {
            "tags": []
          },
          "execution_count": 19
        }
      ]
    },
    {
      "cell_type": "markdown",
      "metadata": {
        "id": "SUJxRQtafihM"
      },
      "source": [
        "## **CNN2 + FCN3**"
      ]
    },
    {
      "cell_type": "code",
      "metadata": {
        "id": "Nl5CyAymAB34"
      },
      "source": [
        "c2f3 = keras.models.Sequential([ \n",
        "    Conv2D(input_shape=(28,28,1),kernel_size=(3,3),strides=(1,1),filters= 32,padding='same',activation='relu'),\n",
        "    MaxPool2D(pool_size=(2,2), strides=(2,2)), \n",
        "    Conv2D(kernel_size=(3,3),strides=(1,1),filters= 64,padding='same',activation='relu'),\n",
        "    MaxPool2D(pool_size=(2,2), strides=(2,2)),\n",
        "    Flatten(), \n",
        "    keras.layers.Dense(128, activation='relu'),  \n",
        "    keras.layers.Dropout(0.25), \n",
        "    keras.layers.Dense(64, activation='relu'),  \n",
        "    keras.layers.Dropout(0.25), \n",
        "    keras.layers.Dense(10, activation='softmax')\n",
        "])\n",
        "\n",
        "c2f3.compile(optimizer='adam',\n",
        "              loss='categorical_crossentropy',\n",
        "              metrics=['accuracy']) "
      ],
      "execution_count": null,
      "outputs": []
    },
    {
      "cell_type": "code",
      "metadata": {
        "id": "gYxuGW_2ANL8",
        "colab": {
          "base_uri": "https://localhost:8080/"
        },
        "outputId": "3a87fbf5-7a58-444c-e585-3b0d97b30ac4"
      },
      "source": [
        "c2f3.summary()"
      ],
      "execution_count": null,
      "outputs": [
        {
          "output_type": "stream",
          "text": [
            "Model: \"sequential\"\n",
            "_________________________________________________________________\n",
            "Layer (type)                 Output Shape              Param #   \n",
            "=================================================================\n",
            "conv2d (Conv2D)              (None, 28, 28, 32)        320       \n",
            "_________________________________________________________________\n",
            "max_pooling2d (MaxPooling2D) (None, 14, 14, 32)        0         \n",
            "_________________________________________________________________\n",
            "conv2d_1 (Conv2D)            (None, 14, 14, 64)        18496     \n",
            "_________________________________________________________________\n",
            "max_pooling2d_1 (MaxPooling2 (None, 7, 7, 64)          0         \n",
            "_________________________________________________________________\n",
            "flatten (Flatten)            (None, 3136)              0         \n",
            "_________________________________________________________________\n",
            "dense (Dense)                (None, 128)               401536    \n",
            "_________________________________________________________________\n",
            "dropout (Dropout)            (None, 128)               0         \n",
            "_________________________________________________________________\n",
            "dense_1 (Dense)              (None, 64)                8256      \n",
            "_________________________________________________________________\n",
            "dropout_1 (Dropout)          (None, 64)                0         \n",
            "_________________________________________________________________\n",
            "dense_2 (Dense)              (None, 10)                650       \n",
            "=================================================================\n",
            "Total params: 429,258\n",
            "Trainable params: 429,258\n",
            "Non-trainable params: 0\n",
            "_________________________________________________________________\n"
          ],
          "name": "stdout"
        }
      ]
    },
    {
      "cell_type": "code",
      "metadata": {
        "id": "KMsTuhO2x61z"
      },
      "source": [
        "cp_callback = callbacks.ModelCheckpoint(filepath=\"./fmnist_c2f3_best_weights.{epoch:03d}-{val_accuracy:.4f}.hdf5\", \n",
        "                              monitor='val_accuracy', verbose=0, save_best_only=True)\n",
        "es_callback = callbacks.EarlyStopping(monitor='val_accuracy', \n",
        "                            mode='max', verbose=1, patience=50)    # patience=20, 50"
      ],
      "execution_count": null,
      "outputs": []
    },
    {
      "cell_type": "code",
      "metadata": {
        "id": "lO1of4AOAQlV",
        "colab": {
          "base_uri": "https://localhost:8080/"
        },
        "outputId": "7849a444-8ffd-41a4-a675-091877393759"
      },
      "source": [
        "c2f3.fit(X_train, y_train, epochs=500, batch_size =32, \n",
        "         callbacks=[cp_callback, es_callback], \n",
        "         validation_data=(X_test,y_test))"
      ],
      "execution_count": null,
      "outputs": [
        {
          "output_type": "stream",
          "text": [
            "Epoch 1/500\n",
            "1875/1875 [==============================] - 6s 3ms/step - loss: 0.5160 - accuracy: 0.8145 - val_loss: 0.3263 - val_accuracy: 0.8804\n",
            "Epoch 2/500\n",
            "1875/1875 [==============================] - 6s 3ms/step - loss: 0.3194 - accuracy: 0.8861 - val_loss: 0.2914 - val_accuracy: 0.8951\n",
            "Epoch 3/500\n",
            "1875/1875 [==============================] - 5s 3ms/step - loss: 0.2705 - accuracy: 0.9035 - val_loss: 0.2883 - val_accuracy: 0.8960\n",
            "Epoch 4/500\n",
            "1875/1875 [==============================] - 6s 3ms/step - loss: 0.2405 - accuracy: 0.9134 - val_loss: 0.2491 - val_accuracy: 0.9114\n",
            "Epoch 5/500\n",
            "1875/1875 [==============================] - 6s 3ms/step - loss: 0.2169 - accuracy: 0.9196 - val_loss: 0.2589 - val_accuracy: 0.9067\n",
            "Epoch 6/500\n",
            "1875/1875 [==============================] - 6s 3ms/step - loss: 0.1955 - accuracy: 0.9285 - val_loss: 0.2428 - val_accuracy: 0.9138\n",
            "Epoch 7/500\n",
            "1875/1875 [==============================] - 6s 3ms/step - loss: 0.1830 - accuracy: 0.9332 - val_loss: 0.2403 - val_accuracy: 0.9175\n",
            "Epoch 8/500\n",
            "1875/1875 [==============================] - 6s 3ms/step - loss: 0.1644 - accuracy: 0.9385 - val_loss: 0.2322 - val_accuracy: 0.9211\n",
            "Epoch 9/500\n",
            "1875/1875 [==============================] - 5s 3ms/step - loss: 0.1519 - accuracy: 0.9442 - val_loss: 0.2639 - val_accuracy: 0.9140\n",
            "Epoch 10/500\n",
            "1875/1875 [==============================] - 6s 3ms/step - loss: 0.1423 - accuracy: 0.9485 - val_loss: 0.2722 - val_accuracy: 0.9186\n",
            "Epoch 11/500\n",
            "1875/1875 [==============================] - 6s 3ms/step - loss: 0.1339 - accuracy: 0.9503 - val_loss: 0.2705 - val_accuracy: 0.9199\n",
            "Epoch 12/500\n",
            "1875/1875 [==============================] - 5s 3ms/step - loss: 0.1241 - accuracy: 0.9536 - val_loss: 0.2603 - val_accuracy: 0.9223\n",
            "Epoch 13/500\n",
            "1875/1875 [==============================] - 5s 3ms/step - loss: 0.1175 - accuracy: 0.9569 - val_loss: 0.2933 - val_accuracy: 0.9210\n",
            "Epoch 14/500\n",
            "1875/1875 [==============================] - 6s 3ms/step - loss: 0.1104 - accuracy: 0.9587 - val_loss: 0.3133 - val_accuracy: 0.9214\n",
            "Epoch 15/500\n",
            "1875/1875 [==============================] - 6s 3ms/step - loss: 0.1044 - accuracy: 0.9617 - val_loss: 0.3024 - val_accuracy: 0.9172\n",
            "Epoch 16/500\n",
            "1875/1875 [==============================] - 6s 3ms/step - loss: 0.0989 - accuracy: 0.9632 - val_loss: 0.3168 - val_accuracy: 0.9179\n",
            "Epoch 17/500\n",
            "1875/1875 [==============================] - 5s 3ms/step - loss: 0.0949 - accuracy: 0.9648 - val_loss: 0.3059 - val_accuracy: 0.9172\n",
            "Epoch 18/500\n",
            "1875/1875 [==============================] - 6s 3ms/step - loss: 0.0881 - accuracy: 0.9681 - val_loss: 0.3210 - val_accuracy: 0.9197\n",
            "Epoch 19/500\n",
            "1875/1875 [==============================] - 5s 3ms/step - loss: 0.0859 - accuracy: 0.9678 - val_loss: 0.3524 - val_accuracy: 0.9180\n",
            "Epoch 20/500\n",
            "1875/1875 [==============================] - 6s 3ms/step - loss: 0.0822 - accuracy: 0.9697 - val_loss: 0.3516 - val_accuracy: 0.9224\n",
            "Epoch 21/500\n",
            "1875/1875 [==============================] - 5s 3ms/step - loss: 0.0815 - accuracy: 0.9701 - val_loss: 0.3718 - val_accuracy: 0.9181\n",
            "Epoch 22/500\n",
            "1875/1875 [==============================] - 6s 3ms/step - loss: 0.0754 - accuracy: 0.9720 - val_loss: 0.3461 - val_accuracy: 0.9213\n",
            "Epoch 23/500\n",
            "1875/1875 [==============================] - 5s 3ms/step - loss: 0.0718 - accuracy: 0.9730 - val_loss: 0.3577 - val_accuracy: 0.9213\n",
            "Epoch 24/500\n",
            "1875/1875 [==============================] - 6s 3ms/step - loss: 0.0711 - accuracy: 0.9743 - val_loss: 0.3705 - val_accuracy: 0.9165\n",
            "Epoch 25/500\n",
            "1875/1875 [==============================] - 5s 3ms/step - loss: 0.0680 - accuracy: 0.9749 - val_loss: 0.3593 - val_accuracy: 0.9215\n",
            "Epoch 26/500\n",
            "1875/1875 [==============================] - 6s 3ms/step - loss: 0.0650 - accuracy: 0.9766 - val_loss: 0.3611 - val_accuracy: 0.9224\n",
            "Epoch 27/500\n",
            "1875/1875 [==============================] - 6s 3ms/step - loss: 0.0650 - accuracy: 0.9770 - val_loss: 0.4235 - val_accuracy: 0.9208\n",
            "Epoch 28/500\n",
            "1875/1875 [==============================] - 5s 3ms/step - loss: 0.0639 - accuracy: 0.9772 - val_loss: 0.3865 - val_accuracy: 0.9189\n",
            "Epoch 29/500\n",
            "1875/1875 [==============================] - 6s 3ms/step - loss: 0.0588 - accuracy: 0.9781 - val_loss: 0.4061 - val_accuracy: 0.9194\n",
            "Epoch 30/500\n",
            "1875/1875 [==============================] - 6s 3ms/step - loss: 0.0614 - accuracy: 0.9778 - val_loss: 0.4351 - val_accuracy: 0.9180\n",
            "Epoch 31/500\n",
            "1875/1875 [==============================] - 5s 3ms/step - loss: 0.0565 - accuracy: 0.9798 - val_loss: 0.4702 - val_accuracy: 0.9192\n",
            "Epoch 32/500\n",
            "1875/1875 [==============================] - 6s 3ms/step - loss: 0.0548 - accuracy: 0.9798 - val_loss: 0.4674 - val_accuracy: 0.9222\n",
            "Epoch 33/500\n",
            "1875/1875 [==============================] - 6s 3ms/step - loss: 0.0567 - accuracy: 0.9802 - val_loss: 0.4066 - val_accuracy: 0.9190\n",
            "Epoch 34/500\n",
            "1875/1875 [==============================] - 5s 3ms/step - loss: 0.0547 - accuracy: 0.9802 - val_loss: 0.4529 - val_accuracy: 0.9202\n",
            "Epoch 35/500\n",
            "1875/1875 [==============================] - 5s 3ms/step - loss: 0.0516 - accuracy: 0.9820 - val_loss: 0.4232 - val_accuracy: 0.9221\n",
            "Epoch 36/500\n",
            "1875/1875 [==============================] - 6s 3ms/step - loss: 0.0540 - accuracy: 0.9816 - val_loss: 0.4738 - val_accuracy: 0.9194\n",
            "Epoch 37/500\n",
            "1875/1875 [==============================] - 6s 3ms/step - loss: 0.0481 - accuracy: 0.9833 - val_loss: 0.4673 - val_accuracy: 0.9200\n",
            "Epoch 38/500\n",
            "1875/1875 [==============================] - 5s 3ms/step - loss: 0.0518 - accuracy: 0.9814 - val_loss: 0.4646 - val_accuracy: 0.9195\n",
            "Epoch 39/500\n",
            "1875/1875 [==============================] - 6s 3ms/step - loss: 0.0467 - accuracy: 0.9837 - val_loss: 0.4972 - val_accuracy: 0.9209\n",
            "Epoch 40/500\n",
            "1875/1875 [==============================] - 6s 3ms/step - loss: 0.0503 - accuracy: 0.9832 - val_loss: 0.4645 - val_accuracy: 0.9141\n",
            "Epoch 41/500\n",
            "1875/1875 [==============================] - 5s 3ms/step - loss: 0.0460 - accuracy: 0.9837 - val_loss: 0.5210 - val_accuracy: 0.9160\n",
            "Epoch 42/500\n",
            "1875/1875 [==============================] - 6s 3ms/step - loss: 0.0480 - accuracy: 0.9829 - val_loss: 0.4971 - val_accuracy: 0.9192\n",
            "Epoch 43/500\n",
            "1875/1875 [==============================] - 5s 3ms/step - loss: 0.0432 - accuracy: 0.9850 - val_loss: 0.4966 - val_accuracy: 0.9175\n",
            "Epoch 44/500\n",
            "1875/1875 [==============================] - 6s 3ms/step - loss: 0.0478 - accuracy: 0.9833 - val_loss: 0.4493 - val_accuracy: 0.9186\n",
            "Epoch 45/500\n",
            "1875/1875 [==============================] - 7s 3ms/step - loss: 0.0448 - accuracy: 0.9849 - val_loss: 0.4923 - val_accuracy: 0.9201\n",
            "Epoch 46/500\n",
            "1875/1875 [==============================] - 6s 3ms/step - loss: 0.0445 - accuracy: 0.9849 - val_loss: 0.5086 - val_accuracy: 0.9215\n",
            "Epoch 47/500\n",
            "1875/1875 [==============================] - 6s 3ms/step - loss: 0.0418 - accuracy: 0.9854 - val_loss: 0.5502 - val_accuracy: 0.9152\n",
            "Epoch 48/500\n",
            "1875/1875 [==============================] - 5s 3ms/step - loss: 0.0392 - accuracy: 0.9857 - val_loss: 0.5041 - val_accuracy: 0.9209\n",
            "Epoch 49/500\n",
            "1875/1875 [==============================] - 6s 3ms/step - loss: 0.0400 - accuracy: 0.9861 - val_loss: 0.5281 - val_accuracy: 0.9192\n",
            "Epoch 50/500\n",
            "1875/1875 [==============================] - 6s 3ms/step - loss: 0.0447 - accuracy: 0.9855 - val_loss: 0.5232 - val_accuracy: 0.9184\n",
            "Epoch 51/500\n",
            "1875/1875 [==============================] - 6s 3ms/step - loss: 0.0442 - accuracy: 0.9857 - val_loss: 0.4634 - val_accuracy: 0.9176\n",
            "Epoch 52/500\n",
            "1875/1875 [==============================] - 6s 3ms/step - loss: 0.0405 - accuracy: 0.9861 - val_loss: 0.4573 - val_accuracy: 0.9223\n",
            "Epoch 53/500\n",
            "1875/1875 [==============================] - 5s 3ms/step - loss: 0.0408 - accuracy: 0.9862 - val_loss: 0.4901 - val_accuracy: 0.9192\n",
            "Epoch 54/500\n",
            "1875/1875 [==============================] - 5s 3ms/step - loss: 0.0387 - accuracy: 0.9869 - val_loss: 0.5829 - val_accuracy: 0.9205\n",
            "Epoch 55/500\n",
            "1875/1875 [==============================] - 5s 3ms/step - loss: 0.0415 - accuracy: 0.9860 - val_loss: 0.5078 - val_accuracy: 0.9207\n",
            "Epoch 56/500\n",
            "1875/1875 [==============================] - 6s 3ms/step - loss: 0.0373 - accuracy: 0.9873 - val_loss: 0.5894 - val_accuracy: 0.9197\n",
            "Epoch 57/500\n",
            "1875/1875 [==============================] - 6s 3ms/step - loss: 0.0384 - accuracy: 0.9864 - val_loss: 0.5510 - val_accuracy: 0.9191\n",
            "Epoch 58/500\n",
            "1875/1875 [==============================] - 5s 3ms/step - loss: 0.0405 - accuracy: 0.9869 - val_loss: 0.5757 - val_accuracy: 0.9207\n",
            "Epoch 59/500\n",
            "1875/1875 [==============================] - 6s 3ms/step - loss: 0.0367 - accuracy: 0.9873 - val_loss: 0.5645 - val_accuracy: 0.9204\n",
            "Epoch 60/500\n",
            "1875/1875 [==============================] - 5s 3ms/step - loss: 0.0385 - accuracy: 0.9877 - val_loss: 0.5627 - val_accuracy: 0.9212\n",
            "Epoch 61/500\n",
            "1875/1875 [==============================] - 6s 3ms/step - loss: 0.0342 - accuracy: 0.9888 - val_loss: 0.6275 - val_accuracy: 0.9174\n",
            "Epoch 62/500\n",
            "1875/1875 [==============================] - 6s 3ms/step - loss: 0.0384 - accuracy: 0.9875 - val_loss: 0.5645 - val_accuracy: 0.9208\n",
            "Epoch 63/500\n",
            "1875/1875 [==============================] - 6s 3ms/step - loss: 0.0384 - accuracy: 0.9878 - val_loss: 0.5863 - val_accuracy: 0.9211\n",
            "Epoch 64/500\n",
            "1875/1875 [==============================] - 5s 3ms/step - loss: 0.0337 - accuracy: 0.9885 - val_loss: 0.5833 - val_accuracy: 0.9183\n",
            "Epoch 65/500\n",
            "1875/1875 [==============================] - 6s 3ms/step - loss: 0.0347 - accuracy: 0.9880 - val_loss: 0.5565 - val_accuracy: 0.9206\n",
            "Epoch 66/500\n",
            "1875/1875 [==============================] - 5s 3ms/step - loss: 0.0356 - accuracy: 0.9880 - val_loss: 0.5574 - val_accuracy: 0.9187\n",
            "Epoch 67/500\n",
            "1875/1875 [==============================] - 5s 3ms/step - loss: 0.0318 - accuracy: 0.9890 - val_loss: 0.6298 - val_accuracy: 0.9172\n",
            "Epoch 68/500\n",
            "1875/1875 [==============================] - 6s 3ms/step - loss: 0.0341 - accuracy: 0.9890 - val_loss: 0.6563 - val_accuracy: 0.9176\n",
            "Epoch 69/500\n",
            "1875/1875 [==============================] - 6s 3ms/step - loss: 0.0353 - accuracy: 0.9886 - val_loss: 0.7482 - val_accuracy: 0.9191\n",
            "Epoch 70/500\n",
            "1875/1875 [==============================] - 6s 3ms/step - loss: 0.0333 - accuracy: 0.9891 - val_loss: 0.6275 - val_accuracy: 0.9151\n",
            "Epoch 00070: early stopping\n"
          ],
          "name": "stdout"
        },
        {
          "output_type": "execute_result",
          "data": {
            "text/plain": [
              "<tensorflow.python.keras.callbacks.History at 0x7f8e58078780>"
            ]
          },
          "metadata": {
            "tags": []
          },
          "execution_count": 13
        }
      ]
    },
    {
      "cell_type": "code",
      "metadata": {
        "id": "W-eIxCasDBil",
        "colab": {
          "base_uri": "https://localhost:8080/"
        },
        "outputId": "5ea7aa11-f939-4d46-d8df-30c13f5e50ed"
      },
      "source": [
        " c2f3.evaluate(X_test, y_test, batch_size = 32)"
      ],
      "execution_count": null,
      "outputs": [
        {
          "output_type": "stream",
          "text": [
            "313/313 [==============================] - 1s 2ms/step - loss: 0.6275 - accuracy: 0.9151\n"
          ],
          "name": "stdout"
        },
        {
          "output_type": "execute_result",
          "data": {
            "text/plain": [
              "[0.6274898648262024, 0.9150999784469604]"
            ]
          },
          "metadata": {
            "tags": []
          },
          "execution_count": 14
        }
      ]
    },
    {
      "cell_type": "markdown",
      "metadata": {
        "id": "5XYSVtC-DVsz"
      },
      "source": [
        "# **[DIY] Hidden layer에 따른 정확도**"
      ]
    },
    {
      "cell_type": "code",
      "metadata": {
        "id": "OiCc_UO2rGmp",
        "colab": {
          "base_uri": "https://localhost:8080/"
        },
        "outputId": "dc3c5286-c628-4535-9c89-d5dba26a381c"
      },
      "source": [
        "score1=c2f2.evaluate(X_test, y_test, batch_size = 32)\n",
        "score2=c2f3.evaluate(X_test, y_test, batch_size = 32)\n",
        "losses = [score1[0],score2[0]]\n",
        "accuracies= [score1[1],score2[1]]\n",
        "losses,accuracies"
      ],
      "execution_count": null,
      "outputs": [
        {
          "output_type": "stream",
          "text": [
            "313/313 [==============================] - 1s 2ms/step - loss: 0.7765 - accuracy: 0.9222\n",
            "313/313 [==============================] - 1s 2ms/step - loss: 0.6275 - accuracy: 0.9151\n"
          ],
          "name": "stdout"
        },
        {
          "output_type": "execute_result",
          "data": {
            "text/plain": [
              "([0.7765094637870789, 0.6274898648262024],\n",
              " [0.9222000241279602, 0.9150999784469604])"
            ]
          },
          "metadata": {
            "tags": []
          },
          "execution_count": 20
        }
      ]
    },
    {
      "cell_type": "code",
      "metadata": {
        "id": "vZv6a2aVRw9j",
        "colab": {
          "base_uri": "https://localhost:8080/",
          "height": 269
        },
        "outputId": "4b01d55e-e478-418c-8ea0-2aa998846fcf"
      },
      "source": [
        "x = np.arange(2)\n",
        "cnns = ['C2F2','C2F3']\n",
        "\n",
        "plt.bar(x, accuracies)\n",
        "plt.xticks(x, cnns)\n",
        "plt.ylim((.9,1.0))\n",
        "plt.show()"
      ],
      "execution_count": null,
      "outputs": [
        {
          "output_type": "display_data",
          "data": {
            "image/png": "[encoded data removed]",
            "text/plain": [
              "<Figure size 432x288 with 1 Axes>"
            ]
          },
          "metadata": {
            "tags": [],
            "needs_background": "light"
          }
        }
      ]
    },
    {
      "cell_type": "markdown",
      "metadata": {
        "id": "3Ub3qGnjs4EI"
      },
      "source": [
        "## Graph of loss and accuracy\n",
        "- model: C2F2"
      ]
    },
    {
      "cell_type": "code",
      "metadata": {
        "id": "NiSAsgsNtUte"
      },
      "source": [
        "c2f2 = keras.models.Sequential([ \n",
        "    Conv2D(input_shape=(28,28,1),kernel_size=(3,3),strides=(1,1),filters= 32,padding='same',activation='relu'),\n",
        "    MaxPool2D(pool_size=(2,2), strides=(2,2)), \n",
        "    Conv2D(kernel_size=(3,3),strides=(1,1),filters= 64,padding='same',activation='relu'),\n",
        "    MaxPool2D(pool_size=(2,2), strides=(2,2)),\n",
        "    Flatten(), \n",
        "    keras.layers.Dense(128, activation='relu'),  \n",
        "    keras.layers.Dropout(0.25), \n",
        "    keras.layers.Dense(10, activation='softmax')\n",
        "])\n",
        "\n",
        "c2f2.compile(optimizer='adam',\n",
        "            loss='categorical_crossentropy',\n",
        "            metrics=['accuracy'])"
      ],
      "execution_count": null,
      "outputs": []
    },
    {
      "cell_type": "code",
      "metadata": {
        "id": "dJHBUlomtUtt",
        "colab": {
          "base_uri": "https://localhost:8080/"
        },
        "outputId": "311677a7-681e-4673-cccf-6dd672de2ab3"
      },
      "source": [
        "c2f2.summary()"
      ],
      "execution_count": null,
      "outputs": [
        {
          "output_type": "stream",
          "text": [
            "Model: \"sequential_2\"\n",
            "_________________________________________________________________\n",
            "Layer (type)                 Output Shape              Param #   \n",
            "=================================================================\n",
            "conv2d_4 (Conv2D)            (None, 28, 28, 32)        320       \n",
            "_________________________________________________________________\n",
            "max_pooling2d_4 (MaxPooling2 (None, 14, 14, 32)        0         \n",
            "_________________________________________________________________\n",
            "conv2d_5 (Conv2D)            (None, 14, 14, 64)        18496     \n",
            "_________________________________________________________________\n",
            "max_pooling2d_5 (MaxPooling2 (None, 7, 7, 64)          0         \n",
            "_________________________________________________________________\n",
            "flatten_2 (Flatten)          (None, 3136)              0         \n",
            "_________________________________________________________________\n",
            "dense_5 (Dense)              (None, 128)               401536    \n",
            "_________________________________________________________________\n",
            "dropout_3 (Dropout)          (None, 128)               0         \n",
            "_________________________________________________________________\n",
            "dense_6 (Dense)              (None, 10)                1290      \n",
            "=================================================================\n",
            "Total params: 421,642\n",
            "Trainable params: 421,642\n",
            "Non-trainable params: 0\n",
            "_________________________________________________________________\n"
          ],
          "name": "stdout"
        }
      ]
    },
    {
      "cell_type": "code",
      "metadata": {
        "id": "-Yfqv2AqtUtz",
        "colab": {
          "base_uri": "https://localhost:8080/"
        },
        "outputId": "c295186f-9d5d-4f2a-9e6a-88e9c8f61413"
      },
      "source": [
        "hist = c2f2.fit(X_train, y_train, \n",
        "         epochs = 20 , \n",
        "         batch_size =32, \n",
        "         validation_data=(X_test,y_test))"
      ],
      "execution_count": null,
      "outputs": [
        {
          "output_type": "stream",
          "text": [
            "Epoch 1/20\n",
            "1875/1875 [==============================] - 5s 3ms/step - loss: 0.4338 - accuracy: 0.8433 - val_loss: 0.3215 - val_accuracy: 0.8869\n",
            "Epoch 2/20\n",
            "1875/1875 [==============================] - 5s 3ms/step - loss: 0.2861 - accuracy: 0.8967 - val_loss: 0.2826 - val_accuracy: 0.8943\n",
            "Epoch 3/20\n",
            "1875/1875 [==============================] - 6s 3ms/step - loss: 0.2418 - accuracy: 0.9110 - val_loss: 0.2627 - val_accuracy: 0.9039\n",
            "Epoch 4/20\n",
            "1875/1875 [==============================] - 5s 3ms/step - loss: 0.2103 - accuracy: 0.9215 - val_loss: 0.2449 - val_accuracy: 0.9102\n",
            "Epoch 5/20\n",
            "1875/1875 [==============================] - 5s 3ms/step - loss: 0.1899 - accuracy: 0.9285 - val_loss: 0.2480 - val_accuracy: 0.9134\n",
            "Epoch 6/20\n",
            "1875/1875 [==============================] - 5s 3ms/step - loss: 0.1681 - accuracy: 0.9377 - val_loss: 0.2343 - val_accuracy: 0.9205\n",
            "Epoch 7/20\n",
            "1875/1875 [==============================] - 5s 3ms/step - loss: 0.1519 - accuracy: 0.9432 - val_loss: 0.2279 - val_accuracy: 0.9225\n",
            "Epoch 8/20\n",
            "1875/1875 [==============================] - 5s 3ms/step - loss: 0.1336 - accuracy: 0.9489 - val_loss: 0.2299 - val_accuracy: 0.9226\n",
            "Epoch 9/20\n",
            "1875/1875 [==============================] - 5s 3ms/step - loss: 0.1202 - accuracy: 0.9554 - val_loss: 0.2476 - val_accuracy: 0.9251\n",
            "Epoch 10/20\n",
            "1875/1875 [==============================] - 5s 3ms/step - loss: 0.1093 - accuracy: 0.9580 - val_loss: 0.2600 - val_accuracy: 0.9226\n",
            "Epoch 11/20\n",
            "1875/1875 [==============================] - 5s 3ms/step - loss: 0.0985 - accuracy: 0.9621 - val_loss: 0.2710 - val_accuracy: 0.9241\n",
            "Epoch 12/20\n",
            "1875/1875 [==============================] - 5s 3ms/step - loss: 0.0904 - accuracy: 0.9647 - val_loss: 0.2675 - val_accuracy: 0.9234\n",
            "Epoch 13/20\n",
            "1875/1875 [==============================] - 5s 3ms/step - loss: 0.0837 - accuracy: 0.9683 - val_loss: 0.2843 - val_accuracy: 0.9269\n",
            "Epoch 14/20\n",
            "1875/1875 [==============================] - 5s 3ms/step - loss: 0.0796 - accuracy: 0.9692 - val_loss: 0.2839 - val_accuracy: 0.9290\n",
            "Epoch 15/20\n",
            "1875/1875 [==============================] - 5s 3ms/step - loss: 0.0708 - accuracy: 0.9728 - val_loss: 0.3162 - val_accuracy: 0.9220\n",
            "Epoch 16/20\n",
            "1875/1875 [==============================] - 5s 3ms/step - loss: 0.0666 - accuracy: 0.9740 - val_loss: 0.3163 - val_accuracy: 0.9261\n",
            "Epoch 17/20\n",
            "1875/1875 [==============================] - 5s 3ms/step - loss: 0.0623 - accuracy: 0.9763 - val_loss: 0.3457 - val_accuracy: 0.9218\n",
            "Epoch 18/20\n",
            "1875/1875 [==============================] - 5s 3ms/step - loss: 0.0597 - accuracy: 0.9776 - val_loss: 0.3722 - val_accuracy: 0.9186\n",
            "Epoch 19/20\n",
            "1875/1875 [==============================] - 5s 3ms/step - loss: 0.0557 - accuracy: 0.9785 - val_loss: 0.3716 - val_accuracy: 0.9248\n",
            "Epoch 20/20\n",
            "1875/1875 [==============================] - 5s 3ms/step - loss: 0.0532 - accuracy: 0.9798 - val_loss: 0.3681 - val_accuracy: 0.9231\n"
          ],
          "name": "stdout"
        }
      ]
    },
    {
      "cell_type": "code",
      "metadata": {
        "id": "WNmXXLhvWUiK",
        "colab": {
          "base_uri": "https://localhost:8080/",
          "height": 314
        },
        "outputId": "9b016347-8167-4c07-9ad5-36988a168846"
      },
      "source": [
        "# Plot loass and accuracy\n",
        "# Plot training & validation accuracy values\n",
        "epochs = 20\n",
        "loss_list = [100 * i for i in hist.history['loss']]\n",
        "acc_list = [100 * i for i in hist.history['accuracy']]\n",
        "plt.plot(range(1,epochs+1),loss_list) \n",
        "plt.plot(range(1,epochs+1),acc_list) \n",
        "plt.title('Model loss & accuracy')\n",
        "plt.ylabel('Accuracy (%)')\n",
        "plt.xlabel('Epoch')\n",
        "plt.legend(['loss', 'accuracy'], loc='center left')"
      ],
      "execution_count": null,
      "outputs": [
        {
          "output_type": "execute_result",
          "data": {
            "text/plain": [
              "<matplotlib.legend.Legend at 0x7f8e5033ce80>"
            ]
          },
          "metadata": {
            "tags": []
          },
          "execution_count": 28
        },
        {
          "output_type": "display_data",
          "data": {
            "image/png": "[encoded data removed]",
            "text/plain": [
              "<Figure size 432x288 with 1 Axes>"
            ]
          },
          "metadata": {
            "tags": [],
            "needs_background": "light"
          }
        }
      ]
    },
    {
      "cell_type": "code",
      "metadata": {
        "id": "0wNssVPhu_8m"
      },
      "source": [
        "vloss_list = [100 * i for i in hist.history['val_loss']]\n",
        "vacc_list = [100 * i for i in hist.history['val_accuracy']]"
      ],
      "execution_count": null,
      "outputs": []
    },
    {
      "cell_type": "code",
      "metadata": {
        "id": "TX5Uzro4vjaY",
        "colab": {
          "base_uri": "https://localhost:8080/",
          "height": 314
        },
        "outputId": "c1608334-19a1-4689-8bc2-1ab56c324c13"
      },
      "source": [
        "plt.plot(range(1,epochs+1),vloss_list)  \n",
        "plt.plot(range(1,epochs+1),vacc_list)  \n",
        "plt.title('Model val_loss & val_accuracy')\n",
        "plt.ylabel('Accuracy (%)')\n",
        "plt.xlabel('Epoch')\n",
        "plt.legend(['val_loss', 'val_accuracy'], loc='center left')"
      ],
      "execution_count": null,
      "outputs": [
        {
          "output_type": "execute_result",
          "data": {
            "text/plain": [
              "<matplotlib.legend.Legend at 0x7f8e502a7e10>"
            ]
          },
          "metadata": {
            "tags": []
          },
          "execution_count": 30
        },
        {
          "output_type": "display_data",
          "data": {
            "image/png": "[encoded data removed]",
            "text/plain": [
              "<Figure size 432x288 with 1 Axes>"
            ]
          },
          "metadata": {
            "tags": [],
            "needs_background": "light"
          }
        }
      ]
    },
    {
      "cell_type": "code",
      "metadata": {
        "id": "blALTNdyvjVK",
        "colab": {
          "base_uri": "https://localhost:8080/",
          "height": 314
        },
        "outputId": "ea683282-88fb-4fbb-ea8c-5c7a69568220"
      },
      "source": [
        "plt.plot(range(1,epochs+1),acc_list)  \n",
        "plt.plot(range(1,epochs+1),vacc_list)  \n",
        "plt.title('accuracy vs. val_accuracy')\n",
        "plt.ylabel('Accuracy (%)')\n",
        "plt.xlabel('Epoch')\n",
        "plt.legend(['accuracy','val_accuracy']) #, loc='center bottom')"
      ],
      "execution_count": null,
      "outputs": [
        {
          "output_type": "execute_result",
          "data": {
            "text/plain": [
              "<matplotlib.legend.Legend at 0x7f8e19d8ab00>"
            ]
          },
          "metadata": {
            "tags": []
          },
          "execution_count": 33
        },
        {
          "output_type": "display_data",
          "data": {
            "image/png": "[encoded data removed]",
            "text/plain": [
              "<Figure size 432x288 with 1 Axes>"
            ]
          },
          "metadata": {
            "tags": [],
            "needs_background": "light"
          }
        }
      ]
    },
    {
      "cell_type": "markdown",
      "metadata": {
        "id": "gBPKMI4y3fsa"
      },
      "source": [
        "## 모형의 저장\n",
        "\n",
        "- 트레이닝이 끝난 모형은 save 메서드로 가중치와 함께 hdf5 형식으로 저장\n",
        "- load 명령으로 불러 사용"
      ]
    },
    {
      "cell_type": "code",
      "metadata": {
        "id": "KCfbQl2v3fsa"
      },
      "source": [
        "# c2f2.save('fmnist_cnn_best.hdf5')"
      ],
      "execution_count": null,
      "outputs": []
    },
    {
      "cell_type": "code",
      "metadata": {
        "id": "b7-ysIVy3fse",
        "colab": {
          "base_uri": "https://localhost:8080/"
        },
        "outputId": "6761e6ac-5574-47e9-e89a-1c42db994db5"
      },
      "source": [
        "from keras.models import load_model\n",
        "\n",
        "model = load_model('fmnist_c2f2_best_weights.022-0.9225.hdf5')\n",
        "model.evaluate(X_test, y_test, batch_size=32)"
      ],
      "execution_count": null,
      "outputs": [
        {
          "output_type": "stream",
          "text": [
            "313/313 [==============================] - 1s 2ms/step - loss: 0.4252 - accuracy: 0.9225\n"
          ],
          "name": "stdout"
        },
        {
          "output_type": "execute_result",
          "data": {
            "text/plain": [
              "[0.42520028352737427, 0.9225000143051147]"
            ]
          },
          "metadata": {
            "tags": []
          },
          "execution_count": 24
        }
      ]
    },
    {
      "cell_type": "markdown",
      "metadata": {
        "id": "KF3UzDJotZrh"
      },
      "source": [
        "## Confusion matrix"
      ]
    },
    {
      "cell_type": "code",
      "metadata": {
        "id": "RV1IaOyeu6Em"
      },
      "source": [
        "from sklearn.metrics import confusion_matrix\n",
        "import seaborn as sns"
      ],
      "execution_count": null,
      "outputs": []
    },
    {
      "cell_type": "code",
      "metadata": {
        "id": "Bxs1eC-cuO0Y"
      },
      "source": [
        "predictions = model.predict(X_test)"
      ],
      "execution_count": null,
      "outputs": []
    },
    {
      "cell_type": "code",
      "metadata": {
        "id": "6Tqhg-UJujo5"
      },
      "source": [
        "predictions.shape"
      ],
      "execution_count": null,
      "outputs": []
    },
    {
      "cell_type": "code",
      "metadata": {
        "id": "nZch1JFSufoR"
      },
      "source": [
        "predictions0 = np.argmax(predictions, axis=1)\n",
        "predictions0.shape"
      ],
      "execution_count": null,
      "outputs": []
    },
    {
      "cell_type": "code",
      "metadata": {
        "id": "hiPMQeYXt12l"
      },
      "source": [
        "cm = confusion_matrix(y_test0, predictions0)"
      ],
      "execution_count": null,
      "outputs": []
    },
    {
      "cell_type": "code",
      "metadata": {
        "id": "YITaGwYjvatc"
      },
      "source": [
        "class_names =  ['T-shirt/top', 'Trouser', 'Pullover', 'Dress', 'Coat', 'Sandal', 'Shirt', 'Sneaker', 'Bag', 'Ankle boot']"
      ],
      "execution_count": null,
      "outputs": []
    },
    {
      "cell_type": "code",
      "metadata": {
        "id": "2qGHMNU3u8ut"
      },
      "source": [
        "plt.figure(figsize=(9,9))\n",
        "sns.heatmap(cm, cbar=False, xticklabels=class_names, yticklabels=class_names, fmt='d', annot=True, cmap=plt.cm.coolwarm)\n",
        "plt.xlabel('Predicted')\n",
        "plt.ylabel('Actual')\n",
        "plt.show()"
      ],
      "execution_count": null,
      "outputs": []
    },
    {
      "cell_type": "code",
      "metadata": {
        "id": "T6ebZJ77wGGi"
      },
      "source": [
        ""
      ],
      "execution_count": null,
      "outputs": []
    }
  ]
}