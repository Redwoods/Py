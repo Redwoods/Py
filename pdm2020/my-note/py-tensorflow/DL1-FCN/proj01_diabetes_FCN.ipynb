{
  "nbformat": 4,
  "nbformat_minor": 0,
  "metadata": {
    "kernelspec": {
      "display_name": "Python 3",
      "language": "python",
      "name": "python3"
    },
    "language_info": {
      "codemirror_mode": {
        "name": "ipython",
        "version": 3
      },
      "file_extension": ".py",
      "mimetype": "text/x-python",
      "name": "python",
      "nbconvert_exporter": "python",
      "pygments_lexer": "ipython3",
      "version": "3.6.5"
    },
    "colab": {
      "name": "proj01_diabetes_FCN_final.ipynb",
      "provenance": [],
      "collapsed_sections": [],
      "include_colab_link": true
    }
  },
  "cells": [
    {
      "cell_type": "markdown",
      "metadata": {
        "id": "view-in-github",
        "colab_type": "text"
      },
      "source": [
        "<a href=\"https://colab.research.google.com/github/Redwoods/Py/blob/master/pdm2020/my-note/py-tensorflow/DL1-FCN/proj01_diabetes_FCN.ipynb\" target=\"_parent\"><img src=\"https://colab.research.google.com/assets/colab-badge.svg\" alt=\"Open In Colab\"/></a>"
      ]
    },
    {
      "cell_type": "markdown",
      "metadata": {
        "id": "nOvJjCFrkWDc"
      },
      "source": [
        "# **DL: FCN of Pima-Indians-Diabetes-Data** \n",
        "\n",
        "> https://medium.com/@soumen.atta/analyzing-pima-indians-diabetes-data-using-python-89a021b5f4eb\n",
        "\n",
        "### Diabetes Prediction using Neural Networks \n",
        "- [Deep learning approach for diabetes prediction using PIMA Indian dataset](https://link.springer.com/article/10.1007/s40200-020-00520-5)"
      ]
    },
    {
      "cell_type": "code",
      "metadata": {
        "_cell_guid": "8e27055d-7b00-49f6-b0e8-f53ff433ddca",
        "_uuid": "1e1e2b84-2d40-497b-92bd-f238f939cfa8",
        "id": "WUOW3NKRkWDd"
      },
      "source": [
        "# Load the required packages \n",
        "import numpy as np\n",
        "import tensorflow as tf\n",
        "from tensorflow import keras\n",
        "import pandas as pd\n",
        "from pandas import read_csv\n",
        "import matplotlib.pyplot as plt\n",
        "# %matplotlib inline\n",
        "\n",
        "tf.random.set_seed(0)\n",
        "\n",
        "print(tf.__version__)"
      ],
      "execution_count": null,
      "outputs": []
    },
    {
      "cell_type": "markdown",
      "metadata": {
        "id": "TcfPniN2kWDg"
      },
      "source": [
        "**Load CSV file using Pandas**"
      ]
    },
    {
      "cell_type": "code",
      "metadata": {
        "id": "Ahd9x_NVkWDg"
      },
      "source": [
        "# Specify the file name \n",
        "url = \"https://github.com/Redwoods/Py/raw/master/pdm2020/my-note/py-pandas/data/diabetes.csv\"\n",
        "filename = url\n",
        "# filename = 'diabetes.csv'  # access to local file\n",
        "\n",
        "# Read the data \n",
        "df = read_csv(filename) \n",
        "\n",
        "# Print the shape \n",
        "df.shape"
      ],
      "execution_count": null,
      "outputs": []
    },
    {
      "cell_type": "code",
      "metadata": {
        "id": "q_g68MTvkWDi"
      },
      "source": [
        "# Print the first 5 rows \n",
        "df.head()"
      ],
      "execution_count": null,
      "outputs": []
    },
    {
      "cell_type": "markdown",
      "metadata": {
        "id": "crLvVWcozxxL"
      },
      "source": [
        "## create X and y datasets for training from df"
      ]
    },
    {
      "cell_type": "code",
      "metadata": {
        "id": "nPXuV-pmzxxL"
      },
      "source": [
        "from sklearn import model_selection"
      ],
      "execution_count": null,
      "outputs": []
    },
    {
      "cell_type": "code",
      "metadata": {
        "id": "vO3Bzh7uPEv2"
      },
      "source": [
        "# create X and Y datasets for training from raw df\n",
        "X = np.array(df.drop(['Outcome'], 1))\n",
        "y = np.array(df['Outcome'])\n",
        "\n",
        "# set random number seed\n",
        "np.random.seed(1234)\n",
        "tf.random.set_seed(1234)\n",
        "X_train, X_test, y_train, y_test = model_selection.train_test_split(X, y, test_size = 0.2)"
      ],
      "execution_count": null,
      "outputs": []
    },
    {
      "cell_type": "code",
      "metadata": {
        "id": "stfPciBcb7EP"
      },
      "source": [
        "X_train.shape, X_test.shape, y_train.shape, y_test.shape"
      ],
      "execution_count": null,
      "outputs": []
    },
    {
      "cell_type": "code",
      "metadata": {
        "id": "QkKoN2VFzxxL"
      },
      "source": [
        "print(X_train[0])\n",
        "y_train[:10]"
      ],
      "execution_count": null,
      "outputs": []
    },
    {
      "cell_type": "code",
      "metadata": {
        "id": "Ksp_VaslzxxL"
      },
      "source": [
        "np.unique(y_train, return_counts=True),np.unique(y_test, return_counts=True)  #[1]"
      ],
      "execution_count": null,
      "outputs": []
    },
    {
      "cell_type": "code",
      "metadata": {
        "id": "z6nGrXvXzxxM"
      },
      "source": [
        "X_train[:3]"
      ],
      "execution_count": null,
      "outputs": []
    },
    {
      "cell_type": "code",
      "metadata": {
        "id": "wAFYD041Xb1A"
      },
      "source": [
        "# import TF2 submodules\n",
        "from tensorflow.keras import layers, models, callbacks\n",
        "from keras.models import Sequential\n",
        "from keras.layers import Dense,Flatten\n",
        "from keras.callbacks import ModelCheckpoint, EarlyStopping"
      ],
      "execution_count": null,
      "outputs": []
    },
    {
      "cell_type": "markdown",
      "metadata": {
        "id": "qJ305pLHm5HF"
      },
      "source": [
        "## Deep learning of Diabetes dataset\n",
        "- noDM(0), DM(1)\n",
        "\n",
        "### Prediction by sigmoid function in the output layer\n",
        "- 0 if output < 0.5\n",
        "- 1 if output >= 0.5"
      ]
    },
    {
      "cell_type": "markdown",
      "metadata": {
        "id": "AZGiaDRh3-Ze"
      },
      "source": [
        "## Simple FCN\n",
        "- 3 layers FCN: 2 hidden + output"
      ]
    },
    {
      "cell_type": "code",
      "metadata": {
        "id": "0B5Xc0atXtuC"
      },
      "source": [
        "# set random number seed\n",
        "np.random.seed(1234)\n",
        "tf.random.set_seed(1234)\n",
        "\n",
        "# define the keras model: simple FCN\n",
        "model = Sequential()\n",
        "model.add(Dense(12, input_dim=8, activation='relu'))\n",
        "model.add(Dense(8, activation='relu'))\n",
        "model.add(Dense(1, activation='sigmoid'))\n",
        "# compile the keras model\n",
        "model.compile(loss='binary_crossentropy', \n",
        "              optimizer='adam', \n",
        "              metrics=['accuracy'])\n"
      ],
      "execution_count": null,
      "outputs": []
    },
    {
      "cell_type": "code",
      "metadata": {
        "id": "ROjU8SG-X2XU"
      },
      "source": [
        "# fit the keras model on the dataset\n",
        "hist = model.fit(X_train, y_train, epochs=150, batch_size=10, verbose=1, \n",
        "                 validation_data=(X_test, y_test))\n"
      ],
      "execution_count": null,
      "outputs": []
    },
    {
      "cell_type": "code",
      "metadata": {
        "id": "31lyImw0oLoB"
      },
      "source": [
        "# 훈련 데이터와 검증 데이터에 대한 loss 시각화.\n",
        "epochs = range(1, len(hist.history['loss']) + 1)\n",
        "\n",
        "loss_list = hist.history['loss'] #[100 * i for i in history.history['loss']]\n",
        "vloss_list = hist.history['val_loss'] #[100 * i for i in history.history['val_loss']]\n",
        "\n",
        "plt.plot(epochs,loss_list)  \n",
        "plt.plot(epochs,vloss_list)\n",
        "\n",
        "plt.plot(np.argmin(np.array(vloss_list))+1,vloss_list[np.argmin(np.array(vloss_list))], 'r*')\n",
        "plt.title('Diabetes: FCN model - val_loss, min:' + str(np.round(vloss_list[np.argmin(np.array(vloss_list))],2)))\n",
        "plt.ylabel('val-Loss (%)')\n",
        "plt.xlabel('Epoch')\n",
        "plt.legend(['loss','val_loss','best'], loc='best')\n",
        "plt.show()"
      ],
      "execution_count": null,
      "outputs": []
    },
    {
      "cell_type": "code",
      "metadata": {
        "id": "U88jdeiqoWID"
      },
      "source": [
        "# 훈련 데이터와 검증 데이터에 대한 accuracy 시각화.\n",
        "epochs = range(1, len(hist.history['accuracy']) + 1)\n",
        "\n",
        "acc_list = [100 * i for i in hist.history['accuracy']]\n",
        "vacc_list = [100 * i for i in hist.history['val_accuracy']]\n",
        "\n",
        "plt.plot(epochs,acc_list)  \n",
        "plt.plot(epochs,vacc_list)\n",
        "\n",
        "plt.plot(np.argmax(np.array(vacc_list))+1,vacc_list[np.argmax(np.array(vacc_list))], 'r*')\n",
        "plt.title('Diabetes: FCN model - val_accuracy, max:' + str(np.round(vacc_list[np.argmax(np.array(vacc_list))],2)))\n",
        "plt.ylabel('val-Accuracy (%)')\n",
        "plt.xlabel('Epoch')\n",
        "plt.legend(['accuracy','val_accuracy','best'], loc='best')\n",
        "plt.show()"
      ],
      "execution_count": null,
      "outputs": []
    },
    {
      "cell_type": "code",
      "metadata": {
        "id": "i-owBe_-nLfL"
      },
      "source": [
        "# model performance\n",
        "model.evaluate(X_test, y_test)"
      ],
      "execution_count": null,
      "outputs": []
    },
    {
      "cell_type": "markdown",
      "metadata": {
        "id": "Rq_lMBiv6NQl"
      },
      "source": [
        "## Predictiion of the train data"
      ]
    },
    {
      "cell_type": "code",
      "metadata": {
        "id": "cv0lPPtdbZIt"
      },
      "source": [
        "y_train[:5],y_train.shape"
      ],
      "execution_count": null,
      "outputs": []
    },
    {
      "cell_type": "code",
      "metadata": {
        "id": "u10xb1P7b-QT"
      },
      "source": [
        "model.predict(X_train)[0:5],[int(np.round(prob)) for prob in model.predict(X_train)[0:5]]"
      ],
      "execution_count": null,
      "outputs": []
    },
    {
      "cell_type": "markdown",
      "metadata": {
        "id": "z3Nmb5PQ5wMS"
      },
      "source": [
        "## Predictiion of the test data"
      ]
    },
    {
      "cell_type": "code",
      "metadata": {
        "id": "p88uIn2gdA_E"
      },
      "source": [
        "# Prediction of the test data\n",
        "print(y_test[:10])\n",
        "model.predict(X_test)[0:10],[int(np.round(prob)) for prob in model.predict(X_test)[0:10]]"
      ],
      "execution_count": null,
      "outputs": []
    },
    {
      "cell_type": "code",
      "metadata": {
        "id": "SgqKqqux6wBc"
      },
      "source": [
        "# y_test[:10]==[int(np.round(prob)) for prob in model.predict(X_test)[0:10]]"
      ],
      "execution_count": null,
      "outputs": []
    },
    {
      "cell_type": "code",
      "metadata": {
        "id": "8C7SkexxkS5c"
      },
      "source": [
        "# make class predictions for test data with the model\n",
        "predictions = [int(np.round(prob)) for prob in model.predict(X_test)]\n",
        "predictions[:10]"
      ],
      "execution_count": null,
      "outputs": []
    },
    {
      "cell_type": "code",
      "metadata": {
        "id": "-l8Or1_8YV8H"
      },
      "source": [
        "# summarize the first 10 cases in testset\n",
        "for i in range(10):\n",
        "   print('%s => %d (expected %d)' % (X_test[i], predictions[i], y_test[i]))"
      ],
      "execution_count": null,
      "outputs": []
    },
    {
      "cell_type": "markdown",
      "metadata": {
        "id": "zCh-95EO_-17"
      },
      "source": [
        "### Confusion matrix"
      ]
    },
    {
      "cell_type": "code",
      "metadata": {
        "id": "i4QJwcVvADpU"
      },
      "source": [
        "import seaborn as sns\n",
        "from sklearn.metrics import confusion_matrix"
      ],
      "execution_count": null,
      "outputs": []
    },
    {
      "cell_type": "code",
      "metadata": {
        "id": "hiPMQeYXt12l"
      },
      "source": [
        "cm = confusion_matrix(y_test, predictions)"
      ],
      "execution_count": null,
      "outputs": []
    },
    {
      "cell_type": "code",
      "metadata": {
        "id": "YITaGwYjvatc"
      },
      "source": [
        "class_names = ['noDM','DM']"
      ],
      "execution_count": null,
      "outputs": []
    },
    {
      "cell_type": "code",
      "metadata": {
        "id": "2qGHMNU3u8ut"
      },
      "source": [
        "plt.figure(figsize=(5,5))\n",
        "sns.heatmap(cm, cbar=False, xticklabels=class_names, yticklabels=class_names, fmt='d', annot=True, cmap=plt.cm.coolwarm)\n",
        "plt.xlabel('Predicted')\n",
        "plt.ylabel('Actual')\n",
        "plt.show()"
      ],
      "execution_count": null,
      "outputs": []
    },
    {
      "cell_type": "markdown",
      "metadata": {
        "id": "xG6RmEh-rECP"
      },
      "source": [
        "## [DIY-1] Save the best model\n",
        "- hdf5 file"
      ]
    },
    {
      "cell_type": "code",
      "metadata": {
        "id": "UVgMnQNMrqL4"
      },
      "source": [
        "# set random number seed\n",
        "np.random.seed(1234)\n",
        "tf.random.set_seed(1234)\n",
        "# define the keras model\n",
        "model2 = Sequential([\n",
        "    Dense(12, input_dim=8, activation='relu'),  # 1st hidden layer \n",
        "    Dense(8, activation='relu'), \n",
        "    Dense(1, activation='sigmoid')                 \n",
        "])\n",
        "# compile the keras model\n",
        "model2.compile(loss='binary_crossentropy', \n",
        "              optimizer='adam', \n",
        "              metrics=['accuracy'])\n"
      ],
      "execution_count": null,
      "outputs": []
    },
    {
      "cell_type": "markdown",
      "metadata": {
        "id": "JjB5zR4vsUHw"
      },
      "source": [
        "### callbacks"
      ]
    },
    {
      "cell_type": "code",
      "metadata": {
        "id": "V20fWcM4sTAk"
      },
      "source": [
        "cp_callback = callbacks.ModelCheckpoint(filepath=\"./diabetes_DL_best_weights.{epoch:03d}-{val_accuracy:.3f}.hdf5\", \n",
        "                              monitor='val_accuracy', verbose=0, save_best_only=True)\n",
        "es_callback = callbacks.EarlyStopping(monitor='val_accuracy', \n",
        "                            mode='max', verbose=1, patience=50)    # patience=10, 20, 50"
      ],
      "execution_count": null,
      "outputs": []
    },
    {
      "cell_type": "code",
      "metadata": {
        "id": "hjNTHDcurqL5"
      },
      "source": [
        "# fit the keras model on the dataset\n",
        "hist = model2.fit(X_train, y_train, epochs=500, batch_size=10, verbose=1, \n",
        "                  callbacks=[cp_callback, es_callback], \n",
        "                  validation_data=(X_test, y_test))\n"
      ],
      "execution_count": null,
      "outputs": []
    },
    {
      "cell_type": "code",
      "metadata": {
        "id": "7cTBmcNAuIDs"
      },
      "source": [
        "# 훈련 데이터와 검증 데이터에 대한 accuracy 시각화.\n",
        "epochs = range(1, len(hist.history['accuracy']) + 1)\n",
        "\n",
        "acc_list = [100 * i for i in hist.history['accuracy']]\n",
        "vacc_list = [100 * i for i in hist.history['val_accuracy']]\n",
        "\n",
        "plt.plot(epochs,acc_list)  \n",
        "plt.plot(epochs,vacc_list)\n",
        "\n",
        "plt.plot(np.argmax(np.array(vacc_list))+1,vacc_list[np.argmax(np.array(vacc_list))], 'r*')\n",
        "plt.title('Diabetes: FCN model - val_accuracy, max:' + str(np.round(vacc_list[np.argmax(np.array(vacc_list))],2)))\n",
        "plt.ylabel('val-Accuracy (%)')\n",
        "plt.xlabel('Epoch')\n",
        "plt.legend(['accuracy','val_accuracy','best'], loc='best')\n",
        "plt.show()"
      ],
      "execution_count": null,
      "outputs": []
    },
    {
      "cell_type": "markdown",
      "metadata": {
        "id": "mfpDVTp9tp0T"
      },
      "source": [
        "### best model\n",
        "> diabetes_DL_best_weights.088-0.786.hdf5"
      ]
    },
    {
      "cell_type": "code",
      "metadata": {
        "id": "7XICED9Jt5ls"
      },
      "source": [
        "# model2 performance\n",
        "model2.evaluate(X_test, y_test)"
      ],
      "execution_count": null,
      "outputs": []
    },
    {
      "cell_type": "code",
      "metadata": {
        "id": "qdp3G_DcZ1Ek"
      },
      "source": [
        "from keras.models import load_model\n",
        "\n",
        "# model = load_model('your_best_model.hdf5')\n",
        "model2_best = load_model('diabetes_DL_best_weights.088-0.786.hdf5')\n",
        "model2_best.evaluate(X_test, y_test)"
      ],
      "execution_count": null,
      "outputs": []
    },
    {
      "cell_type": "markdown",
      "metadata": {
        "id": "y_odUaaS-2HY"
      },
      "source": [
        "### Confusion matrix ot the best model"
      ]
    },
    {
      "cell_type": "code",
      "metadata": {
        "id": "JCuXtq6j-2Ha"
      },
      "source": [
        "# import seaborn as sns\n",
        "# from sklearn.metrics import confusion_matrix\n",
        "\n",
        "# make class predictions for test data with the model\n",
        "predictions = [int(np.round(prob)) for prob in model2_best.predict(X_test)]\n",
        "\n",
        "cm = confusion_matrix(y_test, predictions)"
      ],
      "execution_count": null,
      "outputs": []
    },
    {
      "cell_type": "code",
      "metadata": {
        "id": "ROijTNy4-2Ha"
      },
      "source": [
        "class_names = ['noDM','DM']"
      ],
      "execution_count": null,
      "outputs": []
    },
    {
      "cell_type": "code",
      "metadata": {
        "id": "ds6fmbSc-2Ha"
      },
      "source": [
        "plt.figure(figsize=(5,5))\n",
        "sns.heatmap(cm, cbar=False, xticklabels=class_names, yticklabels=class_names, fmt='d', annot=True, cmap=plt.cm.coolwarm)\n",
        "plt.xlabel('Predicted')\n",
        "plt.ylabel('Actual')\n",
        "plt.show()"
      ],
      "execution_count": null,
      "outputs": []
    },
    {
      "cell_type": "markdown",
      "metadata": {
        "id": "jxwf3-ffAJH7"
      },
      "source": [
        "---"
      ]
    },
    {
      "cell_type": "markdown",
      "metadata": {
        "id": "C3fPEXJnAhCT"
      },
      "source": [
        "## [DIY-2] Save the best model after preprocessing data\n",
        "- StandardScaler"
      ]
    },
    {
      "cell_type": "code",
      "metadata": {
        "id": "Xpj1sO5qeW3_"
      },
      "source": [
        "# StandardScaler\n",
        "from sklearn.preprocessing import StandardScaler\n",
        "scaler = StandardScaler().fit(X_train)\n",
        "X_train = scaler.transform(X_train)\n",
        "X_test  = scaler.transform(X_test)"
      ],
      "execution_count": null,
      "outputs": []
    },
    {
      "cell_type": "code",
      "metadata": {
        "id": "ChyT_BTzA1tk"
      },
      "source": [
        "# set random number seed\n",
        "np.random.seed(1234)\n",
        "tf.random.set_seed(1234)\n",
        "# define the keras model\n",
        "model2s = Sequential([\n",
        "    Dense(12, input_dim=8, activation='relu'),  \n",
        "    Dense(8, activation='relu'), \n",
        "    Dense(1, activation='sigmoid')                 \n",
        "])\n",
        "# compile the keras model\n",
        "model2s.compile(loss='binary_crossentropy', \n",
        "              optimizer='adam', \n",
        "              metrics=['accuracy'])\n"
      ],
      "execution_count": null,
      "outputs": []
    },
    {
      "cell_type": "markdown",
      "metadata": {
        "id": "b8xoYOO4A1tl"
      },
      "source": [
        "### callbacks"
      ]
    },
    {
      "cell_type": "code",
      "metadata": {
        "id": "3iA8oFDfA1tl"
      },
      "source": [
        "cp_callback = callbacks.ModelCheckpoint(filepath=\"./diabetes_DL_SS_best_weights.{epoch:03d}-{val_accuracy:.3f}.hdf5\", \n",
        "                              monitor='val_accuracy', verbose=0, save_best_only=True)\n",
        "es_callback = callbacks.EarlyStopping(monitor='val_accuracy', \n",
        "                            mode='max', verbose=1, patience=50)    # patience=10, 20, 50"
      ],
      "execution_count": null,
      "outputs": []
    },
    {
      "cell_type": "code",
      "metadata": {
        "id": "gMGYZH68A1tl"
      },
      "source": [
        "# fit the keras model on the dataset\n",
        "hist = model2s.fit(X_train, y_train, epochs=500, batch_size=10, verbose=1, \n",
        "                  callbacks=[cp_callback, es_callback], \n",
        "                  validation_data=(X_test, y_test))\n"
      ],
      "execution_count": null,
      "outputs": []
    },
    {
      "cell_type": "code",
      "metadata": {
        "id": "0edeost-A1tm"
      },
      "source": [
        "# 훈련 데이터와 검증 데이터에 대한 accuracy 시각화.\n",
        "epochs = range(1, len(hist.history['accuracy']) + 1)\n",
        "\n",
        "acc_list = [100 * i for i in hist.history['accuracy']]\n",
        "vacc_list = [100 * i for i in hist.history['val_accuracy']]\n",
        "\n",
        "plt.plot(epochs,acc_list)  \n",
        "plt.plot(epochs,vacc_list)\n",
        "\n",
        "plt.plot(np.argmax(np.array(vacc_list))+1,vacc_list[np.argmax(np.array(vacc_list))], 'r*')\n",
        "plt.title('Diabetes: FCN model - val_accuracy, max:' + str(np.round(vacc_list[np.argmax(np.array(vacc_list))],2)))\n",
        "plt.ylabel('val-Accuracy (%)')\n",
        "plt.xlabel('Epoch')\n",
        "plt.legend(['accuracy','val_accuracy','best'], loc='best')\n",
        "plt.show()"
      ],
      "execution_count": null,
      "outputs": []
    },
    {
      "cell_type": "markdown",
      "metadata": {
        "id": "eG-fHXh5A1tm"
      },
      "source": [
        "### best model\n",
        "> diabetes_DL_SS_best_weights.004-0.766.hdf5"
      ]
    },
    {
      "cell_type": "code",
      "metadata": {
        "id": "cGGKTllZA1tm"
      },
      "source": [
        "# model2 performance\n",
        "model2s.evaluate(X_test, y_test)"
      ],
      "execution_count": null,
      "outputs": []
    },
    {
      "cell_type": "code",
      "metadata": {
        "id": "dQdVkllwA1tm"
      },
      "source": [
        "from keras.models import load_model\n",
        "\n",
        "# model = load_model('your_best_model.hdf5')\n",
        "model2s_best = load_model('diabetes_DL_SS_best_weights.004-0.766.hdf5')\n",
        "model2s_best.evaluate(X_test, y_test)"
      ],
      "execution_count": null,
      "outputs": []
    },
    {
      "cell_type": "markdown",
      "metadata": {
        "id": "hAWRrE79A1tm"
      },
      "source": [
        "### Confusion matrix ot the best model"
      ]
    },
    {
      "cell_type": "code",
      "metadata": {
        "id": "EnbNMvsIA1tn"
      },
      "source": [
        "# import seaborn as sns\n",
        "# from sklearn.metrics import confusion_matrix\n",
        "\n",
        "# make class predictions for test data with the model\n",
        "predictions = [int(np.round(prob)) for prob in model2s_best.predict(X_test)]\n",
        "\n",
        "cm = confusion_matrix(y_test, predictions)"
      ],
      "execution_count": null,
      "outputs": []
    },
    {
      "cell_type": "code",
      "metadata": {
        "id": "yWi44OteA1tn"
      },
      "source": [
        "class_names = ['noDM','DM']"
      ],
      "execution_count": null,
      "outputs": []
    },
    {
      "cell_type": "code",
      "metadata": {
        "id": "1I1OdpWuA1tn"
      },
      "source": [
        "plt.figure(figsize=(5,5))\n",
        "sns.heatmap(cm, cbar=False, xticklabels=class_names, yticklabels=class_names, fmt='d', annot=True, cmap=plt.cm.coolwarm)\n",
        "plt.xlabel('Predicted')\n",
        "plt.ylabel('Actual')\n",
        "plt.show()"
      ],
      "execution_count": null,
      "outputs": []
    },
    {
      "cell_type": "markdown",
      "metadata": {
        "id": "ICOiTafiyl7b"
      },
      "source": [
        "***"
      ]
    },
    {
      "cell_type": "markdown",
      "metadata": {
        "id": "s_NsDYVbyc1_"
      },
      "source": [
        "## [DIY-2] 데이터 전처리 후 딥러닝 모델 만들어서 평가\n",
        "- 결과가 좋아지는지, 아니면 나빠지는지를 확인하시오."
      ]
    },
    {
      "cell_type": "markdown",
      "metadata": {
        "id": "rWoRa2VqSkHI"
      },
      "source": [
        "## Check data\n",
        "- null\n",
        "- NaN"
      ]
    },
    {
      "cell_type": "code",
      "metadata": {
        "id": "whrqReP4mOhl"
      },
      "source": [
        "# Check NaN\n",
        "# data.isna().sum()\n",
        "df.isnull().sum()"
      ],
      "execution_count": null,
      "outputs": []
    },
    {
      "cell_type": "markdown",
      "metadata": {
        "id": "h--H_58sxzEz"
      },
      "source": [
        "### 과연 diabetes 데이터는 문제가 없는가?\n",
        "\n",
        "- 각 항목에서 0이 허용되지 않는 경우에 0이 있다면 => 문제 있는 데이터!\n",
        "- Pregnancies, Outcome은 0이 가능한 값이므로 제외하고 0이 있는 항목(column) 조사"
      ]
    },
    {
      "cell_type": "code",
      "metadata": {
        "id": "9ETrQATux_Wt"
      },
      "source": [
        "df.head(10)"
      ],
      "execution_count": null,
      "outputs": []
    },
    {
      "cell_type": "code",
      "metadata": {
        "id": "UN8Ub9s-y7RM"
      },
      "source": [
        "# Pregnancies, Outcome은 0이 가능한 값이므로 제외하고 0이 있는 항목(column) 조사\n",
        "columns_with_zero = df.columns[(df==0).sum() > 0][1:-1]\n",
        "columns_with_zero"
      ],
      "execution_count": null,
      "outputs": []
    },
    {
      "cell_type": "code",
      "metadata": {
        "id": "jYGrj7udx6mk"
      },
      "source": [
        "# Clean the data : zero2median()\n",
        "# 1. Check zeros in features with Pregnancies, Outcome excluded.\n",
        "# 2. Replace zero with NaN \n",
        "# 3. Replace NaN with the median of the corresponding featurs\n",
        "def zero2median(df):\n",
        "    columns_with_zero = df.columns[(df==0).sum() > 0][1:-1]\n",
        "    # Index(['Glucose', 'BloodPressure', 'SkinThickness', 'Insulin', 'BMI'], dtype='object')\n",
        "    df[columns_with_zero]=df[columns_with_zero].replace(0,np.nan)\n",
        "    for feature in columns_with_zero:\n",
        "        df[feature].fillna(df[feature].median(),inplace=True)\n",
        "    \n",
        "    return df\n",
        "\n",
        "# Make clean dataframe, df2 from df\n",
        "df2 = zero2median(df)"
      ],
      "execution_count": null,
      "outputs": []
    },
    {
      "cell_type": "code",
      "metadata": {
        "id": "jUBEg3S0zxQv"
      },
      "source": [
        "df2.head(10)"
      ],
      "execution_count": null,
      "outputs": []
    },
    {
      "cell_type": "markdown",
      "metadata": {
        "id": "Ares-U3O0bIm"
      },
      "source": [
        "## [DIY] 전처리된 데이터프레임 df2를 이용해서 FCN으로 best model을 찾으시오.\n",
        "- best model: hdf5 file\n",
        "- Accuracy graph\n",
        "- Confusion matrix graph"
      ]
    },
    {
      "cell_type": "code",
      "metadata": {
        "id": "YDrUtW3HwUyf"
      },
      "source": [
        "# Your code here\n",
        "\n",
        "\n"
      ],
      "execution_count": null,
      "outputs": []
    }
  ]
}