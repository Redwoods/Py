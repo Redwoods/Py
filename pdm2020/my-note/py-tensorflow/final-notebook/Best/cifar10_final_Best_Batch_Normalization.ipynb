{
  "nbformat": 4,
  "nbformat_minor": 0,
  "metadata": {
    "colab": {
      "name": "cifar10_final.ipynb",
      "provenance": [],
      "collapsed_sections": []
    },
    "kernelspec": {
      "name": "python3",
      "display_name": "Python 3"
    },
    "accelerator": "GPU"
  },
  "cells": [
    {
      "cell_type": "markdown",
      "metadata": {
        "id": "h0ZU9CY037M9"
      },
      "source": [
        "#* **이 ipynb의 앞부분의 내용은 최종 notebook에 포함되는 이전 강의 복습내용 입니다.**\r\n",
        "- **기말고사 내용인 cifar10 데이터에 대한 분류 정확도가 높은 모델을 만드는 방법과 최적 모델은 이 notebook 뒷부분에 있습니다.**"
      ]
    },
    {
      "cell_type": "markdown",
      "metadata": {
        "id": "2BJGkxyPcsZD"
      },
      "source": [
        "##**기말고사**\r\n",
        "### **mnist, fmnist, cifar10 순으로 간단한 CNN 모델의 성능(정확도)이 낮아지는 이유는 무엇입니까?**\r\n",
        "\r\n",
        "mnist, fmnist, cifar10 순으로 CNN 모델의 성능(정확도)이 낮아지는 이유는 점점 갈수록 성능을 올리기에는 다소 적은 dataset이기 때문이다. 큰 dataset을 사용하면 학습 데이터를 늘리면 오차가 작아져 성능이 높이는 데 효율적이라고 볼 수 있다."
      ]
    },
    {
      "cell_type": "markdown",
      "metadata": {
        "id": "rswfCVLZ-QW0"
      },
      "source": [
        "# **CNN model of cifar-10 dataset**\n",
        "- Conv2D + FCN\n",
        "    * Conv2D : 2차원 합성곱 필터링 + 풀링(Pooling)\n",
        "    * FCN : 1차원 완전연결신경망\n",
        "\n",
        "***\n",
        "- ## Traget: Find the best model\n",
        "***\n",
        "\n",
        "![mnist_NN_2_layers](https://img1.daumcdn.net/thumb/R1280x0/?scode=mtistory2&fname=https%3A%2F%2Fblog.kakaocdn.net%2Fdn%2FdJp5Z6%2FbtqAPebnF3x%2FQCe5vVcskhmxe964bGz4iK%2Fimg.png)\n",
        "\n",
        "(source: https://img1.daumcdn.net/thumb/R1280x0/?scode=mtistory2&fname=https%3A%2F%2Fblog.kakaocdn.net%2Fdn%2FdJp5Z6%2FbtqAPebnF3x%2FQCe5vVcskhmxe964bGz4iK%2Fimg.png)"
      ]
    },
    {
      "cell_type": "markdown",
      "metadata": {
        "id": "ISueys4bNHd1"
      },
      "source": [
        "### CIFAR-10 Dataset (CIFAR: Canadian Institute For Advanced Research)\n",
        "> https://www.cs.toronto.edu/~kriz/cifar.html\n",
        "\n",
        "- (50000, 32, 32, 3), train\n",
        "- (10000, 32, 32, 3), test\n",
        "- color photographs of objects from 10 classes, such as frogs, birds, cats, ships, etc\n",
        "> class names\n",
        "> - ['airplane', 'automobile', 'bird', 'cat', 'deer', 'dog', 'frog', 'horse', 'ship', 'truck']\n",
        "\n",
        "- 참고 문헌  \n",
        "\n",
        "> https://becominghuman.ai/cifar-10-image-classification-fd2ace47c5e8  \n",
        "\n",
        "> https://becominghuman.ai/convolutional-neural-networks-cnns-convnets-for-visual-recognition-cae879a70f1a\n",
        "\n",
        "> https://towardsdatascience.com/cifar-10-image-classification-in-tensorflow-5b501f7dc77c"
      ]
    },
    {
      "cell_type": "markdown",
      "metadata": {
        "id": "1yhvkxS_HhpK"
      },
      "source": [
        "## Search the best model of C2F2\n",
        "- callback\n",
        "    - Early stopping\n",
        "    - model checkpoint"
      ]
    },
    {
      "cell_type": "code",
      "metadata": {
        "id": "8GgGzPXPVyfa",
        "colab": {
          "base_uri": "https://localhost:8080/"
        },
        "outputId": "1c93cf94-e4ef-430d-c6da-43d866f845fe"
      },
      "source": [
        "import numpy as np\n",
        "import tensorflow as tf\n",
        "from tensorflow import keras\n",
        "import pandas as pd\n",
        "import matplotlib.pyplot as plt\n",
        "%matplotlib inline\n",
        "\n",
        "tf.random.set_seed(0)\n",
        "\n",
        "print(tf.__version__)"
      ],
      "execution_count": null,
      "outputs": [
        {
          "output_type": "stream",
          "text": [
            "2.3.0\n"
          ],
          "name": "stdout"
        }
      ]
    },
    {
      "cell_type": "code",
      "metadata": {
        "id": "nMZqMpIvIlwf"
      },
      "source": [
        "# import TF2 submodules\n",
        "from tensorflow.keras import layers, models, callbacks"
      ],
      "execution_count": null,
      "outputs": []
    },
    {
      "cell_type": "markdown",
      "metadata": {
        "id": "-0IOOUM14Jk1"
      },
      "source": [
        "## **데이터 로딩, 정규화**"
      ]
    },
    {
      "cell_type": "code",
      "metadata": {
        "id": "N1ogJ7I64Fz-",
        "colab": {
          "base_uri": "https://localhost:8080/"
        },
        "outputId": "925afc1d-cc37-4fbb-bfa7-891f98b60782"
      },
      "source": [
        "from keras.datasets import cifar10\n",
        "\n",
        "(X_train0, y_train0), (X_test0, y_test0) = cifar10.load_data()\n",
        "\n",
        "# Reshape\n",
        "# X_train = X_train0.reshape(60000,28,28,1)\n",
        "# X_test = X_test0.reshape(10000,28,28,1)\n",
        "\n",
        "# Normalization\n",
        "X_train, X_test = X_train0/255.0, X_test0/255.0 # 정규화\n",
        "\n",
        "print(\"X_train={0}\".format(X_train.shape))\n",
        "print(\"y_train={0}\".format(y_train0.shape)) \n",
        "print(\"X_test={0}\".format(X_test.shape))\n",
        "print(\"y_test={0}\".format(y_test0.shape))"
      ],
      "execution_count": null,
      "outputs": [
        {
          "output_type": "stream",
          "text": [
            "Downloading data from https://www.cs.toronto.edu/~kriz/cifar-10-python.tar.gz\n",
            "170500096/170498071 [==============================] - 2s 0us/step\n",
            "X_train=(50000, 32, 32, 3)\n",
            "y_train=(50000, 1)\n",
            "X_test=(10000, 32, 32, 3)\n",
            "y_test=(10000, 1)\n"
          ],
          "name": "stdout"
        }
      ]
    },
    {
      "cell_type": "code",
      "metadata": {
        "id": "F46-QZqJHiQ6",
        "colab": {
          "base_uri": "https://localhost:8080/"
        },
        "outputId": "91e10414-07a3-485b-e118-ee316e263d9b"
      },
      "source": [
        "# One-Hot-Encoding\n",
        "# Use function to_categorical() to do One-Hot-Encoding\n",
        "# tf.keras.utils.to_categorical\n",
        "from keras.utils import to_categorical\n",
        "\n",
        "y_train = to_categorical(y_train0, 10)\n",
        "y_test = to_categorical(y_test0, 10)\n",
        "y_train.shape,y_test.shape"
      ],
      "execution_count": null,
      "outputs": [
        {
          "output_type": "execute_result",
          "data": {
            "text/plain": [
              "((50000, 10), (10000, 10))"
            ]
          },
          "metadata": {
            "tags": []
          },
          "execution_count": 6
        }
      ]
    },
    {
      "cell_type": "code",
      "metadata": {
        "id": "eZ3OfP5PkEkL",
        "colab": {
          "base_uri": "https://localhost:8080/"
        },
        "outputId": "41d954e7-2047-49e4-e91f-5f84d8d6dd86"
      },
      "source": [
        "# y_train0.shape vs. y_train.shape\n",
        "y_train0.shape, y_train.shape"
      ],
      "execution_count": null,
      "outputs": [
        {
          "output_type": "execute_result",
          "data": {
            "text/plain": [
              "((50000, 1), (50000, 10))"
            ]
          },
          "metadata": {
            "tags": []
          },
          "execution_count": 7
        }
      ]
    },
    {
      "cell_type": "markdown",
      "metadata": {
        "id": "5z7SozStigmF"
      },
      "source": [
        "### Display images in CIFAR-10\n",
        "- one random image\n",
        "- 10 representative images"
      ]
    },
    {
      "cell_type": "code",
      "metadata": {
        "id": "IK7XT3XoirSL",
        "colab": {
          "base_uri": "https://localhost:8080/",
          "height": 286
        },
        "outputId": "c1444da5-3894-4b73-8775-2e07a0983d1e"
      },
      "source": [
        "# 랜덤으로 하나만 출력\n",
        "# Code here!\n",
        "# display one random image from the training set:\n",
        "class_names =  ['airplane', 'automobile', 'bird', 'cat', 'deer', 'dog', 'frog', 'horse', 'ship', 'truck']\n",
        "\n",
        "idx = np.random.randint(0, X_train0.shape[0])\n",
        "print(idx)\n",
        "image = X_train0[idx]\n",
        "plt.imshow(image) #, cmap=plt.get_cmap('gray'))\n",
        "plt.title(class_names[y_train0[idx][0]])\n",
        "plt.xticks([])\n",
        "plt.yticks([])\n",
        "plt.show()"
      ],
      "execution_count": null,
      "outputs": [
        {
          "output_type": "stream",
          "text": [
            "47606\n"
          ],
          "name": "stdout"
        },
        {
          "output_type": "display_data",
          "data": {
            "image/png": "[encoded data removed]",
            "text/plain": [
              "<Figure size 432x288 with 1 Axes>"
            ]
          },
          "metadata": {
            "tags": []
          }
        }
      ]
    },
    {
      "cell_type": "code",
      "metadata": {
        "id": "LzhD5pcukau7",
        "colab": {
          "base_uri": "https://localhost:8080/",
          "height": 325
        },
        "outputId": "5f5a3854-b688-4d86-bd1a-f02b3fe4fb40"
      },
      "source": [
        "# 대표 그림 출력\n",
        "fig = plt.figure(figsize=(10,6))\n",
        "num0_9 = np.unique(y_train0, return_index=True)[1]\n",
        "images = X_train[num0_9]\n",
        "for i in range(10):\n",
        "    plt.subplot(2, 5, i+1)\n",
        "    # num0_9 = X_train0[y_train0 == i]\n",
        "    \n",
        "    # print(num0_9.shape)\n",
        "    # plt.imshow(num0_9[0]) \n",
        "    plt.imshow(images[i])\n",
        "    plt.title(\"Class %d\" % (i))\n",
        "    plt.xticks([])\n",
        "    plt.yticks([])"
      ],
      "execution_count": null,
      "outputs": [
        {
          "output_type": "display_data",
          "data": {
            "image/png": "[encoded data removed]",
            "text/plain": [
              "<Figure size 720x432 with 10 Axes>"
            ]
          },
          "metadata": {
            "tags": []
          }
        }
      ]
    },
    {
      "cell_type": "markdown",
      "metadata": {
        "id": "55DYVfFXi0WR"
      },
      "source": [
        "# Design CNN"
      ]
    },
    {
      "cell_type": "markdown",
      "metadata": {
        "id": "iPcLIcUCcsiG"
      },
      "source": [
        "### import models, layers, callbacks\n",
        "- models: Sequential\n",
        "- layers: Conv2D, MaxPool2D, Flatten\n",
        "- callbacks: ModelCheckpoint, EarlyStopping"
      ]
    },
    {
      "cell_type": "code",
      "metadata": {
        "id": "NzqMC4Xtc3ZE"
      },
      "source": [
        "from keras.models import Sequential\n",
        "from keras.layers import Conv2D, MaxPool2D, Flatten\n",
        "from keras.callbacks import ModelCheckpoint, EarlyStopping"
      ],
      "execution_count": null,
      "outputs": []
    },
    {
      "cell_type": "markdown",
      "metadata": {
        "id": "7Z6DJJUCei-s"
      },
      "source": [
        "## **CNN2 + FCN2**"
      ]
    },
    {
      "cell_type": "code",
      "metadata": {
        "id": "pV3NFglM7P65"
      },
      "source": [
        "c2f2 = keras.models.Sequential([ \n",
        "    Conv2D(input_shape=(32,32,3),kernel_size=(3,3),strides=(1,1),filters= 32,padding='same',activation='relu'),\n",
        "    MaxPool2D(pool_size=(2,2), strides=(2,2)), \n",
        "    Conv2D(kernel_size=(3,3),strides=(1,1),filters= 64,padding='same',activation='relu'),\n",
        "    MaxPool2D(pool_size=(2,2), strides=(2,2)),\n",
        "    Flatten(), \n",
        "    keras.layers.Dense(128, activation='relu'),  \n",
        "    keras.layers.Dropout(0.25), \n",
        "    keras.layers.Dense(10, activation='softmax')\n",
        "])\n",
        "\n",
        "c2f2.compile(optimizer='adam',\n",
        "              loss='categorical_crossentropy',\n",
        "              metrics=['accuracy']) "
      ],
      "execution_count": null,
      "outputs": []
    },
    {
      "cell_type": "code",
      "metadata": {
        "id": "OGtCiKy57YkR",
        "colab": {
          "base_uri": "https://localhost:8080/"
        },
        "outputId": "8217c771-7d5c-4373-8cf6-697f43dd2af7"
      },
      "source": [
        "c2f2.summary()"
      ],
      "execution_count": null,
      "outputs": [
        {
          "output_type": "stream",
          "text": [
            "Model: \"sequential\"\n",
            "_________________________________________________________________\n",
            "Layer (type)                 Output Shape              Param #   \n",
            "=================================================================\n",
            "conv2d (Conv2D)              (None, 32, 32, 32)        896       \n",
            "_________________________________________________________________\n",
            "max_pooling2d (MaxPooling2D) (None, 16, 16, 32)        0         \n",
            "_________________________________________________________________\n",
            "conv2d_1 (Conv2D)            (None, 16, 16, 64)        18496     \n",
            "_________________________________________________________________\n",
            "max_pooling2d_1 (MaxPooling2 (None, 8, 8, 64)          0         \n",
            "_________________________________________________________________\n",
            "flatten (Flatten)            (None, 4096)              0         \n",
            "_________________________________________________________________\n",
            "dense (Dense)                (None, 128)               524416    \n",
            "_________________________________________________________________\n",
            "dropout (Dropout)            (None, 128)               0         \n",
            "_________________________________________________________________\n",
            "dense_1 (Dense)              (None, 10)                1290      \n",
            "=================================================================\n",
            "Total params: 545,098\n",
            "Trainable params: 545,098\n",
            "Non-trainable params: 0\n",
            "_________________________________________________________________\n"
          ],
          "name": "stdout"
        }
      ]
    },
    {
      "cell_type": "code",
      "metadata": {
        "id": "zw_pQPBdJmU8"
      },
      "source": [
        "cp_callback = callbacks.ModelCheckpoint(filepath=\"./cifar10_c2f2_best_weights.{epoch:03d}-{val_accuracy:.4f}.hdf5\", \n",
        "                              monitor='val_accuracy', verbose=0, save_best_only=True)\n",
        "es_callback = callbacks.EarlyStopping(monitor='val_accuracy', \n",
        "                            mode='max', verbose=1, patience=25)    # patience=10, 25, 50"
      ],
      "execution_count": null,
      "outputs": []
    },
    {
      "cell_type": "code",
      "metadata": {
        "id": "94GWWQt-7eRS",
        "colab": {
          "base_uri": "https://localhost:8080/"
        },
        "outputId": "d638eb68-3105-4b78-b6d5-65053dc62c90"
      },
      "source": [
        "hist = c2f2.fit(X_train, y_train, epochs = 500 , batch_size =32, \n",
        "         callbacks=[cp_callback, es_callback], \n",
        "         validation_data=(X_test,y_test))"
      ],
      "execution_count": null,
      "outputs": [
        {
          "output_type": "stream",
          "text": [
            "Epoch 1/500\n",
            "1563/1563 [==============================] - 6s 4ms/step - loss: 1.5062 - accuracy: 0.4558 - val_loss: 1.2203 - val_accuracy: 0.5683\n",
            "Epoch 2/500\n",
            "1563/1563 [==============================] - 6s 4ms/step - loss: 1.1760 - accuracy: 0.5835 - val_loss: 1.0462 - val_accuracy: 0.6287\n",
            "Epoch 3/500\n",
            "1563/1563 [==============================] - 6s 4ms/step - loss: 1.0479 - accuracy: 0.6298 - val_loss: 0.9851 - val_accuracy: 0.6490\n",
            "Epoch 4/500\n",
            "1563/1563 [==============================] - 6s 4ms/step - loss: 0.9590 - accuracy: 0.6628 - val_loss: 0.9643 - val_accuracy: 0.6604\n",
            "Epoch 5/500\n",
            "1563/1563 [==============================] - 6s 4ms/step - loss: 0.8958 - accuracy: 0.6829 - val_loss: 0.8918 - val_accuracy: 0.6850\n",
            "Epoch 6/500\n",
            "1563/1563 [==============================] - 6s 4ms/step - loss: 0.8383 - accuracy: 0.7022 - val_loss: 0.8575 - val_accuracy: 0.7030\n",
            "Epoch 7/500\n",
            "1563/1563 [==============================] - 6s 4ms/step - loss: 0.7870 - accuracy: 0.7223 - val_loss: 0.8893 - val_accuracy: 0.6947\n",
            "Epoch 8/500\n",
            "1563/1563 [==============================] - 6s 4ms/step - loss: 0.7330 - accuracy: 0.7369 - val_loss: 0.8695 - val_accuracy: 0.7015\n",
            "Epoch 9/500\n",
            "1563/1563 [==============================] - 6s 4ms/step - loss: 0.6953 - accuracy: 0.7524 - val_loss: 0.8794 - val_accuracy: 0.7001\n",
            "Epoch 10/500\n",
            "1563/1563 [==============================] - 6s 4ms/step - loss: 0.6518 - accuracy: 0.7662 - val_loss: 0.8827 - val_accuracy: 0.7055\n",
            "Epoch 11/500\n",
            "1563/1563 [==============================] - 5s 3ms/step - loss: 0.6105 - accuracy: 0.7776 - val_loss: 0.9369 - val_accuracy: 0.6963\n",
            "Epoch 12/500\n",
            "1563/1563 [==============================] - 6s 4ms/step - loss: 0.5739 - accuracy: 0.7911 - val_loss: 0.9181 - val_accuracy: 0.7052\n",
            "Epoch 13/500\n",
            "1563/1563 [==============================] - 6s 4ms/step - loss: 0.5490 - accuracy: 0.8010 - val_loss: 0.9156 - val_accuracy: 0.7142\n",
            "Epoch 14/500\n",
            "1563/1563 [==============================] - 6s 4ms/step - loss: 0.5113 - accuracy: 0.8157 - val_loss: 0.9438 - val_accuracy: 0.7062\n",
            "Epoch 15/500\n",
            "1563/1563 [==============================] - 6s 4ms/step - loss: 0.4805 - accuracy: 0.8257 - val_loss: 1.0484 - val_accuracy: 0.6936\n",
            "Epoch 16/500\n",
            "1563/1563 [==============================] - 6s 4ms/step - loss: 0.4511 - accuracy: 0.8329 - val_loss: 1.0332 - val_accuracy: 0.7056\n",
            "Epoch 17/500\n",
            "1563/1563 [==============================] - 6s 4ms/step - loss: 0.4288 - accuracy: 0.8434 - val_loss: 1.0887 - val_accuracy: 0.7032\n",
            "Epoch 18/500\n",
            "1563/1563 [==============================] - 6s 4ms/step - loss: 0.4020 - accuracy: 0.8520 - val_loss: 1.0949 - val_accuracy: 0.7007\n",
            "Epoch 19/500\n",
            "1563/1563 [==============================] - 6s 4ms/step - loss: 0.3829 - accuracy: 0.8601 - val_loss: 1.0718 - val_accuracy: 0.6980\n",
            "Epoch 20/500\n",
            "1563/1563 [==============================] - 6s 4ms/step - loss: 0.3706 - accuracy: 0.8642 - val_loss: 1.1448 - val_accuracy: 0.6995\n",
            "Epoch 21/500\n",
            "1563/1563 [==============================] - 6s 4ms/step - loss: 0.3486 - accuracy: 0.8722 - val_loss: 1.1672 - val_accuracy: 0.7047\n",
            "Epoch 22/500\n",
            "1563/1563 [==============================] - 5s 4ms/step - loss: 0.3329 - accuracy: 0.8775 - val_loss: 1.2341 - val_accuracy: 0.7039\n",
            "Epoch 23/500\n",
            "1563/1563 [==============================] - 6s 4ms/step - loss: 0.3190 - accuracy: 0.8850 - val_loss: 1.2738 - val_accuracy: 0.7067\n",
            "Epoch 24/500\n",
            "1563/1563 [==============================] - 6s 4ms/step - loss: 0.3095 - accuracy: 0.8863 - val_loss: 1.3183 - val_accuracy: 0.7034\n",
            "Epoch 25/500\n",
            "1563/1563 [==============================] - 6s 4ms/step - loss: 0.3016 - accuracy: 0.8899 - val_loss: 1.3784 - val_accuracy: 0.6944\n",
            "Epoch 26/500\n",
            "1563/1563 [==============================] - 5s 3ms/step - loss: 0.2828 - accuracy: 0.8947 - val_loss: 1.3399 - val_accuracy: 0.7033\n",
            "Epoch 27/500\n",
            "1563/1563 [==============================] - 6s 4ms/step - loss: 0.2885 - accuracy: 0.8941 - val_loss: 1.3523 - val_accuracy: 0.7007\n",
            "Epoch 28/500\n",
            "1563/1563 [==============================] - 6s 4ms/step - loss: 0.2754 - accuracy: 0.9013 - val_loss: 1.3797 - val_accuracy: 0.7003\n",
            "Epoch 29/500\n",
            "1563/1563 [==============================] - 6s 4ms/step - loss: 0.2669 - accuracy: 0.9018 - val_loss: 1.3886 - val_accuracy: 0.6990\n",
            "Epoch 30/500\n",
            "1563/1563 [==============================] - 6s 4ms/step - loss: 0.2551 - accuracy: 0.9070 - val_loss: 1.4517 - val_accuracy: 0.7016\n",
            "Epoch 31/500\n",
            "1563/1563 [==============================] - 6s 4ms/step - loss: 0.2462 - accuracy: 0.9102 - val_loss: 1.4099 - val_accuracy: 0.6976\n",
            "Epoch 32/500\n",
            "1563/1563 [==============================] - 5s 3ms/step - loss: 0.2468 - accuracy: 0.9089 - val_loss: 1.5104 - val_accuracy: 0.7004\n",
            "Epoch 33/500\n",
            "1563/1563 [==============================] - 6s 4ms/step - loss: 0.2398 - accuracy: 0.9119 - val_loss: 1.5484 - val_accuracy: 0.6937\n",
            "Epoch 34/500\n",
            "1563/1563 [==============================] - 6s 4ms/step - loss: 0.2299 - accuracy: 0.9155 - val_loss: 1.6046 - val_accuracy: 0.7019\n",
            "Epoch 35/500\n",
            "1563/1563 [==============================] - 6s 4ms/step - loss: 0.2296 - accuracy: 0.9154 - val_loss: 1.5568 - val_accuracy: 0.7039\n",
            "Epoch 36/500\n",
            "1563/1563 [==============================] - 6s 4ms/step - loss: 0.2200 - accuracy: 0.9185 - val_loss: 1.7043 - val_accuracy: 0.6987\n",
            "Epoch 37/500\n",
            "1563/1563 [==============================] - 6s 4ms/step - loss: 0.2207 - accuracy: 0.9201 - val_loss: 1.6539 - val_accuracy: 0.6963\n",
            "Epoch 38/500\n",
            "1563/1563 [==============================] - 6s 4ms/step - loss: 0.2160 - accuracy: 0.9219 - val_loss: 1.7374 - val_accuracy: 0.6927\n",
            "Epoch 00038: early stopping\n"
          ],
          "name": "stdout"
        }
      ]
    },
    {
      "cell_type": "code",
      "metadata": {
        "id": "0-7is2U49A6Z",
        "colab": {
          "base_uri": "https://localhost:8080/"
        },
        "outputId": "9fcf9f5f-fad4-4e1f-ff7e-4a60de26581c"
      },
      "source": [
        "c2f2.evaluate(X_test, y_test, batch_size =32)"
      ],
      "execution_count": null,
      "outputs": [
        {
          "output_type": "stream",
          "text": [
            "313/313 [==============================] - 1s 3ms/step - loss: 1.7374 - accuracy: 0.6927\n"
          ],
          "name": "stdout"
        },
        {
          "output_type": "execute_result",
          "data": {
            "text/plain": [
              "[1.7374378442764282, 0.6927000284194946]"
            ]
          },
          "metadata": {
            "tags": []
          },
          "execution_count": 16
        }
      ]
    },
    {
      "cell_type": "markdown",
      "metadata": {
        "id": "SUJxRQtafihM"
      },
      "source": [
        "## **CNN2 + FCN3**"
      ]
    },
    {
      "cell_type": "code",
      "metadata": {
        "id": "Nl5CyAymAB34"
      },
      "source": [
        "c2f3 = keras.models.Sequential([ \n",
        "    Conv2D(input_shape=(32,32,3),kernel_size=(3,3),strides=(1,1),filters= 32,padding='same',activation='relu'),\n",
        "    MaxPool2D(pool_size=(2,2), strides=(2,2)), \n",
        "    Conv2D(kernel_size=(3,3),strides=(1,1),filters= 64,padding='same',activation='relu'),\n",
        "    MaxPool2D(pool_size=(2,2), strides=(2,2)),\n",
        "    Flatten(), \n",
        "    keras.layers.Dense(128, activation='relu'),  \n",
        "    keras.layers.Dropout(0.25), \n",
        "    keras.layers.Dense(64, activation='relu'),  \n",
        "    keras.layers.Dropout(0.25), \n",
        "    keras.layers.Dense(10, activation='softmax')\n",
        "])\n",
        "\n",
        "c2f3.compile(optimizer='adam',\n",
        "              loss='categorical_crossentropy',\n",
        "              metrics=['accuracy']) "
      ],
      "execution_count": null,
      "outputs": []
    },
    {
      "cell_type": "code",
      "metadata": {
        "id": "gYxuGW_2ANL8",
        "colab": {
          "base_uri": "https://localhost:8080/"
        },
        "outputId": "9dccd668-d66c-4e20-fecb-84ba452f5a6c"
      },
      "source": [
        "c2f3.summary()"
      ],
      "execution_count": null,
      "outputs": [
        {
          "output_type": "stream",
          "text": [
            "Model: \"sequential_1\"\n",
            "_________________________________________________________________\n",
            "Layer (type)                 Output Shape              Param #   \n",
            "=================================================================\n",
            "conv2d_2 (Conv2D)            (None, 32, 32, 32)        896       \n",
            "_________________________________________________________________\n",
            "max_pooling2d_2 (MaxPooling2 (None, 16, 16, 32)        0         \n",
            "_________________________________________________________________\n",
            "conv2d_3 (Conv2D)            (None, 16, 16, 64)        18496     \n",
            "_________________________________________________________________\n",
            "max_pooling2d_3 (MaxPooling2 (None, 8, 8, 64)          0         \n",
            "_________________________________________________________________\n",
            "flatten_1 (Flatten)          (None, 4096)              0         \n",
            "_________________________________________________________________\n",
            "dense_2 (Dense)              (None, 128)               524416    \n",
            "_________________________________________________________________\n",
            "dropout_1 (Dropout)          (None, 128)               0         \n",
            "_________________________________________________________________\n",
            "dense_3 (Dense)              (None, 64)                8256      \n",
            "_________________________________________________________________\n",
            "dropout_2 (Dropout)          (None, 64)                0         \n",
            "_________________________________________________________________\n",
            "dense_4 (Dense)              (None, 10)                650       \n",
            "=================================================================\n",
            "Total params: 552,714\n",
            "Trainable params: 552,714\n",
            "Non-trainable params: 0\n",
            "_________________________________________________________________\n"
          ],
          "name": "stdout"
        }
      ]
    },
    {
      "cell_type": "code",
      "metadata": {
        "id": "KMsTuhO2x61z"
      },
      "source": [
        "cp_callback = callbacks.ModelCheckpoint(filepath=\"./cifar10_c2f3_best_weights.{epoch:03d}-{val_accuracy:.4f}.hdf5\", \n",
        "                              monitor='val_accuracy', verbose=0, save_best_only=True)\n",
        "es_callback = callbacks.EarlyStopping(monitor='val_accuracy', \n",
        "                            mode='max', verbose=1, patience=25)    # patience=10, 25, 50"
      ],
      "execution_count": null,
      "outputs": []
    },
    {
      "cell_type": "code",
      "metadata": {
        "id": "lO1of4AOAQlV",
        "colab": {
          "base_uri": "https://localhost:8080/"
        },
        "outputId": "c225cce2-f3c2-4de4-f268-0252e68bc35a"
      },
      "source": [
        "c2f3.fit(X_train, y_train, epochs=500, batch_size =32, \n",
        "         callbacks=[cp_callback, es_callback], \n",
        "         validation_data=(X_test,y_test))"
      ],
      "execution_count": null,
      "outputs": [
        {
          "output_type": "stream",
          "text": [
            "Epoch 1/500\n",
            "1563/1563 [==============================] - 6s 4ms/step - loss: 1.5710 - accuracy: 0.4281 - val_loss: 1.2091 - val_accuracy: 0.5667\n",
            "Epoch 2/500\n",
            "1563/1563 [==============================] - 6s 4ms/step - loss: 1.2057 - accuracy: 0.5766 - val_loss: 1.0509 - val_accuracy: 0.6331\n",
            "Epoch 3/500\n",
            "1563/1563 [==============================] - 6s 4ms/step - loss: 1.0644 - accuracy: 0.6291 - val_loss: 0.9589 - val_accuracy: 0.6654\n",
            "Epoch 4/500\n",
            "1563/1563 [==============================] - 6s 4ms/step - loss: 0.9728 - accuracy: 0.6632 - val_loss: 0.9513 - val_accuracy: 0.6708\n",
            "Epoch 5/500\n",
            "1563/1563 [==============================] - 6s 4ms/step - loss: 0.8961 - accuracy: 0.6871 - val_loss: 0.9144 - val_accuracy: 0.6865\n",
            "Epoch 6/500\n",
            "1563/1563 [==============================] - 6s 4ms/step - loss: 0.8335 - accuracy: 0.7102 - val_loss: 0.8785 - val_accuracy: 0.6937\n",
            "Epoch 7/500\n",
            "1563/1563 [==============================] - 6s 4ms/step - loss: 0.7861 - accuracy: 0.7269 - val_loss: 0.8692 - val_accuracy: 0.7022\n",
            "Epoch 8/500\n",
            "1563/1563 [==============================] - 6s 4ms/step - loss: 0.7458 - accuracy: 0.7398 - val_loss: 0.8591 - val_accuracy: 0.7084\n",
            "Epoch 9/500\n",
            "1563/1563 [==============================] - 6s 4ms/step - loss: 0.6977 - accuracy: 0.7572 - val_loss: 0.8740 - val_accuracy: 0.7102\n",
            "Epoch 10/500\n",
            "1563/1563 [==============================] - 6s 4ms/step - loss: 0.6626 - accuracy: 0.7674 - val_loss: 0.8781 - val_accuracy: 0.7074\n",
            "Epoch 11/500\n",
            "1563/1563 [==============================] - 7s 4ms/step - loss: 0.6310 - accuracy: 0.7786 - val_loss: 0.8659 - val_accuracy: 0.7125\n",
            "Epoch 12/500\n",
            "1563/1563 [==============================] - 6s 4ms/step - loss: 0.5981 - accuracy: 0.7906 - val_loss: 0.9023 - val_accuracy: 0.7078\n",
            "Epoch 13/500\n",
            "1563/1563 [==============================] - 6s 4ms/step - loss: 0.5716 - accuracy: 0.7995 - val_loss: 0.9110 - val_accuracy: 0.7110\n",
            "Epoch 14/500\n",
            "1563/1563 [==============================] - 6s 4ms/step - loss: 0.5462 - accuracy: 0.8071 - val_loss: 0.9279 - val_accuracy: 0.7117\n",
            "Epoch 15/500\n",
            "1563/1563 [==============================] - 6s 4ms/step - loss: 0.5300 - accuracy: 0.8133 - val_loss: 0.9477 - val_accuracy: 0.7063\n",
            "Epoch 16/500\n",
            "1563/1563 [==============================] - 6s 4ms/step - loss: 0.4977 - accuracy: 0.8243 - val_loss: 0.9845 - val_accuracy: 0.7028\n",
            "Epoch 17/500\n",
            "1563/1563 [==============================] - 6s 4ms/step - loss: 0.4824 - accuracy: 0.8300 - val_loss: 0.9835 - val_accuracy: 0.7025\n",
            "Epoch 18/500\n",
            "1563/1563 [==============================] - 6s 4ms/step - loss: 0.4629 - accuracy: 0.8360 - val_loss: 0.9903 - val_accuracy: 0.7124\n",
            "Epoch 19/500\n",
            "1563/1563 [==============================] - 6s 4ms/step - loss: 0.4419 - accuracy: 0.8416 - val_loss: 1.0582 - val_accuracy: 0.6998\n",
            "Epoch 20/500\n",
            "1563/1563 [==============================] - 6s 4ms/step - loss: 0.4256 - accuracy: 0.8499 - val_loss: 1.0269 - val_accuracy: 0.7008\n",
            "Epoch 21/500\n",
            "1563/1563 [==============================] - 6s 4ms/step - loss: 0.4165 - accuracy: 0.8529 - val_loss: 1.0236 - val_accuracy: 0.7141\n",
            "Epoch 22/500\n",
            "1563/1563 [==============================] - 6s 4ms/step - loss: 0.4025 - accuracy: 0.8581 - val_loss: 1.1601 - val_accuracy: 0.7085\n",
            "Epoch 23/500\n",
            "1563/1563 [==============================] - 6s 4ms/step - loss: 0.3863 - accuracy: 0.8626 - val_loss: 1.1270 - val_accuracy: 0.7060\n",
            "Epoch 24/500\n",
            "1563/1563 [==============================] - 6s 4ms/step - loss: 0.3788 - accuracy: 0.8652 - val_loss: 1.1214 - val_accuracy: 0.7068\n",
            "Epoch 25/500\n",
            "1563/1563 [==============================] - 6s 4ms/step - loss: 0.3599 - accuracy: 0.8723 - val_loss: 1.2390 - val_accuracy: 0.6956\n",
            "Epoch 26/500\n",
            "1563/1563 [==============================] - 6s 4ms/step - loss: 0.3537 - accuracy: 0.8751 - val_loss: 1.2362 - val_accuracy: 0.6985\n",
            "Epoch 27/500\n",
            "1563/1563 [==============================] - 6s 4ms/step - loss: 0.3465 - accuracy: 0.8773 - val_loss: 1.2079 - val_accuracy: 0.7068\n",
            "Epoch 28/500\n",
            "1563/1563 [==============================] - 6s 4ms/step - loss: 0.3335 - accuracy: 0.8816 - val_loss: 1.2159 - val_accuracy: 0.7048\n",
            "Epoch 29/500\n",
            "1563/1563 [==============================] - 6s 4ms/step - loss: 0.3246 - accuracy: 0.8852 - val_loss: 1.2587 - val_accuracy: 0.7011\n",
            "Epoch 30/500\n",
            "1563/1563 [==============================] - 6s 4ms/step - loss: 0.3224 - accuracy: 0.8864 - val_loss: 1.3028 - val_accuracy: 0.7021\n",
            "Epoch 31/500\n",
            "1563/1563 [==============================] - 6s 4ms/step - loss: 0.3136 - accuracy: 0.8902 - val_loss: 1.3368 - val_accuracy: 0.6982\n",
            "Epoch 32/500\n",
            "1563/1563 [==============================] - 6s 4ms/step - loss: 0.3058 - accuracy: 0.8898 - val_loss: 1.3163 - val_accuracy: 0.7034\n",
            "Epoch 33/500\n",
            "1563/1563 [==============================] - 6s 4ms/step - loss: 0.2982 - accuracy: 0.8960 - val_loss: 1.3159 - val_accuracy: 0.7018\n",
            "Epoch 34/500\n",
            "1563/1563 [==============================] - 6s 4ms/step - loss: 0.2942 - accuracy: 0.8968 - val_loss: 1.3345 - val_accuracy: 0.7127\n",
            "Epoch 35/500\n",
            "1563/1563 [==============================] - 6s 4ms/step - loss: 0.2881 - accuracy: 0.8996 - val_loss: 1.3673 - val_accuracy: 0.7046\n",
            "Epoch 36/500\n",
            "1563/1563 [==============================] - 6s 4ms/step - loss: 0.2873 - accuracy: 0.8984 - val_loss: 1.4190 - val_accuracy: 0.7039\n",
            "Epoch 37/500\n",
            "1563/1563 [==============================] - 6s 4ms/step - loss: 0.2824 - accuracy: 0.9015 - val_loss: 1.3947 - val_accuracy: 0.7038\n",
            "Epoch 38/500\n",
            "1563/1563 [==============================] - 6s 4ms/step - loss: 0.2754 - accuracy: 0.9028 - val_loss: 1.4288 - val_accuracy: 0.6961\n",
            "Epoch 39/500\n",
            "1563/1563 [==============================] - 6s 4ms/step - loss: 0.2675 - accuracy: 0.9055 - val_loss: 1.4530 - val_accuracy: 0.6987\n",
            "Epoch 40/500\n",
            "1563/1563 [==============================] - 6s 4ms/step - loss: 0.2650 - accuracy: 0.9078 - val_loss: 1.4805 - val_accuracy: 0.7032\n",
            "Epoch 41/500\n",
            "1563/1563 [==============================] - 6s 4ms/step - loss: 0.2626 - accuracy: 0.9091 - val_loss: 1.4074 - val_accuracy: 0.7019\n",
            "Epoch 42/500\n",
            "1563/1563 [==============================] - 6s 4ms/step - loss: 0.2500 - accuracy: 0.9131 - val_loss: 1.4786 - val_accuracy: 0.7003\n",
            "Epoch 43/500\n",
            "1563/1563 [==============================] - 6s 4ms/step - loss: 0.2487 - accuracy: 0.9120 - val_loss: 1.5101 - val_accuracy: 0.6973\n",
            "Epoch 44/500\n",
            "1563/1563 [==============================] - 6s 4ms/step - loss: 0.2493 - accuracy: 0.9129 - val_loss: 1.5668 - val_accuracy: 0.7011\n",
            "Epoch 45/500\n",
            "1563/1563 [==============================] - 6s 4ms/step - loss: 0.2530 - accuracy: 0.9121 - val_loss: 1.5145 - val_accuracy: 0.6944\n",
            "Epoch 46/500\n",
            "1563/1563 [==============================] - 6s 4ms/step - loss: 0.2403 - accuracy: 0.9160 - val_loss: 1.5371 - val_accuracy: 0.6992\n",
            "Epoch 00046: early stopping\n"
          ],
          "name": "stdout"
        },
        {
          "output_type": "execute_result",
          "data": {
            "text/plain": [
              "<tensorflow.python.keras.callbacks.History at 0x7f92e83b7630>"
            ]
          },
          "metadata": {
            "tags": []
          },
          "execution_count": 20
        }
      ]
    },
    {
      "cell_type": "code",
      "metadata": {
        "id": "W-eIxCasDBil",
        "colab": {
          "base_uri": "https://localhost:8080/"
        },
        "outputId": "7c2f43ca-d51e-4fe8-f4e3-ecc0ff84c479"
      },
      "source": [
        " c2f3.evaluate(X_test, y_test, batch_size = 32)"
      ],
      "execution_count": null,
      "outputs": [
        {
          "output_type": "stream",
          "text": [
            "313/313 [==============================] - 1s 3ms/step - loss: 1.5371 - accuracy: 0.6992\n"
          ],
          "name": "stdout"
        },
        {
          "output_type": "execute_result",
          "data": {
            "text/plain": [
              "[1.5371333360671997, 0.6991999745368958]"
            ]
          },
          "metadata": {
            "tags": []
          },
          "execution_count": 21
        }
      ]
    },
    {
      "cell_type": "markdown",
      "metadata": {
        "id": "5XYSVtC-DVsz"
      },
      "source": [
        "# **[DIY] Hidden layer에 따른 정확도**"
      ]
    },
    {
      "cell_type": "code",
      "metadata": {
        "id": "OiCc_UO2rGmp",
        "colab": {
          "base_uri": "https://localhost:8080/"
        },
        "outputId": "b060f43d-23d4-4236-8d15-32716d1dbab7"
      },
      "source": [
        "score1=c2f2.evaluate(X_test, y_test, batch_size = 32)\n",
        "score2=c2f3.evaluate(X_test, y_test, batch_size = 32)\n",
        "losses = [score1[0],score2[0]]\n",
        "accuracies= [score1[1],score2[1]]\n",
        "losses,accuracies"
      ],
      "execution_count": null,
      "outputs": [
        {
          "output_type": "stream",
          "text": [
            "313/313 [==============================] - 1s 2ms/step - loss: 1.7374 - accuracy: 0.6927\n",
            "313/313 [==============================] - 1s 3ms/step - loss: 1.5371 - accuracy: 0.6992\n"
          ],
          "name": "stdout"
        },
        {
          "output_type": "execute_result",
          "data": {
            "text/plain": [
              "([1.7374378442764282, 1.5371333360671997],\n",
              " [0.6927000284194946, 0.6991999745368958])"
            ]
          },
          "metadata": {
            "tags": []
          },
          "execution_count": 22
        }
      ]
    },
    {
      "cell_type": "code",
      "metadata": {
        "id": "vZv6a2aVRw9j",
        "colab": {
          "base_uri": "https://localhost:8080/",
          "height": 269
        },
        "outputId": "394a7fcd-cfd8-4432-adef-2d3cd80db77e"
      },
      "source": [
        "x = np.arange(2)\n",
        "cnns = ['C2F2','C2F3']\n",
        "\n",
        "plt.bar(x, accuracies)\n",
        "plt.xticks(x, cnns)\n",
        "plt.ylim((.5,1.0))\n",
        "plt.show()"
      ],
      "execution_count": null,
      "outputs": [
        {
          "output_type": "display_data",
          "data": {
            "image/png": "[encoded data removed]",
            "text/plain": [
              "<Figure size 432x288 with 1 Axes>"
            ]
          },
          "metadata": {
            "tags": [],
            "needs_background": "light"
          }
        }
      ]
    },
    {
      "cell_type": "markdown",
      "metadata": {
        "id": "63oPbpPejqOj"
      },
      "source": [
        "## Complex model\n",
        "- C4F5 model\n",
        "\n",
        "![cnn_c4f5.png](https://raw.githubusercontent.com/Redwoods/Py/master//pdm2020/my-note/py-tensorflow/images/cnn_c4f5.png)"
      ]
    },
    {
      "cell_type": "code",
      "metadata": {
        "id": "kSN8pq8DkQ6B"
      },
      "source": [
        "c4f5 = keras.models.Sequential([ \n",
        "    Conv2D(input_shape=(32,32,3),kernel_size=(3,3),strides=(1,1),filters= 64,padding='same',activation='relu'),\n",
        "    MaxPool2D(pool_size=(2,2), strides=(2,2)), \n",
        "    Conv2D(kernel_size=(3,3),strides=(1,1),filters= 128,padding='same',activation='relu'),\n",
        "    MaxPool2D(pool_size=(2,2), strides=(2,2)),\n",
        "    Conv2D(kernel_size=(3,3),strides=(1,1),filters= 256,padding='same',activation='relu'),\n",
        "    MaxPool2D(pool_size=(2,2), strides=(2,2)),\n",
        "    Conv2D(kernel_size=(3,3),strides=(1,1),filters= 512,padding='same',activation='relu'),\n",
        "    MaxPool2D(pool_size=(2,2), strides=(2,2)),\n",
        "    Flatten(), \n",
        "    keras.layers.Dense(128, activation='relu'),  \n",
        "    keras.layers.Dropout(0.25), \n",
        "    keras.layers.Dense(256, activation='relu'),  \n",
        "    keras.layers.Dropout(0.25), \n",
        "    keras.layers.Dense(512, activation='relu'),  \n",
        "    keras.layers.Dropout(0.25), \n",
        "    keras.layers.Dense(1024, activation='relu'),  \n",
        "    keras.layers.Dropout(0.25), \n",
        "    keras.layers.Dense(10, activation='softmax')\n",
        "])\n",
        "\n",
        "c4f5.compile(optimizer='adam',\n",
        "              loss='categorical_crossentropy',\n",
        "              metrics=['accuracy']) "
      ],
      "execution_count": null,
      "outputs": []
    },
    {
      "cell_type": "code",
      "metadata": {
        "colab": {
          "base_uri": "https://localhost:8080/"
        },
        "id": "k7qWzpLRkQ6C",
        "outputId": "3511be5a-0634-4f0c-e42c-8ce0ac1b5bbb"
      },
      "source": [
        "c4f5.summary()"
      ],
      "execution_count": null,
      "outputs": [
        {
          "output_type": "stream",
          "text": [
            "Model: \"sequential_2\"\n",
            "_________________________________________________________________\n",
            "Layer (type)                 Output Shape              Param #   \n",
            "=================================================================\n",
            "conv2d_4 (Conv2D)            (None, 32, 32, 64)        1792      \n",
            "_________________________________________________________________\n",
            "max_pooling2d_4 (MaxPooling2 (None, 16, 16, 64)        0         \n",
            "_________________________________________________________________\n",
            "conv2d_5 (Conv2D)            (None, 16, 16, 128)       73856     \n",
            "_________________________________________________________________\n",
            "max_pooling2d_5 (MaxPooling2 (None, 8, 8, 128)         0         \n",
            "_________________________________________________________________\n",
            "conv2d_6 (Conv2D)            (None, 8, 8, 256)         295168    \n",
            "_________________________________________________________________\n",
            "max_pooling2d_6 (MaxPooling2 (None, 4, 4, 256)         0         \n",
            "_________________________________________________________________\n",
            "conv2d_7 (Conv2D)            (None, 4, 4, 512)         1180160   \n",
            "_________________________________________________________________\n",
            "max_pooling2d_7 (MaxPooling2 (None, 2, 2, 512)         0         \n",
            "_________________________________________________________________\n",
            "flatten_2 (Flatten)          (None, 2048)              0         \n",
            "_________________________________________________________________\n",
            "dense_5 (Dense)              (None, 128)               262272    \n",
            "_________________________________________________________________\n",
            "dropout_3 (Dropout)          (None, 128)               0         \n",
            "_________________________________________________________________\n",
            "dense_6 (Dense)              (None, 256)               33024     \n",
            "_________________________________________________________________\n",
            "dropout_4 (Dropout)          (None, 256)               0         \n",
            "_________________________________________________________________\n",
            "dense_7 (Dense)              (None, 512)               131584    \n",
            "_________________________________________________________________\n",
            "dropout_5 (Dropout)          (None, 512)               0         \n",
            "_________________________________________________________________\n",
            "dense_8 (Dense)              (None, 1024)              525312    \n",
            "_________________________________________________________________\n",
            "dropout_6 (Dropout)          (None, 1024)              0         \n",
            "_________________________________________________________________\n",
            "dense_9 (Dense)              (None, 10)                10250     \n",
            "=================================================================\n",
            "Total params: 2,513,418\n",
            "Trainable params: 2,513,418\n",
            "Non-trainable params: 0\n",
            "_________________________________________________________________\n"
          ],
          "name": "stdout"
        }
      ]
    },
    {
      "cell_type": "code",
      "metadata": {
        "id": "-pKJWy-2kQ6C"
      },
      "source": [
        "cp_callback = callbacks.ModelCheckpoint(filepath=\"./cifar10_c4f5_best_weights.{epoch:03d}-{val_accuracy:.4f}.hdf5\", \n",
        "                              monitor='val_accuracy', verbose=0, save_best_only=True)\n",
        "es_callback = callbacks.EarlyStopping(monitor='val_accuracy', \n",
        "                            mode='max', verbose=1, patience=25)    # patience=10, 25, 50"
      ],
      "execution_count": null,
      "outputs": []
    },
    {
      "cell_type": "code",
      "metadata": {
        "colab": {
          "base_uri": "https://localhost:8080/"
        },
        "id": "wKdgr9EskQ6C",
        "outputId": "0a11b46f-cde3-42e2-affc-96c4c5029655"
      },
      "source": [
        "c4f5.fit(X_train, y_train, epochs=500, batch_size =32, \n",
        "         callbacks=[cp_callback, es_callback], \n",
        "         validation_data=(X_test,y_test))"
      ],
      "execution_count": null,
      "outputs": [
        {
          "output_type": "stream",
          "text": [
            "Epoch 1/500\n",
            "1563/1563 [==============================] - 11s 7ms/step - loss: 1.6264 - accuracy: 0.3833 - val_loss: 1.2385 - val_accuracy: 0.5453\n",
            "Epoch 2/500\n",
            "1563/1563 [==============================] - 11s 7ms/step - loss: 1.1941 - accuracy: 0.5786 - val_loss: 1.0132 - val_accuracy: 0.6435\n",
            "Epoch 3/500\n",
            "1563/1563 [==============================] - 11s 7ms/step - loss: 0.9996 - accuracy: 0.6586 - val_loss: 0.9468 - val_accuracy: 0.6768\n",
            "Epoch 4/500\n",
            "1563/1563 [==============================] - 11s 7ms/step - loss: 0.8755 - accuracy: 0.7045 - val_loss: 0.9383 - val_accuracy: 0.6821\n",
            "Epoch 5/500\n",
            "1563/1563 [==============================] - 11s 7ms/step - loss: 0.7936 - accuracy: 0.7331 - val_loss: 0.9402 - val_accuracy: 0.6811\n",
            "Epoch 6/500\n",
            "1563/1563 [==============================] - 11s 7ms/step - loss: 0.7220 - accuracy: 0.7582 - val_loss: 0.8258 - val_accuracy: 0.7214\n",
            "Epoch 7/500\n",
            "1563/1563 [==============================] - 11s 7ms/step - loss: 0.6593 - accuracy: 0.7819 - val_loss: 0.9202 - val_accuracy: 0.7050\n",
            "Epoch 8/500\n",
            "1563/1563 [==============================] - 11s 7ms/step - loss: 0.6094 - accuracy: 0.8011 - val_loss: 0.8811 - val_accuracy: 0.7257\n",
            "Epoch 9/500\n",
            "1563/1563 [==============================] - 11s 7ms/step - loss: 0.5662 - accuracy: 0.8148 - val_loss: 0.9616 - val_accuracy: 0.7097\n",
            "Epoch 10/500\n",
            "1563/1563 [==============================] - 11s 7ms/step - loss: 0.5302 - accuracy: 0.8257 - val_loss: 0.8081 - val_accuracy: 0.7384\n",
            "Epoch 11/500\n",
            "1563/1563 [==============================] - 11s 7ms/step - loss: 0.4961 - accuracy: 0.8401 - val_loss: 0.8412 - val_accuracy: 0.7356\n",
            "Epoch 12/500\n",
            "1563/1563 [==============================] - 11s 7ms/step - loss: 0.4671 - accuracy: 0.8520 - val_loss: 0.8723 - val_accuracy: 0.7467\n",
            "Epoch 13/500\n",
            "1563/1563 [==============================] - 11s 7ms/step - loss: 0.4450 - accuracy: 0.8569 - val_loss: 0.8993 - val_accuracy: 0.7394\n",
            "Epoch 14/500\n",
            "1563/1563 [==============================] - 11s 7ms/step - loss: 0.4276 - accuracy: 0.8665 - val_loss: 0.8553 - val_accuracy: 0.7456\n",
            "Epoch 15/500\n",
            "1563/1563 [==============================] - 11s 7ms/step - loss: 0.3964 - accuracy: 0.8753 - val_loss: 0.8826 - val_accuracy: 0.7449\n",
            "Epoch 16/500\n",
            "1563/1563 [==============================] - 11s 7ms/step - loss: 0.3951 - accuracy: 0.8792 - val_loss: 0.8757 - val_accuracy: 0.7445\n",
            "Epoch 17/500\n",
            "1563/1563 [==============================] - 11s 7ms/step - loss: 0.3671 - accuracy: 0.8851 - val_loss: 0.8914 - val_accuracy: 0.7361\n",
            "Epoch 18/500\n",
            "1563/1563 [==============================] - 11s 7ms/step - loss: 0.3513 - accuracy: 0.8927 - val_loss: 0.9489 - val_accuracy: 0.7310\n",
            "Epoch 19/500\n",
            "1563/1563 [==============================] - 11s 7ms/step - loss: 0.3379 - accuracy: 0.8969 - val_loss: 0.9051 - val_accuracy: 0.7513\n",
            "Epoch 20/500\n",
            "1563/1563 [==============================] - 11s 7ms/step - loss: 0.3293 - accuracy: 0.9011 - val_loss: 0.9939 - val_accuracy: 0.7477\n",
            "Epoch 21/500\n",
            "1563/1563 [==============================] - 11s 7ms/step - loss: 0.3426 - accuracy: 0.8986 - val_loss: 0.9621 - val_accuracy: 0.7185\n",
            "Epoch 22/500\n",
            "1563/1563 [==============================] - 11s 7ms/step - loss: 0.3179 - accuracy: 0.9050 - val_loss: 1.0267 - val_accuracy: 0.7445\n",
            "Epoch 23/500\n",
            "1563/1563 [==============================] - 11s 7ms/step - loss: 0.3046 - accuracy: 0.9095 - val_loss: 1.0183 - val_accuracy: 0.7382\n",
            "Epoch 24/500\n",
            "1563/1563 [==============================] - 11s 7ms/step - loss: 0.3122 - accuracy: 0.9069 - val_loss: 0.9058 - val_accuracy: 0.7303\n",
            "Epoch 25/500\n",
            "1563/1563 [==============================] - 11s 7ms/step - loss: 0.3003 - accuracy: 0.9134 - val_loss: 0.9728 - val_accuracy: 0.7383\n",
            "Epoch 26/500\n",
            "1563/1563 [==============================] - 11s 7ms/step - loss: 0.2963 - accuracy: 0.9145 - val_loss: 1.0740 - val_accuracy: 0.7302\n",
            "Epoch 27/500\n",
            "1563/1563 [==============================] - 11s 7ms/step - loss: 0.2766 - accuracy: 0.9191 - val_loss: 1.0800 - val_accuracy: 0.7374\n",
            "Epoch 28/500\n",
            "1563/1563 [==============================] - 11s 7ms/step - loss: 0.2845 - accuracy: 0.9180 - val_loss: 1.0000 - val_accuracy: 0.7319\n",
            "Epoch 29/500\n",
            "1563/1563 [==============================] - 11s 7ms/step - loss: 0.2914 - accuracy: 0.9164 - val_loss: 1.0386 - val_accuracy: 0.7291\n",
            "Epoch 30/500\n",
            "1563/1563 [==============================] - 11s 7ms/step - loss: 0.2573 - accuracy: 0.9267 - val_loss: 1.0515 - val_accuracy: 0.7460\n",
            "Epoch 31/500\n",
            "1563/1563 [==============================] - 11s 7ms/step - loss: 0.2783 - accuracy: 0.9217 - val_loss: 1.0193 - val_accuracy: 0.7383\n",
            "Epoch 32/500\n",
            "1563/1563 [==============================] - 11s 7ms/step - loss: 0.2666 - accuracy: 0.9240 - val_loss: 1.1153 - val_accuracy: 0.7366\n",
            "Epoch 33/500\n",
            "1563/1563 [==============================] - 11s 7ms/step - loss: 0.3793 - accuracy: 0.8905 - val_loss: 1.0136 - val_accuracy: 0.7441\n",
            "Epoch 34/500\n",
            "1563/1563 [==============================] - 11s 7ms/step - loss: 0.2678 - accuracy: 0.9242 - val_loss: 1.1147 - val_accuracy: 0.7422\n",
            "Epoch 35/500\n",
            "1563/1563 [==============================] - 11s 7ms/step - loss: 0.2635 - accuracy: 0.9271 - val_loss: 1.0243 - val_accuracy: 0.7305\n",
            "Epoch 36/500\n",
            "1563/1563 [==============================] - 11s 7ms/step - loss: 0.2412 - accuracy: 0.9337 - val_loss: 1.0634 - val_accuracy: 0.7426\n",
            "Epoch 37/500\n",
            "1563/1563 [==============================] - 11s 7ms/step - loss: 0.2703 - accuracy: 0.9247 - val_loss: 1.0632 - val_accuracy: 0.7429\n",
            "Epoch 38/500\n",
            "1563/1563 [==============================] - 11s 7ms/step - loss: 0.2426 - accuracy: 0.9339 - val_loss: 1.0937 - val_accuracy: 0.7366\n",
            "Epoch 39/500\n",
            "1563/1563 [==============================] - 11s 7ms/step - loss: 0.2609 - accuracy: 0.9283 - val_loss: 1.1643 - val_accuracy: 0.7179\n",
            "Epoch 40/500\n",
            "1563/1563 [==============================] - 11s 7ms/step - loss: 0.2546 - accuracy: 0.9303 - val_loss: 0.9660 - val_accuracy: 0.7391\n",
            "Epoch 41/500\n",
            "1563/1563 [==============================] - 11s 7ms/step - loss: 0.2461 - accuracy: 0.9335 - val_loss: 1.0442 - val_accuracy: 0.7409\n",
            "Epoch 42/500\n",
            "1563/1563 [==============================] - 11s 7ms/step - loss: 0.2415 - accuracy: 0.9356 - val_loss: 1.1710 - val_accuracy: 0.7439\n",
            "Epoch 43/500\n",
            "1563/1563 [==============================] - 11s 7ms/step - loss: 0.2436 - accuracy: 0.9360 - val_loss: 1.1783 - val_accuracy: 0.7340\n",
            "Epoch 44/500\n",
            "1563/1563 [==============================] - 11s 7ms/step - loss: 0.2555 - accuracy: 0.9324 - val_loss: 1.0605 - val_accuracy: 0.7322\n",
            "Epoch 00044: early stopping\n"
          ],
          "name": "stdout"
        },
        {
          "output_type": "execute_result",
          "data": {
            "text/plain": [
              "<tensorflow.python.keras.callbacks.History at 0x7f92e8116d30>"
            ]
          },
          "metadata": {
            "tags": []
          },
          "execution_count": 27
        }
      ]
    },
    {
      "cell_type": "code",
      "metadata": {
        "colab": {
          "base_uri": "https://localhost:8080/"
        },
        "id": "jfwYHBexkQ6D",
        "outputId": "89b8fda9-a6df-4b58-cd23-d12616deed10"
      },
      "source": [
        " c4f5.evaluate(X_test, y_test, batch_size = 32)"
      ],
      "execution_count": null,
      "outputs": [
        {
          "output_type": "stream",
          "text": [
            "313/313 [==============================] - 1s 3ms/step - loss: 1.1356 - accuracy: 0.7384\n"
          ],
          "name": "stdout"
        },
        {
          "output_type": "execute_result",
          "data": {
            "text/plain": [
              "[1.1355992555618286, 0.7383999824523926]"
            ]
          },
          "metadata": {
            "tags": []
          },
          "execution_count": 31
        }
      ]
    },
    {
      "cell_type": "markdown",
      "metadata": {
        "id": "3Ub3qGnjs4EI"
      },
      "source": [
        "## Graph of loss and accuracy\n",
        "- model: C4f5"
      ]
    },
    {
      "cell_type": "code",
      "metadata": {
        "id": "NiSAsgsNtUte"
      },
      "source": [
        "c4f5 = keras.models.Sequential([ \n",
        "    Conv2D(input_shape=(32,32,3),kernel_size=(3,3),strides=(1,1),filters= 64,padding='same',activation='relu'),\n",
        "    MaxPool2D(pool_size=(2,2), strides=(2,2)), \n",
        "    Conv2D(kernel_size=(3,3),strides=(1,1),filters= 128,padding='same',activation='relu'),\n",
        "    MaxPool2D(pool_size=(2,2), strides=(2,2)),\n",
        "    Conv2D(kernel_size=(3,3),strides=(1,1),filters= 256,padding='same',activation='relu'),\n",
        "    MaxPool2D(pool_size=(2,2), strides=(2,2)),\n",
        "    Conv2D(kernel_size=(3,3),strides=(1,1),filters= 512,padding='same',activation='relu'),\n",
        "    MaxPool2D(pool_size=(2,2), strides=(2,2)),\n",
        "    Flatten(), \n",
        "    keras.layers.Dense(128, activation='relu'),  \n",
        "    keras.layers.Dropout(0.25), \n",
        "    keras.layers.Dense(256, activation='relu'),  \n",
        "    keras.layers.Dropout(0.25), \n",
        "    keras.layers.Dense(512, activation='relu'),  \n",
        "    keras.layers.Dropout(0.25), \n",
        "    keras.layers.Dense(1024, activation='relu'),  \n",
        "    keras.layers.Dropout(0.25), \n",
        "    keras.layers.Dense(10, activation='softmax')\n",
        "])\n",
        "\n",
        "c4f5.compile(optimizer='adam',\n",
        "              loss='categorical_crossentropy',\n",
        "              metrics=['accuracy'])"
      ],
      "execution_count": null,
      "outputs": []
    },
    {
      "cell_type": "code",
      "metadata": {
        "id": "-Yfqv2AqtUtz",
        "colab": {
          "base_uri": "https://localhost:8080/"
        },
        "outputId": "b238cd37-2536-4123-aeb1-e96402f06623"
      },
      "source": [
        "epoch = 44\n",
        "hist = c4f5.fit(X_train, y_train, \n",
        "         epochs = epoch, \n",
        "         batch_size =32, \n",
        "         validation_data=(X_test,y_test))"
      ],
      "execution_count": null,
      "outputs": [
        {
          "output_type": "stream",
          "text": [
            "Epoch 1/44\n",
            "1563/1563 [==============================] - 11s 7ms/step - loss: 1.6653 - accuracy: 0.3687 - val_loss: 1.3161 - val_accuracy: 0.5175\n",
            "Epoch 2/44\n",
            "1563/1563 [==============================] - 11s 7ms/step - loss: 1.2483 - accuracy: 0.5564 - val_loss: 1.1044 - val_accuracy: 0.6100\n",
            "Epoch 3/44\n",
            "1563/1563 [==============================] - 11s 7ms/step - loss: 1.0549 - accuracy: 0.6364 - val_loss: 0.9928 - val_accuracy: 0.6586\n",
            "Epoch 4/44\n",
            "1563/1563 [==============================] - 11s 7ms/step - loss: 0.9267 - accuracy: 0.6838 - val_loss: 0.9664 - val_accuracy: 0.6737\n",
            "Epoch 5/44\n",
            "1563/1563 [==============================] - 11s 7ms/step - loss: 0.8366 - accuracy: 0.7183 - val_loss: 0.9240 - val_accuracy: 0.7002\n",
            "Epoch 6/44\n",
            "1563/1563 [==============================] - 11s 7ms/step - loss: 0.7566 - accuracy: 0.7490 - val_loss: 0.9135 - val_accuracy: 0.6953\n",
            "Epoch 7/44\n",
            "1563/1563 [==============================] - 11s 7ms/step - loss: 0.6988 - accuracy: 0.7695 - val_loss: 0.9482 - val_accuracy: 0.6850\n",
            "Epoch 8/44\n",
            "1563/1563 [==============================] - 11s 7ms/step - loss: 0.6412 - accuracy: 0.7873 - val_loss: 0.8964 - val_accuracy: 0.7045\n",
            "Epoch 9/44\n",
            "1563/1563 [==============================] - 11s 7ms/step - loss: 0.5991 - accuracy: 0.8031 - val_loss: 0.8512 - val_accuracy: 0.7190\n",
            "Epoch 10/44\n",
            "1563/1563 [==============================] - 11s 7ms/step - loss: 0.5598 - accuracy: 0.8169 - val_loss: 0.8921 - val_accuracy: 0.7105\n",
            "Epoch 11/44\n",
            "1563/1563 [==============================] - 11s 7ms/step - loss: 0.5295 - accuracy: 0.8275 - val_loss: 0.8823 - val_accuracy: 0.7154\n",
            "Epoch 12/44\n",
            "1563/1563 [==============================] - 11s 7ms/step - loss: 0.5024 - accuracy: 0.8387 - val_loss: 0.8700 - val_accuracy: 0.7234\n",
            "Epoch 13/44\n",
            "1563/1563 [==============================] - 11s 7ms/step - loss: 0.4768 - accuracy: 0.8474 - val_loss: 0.9065 - val_accuracy: 0.7100\n",
            "Epoch 14/44\n",
            "1563/1563 [==============================] - 11s 7ms/step - loss: 0.4402 - accuracy: 0.8604 - val_loss: 0.8714 - val_accuracy: 0.7325\n",
            "Epoch 15/44\n",
            "1563/1563 [==============================] - 11s 7ms/step - loss: 0.4301 - accuracy: 0.8668 - val_loss: 0.9347 - val_accuracy: 0.7266\n",
            "Epoch 16/44\n",
            "1563/1563 [==============================] - 11s 7ms/step - loss: 0.4105 - accuracy: 0.8715 - val_loss: 0.8815 - val_accuracy: 0.7364\n",
            "Epoch 17/44\n",
            "1563/1563 [==============================] - 11s 7ms/step - loss: 0.3872 - accuracy: 0.8796 - val_loss: 0.9294 - val_accuracy: 0.7269\n",
            "Epoch 18/44\n",
            "1563/1563 [==============================] - 11s 7ms/step - loss: 0.3657 - accuracy: 0.8853 - val_loss: 1.0073 - val_accuracy: 0.7311\n",
            "Epoch 19/44\n",
            "1563/1563 [==============================] - 11s 7ms/step - loss: 0.3625 - accuracy: 0.8884 - val_loss: 0.9184 - val_accuracy: 0.7215\n",
            "Epoch 20/44\n",
            "1563/1563 [==============================] - 11s 7ms/step - loss: 0.3472 - accuracy: 0.8929 - val_loss: 0.9927 - val_accuracy: 0.7198\n",
            "Epoch 21/44\n",
            "1563/1563 [==============================] - 11s 7ms/step - loss: 0.3519 - accuracy: 0.8942 - val_loss: 0.9812 - val_accuracy: 0.7301\n",
            "Epoch 22/44\n",
            "1563/1563 [==============================] - 11s 7ms/step - loss: 0.3184 - accuracy: 0.9045 - val_loss: 1.0285 - val_accuracy: 0.7261\n",
            "Epoch 23/44\n",
            "1563/1563 [==============================] - 11s 7ms/step - loss: 0.3330 - accuracy: 0.9009 - val_loss: 0.9810 - val_accuracy: 0.7246\n",
            "Epoch 24/44\n",
            "1563/1563 [==============================] - 11s 7ms/step - loss: 0.3087 - accuracy: 0.9080 - val_loss: 1.0250 - val_accuracy: 0.7298\n",
            "Epoch 25/44\n",
            "1563/1563 [==============================] - 11s 7ms/step - loss: 0.3045 - accuracy: 0.9084 - val_loss: 1.0938 - val_accuracy: 0.7142\n",
            "Epoch 26/44\n",
            "1563/1563 [==============================] - 11s 7ms/step - loss: 0.3049 - accuracy: 0.9114 - val_loss: 1.0892 - val_accuracy: 0.7276\n",
            "Epoch 27/44\n",
            "1563/1563 [==============================] - 11s 7ms/step - loss: 0.2847 - accuracy: 0.9161 - val_loss: 0.9948 - val_accuracy: 0.7233\n",
            "Epoch 28/44\n",
            "1563/1563 [==============================] - 11s 7ms/step - loss: 0.2906 - accuracy: 0.9171 - val_loss: 1.0176 - val_accuracy: 0.7289\n",
            "Epoch 29/44\n",
            "1563/1563 [==============================] - 11s 7ms/step - loss: 0.3151 - accuracy: 0.9101 - val_loss: 1.1222 - val_accuracy: 0.7162\n",
            "Epoch 30/44\n",
            "1563/1563 [==============================] - 11s 7ms/step - loss: 0.2759 - accuracy: 0.9215 - val_loss: 1.0691 - val_accuracy: 0.7376\n",
            "Epoch 31/44\n",
            "1563/1563 [==============================] - 11s 7ms/step - loss: 0.2814 - accuracy: 0.9206 - val_loss: 1.1211 - val_accuracy: 0.7183\n",
            "Epoch 32/44\n",
            "1563/1563 [==============================] - 11s 7ms/step - loss: 0.2577 - accuracy: 0.9262 - val_loss: 1.0364 - val_accuracy: 0.7262\n",
            "Epoch 33/44\n",
            "1563/1563 [==============================] - 11s 7ms/step - loss: 0.3221 - accuracy: 0.9104 - val_loss: 1.0944 - val_accuracy: 0.7250\n",
            "Epoch 34/44\n",
            "1563/1563 [==============================] - 11s 7ms/step - loss: 0.2436 - accuracy: 0.9311 - val_loss: 1.0842 - val_accuracy: 0.7331\n",
            "Epoch 35/44\n",
            "1563/1563 [==============================] - 11s 7ms/step - loss: 0.2443 - accuracy: 0.9300 - val_loss: 1.1117 - val_accuracy: 0.7301\n",
            "Epoch 36/44\n",
            "1563/1563 [==============================] - 11s 7ms/step - loss: 0.2537 - accuracy: 0.9305 - val_loss: 1.0865 - val_accuracy: 0.7210\n",
            "Epoch 37/44\n",
            "1563/1563 [==============================] - 11s 7ms/step - loss: 0.2505 - accuracy: 0.9323 - val_loss: 1.1893 - val_accuracy: 0.7254\n",
            "Epoch 38/44\n",
            "1563/1563 [==============================] - 11s 7ms/step - loss: 0.2607 - accuracy: 0.9306 - val_loss: 1.1206 - val_accuracy: 0.6960\n",
            "Epoch 39/44\n",
            "1563/1563 [==============================] - 11s 7ms/step - loss: 0.3093 - accuracy: 0.9183 - val_loss: 1.0623 - val_accuracy: 0.7320\n",
            "Epoch 40/44\n",
            "1563/1563 [==============================] - 11s 7ms/step - loss: 0.2421 - accuracy: 0.9328 - val_loss: 1.1574 - val_accuracy: 0.7271\n",
            "Epoch 41/44\n",
            "1563/1563 [==============================] - 11s 7ms/step - loss: 0.2199 - accuracy: 0.9411 - val_loss: 1.0685 - val_accuracy: 0.7294\n",
            "Epoch 42/44\n",
            "1563/1563 [==============================] - 11s 7ms/step - loss: 0.2455 - accuracy: 0.9329 - val_loss: 1.1599 - val_accuracy: 0.7303\n",
            "Epoch 43/44\n",
            "1563/1563 [==============================] - 11s 7ms/step - loss: 0.2460 - accuracy: 0.9352 - val_loss: 1.3983 - val_accuracy: 0.7106\n",
            "Epoch 44/44\n",
            "1563/1563 [==============================] - 11s 7ms/step - loss: 0.2642 - accuracy: 0.9308 - val_loss: 1.1356 - val_accuracy: 0.7384\n"
          ],
          "name": "stdout"
        }
      ]
    },
    {
      "cell_type": "code",
      "metadata": {
        "id": "WNmXXLhvWUiK",
        "colab": {
          "base_uri": "https://localhost:8080/",
          "height": 313
        },
        "outputId": "d630dd4f-7120-4385-b17f-b797f263e7f4"
      },
      "source": [
        "# Plot loass and accuracy\n",
        "# Plot training & validation accuracy values\n",
        "epochs = epoch\n",
        "loss_list = [100 * i for i in hist.history['loss']]\n",
        "acc_list = [100 * i for i in hist.history['accuracy']]\n",
        "plt.plot(range(1,epochs+1),loss_list) \n",
        "plt.plot(range(1,epochs+1),acc_list) \n",
        "plt.title('Model loss & accuracy')\n",
        "plt.ylabel('Accuracy (%)')\n",
        "plt.xlabel('Epoch')\n",
        "plt.legend(['loss', 'accuracy'], loc='center left')"
      ],
      "execution_count": null,
      "outputs": [
        {
          "output_type": "execute_result",
          "data": {
            "text/plain": [
              "<matplotlib.legend.Legend at 0x7f92e81b50b8>"
            ]
          },
          "metadata": {
            "tags": []
          },
          "execution_count": 32
        },
        {
          "output_type": "display_data",
          "data": {
            "image/png": "[encoded data removed]",
            "text/plain": [
              "<Figure size 432x288 with 1 Axes>"
            ]
          },
          "metadata": {
            "tags": [],
            "needs_background": "light"
          }
        }
      ]
    },
    {
      "cell_type": "code",
      "metadata": {
        "id": "0wNssVPhu_8m"
      },
      "source": [
        "vloss_list = [100 * i for i in hist.history['val_loss']]\n",
        "vacc_list = [100 * i for i in hist.history['val_accuracy']]"
      ],
      "execution_count": null,
      "outputs": []
    },
    {
      "cell_type": "code",
      "metadata": {
        "id": "TX5Uzro4vjaY",
        "colab": {
          "base_uri": "https://localhost:8080/",
          "height": 313
        },
        "outputId": "99dd8e79-f471-4981-e060-1ac07451adfd"
      },
      "source": [
        "plt.plot(range(1,epochs+1),vloss_list)  \n",
        "plt.plot(range(1,epochs+1),vacc_list)  \n",
        "plt.title('Model val_loss & val_accuracy')\n",
        "plt.ylabel('Accuracy (%)')\n",
        "plt.xlabel('Epoch')\n",
        "plt.legend(['val_loss', 'val_accuracy'], loc='center left')"
      ],
      "execution_count": null,
      "outputs": [
        {
          "output_type": "execute_result",
          "data": {
            "text/plain": [
              "<matplotlib.legend.Legend at 0x7f92e06320b8>"
            ]
          },
          "metadata": {
            "tags": []
          },
          "execution_count": 34
        },
        {
          "output_type": "display_data",
          "data": {
            "image/png": "[encoded data removed]",
            "text/plain": [
              "<Figure size 432x288 with 1 Axes>"
            ]
          },
          "metadata": {
            "tags": [],
            "needs_background": "light"
          }
        }
      ]
    },
    {
      "cell_type": "code",
      "metadata": {
        "id": "blALTNdyvjVK",
        "colab": {
          "base_uri": "https://localhost:8080/",
          "height": 313
        },
        "outputId": "2544f0f7-f1f7-413e-acb3-687b224e3fa0"
      },
      "source": [
        "plt.plot(range(1,epochs+1),acc_list)  \n",
        "plt.plot(range(1,epochs+1),vacc_list)  \n",
        "plt.plot(np.argmax(np.array(vacc_list))+1,vacc_list[np.argmax(np.array(vacc_list))], 'r*') \n",
        "plt.title('accuracy vs. val_accuracy, best = ' +str(vacc_list[np.argmax(np.array(vacc_list))]))\n",
        "plt.ylabel('Accuracy (%)')\n",
        "plt.xlabel('Epoch')\n",
        "plt.legend(['accuracy','val_accuracy','best']) #, loc='center bottom')"
      ],
      "execution_count": null,
      "outputs": [
        {
          "output_type": "execute_result",
          "data": {
            "text/plain": [
              "<matplotlib.legend.Legend at 0x7f93455fccf8>"
            ]
          },
          "metadata": {
            "tags": []
          },
          "execution_count": 36
        },
        {
          "output_type": "display_data",
          "data": {
            "image/png": "[encoded data removed]",
            "text/plain": [
              "<Figure size 432x288 with 1 Axes>"
            ]
          },
          "metadata": {
            "tags": [],
            "needs_background": "light"
          }
        }
      ]
    },
    {
      "cell_type": "markdown",
      "metadata": {
        "id": "SQ3M6vRVXG78"
      },
      "source": [
        "## cifar10 모델 학습\n",
        "> https://gruuuuu.github.io/machine-learning/cifar10-cnn/#"
      ]
    },
    {
      "cell_type": "markdown",
      "metadata": {
        "id": "gBPKMI4y3fsa"
      },
      "source": [
        "## 모형의 저장\n",
        "\n",
        "- 트레이닝이 끝난 모형은 save 메서드로 가중치와 함께 hdf5 형식으로 저장\n",
        "- load 명령으로 불러 사용"
      ]
    },
    {
      "cell_type": "code",
      "metadata": {
        "id": "KCfbQl2v3fsa"
      },
      "source": [
        "# c2f2.save('fmnist_cnn_best.hdf5')"
      ],
      "execution_count": null,
      "outputs": []
    },
    {
      "cell_type": "code",
      "metadata": {
        "id": "b7-ysIVy3fse",
        "colab": {
          "base_uri": "https://localhost:8080/"
        },
        "outputId": "ff02109f-7e34-443c-f4c4-c967ce8a9bda"
      },
      "source": [
        "from keras.models import load_model\n",
        "\n",
        "model = load_model('cifar10_c4f5_best_weights.019-0.7513.hdf5')\n",
        "model.evaluate(X_test, y_test, batch_size=32)"
      ],
      "execution_count": null,
      "outputs": [
        {
          "output_type": "stream",
          "text": [
            "313/313 [==============================] - 1s 3ms/step - loss: 0.9051 - accuracy: 0.7513\n"
          ],
          "name": "stdout"
        },
        {
          "output_type": "execute_result",
          "data": {
            "text/plain": [
              "[0.905082643032074, 0.7512999773025513]"
            ]
          },
          "metadata": {
            "tags": []
          },
          "execution_count": 37
        }
      ]
    },
    {
      "cell_type": "markdown",
      "metadata": {
        "id": "KF3UzDJotZrh"
      },
      "source": [
        "## Confusion matrix"
      ]
    },
    {
      "cell_type": "code",
      "metadata": {
        "id": "RV1IaOyeu6Em"
      },
      "source": [
        "from sklearn.metrics import confusion_matrix\n",
        "import seaborn as sns"
      ],
      "execution_count": null,
      "outputs": []
    },
    {
      "cell_type": "code",
      "metadata": {
        "id": "Bxs1eC-cuO0Y"
      },
      "source": [
        "predictions = model.predict(X_test)"
      ],
      "execution_count": null,
      "outputs": []
    },
    {
      "cell_type": "code",
      "metadata": {
        "colab": {
          "base_uri": "https://localhost:8080/"
        },
        "id": "6Tqhg-UJujo5",
        "outputId": "77e4950a-ef7d-421a-d037-e8425d3645f5"
      },
      "source": [
        "predictions.shape"
      ],
      "execution_count": null,
      "outputs": [
        {
          "output_type": "execute_result",
          "data": {
            "text/plain": [
              "(10000, 10)"
            ]
          },
          "metadata": {
            "tags": []
          },
          "execution_count": 40
        }
      ]
    },
    {
      "cell_type": "code",
      "metadata": {
        "colab": {
          "base_uri": "https://localhost:8080/"
        },
        "id": "nZch1JFSufoR",
        "outputId": "2b7d5813-6edb-4209-8726-23421f929655"
      },
      "source": [
        "predictions0 = np.argmax(predictions, axis=1)\n",
        "predictions0.shape"
      ],
      "execution_count": null,
      "outputs": [
        {
          "output_type": "execute_result",
          "data": {
            "text/plain": [
              "(10000,)"
            ]
          },
          "metadata": {
            "tags": []
          },
          "execution_count": 41
        }
      ]
    },
    {
      "cell_type": "code",
      "metadata": {
        "id": "hiPMQeYXt12l"
      },
      "source": [
        "cm = confusion_matrix(y_test0, predictions0)"
      ],
      "execution_count": null,
      "outputs": []
    },
    {
      "cell_type": "code",
      "metadata": {
        "id": "YITaGwYjvatc"
      },
      "source": [
        "class_names = ['airplane', 'automobile', 'bird', 'cat', 'deer', 'dog', 'frog', 'horse', 'ship', 'truck']"
      ],
      "execution_count": null,
      "outputs": []
    },
    {
      "cell_type": "code",
      "metadata": {
        "colab": {
          "base_uri": "https://localhost:8080/",
          "height": 551
        },
        "id": "2qGHMNU3u8ut",
        "outputId": "56fd680c-5116-465b-823d-89bfc1366b18"
      },
      "source": [
        "plt.figure(figsize=(9,9))\n",
        "sns.heatmap(cm, cbar=False, xticklabels=class_names, yticklabels=class_names, fmt='d', annot=True, cmap=plt.cm.coolwarm)\n",
        "plt.xlabel('Predicted')\n",
        "plt.ylabel('Actual')\n",
        "plt.show()"
      ],
      "execution_count": null,
      "outputs": [
        {
          "output_type": "display_data",
          "data": {
            "image/png": "[encoded data removed]",
            "text/plain": [
              "<Figure size 648x648 with 1 Axes>"
            ]
          },
          "metadata": {
            "tags": [],
            "needs_background": "light"
          }
        }
      ]
    },
    {
      "cell_type": "markdown",
      "metadata": {
        "id": "0n2PfCMBh2ju"
      },
      "source": [
        "# State of current scores of cifar-10\n",
        "\n",
        "> https://paperswithcode.com/sota/image-classification-on-cifar-10"
      ]
    },
    {
      "cell_type": "markdown",
      "metadata": {
        "id": "7abyx_2n0_7d"
      },
      "source": [
        "## Transfer learning on cifar-10\n",
        "\n",
        "- https://medium.com/@andrew.dabydeen/transfer-learning-using-resnet50-and-cifar-10-6242ed4b4245\n",
        "\n",
        "- https://medium.com/swlh/comparative-analysis-of-cifar-10-image-classification-transfer-learning-vs-user-defined-cnns-e673685d925e\n",
        "\n",
        "- https://medium.com/swlh/hands-on-the-cifar-10-dataset-with-transfer-learning-2e768fd6c318\n",
        "\n",
        "- https://medium.com/analytics-vidhya/the-transfer-learning-experience-with-vgg16-and-cifar-10-dataset-9b25b306a23f"
      ]
    },
    {
      "cell_type": "markdown",
      "metadata": {
        "id": "5VLwPpU3fzNr"
      },
      "source": [
        "\r\n",
        "\r\n",
        "---\r\n",
        "\r\n"
      ]
    },
    {
      "cell_type": "markdown",
      "metadata": {
        "id": "NnevvZ_CAG3d"
      },
      "source": [
        "#* **기말고사 과제**\r\n",
        "- cifar10 데이터에 대한 분류 정확도가 높은 모델을 만드는 방법과 최적 모델을 구하시오."
      ]
    },
    {
      "cell_type": "code",
      "metadata": {
        "colab": {
          "base_uri": "https://localhost:8080/"
        },
        "id": "GRd4zt75AkTb",
        "outputId": "fea1eab3-c47f-463f-c557-5c01f6b2b960"
      },
      "source": [
        "# import library\r\n",
        "import numpy as np\r\n",
        "import tensorflow as tf\r\n",
        "from tensorflow import keras\r\n",
        "import pandas as pd\r\n",
        "import matplotlib.pyplot as plt\r\n",
        "%matplotlib inline\r\n",
        "\r\n",
        "tf.random.set_seed(0)\r\n",
        "\r\n",
        "print(tf.__version__)"
      ],
      "execution_count": null,
      "outputs": [
        {
          "output_type": "stream",
          "text": [
            "2.3.0\n"
          ],
          "name": "stdout"
        }
      ]
    },
    {
      "cell_type": "code",
      "metadata": {
        "id": "ljx9dNf8AkQF"
      },
      "source": [
        "from tensorflow.keras import layers, models, callbacks\r\n",
        "from keras.models import Sequential\r\n",
        "from keras.layers.core import Dense, Dropout, Activation, Flatten\r\n",
        "from keras.layers import Conv2D, MaxPooling2D, Flatten\r\n",
        "from keras.callbacks import ModelCheckpoint, EarlyStopping\r\n",
        "\r\n",
        "# L2 정규화를 위한 라이브러리\r\n",
        "from keras.regularizers import l2\r\n",
        "# 배치 정규화 적용을 위한 층\r\n",
        "from keras.layers import BatchNormalization"
      ],
      "execution_count": null,
      "outputs": []
    },
    {
      "cell_type": "markdown",
      "metadata": {
        "id": "QmHnuRCLBg7p"
      },
      "source": [
        "##**Load CIFAR-10 dataset**"
      ]
    },
    {
      "cell_type": "code",
      "metadata": {
        "colab": {
          "base_uri": "https://localhost:8080/"
        },
        "id": "QYvzW21LAkMg",
        "outputId": "8aad0ad7-ed12-4c0b-987e-17dc45ab8406"
      },
      "source": [
        "from keras.datasets import cifar10\r\n",
        "\r\n",
        "(X_train0, y_train0), (X_test0, y_test0) = cifar10.load_data()\r\n",
        "\r\n",
        "# Reshape\r\n",
        "# X_train = X_train0.reshape(60000,28,28,1)\r\n",
        "# X_test = X_test0.reshape(10000,28,28,1)\r\n",
        "\r\n",
        "# Normalization\r\n",
        "X_train, X_test = X_train0/255.0, X_test0/255.0 # 정규화\r\n",
        "\r\n",
        "print(\"X_train={0}\".format(X_train.shape))\r\n",
        "print(\"y_train={0}\".format(y_train.shape)) \r\n",
        "print(\"X_test={0}\".format(X_test.shape))\r\n",
        "print(\"y_test={0}\".format(y_test.shape))"
      ],
      "execution_count": null,
      "outputs": [
        {
          "output_type": "stream",
          "text": [
            "X_train=(50000, 32, 32, 3)\n",
            "y_train=(50000, 10)\n",
            "X_test=(10000, 32, 32, 3)\n",
            "y_test=(10000, 10)\n"
          ],
          "name": "stdout"
        }
      ]
    },
    {
      "cell_type": "code",
      "metadata": {
        "colab": {
          "base_uri": "https://localhost:8080/"
        },
        "id": "Q0xvS6jsAkET",
        "outputId": "8f62a4b6-749d-4aac-9d84-aaa06e5d3be7"
      },
      "source": [
        "# One-Hot-Encoding\r\n",
        "# Use function to_categorical() to do One-Hot-Encoding\r\n",
        "# tf.keras.utils.to_categorical\r\n",
        "from keras.utils import to_categorical\r\n",
        "\r\n",
        "y_train = to_categorical(y_train0, 10)\r\n",
        "y_test = to_categorical(y_test0, 10)\r\n",
        "y_train.shape,y_test.shape"
      ],
      "execution_count": null,
      "outputs": [
        {
          "output_type": "execute_result",
          "data": {
            "text/plain": [
              "((50000, 10), (10000, 10))"
            ]
          },
          "metadata": {
            "tags": []
          },
          "execution_count": 124
        }
      ]
    },
    {
      "cell_type": "code",
      "metadata": {
        "colab": {
          "base_uri": "https://localhost:8080/"
        },
        "id": "NiRQgfGNAkB1",
        "outputId": "e0bcb1fa-3b78-4383-9c90-691cc8ea129e"
      },
      "source": [
        "# y_train0.shape vs. y_train.shape\r\n",
        "y_train0.shape, y_train.shape"
      ],
      "execution_count": null,
      "outputs": [
        {
          "output_type": "execute_result",
          "data": {
            "text/plain": [
              "((50000, 1), (50000, 10))"
            ]
          },
          "metadata": {
            "tags": []
          },
          "execution_count": 125
        }
      ]
    },
    {
      "cell_type": "code",
      "metadata": {
        "colab": {
          "base_uri": "https://localhost:8080/",
          "height": 325
        },
        "id": "R68qZmOpIWpo",
        "outputId": "672a162f-d790-4ff5-8ce4-7450c6a4389e"
      },
      "source": [
        "# cifar-10 대표 이미지 보기\r\n",
        "fig = plt.figure(figsize=(10,6))\r\n",
        "num0_9 = np.unique(y_train0, return_index=True)[1]\r\n",
        "images = X_train[num0_9]\r\n",
        "for i in range(10):\r\n",
        "    plt.subplot(2, 5, i+1)\r\n",
        "    # num0_9 = X_train0[y_train0 == i]\r\n",
        "    \r\n",
        "    # print(num0_9.shape)\r\n",
        "    # plt.imshow(num0_9[0]) \r\n",
        "    plt.imshow(images[i])\r\n",
        "    plt.title(\"Class %d\" % (i))\r\n",
        "    plt.xticks([])\r\n",
        "    plt.yticks([])"
      ],
      "execution_count": null,
      "outputs": [
        {
          "output_type": "display_data",
          "data": {
            "image/png": "[encoded data removed]",
            "text/plain": [
              "<Figure size 720x432 with 10 Axes>"
            ]
          },
          "metadata": {
            "tags": []
          }
        }
      ]
    },
    {
      "cell_type": "code",
      "metadata": {
        "id": "69fYdCv6IwnH"
      },
      "source": [
        "# 순차적 모델을 위해 Sequential() 함수 사용\r\n",
        "best_model = Sequential(name='CIFAR-10_Best_model')\r\n",
        "# padding : 'same'-> 입력과 출력 모양이 같도록 0을 주변에 덧댄다\r\n",
        "# best model을 찾기 위해 elu : relu 보다 발전된 형태의 활성화 함수 elu를 사용\r\n",
        "# kernel_regularizer : 가중치 규제를 정해줌 -> l2(lambda) : 가중치의 L2 Norm을 목적 함수에 추가하며, lambda에 따라 곱해지는 상수값을 정함\r\n",
        "\r\n",
        "best_model.add(Conv2D(filters=32, kernel_size=(3, 3), padding='same', kernel_regularizer=l2(0.0001),\r\n",
        "                 input_shape=(32, 32, 3), activation='elu'))\r\n",
        "best_model.add(BatchNormalization()) # BatchNormalization() : 배치 정규화를 위한 층을 추가\r\n",
        "best_model.add(Conv2D(filters=32, kernel_size=(3, 3), padding='same', kernel_regularizer=l2(0.0001), activation='elu'))\r\n",
        "best_model.add(BatchNormalization())\r\n",
        "# pool_size : MaxPooling 의 Window size\r\n",
        "best_model.add(MaxPooling2D(pool_size=(2, 2)))\r\n",
        "best_model.add(Dropout(0.2)) # Dropout(rate) : 앞의 층에 드롭아웃을 적용. rate값에 의해 없애고 학습할 비율\r\n",
        "best_model.add(Conv2D(filters=64, kernel_size=(3, 3), padding='same', kernel_regularizer=l2(0.0001), activation='elu'))\r\n",
        "best_model.add(BatchNormalization())\r\n",
        "best_model.add(Conv2D(filters=64, kernel_size=(3, 3), padding='same', kernel_regularizer=l2(0.0001), activation='elu'))\r\n",
        "best_model.add(BatchNormalization())\r\n",
        "best_model.add(MaxPooling2D(pool_size=(2, 2)))\r\n",
        "best_model.add(Dropout(0.3))\r\n",
        "best_model.add(Conv2D(filters=128, kernel_size=(3, 3), padding='same', kernel_regularizer=l2(0.0001), activation='elu'))\r\n",
        "best_model.add(BatchNormalization())\r\n",
        "best_model.add(Conv2D(filters=128, kernel_size=(3, 3), padding='same', kernel_regularizer=l2(0.0001), activation='elu'))\r\n",
        "best_model.add(BatchNormalization())\r\n",
        "best_model.add(MaxPooling2D(pool_size=(2, 2)))\r\n",
        "best_model.add(Dropout(0.4))\r\n",
        "# N차원 배열을 1차원으로 펴줌\r\n",
        "best_model.add(Flatten())\r\n",
        "# 출력층 MLP\r\n",
        "best_model.add(Dense(10, activation='softmax'))\r\n",
        "\r\n",
        "# categorical_crossentropy : 분류가 2개 이상인 CEE\r\n",
        "# loss : 목적 함수\r\n",
        "# optimizer : adam을 사용\r\n",
        "# metrics : 학습 도중 화면에 어떤 값을 출력할지 결정\r\n",
        "best_model.compile(optimizer='adam',\r\n",
        "              loss='categorical_crossentropy',\r\n",
        "              metrics=['accuracy'])"
      ],
      "execution_count": null,
      "outputs": []
    },
    {
      "cell_type": "code",
      "metadata": {
        "colab": {
          "base_uri": "https://localhost:8080/"
        },
        "id": "DVB-_0YdN60j",
        "outputId": "389bd8e9-d556-4ee5-997e-52f2c356206c"
      },
      "source": [
        "best_model.summary()"
      ],
      "execution_count": null,
      "outputs": [
        {
          "output_type": "stream",
          "text": [
            "Model: \"CIFAR-10_Best model\"\n",
            "_________________________________________________________________\n",
            "Layer (type)                 Output Shape              Param #   \n",
            "=================================================================\n",
            "conv2d_115 (Conv2D)          (None, 32, 32, 32)        896       \n",
            "_________________________________________________________________\n",
            "batch_normalization_78 (Batc (None, 32, 32, 32)        128       \n",
            "_________________________________________________________________\n",
            "conv2d_116 (Conv2D)          (None, 32, 32, 32)        9248      \n",
            "_________________________________________________________________\n",
            "batch_normalization_79 (Batc (None, 32, 32, 32)        128       \n",
            "_________________________________________________________________\n",
            "max_pooling2d_64 (MaxPooling (None, 16, 16, 32)        0         \n",
            "_________________________________________________________________\n",
            "dropout_61 (Dropout)         (None, 16, 16, 32)        0         \n",
            "_________________________________________________________________\n",
            "conv2d_117 (Conv2D)          (None, 16, 16, 64)        18496     \n",
            "_________________________________________________________________\n",
            "batch_normalization_80 (Batc (None, 16, 16, 64)        256       \n",
            "_________________________________________________________________\n",
            "conv2d_118 (Conv2D)          (None, 16, 16, 64)        36928     \n",
            "_________________________________________________________________\n",
            "batch_normalization_81 (Batc (None, 16, 16, 64)        256       \n",
            "_________________________________________________________________\n",
            "max_pooling2d_65 (MaxPooling (None, 8, 8, 64)          0         \n",
            "_________________________________________________________________\n",
            "dropout_62 (Dropout)         (None, 8, 8, 64)          0         \n",
            "_________________________________________________________________\n",
            "conv2d_119 (Conv2D)          (None, 8, 8, 128)         73856     \n",
            "_________________________________________________________________\n",
            "batch_normalization_82 (Batc (None, 8, 8, 128)         512       \n",
            "_________________________________________________________________\n",
            "conv2d_120 (Conv2D)          (None, 8, 8, 128)         147584    \n",
            "_________________________________________________________________\n",
            "batch_normalization_83 (Batc (None, 8, 8, 128)         512       \n",
            "_________________________________________________________________\n",
            "max_pooling2d_66 (MaxPooling (None, 4, 4, 128)         0         \n",
            "_________________________________________________________________\n",
            "dropout_63 (Dropout)         (None, 4, 4, 128)         0         \n",
            "_________________________________________________________________\n",
            "flatten_23 (Flatten)         (None, 2048)              0         \n",
            "_________________________________________________________________\n",
            "dense_40 (Dense)             (None, 10)                20490     \n",
            "=================================================================\n",
            "Total params: 309,290\n",
            "Trainable params: 308,394\n",
            "Non-trainable params: 896\n",
            "_________________________________________________________________\n"
          ],
          "name": "stdout"
        }
      ]
    },
    {
      "cell_type": "markdown",
      "metadata": {
        "id": "gK12im2ZRPQE"
      },
      "source": [
        "Batch Normalization 층으로 인해서 학습 불가한 params가 생김\r\n",
        "\r\n",
        "* Batch Normalization: 학습률을 너무 높게 잡았을 때 기울기가 소실되거나 발산하는 현상을 예방하여 학습 과정을 안정화하는 것이다. \r\n",
        "\r\n",
        "학습 중 각 계층에 들어가는 입력을 평균과 분산으로 정규화함으로써 학습을 효율적으로 만들어주고, overfitting을 막는 dropout과 같은 효과를 낸다. \r\n",
        "\r\n",
        "dropout과 차이점은 dropout이 데이터 일부를 배제하여 간접적으로 과적합을 막는 것이고, 배치 정규화는 신경망 내부 데이터에 직접 영향을 준다는 것이다."
      ]
    },
    {
      "cell_type": "code",
      "metadata": {
        "id": "ra31PjX3Ogol"
      },
      "source": [
        "# callback\r\n",
        "cp_callback = callbacks.ModelCheckpoint(filepath=\"./cifar10_final_best_weights.{epoch:03d}-{val_accuracy:.4f}.hdf5\", \r\n",
        "                              monitor='val_accuracy', verbose=0, save_best_only=True)\r\n",
        "es_callback = callbacks.EarlyStopping(monitor='val_accuracy', \r\n",
        "                            mode='max', verbose=1, patience=25)    # patience=10, 25, 50"
      ],
      "execution_count": null,
      "outputs": []
    },
    {
      "cell_type": "code",
      "metadata": {
        "colab": {
          "base_uri": "https://localhost:8080/"
        },
        "id": "ZN-UHR8wIwkA",
        "outputId": "eba5dd66-5cff-4d4a-a9d9-98aa53f5298c"
      },
      "source": [
        "# model 학습\r\n",
        "hist = best_model.fit(X_train, y_train, epochs=500, batch_size =32, \r\n",
        "         callbacks=[cp_callback, es_callback], \r\n",
        "         validation_data=(X_test,y_test))"
      ],
      "execution_count": null,
      "outputs": [
        {
          "output_type": "stream",
          "text": [
            "Epoch 1/500\n",
            "1563/1563 [==============================] - 10s 7ms/step - loss: 1.6642 - accuracy: 0.4871 - val_loss: 1.2602 - val_accuracy: 0.5929\n",
            "Epoch 2/500\n",
            "1563/1563 [==============================] - 10s 6ms/step - loss: 1.0542 - accuracy: 0.6585 - val_loss: 0.9714 - val_accuracy: 0.6895\n",
            "Epoch 3/500\n",
            "1563/1563 [==============================] - 10s 6ms/step - loss: 0.8966 - accuracy: 0.7144 - val_loss: 0.8409 - val_accuracy: 0.7399\n",
            "Epoch 4/500\n",
            "1563/1563 [==============================] - 10s 6ms/step - loss: 0.8094 - accuracy: 0.7499 - val_loss: 0.8251 - val_accuracy: 0.7485\n",
            "Epoch 5/500\n",
            "1563/1563 [==============================] - 10s 6ms/step - loss: 0.7571 - accuracy: 0.7750 - val_loss: 0.7545 - val_accuracy: 0.7842\n",
            "Epoch 6/500\n",
            "1563/1563 [==============================] - 10s 6ms/step - loss: 0.7240 - accuracy: 0.7931 - val_loss: 0.7447 - val_accuracy: 0.7964\n",
            "Epoch 7/500\n",
            "1563/1563 [==============================] - 10s 6ms/step - loss: 0.6941 - accuracy: 0.8096 - val_loss: 0.7093 - val_accuracy: 0.8080\n",
            "Epoch 8/500\n",
            "1563/1563 [==============================] - 10s 6ms/step - loss: 0.6752 - accuracy: 0.8187 - val_loss: 0.7549 - val_accuracy: 0.8035\n",
            "Epoch 9/500\n",
            "1563/1563 [==============================] - 10s 6ms/step - loss: 0.6604 - accuracy: 0.8290 - val_loss: 0.8089 - val_accuracy: 0.7928\n",
            "Epoch 10/500\n",
            "1563/1563 [==============================] - 10s 6ms/step - loss: 0.6479 - accuracy: 0.8362 - val_loss: 0.8489 - val_accuracy: 0.7772\n",
            "Epoch 11/500\n",
            "1563/1563 [==============================] - 10s 6ms/step - loss: 0.6343 - accuracy: 0.8427 - val_loss: 0.7317 - val_accuracy: 0.8105\n",
            "Epoch 12/500\n",
            "1563/1563 [==============================] - 10s 6ms/step - loss: 0.6331 - accuracy: 0.8457 - val_loss: 0.6791 - val_accuracy: 0.8340\n",
            "Epoch 13/500\n",
            "1563/1563 [==============================] - 10s 6ms/step - loss: 0.6169 - accuracy: 0.8529 - val_loss: 0.7363 - val_accuracy: 0.8201\n",
            "Epoch 14/500\n",
            "1563/1563 [==============================] - 10s 6ms/step - loss: 0.6149 - accuracy: 0.8559 - val_loss: 0.7214 - val_accuracy: 0.8241\n",
            "Epoch 15/500\n",
            "1563/1563 [==============================] - 10s 6ms/step - loss: 0.6105 - accuracy: 0.8594 - val_loss: 0.6923 - val_accuracy: 0.8336\n",
            "Epoch 16/500\n",
            "1563/1563 [==============================] - 10s 6ms/step - loss: 0.6051 - accuracy: 0.8609 - val_loss: 0.7152 - val_accuracy: 0.8299\n",
            "Epoch 17/500\n",
            "1563/1563 [==============================] - 10s 6ms/step - loss: 0.5981 - accuracy: 0.8646 - val_loss: 0.6982 - val_accuracy: 0.8428\n",
            "Epoch 18/500\n",
            "1563/1563 [==============================] - 10s 6ms/step - loss: 0.5893 - accuracy: 0.8697 - val_loss: 0.7370 - val_accuracy: 0.8293\n",
            "Epoch 19/500\n",
            "1563/1563 [==============================] - 10s 6ms/step - loss: 0.5898 - accuracy: 0.8697 - val_loss: 0.7297 - val_accuracy: 0.8313\n",
            "Epoch 20/500\n",
            "1563/1563 [==============================] - 10s 6ms/step - loss: 0.5884 - accuracy: 0.8711 - val_loss: 0.7350 - val_accuracy: 0.8334\n",
            "Epoch 21/500\n",
            "1563/1563 [==============================] - 10s 6ms/step - loss: 0.5829 - accuracy: 0.8749 - val_loss: 0.7029 - val_accuracy: 0.8456\n",
            "Epoch 22/500\n",
            "1563/1563 [==============================] - 10s 7ms/step - loss: 0.5819 - accuracy: 0.8751 - val_loss: 0.7494 - val_accuracy: 0.8323\n",
            "Epoch 23/500\n",
            "1563/1563 [==============================] - 10s 6ms/step - loss: 0.5785 - accuracy: 0.8764 - val_loss: 0.6819 - val_accuracy: 0.8497\n",
            "Epoch 24/500\n",
            "1563/1563 [==============================] - 10s 6ms/step - loss: 0.5748 - accuracy: 0.8785 - val_loss: 0.7837 - val_accuracy: 0.8212\n",
            "Epoch 25/500\n",
            "1563/1563 [==============================] - 10s 6ms/step - loss: 0.5728 - accuracy: 0.8792 - val_loss: 0.7060 - val_accuracy: 0.8482\n",
            "Epoch 26/500\n",
            "1563/1563 [==============================] - 10s 6ms/step - loss: 0.5700 - accuracy: 0.8810 - val_loss: 0.7263 - val_accuracy: 0.8440\n",
            "Epoch 27/500\n",
            "1563/1563 [==============================] - 10s 6ms/step - loss: 0.5695 - accuracy: 0.8812 - val_loss: 0.7423 - val_accuracy: 0.8312\n",
            "Epoch 28/500\n",
            "1563/1563 [==============================] - 10s 6ms/step - loss: 0.5685 - accuracy: 0.8822 - val_loss: 0.6926 - val_accuracy: 0.8508\n",
            "Epoch 29/500\n",
            "1563/1563 [==============================] - 10s 6ms/step - loss: 0.5630 - accuracy: 0.8848 - val_loss: 0.7282 - val_accuracy: 0.8406\n",
            "Epoch 30/500\n",
            "1563/1563 [==============================] - 10s 6ms/step - loss: 0.5666 - accuracy: 0.8832 - val_loss: 0.7327 - val_accuracy: 0.8406\n",
            "Epoch 31/500\n",
            "1563/1563 [==============================] - 10s 6ms/step - loss: 0.5555 - accuracy: 0.8886 - val_loss: 0.7094 - val_accuracy: 0.8505\n",
            "Epoch 32/500\n",
            "1563/1563 [==============================] - 10s 6ms/step - loss: 0.5587 - accuracy: 0.8871 - val_loss: 0.7403 - val_accuracy: 0.8386\n",
            "Epoch 33/500\n",
            "1563/1563 [==============================] - 10s 6ms/step - loss: 0.5562 - accuracy: 0.8890 - val_loss: 0.7239 - val_accuracy: 0.8458\n",
            "Epoch 34/500\n",
            "1563/1563 [==============================] - 10s 6ms/step - loss: 0.5552 - accuracy: 0.8885 - val_loss: 0.7065 - val_accuracy: 0.8482\n",
            "Epoch 35/500\n",
            "1563/1563 [==============================] - 10s 6ms/step - loss: 0.5519 - accuracy: 0.8890 - val_loss: 0.7437 - val_accuracy: 0.8357\n",
            "Epoch 36/500\n",
            "1563/1563 [==============================] - 10s 6ms/step - loss: 0.5539 - accuracy: 0.8890 - val_loss: 0.7467 - val_accuracy: 0.8380\n",
            "Epoch 37/500\n",
            "1563/1563 [==============================] - 10s 6ms/step - loss: 0.5504 - accuracy: 0.8922 - val_loss: 0.7257 - val_accuracy: 0.8424\n",
            "Epoch 38/500\n",
            "1563/1563 [==============================] - 10s 6ms/step - loss: 0.5526 - accuracy: 0.8915 - val_loss: 0.7389 - val_accuracy: 0.8420\n",
            "Epoch 39/500\n",
            "1563/1563 [==============================] - 10s 6ms/step - loss: 0.5544 - accuracy: 0.8907 - val_loss: 0.7162 - val_accuracy: 0.8496\n",
            "Epoch 40/500\n",
            "1563/1563 [==============================] - 10s 7ms/step - loss: 0.5469 - accuracy: 0.8938 - val_loss: 0.7255 - val_accuracy: 0.8474\n",
            "Epoch 41/500\n",
            "1563/1563 [==============================] - 10s 6ms/step - loss: 0.5466 - accuracy: 0.8951 - val_loss: 0.7294 - val_accuracy: 0.8459\n",
            "Epoch 42/500\n",
            "1563/1563 [==============================] - 10s 6ms/step - loss: 0.5411 - accuracy: 0.8960 - val_loss: 0.6949 - val_accuracy: 0.8553\n",
            "Epoch 43/500\n",
            "1563/1563 [==============================] - 10s 6ms/step - loss: 0.5521 - accuracy: 0.8933 - val_loss: 0.6950 - val_accuracy: 0.8543\n",
            "Epoch 44/500\n",
            "1563/1563 [==============================] - 10s 6ms/step - loss: 0.5449 - accuracy: 0.8942 - val_loss: 0.7216 - val_accuracy: 0.8514\n",
            "Epoch 45/500\n",
            "1563/1563 [==============================] - 10s 6ms/step - loss: 0.5420 - accuracy: 0.8959 - val_loss: 0.7006 - val_accuracy: 0.8497\n",
            "Epoch 46/500\n",
            "1563/1563 [==============================] - 10s 6ms/step - loss: 0.5422 - accuracy: 0.8946 - val_loss: 0.7015 - val_accuracy: 0.8524\n",
            "Epoch 47/500\n",
            "1563/1563 [==============================] - 10s 6ms/step - loss: 0.5433 - accuracy: 0.8950 - val_loss: 0.7350 - val_accuracy: 0.8467\n",
            "Epoch 48/500\n",
            "1563/1563 [==============================] - 10s 6ms/step - loss: 0.5415 - accuracy: 0.8956 - val_loss: 0.7043 - val_accuracy: 0.8538\n",
            "Epoch 49/500\n",
            "1563/1563 [==============================] - 10s 6ms/step - loss: 0.5407 - accuracy: 0.8967 - val_loss: 0.7825 - val_accuracy: 0.8364\n",
            "Epoch 50/500\n",
            "1563/1563 [==============================] - 10s 6ms/step - loss: 0.5394 - accuracy: 0.8971 - val_loss: 0.6975 - val_accuracy: 0.8569\n",
            "Epoch 51/500\n",
            "1563/1563 [==============================] - 10s 6ms/step - loss: 0.5360 - accuracy: 0.8988 - val_loss: 0.7394 - val_accuracy: 0.8460\n",
            "Epoch 52/500\n",
            "1563/1563 [==============================] - 10s 6ms/step - loss: 0.5339 - accuracy: 0.8994 - val_loss: 0.7044 - val_accuracy: 0.8515\n",
            "Epoch 53/500\n",
            "1563/1563 [==============================] - 11s 7ms/step - loss: 0.5374 - accuracy: 0.8980 - val_loss: 0.6898 - val_accuracy: 0.8623\n",
            "Epoch 54/500\n",
            "1563/1563 [==============================] - 10s 6ms/step - loss: 0.5363 - accuracy: 0.8980 - val_loss: 0.6792 - val_accuracy: 0.8624\n",
            "Epoch 55/500\n",
            "1563/1563 [==============================] - 10s 6ms/step - loss: 0.5346 - accuracy: 0.8984 - val_loss: 0.6851 - val_accuracy: 0.8565\n",
            "Epoch 56/500\n",
            "1563/1563 [==============================] - 10s 6ms/step - loss: 0.5327 - accuracy: 0.9006 - val_loss: 0.6949 - val_accuracy: 0.8594\n",
            "Epoch 57/500\n",
            "1563/1563 [==============================] - 10s 6ms/step - loss: 0.5332 - accuracy: 0.8996 - val_loss: 0.7350 - val_accuracy: 0.8439\n",
            "Epoch 58/500\n",
            "1563/1563 [==============================] - 10s 6ms/step - loss: 0.5354 - accuracy: 0.8990 - val_loss: 0.7220 - val_accuracy: 0.8474\n",
            "Epoch 59/500\n",
            "1563/1563 [==============================] - 10s 7ms/step - loss: 0.5294 - accuracy: 0.9014 - val_loss: 0.7373 - val_accuracy: 0.8486\n",
            "Epoch 60/500\n",
            "1563/1563 [==============================] - 10s 6ms/step - loss: 0.5326 - accuracy: 0.8985 - val_loss: 0.7473 - val_accuracy: 0.8451\n",
            "Epoch 61/500\n",
            "1563/1563 [==============================] - 10s 6ms/step - loss: 0.5306 - accuracy: 0.9005 - val_loss: 0.7293 - val_accuracy: 0.8468\n",
            "Epoch 62/500\n",
            "1563/1563 [==============================] - 10s 6ms/step - loss: 0.5268 - accuracy: 0.9018 - val_loss: 0.7351 - val_accuracy: 0.8493\n",
            "Epoch 63/500\n",
            "1563/1563 [==============================] - 10s 6ms/step - loss: 0.5308 - accuracy: 0.9008 - val_loss: 0.7036 - val_accuracy: 0.8580\n",
            "Epoch 64/500\n",
            "1563/1563 [==============================] - 10s 6ms/step - loss: 0.5318 - accuracy: 0.9014 - val_loss: 0.6983 - val_accuracy: 0.8550\n",
            "Epoch 65/500\n",
            "1563/1563 [==============================] - 10s 6ms/step - loss: 0.5263 - accuracy: 0.9014 - val_loss: 0.7268 - val_accuracy: 0.8499\n",
            "Epoch 66/500\n",
            "1563/1563 [==============================] - 10s 6ms/step - loss: 0.5321 - accuracy: 0.9009 - val_loss: 0.7190 - val_accuracy: 0.8520\n",
            "Epoch 67/500\n",
            "1563/1563 [==============================] - 10s 7ms/step - loss: 0.5264 - accuracy: 0.9018 - val_loss: 0.7365 - val_accuracy: 0.8438\n",
            "Epoch 68/500\n",
            "1563/1563 [==============================] - 10s 6ms/step - loss: 0.5270 - accuracy: 0.9025 - val_loss: 0.7339 - val_accuracy: 0.8491\n",
            "Epoch 69/500\n",
            "1563/1563 [==============================] - 10s 6ms/step - loss: 0.5304 - accuracy: 0.9012 - val_loss: 0.6973 - val_accuracy: 0.8574\n",
            "Epoch 70/500\n",
            "1563/1563 [==============================] - 10s 6ms/step - loss: 0.5207 - accuracy: 0.9053 - val_loss: 0.7316 - val_accuracy: 0.8507\n",
            "Epoch 71/500\n",
            "1563/1563 [==============================] - 10s 6ms/step - loss: 0.5247 - accuracy: 0.9029 - val_loss: 0.8027 - val_accuracy: 0.8316\n",
            "Epoch 72/500\n",
            "1563/1563 [==============================] - 10s 6ms/step - loss: 0.5254 - accuracy: 0.9034 - val_loss: 0.7546 - val_accuracy: 0.8420\n",
            "Epoch 73/500\n",
            "1563/1563 [==============================] - 10s 6ms/step - loss: 0.5224 - accuracy: 0.9025 - val_loss: 0.6921 - val_accuracy: 0.8545\n",
            "Epoch 74/500\n",
            "1563/1563 [==============================] - 10s 6ms/step - loss: 0.5282 - accuracy: 0.9008 - val_loss: 0.7097 - val_accuracy: 0.8479\n",
            "Epoch 75/500\n",
            "1563/1563 [==============================] - 10s 6ms/step - loss: 0.5194 - accuracy: 0.9046 - val_loss: 0.7408 - val_accuracy: 0.8411\n",
            "Epoch 76/500\n",
            "1563/1563 [==============================] - 10s 6ms/step - loss: 0.5279 - accuracy: 0.9024 - val_loss: 0.7218 - val_accuracy: 0.8502\n",
            "Epoch 77/500\n",
            "1563/1563 [==============================] - 10s 6ms/step - loss: 0.5230 - accuracy: 0.9039 - val_loss: 0.7184 - val_accuracy: 0.8499\n",
            "Epoch 78/500\n",
            "1563/1563 [==============================] - 10s 6ms/step - loss: 0.5223 - accuracy: 0.9041 - val_loss: 0.7097 - val_accuracy: 0.8555\n",
            "Epoch 79/500\n",
            "1563/1563 [==============================] - 10s 6ms/step - loss: 0.5249 - accuracy: 0.9040 - val_loss: 0.6911 - val_accuracy: 0.8592\n",
            "Epoch 00079: early stopping\n"
          ],
          "name": "stdout"
        }
      ]
    },
    {
      "cell_type": "code",
      "metadata": {
        "colab": {
          "base_uri": "https://localhost:8080/"
        },
        "id": "tVTR0kd2XVvK",
        "outputId": "47ced48c-52c1-47e1-ae33-3ea20b95b2e1"
      },
      "source": [
        "best_model.evaluate(X_test, y_test, batch_size = 32)"
      ],
      "execution_count": null,
      "outputs": [
        {
          "output_type": "stream",
          "text": [
            "313/313 [==============================] - 1s 4ms/step - loss: 0.6948 - accuracy: 0.8604\n"
          ],
          "name": "stdout"
        },
        {
          "output_type": "execute_result",
          "data": {
            "text/plain": [
              "[0.6947923898696899, 0.8604000210762024]"
            ]
          },
          "metadata": {
            "tags": []
          },
          "execution_count": 167
        }
      ]
    },
    {
      "cell_type": "markdown",
      "metadata": {
        "id": "7IBj9KKAQjaD"
      },
      "source": [
        "##**Graph of loss and accuracy**\r\n",
        "- my best model"
      ]
    },
    {
      "cell_type": "code",
      "metadata": {
        "id": "XsyoeAyXVAFZ"
      },
      "source": [
        "# 순차적 모델을 위해 Sequential() 함수 사용\r\n",
        "best_model = Sequential(name='CIFAR-10_Best_model')\r\n",
        "# padding : 'same'-> 입력과 출력 모양이 같도록 0을 주변에 덧댄다\r\n",
        "# best model을 찾기 위해 elu : relu 보다 발전된 형태의 활성화 함수 elu를 사용\r\n",
        "# kernel_regularizer : 가중치 규제를 정해줌 -> l2(lambda) : 가중치의 L2 Norm을 목적 함수에 추가하며, lambda에 따라 곱해지는 상수값을 정함\r\n",
        "\r\n",
        "best_model.add(Conv2D(filters=32, kernel_size=(3, 3), padding='same', kernel_regularizer=l2(0.0001),\r\n",
        "                 input_shape=(32, 32, 3), activation='elu'))\r\n",
        "best_model.add(BatchNormalization()) # BatchNormalization() : 배치 정규화를 위한 층을 추가\r\n",
        "best_model.add(Conv2D(filters=32, kernel_size=(3, 3), padding='same', kernel_regularizer=l2(0.0001), activation='elu'))\r\n",
        "best_model.add(BatchNormalization())\r\n",
        "# pool_size : MaxPooling 의 Window size\r\n",
        "best_model.add(MaxPooling2D(pool_size=(2, 2)))\r\n",
        "best_model.add(Dropout(0.2)) # Dropout(rate) : 앞의 층에 드롭아웃을 적용. rate값에 의해 없애고 학습할 비율\r\n",
        "best_model.add(Conv2D(filters=64, kernel_size=(3, 3), padding='same', kernel_regularizer=l2(0.0001), activation='elu'))\r\n",
        "best_model.add(BatchNormalization())\r\n",
        "best_model.add(Conv2D(filters=64, kernel_size=(3, 3), padding='same', kernel_regularizer=l2(0.0001), activation='elu'))\r\n",
        "best_model.add(BatchNormalization())\r\n",
        "best_model.add(MaxPooling2D(pool_size=(2, 2)))\r\n",
        "best_model.add(Dropout(0.3))\r\n",
        "best_model.add(Conv2D(filters=128, kernel_size=(3, 3), padding='same', kernel_regularizer=l2(0.0001), activation='elu'))\r\n",
        "best_model.add(BatchNormalization())\r\n",
        "best_model.add(Conv2D(filters=128, kernel_size=(3, 3), padding='same', kernel_regularizer=l2(0.0001), activation='elu'))\r\n",
        "best_model.add(BatchNormalization())\r\n",
        "best_model.add(MaxPooling2D(pool_size=(2, 2)))\r\n",
        "best_model.add(Dropout(0.4))\r\n",
        "# N차원 배열을 1차원으로 펴줌\r\n",
        "best_model.add(Flatten())\r\n",
        "# 출력층 MLP\r\n",
        "best_model.add(Dense(10, activation='softmax'))\r\n",
        "\r\n",
        "# categorical_crossentropy : 분류가 2개 이상인 CEE\r\n",
        "# loss : 목적 함수\r\n",
        "# optimizer : adam을 사용\r\n",
        "# metrics : 학습 도중 화면에 어떤 값을 출력할지 결정\r\n",
        "best_model.compile(optimizer='adam',\r\n",
        "              loss='categorical_crossentropy',\r\n",
        "              metrics=['accuracy'])"
      ],
      "execution_count": null,
      "outputs": []
    },
    {
      "cell_type": "code",
      "metadata": {
        "colab": {
          "base_uri": "https://localhost:8080/"
        },
        "id": "kooJJMgtVCDX",
        "outputId": "535e5883-b34c-4040-951d-d4916b98f9df"
      },
      "source": [
        "epoch = 79\r\n",
        "hist = best_model.fit(X_train, y_train, \r\n",
        "         epochs = epoch, \r\n",
        "         batch_size =32, \r\n",
        "         validation_data=(X_test,y_test))"
      ],
      "execution_count": null,
      "outputs": [
        {
          "output_type": "stream",
          "text": [
            "Epoch 1/79\n",
            "1563/1563 [==============================] - 10s 7ms/step - loss: 1.6645 - accuracy: 0.4885 - val_loss: 1.0908 - val_accuracy: 0.6432\n",
            "Epoch 2/79\n",
            "1563/1563 [==============================] - 10s 6ms/step - loss: 1.0608 - accuracy: 0.6576 - val_loss: 0.9990 - val_accuracy: 0.6764\n",
            "Epoch 3/79\n",
            "1563/1563 [==============================] - 10s 7ms/step - loss: 0.8983 - accuracy: 0.7127 - val_loss: 0.9170 - val_accuracy: 0.7189\n",
            "Epoch 4/79\n",
            "1563/1563 [==============================] - 10s 6ms/step - loss: 0.8143 - accuracy: 0.7465 - val_loss: 0.7708 - val_accuracy: 0.7699\n",
            "Epoch 5/79\n",
            "1563/1563 [==============================] - 10s 7ms/step - loss: 0.7614 - accuracy: 0.7718 - val_loss: 0.7307 - val_accuracy: 0.7869\n",
            "Epoch 6/79\n",
            "1563/1563 [==============================] - 10s 6ms/step - loss: 0.7241 - accuracy: 0.7938 - val_loss: 0.7229 - val_accuracy: 0.7993\n",
            "Epoch 7/79\n",
            "1563/1563 [==============================] - 10s 6ms/step - loss: 0.6951 - accuracy: 0.8087 - val_loss: 0.7181 - val_accuracy: 0.8071\n",
            "Epoch 8/79\n",
            "1563/1563 [==============================] - 10s 6ms/step - loss: 0.6759 - accuracy: 0.8185 - val_loss: 0.7212 - val_accuracy: 0.8120\n",
            "Epoch 9/79\n",
            "1563/1563 [==============================] - 10s 7ms/step - loss: 0.6596 - accuracy: 0.8276 - val_loss: 0.7379 - val_accuracy: 0.8057\n",
            "Epoch 10/79\n",
            "1563/1563 [==============================] - 10s 6ms/step - loss: 0.6485 - accuracy: 0.8365 - val_loss: 0.7439 - val_accuracy: 0.8123\n",
            "Epoch 11/79\n",
            "1563/1563 [==============================] - 10s 6ms/step - loss: 0.6343 - accuracy: 0.8435 - val_loss: 0.7319 - val_accuracy: 0.8121\n",
            "Epoch 12/79\n",
            "1563/1563 [==============================] - 10s 6ms/step - loss: 0.6252 - accuracy: 0.8484 - val_loss: 0.7134 - val_accuracy: 0.8231\n",
            "Epoch 13/79\n",
            "1563/1563 [==============================] - 10s 6ms/step - loss: 0.6205 - accuracy: 0.8517 - val_loss: 0.7285 - val_accuracy: 0.8243\n",
            "Epoch 14/79\n",
            "1563/1563 [==============================] - 10s 6ms/step - loss: 0.6093 - accuracy: 0.8583 - val_loss: 0.7348 - val_accuracy: 0.8218\n",
            "Epoch 15/79\n",
            "1563/1563 [==============================] - 10s 6ms/step - loss: 0.6057 - accuracy: 0.8588 - val_loss: 0.7385 - val_accuracy: 0.8194\n",
            "Epoch 16/79\n",
            "1563/1563 [==============================] - 10s 7ms/step - loss: 0.5974 - accuracy: 0.8642 - val_loss: 0.7074 - val_accuracy: 0.8380\n",
            "Epoch 17/79\n",
            "1563/1563 [==============================] - 10s 7ms/step - loss: 0.5948 - accuracy: 0.8652 - val_loss: 0.7219 - val_accuracy: 0.8318\n",
            "Epoch 18/79\n",
            "1563/1563 [==============================] - 11s 7ms/step - loss: 0.5936 - accuracy: 0.8659 - val_loss: 0.7295 - val_accuracy: 0.8275\n",
            "Epoch 19/79\n",
            "1563/1563 [==============================] - 10s 7ms/step - loss: 0.5867 - accuracy: 0.8725 - val_loss: 0.7352 - val_accuracy: 0.8361\n",
            "Epoch 20/79\n",
            "1563/1563 [==============================] - 10s 7ms/step - loss: 0.5889 - accuracy: 0.8715 - val_loss: 0.8013 - val_accuracy: 0.8127\n",
            "Epoch 21/79\n",
            "1563/1563 [==============================] - 10s 6ms/step - loss: 0.5833 - accuracy: 0.8737 - val_loss: 0.7189 - val_accuracy: 0.8403\n",
            "Epoch 22/79\n",
            "1563/1563 [==============================] - 10s 7ms/step - loss: 0.5766 - accuracy: 0.8772 - val_loss: 0.7244 - val_accuracy: 0.8389\n",
            "Epoch 23/79\n",
            "1563/1563 [==============================] - 10s 6ms/step - loss: 0.5825 - accuracy: 0.8756 - val_loss: 0.6887 - val_accuracy: 0.8488\n",
            "Epoch 24/79\n",
            "1563/1563 [==============================] - 10s 7ms/step - loss: 0.5737 - accuracy: 0.8783 - val_loss: 0.7445 - val_accuracy: 0.8309\n",
            "Epoch 25/79\n",
            "1563/1563 [==============================] - 10s 7ms/step - loss: 0.5739 - accuracy: 0.8810 - val_loss: 0.7069 - val_accuracy: 0.8429\n",
            "Epoch 26/79\n",
            "1563/1563 [==============================] - 10s 7ms/step - loss: 0.5722 - accuracy: 0.8801 - val_loss: 0.7125 - val_accuracy: 0.8446\n",
            "Epoch 27/79\n",
            "1563/1563 [==============================] - 10s 7ms/step - loss: 0.5703 - accuracy: 0.8831 - val_loss: 0.7005 - val_accuracy: 0.8512\n",
            "Epoch 28/79\n",
            "1563/1563 [==============================] - 10s 7ms/step - loss: 0.5707 - accuracy: 0.8820 - val_loss: 0.7973 - val_accuracy: 0.8183\n",
            "Epoch 29/79\n",
            "1563/1563 [==============================] - 10s 7ms/step - loss: 0.5651 - accuracy: 0.8841 - val_loss: 0.6998 - val_accuracy: 0.8479\n",
            "Epoch 30/79\n",
            "1563/1563 [==============================] - 10s 7ms/step - loss: 0.5602 - accuracy: 0.8861 - val_loss: 0.6670 - val_accuracy: 0.8569\n",
            "Epoch 31/79\n",
            "1563/1563 [==============================] - 10s 6ms/step - loss: 0.5594 - accuracy: 0.8866 - val_loss: 0.7355 - val_accuracy: 0.8372\n",
            "Epoch 32/79\n",
            "1563/1563 [==============================] - 10s 7ms/step - loss: 0.5560 - accuracy: 0.8884 - val_loss: 0.7482 - val_accuracy: 0.8304\n",
            "Epoch 33/79\n",
            "1563/1563 [==============================] - 10s 7ms/step - loss: 0.5613 - accuracy: 0.8867 - val_loss: 0.7332 - val_accuracy: 0.8407\n",
            "Epoch 34/79\n",
            "1563/1563 [==============================] - 10s 7ms/step - loss: 0.5540 - accuracy: 0.8920 - val_loss: 0.7063 - val_accuracy: 0.8472\n",
            "Epoch 35/79\n",
            "1563/1563 [==============================] - 10s 7ms/step - loss: 0.5583 - accuracy: 0.8881 - val_loss: 0.7052 - val_accuracy: 0.8498\n",
            "Epoch 36/79\n",
            "1563/1563 [==============================] - 10s 7ms/step - loss: 0.5554 - accuracy: 0.8902 - val_loss: 0.7190 - val_accuracy: 0.8480\n",
            "Epoch 37/79\n",
            "1563/1563 [==============================] - 10s 6ms/step - loss: 0.5540 - accuracy: 0.8914 - val_loss: 0.6896 - val_accuracy: 0.8555\n",
            "Epoch 38/79\n",
            "1563/1563 [==============================] - 10s 7ms/step - loss: 0.5511 - accuracy: 0.8929 - val_loss: 0.7298 - val_accuracy: 0.8410\n",
            "Epoch 39/79\n",
            "1563/1563 [==============================] - 10s 6ms/step - loss: 0.5502 - accuracy: 0.8928 - val_loss: 0.7096 - val_accuracy: 0.8516\n",
            "Epoch 40/79\n",
            "1563/1563 [==============================] - 10s 7ms/step - loss: 0.5484 - accuracy: 0.8929 - val_loss: 0.7112 - val_accuracy: 0.8473\n",
            "Epoch 41/79\n",
            "1563/1563 [==============================] - 10s 6ms/step - loss: 0.5490 - accuracy: 0.8913 - val_loss: 0.7333 - val_accuracy: 0.8461\n",
            "Epoch 42/79\n",
            "1563/1563 [==============================] - 10s 7ms/step - loss: 0.5415 - accuracy: 0.8951 - val_loss: 0.7865 - val_accuracy: 0.8349\n",
            "Epoch 43/79\n",
            "1563/1563 [==============================] - 10s 7ms/step - loss: 0.5487 - accuracy: 0.8926 - val_loss: 0.7232 - val_accuracy: 0.8508\n",
            "Epoch 44/79\n",
            "1563/1563 [==============================] - 10s 6ms/step - loss: 0.5477 - accuracy: 0.8942 - val_loss: 0.7058 - val_accuracy: 0.8523\n",
            "Epoch 45/79\n",
            "1563/1563 [==============================] - 10s 6ms/step - loss: 0.5430 - accuracy: 0.8962 - val_loss: 0.6974 - val_accuracy: 0.8547\n",
            "Epoch 46/79\n",
            "1563/1563 [==============================] - 10s 7ms/step - loss: 0.5422 - accuracy: 0.8969 - val_loss: 0.7162 - val_accuracy: 0.8502\n",
            "Epoch 47/79\n",
            "1563/1563 [==============================] - 10s 7ms/step - loss: 0.5448 - accuracy: 0.8959 - val_loss: 0.7259 - val_accuracy: 0.8476\n",
            "Epoch 48/79\n",
            "1563/1563 [==============================] - 11s 7ms/step - loss: 0.5401 - accuracy: 0.8968 - val_loss: 0.7656 - val_accuracy: 0.8360\n",
            "Epoch 49/79\n",
            "1563/1563 [==============================] - 10s 7ms/step - loss: 0.5426 - accuracy: 0.8947 - val_loss: 0.6773 - val_accuracy: 0.8598\n",
            "Epoch 50/79\n",
            "1563/1563 [==============================] - 10s 7ms/step - loss: 0.5396 - accuracy: 0.8974 - val_loss: 0.7407 - val_accuracy: 0.8477\n",
            "Epoch 51/79\n",
            "1563/1563 [==============================] - 10s 7ms/step - loss: 0.5369 - accuracy: 0.8977 - val_loss: 0.6893 - val_accuracy: 0.8562\n",
            "Epoch 52/79\n",
            "1563/1563 [==============================] - 10s 7ms/step - loss: 0.5392 - accuracy: 0.8972 - val_loss: 0.6914 - val_accuracy: 0.8587\n",
            "Epoch 53/79\n",
            "1563/1563 [==============================] - 10s 7ms/step - loss: 0.5402 - accuracy: 0.8987 - val_loss: 0.7372 - val_accuracy: 0.8470\n",
            "Epoch 54/79\n",
            "1563/1563 [==============================] - 10s 7ms/step - loss: 0.5370 - accuracy: 0.8986 - val_loss: 0.7167 - val_accuracy: 0.8500\n",
            "Epoch 55/79\n",
            "1563/1563 [==============================] - 10s 7ms/step - loss: 0.5414 - accuracy: 0.8959 - val_loss: 0.7125 - val_accuracy: 0.8544\n",
            "Epoch 56/79\n",
            "1563/1563 [==============================] - 10s 7ms/step - loss: 0.5396 - accuracy: 0.8973 - val_loss: 0.6894 - val_accuracy: 0.8576\n",
            "Epoch 57/79\n",
            "1563/1563 [==============================] - 10s 7ms/step - loss: 0.5344 - accuracy: 0.9007 - val_loss: 0.7262 - val_accuracy: 0.8486\n",
            "Epoch 58/79\n",
            "1563/1563 [==============================] - 10s 7ms/step - loss: 0.5390 - accuracy: 0.8978 - val_loss: 0.6954 - val_accuracy: 0.8560\n",
            "Epoch 59/79\n",
            "1563/1563 [==============================] - 10s 7ms/step - loss: 0.5336 - accuracy: 0.9001 - val_loss: 0.6953 - val_accuracy: 0.8595\n",
            "Epoch 60/79\n",
            "1563/1563 [==============================] - 10s 7ms/step - loss: 0.5341 - accuracy: 0.9011 - val_loss: 0.6976 - val_accuracy: 0.8559\n",
            "Epoch 61/79\n",
            "1563/1563 [==============================] - 11s 7ms/step - loss: 0.5327 - accuracy: 0.9006 - val_loss: 0.6936 - val_accuracy: 0.8540\n",
            "Epoch 62/79\n",
            "1563/1563 [==============================] - 11s 7ms/step - loss: 0.5328 - accuracy: 0.9004 - val_loss: 0.6797 - val_accuracy: 0.8572\n",
            "Epoch 63/79\n",
            "1563/1563 [==============================] - 10s 7ms/step - loss: 0.5331 - accuracy: 0.9007 - val_loss: 0.7423 - val_accuracy: 0.8529\n",
            "Epoch 64/79\n",
            "1563/1563 [==============================] - 10s 7ms/step - loss: 0.5287 - accuracy: 0.9030 - val_loss: 0.7125 - val_accuracy: 0.8547\n",
            "Epoch 65/79\n",
            "1563/1563 [==============================] - 10s 7ms/step - loss: 0.5303 - accuracy: 0.9018 - val_loss: 0.7241 - val_accuracy: 0.8471\n",
            "Epoch 66/79\n",
            "1563/1563 [==============================] - 10s 7ms/step - loss: 0.5303 - accuracy: 0.9013 - val_loss: 0.7500 - val_accuracy: 0.8454\n",
            "Epoch 67/79\n",
            "1563/1563 [==============================] - 10s 7ms/step - loss: 0.5330 - accuracy: 0.9008 - val_loss: 0.7082 - val_accuracy: 0.8568\n",
            "Epoch 68/79\n",
            "1563/1563 [==============================] - 10s 7ms/step - loss: 0.5278 - accuracy: 0.9033 - val_loss: 0.7164 - val_accuracy: 0.8500\n",
            "Epoch 69/79\n",
            "1563/1563 [==============================] - 10s 7ms/step - loss: 0.5284 - accuracy: 0.9031 - val_loss: 0.6850 - val_accuracy: 0.8641\n",
            "Epoch 70/79\n",
            "1563/1563 [==============================] - 10s 7ms/step - loss: 0.5296 - accuracy: 0.9017 - val_loss: 0.7508 - val_accuracy: 0.8481\n",
            "Epoch 71/79\n",
            "1563/1563 [==============================] - 10s 7ms/step - loss: 0.5285 - accuracy: 0.9032 - val_loss: 0.6896 - val_accuracy: 0.8576\n",
            "Epoch 72/79\n",
            "1563/1563 [==============================] - 10s 7ms/step - loss: 0.5309 - accuracy: 0.9032 - val_loss: 0.7277 - val_accuracy: 0.8538\n",
            "Epoch 73/79\n",
            "1563/1563 [==============================] - 10s 7ms/step - loss: 0.5243 - accuracy: 0.9043 - val_loss: 0.7109 - val_accuracy: 0.8573\n",
            "Epoch 74/79\n",
            "1563/1563 [==============================] - 10s 7ms/step - loss: 0.5275 - accuracy: 0.9026 - val_loss: 0.6924 - val_accuracy: 0.8567\n",
            "Epoch 75/79\n",
            "1563/1563 [==============================] - 10s 7ms/step - loss: 0.5246 - accuracy: 0.9042 - val_loss: 0.7149 - val_accuracy: 0.8489\n",
            "Epoch 76/79\n",
            "1563/1563 [==============================] - 10s 6ms/step - loss: 0.5253 - accuracy: 0.9041 - val_loss: 0.7259 - val_accuracy: 0.8492\n",
            "Epoch 77/79\n",
            "1563/1563 [==============================] - 10s 7ms/step - loss: 0.5316 - accuracy: 0.9012 - val_loss: 0.7005 - val_accuracy: 0.8622\n",
            "Epoch 78/79\n",
            "1563/1563 [==============================] - 11s 7ms/step - loss: 0.5238 - accuracy: 0.9038 - val_loss: 0.6881 - val_accuracy: 0.8596\n",
            "Epoch 79/79\n",
            "1563/1563 [==============================] - 10s 7ms/step - loss: 0.5277 - accuracy: 0.9022 - val_loss: 0.6948 - val_accuracy: 0.8604\n"
          ],
          "name": "stdout"
        }
      ]
    },
    {
      "cell_type": "code",
      "metadata": {
        "colab": {
          "base_uri": "https://localhost:8080/",
          "height": 313
        },
        "id": "CM08QBL8IwV9",
        "outputId": "8a7c0fa8-0199-47ef-f23a-6c7dd0a45be7"
      },
      "source": [
        "# Plot loass and accuracy\r\n",
        "# Plot training & validation accuracy values\r\n",
        "epochs = epoch\r\n",
        "loss_list = [100 * i for i in hist.history['loss']]\r\n",
        "acc_list = [100 * i for i in hist.history['accuracy']]\r\n",
        "plt.plot(range(1,epochs+1),loss_list) \r\n",
        "plt.plot(range(1,epochs+1),acc_list) \r\n",
        "plt.title('Model loss & accuracy')\r\n",
        "plt.ylabel('Accuracy (%)')\r\n",
        "plt.xlabel('Epoch')\r\n",
        "plt.legend(['loss', 'accuracy'], loc='center left')"
      ],
      "execution_count": null,
      "outputs": [
        {
          "output_type": "execute_result",
          "data": {
            "text/plain": [
              "<matplotlib.legend.Legend at 0x7f9228930b00>"
            ]
          },
          "metadata": {
            "tags": []
          },
          "execution_count": 168
        },
        {
          "output_type": "display_data",
          "data": {
            "image/png": "[encoded data removed]",
            "text/plain": [
              "<Figure size 432x288 with 1 Axes>"
            ]
          },
          "metadata": {
            "tags": [],
            "needs_background": "light"
          }
        }
      ]
    },
    {
      "cell_type": "code",
      "metadata": {
        "id": "Ixj8cvVkIwSP"
      },
      "source": [
        "vloss_list = [100 * i for i in hist.history['val_loss']]\r\n",
        "vacc_list = [100 * i for i in hist.history['val_accuracy']]"
      ],
      "execution_count": null,
      "outputs": []
    },
    {
      "cell_type": "code",
      "metadata": {
        "colab": {
          "base_uri": "https://localhost:8080/",
          "height": 313
        },
        "id": "JgjnjmGUIwOi",
        "outputId": "da1a7d0b-67a5-4858-fd2a-41a75763fc5b"
      },
      "source": [
        "plt.plot(range(1,epochs+1),vloss_list)  \r\n",
        "plt.plot(range(1,epochs+1),vacc_list)  \r\n",
        "plt.title('Model val_loss & val_accuracy')\r\n",
        "plt.ylabel('Accuracy (%)')\r\n",
        "plt.xlabel('Epoch')\r\n",
        "plt.legend(['val_loss', 'val_accuracy'], loc='center left')"
      ],
      "execution_count": null,
      "outputs": [
        {
          "output_type": "execute_result",
          "data": {
            "text/plain": [
              "<matplotlib.legend.Legend at 0x7f92289013c8>"
            ]
          },
          "metadata": {
            "tags": []
          },
          "execution_count": 170
        },
        {
          "output_type": "display_data",
          "data": {
            "image/png": "[encoded data removed]",
            "text/plain": [
              "<Figure size 432x288 with 1 Axes>"
            ]
          },
          "metadata": {
            "tags": [],
            "needs_background": "light"
          }
        }
      ]
    },
    {
      "cell_type": "code",
      "metadata": {
        "colab": {
          "base_uri": "https://localhost:8080/",
          "height": 313
        },
        "id": "aKIQ5m9sIwJs",
        "outputId": "74bfee83-2c90-43c6-82c3-1397bc8744d2"
      },
      "source": [
        "plt.plot(range(1,epochs+1),acc_list)  \r\n",
        "plt.plot(range(1,epochs+1),vacc_list)  \r\n",
        "plt.plot(np.argmax(np.array(vacc_list))+1,vacc_list[np.argmax(np.array(vacc_list))], 'r*') \r\n",
        "plt.title('accuracy vs. val_accuracy, best = ' +str(vacc_list[np.argmax(np.array(vacc_list))]))\r\n",
        "plt.ylabel('Accuracy (%)')\r\n",
        "plt.xlabel('Epoch')\r\n",
        "plt.legend(['accuracy','val_accuracy','best']) #, loc='center bottom')"
      ],
      "execution_count": null,
      "outputs": [
        {
          "output_type": "execute_result",
          "data": {
            "text/plain": [
              "<matplotlib.legend.Legend at 0x7f9228087fd0>"
            ]
          },
          "metadata": {
            "tags": []
          },
          "execution_count": 171
        },
        {
          "output_type": "display_data",
          "data": {
            "image/png": "[encoded data removed]",
            "text/plain": [
              "<Figure size 432x288 with 1 Axes>"
            ]
          },
          "metadata": {
            "tags": [],
            "needs_background": "light"
          }
        }
      ]
    },
    {
      "cell_type": "markdown",
      "metadata": {
        "id": "UqsWUFwzZcVj"
      },
      "source": [
        "###**모형의 저장**\r\n",
        "* 트레이닝이 끝난 모형은 save 메서드로 가중치와 함께 hdf5 형식으로 저장\r\n",
        "* load 명령으로 불러 사용\r\n",
        "\r\n",
        "cifar10_final_best_weights.054-0.8624.hdf5"
      ]
    },
    {
      "cell_type": "code",
      "metadata": {
        "id": "emeSDtWeIwD8"
      },
      "source": [
        "# c2f2.save('fmnist_cnn_best.hdf5')"
      ],
      "execution_count": null,
      "outputs": []
    },
    {
      "cell_type": "code",
      "metadata": {
        "colab": {
          "base_uri": "https://localhost:8080/"
        },
        "id": "s-lIYledIv9X",
        "outputId": "e4dd5d03-7a02-43a4-8d0c-b7c79a65efc4"
      },
      "source": [
        "from keras.models import load_model\r\n",
        "\r\n",
        "model = load_model('cifar10_final_best_weights.054-0.8624.hdf5')\r\n",
        "model.evaluate(X_test, y_test, batch_size=32)"
      ],
      "execution_count": null,
      "outputs": [
        {
          "output_type": "stream",
          "text": [
            "313/313 [==============================] - 1s 4ms/step - loss: 0.6792 - accuracy: 0.8624\n"
          ],
          "name": "stdout"
        },
        {
          "output_type": "execute_result",
          "data": {
            "text/plain": [
              "[0.6792362928390503, 0.8623999953269958]"
            ]
          },
          "metadata": {
            "tags": []
          },
          "execution_count": 172
        }
      ]
    },
    {
      "cell_type": "markdown",
      "metadata": {
        "id": "VOV9XKgSaDUO"
      },
      "source": [
        "##**Confusion matrix**"
      ]
    },
    {
      "cell_type": "code",
      "metadata": {
        "id": "snnCWRtSZ8tU"
      },
      "source": [
        "from sklearn.metrics import confusion_matrix\r\n",
        "import seaborn as sns"
      ],
      "execution_count": null,
      "outputs": []
    },
    {
      "cell_type": "code",
      "metadata": {
        "id": "1pCdotZFZ_Uh"
      },
      "source": [
        "predictions = model.predict(X_test)"
      ],
      "execution_count": null,
      "outputs": []
    },
    {
      "cell_type": "code",
      "metadata": {
        "colab": {
          "base_uri": "https://localhost:8080/"
        },
        "id": "VJvIiMoXZ8eR",
        "outputId": "2b303262-0acb-4178-8f67-797a0d87c77e"
      },
      "source": [
        "predictions.shape"
      ],
      "execution_count": null,
      "outputs": [
        {
          "output_type": "execute_result",
          "data": {
            "text/plain": [
              "(10000, 10)"
            ]
          },
          "metadata": {
            "tags": []
          },
          "execution_count": 174
        }
      ]
    },
    {
      "cell_type": "code",
      "metadata": {
        "colab": {
          "base_uri": "https://localhost:8080/"
        },
        "id": "ElnkmcysZ8Kr",
        "outputId": "eeb655b5-f614-48b5-b335-1162a92bda45"
      },
      "source": [
        "predictions0 = np.argmax(predictions, axis=1)\r\n",
        "predictions0.shape"
      ],
      "execution_count": null,
      "outputs": [
        {
          "output_type": "execute_result",
          "data": {
            "text/plain": [
              "(10000,)"
            ]
          },
          "metadata": {
            "tags": []
          },
          "execution_count": 175
        }
      ]
    },
    {
      "cell_type": "code",
      "metadata": {
        "id": "FQcXaTvhaJ70"
      },
      "source": [
        "cm = confusion_matrix(y_test0, predictions0)"
      ],
      "execution_count": null,
      "outputs": []
    },
    {
      "cell_type": "code",
      "metadata": {
        "id": "rlG-ySrfaJtL"
      },
      "source": [
        "class_names = ['airplane', 'automobile', 'bird', 'cat', 'deer', 'dog', 'frog', 'horse', 'ship', 'truck']"
      ],
      "execution_count": null,
      "outputs": []
    },
    {
      "cell_type": "code",
      "metadata": {
        "colab": {
          "base_uri": "https://localhost:8080/",
          "height": 551
        },
        "id": "DGgQIRDqaMyZ",
        "outputId": "cc69194d-ca7b-4db9-f717-e34d017a1b1a"
      },
      "source": [
        "plt.figure(figsize=(9,9))\r\n",
        "sns.heatmap(cm, cbar=False, xticklabels=class_names, yticklabels=class_names, fmt='d', annot=True, cmap=plt.cm.coolwarm)\r\n",
        "plt.xlabel('Predicted')\r\n",
        "plt.ylabel('Actual')\r\n",
        "plt.show()"
      ],
      "execution_count": null,
      "outputs": [
        {
          "output_type": "display_data",
          "data": {
            "image/png": "[encoded data removed]",
            "text/plain": [
              "<Figure size 648x648 with 1 Axes>"
            ]
          },
          "metadata": {
            "tags": [],
            "needs_background": "light"
          }
        }
      ]
    },
    {
      "cell_type": "markdown",
      "metadata": {
        "id": "zB-d6w_Gaanp"
      },
      "source": [
        "#**model predict**"
      ]
    },
    {
      "cell_type": "code",
      "metadata": {
        "colab": {
          "base_uri": "https://localhost:8080/",
          "height": 1000
        },
        "id": "KdSaBoOBaMe5",
        "outputId": "a8685eaa-ff0c-40df-c51f-6d22b5775125"
      },
      "source": [
        "class_names = ['airplane', 'automobile', 'bird', 'cat', 'deer', 'dog', 'frog', 'horse', 'ship', 'truck']\r\n",
        "\r\n",
        "plt.rcParams[\"figure.figsize\"] = (2,2)\r\n",
        "# 10 test set\r\n",
        "for i in range(20):\r\n",
        "  output = model.predict(X_test[i].reshape(1,32, 32, 3))\r\n",
        "\r\n",
        "  # show image\r\n",
        "  plt.imshow(X_test[i].reshape(32, 32, 3))\r\n",
        "  print('predict: ' + class_names[np.argmax(output)] + ' / outcome: ' + class_names[np.argmax(y_test[i])])\r\n",
        "  plt.xticks([])\r\n",
        "  plt.yticks([])\r\n",
        "  plt.show()"
      ],
      "execution_count": null,
      "outputs": [
        {
          "output_type": "stream",
          "text": [
            "predict: cat / outcome: cat\n"
          ],
          "name": "stdout"
        },
        {
          "output_type": "display_data",
          "data": {
            "image/png": "[encoded data removed]",
            "text/plain": [
              "<Figure size 144x144 with 1 Axes>"
            ]
          },
          "metadata": {
            "tags": []
          }
        },
        {
          "output_type": "stream",
          "text": [
            "predict: ship / outcome: ship\n"
          ],
          "name": "stdout"
        },
        {
          "output_type": "display_data",
          "data": {
            "image/png": "[encoded data removed]",
            "text/plain": [
              "<Figure size 144x144 with 1 Axes>"
            ]
          },
          "metadata": {
            "tags": []
          }
        },
        {
          "output_type": "stream",
          "text": [
            "predict: ship / outcome: ship\n"
          ],
          "name": "stdout"
        },
        {
          "output_type": "display_data",
          "data": {
            "image/png": "[encoded data removed]",
            "text/plain": [
              "<Figure size 144x144 with 1 Axes>"
            ]
          },
          "metadata": {
            "tags": []
          }
        },
        {
          "output_type": "stream",
          "text": [
            "predict: airplane / outcome: airplane\n"
          ],
          "name": "stdout"
        },
        {
          "output_type": "display_data",
          "data": {
            "image/png": "[encoded data removed]",
            "text/plain": [
              "<Figure size 144x144 with 1 Axes>"
            ]
          },
          "metadata": {
            "tags": []
          }
        },
        {
          "output_type": "stream",
          "text": [
            "predict: frog / outcome: frog\n"
          ],
          "name": "stdout"
        },
        {
          "output_type": "display_data",
          "data": {
            "image/png": "[encoded data removed]",
            "text/plain": [
              "<Figure size 144x144 with 1 Axes>"
            ]
          },
          "metadata": {
            "tags": []
          }
        },
        {
          "output_type": "stream",
          "text": [
            "predict: frog / outcome: frog\n"
          ],
          "name": "stdout"
        },
        {
          "output_type": "display_data",
          "data": {
            "image/png": "[encoded data removed]",
            "text/plain": [
              "<Figure size 144x144 with 1 Axes>"
            ]
          },
          "metadata": {
            "tags": []
          }
        },
        {
          "output_type": "stream",
          "text": [
            "predict: automobile / outcome: automobile\n"
          ],
          "name": "stdout"
        },
        {
          "output_type": "display_data",
          "data": {
            "image/png": "[encoded data removed]",
            "text/plain": [
              "<Figure size 144x144 with 1 Axes>"
            ]
          },
          "metadata": {
            "tags": []
          }
        },
        {
          "output_type": "stream",
          "text": [
            "predict: frog / outcome: frog\n"
          ],
          "name": "stdout"
        },
        {
          "output_type": "display_data",
          "data": {
            "image/png": "[encoded data removed]",
            "text/plain": [
              "<Figure size 144x144 with 1 Axes>"
            ]
          },
          "metadata": {
            "tags": []
          }
        },
        {
          "output_type": "stream",
          "text": [
            "predict: cat / outcome: cat\n"
          ],
          "name": "stdout"
        },
        {
          "output_type": "display_data",
          "data": {
            "image/png": "[encoded data removed]",
            "text/plain": [
              "<Figure size 144x144 with 1 Axes>"
            ]
          },
          "metadata": {
            "tags": []
          }
        },
        {
          "output_type": "stream",
          "text": [
            "predict: automobile / outcome: automobile\n"
          ],
          "name": "stdout"
        },
        {
          "output_type": "display_data",
          "data": {
            "image/png": "[encoded data removed]",
            "text/plain": [
              "<Figure size 144x144 with 1 Axes>"
            ]
          },
          "metadata": {
            "tags": []
          }
        },
        {
          "output_type": "stream",
          "text": [
            "predict: airplane / outcome: airplane\n"
          ],
          "name": "stdout"
        },
        {
          "output_type": "display_data",
          "data": {
            "image/png": "[encoded data removed]",
            "text/plain": [
              "<Figure size 144x144 with 1 Axes>"
            ]
          },
          "metadata": {
            "tags": []
          }
        },
        {
          "output_type": "stream",
          "text": [
            "predict: truck / outcome: truck\n"
          ],
          "name": "stdout"
        },
        {
          "output_type": "display_data",
          "data": {
            "image/png": "[encoded data removed]",
            "text/plain": [
              "<Figure size 144x144 with 1 Axes>"
            ]
          },
          "metadata": {
            "tags": []
          }
        },
        {
          "output_type": "stream",
          "text": [
            "predict: dog / outcome: dog\n"
          ],
          "name": "stdout"
        },
        {
          "output_type": "display_data",
          "data": {
            "image/png": "[encoded data removed]",
            "text/plain": [
              "<Figure size 144x144 with 1 Axes>"
            ]
          },
          "metadata": {
            "tags": []
          }
        },
        {
          "output_type": "stream",
          "text": [
            "predict: horse / outcome: horse\n"
          ],
          "name": "stdout"
        },
        {
          "output_type": "display_data",
          "data": {
            "image/png": "[encoded data removed]",
            "text/plain": [
              "<Figure size 144x144 with 1 Axes>"
            ]
          },
          "metadata": {
            "tags": []
          }
        },
        {
          "output_type": "stream",
          "text": [
            "predict: truck / outcome: truck\n"
          ],
          "name": "stdout"
        },
        {
          "output_type": "display_data",
          "data": {
            "image/png": "[encoded data removed]",
            "text/plain": [
              "<Figure size 144x144 with 1 Axes>"
            ]
          },
          "metadata": {
            "tags": []
          }
        },
        {
          "output_type": "stream",
          "text": [
            "predict: ship / outcome: ship\n"
          ],
          "name": "stdout"
        },
        {
          "output_type": "display_data",
          "data": {
            "image/png": "[encoded data removed]",
            "text/plain": [
              "<Figure size 144x144 with 1 Axes>"
            ]
          },
          "metadata": {
            "tags": []
          }
        },
        {
          "output_type": "stream",
          "text": [
            "predict: dog / outcome: dog\n"
          ],
          "name": "stdout"
        },
        {
          "output_type": "display_data",
          "data": {
            "image/png": "[encoded data removed]",
            "text/plain": [
              "<Figure size 144x144 with 1 Axes>"
            ]
          },
          "metadata": {
            "tags": []
          }
        },
        {
          "output_type": "stream",
          "text": [
            "predict: horse / outcome: horse\n"
          ],
          "name": "stdout"
        },
        {
          "output_type": "display_data",
          "data": {
            "image/png": "[encoded data removed]",
            "text/plain": [
              "<Figure size 144x144 with 1 Axes>"
            ]
          },
          "metadata": {
            "tags": []
          }
        },
        {
          "output_type": "stream",
          "text": [
            "predict: ship / outcome: ship\n"
          ],
          "name": "stdout"
        },
        {
          "output_type": "display_data",
          "data": {
            "image/png": "[encoded data removed]",
            "text/plain": [
              "<Figure size 144x144 with 1 Axes>"
            ]
          },
          "metadata": {
            "tags": []
          }
        },
        {
          "output_type": "stream",
          "text": [
            "predict: frog / outcome: frog\n"
          ],
          "name": "stdout"
        },
        {
          "output_type": "display_data",
          "data": {
            "image/png": "[encoded data removed]",
            "text/plain": [
              "<Figure size 144x144 with 1 Axes>"
            ]
          },
          "metadata": {
            "tags": []
          }
        }
      ]
    }
  ]
}