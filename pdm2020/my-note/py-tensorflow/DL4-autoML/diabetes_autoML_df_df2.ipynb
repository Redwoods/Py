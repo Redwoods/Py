{
  "nbformat": 4,
  "nbformat_minor": 0,
  "metadata": {
    "accelerator": "GPU",
    "colab": {
      "name": "diabetes_autoML_df_df2.ipynb",
      "provenance": [],
      "collapsed_sections": [
        "edL3BuYVz-x7"
      ],
      "include_colab_link": true
    },
    "interpreter": {
      "hash": "3834ce636a3ba6c6c2bd8b9b527c48eede78c367f849f6cce666ea7f1d26e2fb"
    },
    "kernelspec": {
      "display_name": "Python 3.8.5 64-bit ('base': conda)",
      "name": "python3"
    },
    "language_info": {
      "codemirror_mode": {
        "name": "ipython",
        "version": 3
      },
      "file_extension": ".py",
      "mimetype": "text/x-python",
      "name": "python",
      "nbconvert_exporter": "python",
      "pygments_lexer": "ipython3",
      "version": "3.8.5"
    },
    "widgets": {
      "application/vnd.jupyter.widget-state+json": {
        "cd23509d7f02408089e1e22483dd2b4f": {
          "model_module": "@jupyter-widgets/controls",
          "model_name": "IntProgressModel",
          "model_module_version": "1.5.0",
          "state": {
            "_dom_classes": [],
            "_model_module": "@jupyter-widgets/controls",
            "_model_module_version": "1.5.0",
            "_model_name": "IntProgressModel",
            "_view_count": null,
            "_view_module": "@jupyter-widgets/controls",
            "_view_module_version": "1.5.0",
            "_view_name": "ProgressView",
            "bar_style": "",
            "description": "Processing: ",
            "description_tooltip": null,
            "layout": "IPY_MODEL_bfc3d6b2f8d14da79561546291f25ed9",
            "max": 3,
            "min": 0,
            "orientation": "horizontal",
            "style": "IPY_MODEL_61fcdfb0ffe84d2d8472f8d8a9aade74",
            "value": 3
          }
        },
        "61fcdfb0ffe84d2d8472f8d8a9aade74": {
          "model_module": "@jupyter-widgets/controls",
          "model_name": "ProgressStyleModel",
          "model_module_version": "1.5.0",
          "state": {
            "_model_module": "@jupyter-widgets/controls",
            "_model_module_version": "1.5.0",
            "_model_name": "ProgressStyleModel",
            "_view_count": null,
            "_view_module": "@jupyter-widgets/base",
            "_view_module_version": "1.2.0",
            "_view_name": "StyleView",
            "bar_color": null,
            "description_width": ""
          }
        },
        "bfc3d6b2f8d14da79561546291f25ed9": {
          "model_module": "@jupyter-widgets/base",
          "model_name": "LayoutModel",
          "model_module_version": "1.2.0",
          "state": {
            "_model_module": "@jupyter-widgets/base",
            "_model_module_version": "1.2.0",
            "_model_name": "LayoutModel",
            "_view_count": null,
            "_view_module": "@jupyter-widgets/base",
            "_view_module_version": "1.2.0",
            "_view_name": "LayoutView",
            "align_content": null,
            "align_items": null,
            "align_self": null,
            "border": null,
            "bottom": null,
            "display": null,
            "flex": null,
            "flex_flow": null,
            "grid_area": null,
            "grid_auto_columns": null,
            "grid_auto_flow": null,
            "grid_auto_rows": null,
            "grid_column": null,
            "grid_gap": null,
            "grid_row": null,
            "grid_template_areas": null,
            "grid_template_columns": null,
            "grid_template_rows": null,
            "height": null,
            "justify_content": null,
            "justify_items": null,
            "left": null,
            "margin": null,
            "max_height": null,
            "max_width": null,
            "min_height": null,
            "min_width": null,
            "object_fit": null,
            "object_position": null,
            "order": null,
            "overflow": null,
            "overflow_x": null,
            "overflow_y": null,
            "padding": null,
            "right": null,
            "top": null,
            "visibility": null,
            "width": null
          }
        },
        "dfc728fda17547aeb5ad2d3472058ced": {
          "model_module": "@jupyter-widgets/controls",
          "model_name": "IntProgressModel",
          "model_module_version": "1.5.0",
          "state": {
            "_dom_classes": [],
            "_model_module": "@jupyter-widgets/controls",
            "_model_module_version": "1.5.0",
            "_model_name": "IntProgressModel",
            "_view_count": null,
            "_view_module": "@jupyter-widgets/controls",
            "_view_module_version": "1.5.0",
            "_view_name": "ProgressView",
            "bar_style": "",
            "description": "Processing: ",
            "description_tooltip": null,
            "layout": "IPY_MODEL_eac6d1c2642d47e68750aa1a2fae53f3",
            "max": 69,
            "min": 0,
            "orientation": "horizontal",
            "style": "IPY_MODEL_06c73a7a24b243d9855eac7952f80c00",
            "value": 69
          }
        },
        "06c73a7a24b243d9855eac7952f80c00": {
          "model_module": "@jupyter-widgets/controls",
          "model_name": "ProgressStyleModel",
          "model_module_version": "1.5.0",
          "state": {
            "_model_module": "@jupyter-widgets/controls",
            "_model_module_version": "1.5.0",
            "_model_name": "ProgressStyleModel",
            "_view_count": null,
            "_view_module": "@jupyter-widgets/base",
            "_view_module_version": "1.2.0",
            "_view_name": "StyleView",
            "bar_color": null,
            "description_width": ""
          }
        },
        "eac6d1c2642d47e68750aa1a2fae53f3": {
          "model_module": "@jupyter-widgets/base",
          "model_name": "LayoutModel",
          "model_module_version": "1.2.0",
          "state": {
            "_model_module": "@jupyter-widgets/base",
            "_model_module_version": "1.2.0",
            "_model_name": "LayoutModel",
            "_view_count": null,
            "_view_module": "@jupyter-widgets/base",
            "_view_module_version": "1.2.0",
            "_view_name": "LayoutView",
            "align_content": null,
            "align_items": null,
            "align_self": null,
            "border": null,
            "bottom": null,
            "display": null,
            "flex": null,
            "flex_flow": null,
            "grid_area": null,
            "grid_auto_columns": null,
            "grid_auto_flow": null,
            "grid_auto_rows": null,
            "grid_column": null,
            "grid_gap": null,
            "grid_row": null,
            "grid_template_areas": null,
            "grid_template_columns": null,
            "grid_template_rows": null,
            "height": null,
            "justify_content": null,
            "justify_items": null,
            "left": null,
            "margin": null,
            "max_height": null,
            "max_width": null,
            "min_height": null,
            "min_width": null,
            "object_fit": null,
            "object_position": null,
            "order": null,
            "overflow": null,
            "overflow_x": null,
            "overflow_y": null,
            "padding": null,
            "right": null,
            "top": null,
            "visibility": null,
            "width": null
          }
        },
        "58265e4e75514ecb9300bcef297e2ab0": {
          "model_module": "@jupyter-widgets/controls",
          "model_name": "IntProgressModel",
          "model_module_version": "1.5.0",
          "state": {
            "_dom_classes": [],
            "_model_module": "@jupyter-widgets/controls",
            "_model_module_version": "1.5.0",
            "_model_name": "IntProgressModel",
            "_view_count": null,
            "_view_module": "@jupyter-widgets/controls",
            "_view_module_version": "1.5.0",
            "_view_name": "ProgressView",
            "bar_style": "",
            "description": "Processing: ",
            "description_tooltip": null,
            "layout": "IPY_MODEL_9671bebe317a40659f740281cb681092",
            "max": 4,
            "min": 0,
            "orientation": "horizontal",
            "style": "IPY_MODEL_a421ba9cc2c94b3989b0736909dc01b6",
            "value": 4
          }
        },
        "a421ba9cc2c94b3989b0736909dc01b6": {
          "model_module": "@jupyter-widgets/controls",
          "model_name": "ProgressStyleModel",
          "model_module_version": "1.5.0",
          "state": {
            "_model_module": "@jupyter-widgets/controls",
            "_model_module_version": "1.5.0",
            "_model_name": "ProgressStyleModel",
            "_view_count": null,
            "_view_module": "@jupyter-widgets/base",
            "_view_module_version": "1.2.0",
            "_view_name": "StyleView",
            "bar_color": null,
            "description_width": ""
          }
        },
        "9671bebe317a40659f740281cb681092": {
          "model_module": "@jupyter-widgets/base",
          "model_name": "LayoutModel",
          "model_module_version": "1.2.0",
          "state": {
            "_model_module": "@jupyter-widgets/base",
            "_model_module_version": "1.2.0",
            "_model_name": "LayoutModel",
            "_view_count": null,
            "_view_module": "@jupyter-widgets/base",
            "_view_module_version": "1.2.0",
            "_view_name": "LayoutView",
            "align_content": null,
            "align_items": null,
            "align_self": null,
            "border": null,
            "bottom": null,
            "display": null,
            "flex": null,
            "flex_flow": null,
            "grid_area": null,
            "grid_auto_columns": null,
            "grid_auto_flow": null,
            "grid_auto_rows": null,
            "grid_column": null,
            "grid_gap": null,
            "grid_row": null,
            "grid_template_areas": null,
            "grid_template_columns": null,
            "grid_template_rows": null,
            "height": null,
            "justify_content": null,
            "justify_items": null,
            "left": null,
            "margin": null,
            "max_height": null,
            "max_width": null,
            "min_height": null,
            "min_width": null,
            "object_fit": null,
            "object_position": null,
            "order": null,
            "overflow": null,
            "overflow_x": null,
            "overflow_y": null,
            "padding": null,
            "right": null,
            "top": null,
            "visibility": null,
            "width": null
          }
        },
        "69a6b09ca22944279c67a267fcee21b4": {
          "model_module": "@jupyter-widgets/controls",
          "model_name": "IntProgressModel",
          "model_module_version": "1.5.0",
          "state": {
            "_dom_classes": [],
            "_model_module": "@jupyter-widgets/controls",
            "_model_module_version": "1.5.0",
            "_model_name": "IntProgressModel",
            "_view_count": null,
            "_view_module": "@jupyter-widgets/controls",
            "_view_module_version": "1.5.0",
            "_view_name": "ProgressView",
            "bar_style": "",
            "description": "Processing: ",
            "description_tooltip": null,
            "layout": "IPY_MODEL_d1905f2656314cb29b78d9b7b615564f",
            "max": 5,
            "min": 0,
            "orientation": "horizontal",
            "style": "IPY_MODEL_8cd70b7b5d3640a0973854fd9daa4c4b",
            "value": 5
          }
        },
        "e89bb956d6274c4ea2441690acb725fa": {
          "model_module": "@jupyter-widgets/controls",
          "model_name": "IntProgressModel",
          "model_module_version": "1.5.0",
          "state": {
            "_dom_classes": [],
            "_model_module": "@jupyter-widgets/controls",
            "_model_module_version": "1.5.0",
            "_model_name": "IntProgressModel",
            "_view_count": null,
            "_view_module": "@jupyter-widgets/controls",
            "_view_module_version": "1.5.0",
            "_view_name": "ProgressView",
            "bar_style": "",
            "description": "Processing: ",
            "description_tooltip": null,
            "layout": "IPY_MODEL_c90f2421feb94d2ebae4fd2064554f57",
            "max": 4,
            "min": 0,
            "orientation": "horizontal",
            "style": "IPY_MODEL_b888195dc300475d8a365ef8df868e60",
            "value": 4
          }
        },
        "b888195dc300475d8a365ef8df868e60": {
          "model_module": "@jupyter-widgets/controls",
          "model_name": "ProgressStyleModel",
          "model_module_version": "1.5.0",
          "state": {
            "_model_module": "@jupyter-widgets/controls",
            "_model_module_version": "1.5.0",
            "_model_name": "ProgressStyleModel",
            "_view_count": null,
            "_view_module": "@jupyter-widgets/base",
            "_view_module_version": "1.2.0",
            "_view_name": "StyleView",
            "bar_color": null,
            "description_width": ""
          }
        },
        "c90f2421feb94d2ebae4fd2064554f57": {
          "model_module": "@jupyter-widgets/base",
          "model_name": "LayoutModel",
          "model_module_version": "1.2.0",
          "state": {
            "_model_module": "@jupyter-widgets/base",
            "_model_module_version": "1.2.0",
            "_model_name": "LayoutModel",
            "_view_count": null,
            "_view_module": "@jupyter-widgets/base",
            "_view_module_version": "1.2.0",
            "_view_name": "LayoutView",
            "align_content": null,
            "align_items": null,
            "align_self": null,
            "border": null,
            "bottom": null,
            "display": null,
            "flex": null,
            "flex_flow": null,
            "grid_area": null,
            "grid_auto_columns": null,
            "grid_auto_flow": null,
            "grid_auto_rows": null,
            "grid_column": null,
            "grid_gap": null,
            "grid_row": null,
            "grid_template_areas": null,
            "grid_template_columns": null,
            "grid_template_rows": null,
            "height": null,
            "justify_content": null,
            "justify_items": null,
            "left": null,
            "margin": null,
            "max_height": null,
            "max_width": null,
            "min_height": null,
            "min_width": null,
            "object_fit": null,
            "object_position": null,
            "order": null,
            "overflow": null,
            "overflow_x": null,
            "overflow_y": null,
            "padding": null,
            "right": null,
            "top": null,
            "visibility": null,
            "width": null
          }
        },
        "28504014aa6d42cd99d618c2af428196": {
          "model_module": "@jupyter-widgets/controls",
          "model_name": "IntProgressModel",
          "model_module_version": "1.5.0",
          "state": {
            "_dom_classes": [],
            "_model_module": "@jupyter-widgets/controls",
            "_model_module_version": "1.5.0",
            "_model_name": "IntProgressModel",
            "_view_count": null,
            "_view_module": "@jupyter-widgets/controls",
            "_view_module_version": "1.5.0",
            "_view_name": "ProgressView",
            "bar_style": "",
            "description": "Processing: ",
            "description_tooltip": null,
            "layout": "IPY_MODEL_1c7ad66e4c154111ad943a98d4210dfa",
            "max": 5,
            "min": 0,
            "orientation": "horizontal",
            "style": "IPY_MODEL_4a98dd8c27524353aab6047f7508278b",
            "value": 5
          }
        },
        "4a98dd8c27524353aab6047f7508278b": {
          "model_module": "@jupyter-widgets/controls",
          "model_name": "ProgressStyleModel",
          "model_module_version": "1.5.0",
          "state": {
            "_model_module": "@jupyter-widgets/controls",
            "_model_module_version": "1.5.0",
            "_model_name": "ProgressStyleModel",
            "_view_count": null,
            "_view_module": "@jupyter-widgets/base",
            "_view_module_version": "1.2.0",
            "_view_name": "StyleView",
            "bar_color": null,
            "description_width": ""
          }
        },
        "1c7ad66e4c154111ad943a98d4210dfa": {
          "model_module": "@jupyter-widgets/base",
          "model_name": "LayoutModel",
          "model_module_version": "1.2.0",
          "state": {
            "_model_module": "@jupyter-widgets/base",
            "_model_module_version": "1.2.0",
            "_model_name": "LayoutModel",
            "_view_count": null,
            "_view_module": "@jupyter-widgets/base",
            "_view_module_version": "1.2.0",
            "_view_name": "LayoutView",
            "align_content": null,
            "align_items": null,
            "align_self": null,
            "border": null,
            "bottom": null,
            "display": null,
            "flex": null,
            "flex_flow": null,
            "grid_area": null,
            "grid_auto_columns": null,
            "grid_auto_flow": null,
            "grid_auto_rows": null,
            "grid_column": null,
            "grid_gap": null,
            "grid_row": null,
            "grid_template_areas": null,
            "grid_template_columns": null,
            "grid_template_rows": null,
            "height": null,
            "justify_content": null,
            "justify_items": null,
            "left": null,
            "margin": null,
            "max_height": null,
            "max_width": null,
            "min_height": null,
            "min_width": null,
            "object_fit": null,
            "object_position": null,
            "order": null,
            "overflow": null,
            "overflow_x": null,
            "overflow_y": null,
            "padding": null,
            "right": null,
            "top": null,
            "visibility": null,
            "width": null
          }
        },
        "659d007398fa4fac9f5737f8a44ca5b4": {
          "model_module": "@jupyter-widgets/controls",
          "model_name": "IntProgressModel",
          "model_module_version": "1.5.0",
          "state": {
            "_dom_classes": [],
            "_model_module": "@jupyter-widgets/controls",
            "_model_module_version": "1.5.0",
            "_model_name": "IntProgressModel",
            "_view_count": null,
            "_view_module": "@jupyter-widgets/controls",
            "_view_module_version": "1.5.0",
            "_view_name": "ProgressView",
            "bar_style": "",
            "description": "Processing: ",
            "description_tooltip": null,
            "layout": "IPY_MODEL_ff34a3a9cc4947d4978fb86ec5ec26d9",
            "max": 5,
            "min": 0,
            "orientation": "horizontal",
            "style": "IPY_MODEL_1d411f30d94a4512a5b3bfaeb3184f7f",
            "value": 5
          }
        },
        "1d411f30d94a4512a5b3bfaeb3184f7f": {
          "model_module": "@jupyter-widgets/controls",
          "model_name": "ProgressStyleModel",
          "model_module_version": "1.5.0",
          "state": {
            "_model_module": "@jupyter-widgets/controls",
            "_model_module_version": "1.5.0",
            "_model_name": "ProgressStyleModel",
            "_view_count": null,
            "_view_module": "@jupyter-widgets/base",
            "_view_module_version": "1.2.0",
            "_view_name": "StyleView",
            "bar_color": null,
            "description_width": ""
          }
        },
        "ff34a3a9cc4947d4978fb86ec5ec26d9": {
          "model_module": "@jupyter-widgets/base",
          "model_name": "LayoutModel",
          "model_module_version": "1.2.0",
          "state": {
            "_model_module": "@jupyter-widgets/base",
            "_model_module_version": "1.2.0",
            "_model_name": "LayoutModel",
            "_view_count": null,
            "_view_module": "@jupyter-widgets/base",
            "_view_module_version": "1.2.0",
            "_view_name": "LayoutView",
            "align_content": null,
            "align_items": null,
            "align_self": null,
            "border": null,
            "bottom": null,
            "display": null,
            "flex": null,
            "flex_flow": null,
            "grid_area": null,
            "grid_auto_columns": null,
            "grid_auto_flow": null,
            "grid_auto_rows": null,
            "grid_column": null,
            "grid_gap": null,
            "grid_row": null,
            "grid_template_areas": null,
            "grid_template_columns": null,
            "grid_template_rows": null,
            "height": null,
            "justify_content": null,
            "justify_items": null,
            "left": null,
            "margin": null,
            "max_height": null,
            "max_width": null,
            "min_height": null,
            "min_width": null,
            "object_fit": null,
            "object_position": null,
            "order": null,
            "overflow": null,
            "overflow_x": null,
            "overflow_y": null,
            "padding": null,
            "right": null,
            "top": null,
            "visibility": null,
            "width": null
          }
        },
        "c109aad28cf7412da84f584bc15e47ff": {
          "model_module": "@jupyter-widgets/controls",
          "model_name": "IntProgressModel",
          "model_module_version": "1.5.0",
          "state": {
            "_dom_classes": [],
            "_model_module": "@jupyter-widgets/controls",
            "_model_module_version": "1.5.0",
            "_model_name": "IntProgressModel",
            "_view_count": null,
            "_view_module": "@jupyter-widgets/controls",
            "_view_module_version": "1.5.0",
            "_view_name": "ProgressView",
            "bar_style": "",
            "description": "Processing: ",
            "description_tooltip": null,
            "layout": "IPY_MODEL_743a1aa9a7d14fc9b9e231a4f1997ff9",
            "max": 5,
            "min": 0,
            "orientation": "horizontal",
            "style": "IPY_MODEL_19b95efec33f40419f0a45a2712d7a0b",
            "value": 5
          }
        },
        "19b95efec33f40419f0a45a2712d7a0b": {
          "model_module": "@jupyter-widgets/controls",
          "model_name": "ProgressStyleModel",
          "model_module_version": "1.5.0",
          "state": {
            "_model_module": "@jupyter-widgets/controls",
            "_model_module_version": "1.5.0",
            "_model_name": "ProgressStyleModel",
            "_view_count": null,
            "_view_module": "@jupyter-widgets/base",
            "_view_module_version": "1.2.0",
            "_view_name": "StyleView",
            "bar_color": null,
            "description_width": ""
          }
        },
        "743a1aa9a7d14fc9b9e231a4f1997ff9": {
          "model_module": "@jupyter-widgets/base",
          "model_name": "LayoutModel",
          "model_module_version": "1.2.0",
          "state": {
            "_model_module": "@jupyter-widgets/base",
            "_model_module_version": "1.2.0",
            "_model_name": "LayoutModel",
            "_view_count": null,
            "_view_module": "@jupyter-widgets/base",
            "_view_module_version": "1.2.0",
            "_view_name": "LayoutView",
            "align_content": null,
            "align_items": null,
            "align_self": null,
            "border": null,
            "bottom": null,
            "display": null,
            "flex": null,
            "flex_flow": null,
            "grid_area": null,
            "grid_auto_columns": null,
            "grid_auto_flow": null,
            "grid_auto_rows": null,
            "grid_column": null,
            "grid_gap": null,
            "grid_row": null,
            "grid_template_areas": null,
            "grid_template_columns": null,
            "grid_template_rows": null,
            "height": null,
            "justify_content": null,
            "justify_items": null,
            "left": null,
            "margin": null,
            "max_height": null,
            "max_width": null,
            "min_height": null,
            "min_width": null,
            "object_fit": null,
            "object_position": null,
            "order": null,
            "overflow": null,
            "overflow_x": null,
            "overflow_y": null,
            "padding": null,
            "right": null,
            "top": null,
            "visibility": null,
            "width": null
          }
        }
      }
    }
  },
  "cells": [
    {
      "cell_type": "markdown",
      "metadata": {
        "id": "view-in-github",
        "colab_type": "text"
      },
      "source": [
        "<a href=\"https://colab.research.google.com/github/Redwoods/Py/blob/master/pdm2020/my-note/py-tensorflow/DL4-autoML/diabetes_autoML_df_df2.ipynb\" target=\"_parent\"><img src=\"https://colab.research.google.com/assets/colab-badge.svg\" alt=\"Open In Colab\"/></a>"
      ]
    },
    {
      "cell_type": "markdown",
      "metadata": {
        "id": "k6gwVt9qxlxi"
      },
      "source": [
        "# Diabetes\n",
        "- [dataset from kaggle](https://www.kaggle.com/himanshu86503/dibetes33hi)\n",
        "## AutoML\n",
        "- raw data\n",
        "- imputed data"
      ]
    },
    {
      "cell_type": "markdown",
      "metadata": {
        "id": "GZIe0Vjhz-xt"
      },
      "source": [
        "## 1. Importing Libraries"
      ]
    },
    {
      "cell_type": "code",
      "metadata": {
        "id": "k2AR6z3Pz-xw"
      },
      "source": [
        "import numpy as np\n",
        "import matplotlib.pyplot as plt\n",
        "import pandas as pd\n",
        "import seaborn as sns"
      ],
      "execution_count": null,
      "outputs": []
    },
    {
      "cell_type": "markdown",
      "metadata": {
        "id": "Uhj3--X0z-xy"
      },
      "source": [
        "## 2. Data Collection"
      ]
    },
    {
      "cell_type": "code",
      "metadata": {
        "id": "JBx--oGBz-xz"
      },
      "source": [
        "# Get the data from github\n",
        "url = \"https://github.com/Redwoods/Py/raw/master/pdm2020/my-note/py-pandas/data/diabetes.csv\"\n",
        "df = pd.read_csv(url)"
      ],
      "execution_count": null,
      "outputs": []
    },
    {
      "cell_type": "code",
      "metadata": {
        "colab": {
          "base_uri": "https://localhost:8080/"
        },
        "id": "7a8gpSiGz-x0",
        "outputId": "00b86789-9ad5-4978-a8ca-ecb431a1bab5"
      },
      "source": [
        "df.shape"
      ],
      "execution_count": null,
      "outputs": [
        {
          "data": {
            "text/plain": [
              "(768, 9)"
            ]
          },
          "execution_count": 3,
          "metadata": {},
          "output_type": "execute_result"
        }
      ]
    },
    {
      "cell_type": "code",
      "metadata": {
        "colab": {
          "base_uri": "https://localhost:8080/",
          "height": 205
        },
        "id": "vVRz854vz-x1",
        "outputId": "1f5e4614-a133-4f51-b9a9-95e0a914f135"
      },
      "source": [
        "df.head()"
      ],
      "execution_count": null,
      "outputs": [
        {
          "data": {
            "text/html": [
              "<div>\n",
              "<style scoped>\n",
              "    .dataframe tbody tr th:only-of-type {\n",
              "        vertical-align: middle;\n",
              "    }\n",
              "\n",
              "    .dataframe tbody tr th {\n",
              "        vertical-align: top;\n",
              "    }\n",
              "\n",
              "    .dataframe thead th {\n",
              "        text-align: right;\n",
              "    }\n",
              "</style>\n",
              "<table border=\"1\" class=\"dataframe\">\n",
              "  <thead>\n",
              "    <tr style=\"text-align: right;\">\n",
              "      <th></th>\n",
              "      <th>Pregnancies</th>\n",
              "      <th>Glucose</th>\n",
              "      <th>BloodPressure</th>\n",
              "      <th>SkinThickness</th>\n",
              "      <th>Insulin</th>\n",
              "      <th>BMI</th>\n",
              "      <th>DiabetesPedigreeFunction</th>\n",
              "      <th>Age</th>\n",
              "      <th>Outcome</th>\n",
              "    </tr>\n",
              "  </thead>\n",
              "  <tbody>\n",
              "    <tr>\n",
              "      <th>0</th>\n",
              "      <td>6</td>\n",
              "      <td>148</td>\n",
              "      <td>72</td>\n",
              "      <td>35</td>\n",
              "      <td>0</td>\n",
              "      <td>33.6</td>\n",
              "      <td>0.627</td>\n",
              "      <td>50</td>\n",
              "      <td>1</td>\n",
              "    </tr>\n",
              "    <tr>\n",
              "      <th>1</th>\n",
              "      <td>1</td>\n",
              "      <td>85</td>\n",
              "      <td>66</td>\n",
              "      <td>29</td>\n",
              "      <td>0</td>\n",
              "      <td>26.6</td>\n",
              "      <td>0.351</td>\n",
              "      <td>31</td>\n",
              "      <td>0</td>\n",
              "    </tr>\n",
              "    <tr>\n",
              "      <th>2</th>\n",
              "      <td>8</td>\n",
              "      <td>183</td>\n",
              "      <td>64</td>\n",
              "      <td>0</td>\n",
              "      <td>0</td>\n",
              "      <td>23.3</td>\n",
              "      <td>0.672</td>\n",
              "      <td>32</td>\n",
              "      <td>1</td>\n",
              "    </tr>\n",
              "    <tr>\n",
              "      <th>3</th>\n",
              "      <td>1</td>\n",
              "      <td>89</td>\n",
              "      <td>66</td>\n",
              "      <td>23</td>\n",
              "      <td>94</td>\n",
              "      <td>28.1</td>\n",
              "      <td>0.167</td>\n",
              "      <td>21</td>\n",
              "      <td>0</td>\n",
              "    </tr>\n",
              "    <tr>\n",
              "      <th>4</th>\n",
              "      <td>0</td>\n",
              "      <td>137</td>\n",
              "      <td>40</td>\n",
              "      <td>35</td>\n",
              "      <td>168</td>\n",
              "      <td>43.1</td>\n",
              "      <td>2.288</td>\n",
              "      <td>33</td>\n",
              "      <td>1</td>\n",
              "    </tr>\n",
              "  </tbody>\n",
              "</table>\n",
              "</div>"
            ],
            "text/plain": [
              "   Pregnancies  Glucose  BloodPressure  SkinThickness  Insulin   BMI  \\\n",
              "0            6      148             72             35        0  33.6   \n",
              "1            1       85             66             29        0  26.6   \n",
              "2            8      183             64              0        0  23.3   \n",
              "3            1       89             66             23       94  28.1   \n",
              "4            0      137             40             35      168  43.1   \n",
              "\n",
              "   DiabetesPedigreeFunction  Age  Outcome  \n",
              "0                     0.627   50        1  \n",
              "1                     0.351   31        0  \n",
              "2                     0.672   32        1  \n",
              "3                     0.167   21        0  \n",
              "4                     2.288   33        1  "
            ]
          },
          "execution_count": 4,
          "metadata": {},
          "output_type": "execute_result"
        }
      ]
    },
    {
      "cell_type": "code",
      "metadata": {
        "id": "dwGTzCuWthQZ",
        "outputId": "35788d8e-0928-478a-cbbb-02bbc136d5e6"
      },
      "source": [
        "#  int or float ?\n",
        "df.info()"
      ],
      "execution_count": null,
      "outputs": [
        {
          "name": "stdout",
          "output_type": "stream",
          "text": [
            "<class 'pandas.core.frame.DataFrame'>\n",
            "RangeIndex: 768 entries, 0 to 767\n",
            "Data columns (total 9 columns):\n",
            " #   Column                    Non-Null Count  Dtype  \n",
            "---  ------                    --------------  -----  \n",
            " 0   Pregnancies               768 non-null    int64  \n",
            " 1   Glucose                   768 non-null    int64  \n",
            " 2   BloodPressure             768 non-null    int64  \n",
            " 3   SkinThickness             768 non-null    int64  \n",
            " 4   Insulin                   768 non-null    int64  \n",
            " 5   BMI                       768 non-null    float64\n",
            " 6   DiabetesPedigreeFunction  768 non-null    float64\n",
            " 7   Age                       768 non-null    int64  \n",
            " 8   Outcome                   768 non-null    int64  \n",
            "dtypes: float64(2), int64(7)\n",
            "memory usage: 54.1 KB\n"
          ]
        }
      ]
    },
    {
      "cell_type": "markdown",
      "metadata": {
        "id": "TMPITBmUz-x1"
      },
      "source": [
        "### Cleaning data\n",
        "- Check the NaN or missing values\n",
        "- Clean the null data"
      ]
    },
    {
      "cell_type": "code",
      "metadata": {
        "colab": {
          "base_uri": "https://localhost:8080/"
        },
        "id": "J9Ks4T4Pz-x2",
        "outputId": "9d7737b5-04c5-427d-ab1a-95d3941b1143"
      },
      "source": [
        "# Importing the dataset\n",
        "# data = pd.read_csv('diabetes.csv')\n",
        "#CHECK FOR NULL VALUES\n",
        "df.isnull().values.any(), df.isna().sum()"
      ],
      "execution_count": null,
      "outputs": [
        {
          "data": {
            "text/plain": [
              "(False,\n",
              " Pregnancies                 0\n",
              " Glucose                     0\n",
              " BloodPressure               0\n",
              " SkinThickness               0\n",
              " Insulin                     0\n",
              " BMI                         0\n",
              " DiabetesPedigreeFunction    0\n",
              " Age                         0\n",
              " Outcome                     0\n",
              " dtype: int64)"
            ]
          },
          "execution_count": 6,
          "metadata": {},
          "output_type": "execute_result"
        }
      ]
    },
    {
      "cell_type": "code",
      "metadata": {
        "colab": {
          "base_uri": "https://localhost:8080/"
        },
        "id": "bF0S1H9kz-x3",
        "outputId": "bd0b97dd-7682-4b57-d27f-79f7a0de22ac"
      },
      "source": [
        "# Drop unused columns, and drop rows with any missing values. (NOT neceaasry always!)\n",
        "print(df.shape)\n",
        "vars = df.columns\n",
        "print(vars)\n",
        "df = df[vars].dropna()\n",
        "df.shape"
      ],
      "execution_count": null,
      "outputs": [
        {
          "name": "stdout",
          "output_type": "stream",
          "text": [
            "(768, 9)\n",
            "Index(['Pregnancies', 'Glucose', 'BloodPressure', 'SkinThickness', 'Insulin',\n",
            "       'BMI', 'DiabetesPedigreeFunction', 'Age', 'Outcome'],\n",
            "      dtype='object')\n"
          ]
        },
        {
          "data": {
            "text/plain": [
              "(768, 9)"
            ]
          },
          "execution_count": 7,
          "metadata": {},
          "output_type": "execute_result"
        }
      ]
    },
    {
      "cell_type": "markdown",
      "metadata": {
        "id": "HJMZi8-Uz-x5"
      },
      "source": [
        "## 3. Explore Data"
      ]
    },
    {
      "cell_type": "markdown",
      "metadata": {
        "id": "3MpjASeothQb"
      },
      "source": [
        "### 위의 데이터에서 문제점을 찾으시오.\n",
        "- 0이 허용되지 않는 특징이 있는가?\n",
        "- 값 0을 어떤 값으로 변경해야하는가?"
      ]
    },
    {
      "cell_type": "code",
      "metadata": {
        "id": "ooMesUSAthQc",
        "outputId": "b10965bf-41e9-4af8-d341-92934ca6f7fd"
      },
      "source": [
        "# Check zeros in features without Outcome\n",
        "(df.iloc[:,:8]==0).astype(int).sum()"
      ],
      "execution_count": null,
      "outputs": [
        {
          "data": {
            "text/plain": [
              "Pregnancies                 111\n",
              "Glucose                       5\n",
              "BloodPressure                35\n",
              "SkinThickness               227\n",
              "Insulin                     374\n",
              "BMI                          11\n",
              "DiabetesPedigreeFunction      0\n",
              "Age                           0\n",
              "dtype: int64"
            ]
          },
          "execution_count": 8,
          "metadata": {},
          "output_type": "execute_result"
        }
      ]
    },
    {
      "cell_type": "code",
      "metadata": {
        "colab": {
          "base_uri": "https://localhost:8080/"
        },
        "id": "LkOqiz06z-x6",
        "outputId": "c784c092-0853-4110-d0cf-164bf3e66105"
      },
      "source": [
        "df.info()"
      ],
      "execution_count": null,
      "outputs": [
        {
          "name": "stdout",
          "output_type": "stream",
          "text": [
            "<class 'pandas.core.frame.DataFrame'>\n",
            "Int64Index: 768 entries, 0 to 767\n",
            "Data columns (total 9 columns):\n",
            " #   Column                    Non-Null Count  Dtype  \n",
            "---  ------                    --------------  -----  \n",
            " 0   Pregnancies               768 non-null    int64  \n",
            " 1   Glucose                   768 non-null    int64  \n",
            " 2   BloodPressure             768 non-null    int64  \n",
            " 3   SkinThickness             768 non-null    int64  \n",
            " 4   Insulin                   768 non-null    int64  \n",
            " 5   BMI                       768 non-null    float64\n",
            " 6   DiabetesPedigreeFunction  768 non-null    float64\n",
            " 7   Age                       768 non-null    int64  \n",
            " 8   Outcome                   768 non-null    int64  \n",
            "dtypes: float64(2), int64(7)\n",
            "memory usage: 60.0 KB\n"
          ]
        }
      ]
    },
    {
      "cell_type": "markdown",
      "metadata": {
        "id": "xx3auWToz-x6"
      },
      "source": [
        "### Check the balance of the data through plot"
      ]
    },
    {
      "cell_type": "code",
      "metadata": {
        "colab": {
          "base_uri": "https://localhost:8080/",
          "height": 316
        },
        "id": "rUBL5viiz-x7",
        "outputId": "c939a420-3dce-4b42-9650-76aac13afb46"
      },
      "source": [
        "# Check the balance of the data through plot\n",
        "classes=df.Outcome\n",
        "ax=sns.countplot(classes, label='count')\n",
        "plt.show()\n",
        "nDB,DB=classes.value_counts()\n",
        "print('False: non-diabetes',nDB)\n",
        "print('True: diabetes',DB)"
      ],
      "execution_count": null,
      "outputs": [
        {
          "name": "stderr",
          "output_type": "stream",
          "text": [
            "C:\\Users\\life21c\\Anaconda3\\lib\\site-packages\\seaborn\\_decorators.py:36: FutureWarning: Pass the following variable as a keyword arg: x. From version 0.12, the only valid positional argument will be `data`, and passing other arguments without an explicit keyword will result in an error or misinterpretation.\n",
            "  warnings.warn(\n"
          ]
        },
        {
          "data": {
            "image/png": "[encoded data removed]",
            "text/plain": [
              "<Figure size 432x288 with 1 Axes>"
            ]
          },
          "metadata": {
            "needs_background": "light"
          },
          "output_type": "display_data"
        },
        {
          "name": "stdout",
          "output_type": "stream",
          "text": [
            "False: non-diabetes 500\n",
            "True: diabetes 268\n"
          ]
        }
      ]
    },
    {
      "cell_type": "code",
      "metadata": {
        "colab": {
          "base_uri": "https://localhost:8080/"
        },
        "id": "wvR6KydGz-x7",
        "outputId": "e95b1a38-b85d-4390-fd71-690842fd7c6b"
      },
      "source": [
        "classes.value_counts(), type(classes) # noDM: 500, DM: 268"
      ],
      "execution_count": null,
      "outputs": [
        {
          "data": {
            "text/plain": [
              "(0    500\n",
              " 1    268\n",
              " Name: Outcome, dtype: int64,\n",
              " pandas.core.series.Series)"
            ]
          },
          "execution_count": 11,
          "metadata": {},
          "output_type": "execute_result"
        }
      ]
    },
    {
      "cell_type": "markdown",
      "metadata": {
        "id": "mFv5mpZ8z-x7"
      },
      "source": [
        "## correlation plot (상관도표)"
      ]
    },
    {
      "cell_type": "code",
      "metadata": {
        "colab": {
          "base_uri": "https://localhost:8080/",
          "height": 716
        },
        "id": "YemDAjKoz-x7",
        "outputId": "7f874c6d-cf00-4390-c6f5-80cc9531648a"
      },
      "source": [
        "#correlation plot\n",
        "cormat=df.corr()\n",
        "plt.figure(figsize=(12,10))\n",
        "g=sns.heatmap(cormat, annot=True, cmap='coolwarm', #cmap= \"RdYlGn\",\n",
        "             vmin=-1, vmax=1)"
      ],
      "execution_count": null,
      "outputs": [
        {
          "data": {
            "image/png": "[encoded data removed]",
            "text/plain": [
              "<Figure size 864x720 with 2 Axes>"
            ]
          },
          "metadata": {
            "needs_background": "light"
          },
          "output_type": "display_data"
        }
      ]
    },
    {
      "cell_type": "markdown",
      "metadata": {
        "id": "edL3BuYVz-x7"
      },
      "source": [
        "### 상관성 분석 결과\n",
        "* Age vs. Pregnancies : 0.54\n",
        "* Glucose vs. Outcome : 0.47\n",
        "* SkinThickness vs. Insulin : 0.44\n",
        "* SkinThickness vs. BMI : 0.39\n",
        "\n",
        "> 좀 더 자세한 시각화가 필요하다."
      ]
    },
    {
      "cell_type": "markdown",
      "metadata": {
        "id": "dFhwDpKnthQe"
      },
      "source": [
        "---"
      ]
    },
    {
      "cell_type": "markdown",
      "metadata": {
        "id": "5TOzlJGjthQe"
      },
      "source": [
        "## 각 특징의 내부 정보를 고려한 zero 처리 후 상관성 조사."
      ]
    },
    {
      "cell_type": "code",
      "metadata": {
        "id": "dRqM20uEthQe",
        "outputId": "79b3be8d-2a70-4418-b327-bd0538c1eb3f"
      },
      "source": [
        "# zero 처리 함수\n",
        "# Clean the data : zero2median()\n",
        "# 1. Check zeros in features with Pregnancies, Outcome excluded.\n",
        "# 2. Replace zero with NaN \n",
        "# 3. Replace NaN with the median of the corresponding featurs\n",
        "def zero2median(df):\n",
        "    columns_with_zero = df.columns[(df==0).sum() > 0][1:-1]\n",
        "    # Index(['Glucose', 'BloodPressure', 'SkinThickness', 'Insulin', 'BMI'], dtype='object')\n",
        "    df[columns_with_zero]=df[columns_with_zero].replace(0,np.nan)\n",
        "    for feature in columns_with_zero:\n",
        "        df[feature].fillna(df[feature].median(),inplace=True)  # median() -> mean()\n",
        "    \n",
        "    return df\n",
        "\n",
        "# Srart with cleaned dataframe\n",
        "df2 = zero2median(df)\n",
        "df2.shape"
      ],
      "execution_count": null,
      "outputs": [
        {
          "data": {
            "text/plain": [
              "(768, 9)"
            ]
          },
          "execution_count": 13,
          "metadata": {},
          "output_type": "execute_result"
        }
      ]
    },
    {
      "cell_type": "code",
      "metadata": {
        "id": "MGcs6V_bthQf",
        "outputId": "037f0d84-860b-4233-ed73-df58952ea719"
      },
      "source": [
        "df2.head()"
      ],
      "execution_count": null,
      "outputs": [
        {
          "data": {
            "text/html": [
              "<div>\n",
              "<style scoped>\n",
              "    .dataframe tbody tr th:only-of-type {\n",
              "        vertical-align: middle;\n",
              "    }\n",
              "\n",
              "    .dataframe tbody tr th {\n",
              "        vertical-align: top;\n",
              "    }\n",
              "\n",
              "    .dataframe thead th {\n",
              "        text-align: right;\n",
              "    }\n",
              "</style>\n",
              "<table border=\"1\" class=\"dataframe\">\n",
              "  <thead>\n",
              "    <tr style=\"text-align: right;\">\n",
              "      <th></th>\n",
              "      <th>Pregnancies</th>\n",
              "      <th>Glucose</th>\n",
              "      <th>BloodPressure</th>\n",
              "      <th>SkinThickness</th>\n",
              "      <th>Insulin</th>\n",
              "      <th>BMI</th>\n",
              "      <th>DiabetesPedigreeFunction</th>\n",
              "      <th>Age</th>\n",
              "      <th>Outcome</th>\n",
              "    </tr>\n",
              "  </thead>\n",
              "  <tbody>\n",
              "    <tr>\n",
              "      <th>0</th>\n",
              "      <td>6</td>\n",
              "      <td>148.0</td>\n",
              "      <td>72.0</td>\n",
              "      <td>35.0</td>\n",
              "      <td>125.0</td>\n",
              "      <td>33.6</td>\n",
              "      <td>0.627</td>\n",
              "      <td>50</td>\n",
              "      <td>1</td>\n",
              "    </tr>\n",
              "    <tr>\n",
              "      <th>1</th>\n",
              "      <td>1</td>\n",
              "      <td>85.0</td>\n",
              "      <td>66.0</td>\n",
              "      <td>29.0</td>\n",
              "      <td>125.0</td>\n",
              "      <td>26.6</td>\n",
              "      <td>0.351</td>\n",
              "      <td>31</td>\n",
              "      <td>0</td>\n",
              "    </tr>\n",
              "    <tr>\n",
              "      <th>2</th>\n",
              "      <td>8</td>\n",
              "      <td>183.0</td>\n",
              "      <td>64.0</td>\n",
              "      <td>29.0</td>\n",
              "      <td>125.0</td>\n",
              "      <td>23.3</td>\n",
              "      <td>0.672</td>\n",
              "      <td>32</td>\n",
              "      <td>1</td>\n",
              "    </tr>\n",
              "    <tr>\n",
              "      <th>3</th>\n",
              "      <td>1</td>\n",
              "      <td>89.0</td>\n",
              "      <td>66.0</td>\n",
              "      <td>23.0</td>\n",
              "      <td>94.0</td>\n",
              "      <td>28.1</td>\n",
              "      <td>0.167</td>\n",
              "      <td>21</td>\n",
              "      <td>0</td>\n",
              "    </tr>\n",
              "    <tr>\n",
              "      <th>4</th>\n",
              "      <td>0</td>\n",
              "      <td>137.0</td>\n",
              "      <td>40.0</td>\n",
              "      <td>35.0</td>\n",
              "      <td>168.0</td>\n",
              "      <td>43.1</td>\n",
              "      <td>2.288</td>\n",
              "      <td>33</td>\n",
              "      <td>1</td>\n",
              "    </tr>\n",
              "  </tbody>\n",
              "</table>\n",
              "</div>"
            ],
            "text/plain": [
              "   Pregnancies  Glucose  BloodPressure  SkinThickness  Insulin   BMI  \\\n",
              "0            6    148.0           72.0           35.0    125.0  33.6   \n",
              "1            1     85.0           66.0           29.0    125.0  26.6   \n",
              "2            8    183.0           64.0           29.0    125.0  23.3   \n",
              "3            1     89.0           66.0           23.0     94.0  28.1   \n",
              "4            0    137.0           40.0           35.0    168.0  43.1   \n",
              "\n",
              "   DiabetesPedigreeFunction  Age  Outcome  \n",
              "0                     0.627   50        1  \n",
              "1                     0.351   31        0  \n",
              "2                     0.672   32        1  \n",
              "3                     0.167   21        0  \n",
              "4                     2.288   33        1  "
            ]
          },
          "execution_count": 14,
          "metadata": {},
          "output_type": "execute_result"
        }
      ]
    },
    {
      "cell_type": "code",
      "metadata": {
        "id": "DeAUP3lUthQf",
        "outputId": "76d1b517-608a-4297-bced-899ca27f5df9"
      },
      "source": [
        "#correlation plot of df2\n",
        "# cormat2=df2.corr()\n",
        "plt.figure(figsize=(12,10))\n",
        "g3=sns.heatmap(df2.corr(),annot=True,cmap='coolwarm', #cmap= \"RdYlGn\",\n",
        "             vmin=-1, vmax=1)"
      ],
      "execution_count": null,
      "outputs": [
        {
          "data": {
            "image/png": "[encoded data removed]",
            "text/plain": [
              "<Figure size 864x720 with 2 Axes>"
            ]
          },
          "metadata": {
            "needs_background": "light"
          },
          "output_type": "display_data"
        }
      ]
    },
    {
      "cell_type": "markdown",
      "metadata": {
        "id": "05tVHOcithQf"
      },
      "source": [
        "## 데이터프레임 df, df2의 상관성이 달라짐을 확인하시오.\n",
        "### 상관성 분석 결과 \n",
        "* Age vs. Pregnancies : 0.54 ->  0.54\n",
        "* Glucose vs. Outcome : 0.47 ->  0.49\n",
        "* SkinThickness vs. Insulin : 0.44 -> 0.16\n",
        "* SkinThickness vs. BMI : 0.39 -> 0.54\n",
        "\n",
        "> 상관성 최종 개선"
      ]
    },
    {
      "cell_type": "markdown",
      "metadata": {
        "id": "hPkMC0imG9wi"
      },
      "source": [
        "---"
      ]
    },
    {
      "cell_type": "markdown",
      "metadata": {
        "id": "zt_Oj3bnthQg"
      },
      "source": [
        "### 그러면 다음 autoML에서는 어떤 데이터로 ML 모델을 만들어야하나요?"
      ]
    },
    {
      "cell_type": "markdown",
      "metadata": {
        "id": "LW2f5pgr3IQI"
      },
      "source": [
        "# AutoML\n",
        "- ## pycaret\n",
        "- ## data : df, df2"
      ]
    },
    {
      "cell_type": "markdown",
      "metadata": {
        "id": "K61abq78lIK3"
      },
      "source": [
        "# targets\n",
        "- ## 'noDM', 'DM'\n"
      ]
    },
    {
      "cell_type": "code",
      "metadata": {
        "id": "ZTc9q7DO3xXI"
      },
      "source": [
        "# !pip install pycaret"
      ],
      "execution_count": null,
      "outputs": []
    },
    {
      "cell_type": "code",
      "metadata": {
        "colab": {
          "base_uri": "https://localhost:8080/",
          "height": 36
        },
        "id": "LlVMp_UXwOXX",
        "outputId": "bfce26cf-2624-407a-dd0a-d6e1dbbc3696"
      },
      "source": [
        "# check version\n",
        "from pycaret.utils import version\n",
        "version()"
      ],
      "execution_count": null,
      "outputs": [
        {
          "data": {
            "text/plain": [
              "'2.3.3'"
            ]
          },
          "execution_count": 17,
          "metadata": {},
          "output_type": "execute_result"
        }
      ]
    },
    {
      "cell_type": "code",
      "metadata": {
        "id": "qWhvmnEAhMJa"
      },
      "source": [
        "from pycaret.classification import *"
      ],
      "execution_count": null,
      "outputs": []
    },
    {
      "cell_type": "markdown",
      "metadata": {
        "id": "zD290GGwthQg"
      },
      "source": [
        "## autoML using df"
      ]
    },
    {
      "cell_type": "code",
      "metadata": {
        "id": "ulcFCvV1thQg",
        "outputId": "4b173104-eed4-4af7-8b58-94a1c8d04a05"
      },
      "source": [
        "df.head()"
      ],
      "execution_count": null,
      "outputs": [
        {
          "data": {
            "text/html": [
              "<div>\n",
              "<style scoped>\n",
              "    .dataframe tbody tr th:only-of-type {\n",
              "        vertical-align: middle;\n",
              "    }\n",
              "\n",
              "    .dataframe tbody tr th {\n",
              "        vertical-align: top;\n",
              "    }\n",
              "\n",
              "    .dataframe thead th {\n",
              "        text-align: right;\n",
              "    }\n",
              "</style>\n",
              "<table border=\"1\" class=\"dataframe\">\n",
              "  <thead>\n",
              "    <tr style=\"text-align: right;\">\n",
              "      <th></th>\n",
              "      <th>Pregnancies</th>\n",
              "      <th>Glucose</th>\n",
              "      <th>BloodPressure</th>\n",
              "      <th>SkinThickness</th>\n",
              "      <th>Insulin</th>\n",
              "      <th>BMI</th>\n",
              "      <th>DiabetesPedigreeFunction</th>\n",
              "      <th>Age</th>\n",
              "      <th>Outcome</th>\n",
              "    </tr>\n",
              "  </thead>\n",
              "  <tbody>\n",
              "    <tr>\n",
              "      <th>0</th>\n",
              "      <td>6</td>\n",
              "      <td>148.0</td>\n",
              "      <td>72.0</td>\n",
              "      <td>35.0</td>\n",
              "      <td>125.0</td>\n",
              "      <td>33.6</td>\n",
              "      <td>0.627</td>\n",
              "      <td>50</td>\n",
              "      <td>1</td>\n",
              "    </tr>\n",
              "    <tr>\n",
              "      <th>1</th>\n",
              "      <td>1</td>\n",
              "      <td>85.0</td>\n",
              "      <td>66.0</td>\n",
              "      <td>29.0</td>\n",
              "      <td>125.0</td>\n",
              "      <td>26.6</td>\n",
              "      <td>0.351</td>\n",
              "      <td>31</td>\n",
              "      <td>0</td>\n",
              "    </tr>\n",
              "    <tr>\n",
              "      <th>2</th>\n",
              "      <td>8</td>\n",
              "      <td>183.0</td>\n",
              "      <td>64.0</td>\n",
              "      <td>29.0</td>\n",
              "      <td>125.0</td>\n",
              "      <td>23.3</td>\n",
              "      <td>0.672</td>\n",
              "      <td>32</td>\n",
              "      <td>1</td>\n",
              "    </tr>\n",
              "    <tr>\n",
              "      <th>3</th>\n",
              "      <td>1</td>\n",
              "      <td>89.0</td>\n",
              "      <td>66.0</td>\n",
              "      <td>23.0</td>\n",
              "      <td>94.0</td>\n",
              "      <td>28.1</td>\n",
              "      <td>0.167</td>\n",
              "      <td>21</td>\n",
              "      <td>0</td>\n",
              "    </tr>\n",
              "    <tr>\n",
              "      <th>4</th>\n",
              "      <td>0</td>\n",
              "      <td>137.0</td>\n",
              "      <td>40.0</td>\n",
              "      <td>35.0</td>\n",
              "      <td>168.0</td>\n",
              "      <td>43.1</td>\n",
              "      <td>2.288</td>\n",
              "      <td>33</td>\n",
              "      <td>1</td>\n",
              "    </tr>\n",
              "  </tbody>\n",
              "</table>\n",
              "</div>"
            ],
            "text/plain": [
              "   Pregnancies  Glucose  BloodPressure  SkinThickness  Insulin   BMI  \\\n",
              "0            6    148.0           72.0           35.0    125.0  33.6   \n",
              "1            1     85.0           66.0           29.0    125.0  26.6   \n",
              "2            8    183.0           64.0           29.0    125.0  23.3   \n",
              "3            1     89.0           66.0           23.0     94.0  28.1   \n",
              "4            0    137.0           40.0           35.0    168.0  43.1   \n",
              "\n",
              "   DiabetesPedigreeFunction  Age  Outcome  \n",
              "0                     0.627   50        1  \n",
              "1                     0.351   31        0  \n",
              "2                     0.672   32        1  \n",
              "3                     0.167   21        0  \n",
              "4                     2.288   33        1  "
            ]
          },
          "execution_count": 19,
          "metadata": {},
          "output_type": "execute_result"
        }
      ]
    },
    {
      "cell_type": "markdown",
      "metadata": {
        "id": "xyiBSlUtthQh"
      },
      "source": [
        "### Make data for pycaret autoML"
      ]
    },
    {
      "cell_type": "code",
      "metadata": {
        "colab": {
          "base_uri": "https://localhost:8080/"
        },
        "id": "2bVE8DRJnw3I",
        "outputId": "f88cbb81-1d91-4688-c79b-a11e39ebe0ad"
      },
      "source": [
        "data = df.sample(frac=0.8, random_state=786)  # 8:2 split\n",
        "data_unseen = df.drop(data.index).reset_index(drop=True)  # test data : 20%\n",
        "data.reset_index(drop=True, inplace=True)\n",
        "\n",
        "print('Data for Modeling: ' + str(data.shape))\n",
        "print('Unseen Data For Predictions ' + str(data_unseen.shape))"
      ],
      "execution_count": null,
      "outputs": [
        {
          "name": "stdout",
          "output_type": "stream",
          "text": [
            "Data for Modeling: (614, 9)\n",
            "Unseen Data For Predictions (154, 9)\n"
          ]
        }
      ]
    },
    {
      "cell_type": "code",
      "metadata": {
        "colab": {
          "base_uri": "https://localhost:8080/",
          "height": 1000,
          "referenced_widgets": [
            "cd23509d7f02408089e1e22483dd2b4f",
            "61fcdfb0ffe84d2d8472f8d8a9aade74",
            "bfc3d6b2f8d14da79561546291f25ed9"
          ]
        },
        "id": "TLBLikI1nw3J",
        "outputId": "6c5404cb-5ff3-4a18-91c1-4493335cb977"
      },
      "source": [
        "clf = setup(data = data, target = 'Outcome', session_id=1104, \n",
        "                    normalize=True, \n",
        "                    transformation=True, \n",
        "                    ignore_low_variance=True,\n",
        "        #    remove_multicollinearity=True, multicollinearity_threshold=0.95,\n",
        "                    silent=True)"
      ],
      "execution_count": null,
      "outputs": [
        {
          "data": {
            "text/html": [
              "<style  type=\"text/css\" >\n",
              "#T_745af_row29_col1,#T_745af_row31_col1,#T_745af_row36_col1,#T_745af_row44_col1{\n",
              "            background-color:  lightgreen;\n",
              "        }</style><table id=\"T_745af_\" ><thead>    <tr>        <th class=\"blank level0\" ></th>        <th class=\"col_heading level0 col0\" >Description</th>        <th class=\"col_heading level0 col1\" >Value</th>    </tr></thead><tbody>\n",
              "                <tr>\n",
              "                        <th id=\"T_745af_level0_row0\" class=\"row_heading level0 row0\" >0</th>\n",
              "                        <td id=\"T_745af_row0_col0\" class=\"data row0 col0\" >session_id</td>\n",
              "                        <td id=\"T_745af_row0_col1\" class=\"data row0 col1\" >1104</td>\n",
              "            </tr>\n",
              "            <tr>\n",
              "                        <th id=\"T_745af_level0_row1\" class=\"row_heading level0 row1\" >1</th>\n",
              "                        <td id=\"T_745af_row1_col0\" class=\"data row1 col0\" >Target</td>\n",
              "                        <td id=\"T_745af_row1_col1\" class=\"data row1 col1\" >Outcome</td>\n",
              "            </tr>\n",
              "            <tr>\n",
              "                        <th id=\"T_745af_level0_row2\" class=\"row_heading level0 row2\" >2</th>\n",
              "                        <td id=\"T_745af_row2_col0\" class=\"data row2 col0\" >Target Type</td>\n",
              "                        <td id=\"T_745af_row2_col1\" class=\"data row2 col1\" >Binary</td>\n",
              "            </tr>\n",
              "            <tr>\n",
              "                        <th id=\"T_745af_level0_row3\" class=\"row_heading level0 row3\" >3</th>\n",
              "                        <td id=\"T_745af_row3_col0\" class=\"data row3 col0\" >Label Encoded</td>\n",
              "                        <td id=\"T_745af_row3_col1\" class=\"data row3 col1\" >0: 0, 1: 1</td>\n",
              "            </tr>\n",
              "            <tr>\n",
              "                        <th id=\"T_745af_level0_row4\" class=\"row_heading level0 row4\" >4</th>\n",
              "                        <td id=\"T_745af_row4_col0\" class=\"data row4 col0\" >Original Data</td>\n",
              "                        <td id=\"T_745af_row4_col1\" class=\"data row4 col1\" >(614, 9)</td>\n",
              "            </tr>\n",
              "            <tr>\n",
              "                        <th id=\"T_745af_level0_row5\" class=\"row_heading level0 row5\" >5</th>\n",
              "                        <td id=\"T_745af_row5_col0\" class=\"data row5 col0\" >Missing Values</td>\n",
              "                        <td id=\"T_745af_row5_col1\" class=\"data row5 col1\" >False</td>\n",
              "            </tr>\n",
              "            <tr>\n",
              "                        <th id=\"T_745af_level0_row6\" class=\"row_heading level0 row6\" >6</th>\n",
              "                        <td id=\"T_745af_row6_col0\" class=\"data row6 col0\" >Numeric Features</td>\n",
              "                        <td id=\"T_745af_row6_col1\" class=\"data row6 col1\" >7</td>\n",
              "            </tr>\n",
              "            <tr>\n",
              "                        <th id=\"T_745af_level0_row7\" class=\"row_heading level0 row7\" >7</th>\n",
              "                        <td id=\"T_745af_row7_col0\" class=\"data row7 col0\" >Categorical Features</td>\n",
              "                        <td id=\"T_745af_row7_col1\" class=\"data row7 col1\" >1</td>\n",
              "            </tr>\n",
              "            <tr>\n",
              "                        <th id=\"T_745af_level0_row8\" class=\"row_heading level0 row8\" >8</th>\n",
              "                        <td id=\"T_745af_row8_col0\" class=\"data row8 col0\" >Ordinal Features</td>\n",
              "                        <td id=\"T_745af_row8_col1\" class=\"data row8 col1\" >False</td>\n",
              "            </tr>\n",
              "            <tr>\n",
              "                        <th id=\"T_745af_level0_row9\" class=\"row_heading level0 row9\" >9</th>\n",
              "                        <td id=\"T_745af_row9_col0\" class=\"data row9 col0\" >High Cardinality Features</td>\n",
              "                        <td id=\"T_745af_row9_col1\" class=\"data row9 col1\" >False</td>\n",
              "            </tr>\n",
              "            <tr>\n",
              "                        <th id=\"T_745af_level0_row10\" class=\"row_heading level0 row10\" >10</th>\n",
              "                        <td id=\"T_745af_row10_col0\" class=\"data row10 col0\" >High Cardinality Method</td>\n",
              "                        <td id=\"T_745af_row10_col1\" class=\"data row10 col1\" >None</td>\n",
              "            </tr>\n",
              "            <tr>\n",
              "                        <th id=\"T_745af_level0_row11\" class=\"row_heading level0 row11\" >11</th>\n",
              "                        <td id=\"T_745af_row11_col0\" class=\"data row11 col0\" >Transformed Train Set</td>\n",
              "                        <td id=\"T_745af_row11_col1\" class=\"data row11 col1\" >(429, 23)</td>\n",
              "            </tr>\n",
              "            <tr>\n",
              "                        <th id=\"T_745af_level0_row12\" class=\"row_heading level0 row12\" >12</th>\n",
              "                        <td id=\"T_745af_row12_col0\" class=\"data row12 col0\" >Transformed Test Set</td>\n",
              "                        <td id=\"T_745af_row12_col1\" class=\"data row12 col1\" >(185, 23)</td>\n",
              "            </tr>\n",
              "            <tr>\n",
              "                        <th id=\"T_745af_level0_row13\" class=\"row_heading level0 row13\" >13</th>\n",
              "                        <td id=\"T_745af_row13_col0\" class=\"data row13 col0\" >Shuffle Train-Test</td>\n",
              "                        <td id=\"T_745af_row13_col1\" class=\"data row13 col1\" >True</td>\n",
              "            </tr>\n",
              "            <tr>\n",
              "                        <th id=\"T_745af_level0_row14\" class=\"row_heading level0 row14\" >14</th>\n",
              "                        <td id=\"T_745af_row14_col0\" class=\"data row14 col0\" >Stratify Train-Test</td>\n",
              "                        <td id=\"T_745af_row14_col1\" class=\"data row14 col1\" >False</td>\n",
              "            </tr>\n",
              "            <tr>\n",
              "                        <th id=\"T_745af_level0_row15\" class=\"row_heading level0 row15\" >15</th>\n",
              "                        <td id=\"T_745af_row15_col0\" class=\"data row15 col0\" >Fold Generator</td>\n",
              "                        <td id=\"T_745af_row15_col1\" class=\"data row15 col1\" >StratifiedKFold</td>\n",
              "            </tr>\n",
              "            <tr>\n",
              "                        <th id=\"T_745af_level0_row16\" class=\"row_heading level0 row16\" >16</th>\n",
              "                        <td id=\"T_745af_row16_col0\" class=\"data row16 col0\" >Fold Number</td>\n",
              "                        <td id=\"T_745af_row16_col1\" class=\"data row16 col1\" >10</td>\n",
              "            </tr>\n",
              "            <tr>\n",
              "                        <th id=\"T_745af_level0_row17\" class=\"row_heading level0 row17\" >17</th>\n",
              "                        <td id=\"T_745af_row17_col0\" class=\"data row17 col0\" >CPU Jobs</td>\n",
              "                        <td id=\"T_745af_row17_col1\" class=\"data row17 col1\" >-1</td>\n",
              "            </tr>\n",
              "            <tr>\n",
              "                        <th id=\"T_745af_level0_row18\" class=\"row_heading level0 row18\" >18</th>\n",
              "                        <td id=\"T_745af_row18_col0\" class=\"data row18 col0\" >Use GPU</td>\n",
              "                        <td id=\"T_745af_row18_col1\" class=\"data row18 col1\" >False</td>\n",
              "            </tr>\n",
              "            <tr>\n",
              "                        <th id=\"T_745af_level0_row19\" class=\"row_heading level0 row19\" >19</th>\n",
              "                        <td id=\"T_745af_row19_col0\" class=\"data row19 col0\" >Log Experiment</td>\n",
              "                        <td id=\"T_745af_row19_col1\" class=\"data row19 col1\" >False</td>\n",
              "            </tr>\n",
              "            <tr>\n",
              "                        <th id=\"T_745af_level0_row20\" class=\"row_heading level0 row20\" >20</th>\n",
              "                        <td id=\"T_745af_row20_col0\" class=\"data row20 col0\" >Experiment Name</td>\n",
              "                        <td id=\"T_745af_row20_col1\" class=\"data row20 col1\" >clf-default-name</td>\n",
              "            </tr>\n",
              "            <tr>\n",
              "                        <th id=\"T_745af_level0_row21\" class=\"row_heading level0 row21\" >21</th>\n",
              "                        <td id=\"T_745af_row21_col0\" class=\"data row21 col0\" >USI</td>\n",
              "                        <td id=\"T_745af_row21_col1\" class=\"data row21 col1\" >5e99</td>\n",
              "            </tr>\n",
              "            <tr>\n",
              "                        <th id=\"T_745af_level0_row22\" class=\"row_heading level0 row22\" >22</th>\n",
              "                        <td id=\"T_745af_row22_col0\" class=\"data row22 col0\" >Imputation Type</td>\n",
              "                        <td id=\"T_745af_row22_col1\" class=\"data row22 col1\" >simple</td>\n",
              "            </tr>\n",
              "            <tr>\n",
              "                        <th id=\"T_745af_level0_row23\" class=\"row_heading level0 row23\" >23</th>\n",
              "                        <td id=\"T_745af_row23_col0\" class=\"data row23 col0\" >Iterative Imputation Iteration</td>\n",
              "                        <td id=\"T_745af_row23_col1\" class=\"data row23 col1\" >None</td>\n",
              "            </tr>\n",
              "            <tr>\n",
              "                        <th id=\"T_745af_level0_row24\" class=\"row_heading level0 row24\" >24</th>\n",
              "                        <td id=\"T_745af_row24_col0\" class=\"data row24 col0\" >Numeric Imputer</td>\n",
              "                        <td id=\"T_745af_row24_col1\" class=\"data row24 col1\" >mean</td>\n",
              "            </tr>\n",
              "            <tr>\n",
              "                        <th id=\"T_745af_level0_row25\" class=\"row_heading level0 row25\" >25</th>\n",
              "                        <td id=\"T_745af_row25_col0\" class=\"data row25 col0\" >Iterative Imputation Numeric Model</td>\n",
              "                        <td id=\"T_745af_row25_col1\" class=\"data row25 col1\" >None</td>\n",
              "            </tr>\n",
              "            <tr>\n",
              "                        <th id=\"T_745af_level0_row26\" class=\"row_heading level0 row26\" >26</th>\n",
              "                        <td id=\"T_745af_row26_col0\" class=\"data row26 col0\" >Categorical Imputer</td>\n",
              "                        <td id=\"T_745af_row26_col1\" class=\"data row26 col1\" >constant</td>\n",
              "            </tr>\n",
              "            <tr>\n",
              "                        <th id=\"T_745af_level0_row27\" class=\"row_heading level0 row27\" >27</th>\n",
              "                        <td id=\"T_745af_row27_col0\" class=\"data row27 col0\" >Iterative Imputation Categorical Model</td>\n",
              "                        <td id=\"T_745af_row27_col1\" class=\"data row27 col1\" >None</td>\n",
              "            </tr>\n",
              "            <tr>\n",
              "                        <th id=\"T_745af_level0_row28\" class=\"row_heading level0 row28\" >28</th>\n",
              "                        <td id=\"T_745af_row28_col0\" class=\"data row28 col0\" >Unknown Categoricals Handling</td>\n",
              "                        <td id=\"T_745af_row28_col1\" class=\"data row28 col1\" >least_frequent</td>\n",
              "            </tr>\n",
              "            <tr>\n",
              "                        <th id=\"T_745af_level0_row29\" class=\"row_heading level0 row29\" >29</th>\n",
              "                        <td id=\"T_745af_row29_col0\" class=\"data row29 col0\" >Normalize</td>\n",
              "                        <td id=\"T_745af_row29_col1\" class=\"data row29 col1\" >True</td>\n",
              "            </tr>\n",
              "            <tr>\n",
              "                        <th id=\"T_745af_level0_row30\" class=\"row_heading level0 row30\" >30</th>\n",
              "                        <td id=\"T_745af_row30_col0\" class=\"data row30 col0\" >Normalize Method</td>\n",
              "                        <td id=\"T_745af_row30_col1\" class=\"data row30 col1\" >zscore</td>\n",
              "            </tr>\n",
              "            <tr>\n",
              "                        <th id=\"T_745af_level0_row31\" class=\"row_heading level0 row31\" >31</th>\n",
              "                        <td id=\"T_745af_row31_col0\" class=\"data row31 col0\" >Transformation</td>\n",
              "                        <td id=\"T_745af_row31_col1\" class=\"data row31 col1\" >True</td>\n",
              "            </tr>\n",
              "            <tr>\n",
              "                        <th id=\"T_745af_level0_row32\" class=\"row_heading level0 row32\" >32</th>\n",
              "                        <td id=\"T_745af_row32_col0\" class=\"data row32 col0\" >Transformation Method</td>\n",
              "                        <td id=\"T_745af_row32_col1\" class=\"data row32 col1\" >yeo-johnson</td>\n",
              "            </tr>\n",
              "            <tr>\n",
              "                        <th id=\"T_745af_level0_row33\" class=\"row_heading level0 row33\" >33</th>\n",
              "                        <td id=\"T_745af_row33_col0\" class=\"data row33 col0\" >PCA</td>\n",
              "                        <td id=\"T_745af_row33_col1\" class=\"data row33 col1\" >False</td>\n",
              "            </tr>\n",
              "            <tr>\n",
              "                        <th id=\"T_745af_level0_row34\" class=\"row_heading level0 row34\" >34</th>\n",
              "                        <td id=\"T_745af_row34_col0\" class=\"data row34 col0\" >PCA Method</td>\n",
              "                        <td id=\"T_745af_row34_col1\" class=\"data row34 col1\" >None</td>\n",
              "            </tr>\n",
              "            <tr>\n",
              "                        <th id=\"T_745af_level0_row35\" class=\"row_heading level0 row35\" >35</th>\n",
              "                        <td id=\"T_745af_row35_col0\" class=\"data row35 col0\" >PCA Components</td>\n",
              "                        <td id=\"T_745af_row35_col1\" class=\"data row35 col1\" >None</td>\n",
              "            </tr>\n",
              "            <tr>\n",
              "                        <th id=\"T_745af_level0_row36\" class=\"row_heading level0 row36\" >36</th>\n",
              "                        <td id=\"T_745af_row36_col0\" class=\"data row36 col0\" >Ignore Low Variance</td>\n",
              "                        <td id=\"T_745af_row36_col1\" class=\"data row36 col1\" >True</td>\n",
              "            </tr>\n",
              "            <tr>\n",
              "                        <th id=\"T_745af_level0_row37\" class=\"row_heading level0 row37\" >37</th>\n",
              "                        <td id=\"T_745af_row37_col0\" class=\"data row37 col0\" >Combine Rare Levels</td>\n",
              "                        <td id=\"T_745af_row37_col1\" class=\"data row37 col1\" >False</td>\n",
              "            </tr>\n",
              "            <tr>\n",
              "                        <th id=\"T_745af_level0_row38\" class=\"row_heading level0 row38\" >38</th>\n",
              "                        <td id=\"T_745af_row38_col0\" class=\"data row38 col0\" >Rare Level Threshold</td>\n",
              "                        <td id=\"T_745af_row38_col1\" class=\"data row38 col1\" >None</td>\n",
              "            </tr>\n",
              "            <tr>\n",
              "                        <th id=\"T_745af_level0_row39\" class=\"row_heading level0 row39\" >39</th>\n",
              "                        <td id=\"T_745af_row39_col0\" class=\"data row39 col0\" >Numeric Binning</td>\n",
              "                        <td id=\"T_745af_row39_col1\" class=\"data row39 col1\" >False</td>\n",
              "            </tr>\n",
              "            <tr>\n",
              "                        <th id=\"T_745af_level0_row40\" class=\"row_heading level0 row40\" >40</th>\n",
              "                        <td id=\"T_745af_row40_col0\" class=\"data row40 col0\" >Remove Outliers</td>\n",
              "                        <td id=\"T_745af_row40_col1\" class=\"data row40 col1\" >False</td>\n",
              "            </tr>\n",
              "            <tr>\n",
              "                        <th id=\"T_745af_level0_row41\" class=\"row_heading level0 row41\" >41</th>\n",
              "                        <td id=\"T_745af_row41_col0\" class=\"data row41 col0\" >Outliers Threshold</td>\n",
              "                        <td id=\"T_745af_row41_col1\" class=\"data row41 col1\" >None</td>\n",
              "            </tr>\n",
              "            <tr>\n",
              "                        <th id=\"T_745af_level0_row42\" class=\"row_heading level0 row42\" >42</th>\n",
              "                        <td id=\"T_745af_row42_col0\" class=\"data row42 col0\" >Remove Multicollinearity</td>\n",
              "                        <td id=\"T_745af_row42_col1\" class=\"data row42 col1\" >False</td>\n",
              "            </tr>\n",
              "            <tr>\n",
              "                        <th id=\"T_745af_level0_row43\" class=\"row_heading level0 row43\" >43</th>\n",
              "                        <td id=\"T_745af_row43_col0\" class=\"data row43 col0\" >Multicollinearity Threshold</td>\n",
              "                        <td id=\"T_745af_row43_col1\" class=\"data row43 col1\" >None</td>\n",
              "            </tr>\n",
              "            <tr>\n",
              "                        <th id=\"T_745af_level0_row44\" class=\"row_heading level0 row44\" >44</th>\n",
              "                        <td id=\"T_745af_row44_col0\" class=\"data row44 col0\" >Remove Perfect Collinearity</td>\n",
              "                        <td id=\"T_745af_row44_col1\" class=\"data row44 col1\" >True</td>\n",
              "            </tr>\n",
              "            <tr>\n",
              "                        <th id=\"T_745af_level0_row45\" class=\"row_heading level0 row45\" >45</th>\n",
              "                        <td id=\"T_745af_row45_col0\" class=\"data row45 col0\" >Clustering</td>\n",
              "                        <td id=\"T_745af_row45_col1\" class=\"data row45 col1\" >False</td>\n",
              "            </tr>\n",
              "            <tr>\n",
              "                        <th id=\"T_745af_level0_row46\" class=\"row_heading level0 row46\" >46</th>\n",
              "                        <td id=\"T_745af_row46_col0\" class=\"data row46 col0\" >Clustering Iteration</td>\n",
              "                        <td id=\"T_745af_row46_col1\" class=\"data row46 col1\" >None</td>\n",
              "            </tr>\n",
              "            <tr>\n",
              "                        <th id=\"T_745af_level0_row47\" class=\"row_heading level0 row47\" >47</th>\n",
              "                        <td id=\"T_745af_row47_col0\" class=\"data row47 col0\" >Polynomial Features</td>\n",
              "                        <td id=\"T_745af_row47_col1\" class=\"data row47 col1\" >False</td>\n",
              "            </tr>\n",
              "            <tr>\n",
              "                        <th id=\"T_745af_level0_row48\" class=\"row_heading level0 row48\" >48</th>\n",
              "                        <td id=\"T_745af_row48_col0\" class=\"data row48 col0\" >Polynomial Degree</td>\n",
              "                        <td id=\"T_745af_row48_col1\" class=\"data row48 col1\" >None</td>\n",
              "            </tr>\n",
              "            <tr>\n",
              "                        <th id=\"T_745af_level0_row49\" class=\"row_heading level0 row49\" >49</th>\n",
              "                        <td id=\"T_745af_row49_col0\" class=\"data row49 col0\" >Trignometry Features</td>\n",
              "                        <td id=\"T_745af_row49_col1\" class=\"data row49 col1\" >False</td>\n",
              "            </tr>\n",
              "            <tr>\n",
              "                        <th id=\"T_745af_level0_row50\" class=\"row_heading level0 row50\" >50</th>\n",
              "                        <td id=\"T_745af_row50_col0\" class=\"data row50 col0\" >Polynomial Threshold</td>\n",
              "                        <td id=\"T_745af_row50_col1\" class=\"data row50 col1\" >None</td>\n",
              "            </tr>\n",
              "            <tr>\n",
              "                        <th id=\"T_745af_level0_row51\" class=\"row_heading level0 row51\" >51</th>\n",
              "                        <td id=\"T_745af_row51_col0\" class=\"data row51 col0\" >Group Features</td>\n",
              "                        <td id=\"T_745af_row51_col1\" class=\"data row51 col1\" >False</td>\n",
              "            </tr>\n",
              "            <tr>\n",
              "                        <th id=\"T_745af_level0_row52\" class=\"row_heading level0 row52\" >52</th>\n",
              "                        <td id=\"T_745af_row52_col0\" class=\"data row52 col0\" >Feature Selection</td>\n",
              "                        <td id=\"T_745af_row52_col1\" class=\"data row52 col1\" >False</td>\n",
              "            </tr>\n",
              "            <tr>\n",
              "                        <th id=\"T_745af_level0_row53\" class=\"row_heading level0 row53\" >53</th>\n",
              "                        <td id=\"T_745af_row53_col0\" class=\"data row53 col0\" >Feature Selection Method</td>\n",
              "                        <td id=\"T_745af_row53_col1\" class=\"data row53 col1\" >classic</td>\n",
              "            </tr>\n",
              "            <tr>\n",
              "                        <th id=\"T_745af_level0_row54\" class=\"row_heading level0 row54\" >54</th>\n",
              "                        <td id=\"T_745af_row54_col0\" class=\"data row54 col0\" >Features Selection Threshold</td>\n",
              "                        <td id=\"T_745af_row54_col1\" class=\"data row54 col1\" >None</td>\n",
              "            </tr>\n",
              "            <tr>\n",
              "                        <th id=\"T_745af_level0_row55\" class=\"row_heading level0 row55\" >55</th>\n",
              "                        <td id=\"T_745af_row55_col0\" class=\"data row55 col0\" >Feature Interaction</td>\n",
              "                        <td id=\"T_745af_row55_col1\" class=\"data row55 col1\" >False</td>\n",
              "            </tr>\n",
              "            <tr>\n",
              "                        <th id=\"T_745af_level0_row56\" class=\"row_heading level0 row56\" >56</th>\n",
              "                        <td id=\"T_745af_row56_col0\" class=\"data row56 col0\" >Feature Ratio</td>\n",
              "                        <td id=\"T_745af_row56_col1\" class=\"data row56 col1\" >False</td>\n",
              "            </tr>\n",
              "            <tr>\n",
              "                        <th id=\"T_745af_level0_row57\" class=\"row_heading level0 row57\" >57</th>\n",
              "                        <td id=\"T_745af_row57_col0\" class=\"data row57 col0\" >Interaction Threshold</td>\n",
              "                        <td id=\"T_745af_row57_col1\" class=\"data row57 col1\" >None</td>\n",
              "            </tr>\n",
              "            <tr>\n",
              "                        <th id=\"T_745af_level0_row58\" class=\"row_heading level0 row58\" >58</th>\n",
              "                        <td id=\"T_745af_row58_col0\" class=\"data row58 col0\" >Fix Imbalance</td>\n",
              "                        <td id=\"T_745af_row58_col1\" class=\"data row58 col1\" >False</td>\n",
              "            </tr>\n",
              "            <tr>\n",
              "                        <th id=\"T_745af_level0_row59\" class=\"row_heading level0 row59\" >59</th>\n",
              "                        <td id=\"T_745af_row59_col0\" class=\"data row59 col0\" >Fix Imbalance Method</td>\n",
              "                        <td id=\"T_745af_row59_col1\" class=\"data row59 col1\" >SMOTE</td>\n",
              "            </tr>\n",
              "    </tbody></table>"
            ],
            "text/plain": [
              "<pandas.io.formats.style.Styler at 0x1f783fd26a0>"
            ]
          },
          "metadata": {},
          "output_type": "display_data"
        }
      ]
    },
    {
      "cell_type": "code",
      "metadata": {
        "colab": {
          "base_uri": "https://localhost:8080/",
          "height": 641,
          "referenced_widgets": [
            "dfc728fda17547aeb5ad2d3472058ced",
            "06c73a7a24b243d9855eac7952f80c00",
            "eac6d1c2642d47e68750aa1a2fae53f3"
          ]
        },
        "id": "dGLkthiNnw3K",
        "outputId": "1556187e-2101-469c-9d74-95c6f31cce6e"
      },
      "source": [
        "best_model = compare_models(sort='Accuracy')\n",
        "# compare_models(sort='AUC')"
      ],
      "execution_count": null,
      "outputs": [
        {
          "data": {
            "text/html": [
              "<style  type=\"text/css\" >\n",
              "    #T_3d7bc_ th {\n",
              "          text-align: left;\n",
              "    }#T_3d7bc_row0_col0,#T_3d7bc_row0_col3,#T_3d7bc_row0_col4,#T_3d7bc_row1_col0,#T_3d7bc_row1_col1,#T_3d7bc_row1_col2,#T_3d7bc_row1_col3,#T_3d7bc_row1_col5,#T_3d7bc_row1_col6,#T_3d7bc_row1_col7,#T_3d7bc_row2_col0,#T_3d7bc_row2_col1,#T_3d7bc_row2_col2,#T_3d7bc_row2_col3,#T_3d7bc_row2_col4,#T_3d7bc_row2_col5,#T_3d7bc_row2_col6,#T_3d7bc_row2_col7,#T_3d7bc_row3_col0,#T_3d7bc_row3_col1,#T_3d7bc_row3_col2,#T_3d7bc_row3_col3,#T_3d7bc_row3_col4,#T_3d7bc_row3_col5,#T_3d7bc_row3_col6,#T_3d7bc_row3_col7,#T_3d7bc_row4_col0,#T_3d7bc_row4_col1,#T_3d7bc_row4_col2,#T_3d7bc_row4_col3,#T_3d7bc_row4_col4,#T_3d7bc_row4_col5,#T_3d7bc_row4_col6,#T_3d7bc_row4_col7,#T_3d7bc_row5_col0,#T_3d7bc_row5_col1,#T_3d7bc_row5_col2,#T_3d7bc_row5_col3,#T_3d7bc_row5_col4,#T_3d7bc_row5_col5,#T_3d7bc_row5_col6,#T_3d7bc_row5_col7,#T_3d7bc_row6_col0,#T_3d7bc_row6_col1,#T_3d7bc_row6_col2,#T_3d7bc_row6_col3,#T_3d7bc_row6_col4,#T_3d7bc_row6_col5,#T_3d7bc_row6_col6,#T_3d7bc_row6_col7,#T_3d7bc_row7_col0,#T_3d7bc_row7_col1,#T_3d7bc_row7_col2,#T_3d7bc_row7_col3,#T_3d7bc_row7_col4,#T_3d7bc_row7_col5,#T_3d7bc_row7_col6,#T_3d7bc_row7_col7,#T_3d7bc_row8_col0,#T_3d7bc_row8_col1,#T_3d7bc_row8_col2,#T_3d7bc_row8_col3,#T_3d7bc_row8_col4,#T_3d7bc_row8_col5,#T_3d7bc_row8_col6,#T_3d7bc_row8_col7,#T_3d7bc_row9_col0,#T_3d7bc_row9_col1,#T_3d7bc_row9_col2,#T_3d7bc_row9_col4,#T_3d7bc_row9_col5,#T_3d7bc_row9_col6,#T_3d7bc_row9_col7,#T_3d7bc_row10_col0,#T_3d7bc_row10_col1,#T_3d7bc_row10_col2,#T_3d7bc_row10_col3,#T_3d7bc_row10_col4,#T_3d7bc_row10_col5,#T_3d7bc_row10_col6,#T_3d7bc_row10_col7,#T_3d7bc_row11_col0,#T_3d7bc_row11_col1,#T_3d7bc_row11_col2,#T_3d7bc_row11_col3,#T_3d7bc_row11_col4,#T_3d7bc_row11_col5,#T_3d7bc_row11_col6,#T_3d7bc_row11_col7,#T_3d7bc_row12_col0,#T_3d7bc_row12_col1,#T_3d7bc_row12_col2,#T_3d7bc_row12_col3,#T_3d7bc_row12_col4,#T_3d7bc_row12_col5,#T_3d7bc_row12_col6,#T_3d7bc_row12_col7{\n",
              "            text-align:  left;\n",
              "            text-align:  left;\n",
              "        }#T_3d7bc_row0_col1,#T_3d7bc_row0_col2,#T_3d7bc_row0_col5,#T_3d7bc_row0_col6,#T_3d7bc_row0_col7,#T_3d7bc_row1_col4,#T_3d7bc_row9_col3{\n",
              "            text-align:  left;\n",
              "            text-align:  left;\n",
              "            background-color:  yellow;\n",
              "        }#T_3d7bc_row0_col8,#T_3d7bc_row1_col8,#T_3d7bc_row2_col8,#T_3d7bc_row5_col8,#T_3d7bc_row6_col8,#T_3d7bc_row7_col8,#T_3d7bc_row8_col8,#T_3d7bc_row9_col8,#T_3d7bc_row12_col8{\n",
              "            text-align:  left;\n",
              "            text-align:  left;\n",
              "            background-color:  lightgrey;\n",
              "        }#T_3d7bc_row3_col8,#T_3d7bc_row4_col8,#T_3d7bc_row10_col8,#T_3d7bc_row11_col8{\n",
              "            text-align:  left;\n",
              "            text-align:  left;\n",
              "            background-color:  yellow;\n",
              "            background-color:  lightgrey;\n",
              "        }</style><table id=\"T_3d7bc_\" ><thead>    <tr>        <th class=\"blank level0\" ></th>        <th class=\"col_heading level0 col0\" >Model</th>        <th class=\"col_heading level0 col1\" >Accuracy</th>        <th class=\"col_heading level0 col2\" >AUC</th>        <th class=\"col_heading level0 col3\" >Recall</th>        <th class=\"col_heading level0 col4\" >Prec.</th>        <th class=\"col_heading level0 col5\" >F1</th>        <th class=\"col_heading level0 col6\" >Kappa</th>        <th class=\"col_heading level0 col7\" >MCC</th>        <th class=\"col_heading level0 col8\" >TT (Sec)</th>    </tr></thead><tbody>\n",
              "                <tr>\n",
              "                        <th id=\"T_3d7bc_level0_row0\" class=\"row_heading level0 row0\" >gbc</th>\n",
              "                        <td id=\"T_3d7bc_row0_col0\" class=\"data row0 col0\" >Gradient Boosting Classifier</td>\n",
              "                        <td id=\"T_3d7bc_row0_col1\" class=\"data row0 col1\" >0.7694</td>\n",
              "                        <td id=\"T_3d7bc_row0_col2\" class=\"data row0 col2\" >0.8222</td>\n",
              "                        <td id=\"T_3d7bc_row0_col3\" class=\"data row0 col3\" >0.5919</td>\n",
              "                        <td id=\"T_3d7bc_row0_col4\" class=\"data row0 col4\" >0.6979</td>\n",
              "                        <td id=\"T_3d7bc_row0_col5\" class=\"data row0 col5\" >0.6362</td>\n",
              "                        <td id=\"T_3d7bc_row0_col6\" class=\"data row0 col6\" >0.4704</td>\n",
              "                        <td id=\"T_3d7bc_row0_col7\" class=\"data row0 col7\" >0.4769</td>\n",
              "                        <td id=\"T_3d7bc_row0_col8\" class=\"data row0 col8\" >0.0140</td>\n",
              "            </tr>\n",
              "            <tr>\n",
              "                        <th id=\"T_3d7bc_level0_row1\" class=\"row_heading level0 row1\" >rf</th>\n",
              "                        <td id=\"T_3d7bc_row1_col0\" class=\"data row1 col0\" >Random Forest Classifier</td>\n",
              "                        <td id=\"T_3d7bc_row1_col1\" class=\"data row1 col1\" >0.7601</td>\n",
              "                        <td id=\"T_3d7bc_row1_col2\" class=\"data row1 col2\" >0.8145</td>\n",
              "                        <td id=\"T_3d7bc_row1_col3\" class=\"data row1 col3\" >0.5443</td>\n",
              "                        <td id=\"T_3d7bc_row1_col4\" class=\"data row1 col4\" >0.6993</td>\n",
              "                        <td id=\"T_3d7bc_row1_col5\" class=\"data row1 col5\" >0.6098</td>\n",
              "                        <td id=\"T_3d7bc_row1_col6\" class=\"data row1 col6\" >0.4413</td>\n",
              "                        <td id=\"T_3d7bc_row1_col7\" class=\"data row1 col7\" >0.4498</td>\n",
              "                        <td id=\"T_3d7bc_row1_col8\" class=\"data row1 col8\" >0.0360</td>\n",
              "            </tr>\n",
              "            <tr>\n",
              "                        <th id=\"T_3d7bc_level0_row2\" class=\"row_heading level0 row2\" >lr</th>\n",
              "                        <td id=\"T_3d7bc_row2_col0\" class=\"data row2 col0\" >Logistic Regression</td>\n",
              "                        <td id=\"T_3d7bc_row2_col1\" class=\"data row2 col1\" >0.7485</td>\n",
              "                        <td id=\"T_3d7bc_row2_col2\" class=\"data row2 col2\" >0.8164</td>\n",
              "                        <td id=\"T_3d7bc_row2_col3\" class=\"data row2 col3\" >0.5786</td>\n",
              "                        <td id=\"T_3d7bc_row2_col4\" class=\"data row2 col4\" >0.6581</td>\n",
              "                        <td id=\"T_3d7bc_row2_col5\" class=\"data row2 col5\" >0.6103</td>\n",
              "                        <td id=\"T_3d7bc_row2_col6\" class=\"data row2 col6\" >0.4274</td>\n",
              "                        <td id=\"T_3d7bc_row2_col7\" class=\"data row2 col7\" >0.4330</td>\n",
              "                        <td id=\"T_3d7bc_row2_col8\" class=\"data row2 col8\" >0.4790</td>\n",
              "            </tr>\n",
              "            <tr>\n",
              "                        <th id=\"T_3d7bc_level0_row3\" class=\"row_heading level0 row3\" >ridge</th>\n",
              "                        <td id=\"T_3d7bc_row3_col0\" class=\"data row3 col0\" >Ridge Classifier</td>\n",
              "                        <td id=\"T_3d7bc_row3_col1\" class=\"data row3 col1\" >0.7415</td>\n",
              "                        <td id=\"T_3d7bc_row3_col2\" class=\"data row3 col2\" >0.0000</td>\n",
              "                        <td id=\"T_3d7bc_row3_col3\" class=\"data row3 col3\" >0.5581</td>\n",
              "                        <td id=\"T_3d7bc_row3_col4\" class=\"data row3 col4\" >0.6464</td>\n",
              "                        <td id=\"T_3d7bc_row3_col5\" class=\"data row3 col5\" >0.5920</td>\n",
              "                        <td id=\"T_3d7bc_row3_col6\" class=\"data row3 col6\" >0.4069</td>\n",
              "                        <td id=\"T_3d7bc_row3_col7\" class=\"data row3 col7\" >0.4133</td>\n",
              "                        <td id=\"T_3d7bc_row3_col8\" class=\"data row3 col8\" >0.0030</td>\n",
              "            </tr>\n",
              "            <tr>\n",
              "                        <th id=\"T_3d7bc_level0_row4\" class=\"row_heading level0 row4\" >lda</th>\n",
              "                        <td id=\"T_3d7bc_row4_col0\" class=\"data row4 col0\" >Linear Discriminant Analysis</td>\n",
              "                        <td id=\"T_3d7bc_row4_col1\" class=\"data row4 col1\" >0.7415</td>\n",
              "                        <td id=\"T_3d7bc_row4_col2\" class=\"data row4 col2\" >0.8074</td>\n",
              "                        <td id=\"T_3d7bc_row4_col3\" class=\"data row4 col3\" >0.5648</td>\n",
              "                        <td id=\"T_3d7bc_row4_col4\" class=\"data row4 col4\" >0.6438</td>\n",
              "                        <td id=\"T_3d7bc_row4_col5\" class=\"data row4 col5\" >0.5942</td>\n",
              "                        <td id=\"T_3d7bc_row4_col6\" class=\"data row4 col6\" >0.4083</td>\n",
              "                        <td id=\"T_3d7bc_row4_col7\" class=\"data row4 col7\" >0.4148</td>\n",
              "                        <td id=\"T_3d7bc_row4_col8\" class=\"data row4 col8\" >0.0030</td>\n",
              "            </tr>\n",
              "            <tr>\n",
              "                        <th id=\"T_3d7bc_level0_row5\" class=\"row_heading level0 row5\" >ada</th>\n",
              "                        <td id=\"T_3d7bc_row5_col0\" class=\"data row5 col0\" >Ada Boost Classifier</td>\n",
              "                        <td id=\"T_3d7bc_row5_col1\" class=\"data row5 col1\" >0.7413</td>\n",
              "                        <td id=\"T_3d7bc_row5_col2\" class=\"data row5 col2\" >0.7938</td>\n",
              "                        <td id=\"T_3d7bc_row5_col3\" class=\"data row5 col3\" >0.5771</td>\n",
              "                        <td id=\"T_3d7bc_row5_col4\" class=\"data row5 col4\" >0.6440</td>\n",
              "                        <td id=\"T_3d7bc_row5_col5\" class=\"data row5 col5\" >0.6061</td>\n",
              "                        <td id=\"T_3d7bc_row5_col6\" class=\"data row5 col6\" >0.4149</td>\n",
              "                        <td id=\"T_3d7bc_row5_col7\" class=\"data row5 col7\" >0.4181</td>\n",
              "                        <td id=\"T_3d7bc_row5_col8\" class=\"data row5 col8\" >0.0150</td>\n",
              "            </tr>\n",
              "            <tr>\n",
              "                        <th id=\"T_3d7bc_level0_row6\" class=\"row_heading level0 row6\" >et</th>\n",
              "                        <td id=\"T_3d7bc_row6_col0\" class=\"data row6 col0\" >Extra Trees Classifier</td>\n",
              "                        <td id=\"T_3d7bc_row6_col1\" class=\"data row6 col1\" >0.7389</td>\n",
              "                        <td id=\"T_3d7bc_row6_col2\" class=\"data row6 col2\" >0.7938</td>\n",
              "                        <td id=\"T_3d7bc_row6_col3\" class=\"data row6 col3\" >0.4971</td>\n",
              "                        <td id=\"T_3d7bc_row6_col4\" class=\"data row6 col4\" >0.6660</td>\n",
              "                        <td id=\"T_3d7bc_row6_col5\" class=\"data row6 col5\" >0.5653</td>\n",
              "                        <td id=\"T_3d7bc_row6_col6\" class=\"data row6 col6\" >0.3862</td>\n",
              "                        <td id=\"T_3d7bc_row6_col7\" class=\"data row6 col7\" >0.3965</td>\n",
              "                        <td id=\"T_3d7bc_row6_col8\" class=\"data row6 col8\" >0.0340</td>\n",
              "            </tr>\n",
              "            <tr>\n",
              "                        <th id=\"T_3d7bc_level0_row7\" class=\"row_heading level0 row7\" >knn</th>\n",
              "                        <td id=\"T_3d7bc_row7_col0\" class=\"data row7 col0\" >K Neighbors Classifier</td>\n",
              "                        <td id=\"T_3d7bc_row7_col1\" class=\"data row7 col1\" >0.7343</td>\n",
              "                        <td id=\"T_3d7bc_row7_col2\" class=\"data row7 col2\" >0.7877</td>\n",
              "                        <td id=\"T_3d7bc_row7_col3\" class=\"data row7 col3\" >0.5781</td>\n",
              "                        <td id=\"T_3d7bc_row7_col4\" class=\"data row7 col4\" >0.6289</td>\n",
              "                        <td id=\"T_3d7bc_row7_col5\" class=\"data row7 col5\" >0.6003</td>\n",
              "                        <td id=\"T_3d7bc_row7_col6\" class=\"data row7 col6\" >0.4025</td>\n",
              "                        <td id=\"T_3d7bc_row7_col7\" class=\"data row7 col7\" >0.4049</td>\n",
              "                        <td id=\"T_3d7bc_row7_col8\" class=\"data row7 col8\" >0.2320</td>\n",
              "            </tr>\n",
              "            <tr>\n",
              "                        <th id=\"T_3d7bc_level0_row8\" class=\"row_heading level0 row8\" >lightgbm</th>\n",
              "                        <td id=\"T_3d7bc_row8_col0\" class=\"data row8 col0\" >Light Gradient Boosting Machine</td>\n",
              "                        <td id=\"T_3d7bc_row8_col1\" class=\"data row8 col1\" >0.7274</td>\n",
              "                        <td id=\"T_3d7bc_row8_col2\" class=\"data row8 col2\" >0.7884</td>\n",
              "                        <td id=\"T_3d7bc_row8_col3\" class=\"data row8 col3\" >0.5781</td>\n",
              "                        <td id=\"T_3d7bc_row8_col4\" class=\"data row8 col4\" >0.6145</td>\n",
              "                        <td id=\"T_3d7bc_row8_col5\" class=\"data row8 col5\" >0.5945</td>\n",
              "                        <td id=\"T_3d7bc_row8_col6\" class=\"data row8 col6\" >0.3899</td>\n",
              "                        <td id=\"T_3d7bc_row8_col7\" class=\"data row8 col7\" >0.3912</td>\n",
              "                        <td id=\"T_3d7bc_row8_col8\" class=\"data row8 col8\" >0.0810</td>\n",
              "            </tr>\n",
              "            <tr>\n",
              "                        <th id=\"T_3d7bc_level0_row9\" class=\"row_heading level0 row9\" >svm</th>\n",
              "                        <td id=\"T_3d7bc_row9_col0\" class=\"data row9 col0\" >SVM - Linear Kernel</td>\n",
              "                        <td id=\"T_3d7bc_row9_col1\" class=\"data row9 col1\" >0.6854</td>\n",
              "                        <td id=\"T_3d7bc_row9_col2\" class=\"data row9 col2\" >0.0000</td>\n",
              "                        <td id=\"T_3d7bc_row9_col3\" class=\"data row9 col3\" >0.6376</td>\n",
              "                        <td id=\"T_3d7bc_row9_col4\" class=\"data row9 col4\" >0.5406</td>\n",
              "                        <td id=\"T_3d7bc_row9_col5\" class=\"data row9 col5\" >0.5741</td>\n",
              "                        <td id=\"T_3d7bc_row9_col6\" class=\"data row9 col6\" >0.3302</td>\n",
              "                        <td id=\"T_3d7bc_row9_col7\" class=\"data row9 col7\" >0.3444</td>\n",
              "                        <td id=\"T_3d7bc_row9_col8\" class=\"data row9 col8\" >0.0040</td>\n",
              "            </tr>\n",
              "            <tr>\n",
              "                        <th id=\"T_3d7bc_level0_row10\" class=\"row_heading level0 row10\" >dt</th>\n",
              "                        <td id=\"T_3d7bc_row10_col0\" class=\"data row10 col0\" >Decision Tree Classifier</td>\n",
              "                        <td id=\"T_3d7bc_row10_col1\" class=\"data row10 col1\" >0.6693</td>\n",
              "                        <td id=\"T_3d7bc_row10_col2\" class=\"data row10 col2\" >0.6340</td>\n",
              "                        <td id=\"T_3d7bc_row10_col3\" class=\"data row10 col3\" >0.5181</td>\n",
              "                        <td id=\"T_3d7bc_row10_col4\" class=\"data row10 col4\" >0.5228</td>\n",
              "                        <td id=\"T_3d7bc_row10_col5\" class=\"data row10 col5\" >0.5161</td>\n",
              "                        <td id=\"T_3d7bc_row10_col6\" class=\"data row10 col6\" >0.2667</td>\n",
              "                        <td id=\"T_3d7bc_row10_col7\" class=\"data row10 col7\" >0.2690</td>\n",
              "                        <td id=\"T_3d7bc_row10_col8\" class=\"data row10 col8\" >0.0030</td>\n",
              "            </tr>\n",
              "            <tr>\n",
              "                        <th id=\"T_3d7bc_level0_row11\" class=\"row_heading level0 row11\" >nb</th>\n",
              "                        <td id=\"T_3d7bc_row11_col0\" class=\"data row11 col0\" >Naive Bayes</td>\n",
              "                        <td id=\"T_3d7bc_row11_col1\" class=\"data row11 col1\" >0.6457</td>\n",
              "                        <td id=\"T_3d7bc_row11_col2\" class=\"data row11 col2\" >0.7315</td>\n",
              "                        <td id=\"T_3d7bc_row11_col3\" class=\"data row11 col3\" >0.0671</td>\n",
              "                        <td id=\"T_3d7bc_row11_col4\" class=\"data row11 col4\" >0.3500</td>\n",
              "                        <td id=\"T_3d7bc_row11_col5\" class=\"data row11 col5\" >0.1066</td>\n",
              "                        <td id=\"T_3d7bc_row11_col6\" class=\"data row11 col6\" >0.0251</td>\n",
              "                        <td id=\"T_3d7bc_row11_col7\" class=\"data row11 col7\" >0.0383</td>\n",
              "                        <td id=\"T_3d7bc_row11_col8\" class=\"data row11 col8\" >0.0030</td>\n",
              "            </tr>\n",
              "            <tr>\n",
              "                        <th id=\"T_3d7bc_level0_row12\" class=\"row_heading level0 row12\" >qda</th>\n",
              "                        <td id=\"T_3d7bc_row12_col0\" class=\"data row12 col0\" >Quadratic Discriminant Analysis</td>\n",
              "                        <td id=\"T_3d7bc_row12_col1\" class=\"data row12 col1\" >0.5731</td>\n",
              "                        <td id=\"T_3d7bc_row12_col2\" class=\"data row12 col2\" >0.5347</td>\n",
              "                        <td id=\"T_3d7bc_row12_col3\" class=\"data row12 col3\" >0.3724</td>\n",
              "                        <td id=\"T_3d7bc_row12_col4\" class=\"data row12 col4\" >0.3463</td>\n",
              "                        <td id=\"T_3d7bc_row12_col5\" class=\"data row12 col5\" >0.3085</td>\n",
              "                        <td id=\"T_3d7bc_row12_col6\" class=\"data row12 col6\" >0.0548</td>\n",
              "                        <td id=\"T_3d7bc_row12_col7\" class=\"data row12 col7\" >0.0702</td>\n",
              "                        <td id=\"T_3d7bc_row12_col8\" class=\"data row12 col8\" >0.0040</td>\n",
              "            </tr>\n",
              "    </tbody></table>"
            ],
            "text/plain": [
              "<pandas.io.formats.style.Styler at 0x1f783d34ee0>"
            ]
          },
          "metadata": {},
          "output_type": "display_data"
        }
      ]
    },
    {
      "cell_type": "markdown",
      "metadata": {
        "id": "-VWyc_94thQh"
      },
      "source": [
        "## Meaning of Prec., Recall,  F1, AUC\n",
        "- Precision (Pres.) is an indication of how many positive\n",
        "predictions are correct\n",
        "- Recall identifies how many actual positive examples are correctly identified. \n",
        "> There is always a tradeoff between precision and recall so a new performance measuring parameter F1 score is introduced. \n",
        "- F1 score is a harmonic mean of precision and recall which gives a balance value between precision and recall.\n",
        "- AUC is a measure of the area under the receiver operating characteristic curve."
      ]
    },
    {
      "cell_type": "code",
      "metadata": {
        "colab": {
          "base_uri": "https://localhost:8080/",
          "height": 376,
          "referenced_widgets": [
            "58265e4e75514ecb9300bcef297e2ab0",
            "a421ba9cc2c94b3989b0736909dc01b6",
            "9671bebe317a40659f740281cb681092",
            "69a6b09ca22944279c67a267fcee21b4"
          ]
        },
        "id": "JcVtMz_Afgm2",
        "outputId": "86dccfa0-da57-4e4a-f29a-ec9390aeab6e"
      },
      "source": [
        "current_model = 'rf'  # lightgbm\n",
        "model = create_model(current_model, fold =10)\n",
        "plot_model(model)"
      ],
      "execution_count": null,
      "outputs": [
        {
          "data": {
            "image/png": "[encoded data removed]",
            "text/plain": [
              "<Figure size 576x396 with 1 Axes>"
            ]
          },
          "metadata": {},
          "output_type": "display_data"
        }
      ]
    },
    {
      "cell_type": "code",
      "metadata": {
        "colab": {
          "base_uri": "https://localhost:8080/",
          "height": 401
        },
        "id": "qa0S4-FcUvHk",
        "outputId": "66da01c2-f623-401a-8a54-82de614abdd5"
      },
      "source": [
        "plot_model(model, plot = 'confusion_matrix')"
      ],
      "execution_count": null,
      "outputs": [
        {
          "data": {
            "image/png": "[encoded data removed]",
            "text/plain": [
              "<Figure size 576x396 with 1 Axes>"
            ]
          },
          "metadata": {},
          "output_type": "display_data"
        }
      ]
    },
    {
      "cell_type": "code",
      "metadata": {
        "colab": {
          "base_uri": "https://localhost:8080/",
          "height": 515
        },
        "id": "urfeL5RG_fbN",
        "outputId": "606fd4ed-b94d-4aef-f443-733810a780b3"
      },
      "source": [
        "plot_model(model, plot = 'feature')\n",
        "print(model.feature_importances_)"
      ],
      "execution_count": null,
      "outputs": [
        {
          "data": {
            "image/png": "[encoded data removed]",
            "text/plain": [
              "<Figure size 800x500 with 1 Axes>"
            ]
          },
          "metadata": {},
          "output_type": "display_data"
        },
        {
          "name": "stdout",
          "output_type": "stream",
          "text": [
            "[0.21752048 0.09677328 0.07909828 0.08490756 0.16650726 0.11307153\n",
            " 0.12017061 0.01113808 0.0116327  0.00515275 0.00290674 0.00375125\n",
            " 0.0027948  0.00175427 0.00033543 0.01362823 0.00948444 0.01369691\n",
            " 0.00755048 0.01255467 0.00643044 0.0096899  0.00944991]\n"
          ]
        }
      ]
    },
    {
      "cell_type": "markdown",
      "metadata": {
        "id": "59QVvJWbHd09"
      },
      "source": [
        "## SHAP\n",
        "- https://eair.tistory.com/30?category=0"
      ]
    },
    {
      "cell_type": "code",
      "metadata": {
        "colab": {
          "base_uri": "https://localhost:8080/",
          "height": 350
        },
        "id": "n-LZ9kj5PfGF",
        "outputId": "3362dcbc-45d0-48a2-ab7f-0067ff7d4805"
      },
      "source": [
        "# !pip install shap\n",
        "interpret_model(model)  # Interpretability of the model"
      ],
      "execution_count": null,
      "outputs": [
        {
          "data": {
            "image/png": "[encoded data removed]",
            "text/plain": [
              "<Figure size 576x684 with 2 Axes>"
            ]
          },
          "metadata": {},
          "output_type": "display_data"
        }
      ]
    },
    {
      "cell_type": "markdown",
      "metadata": {
        "id": "MS6LEHAIthQi"
      },
      "source": [
        "# Best model"
      ]
    },
    {
      "cell_type": "code",
      "metadata": {
        "colab": {
          "base_uri": "https://localhost:8080/",
          "height": 376,
          "referenced_widgets": [
            "e89bb956d6274c4ea2441690acb725fa",
            "b888195dc300475d8a365ef8df868e60",
            "c90f2421feb94d2ebae4fd2064554f57",
            "28504014aa6d42cd99d618c2af428196",
            "4a98dd8c27524353aab6047f7508278b",
            "1c7ad66e4c154111ad943a98d4210dfa"
          ]
        },
        "id": "sMEphVN9-3Sk",
        "outputId": "a8399300-63ea-496f-d9e7-928912007fe5"
      },
      "source": [
        "plot_model(best_model)"
      ],
      "execution_count": null,
      "outputs": [
        {
          "data": {
            "image/png": "[encoded data removed]",
            "text/plain": [
              "<Figure size 576x396 with 1 Axes>"
            ]
          },
          "metadata": {},
          "output_type": "display_data"
        }
      ]
    },
    {
      "cell_type": "code",
      "metadata": {
        "colab": {
          "base_uri": "https://localhost:8080/",
          "height": 401,
          "referenced_widgets": [
            "659d007398fa4fac9f5737f8a44ca5b4",
            "1d411f30d94a4512a5b3bfaeb3184f7f",
            "ff34a3a9cc4947d4978fb86ec5ec26d9"
          ]
        },
        "id": "4qQ4EKq7-3Sr",
        "outputId": "848b4461-a642-469a-bfd2-3662e82b5ed7"
      },
      "source": [
        "# LABELS = ['noDM', 'DM']\n",
        "plot_model(best_model, plot = 'confusion_matrix')"
      ],
      "execution_count": null,
      "outputs": [
        {
          "data": {
            "image/png": "[encoded data removed]",
            "text/plain": [
              "<Figure size 576x396 with 1 Axes>"
            ]
          },
          "metadata": {},
          "output_type": "display_data"
        }
      ]
    },
    {
      "cell_type": "code",
      "metadata": {
        "colab": {
          "base_uri": "https://localhost:8080/",
          "height": 515,
          "referenced_widgets": [
            "c109aad28cf7412da84f584bc15e47ff",
            "19b95efec33f40419f0a45a2712d7a0b",
            "743a1aa9a7d14fc9b9e231a4f1997ff9"
          ]
        },
        "id": "xVb4-6Rf-3Sr",
        "outputId": "4549f6c9-73d8-483d-a159-68674ca1fe53"
      },
      "source": [
        "plot_model(best_model, plot = 'feature')\n",
        "# print(best_model.feature_importances_)"
      ],
      "execution_count": null,
      "outputs": [
        {
          "data": {
            "image/png": "[encoded data removed]",
            "text/plain": [
              "<Figure size 800x500 with 1 Axes>"
            ]
          },
          "metadata": {},
          "output_type": "display_data"
        }
      ]
    },
    {
      "cell_type": "markdown",
      "metadata": {
        "id": "8Pcytzav-3Sr"
      },
      "source": [
        "## SHAP - xAI\n",
        "- https://eair.tistory.com/30?category=0\n",
        "- tree를 이용한 ML 모델에 적용."
      ]
    },
    {
      "cell_type": "code",
      "metadata": {
        "id": "CPvacETq-3Ss"
      },
      "source": [
        "# interpret_model(best_model)"
      ],
      "execution_count": null,
      "outputs": []
    },
    {
      "cell_type": "markdown",
      "metadata": {
        "id": "2wtFgnDEthQj"
      },
      "source": [
        "## Pycaret - score\n",
        "- 테스트 데이터에 적용하여 성능 평가.\n",
        "- https://towardsdatascience.com/predict-lead-score-the-right-way-using-pycaret-332faa780cfc"
      ]
    },
    {
      "cell_type": "code",
      "metadata": {
        "id": "7OACPVf_thQj",
        "outputId": "86e4b6d1-110d-4f8a-d43f-e381700ebcd7"
      },
      "source": [
        "type(data_unseen),data_unseen.shape,data_unseen.head(3)"
      ],
      "execution_count": null,
      "outputs": [
        {
          "data": {
            "text/plain": [
              "(pandas.core.frame.DataFrame,\n",
              " (154, 9),\n",
              "    Pregnancies  Glucose  BloodPressure  SkinThickness  Insulin   BMI  \\\n",
              " 0            1     89.0           66.0           23.0     94.0  28.1   \n",
              " 1            5    116.0           74.0           29.0    125.0  25.6   \n",
              " 2           10    115.0           72.0           29.0    125.0  35.3   \n",
              " \n",
              "    DiabetesPedigreeFunction  Age  Outcome  \n",
              " 0                     0.167   21        0  \n",
              " 1                     0.201   30        0  \n",
              " 2                     0.134   29        0  )"
            ]
          },
          "execution_count": 31,
          "metadata": {},
          "output_type": "execute_result"
        }
      ]
    },
    {
      "cell_type": "code",
      "metadata": {
        "colab": {
          "base_uri": "https://localhost:8080/",
          "height": 442
        },
        "id": "t1ZOaaVfkuyR",
        "outputId": "918b681c-7cba-4e36-d0bc-7deae0621af9"
      },
      "source": [
        "# Predict test data\n",
        "unseen_best_predictions = predict_model(best_model, data=data_unseen)\n",
        "unseen_best_predictions"
      ],
      "execution_count": null,
      "outputs": [
        {
          "data": {
            "text/html": [
              "<div>\n",
              "<style scoped>\n",
              "    .dataframe tbody tr th:only-of-type {\n",
              "        vertical-align: middle;\n",
              "    }\n",
              "\n",
              "    .dataframe tbody tr th {\n",
              "        vertical-align: top;\n",
              "    }\n",
              "\n",
              "    .dataframe thead th {\n",
              "        text-align: right;\n",
              "    }\n",
              "</style>\n",
              "<table border=\"1\" class=\"dataframe\">\n",
              "  <thead>\n",
              "    <tr style=\"text-align: right;\">\n",
              "      <th></th>\n",
              "      <th>Pregnancies</th>\n",
              "      <th>Glucose</th>\n",
              "      <th>BloodPressure</th>\n",
              "      <th>SkinThickness</th>\n",
              "      <th>Insulin</th>\n",
              "      <th>BMI</th>\n",
              "      <th>DiabetesPedigreeFunction</th>\n",
              "      <th>Age</th>\n",
              "      <th>Outcome</th>\n",
              "      <th>Label</th>\n",
              "      <th>Score</th>\n",
              "    </tr>\n",
              "  </thead>\n",
              "  <tbody>\n",
              "    <tr>\n",
              "      <th>0</th>\n",
              "      <td>1</td>\n",
              "      <td>89.0</td>\n",
              "      <td>66.0</td>\n",
              "      <td>23.0</td>\n",
              "      <td>94.0</td>\n",
              "      <td>28.1</td>\n",
              "      <td>0.167</td>\n",
              "      <td>21</td>\n",
              "      <td>0</td>\n",
              "      <td>0</td>\n",
              "      <td>0.9823</td>\n",
              "    </tr>\n",
              "    <tr>\n",
              "      <th>1</th>\n",
              "      <td>5</td>\n",
              "      <td>116.0</td>\n",
              "      <td>74.0</td>\n",
              "      <td>29.0</td>\n",
              "      <td>125.0</td>\n",
              "      <td>25.6</td>\n",
              "      <td>0.201</td>\n",
              "      <td>30</td>\n",
              "      <td>0</td>\n",
              "      <td>0</td>\n",
              "      <td>0.9004</td>\n",
              "    </tr>\n",
              "    <tr>\n",
              "      <th>2</th>\n",
              "      <td>10</td>\n",
              "      <td>115.0</td>\n",
              "      <td>72.0</td>\n",
              "      <td>29.0</td>\n",
              "      <td>125.0</td>\n",
              "      <td>35.3</td>\n",
              "      <td>0.134</td>\n",
              "      <td>29</td>\n",
              "      <td>0</td>\n",
              "      <td>1</td>\n",
              "      <td>0.5184</td>\n",
              "    </tr>\n",
              "    <tr>\n",
              "      <th>3</th>\n",
              "      <td>1</td>\n",
              "      <td>189.0</td>\n",
              "      <td>60.0</td>\n",
              "      <td>23.0</td>\n",
              "      <td>846.0</td>\n",
              "      <td>30.1</td>\n",
              "      <td>0.398</td>\n",
              "      <td>59</td>\n",
              "      <td>1</td>\n",
              "      <td>1</td>\n",
              "      <td>0.8978</td>\n",
              "    </tr>\n",
              "    <tr>\n",
              "      <th>4</th>\n",
              "      <td>5</td>\n",
              "      <td>166.0</td>\n",
              "      <td>72.0</td>\n",
              "      <td>19.0</td>\n",
              "      <td>175.0</td>\n",
              "      <td>25.8</td>\n",
              "      <td>0.587</td>\n",
              "      <td>51</td>\n",
              "      <td>1</td>\n",
              "      <td>1</td>\n",
              "      <td>0.7902</td>\n",
              "    </tr>\n",
              "    <tr>\n",
              "      <th>...</th>\n",
              "      <td>...</td>\n",
              "      <td>...</td>\n",
              "      <td>...</td>\n",
              "      <td>...</td>\n",
              "      <td>...</td>\n",
              "      <td>...</td>\n",
              "      <td>...</td>\n",
              "      <td>...</td>\n",
              "      <td>...</td>\n",
              "      <td>...</td>\n",
              "      <td>...</td>\n",
              "    </tr>\n",
              "    <tr>\n",
              "      <th>149</th>\n",
              "      <td>1</td>\n",
              "      <td>128.0</td>\n",
              "      <td>88.0</td>\n",
              "      <td>39.0</td>\n",
              "      <td>110.0</td>\n",
              "      <td>36.5</td>\n",
              "      <td>1.057</td>\n",
              "      <td>37</td>\n",
              "      <td>1</td>\n",
              "      <td>0</td>\n",
              "      <td>0.5344</td>\n",
              "    </tr>\n",
              "    <tr>\n",
              "      <th>150</th>\n",
              "      <td>1</td>\n",
              "      <td>106.0</td>\n",
              "      <td>76.0</td>\n",
              "      <td>29.0</td>\n",
              "      <td>125.0</td>\n",
              "      <td>37.5</td>\n",
              "      <td>0.197</td>\n",
              "      <td>26</td>\n",
              "      <td>0</td>\n",
              "      <td>0</td>\n",
              "      <td>0.8276</td>\n",
              "    </tr>\n",
              "    <tr>\n",
              "      <th>151</th>\n",
              "      <td>9</td>\n",
              "      <td>170.0</td>\n",
              "      <td>74.0</td>\n",
              "      <td>31.0</td>\n",
              "      <td>125.0</td>\n",
              "      <td>44.0</td>\n",
              "      <td>0.403</td>\n",
              "      <td>43</td>\n",
              "      <td>1</td>\n",
              "      <td>1</td>\n",
              "      <td>0.9924</td>\n",
              "    </tr>\n",
              "    <tr>\n",
              "      <th>152</th>\n",
              "      <td>5</td>\n",
              "      <td>121.0</td>\n",
              "      <td>72.0</td>\n",
              "      <td>23.0</td>\n",
              "      <td>112.0</td>\n",
              "      <td>26.2</td>\n",
              "      <td>0.245</td>\n",
              "      <td>30</td>\n",
              "      <td>0</td>\n",
              "      <td>0</td>\n",
              "      <td>0.8748</td>\n",
              "    </tr>\n",
              "    <tr>\n",
              "      <th>153</th>\n",
              "      <td>1</td>\n",
              "      <td>93.0</td>\n",
              "      <td>70.0</td>\n",
              "      <td>31.0</td>\n",
              "      <td>125.0</td>\n",
              "      <td>30.4</td>\n",
              "      <td>0.315</td>\n",
              "      <td>23</td>\n",
              "      <td>0</td>\n",
              "      <td>0</td>\n",
              "      <td>0.9135</td>\n",
              "    </tr>\n",
              "  </tbody>\n",
              "</table>\n",
              "<p>154 rows × 11 columns</p>\n",
              "</div>"
            ],
            "text/plain": [
              "     Pregnancies  Glucose  BloodPressure  SkinThickness  Insulin   BMI  \\\n",
              "0              1     89.0           66.0           23.0     94.0  28.1   \n",
              "1              5    116.0           74.0           29.0    125.0  25.6   \n",
              "2             10    115.0           72.0           29.0    125.0  35.3   \n",
              "3              1    189.0           60.0           23.0    846.0  30.1   \n",
              "4              5    166.0           72.0           19.0    175.0  25.8   \n",
              "..           ...      ...            ...            ...      ...   ...   \n",
              "149            1    128.0           88.0           39.0    110.0  36.5   \n",
              "150            1    106.0           76.0           29.0    125.0  37.5   \n",
              "151            9    170.0           74.0           31.0    125.0  44.0   \n",
              "152            5    121.0           72.0           23.0    112.0  26.2   \n",
              "153            1     93.0           70.0           31.0    125.0  30.4   \n",
              "\n",
              "     DiabetesPedigreeFunction  Age  Outcome  Label   Score  \n",
              "0                       0.167   21        0      0  0.9823  \n",
              "1                       0.201   30        0      0  0.9004  \n",
              "2                       0.134   29        0      1  0.5184  \n",
              "3                       0.398   59        1      1  0.8978  \n",
              "4                       0.587   51        1      1  0.7902  \n",
              "..                        ...  ...      ...    ...     ...  \n",
              "149                     1.057   37        1      0  0.5344  \n",
              "150                     0.197   26        0      0  0.8276  \n",
              "151                     0.403   43        1      1  0.9924  \n",
              "152                     0.245   30        0      0  0.8748  \n",
              "153                     0.315   23        0      0  0.9135  \n",
              "\n",
              "[154 rows x 11 columns]"
            ]
          },
          "execution_count": 32,
          "metadata": {},
          "output_type": "execute_result"
        }
      ]
    },
    {
      "cell_type": "code",
      "metadata": {
        "id": "rGR9HbIzthQj",
        "outputId": "774ccf89-bdaf-41e3-f2e4-0300a2c113b6"
      },
      "source": [
        "# unseen_predictions\n",
        "from sklearn.metrics import accuracy_score\n",
        "y_pred = list(unseen_best_predictions['Label'].values)\n",
        "y_true = list(unseen_best_predictions['Outcome'].values)\n",
        "best_accuracy = accuracy_score(y_true, y_pred)\n",
        "print(\"Accuracy of the best model: {}\".format(best_accuracy))\n"
      ],
      "execution_count": null,
      "outputs": [
        {
          "name": "stdout",
          "output_type": "stream",
          "text": [
            "Accuracy of the best model: 0.7662337662337663\n"
          ]
        }
      ]
    },
    {
      "cell_type": "markdown",
      "metadata": {
        "id": "kQFsAlbrthQj"
      },
      "source": [
        "### 트레이닝 accuracy 76.9% -> **No overfitting**"
      ]
    },
    {
      "cell_type": "code",
      "metadata": {
        "colab": {
          "base_uri": "https://localhost:8080/"
        },
        "id": "tNpp-Q0tz-yA",
        "outputId": "d601aa7e-997c-4114-c5e9-166c6644ca59"
      },
      "source": [
        "#confusion matrics\n",
        "from sklearn.metrics import confusion_matrix\n",
        "cm = confusion_matrix(y_true, y_pred)\n",
        "print(cm)"
      ],
      "execution_count": null,
      "outputs": [
        {
          "name": "stdout",
          "output_type": "stream",
          "text": [
            "[[81 15]\n",
            " [21 37]]\n"
          ]
        }
      ]
    },
    {
      "cell_type": "markdown",
      "metadata": {
        "id": "2nkFJ4--thQk"
      },
      "source": [
        "## Summary of the best model"
      ]
    },
    {
      "cell_type": "code",
      "metadata": {
        "id": "nVC7nJ7qthQk",
        "outputId": "bbe3c65a-3265-4a1a-b74b-5f89730bfa74",
        "colab": {
          "referenced_widgets": [
            "db62d4eed8df4a37bd9c987d32211b79"
          ]
        }
      },
      "source": [
        "evaluate_model(best_model)"
      ],
      "execution_count": null,
      "outputs": [
        {
          "data": {
            "application/vnd.jupyter.widget-view+json": {
              "model_id": "db62d4eed8df4a37bd9c987d32211b79",
              "version_major": 2,
              "version_minor": 0
            },
            "text/plain": [
              "interactive(children=(ToggleButtons(description='Plot Type:', icons=('',), options=(('Hyperparameters', 'param…"
            ]
          },
          "metadata": {},
          "output_type": "display_data"
        }
      ]
    },
    {
      "cell_type": "markdown",
      "metadata": {
        "id": "g5MevWlqthQk"
      },
      "source": [
        "---\n",
        "---"
      ]
    },
    {
      "cell_type": "markdown",
      "metadata": {
        "id": "7FNfKFEkthQk"
      },
      "source": [
        "## autoML using df2\n",
        "- df2 : zero-preprocessed data"
      ]
    },
    {
      "cell_type": "code",
      "metadata": {
        "id": "Q22SPJlGthQk",
        "outputId": "d11e5329-33f0-4f62-8fe2-b3530a05cf9f"
      },
      "source": [
        "df2.head()"
      ],
      "execution_count": null,
      "outputs": [
        {
          "data": {
            "text/html": [
              "<div>\n",
              "<style scoped>\n",
              "    .dataframe tbody tr th:only-of-type {\n",
              "        vertical-align: middle;\n",
              "    }\n",
              "\n",
              "    .dataframe tbody tr th {\n",
              "        vertical-align: top;\n",
              "    }\n",
              "\n",
              "    .dataframe thead th {\n",
              "        text-align: right;\n",
              "    }\n",
              "</style>\n",
              "<table border=\"1\" class=\"dataframe\">\n",
              "  <thead>\n",
              "    <tr style=\"text-align: right;\">\n",
              "      <th></th>\n",
              "      <th>Pregnancies</th>\n",
              "      <th>Glucose</th>\n",
              "      <th>BloodPressure</th>\n",
              "      <th>SkinThickness</th>\n",
              "      <th>Insulin</th>\n",
              "      <th>BMI</th>\n",
              "      <th>DiabetesPedigreeFunction</th>\n",
              "      <th>Age</th>\n",
              "      <th>Outcome</th>\n",
              "    </tr>\n",
              "  </thead>\n",
              "  <tbody>\n",
              "    <tr>\n",
              "      <th>0</th>\n",
              "      <td>6</td>\n",
              "      <td>148.0</td>\n",
              "      <td>72.0</td>\n",
              "      <td>35.0</td>\n",
              "      <td>125.0</td>\n",
              "      <td>33.6</td>\n",
              "      <td>0.627</td>\n",
              "      <td>50</td>\n",
              "      <td>1</td>\n",
              "    </tr>\n",
              "    <tr>\n",
              "      <th>1</th>\n",
              "      <td>1</td>\n",
              "      <td>85.0</td>\n",
              "      <td>66.0</td>\n",
              "      <td>29.0</td>\n",
              "      <td>125.0</td>\n",
              "      <td>26.6</td>\n",
              "      <td>0.351</td>\n",
              "      <td>31</td>\n",
              "      <td>0</td>\n",
              "    </tr>\n",
              "    <tr>\n",
              "      <th>2</th>\n",
              "      <td>8</td>\n",
              "      <td>183.0</td>\n",
              "      <td>64.0</td>\n",
              "      <td>29.0</td>\n",
              "      <td>125.0</td>\n",
              "      <td>23.3</td>\n",
              "      <td>0.672</td>\n",
              "      <td>32</td>\n",
              "      <td>1</td>\n",
              "    </tr>\n",
              "    <tr>\n",
              "      <th>3</th>\n",
              "      <td>1</td>\n",
              "      <td>89.0</td>\n",
              "      <td>66.0</td>\n",
              "      <td>23.0</td>\n",
              "      <td>94.0</td>\n",
              "      <td>28.1</td>\n",
              "      <td>0.167</td>\n",
              "      <td>21</td>\n",
              "      <td>0</td>\n",
              "    </tr>\n",
              "    <tr>\n",
              "      <th>4</th>\n",
              "      <td>0</td>\n",
              "      <td>137.0</td>\n",
              "      <td>40.0</td>\n",
              "      <td>35.0</td>\n",
              "      <td>168.0</td>\n",
              "      <td>43.1</td>\n",
              "      <td>2.288</td>\n",
              "      <td>33</td>\n",
              "      <td>1</td>\n",
              "    </tr>\n",
              "  </tbody>\n",
              "</table>\n",
              "</div>"
            ],
            "text/plain": [
              "   Pregnancies  Glucose  BloodPressure  SkinThickness  Insulin   BMI  \\\n",
              "0            6    148.0           72.0           35.0    125.0  33.6   \n",
              "1            1     85.0           66.0           29.0    125.0  26.6   \n",
              "2            8    183.0           64.0           29.0    125.0  23.3   \n",
              "3            1     89.0           66.0           23.0     94.0  28.1   \n",
              "4            0    137.0           40.0           35.0    168.0  43.1   \n",
              "\n",
              "   DiabetesPedigreeFunction  Age  Outcome  \n",
              "0                     0.627   50        1  \n",
              "1                     0.351   31        0  \n",
              "2                     0.672   32        1  \n",
              "3                     0.167   21        0  \n",
              "4                     2.288   33        1  "
            ]
          },
          "execution_count": 36,
          "metadata": {},
          "output_type": "execute_result"
        }
      ]
    },
    {
      "cell_type": "markdown",
      "metadata": {
        "id": "3M2Wn3FbthQk"
      },
      "source": [
        "### 위에서 Pregnancies, Age가 categorical(정수) feature. -> 해결 방법은?"
      ]
    },
    {
      "cell_type": "code",
      "metadata": {
        "id": "h5GA4hrIthQk",
        "outputId": "385ea2fd-34a3-426e-f25f-6288c233ae16"
      },
      "source": [
        "# pycaret으로 학습할려면 특징값은 float\n",
        "df2['Pregnancies'] = df['Pregnancies'].astype(float)\n",
        "df2['Age'] = df['Age'].astype(float)\n",
        "df2.head()"
      ],
      "execution_count": null,
      "outputs": [
        {
          "data": {
            "text/html": [
              "<div>\n",
              "<style scoped>\n",
              "    .dataframe tbody tr th:only-of-type {\n",
              "        vertical-align: middle;\n",
              "    }\n",
              "\n",
              "    .dataframe tbody tr th {\n",
              "        vertical-align: top;\n",
              "    }\n",
              "\n",
              "    .dataframe thead th {\n",
              "        text-align: right;\n",
              "    }\n",
              "</style>\n",
              "<table border=\"1\" class=\"dataframe\">\n",
              "  <thead>\n",
              "    <tr style=\"text-align: right;\">\n",
              "      <th></th>\n",
              "      <th>Pregnancies</th>\n",
              "      <th>Glucose</th>\n",
              "      <th>BloodPressure</th>\n",
              "      <th>SkinThickness</th>\n",
              "      <th>Insulin</th>\n",
              "      <th>BMI</th>\n",
              "      <th>DiabetesPedigreeFunction</th>\n",
              "      <th>Age</th>\n",
              "      <th>Outcome</th>\n",
              "    </tr>\n",
              "  </thead>\n",
              "  <tbody>\n",
              "    <tr>\n",
              "      <th>0</th>\n",
              "      <td>6.0</td>\n",
              "      <td>148.0</td>\n",
              "      <td>72.0</td>\n",
              "      <td>35.0</td>\n",
              "      <td>125.0</td>\n",
              "      <td>33.6</td>\n",
              "      <td>0.627</td>\n",
              "      <td>50.0</td>\n",
              "      <td>1</td>\n",
              "    </tr>\n",
              "    <tr>\n",
              "      <th>1</th>\n",
              "      <td>1.0</td>\n",
              "      <td>85.0</td>\n",
              "      <td>66.0</td>\n",
              "      <td>29.0</td>\n",
              "      <td>125.0</td>\n",
              "      <td>26.6</td>\n",
              "      <td>0.351</td>\n",
              "      <td>31.0</td>\n",
              "      <td>0</td>\n",
              "    </tr>\n",
              "    <tr>\n",
              "      <th>2</th>\n",
              "      <td>8.0</td>\n",
              "      <td>183.0</td>\n",
              "      <td>64.0</td>\n",
              "      <td>29.0</td>\n",
              "      <td>125.0</td>\n",
              "      <td>23.3</td>\n",
              "      <td>0.672</td>\n",
              "      <td>32.0</td>\n",
              "      <td>1</td>\n",
              "    </tr>\n",
              "    <tr>\n",
              "      <th>3</th>\n",
              "      <td>1.0</td>\n",
              "      <td>89.0</td>\n",
              "      <td>66.0</td>\n",
              "      <td>23.0</td>\n",
              "      <td>94.0</td>\n",
              "      <td>28.1</td>\n",
              "      <td>0.167</td>\n",
              "      <td>21.0</td>\n",
              "      <td>0</td>\n",
              "    </tr>\n",
              "    <tr>\n",
              "      <th>4</th>\n",
              "      <td>0.0</td>\n",
              "      <td>137.0</td>\n",
              "      <td>40.0</td>\n",
              "      <td>35.0</td>\n",
              "      <td>168.0</td>\n",
              "      <td>43.1</td>\n",
              "      <td>2.288</td>\n",
              "      <td>33.0</td>\n",
              "      <td>1</td>\n",
              "    </tr>\n",
              "  </tbody>\n",
              "</table>\n",
              "</div>"
            ],
            "text/plain": [
              "   Pregnancies  Glucose  BloodPressure  SkinThickness  Insulin   BMI  \\\n",
              "0          6.0    148.0           72.0           35.0    125.0  33.6   \n",
              "1          1.0     85.0           66.0           29.0    125.0  26.6   \n",
              "2          8.0    183.0           64.0           29.0    125.0  23.3   \n",
              "3          1.0     89.0           66.0           23.0     94.0  28.1   \n",
              "4          0.0    137.0           40.0           35.0    168.0  43.1   \n",
              "\n",
              "   DiabetesPedigreeFunction   Age  Outcome  \n",
              "0                     0.627  50.0        1  \n",
              "1                     0.351  31.0        0  \n",
              "2                     0.672  32.0        1  \n",
              "3                     0.167  21.0        0  \n",
              "4                     2.288  33.0        1  "
            ]
          },
          "execution_count": 37,
          "metadata": {},
          "output_type": "execute_result"
        }
      ]
    },
    {
      "cell_type": "code",
      "metadata": {
        "colab": {
          "base_uri": "https://localhost:8080/"
        },
        "id": "7g0Oy2ERthQl",
        "outputId": "f88cbb81-1d91-4688-c79b-a11e39ebe0ad"
      },
      "source": [
        "data = df2.sample(frac=0.8, random_state=786)  # 8:2 split\n",
        "data_unseen = df2.drop(data.index).reset_index(drop=True)\n",
        "data.reset_index(drop=True, inplace=True)\n",
        "\n",
        "print('Using df2')\n",
        "print('Data for Modeling: ' + str(data.shape))\n",
        "print('Unseen Data For Predictions ' + str(data_unseen.shape))"
      ],
      "execution_count": null,
      "outputs": [
        {
          "name": "stdout",
          "output_type": "stream",
          "text": [
            "Using df2\n",
            "Data for Modeling: (614, 9)\n",
            "Unseen Data For Predictions (154, 9)\n"
          ]
        }
      ]
    },
    {
      "cell_type": "code",
      "metadata": {
        "colab": {
          "base_uri": "https://localhost:8080/",
          "height": 1000,
          "referenced_widgets": [
            "cd23509d7f02408089e1e22483dd2b4f",
            "61fcdfb0ffe84d2d8472f8d8a9aade74",
            "bfc3d6b2f8d14da79561546291f25ed9"
          ]
        },
        "id": "Vq3fsRyIthQl",
        "outputId": "6c5404cb-5ff3-4a18-91c1-4493335cb977"
      },
      "source": [
        "clf = setup(data = data, target = 'Outcome', session_id=1104, \n",
        "                    normalize=True, \n",
        "                    transformation=True, \n",
        "                    ignore_low_variance=True,\n",
        "        #    remove_multicollinearity=True, multicollinearity_threshold=0.95,\n",
        "                    silent=True)"
      ],
      "execution_count": null,
      "outputs": [
        {
          "data": {
            "text/html": [
              "<style  type=\"text/css\" >\n",
              "#T_802bb_row29_col1,#T_802bb_row31_col1,#T_802bb_row36_col1,#T_802bb_row44_col1{\n",
              "            background-color:  lightgreen;\n",
              "        }</style><table id=\"T_802bb_\" ><thead>    <tr>        <th class=\"blank level0\" ></th>        <th class=\"col_heading level0 col0\" >Description</th>        <th class=\"col_heading level0 col1\" >Value</th>    </tr></thead><tbody>\n",
              "                <tr>\n",
              "                        <th id=\"T_802bb_level0_row0\" class=\"row_heading level0 row0\" >0</th>\n",
              "                        <td id=\"T_802bb_row0_col0\" class=\"data row0 col0\" >session_id</td>\n",
              "                        <td id=\"T_802bb_row0_col1\" class=\"data row0 col1\" >1104</td>\n",
              "            </tr>\n",
              "            <tr>\n",
              "                        <th id=\"T_802bb_level0_row1\" class=\"row_heading level0 row1\" >1</th>\n",
              "                        <td id=\"T_802bb_row1_col0\" class=\"data row1 col0\" >Target</td>\n",
              "                        <td id=\"T_802bb_row1_col1\" class=\"data row1 col1\" >Outcome</td>\n",
              "            </tr>\n",
              "            <tr>\n",
              "                        <th id=\"T_802bb_level0_row2\" class=\"row_heading level0 row2\" >2</th>\n",
              "                        <td id=\"T_802bb_row2_col0\" class=\"data row2 col0\" >Target Type</td>\n",
              "                        <td id=\"T_802bb_row2_col1\" class=\"data row2 col1\" >Binary</td>\n",
              "            </tr>\n",
              "            <tr>\n",
              "                        <th id=\"T_802bb_level0_row3\" class=\"row_heading level0 row3\" >3</th>\n",
              "                        <td id=\"T_802bb_row3_col0\" class=\"data row3 col0\" >Label Encoded</td>\n",
              "                        <td id=\"T_802bb_row3_col1\" class=\"data row3 col1\" >0: 0, 1: 1</td>\n",
              "            </tr>\n",
              "            <tr>\n",
              "                        <th id=\"T_802bb_level0_row4\" class=\"row_heading level0 row4\" >4</th>\n",
              "                        <td id=\"T_802bb_row4_col0\" class=\"data row4 col0\" >Original Data</td>\n",
              "                        <td id=\"T_802bb_row4_col1\" class=\"data row4 col1\" >(614, 9)</td>\n",
              "            </tr>\n",
              "            <tr>\n",
              "                        <th id=\"T_802bb_level0_row5\" class=\"row_heading level0 row5\" >5</th>\n",
              "                        <td id=\"T_802bb_row5_col0\" class=\"data row5 col0\" >Missing Values</td>\n",
              "                        <td id=\"T_802bb_row5_col1\" class=\"data row5 col1\" >False</td>\n",
              "            </tr>\n",
              "            <tr>\n",
              "                        <th id=\"T_802bb_level0_row6\" class=\"row_heading level0 row6\" >6</th>\n",
              "                        <td id=\"T_802bb_row6_col0\" class=\"data row6 col0\" >Numeric Features</td>\n",
              "                        <td id=\"T_802bb_row6_col1\" class=\"data row6 col1\" >8</td>\n",
              "            </tr>\n",
              "            <tr>\n",
              "                        <th id=\"T_802bb_level0_row7\" class=\"row_heading level0 row7\" >7</th>\n",
              "                        <td id=\"T_802bb_row7_col0\" class=\"data row7 col0\" >Categorical Features</td>\n",
              "                        <td id=\"T_802bb_row7_col1\" class=\"data row7 col1\" >0</td>\n",
              "            </tr>\n",
              "            <tr>\n",
              "                        <th id=\"T_802bb_level0_row8\" class=\"row_heading level0 row8\" >8</th>\n",
              "                        <td id=\"T_802bb_row8_col0\" class=\"data row8 col0\" >Ordinal Features</td>\n",
              "                        <td id=\"T_802bb_row8_col1\" class=\"data row8 col1\" >False</td>\n",
              "            </tr>\n",
              "            <tr>\n",
              "                        <th id=\"T_802bb_level0_row9\" class=\"row_heading level0 row9\" >9</th>\n",
              "                        <td id=\"T_802bb_row9_col0\" class=\"data row9 col0\" >High Cardinality Features</td>\n",
              "                        <td id=\"T_802bb_row9_col1\" class=\"data row9 col1\" >False</td>\n",
              "            </tr>\n",
              "            <tr>\n",
              "                        <th id=\"T_802bb_level0_row10\" class=\"row_heading level0 row10\" >10</th>\n",
              "                        <td id=\"T_802bb_row10_col0\" class=\"data row10 col0\" >High Cardinality Method</td>\n",
              "                        <td id=\"T_802bb_row10_col1\" class=\"data row10 col1\" >None</td>\n",
              "            </tr>\n",
              "            <tr>\n",
              "                        <th id=\"T_802bb_level0_row11\" class=\"row_heading level0 row11\" >11</th>\n",
              "                        <td id=\"T_802bb_row11_col0\" class=\"data row11 col0\" >Transformed Train Set</td>\n",
              "                        <td id=\"T_802bb_row11_col1\" class=\"data row11 col1\" >(429, 8)</td>\n",
              "            </tr>\n",
              "            <tr>\n",
              "                        <th id=\"T_802bb_level0_row12\" class=\"row_heading level0 row12\" >12</th>\n",
              "                        <td id=\"T_802bb_row12_col0\" class=\"data row12 col0\" >Transformed Test Set</td>\n",
              "                        <td id=\"T_802bb_row12_col1\" class=\"data row12 col1\" >(185, 8)</td>\n",
              "            </tr>\n",
              "            <tr>\n",
              "                        <th id=\"T_802bb_level0_row13\" class=\"row_heading level0 row13\" >13</th>\n",
              "                        <td id=\"T_802bb_row13_col0\" class=\"data row13 col0\" >Shuffle Train-Test</td>\n",
              "                        <td id=\"T_802bb_row13_col1\" class=\"data row13 col1\" >True</td>\n",
              "            </tr>\n",
              "            <tr>\n",
              "                        <th id=\"T_802bb_level0_row14\" class=\"row_heading level0 row14\" >14</th>\n",
              "                        <td id=\"T_802bb_row14_col0\" class=\"data row14 col0\" >Stratify Train-Test</td>\n",
              "                        <td id=\"T_802bb_row14_col1\" class=\"data row14 col1\" >False</td>\n",
              "            </tr>\n",
              "            <tr>\n",
              "                        <th id=\"T_802bb_level0_row15\" class=\"row_heading level0 row15\" >15</th>\n",
              "                        <td id=\"T_802bb_row15_col0\" class=\"data row15 col0\" >Fold Generator</td>\n",
              "                        <td id=\"T_802bb_row15_col1\" class=\"data row15 col1\" >StratifiedKFold</td>\n",
              "            </tr>\n",
              "            <tr>\n",
              "                        <th id=\"T_802bb_level0_row16\" class=\"row_heading level0 row16\" >16</th>\n",
              "                        <td id=\"T_802bb_row16_col0\" class=\"data row16 col0\" >Fold Number</td>\n",
              "                        <td id=\"T_802bb_row16_col1\" class=\"data row16 col1\" >10</td>\n",
              "            </tr>\n",
              "            <tr>\n",
              "                        <th id=\"T_802bb_level0_row17\" class=\"row_heading level0 row17\" >17</th>\n",
              "                        <td id=\"T_802bb_row17_col0\" class=\"data row17 col0\" >CPU Jobs</td>\n",
              "                        <td id=\"T_802bb_row17_col1\" class=\"data row17 col1\" >-1</td>\n",
              "            </tr>\n",
              "            <tr>\n",
              "                        <th id=\"T_802bb_level0_row18\" class=\"row_heading level0 row18\" >18</th>\n",
              "                        <td id=\"T_802bb_row18_col0\" class=\"data row18 col0\" >Use GPU</td>\n",
              "                        <td id=\"T_802bb_row18_col1\" class=\"data row18 col1\" >False</td>\n",
              "            </tr>\n",
              "            <tr>\n",
              "                        <th id=\"T_802bb_level0_row19\" class=\"row_heading level0 row19\" >19</th>\n",
              "                        <td id=\"T_802bb_row19_col0\" class=\"data row19 col0\" >Log Experiment</td>\n",
              "                        <td id=\"T_802bb_row19_col1\" class=\"data row19 col1\" >False</td>\n",
              "            </tr>\n",
              "            <tr>\n",
              "                        <th id=\"T_802bb_level0_row20\" class=\"row_heading level0 row20\" >20</th>\n",
              "                        <td id=\"T_802bb_row20_col0\" class=\"data row20 col0\" >Experiment Name</td>\n",
              "                        <td id=\"T_802bb_row20_col1\" class=\"data row20 col1\" >clf-default-name</td>\n",
              "            </tr>\n",
              "            <tr>\n",
              "                        <th id=\"T_802bb_level0_row21\" class=\"row_heading level0 row21\" >21</th>\n",
              "                        <td id=\"T_802bb_row21_col0\" class=\"data row21 col0\" >USI</td>\n",
              "                        <td id=\"T_802bb_row21_col1\" class=\"data row21 col1\" >eae2</td>\n",
              "            </tr>\n",
              "            <tr>\n",
              "                        <th id=\"T_802bb_level0_row22\" class=\"row_heading level0 row22\" >22</th>\n",
              "                        <td id=\"T_802bb_row22_col0\" class=\"data row22 col0\" >Imputation Type</td>\n",
              "                        <td id=\"T_802bb_row22_col1\" class=\"data row22 col1\" >simple</td>\n",
              "            </tr>\n",
              "            <tr>\n",
              "                        <th id=\"T_802bb_level0_row23\" class=\"row_heading level0 row23\" >23</th>\n",
              "                        <td id=\"T_802bb_row23_col0\" class=\"data row23 col0\" >Iterative Imputation Iteration</td>\n",
              "                        <td id=\"T_802bb_row23_col1\" class=\"data row23 col1\" >None</td>\n",
              "            </tr>\n",
              "            <tr>\n",
              "                        <th id=\"T_802bb_level0_row24\" class=\"row_heading level0 row24\" >24</th>\n",
              "                        <td id=\"T_802bb_row24_col0\" class=\"data row24 col0\" >Numeric Imputer</td>\n",
              "                        <td id=\"T_802bb_row24_col1\" class=\"data row24 col1\" >mean</td>\n",
              "            </tr>\n",
              "            <tr>\n",
              "                        <th id=\"T_802bb_level0_row25\" class=\"row_heading level0 row25\" >25</th>\n",
              "                        <td id=\"T_802bb_row25_col0\" class=\"data row25 col0\" >Iterative Imputation Numeric Model</td>\n",
              "                        <td id=\"T_802bb_row25_col1\" class=\"data row25 col1\" >None</td>\n",
              "            </tr>\n",
              "            <tr>\n",
              "                        <th id=\"T_802bb_level0_row26\" class=\"row_heading level0 row26\" >26</th>\n",
              "                        <td id=\"T_802bb_row26_col0\" class=\"data row26 col0\" >Categorical Imputer</td>\n",
              "                        <td id=\"T_802bb_row26_col1\" class=\"data row26 col1\" >constant</td>\n",
              "            </tr>\n",
              "            <tr>\n",
              "                        <th id=\"T_802bb_level0_row27\" class=\"row_heading level0 row27\" >27</th>\n",
              "                        <td id=\"T_802bb_row27_col0\" class=\"data row27 col0\" >Iterative Imputation Categorical Model</td>\n",
              "                        <td id=\"T_802bb_row27_col1\" class=\"data row27 col1\" >None</td>\n",
              "            </tr>\n",
              "            <tr>\n",
              "                        <th id=\"T_802bb_level0_row28\" class=\"row_heading level0 row28\" >28</th>\n",
              "                        <td id=\"T_802bb_row28_col0\" class=\"data row28 col0\" >Unknown Categoricals Handling</td>\n",
              "                        <td id=\"T_802bb_row28_col1\" class=\"data row28 col1\" >least_frequent</td>\n",
              "            </tr>\n",
              "            <tr>\n",
              "                        <th id=\"T_802bb_level0_row29\" class=\"row_heading level0 row29\" >29</th>\n",
              "                        <td id=\"T_802bb_row29_col0\" class=\"data row29 col0\" >Normalize</td>\n",
              "                        <td id=\"T_802bb_row29_col1\" class=\"data row29 col1\" >True</td>\n",
              "            </tr>\n",
              "            <tr>\n",
              "                        <th id=\"T_802bb_level0_row30\" class=\"row_heading level0 row30\" >30</th>\n",
              "                        <td id=\"T_802bb_row30_col0\" class=\"data row30 col0\" >Normalize Method</td>\n",
              "                        <td id=\"T_802bb_row30_col1\" class=\"data row30 col1\" >zscore</td>\n",
              "            </tr>\n",
              "            <tr>\n",
              "                        <th id=\"T_802bb_level0_row31\" class=\"row_heading level0 row31\" >31</th>\n",
              "                        <td id=\"T_802bb_row31_col0\" class=\"data row31 col0\" >Transformation</td>\n",
              "                        <td id=\"T_802bb_row31_col1\" class=\"data row31 col1\" >True</td>\n",
              "            </tr>\n",
              "            <tr>\n",
              "                        <th id=\"T_802bb_level0_row32\" class=\"row_heading level0 row32\" >32</th>\n",
              "                        <td id=\"T_802bb_row32_col0\" class=\"data row32 col0\" >Transformation Method</td>\n",
              "                        <td id=\"T_802bb_row32_col1\" class=\"data row32 col1\" >yeo-johnson</td>\n",
              "            </tr>\n",
              "            <tr>\n",
              "                        <th id=\"T_802bb_level0_row33\" class=\"row_heading level0 row33\" >33</th>\n",
              "                        <td id=\"T_802bb_row33_col0\" class=\"data row33 col0\" >PCA</td>\n",
              "                        <td id=\"T_802bb_row33_col1\" class=\"data row33 col1\" >False</td>\n",
              "            </tr>\n",
              "            <tr>\n",
              "                        <th id=\"T_802bb_level0_row34\" class=\"row_heading level0 row34\" >34</th>\n",
              "                        <td id=\"T_802bb_row34_col0\" class=\"data row34 col0\" >PCA Method</td>\n",
              "                        <td id=\"T_802bb_row34_col1\" class=\"data row34 col1\" >None</td>\n",
              "            </tr>\n",
              "            <tr>\n",
              "                        <th id=\"T_802bb_level0_row35\" class=\"row_heading level0 row35\" >35</th>\n",
              "                        <td id=\"T_802bb_row35_col0\" class=\"data row35 col0\" >PCA Components</td>\n",
              "                        <td id=\"T_802bb_row35_col1\" class=\"data row35 col1\" >None</td>\n",
              "            </tr>\n",
              "            <tr>\n",
              "                        <th id=\"T_802bb_level0_row36\" class=\"row_heading level0 row36\" >36</th>\n",
              "                        <td id=\"T_802bb_row36_col0\" class=\"data row36 col0\" >Ignore Low Variance</td>\n",
              "                        <td id=\"T_802bb_row36_col1\" class=\"data row36 col1\" >True</td>\n",
              "            </tr>\n",
              "            <tr>\n",
              "                        <th id=\"T_802bb_level0_row37\" class=\"row_heading level0 row37\" >37</th>\n",
              "                        <td id=\"T_802bb_row37_col0\" class=\"data row37 col0\" >Combine Rare Levels</td>\n",
              "                        <td id=\"T_802bb_row37_col1\" class=\"data row37 col1\" >False</td>\n",
              "            </tr>\n",
              "            <tr>\n",
              "                        <th id=\"T_802bb_level0_row38\" class=\"row_heading level0 row38\" >38</th>\n",
              "                        <td id=\"T_802bb_row38_col0\" class=\"data row38 col0\" >Rare Level Threshold</td>\n",
              "                        <td id=\"T_802bb_row38_col1\" class=\"data row38 col1\" >None</td>\n",
              "            </tr>\n",
              "            <tr>\n",
              "                        <th id=\"T_802bb_level0_row39\" class=\"row_heading level0 row39\" >39</th>\n",
              "                        <td id=\"T_802bb_row39_col0\" class=\"data row39 col0\" >Numeric Binning</td>\n",
              "                        <td id=\"T_802bb_row39_col1\" class=\"data row39 col1\" >False</td>\n",
              "            </tr>\n",
              "            <tr>\n",
              "                        <th id=\"T_802bb_level0_row40\" class=\"row_heading level0 row40\" >40</th>\n",
              "                        <td id=\"T_802bb_row40_col0\" class=\"data row40 col0\" >Remove Outliers</td>\n",
              "                        <td id=\"T_802bb_row40_col1\" class=\"data row40 col1\" >False</td>\n",
              "            </tr>\n",
              "            <tr>\n",
              "                        <th id=\"T_802bb_level0_row41\" class=\"row_heading level0 row41\" >41</th>\n",
              "                        <td id=\"T_802bb_row41_col0\" class=\"data row41 col0\" >Outliers Threshold</td>\n",
              "                        <td id=\"T_802bb_row41_col1\" class=\"data row41 col1\" >None</td>\n",
              "            </tr>\n",
              "            <tr>\n",
              "                        <th id=\"T_802bb_level0_row42\" class=\"row_heading level0 row42\" >42</th>\n",
              "                        <td id=\"T_802bb_row42_col0\" class=\"data row42 col0\" >Remove Multicollinearity</td>\n",
              "                        <td id=\"T_802bb_row42_col1\" class=\"data row42 col1\" >False</td>\n",
              "            </tr>\n",
              "            <tr>\n",
              "                        <th id=\"T_802bb_level0_row43\" class=\"row_heading level0 row43\" >43</th>\n",
              "                        <td id=\"T_802bb_row43_col0\" class=\"data row43 col0\" >Multicollinearity Threshold</td>\n",
              "                        <td id=\"T_802bb_row43_col1\" class=\"data row43 col1\" >None</td>\n",
              "            </tr>\n",
              "            <tr>\n",
              "                        <th id=\"T_802bb_level0_row44\" class=\"row_heading level0 row44\" >44</th>\n",
              "                        <td id=\"T_802bb_row44_col0\" class=\"data row44 col0\" >Remove Perfect Collinearity</td>\n",
              "                        <td id=\"T_802bb_row44_col1\" class=\"data row44 col1\" >True</td>\n",
              "            </tr>\n",
              "            <tr>\n",
              "                        <th id=\"T_802bb_level0_row45\" class=\"row_heading level0 row45\" >45</th>\n",
              "                        <td id=\"T_802bb_row45_col0\" class=\"data row45 col0\" >Clustering</td>\n",
              "                        <td id=\"T_802bb_row45_col1\" class=\"data row45 col1\" >False</td>\n",
              "            </tr>\n",
              "            <tr>\n",
              "                        <th id=\"T_802bb_level0_row46\" class=\"row_heading level0 row46\" >46</th>\n",
              "                        <td id=\"T_802bb_row46_col0\" class=\"data row46 col0\" >Clustering Iteration</td>\n",
              "                        <td id=\"T_802bb_row46_col1\" class=\"data row46 col1\" >None</td>\n",
              "            </tr>\n",
              "            <tr>\n",
              "                        <th id=\"T_802bb_level0_row47\" class=\"row_heading level0 row47\" >47</th>\n",
              "                        <td id=\"T_802bb_row47_col0\" class=\"data row47 col0\" >Polynomial Features</td>\n",
              "                        <td id=\"T_802bb_row47_col1\" class=\"data row47 col1\" >False</td>\n",
              "            </tr>\n",
              "            <tr>\n",
              "                        <th id=\"T_802bb_level0_row48\" class=\"row_heading level0 row48\" >48</th>\n",
              "                        <td id=\"T_802bb_row48_col0\" class=\"data row48 col0\" >Polynomial Degree</td>\n",
              "                        <td id=\"T_802bb_row48_col1\" class=\"data row48 col1\" >None</td>\n",
              "            </tr>\n",
              "            <tr>\n",
              "                        <th id=\"T_802bb_level0_row49\" class=\"row_heading level0 row49\" >49</th>\n",
              "                        <td id=\"T_802bb_row49_col0\" class=\"data row49 col0\" >Trignometry Features</td>\n",
              "                        <td id=\"T_802bb_row49_col1\" class=\"data row49 col1\" >False</td>\n",
              "            </tr>\n",
              "            <tr>\n",
              "                        <th id=\"T_802bb_level0_row50\" class=\"row_heading level0 row50\" >50</th>\n",
              "                        <td id=\"T_802bb_row50_col0\" class=\"data row50 col0\" >Polynomial Threshold</td>\n",
              "                        <td id=\"T_802bb_row50_col1\" class=\"data row50 col1\" >None</td>\n",
              "            </tr>\n",
              "            <tr>\n",
              "                        <th id=\"T_802bb_level0_row51\" class=\"row_heading level0 row51\" >51</th>\n",
              "                        <td id=\"T_802bb_row51_col0\" class=\"data row51 col0\" >Group Features</td>\n",
              "                        <td id=\"T_802bb_row51_col1\" class=\"data row51 col1\" >False</td>\n",
              "            </tr>\n",
              "            <tr>\n",
              "                        <th id=\"T_802bb_level0_row52\" class=\"row_heading level0 row52\" >52</th>\n",
              "                        <td id=\"T_802bb_row52_col0\" class=\"data row52 col0\" >Feature Selection</td>\n",
              "                        <td id=\"T_802bb_row52_col1\" class=\"data row52 col1\" >False</td>\n",
              "            </tr>\n",
              "            <tr>\n",
              "                        <th id=\"T_802bb_level0_row53\" class=\"row_heading level0 row53\" >53</th>\n",
              "                        <td id=\"T_802bb_row53_col0\" class=\"data row53 col0\" >Feature Selection Method</td>\n",
              "                        <td id=\"T_802bb_row53_col1\" class=\"data row53 col1\" >classic</td>\n",
              "            </tr>\n",
              "            <tr>\n",
              "                        <th id=\"T_802bb_level0_row54\" class=\"row_heading level0 row54\" >54</th>\n",
              "                        <td id=\"T_802bb_row54_col0\" class=\"data row54 col0\" >Features Selection Threshold</td>\n",
              "                        <td id=\"T_802bb_row54_col1\" class=\"data row54 col1\" >None</td>\n",
              "            </tr>\n",
              "            <tr>\n",
              "                        <th id=\"T_802bb_level0_row55\" class=\"row_heading level0 row55\" >55</th>\n",
              "                        <td id=\"T_802bb_row55_col0\" class=\"data row55 col0\" >Feature Interaction</td>\n",
              "                        <td id=\"T_802bb_row55_col1\" class=\"data row55 col1\" >False</td>\n",
              "            </tr>\n",
              "            <tr>\n",
              "                        <th id=\"T_802bb_level0_row56\" class=\"row_heading level0 row56\" >56</th>\n",
              "                        <td id=\"T_802bb_row56_col0\" class=\"data row56 col0\" >Feature Ratio</td>\n",
              "                        <td id=\"T_802bb_row56_col1\" class=\"data row56 col1\" >False</td>\n",
              "            </tr>\n",
              "            <tr>\n",
              "                        <th id=\"T_802bb_level0_row57\" class=\"row_heading level0 row57\" >57</th>\n",
              "                        <td id=\"T_802bb_row57_col0\" class=\"data row57 col0\" >Interaction Threshold</td>\n",
              "                        <td id=\"T_802bb_row57_col1\" class=\"data row57 col1\" >None</td>\n",
              "            </tr>\n",
              "            <tr>\n",
              "                        <th id=\"T_802bb_level0_row58\" class=\"row_heading level0 row58\" >58</th>\n",
              "                        <td id=\"T_802bb_row58_col0\" class=\"data row58 col0\" >Fix Imbalance</td>\n",
              "                        <td id=\"T_802bb_row58_col1\" class=\"data row58 col1\" >False</td>\n",
              "            </tr>\n",
              "            <tr>\n",
              "                        <th id=\"T_802bb_level0_row59\" class=\"row_heading level0 row59\" >59</th>\n",
              "                        <td id=\"T_802bb_row59_col0\" class=\"data row59 col0\" >Fix Imbalance Method</td>\n",
              "                        <td id=\"T_802bb_row59_col1\" class=\"data row59 col1\" >SMOTE</td>\n",
              "            </tr>\n",
              "    </tbody></table>"
            ],
            "text/plain": [
              "<pandas.io.formats.style.Styler at 0x1f794e515e0>"
            ]
          },
          "metadata": {},
          "output_type": "display_data"
        }
      ]
    },
    {
      "cell_type": "code",
      "metadata": {
        "colab": {
          "base_uri": "https://localhost:8080/",
          "height": 641,
          "referenced_widgets": [
            "dfc728fda17547aeb5ad2d3472058ced",
            "06c73a7a24b243d9855eac7952f80c00",
            "eac6d1c2642d47e68750aa1a2fae53f3"
          ]
        },
        "id": "mWnUDVoEthQl",
        "outputId": "1556187e-2101-469c-9d74-95c6f31cce6e"
      },
      "source": [
        "best_model2 = compare_models(sort='Accuracy')\n",
        "# compare_models(sort='AUC')"
      ],
      "execution_count": null,
      "outputs": [
        {
          "data": {
            "text/html": [
              "<style  type=\"text/css\" >\n",
              "    #T_1a596_ th {\n",
              "          text-align: left;\n",
              "    }#T_1a596_row0_col0,#T_1a596_row0_col2,#T_1a596_row0_col3,#T_1a596_row0_col4,#T_1a596_row1_col0,#T_1a596_row1_col1,#T_1a596_row1_col3,#T_1a596_row1_col4,#T_1a596_row1_col5,#T_1a596_row1_col6,#T_1a596_row1_col7,#T_1a596_row2_col0,#T_1a596_row2_col1,#T_1a596_row2_col2,#T_1a596_row2_col3,#T_1a596_row2_col5,#T_1a596_row2_col6,#T_1a596_row2_col7,#T_1a596_row3_col0,#T_1a596_row3_col1,#T_1a596_row3_col2,#T_1a596_row3_col3,#T_1a596_row3_col4,#T_1a596_row3_col5,#T_1a596_row3_col6,#T_1a596_row3_col7,#T_1a596_row4_col0,#T_1a596_row4_col1,#T_1a596_row4_col2,#T_1a596_row4_col3,#T_1a596_row4_col4,#T_1a596_row4_col5,#T_1a596_row4_col6,#T_1a596_row4_col7,#T_1a596_row5_col0,#T_1a596_row5_col1,#T_1a596_row5_col2,#T_1a596_row5_col3,#T_1a596_row5_col4,#T_1a596_row5_col5,#T_1a596_row5_col6,#T_1a596_row5_col7,#T_1a596_row6_col0,#T_1a596_row6_col1,#T_1a596_row6_col2,#T_1a596_row6_col3,#T_1a596_row6_col4,#T_1a596_row6_col5,#T_1a596_row6_col6,#T_1a596_row6_col7,#T_1a596_row7_col0,#T_1a596_row7_col1,#T_1a596_row7_col2,#T_1a596_row7_col3,#T_1a596_row7_col4,#T_1a596_row7_col5,#T_1a596_row7_col6,#T_1a596_row7_col7,#T_1a596_row8_col0,#T_1a596_row8_col1,#T_1a596_row8_col2,#T_1a596_row8_col4,#T_1a596_row8_col5,#T_1a596_row8_col6,#T_1a596_row8_col7,#T_1a596_row9_col0,#T_1a596_row9_col1,#T_1a596_row9_col2,#T_1a596_row9_col3,#T_1a596_row9_col4,#T_1a596_row9_col5,#T_1a596_row9_col6,#T_1a596_row9_col7,#T_1a596_row10_col0,#T_1a596_row10_col1,#T_1a596_row10_col2,#T_1a596_row10_col3,#T_1a596_row10_col4,#T_1a596_row10_col5,#T_1a596_row10_col6,#T_1a596_row10_col7,#T_1a596_row11_col0,#T_1a596_row11_col1,#T_1a596_row11_col2,#T_1a596_row11_col3,#T_1a596_row11_col4,#T_1a596_row11_col5,#T_1a596_row11_col6,#T_1a596_row11_col7,#T_1a596_row12_col0,#T_1a596_row12_col1,#T_1a596_row12_col2,#T_1a596_row12_col3,#T_1a596_row12_col4,#T_1a596_row12_col5,#T_1a596_row12_col6,#T_1a596_row12_col7{\n",
              "            text-align:  left;\n",
              "            text-align:  left;\n",
              "        }#T_1a596_row0_col1,#T_1a596_row0_col5,#T_1a596_row0_col6,#T_1a596_row0_col7,#T_1a596_row1_col2,#T_1a596_row2_col4,#T_1a596_row8_col3{\n",
              "            text-align:  left;\n",
              "            text-align:  left;\n",
              "            background-color:  yellow;\n",
              "        }#T_1a596_row0_col8,#T_1a596_row1_col8,#T_1a596_row2_col8,#T_1a596_row3_col8,#T_1a596_row4_col8,#T_1a596_row5_col8,#T_1a596_row6_col8,#T_1a596_row7_col8,#T_1a596_row9_col8,#T_1a596_row10_col8,#T_1a596_row11_col8,#T_1a596_row12_col8{\n",
              "            text-align:  left;\n",
              "            text-align:  left;\n",
              "            background-color:  lightgrey;\n",
              "        }#T_1a596_row8_col8{\n",
              "            text-align:  left;\n",
              "            text-align:  left;\n",
              "            background-color:  yellow;\n",
              "            background-color:  lightgrey;\n",
              "        }</style><table id=\"T_1a596_\" ><thead>    <tr>        <th class=\"blank level0\" ></th>        <th class=\"col_heading level0 col0\" >Model</th>        <th class=\"col_heading level0 col1\" >Accuracy</th>        <th class=\"col_heading level0 col2\" >AUC</th>        <th class=\"col_heading level0 col3\" >Recall</th>        <th class=\"col_heading level0 col4\" >Prec.</th>        <th class=\"col_heading level0 col5\" >F1</th>        <th class=\"col_heading level0 col6\" >Kappa</th>        <th class=\"col_heading level0 col7\" >MCC</th>        <th class=\"col_heading level0 col8\" >TT (Sec)</th>    </tr></thead><tbody>\n",
              "                <tr>\n",
              "                        <th id=\"T_1a596_level0_row0\" class=\"row_heading level0 row0\" >gbc</th>\n",
              "                        <td id=\"T_1a596_row0_col0\" class=\"data row0 col0\" >Gradient Boosting Classifier</td>\n",
              "                        <td id=\"T_1a596_row0_col1\" class=\"data row0 col1\" >0.7672</td>\n",
              "                        <td id=\"T_1a596_row0_col2\" class=\"data row0 col2\" >0.8183</td>\n",
              "                        <td id=\"T_1a596_row0_col3\" class=\"data row0 col3\" >0.6190</td>\n",
              "                        <td id=\"T_1a596_row0_col4\" class=\"data row0 col4\" >0.6852</td>\n",
              "                        <td id=\"T_1a596_row0_col5\" class=\"data row0 col5\" >0.6479</td>\n",
              "                        <td id=\"T_1a596_row0_col6\" class=\"data row0 col6\" >0.4752</td>\n",
              "                        <td id=\"T_1a596_row0_col7\" class=\"data row0 col7\" >0.4784</td>\n",
              "                        <td id=\"T_1a596_row0_col8\" class=\"data row0 col8\" >0.0250</td>\n",
              "            </tr>\n",
              "            <tr>\n",
              "                        <th id=\"T_1a596_level0_row1\" class=\"row_heading level0 row1\" >lr</th>\n",
              "                        <td id=\"T_1a596_row1_col0\" class=\"data row1 col0\" >Logistic Regression</td>\n",
              "                        <td id=\"T_1a596_row1_col1\" class=\"data row1 col1\" >0.7555</td>\n",
              "                        <td id=\"T_1a596_row1_col2\" class=\"data row1 col2\" >0.8247</td>\n",
              "                        <td id=\"T_1a596_row1_col3\" class=\"data row1 col3\" >0.5648</td>\n",
              "                        <td id=\"T_1a596_row1_col4\" class=\"data row1 col4\" >0.6797</td>\n",
              "                        <td id=\"T_1a596_row1_col5\" class=\"data row1 col5\" >0.6119</td>\n",
              "                        <td id=\"T_1a596_row1_col6\" class=\"data row1 col6\" >0.4371</td>\n",
              "                        <td id=\"T_1a596_row1_col7\" class=\"data row1 col7\" >0.4442</td>\n",
              "                        <td id=\"T_1a596_row1_col8\" class=\"data row1 col8\" >0.0060</td>\n",
              "            </tr>\n",
              "            <tr>\n",
              "                        <th id=\"T_1a596_level0_row2\" class=\"row_heading level0 row2\" >rf</th>\n",
              "                        <td id=\"T_1a596_row2_col0\" class=\"data row2 col0\" >Random Forest Classifier</td>\n",
              "                        <td id=\"T_1a596_row2_col1\" class=\"data row2 col1\" >0.7555</td>\n",
              "                        <td id=\"T_1a596_row2_col2\" class=\"data row2 col2\" >0.8009</td>\n",
              "                        <td id=\"T_1a596_row2_col3\" class=\"data row2 col3\" >0.5514</td>\n",
              "                        <td id=\"T_1a596_row2_col4\" class=\"data row2 col4\" >0.6869</td>\n",
              "                        <td id=\"T_1a596_row2_col5\" class=\"data row2 col5\" >0.6080</td>\n",
              "                        <td id=\"T_1a596_row2_col6\" class=\"data row2 col6\" >0.4344</td>\n",
              "                        <td id=\"T_1a596_row2_col7\" class=\"data row2 col7\" >0.4422</td>\n",
              "                        <td id=\"T_1a596_row2_col8\" class=\"data row2 col8\" >0.0570</td>\n",
              "            </tr>\n",
              "            <tr>\n",
              "                        <th id=\"T_1a596_level0_row3\" class=\"row_heading level0 row3\" >ada</th>\n",
              "                        <td id=\"T_1a596_row3_col0\" class=\"data row3 col0\" >Ada Boost Classifier</td>\n",
              "                        <td id=\"T_1a596_row3_col1\" class=\"data row3 col1\" >0.7554</td>\n",
              "                        <td id=\"T_1a596_row3_col2\" class=\"data row3 col2\" >0.8029</td>\n",
              "                        <td id=\"T_1a596_row3_col3\" class=\"data row3 col3\" >0.5981</td>\n",
              "                        <td id=\"T_1a596_row3_col4\" class=\"data row3 col4\" >0.6648</td>\n",
              "                        <td id=\"T_1a596_row3_col5\" class=\"data row3 col5\" >0.6285</td>\n",
              "                        <td id=\"T_1a596_row3_col6\" class=\"data row3 col6\" >0.4473</td>\n",
              "                        <td id=\"T_1a596_row3_col7\" class=\"data row3 col7\" >0.4495</td>\n",
              "                        <td id=\"T_1a596_row3_col8\" class=\"data row3 col8\" >0.0220</td>\n",
              "            </tr>\n",
              "            <tr>\n",
              "                        <th id=\"T_1a596_level0_row4\" class=\"row_heading level0 row4\" >ridge</th>\n",
              "                        <td id=\"T_1a596_row4_col0\" class=\"data row4 col0\" >Ridge Classifier</td>\n",
              "                        <td id=\"T_1a596_row4_col1\" class=\"data row4 col1\" >0.7485</td>\n",
              "                        <td id=\"T_1a596_row4_col2\" class=\"data row4 col2\" >0.0000</td>\n",
              "                        <td id=\"T_1a596_row4_col3\" class=\"data row4 col3\" >0.5648</td>\n",
              "                        <td id=\"T_1a596_row4_col4\" class=\"data row4 col4\" >0.6658</td>\n",
              "                        <td id=\"T_1a596_row4_col5\" class=\"data row4 col5\" >0.6052</td>\n",
              "                        <td id=\"T_1a596_row4_col6\" class=\"data row4 col6\" >0.4241</td>\n",
              "                        <td id=\"T_1a596_row4_col7\" class=\"data row4 col7\" >0.4310</td>\n",
              "                        <td id=\"T_1a596_row4_col8\" class=\"data row4 col8\" >0.0040</td>\n",
              "            </tr>\n",
              "            <tr>\n",
              "                        <th id=\"T_1a596_level0_row5\" class=\"row_heading level0 row5\" >lda</th>\n",
              "                        <td id=\"T_1a596_row5_col0\" class=\"data row5 col0\" >Linear Discriminant Analysis</td>\n",
              "                        <td id=\"T_1a596_row5_col1\" class=\"data row5 col1\" >0.7462</td>\n",
              "                        <td id=\"T_1a596_row5_col2\" class=\"data row5 col2\" >0.8238</td>\n",
              "                        <td id=\"T_1a596_row5_col3\" class=\"data row5 col3\" >0.5648</td>\n",
              "                        <td id=\"T_1a596_row5_col4\" class=\"data row5 col4\" >0.6617</td>\n",
              "                        <td id=\"T_1a596_row5_col5\" class=\"data row5 col5\" >0.6031</td>\n",
              "                        <td id=\"T_1a596_row5_col6\" class=\"data row5 col6\" >0.4198</td>\n",
              "                        <td id=\"T_1a596_row5_col7\" class=\"data row5 col7\" >0.4268</td>\n",
              "                        <td id=\"T_1a596_row5_col8\" class=\"data row5 col8\" >0.0040</td>\n",
              "            </tr>\n",
              "            <tr>\n",
              "                        <th id=\"T_1a596_level0_row6\" class=\"row_heading level0 row6\" >et</th>\n",
              "                        <td id=\"T_1a596_row6_col0\" class=\"data row6 col0\" >Extra Trees Classifier</td>\n",
              "                        <td id=\"T_1a596_row6_col1\" class=\"data row6 col1\" >0.7461</td>\n",
              "                        <td id=\"T_1a596_row6_col2\" class=\"data row6 col2\" >0.8067</td>\n",
              "                        <td id=\"T_1a596_row6_col3\" class=\"data row6 col3\" >0.5519</td>\n",
              "                        <td id=\"T_1a596_row6_col4\" class=\"data row6 col4\" >0.6607</td>\n",
              "                        <td id=\"T_1a596_row6_col5\" class=\"data row6 col5\" >0.5979</td>\n",
              "                        <td id=\"T_1a596_row6_col6\" class=\"data row6 col6\" >0.4158</td>\n",
              "                        <td id=\"T_1a596_row6_col7\" class=\"data row6 col7\" >0.4218</td>\n",
              "                        <td id=\"T_1a596_row6_col8\" class=\"data row6 col8\" >0.0560</td>\n",
              "            </tr>\n",
              "            <tr>\n",
              "                        <th id=\"T_1a596_level0_row7\" class=\"row_heading level0 row7\" >qda</th>\n",
              "                        <td id=\"T_1a596_row7_col0\" class=\"data row7 col0\" >Quadratic Discriminant Analysis</td>\n",
              "                        <td id=\"T_1a596_row7_col1\" class=\"data row7 col1\" >0.7415</td>\n",
              "                        <td id=\"T_1a596_row7_col2\" class=\"data row7 col2\" >0.8032</td>\n",
              "                        <td id=\"T_1a596_row7_col3\" class=\"data row7 col3\" >0.6043</td>\n",
              "                        <td id=\"T_1a596_row7_col4\" class=\"data row7 col4\" >0.6387</td>\n",
              "                        <td id=\"T_1a596_row7_col5\" class=\"data row7 col5\" >0.6157</td>\n",
              "                        <td id=\"T_1a596_row7_col6\" class=\"data row7 col6\" >0.4224</td>\n",
              "                        <td id=\"T_1a596_row7_col7\" class=\"data row7 col7\" >0.4268</td>\n",
              "                        <td id=\"T_1a596_row7_col8\" class=\"data row7 col8\" >0.0040</td>\n",
              "            </tr>\n",
              "            <tr>\n",
              "                        <th id=\"T_1a596_level0_row8\" class=\"row_heading level0 row8\" >nb</th>\n",
              "                        <td id=\"T_1a596_row8_col0\" class=\"data row8 col0\" >Naive Bayes</td>\n",
              "                        <td id=\"T_1a596_row8_col1\" class=\"data row8 col1\" >0.7368</td>\n",
              "                        <td id=\"T_1a596_row8_col2\" class=\"data row8 col2\" >0.8151</td>\n",
              "                        <td id=\"T_1a596_row8_col3\" class=\"data row8 col3\" >0.6519</td>\n",
              "                        <td id=\"T_1a596_row8_col4\" class=\"data row8 col4\" >0.6127</td>\n",
              "                        <td id=\"T_1a596_row8_col5\" class=\"data row8 col5\" >0.6284</td>\n",
              "                        <td id=\"T_1a596_row8_col6\" class=\"data row8 col6\" >0.4256</td>\n",
              "                        <td id=\"T_1a596_row8_col7\" class=\"data row8 col7\" >0.4289</td>\n",
              "                        <td id=\"T_1a596_row8_col8\" class=\"data row8 col8\" >0.0030</td>\n",
              "            </tr>\n",
              "            <tr>\n",
              "                        <th id=\"T_1a596_level0_row9\" class=\"row_heading level0 row9\" >lightgbm</th>\n",
              "                        <td id=\"T_1a596_row9_col0\" class=\"data row9 col0\" >Light Gradient Boosting Machine</td>\n",
              "                        <td id=\"T_1a596_row9_col1\" class=\"data row9 col1\" >0.7297</td>\n",
              "                        <td id=\"T_1a596_row9_col2\" class=\"data row9 col2\" >0.7903</td>\n",
              "                        <td id=\"T_1a596_row9_col3\" class=\"data row9 col3\" >0.5848</td>\n",
              "                        <td id=\"T_1a596_row9_col4\" class=\"data row9 col4\" >0.6162</td>\n",
              "                        <td id=\"T_1a596_row9_col5\" class=\"data row9 col5\" >0.5966</td>\n",
              "                        <td id=\"T_1a596_row9_col6\" class=\"data row9 col6\" >0.3948</td>\n",
              "                        <td id=\"T_1a596_row9_col7\" class=\"data row9 col7\" >0.3974</td>\n",
              "                        <td id=\"T_1a596_row9_col8\" class=\"data row9 col8\" >0.0510</td>\n",
              "            </tr>\n",
              "            <tr>\n",
              "                        <th id=\"T_1a596_level0_row10\" class=\"row_heading level0 row10\" >knn</th>\n",
              "                        <td id=\"T_1a596_row10_col0\" class=\"data row10 col0\" >K Neighbors Classifier</td>\n",
              "                        <td id=\"T_1a596_row10_col1\" class=\"data row10 col1\" >0.7275</td>\n",
              "                        <td id=\"T_1a596_row10_col2\" class=\"data row10 col2\" >0.7682</td>\n",
              "                        <td id=\"T_1a596_row10_col3\" class=\"data row10 col3\" >0.5586</td>\n",
              "                        <td id=\"T_1a596_row10_col4\" class=\"data row10 col4\" >0.6188</td>\n",
              "                        <td id=\"T_1a596_row10_col5\" class=\"data row10 col5\" >0.5822</td>\n",
              "                        <td id=\"T_1a596_row10_col6\" class=\"data row10 col6\" >0.3826</td>\n",
              "                        <td id=\"T_1a596_row10_col7\" class=\"data row10 col7\" >0.3866</td>\n",
              "                        <td id=\"T_1a596_row10_col8\" class=\"data row10 col8\" >0.0060</td>\n",
              "            </tr>\n",
              "            <tr>\n",
              "                        <th id=\"T_1a596_level0_row11\" class=\"row_heading level0 row11\" >svm</th>\n",
              "                        <td id=\"T_1a596_row11_col0\" class=\"data row11 col0\" >SVM - Linear Kernel</td>\n",
              "                        <td id=\"T_1a596_row11_col1\" class=\"data row11 col1\" >0.6834</td>\n",
              "                        <td id=\"T_1a596_row11_col2\" class=\"data row11 col2\" >0.0000</td>\n",
              "                        <td id=\"T_1a596_row11_col3\" class=\"data row11 col3\" >0.5186</td>\n",
              "                        <td id=\"T_1a596_row11_col4\" class=\"data row11 col4\" >0.6044</td>\n",
              "                        <td id=\"T_1a596_row11_col5\" class=\"data row11 col5\" >0.5181</td>\n",
              "                        <td id=\"T_1a596_row11_col6\" class=\"data row11 col6\" >0.2930</td>\n",
              "                        <td id=\"T_1a596_row11_col7\" class=\"data row11 col7\" >0.3131</td>\n",
              "                        <td id=\"T_1a596_row11_col8\" class=\"data row11 col8\" >0.0050</td>\n",
              "            </tr>\n",
              "            <tr>\n",
              "                        <th id=\"T_1a596_level0_row12\" class=\"row_heading level0 row12\" >dt</th>\n",
              "                        <td id=\"T_1a596_row12_col0\" class=\"data row12 col0\" >Decision Tree Classifier</td>\n",
              "                        <td id=\"T_1a596_row12_col1\" class=\"data row12 col1\" >0.6506</td>\n",
              "                        <td id=\"T_1a596_row12_col2\" class=\"data row12 col2\" >0.6198</td>\n",
              "                        <td id=\"T_1a596_row12_col3\" class=\"data row12 col3\" >0.5181</td>\n",
              "                        <td id=\"T_1a596_row12_col4\" class=\"data row12 col4\" >0.4909</td>\n",
              "                        <td id=\"T_1a596_row12_col5\" class=\"data row12 col5\" >0.4979</td>\n",
              "                        <td id=\"T_1a596_row12_col6\" class=\"data row12 col6\" >0.2327</td>\n",
              "                        <td id=\"T_1a596_row12_col7\" class=\"data row12 col7\" >0.2368</td>\n",
              "                        <td id=\"T_1a596_row12_col8\" class=\"data row12 col8\" >0.0040</td>\n",
              "            </tr>\n",
              "    </tbody></table>"
            ],
            "text/plain": [
              "<pandas.io.formats.style.Styler at 0x1f794e4d400>"
            ]
          },
          "metadata": {},
          "output_type": "display_data"
        }
      ]
    },
    {
      "cell_type": "markdown",
      "metadata": {
        "id": "gaM5xZoxthQl"
      },
      "source": [
        "### Accuracy가 약간 높아졌지만 큰 차이는 없다."
      ]
    },
    {
      "cell_type": "code",
      "metadata": {
        "id": "10zPcdqFthQl",
        "outputId": "11a6c8fa-5a81-4a15-c420-85726f7739ed"
      },
      "source": [
        "plot_model(best_model2)"
      ],
      "execution_count": null,
      "outputs": [
        {
          "data": {
            "image/png": "[encoded data removed]",
            "text/plain": [
              "<Figure size 576x396 with 1 Axes>"
            ]
          },
          "metadata": {},
          "output_type": "display_data"
        }
      ]
    },
    {
      "cell_type": "code",
      "metadata": {
        "id": "axdflIl7thQl",
        "outputId": "c2276b4c-ba66-43ed-bf92-dc078b8c98d8"
      },
      "source": [
        "plot_model(best_model2, 'confusion_matrix')"
      ],
      "execution_count": null,
      "outputs": [
        {
          "data": {
            "image/png": "[encoded data removed]",
            "text/plain": [
              "<Figure size 576x396 with 1 Axes>"
            ]
          },
          "metadata": {},
          "output_type": "display_data"
        }
      ]
    },
    {
      "cell_type": "code",
      "metadata": {
        "id": "rRnnB5gJthQl",
        "outputId": "e9a344ea-7d73-4a24-b2be-e4d08df20e51"
      },
      "source": [
        "plot_model(best_model2, plot = 'feature')"
      ],
      "execution_count": null,
      "outputs": [
        {
          "data": {
            "image/png": "[encoded data removed]",
            "text/plain": [
              "<Figure size 800x500 with 1 Axes>"
            ]
          },
          "metadata": {},
          "output_type": "display_data"
        }
      ]
    },
    {
      "cell_type": "markdown",
      "metadata": {
        "id": "VF8JfHO4thQm"
      },
      "source": [
        "---\n",
        "---"
      ]
    },
    {
      "cell_type": "markdown",
      "metadata": {
        "id": "CI88bU7ROgq8"
      },
      "source": [
        "## [도전하기 - DIY]\n",
        "- 최적의 모델을 찾아서 저장\n",
        "    - save_model()\n",
        "- 저장된 모델을 불러와서 테스트 데이터에 적용\n",
        "    - load_model()\n",
        "- 모델별로 accuracy를 표로 정리하시오."
      ]
    },
    {
      "cell_type": "markdown",
      "metadata": {
        "id": "Zospj_4NthQm"
      },
      "source": [
        "---\n",
        "---"
      ]
    }
  ]
}