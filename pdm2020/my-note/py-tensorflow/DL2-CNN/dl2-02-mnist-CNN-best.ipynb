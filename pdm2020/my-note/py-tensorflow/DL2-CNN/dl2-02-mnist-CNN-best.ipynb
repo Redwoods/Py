{
  "nbformat": 4,
  "nbformat_minor": 0,
  "metadata": {
    "accelerator": "GPU",
    "colab": {
      "name": "dl2-02-mnist-CNN-best.ipynb",
      "provenance": [],
      "collapsed_sections": [],
      "include_colab_link": true
    },
    "interpreter": {
      "hash": "3834ce636a3ba6c6c2bd8b9b527c48eede78c367f849f6cce666ea7f1d26e2fb"
    },
    "kernelspec": {
      "display_name": "Python 3.8.5 64-bit ('base': conda)",
      "name": "python3"
    },
    "language_info": {
      "codemirror_mode": {
        "name": "ipython",
        "version": 3
      },
      "file_extension": ".py",
      "mimetype": "text/x-python",
      "name": "python",
      "nbconvert_exporter": "python",
      "pygments_lexer": "ipython3",
      "version": "3.8.5"
    }
  },
  "cells": [
    {
      "cell_type": "markdown",
      "metadata": {
        "id": "view-in-github",
        "colab_type": "text"
      },
      "source": [
        "<a href=\"https://colab.research.google.com/github/Redwoods/Py/blob/master/pdm2020/my-note/py-tensorflow/DL2-CNN/dl2-02-mnist-CNN-best.ipynb\" target=\"_parent\"><img src=\"https://colab.research.google.com/assets/colab-badge.svg\" alt=\"Open In Colab\"/></a>"
      ]
    },
    {
      "cell_type": "markdown",
      "metadata": {
        "id": "rswfCVLZ-QW0"
      },
      "source": [
        "# **CNN model of mnist dataset**\n",
        "- Conv2D + FCN\n",
        "    * Conv2D : 2차원 합성곱 필터링 + 풀링(Pooling)\n",
        "    - > 2차원 필터로 영상을 대표하는 특징을 추출\n",
        "    * FCN : 1차원 완전연결신경망\n",
        "    - > Conv2D에서 추출된 대표 특징들을 이용하여 FCN으로 최종 학습 완료\n",
        "\n",
        "***\n",
        "- ## Traget: **Find the best model**\n",
        "***\n",
        "\n",
        "![mnist_NN_2_layers](https://img1.daumcdn.net/thumb/R1280x0/?scode=mtistory2&fname=https%3A%2F%2Fblog.kakaocdn.net%2Fdn%2FdJp5Z6%2FbtqAPebnF3x%2FQCe5vVcskhmxe964bGz4iK%2Fimg.png)\n",
        "\n",
        "(source: https://img1.daumcdn.net/thumb/R1280x0/?scode=mtistory2&fname=https%3A%2F%2Fblog.kakaocdn.net%2Fdn%2FdJp5Z6%2FbtqAPebnF3x%2FQCe5vVcskhmxe964bGz4iK%2Fimg.png)"
      ]
    },
    {
      "cell_type": "markdown",
      "metadata": {
        "id": "1yhvkxS_HhpK"
      },
      "source": [
        "## Search the best model of C2F2\n",
        "- callback\n",
        "    - Early stopping\n",
        "    - model checkpoint"
      ]
    },
    {
      "cell_type": "code",
      "metadata": {
        "id": "8GgGzPXPVyfa"
      },
      "source": [
        "import numpy as np\n",
        "import tensorflow as tf\n",
        "from tensorflow import keras\n",
        "import pandas as pd\n",
        "import matplotlib.pyplot as plt\n",
        "# %matplotlib inline\n",
        "\n",
        "print(tf.__version__)\n",
        "tf.random.set_seed(0)"
      ],
      "execution_count": null,
      "outputs": []
    },
    {
      "cell_type": "code",
      "metadata": {
        "id": "nMZqMpIvIlwf"
      },
      "source": [
        "# import TF2 submodules\n",
        "from tensorflow.keras import layers, models, callbacks"
      ],
      "execution_count": null,
      "outputs": []
    },
    {
      "cell_type": "markdown",
      "metadata": {
        "id": "-0IOOUM14Jk1"
      },
      "source": [
        "## **데이터 로딩, 정규화**"
      ]
    },
    {
      "cell_type": "code",
      "metadata": {
        "id": "N1ogJ7I64Fz-"
      },
      "source": [
        "from keras.datasets import mnist\n",
        "\n",
        "(X_train0, y_train0), (X_test0, y_test0) = mnist.load_data()\n",
        "\n",
        "# Reshape\n",
        "X_train = X_train0.reshape(60000,28,28,1)\n",
        "X_test = X_test0.reshape(10000,28,28,1)\n",
        "\n",
        "# Normalization\n",
        "X_train, X_test = X_train/255.0, X_test/255.0 # 정규화\n",
        "\n",
        "print(\"X_train={0}\".format(X_train.shape))\n",
        "print(\"y_train={0}\".format(y_train0.shape)) \n",
        "print(\"X_test={0}\".format(X_test.shape))\n",
        "print(\"y_test={0}\".format(y_test0.shape))"
      ],
      "execution_count": null,
      "outputs": []
    },
    {
      "cell_type": "code",
      "metadata": {
        "id": "F46-QZqJHiQ6"
      },
      "source": [
        "# One-Hot-Encoding\n",
        "# Use function to_categorical() to do One-Hot-Encoding\n",
        "# tf.keras.utils.to_categorical\n",
        "from tensorflow.keras.utils import to_categorical\n",
        "\n",
        "y_train = to_categorical(y_train0, 10)\n",
        "y_test = to_categorical(y_test0, 10)\n",
        "y_train.shape,y_test.shape"
      ],
      "execution_count": null,
      "outputs": []
    },
    {
      "cell_type": "code",
      "metadata": {
        "id": "eZ3OfP5PkEkL"
      },
      "source": [
        "# y_train0.shape vs. y_train.shape\n",
        "y_train0.shape, y_train.shape"
      ],
      "execution_count": null,
      "outputs": []
    },
    {
      "cell_type": "markdown",
      "metadata": {
        "id": "5z7SozStigmF"
      },
      "source": [
        "### Display numbers\n",
        "- one random number\n",
        "- 10 representative numbers"
      ]
    },
    {
      "cell_type": "code",
      "metadata": {
        "id": "IK7XT3XoirSL"
      },
      "source": [
        "# Code here!\n",
        "# display one random image from the training set:\n",
        "class_names = [\"0\",\"1\",\"2\",\"3\",\"4\",\"5\",\"6\",\"7\",\"8\",\"9\"]\n",
        "\n",
        "idx = np.random.randint(0, X_train0.shape[0])\n",
        "print(idx)\n",
        "image = X_train0[idx]\n",
        "plt.imshow(image) #, cmap=plt.get_cmap('gray'))\n",
        "plt.title(class_names[y_train0[idx]])\n",
        "plt.xticks([])\n",
        "plt.yticks([])\n",
        "plt.show()"
      ],
      "execution_count": null,
      "outputs": []
    },
    {
      "cell_type": "code",
      "metadata": {
        "id": "LzhD5pcukau7"
      },
      "source": [
        "fig = plt.figure(figsize=(10,6))\n",
        "for i in range(10):\n",
        "    plt.subplot(2, 5, i+1)\n",
        "    num0_9 = X_train0[y_train0 == i]\n",
        "    # print(num0_9.shape)\n",
        "    plt.imshow(num0_9[0]) #, cmap='gray') #, interpolation='none')\n",
        "    plt.title(\"Class %d\" % (i))\n",
        "    plt.xticks([])\n",
        "    plt.yticks([])"
      ],
      "execution_count": null,
      "outputs": []
    },
    {
      "cell_type": "markdown",
      "metadata": {
        "id": "55DYVfFXi0WR"
      },
      "source": [
        "# Design CNN"
      ]
    },
    {
      "cell_type": "markdown",
      "metadata": {
        "id": "iPcLIcUCcsiG"
      },
      "source": [
        "### import models, layers, callbacks\n",
        "- models: Sequential\n",
        "- layers: Conv2D, MaxPool2D, Flatten\n",
        "- callbacks: ModelCheckpoint, EarlyStopping"
      ]
    },
    {
      "cell_type": "code",
      "metadata": {
        "id": "NzqMC4Xtc3ZE"
      },
      "source": [
        "from keras.models import Sequential\n",
        "from keras.layers import Conv2D, MaxPool2D, Flatten\n",
        "from keras.callbacks import ModelCheckpoint, EarlyStopping"
      ],
      "execution_count": null,
      "outputs": []
    },
    {
      "cell_type": "markdown",
      "metadata": {
        "id": "7Z6DJJUCei-s"
      },
      "source": [
        "## **CNN2 + FCN2**"
      ]
    },
    {
      "cell_type": "code",
      "metadata": {
        "id": "Ancr1_dYrvQq"
      },
      "source": [
        "# Random number seed\n",
        "np.random.seed(1234)\n",
        "tf.random.set_seed(1234)"
      ],
      "execution_count": null,
      "outputs": []
    },
    {
      "cell_type": "code",
      "metadata": {
        "id": "pV3NFglM7P65"
      },
      "source": [
        "c2f2 = keras.models.Sequential([ \n",
        "    Conv2D(input_shape=(28,28,1),kernel_size=(3,3),strides=(1,1),filters= 32,padding='same',activation='relu'),\n",
        "    MaxPool2D(pool_size=(2,2), strides=(2,2)), \n",
        "    Conv2D(kernel_size=(3,3),strides=(1,1),filters= 64,padding='same',activation='relu'),\n",
        "    MaxPool2D(pool_size=(2,2), strides=(2,2)),\n",
        "    Flatten(), \n",
        "    keras.layers.Dense(128, activation='relu'),  \n",
        "    keras.layers.Dropout(0.25), \n",
        "    keras.layers.Dense(10, activation='softmax')\n",
        "])\n",
        "\n",
        "c2f2.compile(optimizer='adam',\n",
        "              loss='categorical_crossentropy',\n",
        "              metrics=['accuracy']) "
      ],
      "execution_count": null,
      "outputs": []
    },
    {
      "cell_type": "code",
      "metadata": {
        "id": "OGtCiKy57YkR"
      },
      "source": [
        "c2f2.summary()"
      ],
      "execution_count": null,
      "outputs": []
    },
    {
      "cell_type": "code",
      "metadata": {
        "id": "zw_pQPBdJmU8"
      },
      "source": [
        "mc_callback = callbacks.ModelCheckpoint(filepath=\"./mnist_c2f2_best_weights.{epoch:03d}-{val_accuracy:.4f}.hdf5\", \n",
        "                              monitor='val_accuracy', verbose=0, save_best_only=True)\n",
        "es_callback = callbacks.EarlyStopping(monitor='val_accuracy', \n",
        "                            mode='max', verbose=1, patience=10)    # patience=10, 20, 50"
      ],
      "execution_count": null,
      "outputs": []
    },
    {
      "cell_type": "code",
      "metadata": {
        "id": "94GWWQt-7eRS"
      },
      "source": [
        "# Train CNN model\n",
        "# Find and save the best model.\n",
        "hist = c2f2.fit(X_train, y_train, epochs = 500 , batch_size =100, \n",
        "         callbacks=[mc_callback, es_callback], \n",
        "         validation_data=(X_test,y_test))"
      ],
      "execution_count": null,
      "outputs": []
    },
    {
      "cell_type": "code",
      "metadata": {
        "id": "0-7is2U49A6Z"
      },
      "source": [
        "c2f2.evaluate(X_test, y_test, batch_size =100)"
      ],
      "execution_count": null,
      "outputs": []
    },
    {
      "cell_type": "markdown",
      "metadata": {
        "id": "3Ub3qGnjs4EI"
      },
      "source": [
        "## Graph of loss and accuracy\n",
        "- model: C2F2"
      ]
    },
    {
      "cell_type": "code",
      "metadata": {
        "id": "WNmXXLhvWUiK"
      },
      "source": [
        "# Plot loass and accuracy\n",
        "# Plot training & validation accuracy values\n",
        "loss_list = [100 * i for i in hist.history['loss']]\n",
        "acc_list = [100 * i for i in hist.history['accuracy']]\n",
        "\n",
        "epochs = range(1, len(loss_list) + 1)\n",
        "\n",
        "plt.plot(epochs,loss_list) \n",
        "plt.plot(epochs,acc_list) \n",
        "plt.title('Model loss & accuracy')\n",
        "plt.ylabel('Accuracy (%)')\n",
        "plt.xlabel('Epoch')\n",
        "plt.legend(['loss', 'accuracy'], loc='center left')"
      ],
      "execution_count": null,
      "outputs": []
    },
    {
      "cell_type": "code",
      "metadata": {
        "id": "0wNssVPhu_8m"
      },
      "source": [
        "vloss_list = [100 * i for i in hist.history['val_loss']]\n",
        "vacc_list = [100 * i for i in hist.history['val_accuracy']]"
      ],
      "execution_count": null,
      "outputs": []
    },
    {
      "cell_type": "code",
      "metadata": {
        "id": "TX5Uzro4vjaY"
      },
      "source": [
        "plt.plot(epochs,vloss_list)  \n",
        "plt.plot(epochs,vacc_list)  \n",
        "plt.title('Model val_loss & val_accuracy')\n",
        "plt.ylabel('Accuracy (%)')\n",
        "plt.xlabel('Epoch')\n",
        "plt.legend(['val_loss', 'val_accuracy'], loc='center left')"
      ],
      "execution_count": null,
      "outputs": []
    },
    {
      "cell_type": "code",
      "metadata": {
        "id": "WkK7XXY2x8J4"
      },
      "source": [
        "# np.argmax(np.array(vacc_list))"
      ],
      "execution_count": null,
      "outputs": []
    },
    {
      "cell_type": "code",
      "metadata": {
        "id": "S8LAN1AYzykJ"
      },
      "source": [
        "# vacc_list[np.argmax(np.array(vacc_list))]"
      ],
      "execution_count": null,
      "outputs": []
    },
    {
      "cell_type": "code",
      "metadata": {
        "id": "blALTNdyvjVK"
      },
      "source": [
        "plt.plot(epochs,acc_list)  \n",
        "plt.plot(epochs,vacc_list)  \n",
        "plt.title('accuracy vs. val_accuracy')\n",
        "plt.ylabel('Accuracy (%)')\n",
        "plt.xlabel('Epoch')\n",
        "plt.legend(['accuracy','val_accuracy'], loc='center')\n",
        "plt.plot(np.argmax(np.array(vacc_list))+1,vacc_list[np.argmax(np.array(vacc_list))], 'r*') "
      ],
      "execution_count": null,
      "outputs": []
    },
    {
      "cell_type": "code",
      "metadata": {
        "id": "x9EQ2Z_c2gYL"
      },
      "source": [
        "# More graphs of loss and accuracy\n",
        "history_dict = hist.history\n",
        "loss = history_dict['loss']\n",
        "val_loss = history_dict['val_loss']\n",
        "\n",
        "epochs = range(1, len(loss) + 1)\n",
        "\n",
        "plt.figure(figsize=(14, 4))\n",
        "\n",
        "plt.subplot(1,2,1)\n",
        "plt.plot(epochs, loss, 'go-', label='Training Loss')\n",
        "plt.plot(epochs, val_loss, 'bd', label='Validation Loss')\n",
        "plt.plot(np.argmin(np.array(val_loss))+1,val_loss[np.argmin(np.array(val_loss))], 'r*', ms=12)\n",
        "plt.title('Training and Validation Loss, min: ' + str(np.round(val_loss[np.argmin(np.array(val_loss))],4)))\n",
        "plt.xlabel('Epochs')\n",
        "plt.ylabel('Loss')\n",
        "plt.legend()\n",
        "\n",
        "acc = history_dict['accuracy']\n",
        "val_acc = history_dict['val_accuracy']\n",
        "\n",
        "epochs = range(1, len(loss) + 1)\n",
        "\n",
        "plt.subplot(1,2,2)\n",
        "plt.plot(epochs, acc, 'go-', label='Training Accuracy') #, c='blue')\n",
        "plt.plot(epochs, val_acc, 'bd', label='Validation Accuracy') #, c='red')\n",
        "plt.plot(np.argmax(np.array(val_acc))+1,val_acc[np.argmax(np.array(val_acc))], 'r*', ms=12)\n",
        "plt.title('Training and Validation Accuracy, max: ' + str(np.round(val_acc[np.argmax(np.array(val_acc))],4)))\n",
        "plt.xlabel('Epochs')\n",
        "plt.ylabel('Accuracy')\n",
        "plt.legend()\n",
        "plt.show()"
      ],
      "execution_count": null,
      "outputs": []
    },
    {
      "cell_type": "markdown",
      "metadata": {
        "id": "gBPKMI4y3fsa"
      },
      "source": [
        "## 최적화된 모형 불러와서 이용\n",
        "\n",
        "- callbacks.ModelCheckpoint를 이용해서 트레이닝 중 val_accuacy가 가장 높은 모형을 가중치와 함께 hdf5 형식으로 저장\n",
        "- load 명령으로 불러 사용"
      ]
    },
    {
      "cell_type": "markdown",
      "metadata": {
        "id": "kWxWNigsrvQv"
      },
      "source": [
        "### Best model\n",
        "- mnist_c2f2_best_weights.020-0.9934.hdf5"
      ]
    },
    {
      "cell_type": "code",
      "metadata": {
        "id": "b7-ysIVy3fse"
      },
      "source": [
        "from keras.models import load_model\n",
        "\n",
        "model = load_model('your_best_model.hdf5')\n",
        "model.evaluate(X_test, y_test, batch_size=100)"
      ],
      "execution_count": null,
      "outputs": []
    },
    {
      "cell_type": "markdown",
      "metadata": {
        "id": "3dO5bh1ILJP_"
      },
      "source": [
        "## [DIY] C2F3의 best model을 구하시오."
      ]
    },
    {
      "cell_type": "markdown",
      "metadata": {
        "id": "SUJxRQtafihM"
      },
      "source": [
        "## **CNN2 + FCN3**"
      ]
    },
    {
      "cell_type": "code",
      "metadata": {
        "id": "KUR_z2qxrvQv"
      },
      "source": [
        "# Random number seed\n",
        "np.random.seed(1234)\n",
        "tf.random.set_seed(1234)"
      ],
      "execution_count": null,
      "outputs": []
    },
    {
      "cell_type": "code",
      "metadata": {
        "id": "Nl5CyAymAB34"
      },
      "source": [
        "c2f3 = keras.models.Sequential([ \n",
        "    Conv2D(input_shape=(28,28,1),filters= 32, \n",
        "                kernel_size=(3,3),strides=(1,1),padding='same',activation='relu'),\n",
        "    MaxPool2D(pool_size=(2,2), strides=(2,2)), \n",
        "    Conv2D(filters= 64, \n",
        "                kernel_size=(3,3),strides=(1,1),padding='same',activation='relu'),\n",
        "    MaxPool2D(pool_size=(2,2), strides=(2,2)),\n",
        "    Flatten(), \n",
        "    keras.layers.Dense(128, activation='relu'),  \n",
        "    keras.layers.Dropout(0.25), \n",
        "    keras.layers.Dense(64, activation='relu'),  \n",
        "    keras.layers.Dropout(0.25), \n",
        "    keras.layers.Dense(10, activation='softmax')\n",
        "])\n",
        "\n",
        "c2f3.compile(optimizer='adam',\n",
        "              loss='categorical_crossentropy',\n",
        "              metrics=['accuracy']) "
      ],
      "execution_count": null,
      "outputs": []
    },
    {
      "cell_type": "code",
      "metadata": {
        "id": "gYxuGW_2ANL8"
      },
      "source": [
        "c2f3.summary()"
      ],
      "execution_count": null,
      "outputs": []
    },
    {
      "cell_type": "markdown",
      "metadata": {
        "id": "GkTGIOFz0TDK"
      },
      "source": [
        "***"
      ]
    },
    {
      "cell_type": "markdown",
      "metadata": {
        "id": "PHiuK2xu0WSE"
      },
      "source": [
        "## [Next] fashion mnist model의 best model을 구하시오.\n",
        "\n",
        "> fashion mnist 데이터 로딩\n",
        "```\n",
        "from keras.datasets import fashion_mnist\n",
        "(X_train0, y_train0), (X_test0, y_test0) = fashion_mnist.load_data()\n",
        "```"
      ]
    },
    {
      "cell_type": "markdown",
      "metadata": {
        "id": "GeJOGHI2rvQw"
      },
      "source": [
        "---"
      ]
    }
  ]
}