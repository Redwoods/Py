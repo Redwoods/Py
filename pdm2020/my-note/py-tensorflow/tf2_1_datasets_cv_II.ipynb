{
  "nbformat": 4,
  "nbformat_minor": 0,
  "metadata": {
    "colab": {
      "name": "tf2_1_datasets_cv_II.ipynb",
      "provenance": [],
      "collapsed_sections": [],
      "include_colab_link": true
    },
    "kernelspec": {
      "name": "python3",
      "display_name": "Python 3"
    }
  },
  "cells": [
    {
      "cell_type": "markdown",
      "metadata": {
        "id": "view-in-github",
        "colab_type": "text"
      },
      "source": [
        "<a href=\"https://colab.research.google.com/github/Redwoods/Py/blob/master/pdm2020/my-note/py-tensorflow/tf2_1_datasets_cv_II.ipynb\" target=\"_parent\"><img src=\"https://colab.research.google.com/assets/colab-badge.svg\" alt=\"Open In Colab\"/></a>"
      ]
    },
    {
      "cell_type": "markdown",
      "metadata": {
        "id": "DhyQjMLH3WqC"
      },
      "source": [
        "# CV (Computer vision) datasets-2 in AI\n",
        "> https://www.tensorflow.org/api_docs/python/tf/keras/datasets  \n",
        "- from keras\n",
        "    - CIFAR-10: cifar10\n",
        "    - CIFAR-100: cifar100\n",
        "    -  ...\n",
        "\n"
      ]
    },
    {
      "cell_type": "code",
      "metadata": {
        "id": "wZAy5gAA5_OE"
      },
      "source": [
        "import numpy as np\n",
        "import tensorflow as tf\n",
        "from tensorflow import keras\n",
        "import pandas as pd\n",
        "import matplotlib.pyplot as plt\n",
        "# %matplotlib inline\n",
        "\n",
        "print(tf.__version__)"
      ],
      "execution_count": null,
      "outputs": []
    },
    {
      "cell_type": "markdown",
      "metadata": {
        "id": "M1YAaELN_fQq"
      },
      "source": [
        "## CIFAR-10 Dataset (CIFAR: Canadian Institute For Advanced Research)\n",
        "> https://www.cs.toronto.edu/~kriz/cifar.html  \n",
        "- (50000, 32, 32, 3), train\n",
        "- (10000, 32, 32, 3), test\n",
        "- **color** photographs of objects from 10 classes, such as frogs, birds, cats, ships, etc\n",
        "\n",
        "### class names\n",
        "- class_names = ['airplane', 'automobile', 'bird', 'cat', 'deer', 'dog', 'frog', 'horse', 'ship', 'truck']"
      ]
    },
    {
      "cell_type": "code",
      "metadata": {
        "id": "iTJBblaRBAyY"
      },
      "source": [
        "from keras.datasets import cifar10\n",
        "# load dataset\n",
        "(trainX, trainy), (testX, testy) = cifar10.load_data()\n",
        "# summarize loaded dataset\n",
        "print('Train: X=%s, y=%s' % (trainX.shape, trainy.shape))\n",
        "print('Test: X=%s, y=%s' % (testX.shape, testy.shape))\n"
      ],
      "execution_count": null,
      "outputs": []
    },
    {
      "cell_type": "code",
      "metadata": {
        "id": "EOuoySmRA8n-"
      },
      "source": [
        "# plot first few images\n",
        "for i in range(9):\n",
        "\t# define subplot\n",
        "\tplt.subplot(330 + 1 + i)\n",
        "\t# plot raw pixel data\n",
        "\tplt.imshow(trainX[i])\n",
        "# show the figure\n",
        "# plt.show()"
      ],
      "execution_count": null,
      "outputs": []
    },
    {
      "cell_type": "markdown",
      "metadata": {
        "id": "McnD6nGFJdwD"
      },
      "source": [
        "## CIFAR-10 trainset"
      ]
    },
    {
      "cell_type": "code",
      "metadata": {
        "id": "tmzDnxxww7Eu"
      },
      "source": [
        "type(trainy), trainy.shape"
      ],
      "execution_count": null,
      "outputs": []
    },
    {
      "cell_type": "code",
      "metadata": {
        "id": "cjsnZejMyjx5"
      },
      "source": [
        "trainy[:5]"
      ],
      "execution_count": null,
      "outputs": []
    },
    {
      "cell_type": "code",
      "metadata": {
        "id": "nzqfw1xcJdwG"
      },
      "source": [
        "# Frequencies of each kind of image\n",
        "unique, counts = np.unique(trainy, return_counts=True)\n",
        "cifar10_train_dic = dict(zip(unique, counts))\n",
        "cifar10_train_dic"
      ],
      "execution_count": null,
      "outputs": []
    },
    {
      "cell_type": "code",
      "metadata": {
        "id": "VRzjgQSSJdwI"
      },
      "source": [
        "plt.bar(list(cifar10_train_dic.keys()), cifar10_train_dic.values(), color='g')"
      ],
      "execution_count": null,
      "outputs": []
    },
    {
      "cell_type": "markdown",
      "metadata": {
        "id": "Q4yT1pj7w7E0"
      },
      "source": [
        "#### 트레인데이터에서 무작위로 한 종류를 선택해서 출력"
      ]
    },
    {
      "cell_type": "code",
      "metadata": {
        "id": "0ycrObXbw7E1"
      },
      "source": [
        "# display one random image from our training set:\n",
        "class_names = ['airplane', 'automobile', 'bird', 'cat', 'deer', 'dog', 'frog', 'horse', 'ship', 'truck']\n",
        "\n",
        "idx = np.random.randint(0, trainX.shape[0])\n",
        "print(idx)\n",
        "image = trainX[idx]\n",
        "plt.imshow(image)\n",
        "plt.title(class_names[trainy[idx]])\n",
        "plt.xticks([])\n",
        "plt.yticks([])\n",
        "\n",
        "plt.show()"
      ],
      "execution_count": null,
      "outputs": []
    },
    {
      "cell_type": "markdown",
      "metadata": {
        "id": "3oS_ZeU-w7E2"
      },
      "source": [
        "#### 대표 패션 그림 출력"
      ]
    },
    {
      "cell_type": "code",
      "metadata": {
        "id": "HvGEqvX08dNw"
      },
      "source": [
        "trainy[:5],trainy[5] #,trainy[5].item()"
      ],
      "execution_count": null,
      "outputs": []
    },
    {
      "cell_type": "code",
      "metadata": {
        "id": "u_nYsplZ9648"
      },
      "source": [
        "num0_9 = trainX[trainy == i]"
      ],
      "execution_count": null,
      "outputs": []
    },
    {
      "cell_type": "code",
      "metadata": {
        "id": "G5_QdTiUiO5J"
      },
      "source": [
        "num0_9 = trainX[trainy[:,0] == 1]\n",
        "num0_9.shape, num0_9[0], num0_9[0].shape"
      ],
      "execution_count": null,
      "outputs": []
    },
    {
      "cell_type": "code",
      "metadata": {
        "id": "5ApzHSY3w7E2"
      },
      "source": [
        "fig = plt.figure(figsize=(10,6))\n",
        "for i in range(10):\n",
        "    plt.subplot(2, 5, i+1)\n",
        "    num0_9 = trainX[trainy[:,0] == i]\n",
        "    print(num0_9.shape)\n",
        "    plt.imshow(num0_9[0]) #, cmap='gray') #, interpolation='none')\n",
        "    plt.title(\"Class %d\" % (i))\n",
        "    plt.xticks([])\n",
        "    plt.yticks([])\n",
        "\n"
      ],
      "execution_count": null,
      "outputs": []
    },
    {
      "cell_type": "markdown",
      "metadata": {
        "id": "qotLBx5Lw7E4"
      },
      "source": [
        "### [DIY] cifar-10 trainset에서 각 유형이 출현하는 첫 인덱스를 이용해서 대표유형들을 출력하시오."
      ]
    },
    {
      "cell_type": "code",
      "metadata": {
        "id": "c6mX3vIyw7E4"
      },
      "source": [
        "## Your code here!\n",
        "class_names = ['airplane', 'automobile', 'bird', 'cat', 'deer', 'dog', 'frog', 'horse', 'ship', 'truck']\n",
        "num_10 = np.unique(trainy, return_index=True)[1]\n",
        "images = trainX[num_10]\n",
        "fig = plt.figure(figsize=(10,6))\n",
        "for i in range(len(images)):\n",
        "    # define subplot\n",
        "    plt.subplot(2,5,1 + i) #, sharey=False)\n",
        "    # plot raw pixel data\n",
        "    plt.imshow(images[i])\n",
        "    plt.title(class_names[i])\n",
        "    plt.xticks([])\n",
        "    plt.yticks([])\n",
        "plt.suptitle(\"10 different images\", fontsize=18)\n",
        "plt.show()"
      ],
      "execution_count": null,
      "outputs": []
    },
    {
      "cell_type": "markdown",
      "metadata": {
        "id": "bKvda8_9JdwL"
      },
      "source": [
        "### CIFAR-10 test set"
      ]
    },
    {
      "cell_type": "code",
      "metadata": {
        "id": "1UR518ITJdwM"
      },
      "source": [
        "# import numpy as np\n",
        "print(type(testy))\n",
        "unique, counts = np.unique(testy, return_counts=True)\n",
        "cifar10_test_dic = dict(zip(unique, counts))\n",
        "cifar10_test_dic\n"
      ],
      "execution_count": null,
      "outputs": []
    },
    {
      "cell_type": "code",
      "metadata": {
        "id": "RkmFxxBbJdwO"
      },
      "source": [
        "plt.bar(list(cifar10_test_dic.keys()), cifar10_test_dic.values(), color='g')"
      ],
      "execution_count": null,
      "outputs": []
    },
    {
      "cell_type": "code",
      "metadata": {
        "id": "Gl0Kv-rmJdwP"
      },
      "source": [
        "fig = plt.figure(figsize=(5,3))\n",
        "for i in range(10):\n",
        "    plt.subplot(2, 5, i+1)\n",
        "    num0_9 = testX[testy[:,0] == i]\n",
        "    plt.imshow(num0_9[0]) #, cmap='gray') #, interpolation='none')\n",
        "    plt.title(\"Class %d\" % (i))\n",
        "    plt.xticks([])\n",
        "    plt.yticks([])\n",
        "\n"
      ],
      "execution_count": null,
      "outputs": []
    },
    {
      "cell_type": "markdown",
      "metadata": {
        "id": "Lm6QAQ1ZAiLC"
      },
      "source": [
        "### [DIY]cifar-10 testset에서 각 유형이 출현하는 첫 인덱스를 이용해서 대표유형들을 출력하시오."
      ]
    },
    {
      "cell_type": "code",
      "metadata": {
        "id": "Dcd2rJ4AAmRn"
      },
      "source": [
        "# Your code here!\n",
        "\n",
        "\n"
      ],
      "execution_count": null,
      "outputs": []
    },
    {
      "cell_type": "markdown",
      "metadata": {
        "id": "RDKyUa4PAs1g"
      },
      "source": [
        "\n",
        "\n",
        "---\n",
        "\n",
        "\n",
        "\n",
        "---\n",
        "\n"
      ]
    },
    {
      "cell_type": "markdown",
      "metadata": {
        "id": "uKil5Bw4A618"
      },
      "source": [
        "## CIFAR-100 Dataset (CIFAR: Canadian Institute For Advanced Research)\n",
        "> https://www.cs.toronto.edu/~kriz/cifar.html  \n",
        "- (50000, 32, 32, 3), train\n",
        "- (10000, 32, 32, 3), test\n",
        "- color photographs of objects from 100 classes, such as fish, flowers, insects, and much more.  \n",
        "\n",
        "> The 100 classes in the CIFAR-100 are grouped into 20 superclasses. Each image comes with a \"fine\" label (the class to which it belongs) and a \"coarse\" label (the superclass to which it belongs).\n",
        "\n",
        "### class names\n",
        "- class_names = ['beaver', 'dolphin', 'otter', 'seal', 'whale', 'aquarium fish', 'flatfish', 'ray', 'shark', 'trout', \n",
        "'orchids', 'poppies', 'roses', 'sunflowers', 'tulips', \n",
        "'bottles', 'bowls', 'cans', 'cups', 'plates', \n",
        "'apples', 'mushrooms', 'oranges', 'pears', 'sweet peppers', \n",
        "'clock', 'keyboard', 'lamp', 'telephone', 'television', \n",
        "'bed', 'chair', 'couch', 'table', 'wardrobe', \n",
        "'bee', 'beetle', 'butterfly', 'caterpillar', 'cockroach', \n",
        "'bear', 'leopard', 'lion', 'tiger', 'wolf', \n",
        "'bridge', 'castle', 'house', 'road', 'skyscraper', \n",
        "'cloud', 'forest', 'mountain', 'plain', 'sea', \n",
        "'camel', 'cattle', 'chimpanzee', 'elephant', 'kangaroo', \n",
        "'fox', 'porcupine', 'possum', 'raccoon', 'skunk', \n",
        "'crab', 'lobster', 'snail', 'spider', 'worm', \n",
        "'baby', 'boy', 'girl', 'man', 'woman', \n",
        "'crocodile', 'dinosaur', 'lizard', 'snake', 'turtle', \n",
        "'hamster', 'mouse', 'rabbit', 'shrew', 'squirrel', \n",
        "'maple', 'oak', 'palm', 'pine', 'willow', \n",
        "'bicycle', 'bus', 'motorcycle', 'pickup truck', 'train', \n",
        "'lawn-mower', 'rocket', 'streetcar', 'tank', 'tractor']"
      ]
    },
    {
      "cell_type": "markdown",
      "metadata": {
        "id": "KknLgiVqKfIj"
      },
      "source": [
        "### cifar-100: Superclass(20), Classes(100)\n",
        "```\n",
        "Superclass\tClasses\n",
        "aquatic mammals\tbeaver, dolphin, otter, seal, whale\n",
        "fish\taquarium fish, flatfish, ray, shark, trout\n",
        "flowers\torchids, poppies, roses, sunflowers, tulips\n",
        "food containers\tbottles, bowls, cans, cups, plates\n",
        "fruit and vegetables\tapples, mushrooms, oranges, pears, sweet peppers\n",
        "household electrical devices\tclock, keyboard, lamp, telephone, television\n",
        "household furniture\tbed, chair, couch, table, wardrobe\n",
        "insects\tbee, beetle, butterfly, caterpillar, cockroach\n",
        "large carnivores\tbear, leopard, lion, tiger, wolf\n",
        "large man-made outdoor things\tbridge, castle, house, road, skyscraper\n",
        "large natural outdoor scenes\tcloud, forest, mountain, plain, sea\n",
        "large omnivores and herbivores\tcamel, cattle, chimpanzee, elephant, kangaroo\n",
        "medium-sized mammals\tfox, porcupine, possum, raccoon, skunk\n",
        "non-insect invertebrates\tcrab, lobster, snail, spider, worm\n",
        "people\tbaby, boy, girl, man, woman\n",
        "reptiles\tcrocodile, dinosaur, lizard, snake, turtle\n",
        "small mammals\thamster, mouse, rabbit, shrew, squirrel\n",
        "trees\tmaple, oak, palm, pine, willow\n",
        "vehicles 1\tbicycle, bus, motorcycle, pickup truck, train\n",
        "vehicles 2\tlawn-mower, rocket, streetcar, tank, tractor\n",
        "```"
      ]
    },
    {
      "cell_type": "code",
      "metadata": {
        "id": "pjAEqleIB-5h"
      },
      "source": [
        "from keras.datasets import cifar100\n",
        "# load dataset\n",
        "(trainX, trainy), (testX, testy) = cifar100.load_data()\n",
        "# summarize loaded dataset\n",
        "print('Train: X=%s, y=%s' % (trainX.shape, trainy.shape))\n",
        "print('Test: X=%s, y=%s' % (testX.shape, testy.shape))"
      ],
      "execution_count": null,
      "outputs": []
    },
    {
      "cell_type": "code",
      "metadata": {
        "id": "jmkDnvqbCJ2T"
      },
      "source": [
        "trainy[:10]  # 100 labels"
      ],
      "execution_count": null,
      "outputs": []
    },
    {
      "cell_type": "code",
      "metadata": {
        "id": "n2opLJIECHRq"
      },
      "source": [
        "# plot first few images\n",
        "for i in range(9):\n",
        "\t# define subplot\n",
        "\tplt.subplot(330 + 1 + i)\n",
        "\t# plot raw pixel data\n",
        "\tplt.imshow(trainX[i])\n",
        "# show the figure\n",
        "# plt.show()"
      ],
      "execution_count": null,
      "outputs": []
    },
    {
      "cell_type": "markdown",
      "metadata": {
        "id": "cobmYjw4J2IK"
      },
      "source": [
        "### CIFAR-100 trainset"
      ]
    },
    {
      "cell_type": "code",
      "metadata": {
        "id": "gEkKqzXsJ2IM"
      },
      "source": [
        "# import numpy as np\n",
        "print(type(trainy))\n",
        "unique, counts = np.unique(trainy, return_counts=True)\n",
        "cifar100_train_dic = dict(zip(unique, counts))\n",
        "print(cifar100_train_dic)"
      ],
      "execution_count": null,
      "outputs": []
    },
    {
      "cell_type": "code",
      "metadata": {
        "id": "XU7LBIVNJ2IO"
      },
      "source": [
        "# plt.figure(figsize=(12,5))\n",
        "plt.bar(list(cifar100_train_dic.keys()), cifar100_train_dic.values(), color='g')"
      ],
      "execution_count": null,
      "outputs": []
    },
    {
      "cell_type": "code",
      "metadata": {
        "id": "mfaCDo2aJ2IQ"
      },
      "source": [
        "fig = plt.figure(figsize=(10,13))\n",
        "for i in range(100):\n",
        "    plt.subplot(10, 10, i+1)\n",
        "    num0_99 = trainX[trainy[:,0] == i]\n",
        "    plt.imshow(num0_99[0])  #, cmap='gray') #, interpolation='none')\n",
        "    plt.title(\"Class %d\" % (i))\n",
        "    plt.xticks([])\n",
        "    plt.yticks([])\n",
        "\n"
      ],
      "execution_count": null,
      "outputs": []
    },
    {
      "cell_type": "markdown",
      "metadata": {
        "id": "lrHxlzcNF75E"
      },
      "source": [
        "### [DIY] cifar-100 trainset에서 각 유형이 출현하는 첫 인덱스를 이용해서 대표유형들을 출력하시오."
      ]
    },
    {
      "cell_type": "code",
      "metadata": {
        "id": "A9vASE5hIYxj"
      },
      "source": [
        "class_names = ['beaver', 'dolphin', 'otter', 'seal', 'whale', 'aquarium fish', 'flatfish', 'ray', 'shark', 'trout', 'orchids', 'poppies', 'roses', 'sunflowers', 'tulips', 'bottles', 'bowls', 'cans', 'cups', 'plates', 'apples', 'mushrooms', 'oranges', 'pears', 'sweet peppers', 'clock', 'keyboard', 'lamp', 'telephone', 'television', 'bed', 'chair', 'couch', 'table', 'wardrobe', 'bee', 'beetle', 'butterfly', 'caterpillar', 'cockroach', 'bear', 'leopard', 'lion', 'tiger', 'wolf', 'bridge', 'castle', 'house', 'road', 'skyscraper', 'cloud', 'forest', 'mountain', 'plain', 'sea', 'camel', 'cattle', 'chimpanzee', 'elephant', 'kangaroo', 'fox', 'porcupine', 'possum', 'raccoon', 'skunk', 'crab', 'lobster', 'snail', 'spider', 'worm', 'baby', 'boy', 'girl', 'man', 'woman', 'crocodile', 'dinosaur', 'lizard', 'snake', 'turtle', 'hamster', 'mouse', 'rabbit', 'shrew', 'squirrel', 'maple', 'oak', 'palm', 'pine', 'willow', 'bicycle', 'bus', 'motorcycle', 'pickup truck', 'train', 'lawn-mower', 'rocket', 'streetcar', 'tank', 'tractor']\n",
        "class_names.sort()\n",
        "print(class_names)"
      ],
      "execution_count": null,
      "outputs": []
    },
    {
      "cell_type": "code",
      "metadata": {
        "id": "QlewQk3R9-Nk"
      },
      "source": [
        "# np.unique(trainy, return_index=True)[0], np.unique(trainy, return_index=True)[1], trainy[:10]"
      ],
      "execution_count": null,
      "outputs": []
    },
    {
      "cell_type": "code",
      "metadata": {
        "id": "JEvE2i0RF75F"
      },
      "source": [
        "# Your code here!  'computer keyboard' => 'keyboard'\n",
        "class_names = ['beaver', 'dolphin', 'otter', 'seal', 'whale', 'aquarium fish', 'flatfish', 'ray', 'shark', 'trout', 'orchids', 'poppies', 'roses', 'sunflowers', 'tulips', 'bottles', 'bowls', 'cans', 'cups', 'plates', 'apples', 'mushrooms', 'oranges', 'pears', 'sweet peppers', 'clock', 'keyboard', 'lamp', 'telephone', 'television', 'bed', 'chair', 'couch', 'table', 'wardrobe', 'bee', 'beetle', 'butterfly', 'caterpillar', 'cockroach', 'bear', 'leopard', 'lion', 'tiger', 'wolf', 'bridge', 'castle', 'house', 'road', 'skyscraper', 'cloud', 'forest', 'mountain', 'plain', 'sea', 'camel', 'cattle', 'chimpanzee', 'elephant', 'kangaroo', 'fox', 'porcupine', 'possum', 'raccoon', 'skunk', 'crab', 'lobster', 'snail', 'spider', 'worm', 'baby', 'boy', 'girl', 'man', 'woman', 'crocodile', 'dinosaur', 'lizard', 'snake', 'turtle', 'hamster', 'mouse', 'rabbit', 'shrew', 'squirrel', 'maple', 'oak', 'palm', 'pine', 'willow', 'bicycle', 'bus', 'motorcycle', 'pickup truck', 'train', 'lawn-mower', 'rocket', 'streetcar', 'tank', 'tractor']\n",
        "class_names.sort()  ## 중요!\n",
        "num_100 = np.unique(trainy, return_index=True)[1]\n",
        "images = trainX[num_100]\n",
        "fig = plt.figure(figsize=(14,15))\n",
        "for i in range(len(images)):\n",
        "    # define subplot\n",
        "    plt.subplot(10,10,1 + i) #, sharey=False)\n",
        "    # plot raw pixel data\n",
        "    plt.imshow(images[i])\n",
        "    plt.title(class_names[i])\n",
        "    plt.xticks([])\n",
        "    plt.yticks([])\n",
        "plt.suptitle(\"100 different images\", fontsize=18)\n",
        "plt.show()"
      ],
      "execution_count": null,
      "outputs": []
    },
    {
      "cell_type": "markdown",
      "metadata": {
        "id": "rA0mVOzvJ2IS"
      },
      "source": [
        "### CIFAR-100 test set"
      ]
    },
    {
      "cell_type": "code",
      "metadata": {
        "id": "5_5C0YJ-J2IS"
      },
      "source": [
        "# import numpy as np\n",
        "print(type(testy))\n",
        "unique, counts = np.unique(testy, return_counts=True)\n",
        "cifar100_test_dic = dict(zip(unique, counts))\n",
        "cifar100_test_dic\n"
      ],
      "execution_count": null,
      "outputs": []
    },
    {
      "cell_type": "code",
      "metadata": {
        "id": "jdwAqyYFJ2IU"
      },
      "source": [
        "plt.bar(list(cifar100_test_dic.keys()), cifar100_test_dic.values(), color='g')"
      ],
      "execution_count": null,
      "outputs": []
    },
    {
      "cell_type": "code",
      "metadata": {
        "id": "azTfnO3LJ2IV"
      },
      "source": [
        "fig = plt.figure(figsize=(10,13))\n",
        "for i in range(100):\n",
        "    plt.subplot(10, 10, i+1)\n",
        "    num0_99 = testX[testy[:,0] == i]\n",
        "    plt.imshow(num0_99[33]) #, cmap='gray') #, interpolation='none')\n",
        "    plt.title(\"Class %d\" % (i))\n",
        "    plt.xticks([])\n",
        "    plt.yticks([])\n",
        "\n"
      ],
      "execution_count": null,
      "outputs": []
    },
    {
      "cell_type": "markdown",
      "metadata": {
        "id": "aG-P6eWwNXA3"
      },
      "source": [
        "### [DIY]cifar-100 testset에서 각 유형이 출현하는 첫 인덱스를 이용해서 대표유형들을 출력하시오."
      ]
    },
    {
      "cell_type": "code",
      "metadata": {
        "id": "n7KI8aHYNX2m"
      },
      "source": [
        "# Your code here!\n",
        "\n",
        "\n"
      ],
      "execution_count": null,
      "outputs": []
    },
    {
      "cell_type": "markdown",
      "metadata": {
        "id": "M3hEw52hOx7C"
      },
      "source": [
        "\n",
        "\n",
        "---\n",
        "\n",
        "\n",
        "\n",
        "---\n",
        "\n"
      ]
    },
    {
      "cell_type": "markdown",
      "metadata": {
        "id": "M8h9jbFlPxj7"
      },
      "source": [
        "### [DIY] cifar-100 testset에서 class=2,35의 그림들을 모두 출력하시오."
      ]
    },
    {
      "cell_type": "markdown",
      "metadata": {
        "id": "2WEsisimRWik"
      },
      "source": [
        "### class=2, 35: 사람 사진 모음\n",
        "- class=2: baby\n",
        "-class=35: girl"
      ]
    },
    {
      "cell_type": "code",
      "metadata": {
        "id": "l_qzu1upO-1h"
      },
      "source": [
        "class_names[2],class_names[35]"
      ],
      "execution_count": null,
      "outputs": []
    },
    {
      "cell_type": "code",
      "metadata": {
        "id": "afpXSZK7RWis"
      },
      "source": [
        "# your code here!\n",
        "\n",
        "\n",
        "\n",
        "\n"
      ],
      "execution_count": null,
      "outputs": []
    },
    {
      "cell_type": "markdown",
      "metadata": {
        "id": "ipRvJ2FRRF47"
      },
      "source": [
        "\n",
        "\n",
        "---\n",
        "\n",
        "\n",
        "\n",
        "---\n",
        "\n"
      ]
    },
    {
      "cell_type": "markdown",
      "metadata": {
        "id": "Dv7xgN1NCSwC"
      },
      "source": [
        "## What is your dataset? Imagine your data!"
      ]
    },
    {
      "cell_type": "code",
      "metadata": {
        "id": "J-LVdIFS8czZ"
      },
      "source": [
        ""
      ],
      "execution_count": null,
      "outputs": []
    }
  ]
}