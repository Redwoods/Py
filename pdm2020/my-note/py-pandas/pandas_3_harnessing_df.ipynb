{
  "nbformat": 4,
  "nbformat_minor": 0,
  "metadata": {
    "kernelspec": {
      "name": "python3",
      "display_name": "Python 3"
    },
    "language_info": {
      "codemirror_mode": {
        "name": "ipython",
        "version": 3
      },
      "file_extension": ".py",
      "mimetype": "text/x-python",
      "name": "python",
      "nbconvert_exporter": "python",
      "pygments_lexer": "ipython3",
      "version": "3.6.6"
    },
    "colab": {
      "name": "pandas_3_harnessing_df.ipynb",
      "provenance": [],
      "collapsed_sections": [],
      "include_colab_link": true
    }
  },
  "cells": [
    {
      "cell_type": "markdown",
      "metadata": {
        "id": "view-in-github",
        "colab_type": "text"
      },
      "source": [
        "<a href=\"https://colab.research.google.com/github/Redwoods/Py/blob/master/pdm2020/my-note/py-pandas/pandas_3_harnessing_df.ipynb\" target=\"_parent\"><img src=\"https://colab.research.google.com/assets/colab-badge.svg\" alt=\"Open In Colab\"/></a>"
      ]
    },
    {
      "cell_type": "markdown",
      "metadata": {
        "id": "-a_Ksvwdx5pf"
      },
      "source": [
        "### Python module 3. **pandas**"
      ]
    },
    {
      "cell_type": "markdown",
      "metadata": {
        "id": "P_F0RSPKx5pl"
      },
      "source": [
        "# Using pandas"
      ]
    },
    {
      "cell_type": "markdown",
      "metadata": {
        "id": "FfxMgWUFx5pm"
      },
      "source": [
        "* [10 Minutes to pandas](https://pandas.pydata.org/pandas-docs/stable/10min.html)\n",
        "* [Pandas tutorial with interactive exercises](https://www.kaggle.com/pistak/pandas-tutorial-with-interactive-exercises)"
      ]
    },
    {
      "cell_type": "code",
      "metadata": {
        "id": "2mpGSeRlx5po"
      },
      "source": [
        "import pandas as pd\n",
        "import numpy as np\n",
        "import matplotlib.pyplot as plt\n",
        "# %matplotlib inline  # work for Jupyter notebook or lab"
      ],
      "execution_count": null,
      "outputs": []
    },
    {
      "cell_type": "code",
      "metadata": {
        "id": "w2eNkCfLx5p-"
      },
      "source": [
        "# Creating a DataFrame by passing a NumPy array, with a datetime index and labeled columns:\n",
        "dates = pd.date_range('20210927', periods=6)\n",
        "dates"
      ],
      "execution_count": null,
      "outputs": []
    },
    {
      "cell_type": "code",
      "metadata": {
        "id": "dHwUodTGx5qj"
      },
      "source": [
        "# dataframe\n",
        "df = pd.DataFrame(np.random.randn(6,4), index=dates, columns=list('ABCD'))\n",
        "df"
      ],
      "execution_count": null,
      "outputs": []
    },
    {
      "cell_type": "markdown",
      "metadata": {
        "id": "wq1nIp3F1fFB"
      },
      "source": [
        "\n",
        "\n",
        "---\n",
        "\n"
      ]
    },
    {
      "cell_type": "markdown",
      "metadata": {
        "id": "I1IgbN4Gx5s4"
      },
      "source": [
        "### 데이터 재구성(setting) 또는 확장"
      ]
    },
    {
      "cell_type": "code",
      "metadata": {
        "id": "sy6TR7lUx5s5"
      },
      "source": [
        "# Setting a new column automatically aligns the data by the indexes.\n",
        "s1 = pd.Series([1,2,3,4,5,6], index=pd.date_range('20210927', periods=6))\n",
        "s1"
      ],
      "execution_count": null,
      "outputs": []
    },
    {
      "cell_type": "code",
      "metadata": {
        "id": "XsEv8uSFx5tA"
      },
      "source": [
        "df['F'] = s1"
      ],
      "execution_count": null,
      "outputs": []
    },
    {
      "cell_type": "code",
      "metadata": {
        "id": "TtstLrMRx5tE"
      },
      "source": [
        "df  # 기존 df의 구조에 맞춰서 확장, 재구성됨."
      ],
      "execution_count": null,
      "outputs": []
    },
    {
      "cell_type": "markdown",
      "metadata": {
        "id": "6i0kBRTJ9inS"
      },
      "source": [
        "#### Setting data by label & its index\n",
        "\n",
        "> **at, iat**\n",
        "\n",
        "- at : label을 이용하여 값 지정\n",
        "- iat: index를 이용하여 값 지정"
      ]
    },
    {
      "cell_type": "code",
      "metadata": {
        "id": "clG41EzNx5tI"
      },
      "source": [
        "# Setting values by label:\n",
        "df.at[dates[0],'A'] = 0\n",
        "df"
      ],
      "execution_count": null,
      "outputs": []
    },
    {
      "cell_type": "code",
      "metadata": {
        "id": "JO26rUNSx5tL"
      },
      "source": [
        "# Setting values by position (index):\n",
        "df.iat[0,1] = 0\n",
        "df"
      ],
      "execution_count": null,
      "outputs": []
    },
    {
      "cell_type": "code",
      "metadata": {
        "id": "4i3DL7n54ybq"
      },
      "source": [
        "# Important properties of DataFrame\n",
        "len(df), df.shape, df.size"
      ],
      "execution_count": null,
      "outputs": []
    },
    {
      "cell_type": "code",
      "metadata": {
        "id": "FzBfedfWx5tO"
      },
      "source": [
        "# Setting by assigning with a NumPy array:\n",
        "df.loc[:,'D'] = np.array([5] * len(df))\n",
        "df"
      ],
      "execution_count": null,
      "outputs": []
    },
    {
      "cell_type": "markdown",
      "metadata": {
        "id": "mlglm6p4x5tR"
      },
      "source": [
        "### Missing data 처리\n",
        "> pandas primarily uses the value **np.nan** to represent missing data. \n",
        "- dropna()\n",
        "- fillna()\n",
        "- isna()"
      ]
    },
    {
      "cell_type": "code",
      "metadata": {
        "id": "9VkA1SVLUPkt"
      },
      "source": [
        "df"
      ],
      "execution_count": null,
      "outputs": []
    },
    {
      "cell_type": "code",
      "metadata": {
        "id": "iF1aCeMDUXtX"
      },
      "source": [
        "df.columns"
      ],
      "execution_count": null,
      "outputs": []
    },
    {
      "cell_type": "code",
      "metadata": {
        "id": "a__I8mi7x5tT"
      },
      "source": [
        "# Reindexing allows you to change/add/delete the index on a specified axis.\n",
        "df1 = df.reindex(index=dates[0:4], columns=list(df.columns) + ['E'])\n",
        "df1"
      ],
      "execution_count": null,
      "outputs": []
    },
    {
      "cell_type": "code",
      "metadata": {
        "id": "ndYxap_zx5tY"
      },
      "source": [
        "df1.loc[dates[0]:dates[1],'E'] = 1\n",
        "df1"
      ],
      "execution_count": null,
      "outputs": []
    },
    {
      "cell_type": "code",
      "metadata": {
        "id": "jgEz6fkXh1mi"
      },
      "source": [
        "df1.info()"
      ],
      "execution_count": null,
      "outputs": []
    },
    {
      "cell_type": "markdown",
      "metadata": {
        "id": "mNniCmjuiE7M"
      },
      "source": [
        "### Check 0 or NaN in dataframe\n",
        "- df.isnull().sum()\n",
        "- df.isna().sum()"
      ]
    },
    {
      "cell_type": "code",
      "metadata": {
        "id": "crI6XYQ0iggH"
      },
      "source": [
        "df1.isnull().sum()"
      ],
      "execution_count": null,
      "outputs": []
    },
    {
      "cell_type": "code",
      "metadata": {
        "id": "ekHDpHwdicbj"
      },
      "source": [
        "df1.isna().sum()"
      ],
      "execution_count": null,
      "outputs": []
    },
    {
      "cell_type": "markdown",
      "metadata": {
        "id": "ALNJZqY3Unph"
      },
      "source": [
        "## Drop missing data from DataFrame"
      ]
    },
    {
      "cell_type": "code",
      "metadata": {
        "id": "AutSyiPmx5tc"
      },
      "source": [
        "# To drop any rows that have missing data.\n",
        "df1.dropna(how='any')"
      ],
      "execution_count": null,
      "outputs": []
    },
    {
      "cell_type": "code",
      "metadata": {
        "id": "dNKFCrRMx5tj"
      },
      "source": [
        "# Filling missing data.\n",
        "df1.fillna(value=5)"
      ],
      "execution_count": null,
      "outputs": []
    },
    {
      "cell_type": "code",
      "metadata": {
        "id": "tUNtkHnex5tn"
      },
      "source": [
        "# Get the boolean mask where values are nan.\n",
        "pd.isna(df1)"
      ],
      "execution_count": null,
      "outputs": []
    },
    {
      "cell_type": "markdown",
      "metadata": {
        "id": "w2Unp3z_5hah"
      },
      "source": [
        "\n",
        "\n",
        "---\n",
        "\n"
      ]
    },
    {
      "cell_type": "markdown",
      "metadata": {
        "id": "j66hx2P0x5ts"
      },
      "source": [
        "### 데이터 통계 (Statistics)"
      ]
    },
    {
      "cell_type": "code",
      "metadata": {
        "id": "RmrvQ0VPx5tu"
      },
      "source": [
        "df"
      ],
      "execution_count": null,
      "outputs": []
    },
    {
      "cell_type": "code",
      "metadata": {
        "id": "417gj6C9x5t3"
      },
      "source": [
        "df.mean()"
      ],
      "execution_count": null,
      "outputs": []
    },
    {
      "cell_type": "code",
      "metadata": {
        "id": "6aFj7FIix5t8"
      },
      "source": [
        "df.mean(0)"
      ],
      "execution_count": null,
      "outputs": []
    },
    {
      "cell_type": "code",
      "metadata": {
        "id": "MUt62dGHx5uC"
      },
      "source": [
        "df.mean(1)"
      ],
      "execution_count": null,
      "outputs": []
    },
    {
      "cell_type": "code",
      "metadata": {
        "id": "vS3NS0Ln6WCF"
      },
      "source": [
        "df.std(0) #, df.std(1)"
      ],
      "execution_count": null,
      "outputs": []
    },
    {
      "cell_type": "markdown",
      "metadata": {
        "id": "vaKGa-Yx6cvg"
      },
      "source": [
        "#### [DIY: 도전] 데이터프레임 df의 평균(mean(0))과 표준편차를 이용한 그래프\n",
        "- 평균에 대한 꺽은선그래프\n",
        "- 평균과 표준편차를 이용한 막대그래프\n",
        "> x-축은 A,B,C,D,E"
      ]
    },
    {
      "cell_type": "code",
      "metadata": {
        "id": "q6q2mxK5AdiC"
      },
      "source": [
        "import numpy as np\n",
        "import matplotlib.pyplot as plt\n",
        "# 노트북 셀 내에 그림 출력 (Jupyter notebook or lab)\n",
        "# %matplotlib inline"
      ],
      "execution_count": null,
      "outputs": []
    },
    {
      "cell_type": "code",
      "metadata": {
        "id": "tAzAyew9_8zQ"
      },
      "source": [
        "# 막대그래프(bar graph)를 그린다.\n",
        "means = [1, 2, 3]\n",
        "stddevs = [0.2, 0.4, 0.5]\n",
        "bar_labels = ['bar 1', 'bar 2', 'bar 3']\n",
        "\n",
        "# plot bars\n",
        "x_pos = list(range(len(bar_labels)))\n",
        "plt.bar(x_pos, means, yerr=stddevs)\n",
        "\n",
        "plt.show()"
      ],
      "execution_count": null,
      "outputs": []
    },
    {
      "cell_type": "code",
      "metadata": {
        "id": "epE56yO5Apfp"
      },
      "source": [
        "plt.plot(df.mean(0), '-o', ms=8)"
      ],
      "execution_count": null,
      "outputs": []
    },
    {
      "cell_type": "code",
      "metadata": {
        "id": "A2YtMydfBFUV"
      },
      "source": [
        "# df의 평균(mean(0))과 표준편차를 이용한 막대그래프\n",
        "bar_labels = df.columns\n",
        "# plot bars\n",
        "plt.bar(bar_labels, df.mean(0), yerr=df.std(0)) #, color='rgbcy')"
      ],
      "execution_count": null,
      "outputs": []
    },
    {
      "cell_type": "code",
      "metadata": {
        "id": "3gPno8Shj0YQ"
      },
      "source": [
        "df"
      ],
      "execution_count": null,
      "outputs": []
    },
    {
      "cell_type": "code",
      "metadata": {
        "id": "qZVosChIji11"
      },
      "source": [
        "# [DIY] df의 날짜별 평균(mean(1))과 표준편차를 이용한 막대그래프\n",
        "# Your code\n",
        "# plt.plot(df.mean(1), '-o', ms=8)\n",
        "# plt.bar(bar_labels,df.mean(1), yerr=df.std(1)) #, color='rgbcy')"
      ],
      "execution_count": null,
      "outputs": []
    },
    {
      "cell_type": "markdown",
      "metadata": {
        "id": "zl2_Xvcik7ol"
      },
      "source": [
        "---"
      ]
    }
  ]
}