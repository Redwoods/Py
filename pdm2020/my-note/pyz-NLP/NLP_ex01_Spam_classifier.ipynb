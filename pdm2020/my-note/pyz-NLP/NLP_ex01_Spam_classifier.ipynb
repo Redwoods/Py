{
  "nbformat": 4,
  "nbformat_minor": 0,
  "metadata": {
    "colab": {
      "name": "NLP-ex01-Spam-classifier.ipynb",
      "provenance": [],
      "collapsed_sections": [],
      "include_colab_link": true
    },
    "kernelspec": {
      "name": "python3",
      "display_name": "Python 3.8.5 64-bit ('base': conda)"
    },
    "language_info": {
      "name": "python",
      "version": "3.8.5",
      "mimetype": "text/x-python",
      "codemirror_mode": {
        "name": "ipython",
        "version": 3
      },
      "pygments_lexer": "ipython3",
      "nbconvert_exporter": "python",
      "file_extension": ".py"
    },
    "accelerator": "GPU",
    "interpreter": {
      "hash": "3834ce636a3ba6c6c2bd8b9b527c48eede78c367f849f6cce666ea7f1d26e2fb"
    }
  },
  "cells": [
    {
      "cell_type": "markdown",
      "metadata": {
        "id": "view-in-github",
        "colab_type": "text"
      },
      "source": [
        "<a href=\"https://colab.research.google.com/github/Redwoods/Py/blob/master/pdm2020/my-note/pyz-NLP/NLP_ex01_Spam_classifier.ipynb\" target=\"_parent\"><img src=\"https://colab.research.google.com/assets/colab-badge.svg\" alt=\"Open In Colab\"/></a>"
      ]
    },
    {
      "cell_type": "markdown",
      "metadata": {
        "id": "k9yhQjQpFdpg"
      },
      "source": [
        "# NLP : 자연어 처리 - 스팸 메일 분류기\n",
        "- RNN(Vanilla RNN)을 이용한 스팸 분류: https://wikidocs.net/22894\n",
        "- D1CNN을 이용한 스팸 분류 : https://wikidocs.net/80787\n",
        "\n",
        "## Data\n",
        "- 총 샘플의 수 : 5572 -> 5169\n",
        "    - 0: ham\n",
        "    - 1: spam"
      ]
    },
    {
      "cell_type": "markdown",
      "metadata": {
        "id": "hPBXBbCKG3lN"
      },
      "source": [
        "---"
      ]
    },
    {
      "cell_type": "markdown",
      "metadata": {
        "id": "c2ts4UNQFxMq"
      },
      "source": [
        "## RNN(Vanilla RNN)을 이용한 스팸 메일 분류기\n",
        "### 스팸 메일 데이터"
      ]
    },
    {
      "cell_type": "code",
      "metadata": {
        "id": "cpAxkEm0FYOs"
      },
      "source": [
        "import numpy as np\n",
        "import pandas as pd\n",
        "%matplotlib inline\n",
        "import matplotlib.pyplot as plt\n",
        "import urllib.request\n",
        "from tensorflow.keras.preprocessing.text import Tokenizer\n",
        "from tensorflow.keras.preprocessing.sequence import pad_sequences"
      ],
      "execution_count": null,
      "outputs": []
    },
    {
      "cell_type": "code",
      "metadata": {
        "colab": {
          "base_uri": "https://localhost:8080/"
        },
        "id": "SMnw4OXLF1dq",
        "outputId": "7a70ed9a-4145-4fcb-b806-b4d98a6eaa32"
      },
      "source": [
        "# Load data\n",
        "# urllib.request.urlretrieve(\"https://raw.githubusercontent.com/mohitgupta-omg/Kaggle-SMS-Spam-Collection-Dataset-/master/spam.csv\", filename=\"spam.csv\")\n",
        "data = pd.read_csv('spam.csv',encoding='latin1')\n",
        "data.shape"
      ],
      "execution_count": null,
      "outputs": [
        {
          "output_type": "execute_result",
          "data": {
            "text/plain": [
              "(5572, 5)"
            ]
          },
          "metadata": {},
          "execution_count": 9
        }
      ]
    },
    {
      "cell_type": "code",
      "metadata": {
        "colab": {
          "base_uri": "https://localhost:8080/"
        },
        "id": "B0PhzFyjGCev",
        "outputId": "be76f295-6390-4752-e354-27f17d0aec43"
      },
      "source": [
        "print('총 샘플의 수 :',len(data))\n",
        "type(data)"
      ],
      "execution_count": null,
      "outputs": [
        {
          "output_type": "stream",
          "name": "stdout",
          "text": [
            "총 샘플의 수 : 5572\n"
          ]
        },
        {
          "output_type": "execute_result",
          "data": {
            "text/plain": [
              "pandas.core.frame.DataFrame"
            ]
          },
          "metadata": {},
          "execution_count": 10
        }
      ]
    },
    {
      "cell_type": "code",
      "metadata": {
        "colab": {
          "base_uri": "https://localhost:8080/",
          "height": 205
        },
        "id": "Zw5WvWCTGKO3",
        "outputId": "5b0ce2c1-5f17-4e35-b04f-91c48012719e"
      },
      "source": [
        "data.head()"
      ],
      "execution_count": null,
      "outputs": [
        {
          "output_type": "execute_result",
          "data": {
            "text/html": [
              "<div>\n",
              "<style scoped>\n",
              "    .dataframe tbody tr th:only-of-type {\n",
              "        vertical-align: middle;\n",
              "    }\n",
              "\n",
              "    .dataframe tbody tr th {\n",
              "        vertical-align: top;\n",
              "    }\n",
              "\n",
              "    .dataframe thead th {\n",
              "        text-align: right;\n",
              "    }\n",
              "</style>\n",
              "<table border=\"1\" class=\"dataframe\">\n",
              "  <thead>\n",
              "    <tr style=\"text-align: right;\">\n",
              "      <th></th>\n",
              "      <th>v1</th>\n",
              "      <th>v2</th>\n",
              "      <th>Unnamed: 2</th>\n",
              "      <th>Unnamed: 3</th>\n",
              "      <th>Unnamed: 4</th>\n",
              "    </tr>\n",
              "  </thead>\n",
              "  <tbody>\n",
              "    <tr>\n",
              "      <th>0</th>\n",
              "      <td>ham</td>\n",
              "      <td>Go until jurong point, crazy.. Available only ...</td>\n",
              "      <td>NaN</td>\n",
              "      <td>NaN</td>\n",
              "      <td>NaN</td>\n",
              "    </tr>\n",
              "    <tr>\n",
              "      <th>1</th>\n",
              "      <td>ham</td>\n",
              "      <td>Ok lar... Joking wif u oni...</td>\n",
              "      <td>NaN</td>\n",
              "      <td>NaN</td>\n",
              "      <td>NaN</td>\n",
              "    </tr>\n",
              "    <tr>\n",
              "      <th>2</th>\n",
              "      <td>spam</td>\n",
              "      <td>Free entry in 2 a wkly comp to win FA Cup fina...</td>\n",
              "      <td>NaN</td>\n",
              "      <td>NaN</td>\n",
              "      <td>NaN</td>\n",
              "    </tr>\n",
              "    <tr>\n",
              "      <th>3</th>\n",
              "      <td>ham</td>\n",
              "      <td>U dun say so early hor... U c already then say...</td>\n",
              "      <td>NaN</td>\n",
              "      <td>NaN</td>\n",
              "      <td>NaN</td>\n",
              "    </tr>\n",
              "    <tr>\n",
              "      <th>4</th>\n",
              "      <td>ham</td>\n",
              "      <td>Nah I don't think he goes to usf, he lives aro...</td>\n",
              "      <td>NaN</td>\n",
              "      <td>NaN</td>\n",
              "      <td>NaN</td>\n",
              "    </tr>\n",
              "  </tbody>\n",
              "</table>\n",
              "</div>"
            ],
            "text/plain": [
              "     v1                                                 v2 Unnamed: 2  \\\n",
              "0   ham  Go until jurong point, crazy.. Available only ...        NaN   \n",
              "1   ham                      Ok lar... Joking wif u oni...        NaN   \n",
              "2  spam  Free entry in 2 a wkly comp to win FA Cup fina...        NaN   \n",
              "3   ham  U dun say so early hor... U c already then say...        NaN   \n",
              "4   ham  Nah I don't think he goes to usf, he lives aro...        NaN   \n",
              "\n",
              "  Unnamed: 3 Unnamed: 4  \n",
              "0        NaN        NaN  \n",
              "1        NaN        NaN  \n",
              "2        NaN        NaN  \n",
              "3        NaN        NaN  \n",
              "4        NaN        NaN  "
            ]
          },
          "metadata": {},
          "execution_count": 11
        }
      ]
    },
    {
      "cell_type": "markdown",
      "metadata": {
        "id": "4AV0XTpMGcGr"
      },
      "source": [
        "- v1열은 해당 메일이 스팸인지 아닌지를 나타내는 레이블에 해당되는 열입니다. \n",
        "- ham은 정상 메일을 의미하고, spam은 스팸 메일을 의미합니다. \n",
        "- v2열은 메일의 본문을 담고있습니다.\n",
        "- Unnamed라는 이름의 3개의 열은 텍스트 분류를 할 때 불필요한 열입니다. "
      ]
    },
    {
      "cell_type": "code",
      "metadata": {
        "colab": {
          "base_uri": "https://localhost:8080/",
          "height": 205
        },
        "id": "-mf1wZoHGRh_",
        "outputId": "18aa7c23-70e6-4107-84ce-dede4ce42926"
      },
      "source": [
        "# 레이블과 메일 내용이 담긴 v1열과 v2열만 필요하므로, Unnamed: 2, Unnamed: 3, Unnamed: 4 열은 삭제.\n",
        "# v1열에 있는 ham과 spam 레이블을 각각 숫자 0과 1로 변경.\n",
        "\n",
        "del data['Unnamed: 2']\n",
        "del data['Unnamed: 3']\n",
        "del data['Unnamed: 4']\n",
        "data['v1'] = data['v1'].replace(['ham','spam'],[0,1])\n",
        "data[:5]\n"
      ],
      "execution_count": null,
      "outputs": [
        {
          "output_type": "execute_result",
          "data": {
            "text/html": [
              "<div>\n",
              "<style scoped>\n",
              "    .dataframe tbody tr th:only-of-type {\n",
              "        vertical-align: middle;\n",
              "    }\n",
              "\n",
              "    .dataframe tbody tr th {\n",
              "        vertical-align: top;\n",
              "    }\n",
              "\n",
              "    .dataframe thead th {\n",
              "        text-align: right;\n",
              "    }\n",
              "</style>\n",
              "<table border=\"1\" class=\"dataframe\">\n",
              "  <thead>\n",
              "    <tr style=\"text-align: right;\">\n",
              "      <th></th>\n",
              "      <th>v1</th>\n",
              "      <th>v2</th>\n",
              "    </tr>\n",
              "  </thead>\n",
              "  <tbody>\n",
              "    <tr>\n",
              "      <th>0</th>\n",
              "      <td>0</td>\n",
              "      <td>Go until jurong point, crazy.. Available only ...</td>\n",
              "    </tr>\n",
              "    <tr>\n",
              "      <th>1</th>\n",
              "      <td>0</td>\n",
              "      <td>Ok lar... Joking wif u oni...</td>\n",
              "    </tr>\n",
              "    <tr>\n",
              "      <th>2</th>\n",
              "      <td>1</td>\n",
              "      <td>Free entry in 2 a wkly comp to win FA Cup fina...</td>\n",
              "    </tr>\n",
              "    <tr>\n",
              "      <th>3</th>\n",
              "      <td>0</td>\n",
              "      <td>U dun say so early hor... U c already then say...</td>\n",
              "    </tr>\n",
              "    <tr>\n",
              "      <th>4</th>\n",
              "      <td>0</td>\n",
              "      <td>Nah I don't think he goes to usf, he lives aro...</td>\n",
              "    </tr>\n",
              "  </tbody>\n",
              "</table>\n",
              "</div>"
            ],
            "text/plain": [
              "   v1                                                 v2\n",
              "0   0  Go until jurong point, crazy.. Available only ...\n",
              "1   0                      Ok lar... Joking wif u oni...\n",
              "2   1  Free entry in 2 a wkly comp to win FA Cup fina...\n",
              "3   0  U dun say so early hor... U c already then say...\n",
              "4   0  Nah I don't think he goes to usf, he lives aro..."
            ]
          },
          "metadata": {},
          "execution_count": 12
        }
      ]
    },
    {
      "cell_type": "code",
      "metadata": {
        "colab": {
          "base_uri": "https://localhost:8080/"
        },
        "id": "PvoqfPUWHPck",
        "outputId": "11bd0e94-50b3-45a3-bc3f-45babca45d62"
      },
      "source": [
        "data.info(),data.shape"
      ],
      "execution_count": null,
      "outputs": [
        {
          "output_type": "stream",
          "name": "stdout",
          "text": [
            "<class 'pandas.core.frame.DataFrame'>\n",
            "RangeIndex: 5572 entries, 0 to 5571\n",
            "Data columns (total 2 columns):\n",
            " #   Column  Non-Null Count  Dtype \n",
            "---  ------  --------------  ----- \n",
            " 0   v1      5572 non-null   int64 \n",
            " 1   v2      5572 non-null   object\n",
            "dtypes: int64(1), object(1)\n",
            "memory usage: 87.2+ KB\n"
          ]
        },
        {
          "output_type": "execute_result",
          "data": {
            "text/plain": [
              "(None, (5572, 2))"
            ]
          },
          "metadata": {},
          "execution_count": 13
        }
      ]
    },
    {
      "cell_type": "code",
      "metadata": {
        "colab": {
          "base_uri": "https://localhost:8080/"
        },
        "id": "doDsiEMtHR0u",
        "outputId": "f95790c8-f4e5-4d83-e70b-6896f0c16837"
      },
      "source": [
        "#  Null 값을 가진 샘플 검사\n",
        "data.isnull().values.any()"
      ],
      "execution_count": null,
      "outputs": [
        {
          "output_type": "execute_result",
          "data": {
            "text/plain": [
              "False"
            ]
          },
          "metadata": {},
          "execution_count": 14
        }
      ]
    },
    {
      "cell_type": "code",
      "metadata": {
        "colab": {
          "base_uri": "https://localhost:8080/"
        },
        "id": "3KPDASQgHgSi",
        "outputId": "323591b8-81f4-41da-9369-429808897992"
      },
      "source": [
        "data.isnull().sum() #axis=0)"
      ],
      "execution_count": null,
      "outputs": [
        {
          "output_type": "execute_result",
          "data": {
            "text/plain": [
              "v1    0\n",
              "v2    0\n",
              "dtype: int64"
            ]
          },
          "metadata": {},
          "execution_count": 16
        }
      ]
    },
    {
      "cell_type": "code",
      "metadata": {
        "colab": {
          "base_uri": "https://localhost:8080/"
        },
        "id": "spBAogfvHjnV",
        "outputId": "927179a6-eec5-4f67-ac6f-884ac80dd743"
      },
      "source": [
        "# 데이터에 중복이 있지는 않은지 확인\n",
        "data['v1'].nunique(), data['v2'].nunique()"
      ],
      "execution_count": null,
      "outputs": [
        {
          "output_type": "execute_result",
          "data": {
            "text/plain": [
              "(2, 5169)"
            ]
          },
          "metadata": {},
          "execution_count": 17
        }
      ]
    },
    {
      "cell_type": "markdown",
      "metadata": {
        "id": "ZxiXwJaqIGVQ"
      },
      "source": [
        "> 총 5,572개의 샘플이 존재하는데 v2열에서 중복을 제거한 샘플의 개수가 5,169개라는 것은 403개의 중복 샘플이 존재"
      ]
    },
    {
      "cell_type": "code",
      "metadata": {
        "colab": {
          "base_uri": "https://localhost:8080/"
        },
        "id": "HLcMw0NaH4Tw",
        "outputId": "8fe8f978-b742-49da-900a-5baa7babb6fd"
      },
      "source": [
        "# 중복 샘플을 제거\n",
        "data.drop_duplicates(subset=['v2'], inplace=True) # v2 열에서 중복인 내용이 있다면 중복 제거\n",
        "\n",
        "# 중복 샘플을 제거 gn, 전체 샘플 수를 확인.\n",
        "print('총 샘플의 수 :',len(data))"
      ],
      "execution_count": null,
      "outputs": [
        {
          "output_type": "stream",
          "name": "stdout",
          "text": [
            "총 샘플의 수 : 5169\n"
          ]
        }
      ]
    },
    {
      "cell_type": "code",
      "metadata": {
        "colab": {
          "base_uri": "https://localhost:8080/",
          "height": 262
        },
        "id": "6OR_h4LGIYiK",
        "outputId": "a3a6b775-1f3c-43fa-9a02-97bbfb7c5da1"
      },
      "source": [
        "# 스팸 메일 유무를 의미하는 레이블 값의 분포를 시각화\n",
        "data['v1'].value_counts().plot(kind='bar');"
      ],
      "execution_count": null,
      "outputs": [
        {
          "output_type": "display_data",
          "data": {
            "image/png": "[encoded data removed]",
            "text/plain": [
              "<Figure size 432x288 with 1 Axes>"
            ]
          },
          "metadata": {
            "needs_background": "light"
          }
        }
      ]
    },
    {
      "cell_type": "code",
      "metadata": {
        "colab": {
          "base_uri": "https://localhost:8080/"
        },
        "id": "CXQJVKd-ImWn",
        "outputId": "9c7df7ee-d99c-4e81-8cd8-3139427bc0f5"
      },
      "source": [
        "#  레이블 값의 분포를 수치로 확인\n",
        "print(data.groupby('v1').size().reset_index(name='count'))"
      ],
      "execution_count": null,
      "outputs": [
        {
          "output_type": "stream",
          "name": "stdout",
          "text": [
            "   v1  count\n",
            "0   0   4516\n",
            "1   1    653\n"
          ]
        }
      ]
    },
    {
      "cell_type": "markdown",
      "metadata": {
        "id": "W1Cd0ABsI-co"
      },
      "source": [
        "### 데이터 만들기\n",
        "> v2열을 X, v1열을 y로 저장\n",
        "- 데이터: X\n",
        "- 레이블 : y"
      ]
    },
    {
      "cell_type": "code",
      "metadata": {
        "id": "Ctt_3dpwuph-",
        "outputId": "a3bf29e8-ca19-43cb-8b7e-c0a5073e9115"
      },
      "source": [
        "data.shape, type(data)"
      ],
      "execution_count": null,
      "outputs": [
        {
          "output_type": "execute_result",
          "data": {
            "text/plain": [
              "((5169, 2), pandas.core.frame.DataFrame)"
            ]
          },
          "metadata": {},
          "execution_count": 23
        }
      ]
    },
    {
      "cell_type": "code",
      "metadata": {
        "colab": {
          "base_uri": "https://localhost:8080/"
        },
        "id": "0WDnoPePI0fK",
        "outputId": "aafb8ee0-b2b7-4014-dc7a-c9f303427c4b"
      },
      "source": [
        "X_data = data['v2']\n",
        "y_data = data['v1']\n",
        "print('메일 본문의 개수: {}'.format(len(X_data)))\n",
        "print('레이블의 개수: {}'.format(len(y_data)))"
      ],
      "execution_count": null,
      "outputs": [
        {
          "output_type": "stream",
          "name": "stdout",
          "text": [
            "메일 본문의 개수: 5169\n",
            "레이블의 개수: 5169\n"
          ]
        }
      ]
    },
    {
      "cell_type": "markdown",
      "metadata": {
        "id": "hq5Wn1VGJXbM"
      },
      "source": [
        "### 토큰화와 정수 인코딩"
      ]
    },
    {
      "cell_type": "code",
      "metadata": {
        "id": "G-9nJp_dJQrV"
      },
      "source": [
        "tokenizer = Tokenizer()\n",
        "tokenizer.fit_on_texts(X_data) # 5169개의 행을 가진 X의 각 행에 토큰화를 수행\n",
        "sequences = tokenizer.texts_to_sequences(X_data) # 단어를 숫자값, 인덱스로 변환하여 저장\n"
      ],
      "execution_count": null,
      "outputs": []
    },
    {
      "cell_type": "code",
      "metadata": {
        "colab": {
          "base_uri": "https://localhost:8080/"
        },
        "id": "Gtc7CqW7LEn6",
        "outputId": "5fa9513a-250c-481f-ad80-f2e5f81e9856"
      },
      "source": [
        "# Print the first 5 items\n",
        "for item in sequences[:5]:\n",
        "  print(item)"
      ],
      "execution_count": null,
      "outputs": [
        {
          "output_type": "stream",
          "name": "stdout",
          "text": [
            "[47, 433, 4013, 780, 705, 662, 64, 8, 1202, 94, 121, 434, 1203, 142, 2712, 1204, 68, 57, 4014, 137]\n",
            "[49, 306, 1364, 435, 6, 1767]\n",
            "[53, 537, 8, 20, 4, 1016, 934, 2, 220, 2713, 1365, 706, 2714, 2715, 267, 2716, 70, 2713, 2, 2717, 2, 359, 537, 604, 1205, 82, 436, 185, 707, 437, 4015]\n",
            "[6, 226, 152, 23, 347, 2718, 6, 138, 145, 56, 152]\n",
            "[935, 1, 97, 96, 69, 453, 2, 877, 69, 1768, 198, 105, 438]\n"
          ]
        }
      ]
    },
    {
      "cell_type": "code",
      "metadata": {
        "id": "o8qcu-WkupiA",
        "outputId": "b4897e06-406d-4276-bab5-d181e5e9457c"
      },
      "source": [
        "type(sequences),max(max(sequences))"
      ],
      "execution_count": null,
      "outputs": [
        {
          "output_type": "execute_result",
          "data": {
            "text/plain": [
              "(list, 8919)"
            ]
          },
          "metadata": {},
          "execution_count": 118
        }
      ]
    },
    {
      "cell_type": "markdown",
      "metadata": {
        "id": "gJP1_aRlLaNd"
      },
      "source": [
        "> sequences에는 X_data의 단어들이 각 단어에 맵핑되는 정수로 인코딩되어 저장"
      ]
    },
    {
      "cell_type": "code",
      "metadata": {
        "colab": {
          "base_uri": "https://localhost:8080/"
        },
        "id": "DU_CqriTJkQe",
        "outputId": "aecd22d2-841e-4bef-93e3-059d52b1e929"
      },
      "source": [
        "# 각 정수가 어떤 단어에 부여되었는지 확인\n",
        "word_to_index = tokenizer.word_index\n",
        "print(type(word_to_index))\n",
        "print(len(word_to_index))\n",
        "# first_50 = dict(list(d.items())[:50])\n",
        "print(dict(list(word_to_index.items())[:50]))"
      ],
      "execution_count": null,
      "outputs": [
        {
          "output_type": "stream",
          "name": "stdout",
          "text": [
            "<class 'dict'>\n",
            "8920\n",
            "{'i': 1, 'to': 2, 'you': 3, 'a': 4, 'the': 5, 'u': 6, 'and': 7, 'in': 8, 'is': 9, 'me': 10, 'my': 11, 'for': 12, 'your': 13, 'it': 14, 'of': 15, 'have': 16, 'call': 17, 'that': 18, 'on': 19, '2': 20, 'are': 21, 'now': 22, 'so': 23, 'but': 24, 'not': 25, 'can': 26, 'at': 27, 'or': 28, \"i'm\": 29, 'do': 30, 'be': 31, 'get': 32, 'will': 33, 'just': 34, 'if': 35, 'with': 36, 'we': 37, 'no': 38, 'this': 39, 'ur': 40, 'up': 41, 'gt': 42, 'lt': 43, '4': 44, 'how': 45, 'when': 46, 'go': 47, 'from': 48, 'ok': 49, 'out': 50}\n"
          ]
        }
      ]
    },
    {
      "cell_type": "code",
      "metadata": {
        "id": "SeA4p9wmupiA",
        "outputId": "22ded5c3-6d26-4c03-c524-c71f7adaa4df"
      },
      "source": [
        "type(word_to_index)"
      ],
      "execution_count": null,
      "outputs": [
        {
          "output_type": "execute_result",
          "data": {
            "text/plain": [
              "dict"
            ]
          },
          "metadata": {},
          "execution_count": 120
        }
      ]
    },
    {
      "cell_type": "code",
      "metadata": {
        "colab": {
          "base_uri": "https://localhost:8080/"
        },
        "id": "XZwV2m1TLqfY",
        "outputId": "21f9fcb0-f43e-4b6e-943b-06c1f606e9e4"
      },
      "source": [
        "# 각 단어에 대한 등장 빈도수: tokenizer.word_counts.items()\n",
        "threshold = 2\n",
        "total_cnt = len(word_to_index) # 단어의 수\n",
        "rare_cnt = 0 # 등장 빈도수가 threshold보다 작은 단어의 개수를 카운트\n",
        "total_freq = 0 # 훈련 데이터의 전체 단어 빈도수 총 합\n",
        "rare_freq = 0 # 등장 빈도수가 threshold보다 작은 단어의 등장 빈도수의 총 합\n",
        "\n",
        "# 단어와 빈도수의 쌍(pair)을 key와 value로 받는다.\n",
        "for key, value in tokenizer.word_counts.items():\n",
        "    total_freq = total_freq + value\n",
        "\n",
        "    # 단어의 등장 빈도수가 threshold보다 작으면\n",
        "    if(value < threshold):\n",
        "        rare_cnt = rare_cnt + 1\n",
        "        rare_freq = rare_freq + value\n",
        "\n",
        "print('등장 빈도가 %s번 이하인 희귀 단어의 수: %s'%(threshold - 1, rare_cnt))\n",
        "print(\"단어 집합(vocabulary)에서 희귀 단어의 비율:\", (rare_cnt / total_cnt)*100)\n",
        "print(\"전체 등장 빈도에서 희귀 단어 등장 빈도 비율:\", (rare_freq / total_freq)*100)"
      ],
      "execution_count": null,
      "outputs": [
        {
          "output_type": "stream",
          "name": "stdout",
          "text": [
            "등장 빈도가 1번 이하인 희귀 단어의 수: 4908\n",
            "단어 집합(vocabulary)에서 희귀 단어의 비율: 55.02242152466368\n",
            "전체 등장 빈도에서 희귀 단어 등장 빈도 비율: 6.082538108811501\n"
          ]
        }
      ]
    },
    {
      "cell_type": "markdown",
      "metadata": {
        "id": "9nlYPndTOOl6"
      },
      "source": [
        ">등장 빈도가 threshold 값인 2회 미만. 즉, 1회 밖에 되지 않는 단어들은 단어 집합에서 무려 절반 이상을 차지합니다. 하지만, 실제로 훈련 데이터에서 등장 빈도로 차지하는 비중은 상대적으로 적은 수치인 6%밖에 되지 않습니다. 만약, 이러한 분석을 통해 등장 빈도가 지나치게 낮은 단어들은 자연어 처리에서 제외하고 싶다면 케라스 토크나이저 선언 시에 단어 집합의 크기를 제한할 수 있었다는 사실을 기억합시다. (정수 인코딩 챕터 참고) 가령, 아래의 코드로 등장 빈도가 1회인 단어들을 제외할 수 있을 겁니다.\n",
        "\n",
        "- tokenizer = Tokenizer(num_words = total_cnt - rare_cnt + 1)"
      ]
    },
    {
      "cell_type": "code",
      "metadata": {
        "colab": {
          "base_uri": "https://localhost:8080/"
        },
        "id": "ncNTXBpUN_J7",
        "outputId": "5ff1b0e8-de50-43fa-d2b2-cf4dc7221642"
      },
      "source": [
        "# 단어 집합의 크기를 vocab_size에 저장\n",
        "vocab_size = len(word_to_index) + 1\n",
        "print('단어 집합의 크기: {}'.format((vocab_size)))"
      ],
      "execution_count": null,
      "outputs": [
        {
          "output_type": "stream",
          "name": "stdout",
          "text": [
            "단어 집합의 크기: 8921\n"
          ]
        }
      ]
    },
    {
      "cell_type": "markdown",
      "metadata": {
        "id": "bhONQvKfOwpu"
      },
      "source": [
        "## 훈련 데이터와 테스트 데이터의 분리\n",
        "- 8:2"
      ]
    },
    {
      "cell_type": "code",
      "metadata": {
        "colab": {
          "base_uri": "https://localhost:8080/"
        },
        "id": "NHHWDAalOoIO",
        "outputId": "609e53f4-9c6b-468d-ee66-0f8d686ad4f8"
      },
      "source": [
        "n_of_train = int(len(sequences) * 0.8)\n",
        "n_of_test = int(len(sequences) - n_of_train)\n",
        "print('훈련 데이터의 개수 :',n_of_train)\n",
        "print('테스트 데이터의 개수:',n_of_test)"
      ],
      "execution_count": null,
      "outputs": [
        {
          "output_type": "stream",
          "name": "stdout",
          "text": [
            "훈련 데이터의 개수 : 4135\n",
            "테스트 데이터의 개수: 1034\n"
          ]
        }
      ]
    },
    {
      "cell_type": "code",
      "metadata": {
        "colab": {
          "base_uri": "https://localhost:8080/",
          "height": 316
        },
        "id": "X0d5YyLQO12z",
        "outputId": "1167e0d5-3eb0-4fa5-edf3-523c6c0fdeb0"
      },
      "source": [
        "# X_data에 대해서 정수 인코딩 된 결과인 sequences를 X_data로 변경하고, \n",
        "# 전체 데이터에서 가장 길이가 긴 메일과 전체 메일 데이터의 길이 분포를 확인\n",
        "X_data = sequences\n",
        "print('메일의 최대 길이 : %d' % max(len(l) for l in X_data))\n",
        "print('메일의 평균 길이 : %f' % (sum(map(len, X_data))/len(X_data)))\n",
        "plt.hist([len(s) for s in X_data], bins=50)\n",
        "plt.xlabel('length of samples')\n",
        "plt.ylabel('number of samples')\n",
        "plt.show()"
      ],
      "execution_count": null,
      "outputs": [
        {
          "output_type": "stream",
          "name": "stdout",
          "text": [
            "메일의 최대 길이 : 189\n",
            "메일의 평균 길이 : 15.610370\n"
          ]
        },
        {
          "output_type": "display_data",
          "data": {
            "image/png": "[encoded data removed]",
            "text/plain": [
              "<Figure size 432x288 with 1 Axes>"
            ]
          },
          "metadata": {
            "needs_background": "light"
          }
        }
      ]
    },
    {
      "cell_type": "code",
      "metadata": {
        "colab": {
          "base_uri": "https://localhost:8080/"
        },
        "id": "tV14M9XGPOfd",
        "outputId": "bf7029a6-e8a0-46db-d15e-02f65077b806"
      },
      "source": [
        "# Padding data up to max_len\n",
        "max_len = 189\n",
        "# 전체 데이터셋의 길이는 max_len으로 맞춥니다.\n",
        "data_pad = pad_sequences(X_data, maxlen = max_len)\n",
        "print(\"훈련 데이터의 크기(shape): \", data_pad.shape)"
      ],
      "execution_count": null,
      "outputs": [
        {
          "output_type": "stream",
          "name": "stdout",
          "text": [
            "훈련 데이터의 크기(shape):  (5169, 189)\n"
          ]
        }
      ]
    },
    {
      "cell_type": "code",
      "metadata": {
        "id": "zfka0s0WPgV2"
      },
      "source": [
        "# 훈련 데이터와 테스트 데이터를 분리\n",
        "X_train = data_pad[:n_of_train] #X_data 데이터 중에서 앞의 4135개의 데이터만 저장\n",
        "y_train = np.array(y_data[:n_of_train]) #y_data 데이터 중에서 앞의 4135개의 데이터만 저장\n",
        "X_test = data_pad[n_of_train:] #X_data 데이터 중에서 뒤의 1034개의 데이터만 저장\n",
        "y_test = np.array(y_data[n_of_train:]) #y_data 데이터 중에서 뒤의 1034개의 데이터만 저장\n"
      ],
      "execution_count": null,
      "outputs": []
    },
    {
      "cell_type": "code",
      "metadata": {
        "colab": {
          "base_uri": "https://localhost:8080/"
        },
        "id": "U9h6OL7YPoAy",
        "outputId": "8ebb4bd5-c79a-4cc6-9eed-0745094e2c1a"
      },
      "source": [
        "X_train.shape,y_train.shape,X_test.shape,y_test.shape"
      ],
      "execution_count": null,
      "outputs": [
        {
          "output_type": "execute_result",
          "data": {
            "text/plain": [
              "((4135, 189), (4135,), (1034, 189), (1034,))"
            ]
          },
          "metadata": {},
          "execution_count": 127
        }
      ]
    },
    {
      "cell_type": "markdown",
      "metadata": {
        "id": "LDEdFhFlP6jY"
      },
      "source": [
        "## 바닐라 RNN을 이용하여 스팸 메일 분류"
      ]
    },
    {
      "cell_type": "code",
      "metadata": {
        "id": "arLiyMAkP0Cs"
      },
      "source": [
        "from tensorflow.keras.layers import SimpleRNN, Embedding, Dense\n",
        "from tensorflow.keras.models import Sequential\n",
        "from tensorflow.keras.callbacks import EarlyStopping, ModelCheckpoint"
      ],
      "execution_count": null,
      "outputs": []
    },
    {
      "cell_type": "code",
      "metadata": {
        "id": "XYKcXbfoQAhm"
      },
      "source": [
        "model = Sequential()\n",
        "model.add(Embedding(vocab_size, 32)) # 임베딩 벡터의 차원은 32\n",
        "model.add(SimpleRNN(32)) # RNN 셀의 hidden_size는 32\n",
        "model.add(Dense(1, activation='sigmoid'))\n",
        "\n",
        "model.compile(optimizer='rmsprop', loss='binary_crossentropy', metrics=['acc'])"
      ],
      "execution_count": null,
      "outputs": []
    },
    {
      "cell_type": "code",
      "metadata": {
        "colab": {
          "base_uri": "https://localhost:8080/"
        },
        "id": "vTmjtzWUZ6fm",
        "outputId": "365d390b-0abe-4b5e-8fd4-90227bd55b26"
      },
      "source": [
        "es = EarlyStopping(monitor = 'val_loss', mode = 'min', verbose = 1, patience = 3)\n",
        "mc = ModelCheckpoint('./models/best_model_RNN.{epoch:02d}-{val_acc:.3f}.h5', \n",
        "                        monitor = 'val_acc', mode = 'max', \n",
        "                        verbose = 1, save_best_only = True)\n",
        "\n",
        "history = model.fit(X_train, y_train, \n",
        "                    epochs = 10, \n",
        "                    batch_size=64, \n",
        "                    validation_split=0.2, \n",
        "                    callbacks=[es, mc])"
      ],
      "execution_count": null,
      "outputs": [
        {
          "output_type": "stream",
          "name": "stdout",
          "text": [
            "Epoch 1/10\n",
            "52/52 [==============================] - 20s 363ms/step - loss: 0.3717 - acc: 0.8809 - val_loss: 0.2761 - val_acc: 0.8827\n",
            "\n",
            "Epoch 00001: val_acc improved from -inf to 0.88271, saving model to ./models\\best_model_RNN.01-0.883.h5\n",
            "Epoch 2/10\n",
            "52/52 [==============================] - 19s 361ms/step - loss: 0.2371 - acc: 0.9247 - val_loss: 0.2592 - val_acc: 0.8875\n",
            "\n",
            "Epoch 00002: val_acc improved from 0.88271 to 0.88755, saving model to ./models\\best_model_RNN.02-0.888.h5\n",
            "Epoch 3/10\n",
            "52/52 [==============================] - 19s 362ms/step - loss: 0.1429 - acc: 0.9565 - val_loss: 0.0894 - val_acc: 0.9770\n",
            "\n",
            "Epoch 00003: val_acc improved from 0.88755 to 0.97703, saving model to ./models\\best_model_RNN.03-0.977.h5\n",
            "Epoch 4/10\n",
            "52/52 [==============================] - 19s 367ms/step - loss: 0.0739 - acc: 0.9794 - val_loss: 0.0835 - val_acc: 0.9770\n",
            "\n",
            "Epoch 00004: val_acc did not improve from 0.97703\n",
            "Epoch 5/10\n",
            "52/52 [==============================] - 19s 374ms/step - loss: 0.0372 - acc: 0.9912 - val_loss: 0.0505 - val_acc: 0.9831\n",
            "\n",
            "Epoch 00005: val_acc improved from 0.97703 to 0.98307, saving model to ./models\\best_model_RNN.05-0.983.h5\n",
            "Epoch 6/10\n",
            "52/52 [==============================] - 19s 367ms/step - loss: 0.0259 - acc: 0.9940 - val_loss: 0.0530 - val_acc: 0.9831\n",
            "\n",
            "Epoch 00006: val_acc did not improve from 0.98307\n",
            "Epoch 7/10\n",
            "52/52 [==============================] - 19s 370ms/step - loss: 0.0185 - acc: 0.9961 - val_loss: 0.0746 - val_acc: 0.9770\n",
            "\n",
            "Epoch 00007: val_acc did not improve from 0.98307\n",
            "Epoch 8/10\n",
            "52/52 [==============================] - 19s 368ms/step - loss: 0.0138 - acc: 0.9967 - val_loss: 0.0834 - val_acc: 0.9770\n",
            "\n",
            "Epoch 00008: val_acc did not improve from 0.98307\n",
            "Epoch 00008: early stopping\n"
          ]
        }
      ]
    },
    {
      "cell_type": "code",
      "metadata": {
        "colab": {
          "base_uri": "https://localhost:8080/"
        },
        "id": "DaBSLkKHQTrU",
        "outputId": "5603d8a9-653f-402b-ef8b-02ec5695afa1"
      },
      "source": [
        "# 테스트 데이터에 대해서 정확도를 확인.\n",
        "\n",
        "print(\"\\n 테스트 정확도: %.4f\" % (model.evaluate(X_test, y_test)[1]))"
      ],
      "execution_count": null,
      "outputs": [
        {
          "output_type": "stream",
          "name": "stdout",
          "text": [
            "33/33 [==============================] - 1s 28ms/step - loss: 0.0773 - acc: 0.9787\n",
            "\n",
            " 테스트 정확도: 0.9787\n"
          ]
        }
      ]
    },
    {
      "cell_type": "code",
      "metadata": {
        "colab": {
          "base_uri": "https://localhost:8080/",
          "height": 295
        },
        "id": "sZgfY7qnQntM",
        "outputId": "6f00bd67-8eb8-45d6-e3a2-2e39c80a8f00"
      },
      "source": [
        "# 훈련 데이터와 검증 데이터에 대한 정확도 시각화.\n",
        "epochs = range(1, len(history.history['acc']) + 1)\n",
        "plt.plot(epochs, history.history['acc'])\n",
        "plt.plot(epochs, history.history['val_acc'])\n",
        "plt.title('model loss')\n",
        "plt.ylabel('accuracy')\n",
        "plt.xlabel('epoch')\n",
        "plt.legend(['train', 'val'], loc='upper left')\n",
        "plt.show()"
      ],
      "execution_count": null,
      "outputs": [
        {
          "output_type": "display_data",
          "data": {
            "image/png": "[encoded data removed]",
            "text/plain": [
              "<Figure size 432x288 with 1 Axes>"
            ]
          },
          "metadata": {
            "needs_background": "light"
          }
        }
      ]
    },
    {
      "cell_type": "code",
      "metadata": {
        "colab": {
          "base_uri": "https://localhost:8080/",
          "height": 295
        },
        "id": "o823a5UgQ9SN",
        "outputId": "0ab9a6b2-961a-4720-a60a-3d2bb7e3f9bc"
      },
      "source": [
        "# 훈련 데이터와 검증 데이터에 대한 손실 시각화.\n",
        "epochs = range(1, len(history.history['loss']) + 1)\n",
        "plt.plot(epochs, history.history['loss'])\n",
        "plt.plot(epochs, history.history['val_loss'])\n",
        "plt.title('model loss')\n",
        "plt.ylabel('loss')\n",
        "plt.xlabel('epoch')\n",
        "plt.legend(['train', 'val'], loc='upper left')\n",
        "plt.show()"
      ],
      "execution_count": null,
      "outputs": [
        {
          "output_type": "display_data",
          "data": {
            "image/png": "[encoded data removed]",
            "text/plain": [
              "<Figure size 432x288 with 1 Axes>"
            ]
          },
          "metadata": {
            "needs_background": "light"
          }
        }
      ]
    },
    {
      "cell_type": "markdown",
      "metadata": {
        "id": "wGAPSH32RM7c"
      },
      "source": [
        "---\n",
        "---"
      ]
    },
    {
      "cell_type": "markdown",
      "metadata": {
        "id": "7Ot9nYcSR75K"
      },
      "source": [
        "## 1D CNN으로 스팸 메일 분류"
      ]
    },
    {
      "cell_type": "code",
      "metadata": {
        "id": "EJ75Z2T6Q4E2"
      },
      "source": [
        "# 스팸 메일 데이터를 다운로드\n",
        "# urllib.request.urlretrieve(\"https://raw.githubusercontent.com/mohitgupta-omg/Kaggle-SMS-Spam-Collection-Dataset-/master/spam.csv\", filename=\"spam.csv\")\n",
        "# data = pd.read_csv('spam.csv', encoding='latin-1')"
      ],
      "execution_count": null,
      "outputs": []
    },
    {
      "cell_type": "code",
      "metadata": {
        "colab": {
          "base_uri": "https://localhost:8080/",
          "height": 205
        },
        "id": "e76p7-xgVD4s",
        "outputId": "0400c921-f7bf-45d9-a0f4-e79e0453ce9f"
      },
      "source": [
        "data.head()"
      ],
      "execution_count": null,
      "outputs": [
        {
          "output_type": "execute_result",
          "data": {
            "text/html": [
              "<div>\n",
              "<style scoped>\n",
              "    .dataframe tbody tr th:only-of-type {\n",
              "        vertical-align: middle;\n",
              "    }\n",
              "\n",
              "    .dataframe tbody tr th {\n",
              "        vertical-align: top;\n",
              "    }\n",
              "\n",
              "    .dataframe thead th {\n",
              "        text-align: right;\n",
              "    }\n",
              "</style>\n",
              "<table border=\"1\" class=\"dataframe\">\n",
              "  <thead>\n",
              "    <tr style=\"text-align: right;\">\n",
              "      <th></th>\n",
              "      <th>v1</th>\n",
              "      <th>v2</th>\n",
              "    </tr>\n",
              "  </thead>\n",
              "  <tbody>\n",
              "    <tr>\n",
              "      <th>0</th>\n",
              "      <td>0</td>\n",
              "      <td>Go until jurong point, crazy.. Available only ...</td>\n",
              "    </tr>\n",
              "    <tr>\n",
              "      <th>1</th>\n",
              "      <td>0</td>\n",
              "      <td>Ok lar... Joking wif u oni...</td>\n",
              "    </tr>\n",
              "    <tr>\n",
              "      <th>2</th>\n",
              "      <td>1</td>\n",
              "      <td>Free entry in 2 a wkly comp to win FA Cup fina...</td>\n",
              "    </tr>\n",
              "    <tr>\n",
              "      <th>3</th>\n",
              "      <td>0</td>\n",
              "      <td>U dun say so early hor... U c already then say...</td>\n",
              "    </tr>\n",
              "    <tr>\n",
              "      <th>4</th>\n",
              "      <td>0</td>\n",
              "      <td>Nah I don't think he goes to usf, he lives aro...</td>\n",
              "    </tr>\n",
              "  </tbody>\n",
              "</table>\n",
              "</div>"
            ],
            "text/plain": [
              "   v1                                                 v2\n",
              "0   0  Go until jurong point, crazy.. Available only ...\n",
              "1   0                      Ok lar... Joking wif u oni...\n",
              "2   1  Free entry in 2 a wkly comp to win FA Cup fina...\n",
              "3   0  U dun say so early hor... U c already then say...\n",
              "4   0  Nah I don't think he goes to usf, he lives aro..."
            ]
          },
          "metadata": {},
          "execution_count": 135
        }
      ]
    },
    {
      "cell_type": "code",
      "metadata": {
        "colab": {
          "base_uri": "https://localhost:8080/"
        },
        "id": "teRkqn8OTXOQ",
        "outputId": "a175cd59-84a7-44b9-c11a-eef0c063ef21"
      },
      "source": [
        "# Redefine data\n",
        "X_data = data['v2']\n",
        "y_data = data['v1']\n",
        "print('메일 본문의 개수: {}'.format(len(X_data)))\n",
        "print('레이블의 개수: {}'.format(len(y_data)))"
      ],
      "execution_count": null,
      "outputs": [
        {
          "output_type": "stream",
          "name": "stdout",
          "text": [
            "메일 본문의 개수: 5169\n",
            "레이블의 개수: 5169\n"
          ]
        }
      ]
    },
    {
      "cell_type": "markdown",
      "metadata": {
        "id": "Ou2fmyMKVQRj"
      },
      "source": [
        "> 전체 단어의 개수를 1,000개로 제한하고 정수 인코딩을 진행"
      ]
    },
    {
      "cell_type": "code",
      "metadata": {
        "id": "mHoH5BUUSTEc"
      },
      "source": [
        "# 전체 단어의 개수를 1,000~5,000개로 제한하고 정수 인코딩을 진행\n",
        "vocab_size = 5000   # 1000, 2000, 5000\n",
        "tokenizer = Tokenizer(num_words = vocab_size)\n",
        "tokenizer.fit_on_texts(X_data) # 5169개의 행을 가진 X의 각 행에 토큰화를 수행\n",
        "sequences = tokenizer.texts_to_sequences(X_data) # 단어를 숫자값, 인덱스로 변환하여 저장"
      ],
      "execution_count": null,
      "outputs": []
    },
    {
      "cell_type": "code",
      "metadata": {
        "colab": {
          "base_uri": "https://localhost:8080/"
        },
        "id": "qVQjKquwTFjr",
        "outputId": "eb423f79-d003-479f-854f-e0e2862fd2b7"
      },
      "source": [
        "# Print the first 5 items\n",
        "for item in sequences[:5]:\n",
        "  print(item)"
      ],
      "execution_count": null,
      "outputs": [
        {
          "output_type": "stream",
          "name": "stdout",
          "text": [
            "[47, 433, 4013, 780, 705, 662, 64, 8, 1202, 94, 121, 434, 1203, 142, 2712, 1204, 68, 57, 4014, 137]\n",
            "[49, 306, 1364, 435, 6, 1767]\n",
            "[53, 537, 8, 20, 4, 1016, 934, 2, 220, 2713, 1365, 706, 2714, 2715, 267, 2716, 70, 2713, 2, 2717, 2, 359, 537, 604, 1205, 82, 436, 185, 707, 437, 4015]\n",
            "[6, 226, 152, 23, 347, 2718, 6, 138, 145, 56, 152]\n",
            "[935, 1, 97, 96, 69, 453, 2, 877, 69, 1768, 198, 105, 438]\n"
          ]
        }
      ]
    },
    {
      "cell_type": "code",
      "metadata": {
        "id": "OgOA--EDupiF",
        "outputId": "13cdac82-ec3d-44f9-c548-a491b78c5ec6"
      },
      "source": [
        "type(sequences),max(max(sequences))"
      ],
      "execution_count": null,
      "outputs": [
        {
          "output_type": "execute_result",
          "data": {
            "text/plain": [
              "(list, 4983)"
            ]
          },
          "metadata": {},
          "execution_count": 139
        }
      ]
    },
    {
      "cell_type": "markdown",
      "metadata": {
        "id": "bdJ3M_J3VrCM"
      },
      "source": [
        "> 전체 단어의 개수를 제한하지 않은 경우와 1,000개로 제한한 경우를 비교\n",
        "\n",
        "> ### 전체 단어의 개수를 제한하지 않은 경우\n",
        "- [47, 433, 4013, 780, 705, 662, 64, 8, 1202, 94, 121, 434, 1203, 142, 2712, 1204, 68, 57, 4014, 137]\n",
        "- [49, 306, 1364, 435, 6, 1767]\n",
        "\n",
        "> ### 1,000개로 제한\n",
        "- [47, 433, 780, 705, 662, 64, 8, 94, 121, 434, 142, 68, 57, 137]\n",
        "- [49, 306, 435, 6]"
      ]
    },
    {
      "cell_type": "code",
      "metadata": {
        "colab": {
          "base_uri": "https://localhost:8080/"
        },
        "id": "XeuCsoAQSc8G",
        "outputId": "227914ee-65ec-4052-fd4d-44d81371a05e"
      },
      "source": [
        "# 훈련 데이터와 테스트 데이터의 분리\n",
        "n_of_train = int(len(sequences) * 0.8)\n",
        "n_of_test = int(len(sequences) - n_of_train)\n",
        "print('훈련 데이터의 개수 :',n_of_train)\n",
        "print('테스트 데이터의 개수:',n_of_test)\n"
      ],
      "execution_count": null,
      "outputs": [
        {
          "output_type": "stream",
          "name": "stdout",
          "text": [
            "훈련 데이터의 개수 : 4135\n",
            "테스트 데이터의 개수: 1034\n"
          ]
        }
      ]
    },
    {
      "cell_type": "code",
      "metadata": {
        "colab": {
          "base_uri": "https://localhost:8080/",
          "height": 316
        },
        "id": "NAdzWPxsWmyb",
        "outputId": "6bdb1756-e01f-4397-ba83-ec59d0d1c5d0"
      },
      "source": [
        "# 전체 데이터에서 가장 길이가 긴 메일과 전체 메일 데이터의 길이 분포\n",
        "X_data = sequences\n",
        "print('메일의 최대 길이 : %d' % max(len(l) for l in X_data))\n",
        "print('메일의 평균 길이 : %f' % (sum(map(len, X_data))/len(X_data)))\n",
        "plt.hist([len(s) for s in X_data], bins=50)\n",
        "plt.xlabel('length of samples')\n",
        "plt.ylabel('number of samples')\n",
        "plt.show()"
      ],
      "execution_count": null,
      "outputs": [
        {
          "output_type": "stream",
          "name": "stdout",
          "text": [
            "메일의 최대 길이 : 183\n",
            "메일의 평균 길이 : 14.851809\n"
          ]
        },
        {
          "output_type": "display_data",
          "data": {
            "image/png": "[encoded data removed]",
            "text/plain": [
              "<Figure size 432x288 with 1 Axes>"
            ]
          },
          "metadata": {
            "needs_background": "light"
          }
        }
      ]
    },
    {
      "cell_type": "code",
      "metadata": {
        "colab": {
          "base_uri": "https://localhost:8080/"
        },
        "id": "ruL9h7tIW0xI",
        "outputId": "e21f0eb4-69e6-4097-e976-53841bd24660"
      },
      "source": [
        "# 전체 데이터셋의 길이는 max_len으로 맞춥니다.\n",
        "max_len = 172\n",
        "data_pad = pad_sequences(X_data, maxlen = max_len)\n",
        "print(\"훈련 데이터의 크기(shape): \", data_pad.shape)"
      ],
      "execution_count": null,
      "outputs": [
        {
          "output_type": "stream",
          "name": "stdout",
          "text": [
            "훈련 데이터의 크기(shape):  (5169, 172)\n"
          ]
        }
      ]
    },
    {
      "cell_type": "code",
      "metadata": {
        "colab": {
          "base_uri": "https://localhost:8080/"
        },
        "id": "mj3y65DVW9Um",
        "outputId": "b6266315-d2e3-4ab0-cb77-5cc77cac6158"
      },
      "source": [
        "# X_train과 X_test를 분리\n",
        "X_test = data_pad[n_of_train:] #X_data 데이터 중에서 뒤의 1034개의 데이터만 저장\n",
        "y_test = np.array(y_data[n_of_train:]) #y_data 데이터 중에서 뒤의 1034개의 데이터만 저장\n",
        "X_train = data_pad[:n_of_train] #X_data 데이터 중에서 앞의 4135개의 데이터만 저장\n",
        "y_train = np.array(y_data[:n_of_train]) #y_data 데이터 중에서 앞의 4135개의 데이터만 저장\n",
        "print(\"훈련용 이메일 데이터의 크기(shape): \", X_train.shape)\n",
        "print(\"테스트용 이메일 데이터의 크기(shape): \", X_test.shape)\n",
        "print(\"훈련용 레이블의 크기(shape): \", y_train.shape)\n",
        "print(\"테스트용 레이블의 크기(shape): \", y_test.shape)"
      ],
      "execution_count": null,
      "outputs": [
        {
          "output_type": "stream",
          "name": "stdout",
          "text": [
            "훈련용 이메일 데이터의 크기(shape):  (4135, 172)\n",
            "테스트용 이메일 데이터의 크기(shape):  (1034, 172)\n",
            "훈련용 레이블의 크기(shape):  (4135,)\n",
            "테스트용 레이블의 크기(shape):  (1034,)\n"
          ]
        }
      ]
    },
    {
      "cell_type": "markdown",
      "metadata": {
        "id": "eODg9DMnXHxz"
      },
      "source": [
        "## 1D CNN으로 스팸 메일 분류"
      ]
    },
    {
      "cell_type": "code",
      "metadata": {
        "id": "QTbTkx4CXLFh"
      },
      "source": [
        "from tensorflow.keras.layers import Dense, Conv1D, GlobalMaxPooling1D, Embedding, Dropout, MaxPooling1D\n",
        "from tensorflow.keras.models import Sequential\n",
        "from tensorflow.keras.callbacks import EarlyStopping, ModelCheckpoint"
      ],
      "execution_count": null,
      "outputs": []
    },
    {
      "cell_type": "code",
      "metadata": {
        "colab": {
          "base_uri": "https://localhost:8080/"
        },
        "id": "I2luLCM8Xh2k",
        "outputId": "75419fc4-0bd7-489c-8b72-e8476a647b86"
      },
      "source": [
        "print(vocab_size)"
      ],
      "execution_count": null,
      "outputs": [
        {
          "output_type": "stream",
          "name": "stdout",
          "text": [
            "5000\n"
          ]
        }
      ]
    },
    {
      "cell_type": "code",
      "metadata": {
        "colab": {
          "base_uri": "https://localhost:8080/"
        },
        "id": "pwSlKb0dXOah",
        "outputId": "f5624dc3-176e-48e8-c26b-9fe7f9a1beb0"
      },
      "source": [
        "model = Sequential()\n",
        "model.add(Embedding(vocab_size, 32))\n",
        "model.add(Dropout(0.2))\n",
        "model.add(Conv1D(32, 5, strides=1, padding='valid', activation='relu'))\n",
        "model.add(GlobalMaxPooling1D())\n",
        "model.add(Dense(64, activation='relu'))\n",
        "model.add(Dropout(0.2))\n",
        "model.add(Dense(1, activation='sigmoid'))\n",
        "model.summary()\n",
        "model.compile(optimizer='adam', loss='binary_crossentropy', metrics=['acc'])"
      ],
      "execution_count": null,
      "outputs": [
        {
          "output_type": "stream",
          "name": "stdout",
          "text": [
            "Model: \"sequential_4\"\n",
            "_________________________________________________________________\n",
            "Layer (type)                 Output Shape              Param #   \n",
            "=================================================================\n",
            "embedding_4 (Embedding)      (None, None, 32)          160000    \n",
            "_________________________________________________________________\n",
            "dropout_2 (Dropout)          (None, None, 32)          0         \n",
            "_________________________________________________________________\n",
            "conv1d_1 (Conv1D)            (None, None, 32)          5152      \n",
            "_________________________________________________________________\n",
            "global_max_pooling1d_1 (Glob (None, 32)                0         \n",
            "_________________________________________________________________\n",
            "dense_5 (Dense)              (None, 64)                2112      \n",
            "_________________________________________________________________\n",
            "dropout_3 (Dropout)          (None, 64)                0         \n",
            "_________________________________________________________________\n",
            "dense_6 (Dense)              (None, 1)                 65        \n",
            "=================================================================\n",
            "Total params: 167,329\n",
            "Trainable params: 167,329\n",
            "Non-trainable params: 0\n",
            "_________________________________________________________________\n"
          ]
        }
      ]
    },
    {
      "cell_type": "code",
      "metadata": {
        "colab": {
          "base_uri": "https://localhost:8080/"
        },
        "id": "ki1a7SpgXT9f",
        "outputId": "19526b38-39cb-4775-9d29-db959d12efde"
      },
      "source": [
        "es = EarlyStopping(monitor = 'val_loss', mode = 'min', verbose = 1, patience = 3)\n",
        "mc = ModelCheckpoint('./models/best_model_D1CNN.{epoch:02d}-{val_acc:.3f}.h5', monitor = 'val_acc', mode = 'max', verbose = 1, save_best_only = True)\n",
        "\n",
        "history = model.fit(X_train, y_train, \n",
        "                    epochs = 10, \n",
        "                    batch_size=64, \n",
        "                    validation_split=0.2, \n",
        "                    callbacks=[es, mc])"
      ],
      "execution_count": null,
      "outputs": [
        {
          "output_type": "stream",
          "name": "stdout",
          "text": [
            "Epoch 1/10\n",
            "52/52 [==============================] - 1s 9ms/step - loss: 0.4974 - acc: 0.8437 - val_loss: 0.3854 - val_acc: 0.8730\n",
            "\n",
            "Epoch 00001: val_acc improved from -inf to 0.87304, saving model to ./models\\best_model_D1CNN.01-0.873.h5\n",
            "Epoch 2/10\n",
            "52/52 [==============================] - 0s 6ms/step - loss: 0.3783 - acc: 0.8697 - val_loss: 0.3480 - val_acc: 0.8730\n",
            "\n",
            "Epoch 00002: val_acc did not improve from 0.87304\n",
            "Epoch 3/10\n",
            "52/52 [==============================] - 0s 6ms/step - loss: 0.2656 - acc: 0.8897 - val_loss: 0.1364 - val_acc: 0.9686\n",
            "\n",
            "Epoch 00003: val_acc improved from 0.87304 to 0.96856, saving model to ./models\\best_model_D1CNN.03-0.969.h5\n",
            "Epoch 4/10\n",
            "52/52 [==============================] - 0s 7ms/step - loss: 0.0697 - acc: 0.9855 - val_loss: 0.0472 - val_acc: 0.9867\n",
            "\n",
            "Epoch 00004: val_acc improved from 0.96856 to 0.98670, saving model to ./models\\best_model_D1CNN.04-0.987.h5\n",
            "Epoch 5/10\n",
            "52/52 [==============================] - 0s 7ms/step - loss: 0.0265 - acc: 0.9924 - val_loss: 0.0393 - val_acc: 0.9867\n",
            "\n",
            "Epoch 00005: val_acc did not improve from 0.98670\n",
            "Epoch 6/10\n",
            "52/52 [==============================] - 0s 7ms/step - loss: 0.0143 - acc: 0.9958 - val_loss: 0.0381 - val_acc: 0.9879\n",
            "\n",
            "Epoch 00006: val_acc improved from 0.98670 to 0.98791, saving model to ./models\\best_model_D1CNN.06-0.988.h5\n",
            "Epoch 7/10\n",
            "52/52 [==============================] - 0s 9ms/step - loss: 0.0062 - acc: 0.9991 - val_loss: 0.0391 - val_acc: 0.9867\n",
            "\n",
            "Epoch 00007: val_acc did not improve from 0.98791\n",
            "Epoch 8/10\n",
            "52/52 [==============================] - 0s 7ms/step - loss: 0.0030 - acc: 1.0000 - val_loss: 0.0399 - val_acc: 0.9867\n",
            "\n",
            "Epoch 00008: val_acc did not improve from 0.98791\n",
            "Epoch 9/10\n",
            "52/52 [==============================] - 0s 6ms/step - loss: 0.0018 - acc: 1.0000 - val_loss: 0.0404 - val_acc: 0.9867\n",
            "\n",
            "Epoch 00009: val_acc did not improve from 0.98791\n",
            "Epoch 00009: early stopping\n"
          ]
        }
      ]
    },
    {
      "cell_type": "code",
      "metadata": {
        "colab": {
          "base_uri": "https://localhost:8080/"
        },
        "id": "SWQs0U-xZGaK",
        "outputId": "a2bb38f7-8c03-4e33-86f8-471a7a2abe52"
      },
      "source": [
        "print(\"\\n 테스트 정확도: %.4f\" % (model.evaluate(X_test, y_test)[1]))"
      ],
      "execution_count": null,
      "outputs": [
        {
          "output_type": "stream",
          "name": "stdout",
          "text": [
            "33/33 [==============================] - 0s 3ms/step - loss: 0.0500 - acc: 0.9845\n",
            "\n",
            " 테스트 정확도: 0.9845\n"
          ]
        }
      ]
    },
    {
      "cell_type": "code",
      "metadata": {
        "colab": {
          "base_uri": "https://localhost:8080/",
          "height": 295
        },
        "id": "pYM6IIiNZWSw",
        "outputId": "f5ac95e5-9bf9-4aed-a8bd-f3426ec21122"
      },
      "source": [
        "# 훈련 데이터와 검증 데이터에 대한 정확도 시각화.\n",
        "epochs = range(1, len(history.history['acc']) + 1)\n",
        "plt.plot(epochs, history.history['acc'])\n",
        "plt.plot(epochs, history.history['val_acc'])\n",
        "plt.title('model loss')\n",
        "plt.ylabel('accuracy')\n",
        "plt.xlabel('epoch')\n",
        "plt.legend(['train', 'val'], loc='upper left')\n",
        "plt.show()"
      ],
      "execution_count": null,
      "outputs": [
        {
          "output_type": "display_data",
          "data": {
            "image/png": "[encoded data removed]",
            "text/plain": [
              "<Figure size 432x288 with 1 Axes>"
            ]
          },
          "metadata": {
            "needs_background": "light"
          }
        }
      ]
    },
    {
      "cell_type": "code",
      "metadata": {
        "colab": {
          "base_uri": "https://localhost:8080/",
          "height": 295
        },
        "id": "swH9QkgtZWSx",
        "outputId": "3ccda7ad-038a-4cd8-bf80-8ef37e93f995"
      },
      "source": [
        "# 훈련 데이터와 검증 데이터에 대한 손실 시각화.\n",
        "epochs = range(1, len(history.history['loss']) + 1)\n",
        "plt.plot(epochs, history.history['loss'])\n",
        "plt.plot(epochs, history.history['val_loss'])\n",
        "plt.title('model loss')\n",
        "plt.ylabel('loss')\n",
        "plt.xlabel('epoch')\n",
        "plt.legend(['train', 'val'], loc='upper left')\n",
        "plt.show()"
      ],
      "execution_count": null,
      "outputs": [
        {
          "output_type": "display_data",
          "data": {
            "image/png": "[encoded data removed]",
            "text/plain": [
              "<Figure size 432x288 with 1 Axes>"
            ]
          },
          "metadata": {
            "needs_background": "light"
          }
        }
      ]
    },
    {
      "cell_type": "markdown",
      "metadata": {
        "id": "WtBL6a3KbXsB"
      },
      "source": [
        "---"
      ]
    },
    {
      "cell_type": "markdown",
      "metadata": {
        "id": "6fHW7IBEbY3Z"
      },
      "source": [
        "## Summary \n",
        "- best model 비교"
      ]
    },
    {
      "cell_type": "code",
      "metadata": {
        "id": "7uKqf0OFczHB"
      },
      "source": [
        "from tensorflow.keras.models import load_model\n",
        "from sklearn.metrics import confusion_matrix\n",
        "from sklearn.metrics import classification_report, accuracy_score"
      ],
      "execution_count": null,
      "outputs": []
    },
    {
      "cell_type": "code",
      "metadata": {
        "colab": {
          "base_uri": "https://localhost:8080/"
        },
        "id": "ti9ZaCr6d6LU",
        "outputId": "9fa3b356-b49e-449b-99bb-3107d5aec1ea"
      },
      "source": [
        "X_test.shape,y_test.shape"
      ],
      "execution_count": null,
      "outputs": [
        {
          "output_type": "execute_result",
          "data": {
            "text/plain": [
              "((1034, 172), (1034,))"
            ]
          },
          "metadata": {},
          "execution_count": 152
        }
      ]
    },
    {
      "cell_type": "code",
      "metadata": {
        "colab": {
          "base_uri": "https://localhost:8080/"
        },
        "id": "9vyGmD1hdvGM",
        "outputId": "fbadccb8-b32a-4728-f1dc-7379da4f7187"
      },
      "source": [
        "X_test[:3],y_test[:3]"
      ],
      "execution_count": null,
      "outputs": [
        {
          "output_type": "execute_result",
          "data": {
            "text/plain": [
              "(array([[   0,    0,    0,    0,    0,    0,    0,    0,    0,    0,    0,\n",
              "            0,    0,    0,    0,    0,    0,    0,    0,    0,    0,    0,\n",
              "            0,    0,    0,    0,    0,    0,    0,    0,    0,    0,    0,\n",
              "            0,    0,    0,    0,    0,    0,    0,    0,    0,    0,    0,\n",
              "            0,    0,    0,    0,    0,    0,    0,    0,    0,    0,    0,\n",
              "            0,    0,    0,    0,    0,    0,    0,    0,    0,    0,    0,\n",
              "            0,    0,    0,    0,    0,    0,    0,    0,    0,    0,    0,\n",
              "            0,    0,    0,    0,    0,    0,    0,    0,    0,    0,    0,\n",
              "            0,    0,    0,    0,    0,    0,    0,    0,    0,    0,    0,\n",
              "            0,    0,    0,    0,    0,    0,    0,    0,    0,    0,    0,\n",
              "            0,    0,    0,    0,    0,    0,    0,    0,    0,    0,    0,\n",
              "            0,    0,    0,    0,    0,    0,    0,    0,    0,    0,    0,\n",
              "            0,    0,    0,    0,    0,    0,    0,    0,    0,    0,    0,\n",
              "            0,    0,    0,    0,    0,    0,    0,    0,    0,    0,    0,\n",
              "            0,    0,    0,    0,    0,    0,    0,    0,   80,   27, 3707,\n",
              "         3948, 2703,   93, 1028,    2,   59,   83],\n",
              "        [   0,    0,    0,    0,    0,    0,    0,    0,    0,    0,    0,\n",
              "            0,    0,    0,    0,    0,    0,    0,    0,    0,    0,    0,\n",
              "            0,    0,    0,    0,    0,    0,    0,    0,    0,    0,    0,\n",
              "            0,    0,    0,    0,    0,    0,    0,    0,    0,    0,    0,\n",
              "            0,    0,    0,    0,    0,    0,    0,    0,    0,    0,    0,\n",
              "            0,    0,    0,    0,    0,    0,    0,    0,    0,    0,    0,\n",
              "            0,    0,    0,    0,    0,    0,    0,    0,    0,    0,    0,\n",
              "            0,    0,    0,    0,    0,    0,    0,    0,    0,    0,    0,\n",
              "            0,    0,    0,    0,    0,    0,    0,    0,    0,    0,    0,\n",
              "            0,    0,    0,    0,    0,    0,    0,    0,    0,    0,    0,\n",
              "            0,    0,    0,    0,    0,    0,    0,    0,    0,    0,    0,\n",
              "            0,    0,    0,    0,    0,    0,    0,    0,    0,    0,    0,\n",
              "            0,    0,    0,    0,    0,    0,    0,    0,    0,    0,    0,\n",
              "            0,    0,    0,    0,    0,    0,    0,    0,    0,    0,    0,\n",
              "            0,    0,    0,    0,    0,    0,    0,    0,    0,    0,    0,\n",
              "            0, 1824,  431, 1257,  804,    2,   10],\n",
              "        [   0,    0,    0,    0,    0,    0,    0,    0,    0,    0,    0,\n",
              "            0,    0,    0,    0,    0,    0,    0,    0,    0,    0,    0,\n",
              "            0,    0,    0,    0,    0,    0,    0,    0,    0,    0,    0,\n",
              "            0,    0,    0,    0,    0,    0,    0,    0,    0,    0,    0,\n",
              "            0,    0,    0,    0,    0,    0,    0,    0,    0,    0,    0,\n",
              "            0,    0,    0,    0,    0,    0,    0,    0,    0,    0,    0,\n",
              "            0,    0,    0,    0,    0,    0,    0,    0,    0,    0,    0,\n",
              "            0,    0,    0,    0,    0,    0,    0,    0,    0,    0,    0,\n",
              "            0,    0,    0,    0,    0,    0,    0,    0,    0,    0,    0,\n",
              "            0,    0,    0,    0,    0,    0,    0,    0,    0,    0,    0,\n",
              "            0,    0,    0,    0,    0,    0,    0,    0,    0,    0,    0,\n",
              "            0,    0,    0,    0,    0,    0,    0,    0,    0,    0,    0,\n",
              "            0,    0,    0,    0,    0,    0,    0,    0,    0,    0,    0,\n",
              "            0,    0,    0,    0,    0,    0,    0,    0,    0,    0,    0,\n",
              "            0,    0,    0,    0,  490,  163,   12,    5, 1755,  305,   13,\n",
              "          118,   50,  265,    2,   32,  110,  225]]),\n",
              " array([0, 0, 0], dtype=int64))"
            ]
          },
          "metadata": {},
          "execution_count": 153
        }
      ]
    },
    {
      "cell_type": "code",
      "metadata": {
        "colab": {
          "base_uri": "https://localhost:8080/"
        },
        "id": "NjeNKLn3ZHmC",
        "outputId": "a7b5d32a-7b35-4bb8-99a9-a5be68827d27"
      },
      "source": [
        "# The best model of RNN\n",
        "model_best_rnn = load_model('./models/best_model_RNN.05-0.987.h5')  \n",
        "rnn_pred_Best = np.round(model_best_rnn.predict(X_test)).astype(int)\n",
        "print('Results for the Best RNN Model for SPAM filtering')\n",
        "print(np.round(accuracy_score(y_test, rnn_pred_Best),2),'%')\n",
        "print(classification_report(y_test, rnn_pred_Best))"
      ],
      "execution_count": null,
      "outputs": [
        {
          "output_type": "stream",
          "name": "stdout",
          "text": [
            "Results for the Best RNN Model for SPAM filtering\n",
            "0.98 %\n",
            "              precision    recall  f1-score   support\n",
            "\n",
            "           0       0.98      1.00      0.99       917\n",
            "           1       0.99      0.84      0.91       117\n",
            "\n",
            "    accuracy                           0.98      1034\n",
            "   macro avg       0.98      0.92      0.95      1034\n",
            "weighted avg       0.98      0.98      0.98      1034\n",
            "\n"
          ]
        }
      ]
    },
    {
      "cell_type": "code",
      "metadata": {
        "colab": {
          "base_uri": "https://localhost:8080/"
        },
        "id": "gWoow8G8dJLP",
        "outputId": "c1d050ab-e47c-4a27-a174-0e3a224ef635"
      },
      "source": [
        "# The best model of D1CNN\n",
        "model_best_d1cnn = load_model('./models/best_model_D1CNN.06-0.988.h5')  \n",
        "d1cnn_pred_Best = np.round(model_best_d1cnn.predict(X_test)) #.astype(int)\n",
        "print('Results for the Best D1 CNN Model for SPAM filtering')\n",
        "print(np.round(accuracy_score(y_test, d1cnn_pred_Best),2),'%')\n",
        "print(classification_report(y_test, d1cnn_pred_Best))"
      ],
      "execution_count": null,
      "outputs": [
        {
          "output_type": "stream",
          "name": "stdout",
          "text": [
            "Results for the Best D1 CNN Model for SPAM filtering\n",
            "0.98 %\n",
            "              precision    recall  f1-score   support\n",
            "\n",
            "           0       0.99      0.99      0.99       917\n",
            "           1       0.92      0.93      0.93       117\n",
            "\n",
            "    accuracy                           0.98      1034\n",
            "   macro avg       0.96      0.96      0.96      1034\n",
            "weighted avg       0.98      0.98      0.98      1034\n",
            "\n"
          ]
        }
      ]
    },
    {
      "cell_type": "markdown",
      "metadata": {
        "id": "fB8GlVEwdilP"
      },
      "source": [
        "---"
      ]
    }
  ]
}