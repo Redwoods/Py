{
  "cells": [
    {
      "cell_type": "markdown",
      "metadata": {
        "id": "view-in-github",
        "colab_type": "text"
      },
      "source": [
        "<a href=\"https://colab.research.google.com/github/Redwoods/Py/blob/master/pdm2020/my-note/pyz-NLP/NLP_ex04_IMDB_self_Attention.ipynb\" target=\"_parent\"><img src=\"https://colab.research.google.com/assets/colab-badge.svg\" alt=\"Open In Colab\"/></a>"
      ]
    },
    {
      "cell_type": "markdown",
      "metadata": {
        "id": "fiLAi7VL_P9y"
      },
      "source": [
        "## 셀프 어텐션을 이용한 텍스트 분류\n",
        "- Multi-head Self Attention for Text Classification\n",
        "- IMDB dataset"
      ]
    },
    {
      "cell_type": "code",
      "execution_count": null,
      "metadata": {
        "id": "9fKllfgBvIBh"
      },
      "outputs": [],
      "source": [
        "import tensorflow as tf"
      ]
    },
    {
      "cell_type": "code",
      "execution_count": null,
      "metadata": {
        "id": "V3oWo5e8vPMR"
      },
      "outputs": [],
      "source": [
        "class MultiHeadAttention(tf.keras.layers.Layer):\n",
        "    def __init__(self, embedding_dim, num_heads=8):\n",
        "        super(MultiHeadAttention, self).__init__()\n",
        "        self.embedding_dim = embedding_dim # d_model\n",
        "        self.num_heads = num_heads\n",
        "\n",
        "        assert embedding_dim % self.num_heads == 0\n",
        "\n",
        "        self.projection_dim = embedding_dim // num_heads\n",
        "        self.query_dense = tf.keras.layers.Dense(embedding_dim)\n",
        "        self.key_dense = tf.keras.layers.Dense(embedding_dim)\n",
        "        self.value_dense = tf.keras.layers.Dense(embedding_dim)\n",
        "        self.dense = tf.keras.layers.Dense(embedding_dim)\n",
        "\n",
        "    def get_config(self):\n",
        "        config = super().get_config().copy()\n",
        "        config.update({\n",
        "            'embedding_dim': self.embedding_dim,\n",
        "            'num_heads': self.num_heads,\n",
        "        })\n",
        "        return config\n",
        "\n",
        "    def scaled_dot_product_attention(self, query, key, value):\n",
        "        matmul_qk = tf.matmul(query, key, transpose_b=True)\n",
        "        depth = tf.cast(tf.shape(key)[-1], tf.float32)\n",
        "        logits = matmul_qk / tf.math.sqrt(depth)\n",
        "        attention_weights = tf.nn.softmax(logits, axis=-1)\n",
        "        output = tf.matmul(attention_weights, value)\n",
        "        return output, attention_weights\n",
        "\n",
        "    def split_heads(self, x, batch_size):\n",
        "        x = tf.reshape(x, (batch_size, -1, self.num_heads, self.projection_dim))\n",
        "        return tf.transpose(x, perm=[0, 2, 1, 3])\n",
        "\n",
        "    def call(self, inputs):\n",
        "        # x.shape = [batch_size, seq_len, embedding_dim]\n",
        "        batch_size = tf.shape(inputs)[0]\n",
        "\n",
        "        # (batch_size, seq_len, embedding_dim)\n",
        "        query = self.query_dense(inputs)\n",
        "        key = self.key_dense(inputs)\n",
        "        value = self.value_dense(inputs)\n",
        "\n",
        "        # (batch_size, num_heads, seq_len, projection_dim)\n",
        "        query = self.split_heads(query, batch_size)  \n",
        "        key = self.split_heads(key, batch_size)\n",
        "        value = self.split_heads(value, batch_size)\n",
        "\n",
        "        scaled_attention, _ = self.scaled_dot_product_attention(query, key, value)\n",
        "        # (batch_size, seq_len, num_heads, projection_dim)\n",
        "        scaled_attention = tf.transpose(scaled_attention, perm=[0, 2, 1, 3])  \n",
        "\n",
        "        # (batch_size, seq_len, embedding_dim)\n",
        "        concat_attention = tf.reshape(scaled_attention, (batch_size, -1, self.embedding_dim))\n",
        "        outputs = self.dense(concat_attention)\n",
        "        return outputs"
      ]
    },
    {
      "cell_type": "code",
      "execution_count": null,
      "metadata": {
        "id": "vQunPA9PvP1P"
      },
      "outputs": [],
      "source": [
        "class TransformerBlock(tf.keras.layers.Layer):\n",
        "    def __init__(self, embedding_dim, num_heads, dff, rate=0.1):\n",
        "        super(TransformerBlock, self).__init__()\n",
        "        self.att = MultiHeadAttention(embedding_dim, num_heads)\n",
        "        self.ffn = tf.keras.Sequential(\n",
        "            [tf.keras.layers.Dense(dff, activation=\"relu\"),\n",
        "             tf.keras.layers.Dense(embedding_dim),]\n",
        "        )\n",
        "        self.layernorm1 = tf.keras.layers.LayerNormalization(epsilon=1e-6)\n",
        "        self.layernorm2 = tf.keras.layers.LayerNormalization(epsilon=1e-6)\n",
        "        self.dropout1 = tf.keras.layers.Dropout(rate)\n",
        "        self.dropout2 = tf.keras.layers.Dropout(rate)\n",
        "\n",
        "    def get_config(self):\n",
        "        config = super().get_config().copy()\n",
        "        config.update({\n",
        "            'att': self.att,\n",
        "            'ffn': self.ffn,\n",
        "            'layernorm1': self.layernorm1,\n",
        "            'layernorm2': self.layernorm2,\n",
        "            'dropout1': self.dropout1,\n",
        "            'dropout2': self.dropout2,\n",
        "        })\n",
        "        return config\n",
        "\n",
        "    def call(self, inputs, training):\n",
        "        attn_output = self.att(inputs) # 첫번째 서브층 : 멀티 헤드 어텐션\n",
        "        attn_output = self.dropout1(attn_output, training=training)\n",
        "        out1 = self.layernorm1(inputs + attn_output) # Add & Norm\n",
        "        ffn_output = self.ffn(out1) # 두번째 서브층 : 포지션 와이즈 피드 포워드 신경망\n",
        "        ffn_output = self.dropout2(ffn_output, training=training)\n",
        "        return self.layernorm2(out1 + ffn_output) # Add & Norm"
      ]
    },
    {
      "cell_type": "code",
      "execution_count": null,
      "metadata": {
        "id": "PuZRX9VOvRN6"
      },
      "outputs": [],
      "source": [
        "class TokenAndPositionEmbedding(tf.keras.layers.Layer):\n",
        "    def __init__(self, max_len, vocab_size, embedding_dim):\n",
        "        super(TokenAndPositionEmbedding, self).__init__()\n",
        "        self.token_emb = tf.keras.layers.Embedding(vocab_size, embedding_dim)\n",
        "        self.pos_emb = tf.keras.layers.Embedding(max_len, embedding_dim)\n",
        "\n",
        "    def get_config(self):\n",
        "        config = super().get_config().copy()\n",
        "        config.update({\n",
        "            'token_emb': self.token_emb,\n",
        "            'pos_emb': self.pos_emb,\n",
        "        })\n",
        "        return config\n",
        "\n",
        "    def call(self, x):\n",
        "        max_len = tf.shape(x)[-1]\n",
        "        positions = tf.range(start=0, limit=max_len, delta=1)\n",
        "        positions = self.pos_emb(positions)\n",
        "        x = self.token_emb(x)\n",
        "        return x + positions"
      ]
    },
    {
      "cell_type": "code",
      "execution_count": null,
      "metadata": {
        "colab": {
          "base_uri": "https://localhost:8080/"
        },
        "id": "r-ZJ9gU6vTDi",
        "outputId": "f20e0552-b19f-420b-b537-405806cf5638"
      },
      "outputs": [
        {
          "name": "stdout",
          "output_type": "stream",
          "text": [
            "훈련용 리뷰 개수 : 25000\n",
            "테스트용 리뷰 개수 : 25000\n"
          ]
        }
      ],
      "source": [
        "vocab_size = 20000  # 빈도수 상위 2만개의 단어만 사용\n",
        "max_len = 200  # 문장의 최대 길이\n",
        "\n",
        "(X_train, y_train), (X_test, y_test) = tf.keras.datasets.imdb.load_data(num_words=vocab_size)\n",
        "print('훈련용 리뷰 개수 : {}'.format(len(X_train)))\n",
        "print('테스트용 리뷰 개수 : {}'.format(len(X_test)))"
      ]
    },
    {
      "cell_type": "code",
      "execution_count": null,
      "metadata": {
        "id": "MJo53xyvLD4v",
        "outputId": "3be13989-7dd6-47e7-ece6-45b38282f4b3"
      },
      "outputs": [
        {
          "data": {
            "text/plain": [
              "array([list([1, 14, 22, 16, 43, 530, 973, 1622, 1385, 65, 458, 4468, 66, 3941, 4, 173, 36, 256, 5, 25, 100, 43, 838, 112, 50, 670, 2, 9, 35, 480, 284, 5, 150, 4, 172, 112, 167, 2, 336, 385, 39, 4, 172, 4536, 1111, 17, 546, 38, 13, 447, 4, 192, 50, 16, 6, 147, 2025, 19, 14, 22, 4, 1920, 4613, 469, 4, 22, 71, 87, 12, 16, 43, 530, 38, 76, 15, 13, 1247, 4, 22, 17, 515, 17, 12, 16, 626, 18, 19193, 5, 62, 386, 12, 8, 316, 8, 106, 5, 4, 2223, 5244, 16, 480, 66, 3785, 33, 4, 130, 12, 16, 38, 619, 5, 25, 124, 51, 36, 135, 48, 25, 1415, 33, 6, 22, 12, 215, 28, 77, 52, 5, 14, 407, 16, 82, 10311, 8, 4, 107, 117, 5952, 15, 256, 4, 2, 7, 3766, 5, 723, 36, 71, 43, 530, 476, 26, 400, 317, 46, 7, 4, 12118, 1029, 13, 104, 88, 4, 381, 15, 297, 98, 32, 2071, 56, 26, 141, 6, 194, 7486, 18, 4, 226, 22, 21, 134, 476, 26, 480, 5, 144, 30, 5535, 18, 51, 36, 28, 224, 92, 25, 104, 4, 226, 65, 16, 38, 1334, 88, 12, 16, 283, 5, 16, 4472, 113, 103, 32, 15, 16, 5345, 19, 178, 32]),\n",
              "       list([1, 194, 1153, 194, 8255, 78, 228, 5, 6, 1463, 4369, 5012, 134, 26, 4, 715, 8, 118, 1634, 14, 394, 20, 13, 119, 954, 189, 102, 5, 207, 110, 3103, 21, 14, 69, 188, 8, 30, 23, 7, 4, 249, 126, 93, 4, 114, 9, 2300, 1523, 5, 647, 4, 116, 9, 35, 8163, 4, 229, 9, 340, 1322, 4, 118, 9, 4, 130, 4901, 19, 4, 1002, 5, 89, 29, 952, 46, 37, 4, 455, 9, 45, 43, 38, 1543, 1905, 398, 4, 1649, 26, 6853, 5, 163, 11, 3215, 10156, 4, 1153, 9, 194, 775, 7, 8255, 11596, 349, 2637, 148, 605, 15358, 8003, 15, 123, 125, 68, 2, 6853, 15, 349, 165, 4362, 98, 5, 4, 228, 9, 43, 2, 1157, 15, 299, 120, 5, 120, 174, 11, 220, 175, 136, 50, 9, 4373, 228, 8255, 5, 2, 656, 245, 2350, 5, 4, 9837, 131, 152, 491, 18, 2, 32, 7464, 1212, 14, 9, 6, 371, 78, 22, 625, 64, 1382, 9, 8, 168, 145, 23, 4, 1690, 15, 16, 4, 1355, 5, 28, 6, 52, 154, 462, 33, 89, 78, 285, 16, 145, 95])],\n",
              "      dtype=object)"
            ]
          },
          "execution_count": 44,
          "metadata": {},
          "output_type": "execute_result"
        }
      ],
      "source": [
        "X_train[:2]"
      ]
    },
    {
      "cell_type": "code",
      "execution_count": null,
      "metadata": {
        "id": "cYAijrz0vUM-"
      },
      "outputs": [],
      "source": [
        "X_train = tf.keras.preprocessing.sequence.pad_sequences(X_train, maxlen=max_len)\n",
        "X_test = tf.keras.preprocessing.sequence.pad_sequences(X_test, maxlen=max_len)"
      ]
    },
    {
      "cell_type": "code",
      "execution_count": null,
      "metadata": {
        "id": "hVH6RH-jvVZv"
      },
      "outputs": [],
      "source": [
        "embedding_dim = 32  # 각 단어의 임베딩 벡터의 차원\n",
        "num_heads = 2  # 어텐션 헤드의 수\n",
        "dff = 32  # 포지션 와이즈 피드 포워드 신경망의 은닉층의 크기\n",
        "\n",
        "inputs = tf.keras.layers.Input(shape=(max_len,))\n",
        "embedding_layer = TokenAndPositionEmbedding(max_len, vocab_size, embedding_dim)\n",
        "x = embedding_layer(inputs)\n",
        "transformer_block = TransformerBlock(embedding_dim, num_heads, dff)\n",
        "x = transformer_block(x)\n",
        "x = tf.keras.layers.GlobalAveragePooling1D()(x)\n",
        "x = tf.keras.layers.Dropout(0.1)(x)\n",
        "x = tf.keras.layers.Dense(20, activation=\"relu\")(x)\n",
        "x = tf.keras.layers.Dropout(0.1)(x)\n",
        "outputs = tf.keras.layers.Dense(2, activation=\"softmax\")(x)\n",
        "\n",
        "model = tf.keras.Model(inputs=inputs, outputs=outputs)"
      ]
    },
    {
      "cell_type": "code",
      "execution_count": null,
      "metadata": {
        "colab": {
          "base_uri": "https://localhost:8080/"
        },
        "id": "aqf8b7lovVwT",
        "outputId": "b5055a6c-e228-4a78-85f8-6cd513e6b7e1"
      },
      "outputs": [
        {
          "name": "stdout",
          "output_type": "stream",
          "text": [
            "Epoch 1/50\n",
            "779/782 [============================>.] - ETA: 0s - loss: 0.3797 - acc: 0.8221\n",
            "Epoch 00001: val_acc improved from -inf to 0.87344, saving model to ./models\\best_model_IMDB_MultiHeadAttention.01-0.873.h5\n",
            "782/782 [==============================] - 17s 20ms/step - loss: 0.3794 - acc: 0.8223 - val_loss: 0.2923 - val_acc: 0.8734\n",
            "Epoch 2/50\n",
            "782/782 [==============================] - ETA: 0s - loss: 0.2038 - acc: 0.9228\n",
            "Epoch 00002: val_acc did not improve from 0.87344\n",
            "782/782 [==============================] - 15s 19ms/step - loss: 0.2038 - acc: 0.9228 - val_loss: 0.3166 - val_acc: 0.8700\n",
            "Epoch 3/50\n",
            "779/782 [============================>.] - ETA: 0s - loss: 0.1373 - acc: 0.9492- ETA: 0s - loss: 0.1375 - ac\n",
            "Epoch 00003: val_acc did not improve from 0.87344\n",
            "782/782 [==============================] - 15s 19ms/step - loss: 0.1374 - acc: 0.9491 - val_loss: 0.4196 - val_acc: 0.8529\n",
            "Epoch 4/50\n",
            "782/782 [==============================] - ETA: 0s - loss: 0.0927 - acc: 0.9667- ETA: 1s -\n",
            "Epoch 00004: val_acc did not improve from 0.87344\n",
            "782/782 [==============================] - 15s 19ms/step - loss: 0.0927 - acc: 0.9667 - val_loss: 0.4439 - val_acc: 0.8562\n",
            "Epoch 5/50\n",
            "782/782 [==============================] - ETA: 0s - loss: 0.0670 - acc: 0.9776\n",
            "Epoch 00005: val_acc did not improve from 0.87344\n",
            "782/782 [==============================] - 15s 20ms/step - loss: 0.0670 - acc: 0.9776 - val_loss: 0.5215 - val_acc: 0.8488\n",
            "Epoch 6/50\n",
            "782/782 [==============================] - ETA: 0s - loss: 0.0520 - acc: 0.9826- ETA: 0s - loss: 0.0522 - acc: 0.982\n",
            "Epoch 00006: val_acc did not improve from 0.87344\n",
            "782/782 [==============================] - 15s 20ms/step - loss: 0.0520 - acc: 0.9826 - val_loss: 0.7307 - val_acc: 0.8494\n",
            "Epoch 7/50\n",
            "779/782 [============================>.] - ETA: 0s - loss: 0.0345 - acc: 0.9885\n",
            "Epoch 00007: val_acc did not improve from 0.87344\n",
            "782/782 [==============================] - 15s 19ms/step - loss: 0.0345 - acc: 0.9885 - val_loss: 0.8078 - val_acc: 0.8445\n",
            "Epoch 8/50\n",
            "779/782 [============================>.] - ETA: 0s - loss: 0.0265 - acc: 0.9913\n",
            "Epoch 00008: val_acc did not improve from 0.87344\n",
            "782/782 [==============================] - 15s 20ms/step - loss: 0.0265 - acc: 0.9912 - val_loss: 0.8443 - val_acc: 0.8392\n",
            "Epoch 9/50\n",
            "780/782 [============================>.] - ETA: 0s - loss: 0.0206 - acc: 0.9934\n",
            "Epoch 00009: val_acc did not improve from 0.87344\n",
            "782/782 [==============================] - 15s 19ms/step - loss: 0.0206 - acc: 0.9934 - val_loss: 0.8428 - val_acc: 0.8398\n",
            "Epoch 10/50\n",
            "779/782 [============================>.] - ETA: 0s - loss: 0.0166 - acc: 0.9945 - ETA: 1s - \n",
            "Epoch 00010: val_acc did not improve from 0.87344\n",
            "782/782 [==============================] - 15s 19ms/step - loss: 0.0166 - acc: 0.9946 - val_loss: 0.9314 - val_acc: 0.8366\n",
            "Epoch 11/50\n",
            "779/782 [============================>.] - ETA: 0s - loss: 0.0155 - acc: 0.9952\n",
            "Epoch 00011: val_acc did not improve from 0.87344\n",
            "782/782 [==============================] - 15s 19ms/step - loss: 0.0154 - acc: 0.9952 - val_loss: 1.0196 - val_acc: 0.8348\n",
            "Epoch 00011: early stopping\n"
          ]
        }
      ],
      "source": [
        "model.compile(\"adam\", \"sparse_categorical_crossentropy\", metrics=[\"acc\"])\n",
        "from tensorflow.keras.callbacks import EarlyStopping, ModelCheckpoint\n",
        "es = EarlyStopping(monitor = 'val_loss', mode = 'min', verbose = 1, patience = 10)\n",
        "mc = ModelCheckpoint('./models/best_model_IMDB_MultiHeadAttention.{epoch:02d}-{val_acc:.3f}.h5', \n",
        "                        monitor = 'val_acc', mode = 'max', \n",
        "                        verbose = 1, save_best_only = True)\n",
        "history = model.fit(X_train, y_train, batch_size=32, epochs=50, validation_data=(X_test, y_test), callbacks=[es, mc])"
      ]
    },
    {
      "cell_type": "code",
      "execution_count": null,
      "metadata": {
        "colab": {
          "base_uri": "https://localhost:8080/"
        },
        "id": "bp4dyR3xvW56",
        "outputId": "ac072ffc-7b11-440a-c65a-7be15154dbfa"
      },
      "outputs": [
        {
          "name": "stdout",
          "output_type": "stream",
          "text": [
            "782/782 [==============================] - 5s 7ms/step - loss: 1.0196 - acc: 0.8348A: 5 - ETA: 3s - loss: 1. - ETA: 2s - loss: 1.0 - ETA: 1s -\n",
            "테스트 정확도: 0.8348\n"
          ]
        }
      ],
      "source": [
        "print(\"테스트 정확도: %.4f\" % (model.evaluate(X_test, y_test)[1]))"
      ]
    },
    {
      "cell_type": "markdown",
      "metadata": {
        "id": "uC5sDrxKLD4x"
      },
      "source": [
        "---"
      ]
    }
  ],
  "metadata": {
    "accelerator": "GPU",
    "colab": {
      "collapsed_sections": [],
      "name": "NLP-ex04-IMDB_self_Attention.ipynb",
      "provenance": [],
      "include_colab_link": true
    },
    "kernelspec": {
      "display_name": "Python 3",
      "name": "python3"
    },
    "language_info": {
      "codemirror_mode": {
        "name": "ipython",
        "version": 3
      },
      "file_extension": ".py",
      "mimetype": "text/x-python",
      "name": "python",
      "nbconvert_exporter": "python",
      "pygments_lexer": "ipython3",
      "version": "3.8.5"
    }
  },
  "nbformat": 4,
  "nbformat_minor": 0
}