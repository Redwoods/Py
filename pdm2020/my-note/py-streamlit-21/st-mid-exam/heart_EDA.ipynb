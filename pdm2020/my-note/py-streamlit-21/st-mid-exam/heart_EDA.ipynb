{
  "nbformat": 4,
  "nbformat_minor": 0,
  "metadata": {
    "colab": {
      "name": "heart_EDA.ipynb",
      "provenance": [],
      "collapsed_sections": [],
      "include_colab_link": true
    },
    "interpreter": {
      "hash": "3834ce636a3ba6c6c2bd8b9b527c48eede78c367f849f6cce666ea7f1d26e2fb"
    },
    "kernelspec": {
      "display_name": "Python 3.8.5 64-bit ('base': conda)",
      "name": "python3"
    },
    "language_info": {
      "codemirror_mode": {
        "name": "ipython",
        "version": 3
      },
      "file_extension": ".py",
      "mimetype": "text/x-python",
      "name": "python",
      "nbconvert_exporter": "python",
      "pygments_lexer": "ipython3",
      "version": "3.8.5"
    }
  },
  "cells": [
    {
      "cell_type": "markdown",
      "metadata": {
        "id": "view-in-github",
        "colab_type": "text"
      },
      "source": [
        "<a href=\"https://colab.research.google.com/github/Redwoods/Py/blob/master/pdm2020/my-note/py-streamlit-21/st-mid-exam/heart_EDA.ipynb\" target=\"_parent\"><img src=\"https://colab.research.google.com/assets/colab-badge.svg\" alt=\"Open In Colab\"/></a>"
      ]
    },
    {
      "cell_type": "markdown",
      "metadata": {
        "id": "TizEKpAH5ot_"
      },
      "source": [
        "# EDA of Heart disease data from Cleveland clinic\n",
        "- Exploratory Data Analysis\n",
        "- > https://archive-beta.ics.uci.edu/ml/datasets/heart+disease\n",
        "- > https://towardsdatascience.com/heart-disease-prediction-73468d630cfc\n",
        "- > https://betterprogramming.pub/predicting-heart-disease-with-a-neural-network-a48d2ce59bc5\n",
        "- > https://medium.com/analytics-vidhya/cleveland-eda-b73f0f62ebf8"
      ]
    },
    {
      "cell_type": "markdown",
      "metadata": {
        "id": "hqNBWWoc5ouA"
      },
      "source": [
        "## 1. Importing Libraries"
      ]
    },
    {
      "cell_type": "code",
      "metadata": {
        "id": "z1bHD2kR5ouA"
      },
      "source": [
        "import numpy as np\n",
        "import matplotlib.pyplot as plt\n",
        "import pandas as pd\n",
        "import seaborn as sns"
      ],
      "execution_count": null,
      "outputs": []
    },
    {
      "cell_type": "markdown",
      "metadata": {
        "id": "jmm88g2K5ouD"
      },
      "source": [
        "## 2. Data Collection"
      ]
    },
    {
      "cell_type": "code",
      "metadata": {
        "id": "ssiB1u3u5ouD"
      },
      "source": [
        "# Get the data from github\n",
        "url = \"https://github.com/Redwoods/Py/raw/master/pdm2020/my-note/py-pandas/data/cleveland.csv\"\n",
        "df = pd.read_csv(url, header = None)\n",
        "# df = pd.read_csv('cleveland_raw.csv', header=None)"
      ],
      "execution_count": null,
      "outputs": []
    },
    {
      "cell_type": "code",
      "metadata": {
        "id": "7zS1dsHG5ouF"
      },
      "source": [
        "df.shape,df.head(10)"
      ],
      "execution_count": null,
      "outputs": []
    },
    {
      "cell_type": "markdown",
      "metadata": {
        "id": "i21GmF5kaOiU"
      },
      "source": [
        "### columns using name of features"
      ]
    },
    {
      "cell_type": "code",
      "metadata": {
        "id": "zfHAiOGHaOiU"
      },
      "source": [
        "df.columns = ['age', 'sex', 'cp', 'trestbps', 'chol',\n",
        "              'fbs', 'restecg', 'thalach', 'exang', \n",
        "              'oldpeak', 'slope', 'ca', 'thal', 'target']\n",
        "\n",
        "df.head(15)"
      ],
      "execution_count": null,
      "outputs": []
    },
    {
      "cell_type": "markdown",
      "metadata": {
        "id": "LqkFdwo-5ouK"
      },
      "source": [
        "## Ckeck & cleaning data\n",
        "- Check the presence of null or NaN\n",
        "- target : (0 ~ 4) => (0,1), (1-4) was assigned as 1.\n",
        "\n",
        "### Imputing data\n",
        "- Check the NaN or missing values\n",
        "- Impute the null data by the mean or median of the same feature"
      ]
    },
    {
      "cell_type": "markdown",
      "metadata": {
        "id": "Qh5E7u4MaOiW"
      },
      "source": [
        "## target : (0 ~ 4) => (0,1), (1-4) was assigned as 1."
      ]
    },
    {
      "cell_type": "code",
      "metadata": {
        "id": "jah8O-HFaOiW"
      },
      "source": [
        "# https://jaaamj.tistory.com/112\n",
        "df.target.unique(),df.target.nunique()"
      ],
      "execution_count": null,
      "outputs": []
    },
    {
      "cell_type": "code",
      "metadata": {
        "id": "b3uawFz4aOiW"
      },
      "source": [
        "df.target.value_counts()"
      ],
      "execution_count": null,
      "outputs": []
    },
    {
      "cell_type": "code",
      "metadata": {
        "id": "bu6g_ag_aOiW"
      },
      "source": [
        "# target : (0 ~ 4) => (0,1), (1-4) was assigned as 1.\n",
        "df['target'] = df.target.map({0: 0, 1: 1, 2: 1, 3: 1, 4: 1})"
      ],
      "execution_count": null,
      "outputs": []
    },
    {
      "cell_type": "code",
      "metadata": {
        "id": "KN0MOGgUaOiX"
      },
      "source": [
        "df.head(10)"
      ],
      "execution_count": null,
      "outputs": []
    },
    {
      "cell_type": "markdown",
      "metadata": {
        "id": "CW6sHodeaOiX"
      },
      "source": [
        "## CHECK for the null values & Imputing by the mean or median"
      ]
    },
    {
      "cell_type": "code",
      "metadata": {
        "id": "DZ3GTdsx5ouK"
      },
      "source": [
        "# CHECK FOR NULL VALUES\n",
        "df.isnull().values.any(), df.isna().sum()  # df.isnull().sum()"
      ],
      "execution_count": null,
      "outputs": []
    },
    {
      "cell_type": "code",
      "metadata": {
        "id": "hKUMXIOzaOiX"
      },
      "source": [
        "df[df.thal.isnull()]"
      ],
      "execution_count": null,
      "outputs": []
    },
    {
      "cell_type": "code",
      "metadata": {
        "id": "Q7mRYUpWaOiY"
      },
      "source": [
        "df[df['ca'].isnull()]   # df[df.ca.isnull()]"
      ],
      "execution_count": null,
      "outputs": []
    },
    {
      "cell_type": "code",
      "metadata": {
        "id": "lZXeUaFPaOiY"
      },
      "source": [
        "# Imputing data using the median\n",
        "df['thal'] = df.thal.fillna(df.thal.median())\n",
        "df['ca'] = df.ca.fillna(df.ca.median())"
      ],
      "execution_count": null,
      "outputs": []
    },
    {
      "cell_type": "code",
      "metadata": {
        "id": "-TsPGseDaOiY"
      },
      "source": [
        "# reCHECK FOR NULL VALUES\n",
        "df.isnull().values.any(), df.isna().sum()  # df.isnull().sum()"
      ],
      "execution_count": null,
      "outputs": []
    },
    {
      "cell_type": "code",
      "metadata": {
        "id": "wz7B7xzzaOiY"
      },
      "source": [
        "df.head(10)"
      ],
      "execution_count": null,
      "outputs": []
    },
    {
      "cell_type": "code",
      "metadata": {
        "id": "KGaU1lqBaOiY"
      },
      "source": [
        "df.target.value_counts()"
      ],
      "execution_count": null,
      "outputs": []
    },
    {
      "cell_type": "code",
      "metadata": {
        "id": "DxmonBqVaOiZ"
      },
      "source": [
        "df.columns"
      ],
      "execution_count": null,
      "outputs": []
    },
    {
      "cell_type": "markdown",
      "metadata": {
        "id": "w_lQtvzAaOiZ"
      },
      "source": [
        "## Features of heart disease data\n",
        "- age: displays the age of the individual.\n",
        "- sex: displays the gender of the individual using the following format :\n",
        "    - 1 = male\n",
        "    - 0 = female\n",
        "- cp: Chest-pain type: displays the type of chest-pain experienced by the individual using the following format :\n",
        "    - 1 = typical angina (협심증)\n",
        "    - 2 = atypical angina\n",
        "    - 3 = non — anginal pain\n",
        "    - 4 = asymptotic\n",
        "- trestbps: Resting Blood Pressure: displays the resting blood pressure value of an individual in mmHg (unit)\n",
        "- chol: Serum Cholestrol: displays the serum cholesterol in mg/dl (unit)\n",
        "- fbs: Fasting Blood Sugar: compares the fasting blood sugar value of an individual with 120mg/dl.\n",
        "    - If fasting blood sugar > 120mg/dl then : 1 (true)\n",
        "    \n",
        "    - else : 0 (false)\n",
        "- restecg: Resting ECG : displays resting electrocardiographic results\n",
        "    - 0 = normal\n",
        "    - 1 = having ST-T wave abnormality\n",
        "    - 2 = left ventricular hyperthrophy\n",
        "- thalach: Max heart rate achieved : displays the max heart rate achieved by an individual.\n",
        "- exang: Exercise induced angina(협심증) :\n",
        "    - 1 = yes\n",
        "    - 0 = no\n",
        "- oldpeak: ST depression induced by exercise relative to rest: displays the value which is an integer or float.\n",
        "- slope: Peak exercise ST segment :\n",
        "    - 1 = upsloping\n",
        "    - 2 = flat\n",
        "    - 3 = downsloping\n",
        "- ca: Number of major vessels (0–3) colored by flourosopy : displays the value as integer or float.\n",
        "- thal : displays the thalassemia (빈혈) :\n",
        "    - 3 = normal\n",
        "    - 6 = fixed defect\n",
        "    - 7 = reversible defect\n",
        "- target: Diagnosis of heart disease : Displays whether the individual is suffering from heart disease or not :\n",
        "    - 0 = absence\n",
        "    - 1 = present. (1,2,3,4 => 1)"
      ]
    },
    {
      "cell_type": "markdown",
      "metadata": {
        "id": "g9_nSYL2aOiZ"
      },
      "source": [
        "---"
      ]
    },
    {
      "cell_type": "markdown",
      "metadata": {
        "id": "dQuJk8pnaOia"
      },
      "source": [
        "## 중복 데이터 점검\n",
        "- duplicated()\n",
        "- https://pydole.tistory.com/entry/Python-pandas-%EC%A4%91%EB%B3%B5%EA%B0%92-%EC%B2%98%EB%A6%AC-duplicates-dropduplicates"
      ]
    },
    {
      "cell_type": "code",
      "metadata": {
        "id": "v8B1rWxwaOia"
      },
      "source": [
        "df.duplicated().sum()"
      ],
      "execution_count": null,
      "outputs": []
    },
    {
      "cell_type": "code",
      "metadata": {
        "id": "9s9flzsKaOia"
      },
      "source": [
        "df[df.duplicated(keep=False)]"
      ],
      "execution_count": null,
      "outputs": []
    },
    {
      "cell_type": "code",
      "metadata": {
        "id": "Zhp4YWcgaOia"
      },
      "source": [
        "# 중복 샘플을 제거\n",
        "df.drop_duplicates(subset=df.columns, inplace=True) # 열 전체에서 동일한 중복인 내용이 있다면 중복 제거\n",
        "\n",
        "# 중복 샘플을 제거 후, 전체 샘플 수를 확인.\n",
        "print('총 샘플의 수 :',len(df))"
      ],
      "execution_count": null,
      "outputs": []
    },
    {
      "cell_type": "markdown",
      "metadata": {
        "id": "tAfpkiXKaOia"
      },
      "source": [
        "> ## 최종 데이터 확정 및 저장"
      ]
    },
    {
      "cell_type": "code",
      "metadata": {
        "id": "GWHiv3z7aOia"
      },
      "source": [
        "# df.to_csv('heart.csv', index=False)"
      ],
      "execution_count": null,
      "outputs": []
    },
    {
      "cell_type": "markdown",
      "metadata": {
        "id": "oG1cRO9r5ouO"
      },
      "source": [
        "## 3. Explore Data"
      ]
    },
    {
      "cell_type": "code",
      "metadata": {
        "id": "QvbwA5yp5ouP"
      },
      "source": [
        "df.describe()"
      ],
      "execution_count": null,
      "outputs": []
    },
    {
      "cell_type": "code",
      "metadata": {
        "id": "2sczfFy_aOib"
      },
      "source": [
        "df.describe().T"
      ],
      "execution_count": null,
      "outputs": []
    },
    {
      "cell_type": "code",
      "metadata": {
        "id": "oXks98WP5ouS"
      },
      "source": [
        "df.info()"
      ],
      "execution_count": null,
      "outputs": []
    },
    {
      "cell_type": "markdown",
      "metadata": {
        "id": "KgSI7Z7G5ouU"
      },
      "source": [
        "### Check the balance of classes in the data through plot"
      ]
    },
    {
      "cell_type": "code",
      "metadata": {
        "id": "B_rRC1F45ouW"
      },
      "source": [
        "classes=df.target\n",
        "classes.value_counts(), type(classes)"
      ],
      "execution_count": null,
      "outputs": []
    },
    {
      "cell_type": "code",
      "metadata": {
        "id": "wEhno83IaOic"
      },
      "source": [
        "classes.value_counts(ascending=True)"
      ],
      "execution_count": null,
      "outputs": []
    },
    {
      "cell_type": "code",
      "metadata": {
        "id": "SenReF5g5ouV"
      },
      "source": [
        "# Check the balance of the data through plot\n",
        "classes=df.target\n",
        "ax=sns.countplot(classes, label='count')\n",
        "ax.set_xticklabels(['noHD','HD'])\n",
        "noHD,HD=classes.value_counts() #ascending=True)\n",
        "print('False: non-Heart Disease',noHD)\n",
        "print('True: Heart Disease',HD)"
      ],
      "execution_count": null,
      "outputs": []
    },
    {
      "cell_type": "code",
      "metadata": {
        "id": "Fo-A6DxZaOic"
      },
      "source": [
        "### 1 = male, 0 = female\n",
        "# df['sex'] = df.sex.map({0: 'female', 1: 'male'})"
      ],
      "execution_count": null,
      "outputs": []
    },
    {
      "cell_type": "code",
      "metadata": {
        "id": "sSdk_9S6aOid"
      },
      "source": [
        "df.tail()"
      ],
      "execution_count": null,
      "outputs": []
    },
    {
      "cell_type": "code",
      "metadata": {
        "id": "w9PE_OBKaOid"
      },
      "source": [
        "# # barplot of age vs sex with hue = target\n",
        "# sns.catplot(kind = 'bar', data = df, y = 'age', x = 'sex', hue = 'target', hue_order=[1,0])#, color='br') #order = df['target'].sort_values().unique())\n",
        "# plt.title('Distribution of age vs sex with the target class')\n",
        "# plt.show()"
      ],
      "execution_count": null,
      "outputs": []
    },
    {
      "cell_type": "markdown",
      "metadata": {
        "id": "Iw1vi-a25ouY"
      },
      "source": [
        "***"
      ]
    },
    {
      "cell_type": "code",
      "metadata": {
        "id": "yUyQ0tKmPEv1"
      },
      "source": [
        "# plot histograms for each variable\n",
        "df.hist(figsize = (12, 12))\n",
        "plt.show()"
      ],
      "execution_count": null,
      "outputs": []
    },
    {
      "cell_type": "markdown",
      "metadata": {
        "id": "ToWoPbOqbeNP"
      },
      "source": [
        "## DIY : 특징 사이의 상관성을 조사하시오."
      ]
    },
    {
      "cell_type": "code",
      "metadata": {
        "id": "GbSz_zRQaOid"
      },
      "source": [
        "df.corr()"
      ],
      "execution_count": null,
      "outputs": []
    },
    {
      "cell_type": "code",
      "metadata": {
        "id": "9GB_nP4ZaOie"
      },
      "source": [
        "# correlation plot of df\n",
        "\n",
        "plt.figure(figsize=(12,10))\n",
        "g=sns.heatmap(df.corr(),annot=True,cmap='coolwarm', #cmap= \"RdYlGn\",\n",
        "             vmin=-1, vmax=1)"
      ],
      "execution_count": null,
      "outputs": []
    },
    {
      "cell_type": "code",
      "metadata": {
        "id": "rk__L48jaOie"
      },
      "source": [
        "# correlation plot of df.iloc[:,:-1]\n",
        "\n",
        "plt.figure(figsize=(12,10))\n",
        "g=sns.heatmap(df.iloc[:,:-1].corr(),annot=True,cmap='coolwarm', #cmap= \"RdYlGn\",\n",
        "             vmin=-1, vmax=1)"
      ],
      "execution_count": null,
      "outputs": []
    },
    {
      "cell_type": "markdown",
      "metadata": {
        "id": "2iHKjbOa5ou3"
      },
      "source": [
        "***"
      ]
    },
    {
      "cell_type": "markdown",
      "metadata": {
        "id": "xor9zKOJaOie"
      },
      "source": [
        "# df를 streamlit wepapp에 이용."
      ]
    },
    {
      "cell_type": "markdown",
      "metadata": {
        "id": "IPWbvlztaOie"
      },
      "source": [
        "---"
      ]
    },
    {
      "cell_type": "markdown",
      "metadata": {
        "id": "Dh47FcyL5oui"
      },
      "source": [
        "### 상관성 분석 결과\n",
        "\n",
        "> ### **[DIY] 상관성, 반상관성이 높은 변수들에 대한 좀 더 자세한 시각화가 필요하다.**"
      ]
    },
    {
      "cell_type": "markdown",
      "metadata": {
        "id": "GBFZ2hLp5ouw"
      },
      "source": [
        "### [DIY] 상관성/반상관성이 높은 변수들에 대한 좀 더 자세한 시각화를 웹앱에 추가.\n",
        "![](https://github.com/Redwoods/Py/blob/master/pdm2020/my-note/py-pandas/data/heart_corr.png?raw=true)"
      ]
    },
    {
      "cell_type": "markdown",
      "metadata": {
        "id": "H8Td2WTvaOie"
      },
      "source": [
        "# 중간 실기 시험 파일 제출\n",
        "0. 제출 파일명: heart_EDA_pdmnn.py   (nn 은 id)\n",
        "1. github의 'pdmnn' repo 내의 py-streamlit/st-mid-exam 폴더에 제출.\n",
        "2. 제출이 끝나면 chaos21@gmail.com 으로 파일을 한번 더 제출. (제출 시간 결정)"
      ]
    }
  ]
}