{
  "nbformat": 4,
  "nbformat_minor": 0,
  "metadata": {
    "colab": {
      "name": "numpy_2_array2.ipynb",
      "provenance": [],
      "collapsed_sections": [],
      "include_colab_link": true
    },
    "kernelspec": {
      "name": "python3",
      "display_name": "Python 3"
    }
  },
  "cells": [
    {
      "cell_type": "markdown",
      "metadata": {
        "id": "view-in-github",
        "colab_type": "text"
      },
      "source": [
        "<a href=\"https://colab.research.google.com/github/Redwoods/Py/blob/master/pdm2020/my-note/numpy/numpy_2_array2.ipynb\" target=\"_parent\"><img src=\"https://colab.research.google.com/assets/colab-badge.svg\" alt=\"Open In Colab\"/></a>"
      ]
    },
    {
      "cell_type": "markdown",
      "metadata": {
        "id": "_zrirXHfgmyY"
      },
      "source": [
        "# numpy\n",
        "## concatenate()를 이용한 배열 결합\n",
        "> [numpy 배열 합치기, concatenate 함수](https://m.blog.naver.com/PostView.nhn?blogId=qbxlvnf11&logNo=221490583222&categoryNo=0&proxyReferer=https%3A%2F%2Fwww.google.com%2F)"
      ]
    },
    {
      "cell_type": "code",
      "metadata": {
        "id": "CDwOGQJ49LE3"
      },
      "source": [
        "import numpy as np"
      ],
      "execution_count": null,
      "outputs": []
    },
    {
      "cell_type": "code",
      "metadata": {
        "id": "AJyEO89Y9bwx"
      },
      "source": [
        "ar1 = np.array(range(1,5)).reshape(2,2)\n",
        "ar1"
      ],
      "execution_count": null,
      "outputs": []
    },
    {
      "cell_type": "code",
      "metadata": {
        "id": "ZihwnXV4-yOt"
      },
      "source": [
        "ar1.shape"
      ],
      "execution_count": null,
      "outputs": []
    },
    {
      "cell_type": "code",
      "metadata": {
        "id": "ZzFyvMlgeIGQ"
      },
      "source": [
        "ar2 = np.array(range(5,11)).reshape(2,3)  # np.array(range(5,11)).reshape(-1,3)\n",
        "ar2"
      ],
      "execution_count": null,
      "outputs": []
    },
    {
      "cell_type": "code",
      "metadata": {
        "id": "w-1gGrBueSqI"
      },
      "source": [
        "ar2.shape  # 2 X 3 array"
      ],
      "execution_count": null,
      "outputs": []
    },
    {
      "cell_type": "markdown",
      "metadata": {
        "id": "WadjyZoblwVM"
      },
      "source": [
        "---"
      ]
    },
    {
      "cell_type": "markdown",
      "metadata": {
        "id": "-RUqNH1jefLd"
      },
      "source": [
        "## concatenate()를 이용한 배열 합치기\n"
      ]
    },
    {
      "cell_type": "markdown",
      "metadata": {
        "id": "-rMO4Jzwfqnw"
      },
      "source": [
        "- concatenate(array1, array2, axis = 0)\n",
        "- concatenate(array1, array2, axis = 1)\n",
        "- concatenate(array1, array2, axis = None)"
      ]
    },
    {
      "cell_type": "code",
      "metadata": {
        "id": "Ib68XISkeW34"
      },
      "source": [
        "np.concatenate((ar1,ar1), axis=0)"
      ],
      "execution_count": null,
      "outputs": []
    },
    {
      "cell_type": "code",
      "metadata": {
        "id": "peJO0eQiezng"
      },
      "source": [
        "np.concatenate((ar1,ar1), axis=1)"
      ],
      "execution_count": null,
      "outputs": []
    },
    {
      "cell_type": "code",
      "metadata": {
        "id": "HV9kfBoGf_29"
      },
      "source": [
        "np.concatenate((ar1,ar1), axis=None)"
      ],
      "execution_count": null,
      "outputs": []
    },
    {
      "cell_type": "markdown",
      "metadata": {
        "id": "hGAJVGgeKkiI"
      },
      "source": [
        "### ar2에 대하여도 배열합치기를 해보시오."
      ]
    },
    {
      "cell_type": "code",
      "metadata": {
        "id": "Ee9pMFym4Ne7"
      },
      "source": [
        "# Your code here!\n"
      ],
      "execution_count": null,
      "outputs": []
    },
    {
      "cell_type": "markdown",
      "metadata": {
        "id": "Hl_PgVdzgEAA"
      },
      "source": [
        "### Error in concatenation"
      ]
    },
    {
      "cell_type": "code",
      "metadata": {
        "id": "wdhuj5Vie8FX"
      },
      "source": [
        "np.concatenate((ar1,ar2), axis=0)"
      ],
      "execution_count": null,
      "outputs": []
    },
    {
      "cell_type": "markdown",
      "metadata": {
        "id": "5w2gtJc570pG"
      },
      "source": [
        "> ar1의 열의 갯수 == ar2의 열의 갯수"
      ]
    },
    {
      "cell_type": "code",
      "metadata": {
        "id": "z3y05uAz8G-X"
      },
      "source": [
        "ar1.shape, ar2.shape"
      ],
      "execution_count": null,
      "outputs": []
    },
    {
      "cell_type": "code",
      "metadata": {
        "id": "Gxhxr_Zq8cv1"
      },
      "source": [
        "ar2.T.shape"
      ],
      "execution_count": null,
      "outputs": []
    },
    {
      "cell_type": "code",
      "metadata": {
        "id": "-YluBjwJe-ZA"
      },
      "source": [
        "np.concatenate((ar1,ar2.T), axis=0)"
      ],
      "execution_count": null,
      "outputs": []
    },
    {
      "cell_type": "markdown",
      "metadata": {
        "id": "SdshjTzPfesK"
      },
      "source": [
        "### concatenate(array1, array2, axis = 1)"
      ]
    },
    {
      "cell_type": "code",
      "metadata": {
        "id": "w9kFrYBhfHk3"
      },
      "source": [
        "np.concatenate((ar1,ar2), axis=1)"
      ],
      "execution_count": null,
      "outputs": []
    },
    {
      "cell_type": "markdown",
      "metadata": {
        "id": "jyLRkxWphKuh"
      },
      "source": [
        "\n",
        "\n",
        "---\n",
        "\n",
        "\n",
        "\n",
        "---\n",
        "\n"
      ]
    },
    {
      "cell_type": "markdown",
      "metadata": {
        "id": "0bOTc7xGhNL_"
      },
      "source": [
        "## [복습] numpy 배열 연산: broadcasting\n",
        "> [파이썬 Numpy 라이브러리 (5) Broadcasting|작성자 예비개발자](https://blog.naver.com/qbxlvnf11/221509303462)"
      ]
    },
    {
      "cell_type": "code",
      "metadata": {
        "id": "dbwtQs2_gW4I"
      },
      "source": [
        "a = np.array([1.0, 2.0, 3.0])\n",
        "b = np.array([2.0, 2.0, 2.0])\n",
        "a * b   # elementwise multiplication\n",
        "# [출처] 파이썬 Numpy 라이브러리 (5) Broadcasting|작성자 예비개발자\n"
      ],
      "execution_count": null,
      "outputs": []
    },
    {
      "cell_type": "code",
      "metadata": {
        "id": "Ulu6tHKKh_KH"
      },
      "source": [
        "a = np.array([1.0, 2.0, 3.0])\n",
        "b = 2.0\n",
        "a * b   # broadcasted multiplication\n"
      ],
      "execution_count": null,
      "outputs": []
    },
    {
      "cell_type": "markdown",
      "metadata": {
        "id": "5GD4KImwiVMK"
      },
      "source": [
        "> 차원이 다른 두 개의 피연산자를 산술 연산할 때는 원래 연산이 불가능합니다.\n",
        "하지만, 연산이 가능하도록 배열 b가 브로드캐스팅이 되어 numpy array ([2.0, 2.0, 2.0])으로 확장됩니다."
      ]
    },
    {
      "cell_type": "markdown",
      "metadata": {
        "id": "AawX49nxjTc6"
      },
      "source": [
        "### 2차원 broadcasting"
      ]
    },
    {
      "cell_type": "code",
      "metadata": {
        "id": "knujYDR0iYLi"
      },
      "source": [
        "a = np.array([[ 0.0,  0.0,  0.0],\n",
        "              [10.0, 10.0, 10.0],\n",
        "              [20.0, 20.0, 20.0],\n",
        "              [30.0, 30.0, 30.0]])\n",
        "\n",
        "b = np.array([1.0, 2.0, 3.0])\n",
        "\n",
        "a + b"
      ],
      "execution_count": null,
      "outputs": []
    },
    {
      "cell_type": "code",
      "metadata": {
        "id": "cWfxzXxvjdWn"
      },
      "source": [
        "(a+b).shape"
      ],
      "execution_count": null,
      "outputs": []
    },
    {
      "cell_type": "code",
      "metadata": {
        "id": "LqvXRY40jjZ7"
      },
      "source": [
        "from numpy import array, newaxis\n",
        "a = array([0.0, 10.0, 20.0, 30.0])\n",
        "b = array([1.0, 2.0, 3.0])\n",
        "c = a[:,newaxis] + b\n",
        "c\n"
      ],
      "execution_count": null,
      "outputs": []
    },
    {
      "cell_type": "code",
      "metadata": {
        "id": "JHIEdW8s8RGN"
      },
      "source": [
        "c.shape"
      ],
      "execution_count": null,
      "outputs": []
    },
    {
      "cell_type": "code",
      "metadata": {
        "id": "Y5ud-HFW8eIf"
      },
      "source": [
        ""
      ],
      "execution_count": null,
      "outputs": []
    }
  ]
}