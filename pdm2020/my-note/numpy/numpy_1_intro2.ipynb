{
  "nbformat": 4,
  "nbformat_minor": 0,
  "metadata": {
    "colab": {
      "name": "numpy_1_intro2.ipynb",
      "provenance": [],
      "collapsed_sections": [],
      "include_colab_link": true
    },
    "kernelspec": {
      "name": "python2",
      "display_name": "Python 2"
    }
  },
  "cells": [
    {
      "cell_type": "markdown",
      "metadata": {
        "id": "view-in-github",
        "colab_type": "text"
      },
      "source": [
        "<a href=\"https://colab.research.google.com/github/Redwoods/Py/blob/master/pdm2020/my-note/numpy/numpy_1_intro2.ipynb\" target=\"_parent\"><img src=\"https://colab.research.google.com/assets/colab-badge.svg\" alt=\"Open In Colab\"/></a>"
      ]
    },
    {
      "cell_type": "markdown",
      "metadata": {
        "id": "0Rd4EgDswXK3"
      },
      "source": [
        "## python module 1. numpy\n",
        "### 행렬연산 II\n",
        "\n",
        "1.   행렬곱\n",
        "2.   Boradcast\n",
        "3.   전치행령\n",
        "4.   요소 접근\n",
        "    - indexing\n",
        "    - slicing\n",
        "\n"
      ]
    },
    {
      "cell_type": "code",
      "metadata": {
        "id": "r-qJzSmeachg"
      },
      "source": [
        "import numpy as np # 라이브러리의 별명을 지정하는 방식을 사용"
      ],
      "execution_count": null,
      "outputs": []
    },
    {
      "cell_type": "markdown",
      "metadata": {
        "id": "Q9mDdXeZsoJ2"
      },
      "source": [
        "\n",
        "\n",
        "---\n",
        "\n"
      ]
    },
    {
      "cell_type": "markdown",
      "metadata": {
        "id": "MiYCqlid6NET"
      },
      "source": [
        "### numpy 행렬 곱 (dot product)"
      ]
    },
    {
      "cell_type": "markdown",
      "metadata": {
        "id": "I0B2LxuFiHzU"
      },
      "source": [
        "#### 행렬 곱 (dot product)"
      ]
    },
    {
      "cell_type": "markdown",
      "metadata": {
        "id": "8FPDBzTliLDT"
      },
      "source": [
        "- **행렬 곱 (dot product)**\n",
        "\n",
        "\n",
        "> A 행렬과 B 행렬의 행렬 곱 (dot product)는 **np.dot**(A,B)로 나타내며, **행렬 A의 열벡터와 B 행렬의 행벡터의 요소 수가 같아야** 한다.\n",
        "\n",
        "\n",
        "> 만약 같지 않으면 **reshape 또는 전치행렬(transpose) 등을 사용하여 형 변환을 한 후에 행렬 곱을 실행**해야 한다.\n",
        "\n",
        "\n",
        "\n"
      ]
    },
    {
      "cell_type": "code",
      "metadata": {
        "id": "jX9CRfnGgiGI"
      },
      "source": [
        "A = np.array([ [1,2,3], [4,5,6] ]) # 2x3 행렬\n",
        "B = np.array([ [-1,-2], [-3,-4], [-5,-6] ]) # 3x2 행렬\n",
        "\n",
        "# (2x3) dot product (3x2) == (2x2) 행렬\n",
        "C = np.dot(A, B) # 행렬 곱 수행\n",
        "\n",
        "# matrix A, B 형상 출력 => shape\n",
        "print(\"A.shape = \", A.shape, \", B.shape = \", B.shape)\n",
        "print(\"C.shape = \", C.shape)\n",
        "print(C)"
      ],
      "execution_count": null,
      "outputs": []
    },
    {
      "cell_type": "markdown",
      "metadata": {
        "id": "kc2e0WGsjMbr"
      },
      "source": [
        "** 주의\n",
        "\n",
        ">    A     x    B   =  C  \n",
        "> (2x**3) x (3**x2) = (2x2)\n",
        "\n",
        "=> 이렇듯 **행렬 A의 열의 수와  B의 행의 수가 같아야** 한다!"
      ]
    },
    {
      "cell_type": "markdown",
      "metadata": {
        "id": "LoveJgTEjy4-"
      },
      "source": [
        "#### 행렬 곱 (dot product) (ll)"
      ]
    },
    {
      "cell_type": "markdown",
      "metadata": {
        "id": "seOr48Wjj-E1"
      },
      "source": [
        "행렬 곱은 사칙연산과는 다른 특징을 가진다."
      ]
    },
    {
      "cell_type": "markdown",
      "metadata": {
        "id": "BWoY3pE_j3ye"
      },
      "source": [
        "- 행렬 곱은 행렬의 원소 개수가 같아야만 계산할 수 있는 사칙연산의 한계를 벗어나\n",
        "\n",
        "\n",
        "> 1.   행렬 곱 조건을 만족하는 다양한 크기의 행렬을 연속으로 만들고\n",
        "2.   행렬 곱을 연속으로 계산하면서\n",
        "3. 결괏값을 만들 수 있기 때문에 머신러닝과 이미지 프로세싱 분야에서 자주 사용된다.\n",
        "\n",
        "        예) 입력 행렬 형상이 64X64이고, 결과 행렬 형상이 64X10이라면, 중간에 dot product 를 만족시키는 어떤 형상의 행렬이라도 가질 수 있다.\n",
        "        \n",
        "> 행렬 곱을 사용하지 않고 산술 연산만 가능하다면, 입력 행렬의 64X64 크기를 가지는 특성 값만을 사용해야 하기 때문에 다양한 특성을 갖는 필터 개발이 불가능하다."
      ]
    },
    {
      "cell_type": "markdown",
      "metadata": {
        "id": "pi5OgP-GlYQ2"
      },
      "source": [
        "### numpy broadcast (**브로드캐스트**)"
      ]
    },
    {
      "cell_type": "markdown",
      "metadata": {
        "id": "b6EWWaQPlf_P"
      },
      "source": [
        "- 행렬의 사칙연산은 기본적으로 두 개의 행렬 크기가 같은 경우에만 수행할 수 있다.\n",
        "- 그러나 numpy에서는 **크기가 다른 두 행렬간에도 사칙연산(+,-,x,/)를 사용할 수 있는데 이를 브로드캐스트(broadcast)**라고 지칭한다.\n",
        "- 브로드캐스트는 차원이 작은 쪽이 큰 쪽의 행 단위로 반복적으로 크기를 맞춘 후에 계산된다."
      ]
    },
    {
      "cell_type": "code",
      "metadata": {
        "id": "XE99UiBajJWb"
      },
      "source": [
        "A = np.array([ [1,2], [3,4] ])\n",
        "b = 5\n",
        "\n",
        "print(A+b)"
      ],
      "execution_count": null,
      "outputs": []
    },
    {
      "cell_type": "markdown",
      "metadata": {
        "id": "sBtbTlJgmJ4O"
      },
      "source": [
        "=> b가 2x2 행렬로 바뀐다.\n",
        "\n",
        "\n",
        ">      b = 5   =>   (5 5)\n",
        "                  (5 5)"
      ]
    },
    {
      "cell_type": "code",
      "metadata": {
        "id": "7z0AHcARmBaE"
      },
      "source": [
        "C = np.array([ [1,2], [3,4] ])\n",
        "D = np.array([4,5])\n",
        "\n",
        "print(C+D)"
      ],
      "execution_count": null,
      "outputs": []
    },
    {
      "cell_type": "markdown",
      "metadata": {
        "id": "AfNtr1bHmup-"
      },
      "source": [
        "=> D가 2x2 행렬로 바뀐다.\n",
        "\n",
        "\n",
        ">      D = (4 5)  =>  (4 5)\n",
        "                    (4 5)\n",
        "\n"
      ]
    },
    {
      "cell_type": "markdown",
      "metadata": {
        "id": "z1VJ6D65nHBY"
      },
      "source": [
        "- **브로드캐스트는 사칙연산에만 사용된다**는 것을 반드시 기억할 것! **행렬 곱에는 적용안됨!!!**"
      ]
    },
    {
      "cell_type": "markdown",
      "metadata": {
        "id": "nvPzR19RnVDD"
      },
      "source": [
        "### numpy 전치행렬 (transpose)"
      ]
    },
    {
      "cell_type": "markdown",
      "metadata": {
        "id": "sd9iRsaMnZRv"
      },
      "source": [
        "- 어떤 행렬의 전치행렬은 원본 행렬의 **열은 행으로, 행은 열로** 바꾼 것이다.\n",
        "- 원본 행렬을 A라고 하면 전치행렬은 **A.T** 로 나타낸다.\n",
        "- 즉, 1행은 1열로 바꾸고 2행은 2열로, 3행은 3열로 바꾼 행렬을 의미한다.\n",
        "\n"
      ]
    },
    {
      "cell_type": "code",
      "metadata": {
        "id": "4KJ9lslEmHlu"
      },
      "source": [
        "A = np.array([ [1,2],[3,4],[5,6] ]) # 3x2행렬\n",
        "B = A.T  # A의 전치행렬, 2x3행렬\n",
        "\n",
        "print(\"A.shape ==\", A.shape, \", B.shape ==\", B.shape)\n",
        "print(A)\n",
        "print(B)"
      ],
      "execution_count": null,
      "outputs": []
    },
    {
      "cell_type": "code",
      "metadata": {
        "id": "cRf-Z8zJoNKv"
      },
      "source": [
        "# vector 전치행렬\n",
        "\n",
        "C = np.array([1,2,3,4,5]) # vector, matrix 아님\n",
        "D = C.T  # C는 벡터이므로 transpose 안됨\n",
        "\n",
        "E = C.reshape(1,5) # 1x5 matrix\n",
        "F = E.T  # E의 전치행렬\n",
        "\n",
        "print(\"C.shape ==\", C.shape, \", D.shape ==\", D.shape)\n",
        "print(\"E.shape ==\", E.shape, \", F.shape ==\", F.shape)\n",
        "print(E)\n",
        "print(F)"
      ],
      "execution_count": null,
      "outputs": []
    },
    {
      "cell_type": "markdown",
      "metadata": {
        "id": "0I1_y5eVjn8i"
      },
      "source": [
        "---"
      ]
    },
    {
      "cell_type": "markdown",
      "metadata": {
        "id": "kn8VF_T2oxbf"
      },
      "source": [
        "### numpy 행렬 원소 접근\n",
        "- indexing\n",
        "- slicing"
      ]
    },
    {
      "cell_type": "markdown",
      "metadata": {
        "id": "_oIbfkwCrIIQ"
      },
      "source": [
        "####  indexing & slicing"
      ]
    },
    {
      "cell_type": "markdown",
      "metadata": {
        "id": "i70ADsUWpFNu"
      },
      "source": [
        "- **행렬 원소 접근(l)**\n",
        "\n",
        "\n",
        "> 행렬 원소를 명시적(explicit)으로 접근하기 위해서는 리스트에서처럼, 인덱싱 & 슬라이싱 모두 사용이 가능하다.\n",
        "\n",
        "          예1) A[0,0] 또는 A[0][0]은 1행 1열, A[2,1] 또는 A[2][1]은 3행 2열임\n",
        "          예2) A[ : , 0] 은 모든 행 1열을 나타냄\n",
        "          예3) A[0:-1, 1:2] 인덱스 0인 1행부터 인덱스 -1-1=-2인 2행까지의 모든 데이터,\n",
        "                            그리고 인덱스 1인 2열부터 인덱스 2-1=1인 2열까지의 모든 데이터\n",
        "          예4) A[ :, : ] 은 모든 행, 모든 열\n",
        "\n"
      ]
    },
    {
      "cell_type": "code",
      "metadata": {
        "id": "1BKmHSjxopyB"
      },
      "source": [
        "# 예제1\n",
        "\n",
        "A = np.array([10,20,30,40,50,60]).reshape(3,2)\n",
        "\n",
        "print(\"A.shape = \", A.shape)\n",
        "print(A)\n",
        "A"
      ],
      "execution_count": null,
      "outputs": []
    },
    {
      "cell_type": "code",
      "metadata": {
        "id": "CWL4qtyjqKsA"
      },
      "source": [
        "# 예제2 - 인덱싱\n",
        "\n",
        "print(\"A[0,0] ==\", A[0,0], \", A[0][0] ==\", A[0][0])\n",
        "print(\"A[2,1] ==\", A[2,1], \", A[2][1] ==\", A[2][1])"
      ],
      "execution_count": null,
      "outputs": []
    },
    {
      "cell_type": "code",
      "metadata": {
        "id": "Wn8_1uuYqam2"
      },
      "source": [
        "# 예제3 - 슬라이싱\n",
        "\n",
        "print(\"A[0:-1, 1:2] ==\", A[0:-1, 1:2])  # == A[0:2, 1:2]"
      ],
      "execution_count": null,
      "outputs": []
    },
    {
      "cell_type": "code",
      "metadata": {
        "id": "YY80y8L1WOtm"
      },
      "source": [
        "A[0:2, 1:2]"
      ],
      "execution_count": null,
      "outputs": []
    },
    {
      "cell_type": "code",
      "metadata": {
        "id": "ToMWigEjqqaK"
      },
      "source": [
        "# 예제4 - 슬라이싱\n",
        "\n",
        "print(\"A[ :, 0] ==\", A[:, 0])\n",
        "print(\"A[ 0, :] ==\", A[0, :])\n",
        "print(\"A[ :, :] ==\", A[:, :])"
      ],
      "execution_count": null,
      "outputs": []
    },
    {
      "cell_type": "markdown",
      "metadata": {
        "id": "RnMm5JvJrKKW"
      },
      "source": [
        "#### iterator"
      ]
    },
    {
      "cell_type": "markdown",
      "metadata": {
        "id": "M-KiSswzrOtX"
      },
      "source": [
        "- **행렬 원소 접근(ll)**\n",
        "\n",
        "\n",
        "> 명시적(explicit) 인덱싱 & 슬라이싱 이외에 **행렬 모든 원소를 access하는 경우에는 iterator** 사용이 가능하다.\n",
        "\n",
        "\n",
        "> numpy iterator는 C++, Java iterator처럼 next() 메서드를 통해,                     \n",
        "                데이터값을 처음부터 끝까지 순차적으로 읽어들이는 방법을 제공한다.\n",
        "\n",
        "\n",
        "\n"
      ]
    },
    {
      "cell_type": "code",
      "metadata": {
        "id": "FxU6cxHQq0uc"
      },
      "source": [
        "import numpy as np\n",
        "\n",
        "A = np.array([ [10,20,30,40], [50,60,70,80] ])\n",
        "\n",
        "print(A)\n",
        "print(\"A.shape = \", A.shape)\n"
      ],
      "execution_count": null,
      "outputs": []
    },
    {
      "cell_type": "code",
      "metadata": {
        "id": "jW6s_aP_2MCV"
      },
      "source": [
        "# 행렬 A의 iterator 생성\n",
        "\n",
        "it = np.nditer(A, flags=['multi_index'], op_flags=['readwrite'])\n",
        "\n",
        "while not it.finished:\n",
        "  \n",
        "  idx = it.multi_index\n",
        "  \n",
        "  print(\"current value => \", A[idx])\n",
        "  \n",
        "  it.iternext()"
      ],
      "execution_count": null,
      "outputs": []
    },
    {
      "cell_type": "markdown",
      "metadata": {
        "id": "s9RsfZAYsc7p"
      },
      "source": [
        "2x4 행렬인 경우,\n",
        "\n",
        "> (0,0) => (0,1) => (0,2) => (0,3) => (1,0) => (1,1) => (1,2) => (1,3)   순서대로 access\n",
        " \n"
      ]
    },
    {
      "cell_type": "markdown",
      "metadata": {
        "id": "BzkgLZWvdQbe"
      },
      "source": [
        "\n",
        "\n",
        "---\n",
        "\n"
      ]
    }
  ]
}