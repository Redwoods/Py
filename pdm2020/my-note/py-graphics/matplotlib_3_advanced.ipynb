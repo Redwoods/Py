{
  "nbformat": 4,
  "nbformat_minor": 0,
  "metadata": {
    "kernelspec": {
      "display_name": "Python 3",
      "language": "python",
      "name": "python3"
    },
    "language_info": {
      "codemirror_mode": {
        "name": "ipython",
        "version": 3
      },
      "file_extension": ".py",
      "mimetype": "text/x-python",
      "name": "python",
      "nbconvert_exporter": "python",
      "pygments_lexer": "ipython3",
      "version": "3.6.6"
    },
    "colab": {
      "name": "matplotlib_3_advanced.ipynb",
      "provenance": [],
      "collapsed_sections": [],
      "include_colab_link": true
    }
  },
  "cells": [
    {
      "cell_type": "markdown",
      "metadata": {
        "id": "view-in-github",
        "colab_type": "text"
      },
      "source": [
        "<a href=\"https://colab.research.google.com/github/Redwoods/Py/blob/master/pdm2020/my-note/py-graphics/matplotlib_3_advanced.ipynb\" target=\"_parent\"><img src=\"https://colab.research.google.com/assets/colab-badge.svg\" alt=\"Open In Colab\"/></a>"
      ]
    },
    {
      "cell_type": "markdown",
      "metadata": {
        "id": "9Wej-7GZ4f3N"
      },
      "source": [
        "## Python module 2. **matplotlib**\n",
        "### Python graphics using matplotlib\n",
        "- save graph\n",
        "- application to simlple LR"
      ]
    },
    {
      "cell_type": "code",
      "metadata": {
        "id": "mYtejl4m4f3Q"
      },
      "source": [
        "import numpy as np\n",
        "import matplotlib.pyplot as plt\n",
        "# 노트북 셀 내에 그림 출력\n",
        "%matplotlib inline  "
      ],
      "execution_count": null,
      "outputs": []
    },
    {
      "cell_type": "markdown",
      "metadata": {
        "id": "m8qJaoJU4f3s"
      },
      "source": [
        "### 그래프 저장 (Save graph)"
      ]
    },
    {
      "cell_type": "code",
      "metadata": {
        "id": "6S5o0_Aj4f3s"
      },
      "source": [
        "x = np.linspace(0, 4*np.pi, 100)\n",
        "plt.plot(x, np.sin(x), 'r')\n",
        "\n",
        "plt.savefig('sin4pi.png', dpi=100)\n",
        "plt.savefig('sin4pi.pdf')\n",
        "\n",
        "plt.show()"
      ],
      "execution_count": null,
      "outputs": []
    },
    {
      "cell_type": "markdown",
      "metadata": {
        "id": "RDMgqK2u4f3u"
      },
      "source": [
        "### 문자를 삽입한다"
      ]
    },
    {
      "cell_type": "code",
      "metadata": {
        "id": "_oU-q4ve4f3v"
      },
      "source": [
        "# 표시용 폰트 지정\n",
        "import matplotlib.pyplot as plt\n",
        "plt.rcParams['font.family'] = 'AppleGothic'"
      ],
      "execution_count": null,
      "outputs": []
    },
    {
      "cell_type": "code",
      "metadata": {
        "id": "LwFxuRE74f3x"
      },
      "source": [
        "# 시스템에서 사용 가능한 글꼴 목록을 표시\n",
        "import matplotlib.font_manager as fm\n",
        "fontsfamily = fm.findSystemFonts()"
      ],
      "execution_count": null,
      "outputs": []
    },
    {
      "cell_type": "code",
      "metadata": {
        "id": "0KTFmgx24f3z"
      },
      "source": [
        "fontsfamily[:5]  # font in linux cloud"
      ],
      "execution_count": null,
      "outputs": []
    },
    {
      "cell_type": "code",
      "metadata": {
        "id": "PBkZnCRh93A9"
      },
      "source": [
        "x = np.linspace(0, 4*np.pi, 100)\n",
        "plt.plot(x, np.sin(x), 'r')\n",
        "plt.title(\"function - sin(x)\")\n",
        "plt.xlabel(\"x\")\n",
        "plt.ylabel(\"f(x) = sin(x)\")\n",
        "plt.savefig('sin_function.png', dpi=75)\n",
        "plt.show()\n"
      ],
      "execution_count": null,
      "outputs": []
    },
    {
      "cell_type": "code",
      "metadata": {
        "id": "36Jt0cH-I74I"
      },
      "source": [
        "plt.savefig('sin_function.png', dpi=75)"
      ],
      "execution_count": null,
      "outputs": []
    },
    {
      "cell_type": "markdown",
      "metadata": {
        "id": "TKBIJ1mS4f31"
      },
      "source": [
        "***"
      ]
    },
    {
      "cell_type": "markdown",
      "metadata": {
        "id": "Nk1rEr-z4f3p"
      },
      "source": [
        "### 그래픽 응용: 1차원 회기(regression)"
      ]
    },
    {
      "cell_type": "code",
      "metadata": {
        "id": "aDy_GFh14f3q"
      },
      "source": [
        "# 그래프 데이터 (x, y)\n",
        "x = np.array([1.628, 3.363, 5.145, 7.683, 9.855])\n",
        "y = np.array([1.257, 3.672, 5.841, 7.951, 9.775])\n",
        "\n",
        "# 그래프를 그림\n",
        "plt.plot(x, y, 'o', ms=12)   # 데이터를 그림\n"
      ],
      "execution_count": null,
      "outputs": []
    },
    {
      "cell_type": "code",
      "metadata": {
        "id": "8BoKF9nBFUmZ"
      },
      "source": [
        "x.shape, y.shape"
      ],
      "execution_count": null,
      "outputs": []
    },
    {
      "cell_type": "code",
      "metadata": {
        "id": "p4qzUwRsl6zQ"
      },
      "source": [
        "# 최소 자승법(least square method)으로 데이터를 근사하는 직선을 구함\n",
        "a = np.array([x, np.ones(x.size)])\n",
        "a = a.T\n",
        "a,a.shape"
      ],
      "execution_count": null,
      "outputs": []
    },
    {
      "cell_type": "code",
      "metadata": {
        "id": "cY6y2SyvFFmu"
      },
      "source": [
        "# 최소 자승법(least square method)\n",
        "m, c = np.linalg.lstsq(a, y)[0]  # 일차원 선형회기 계수\n",
        "# m:기울기,c:bias(절편)\n",
        "\n",
        "# 그래프를 겹쳐서 그림\n",
        "# 데이터와 선형회기 근사직선을 동시에 그림.\n",
        "t = plt.plot(x, y, 'o', ms=12)   # 데이터를 그림\n",
        "t = plt.plot(x, (m*x+c))  # 근사직선을 그림, m:기울기,c:bias(절편)"
      ],
      "execution_count": null,
      "outputs": []
    },
    {
      "cell_type": "markdown",
      "metadata": {
        "id": "jSIZefgUq8PO"
      },
      "source": [
        "#### 겹침 그림을 그리고 저장하기"
      ]
    },
    {
      "cell_type": "code",
      "metadata": {
        "id": "wOwNjy0gmKUB"
      },
      "source": [
        "plt.plot(x, (m*x+c), x, y, 'o', ms=12)   # 데이터와 근사직선을 동시에 그림\n",
        "plt.savefig('linear_regression.png', dpi=75)"
      ],
      "execution_count": null,
      "outputs": []
    },
    {
      "cell_type": "markdown",
      "metadata": {
        "id": "IBCQ6GRNx3X0"
      },
      "source": [
        "---"
      ]
    }
  ]
}