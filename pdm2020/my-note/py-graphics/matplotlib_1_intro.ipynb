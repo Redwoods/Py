{
  "nbformat": 4,
  "nbformat_minor": 0,
  "metadata": {
    "kernelspec": {
      "display_name": "Python 3",
      "language": "python",
      "name": "python3"
    },
    "language_info": {
      "codemirror_mode": {
        "name": "ipython",
        "version": 3
      },
      "file_extension": ".py",
      "mimetype": "text/x-python",
      "name": "python",
      "nbconvert_exporter": "python",
      "pygments_lexer": "ipython3",
      "version": "3.6.6"
    },
    "colab": {
      "name": "matplotlib_1_intro.ipynb",
      "provenance": [],
      "collapsed_sections": [],
      "include_colab_link": true
    }
  },
  "cells": [
    {
      "cell_type": "markdown",
      "metadata": {
        "id": "view-in-github",
        "colab_type": "text"
      },
      "source": [
        "<a href=\"https://colab.research.google.com/github/Redwoods/Py/blob/master/pdm2020/my-note/py-graphics/matplotlib_1_intro.ipynb\" target=\"_parent\"><img src=\"https://colab.research.google.com/assets/colab-badge.svg\" alt=\"Open In Colab\"/></a>"
      ]
    },
    {
      "cell_type": "markdown",
      "metadata": {
        "id": "9Wej-7GZ4f3N"
      },
      "source": [
        "## Python module 2. **matplotlib**\n",
        "### Python graphics using matplotlib"
      ]
    },
    {
      "cell_type": "markdown",
      "metadata": {
        "id": "hldWgfff4f3P"
      },
      "source": [
        "## matplotlib 모듈을 사용한다\n",
        "\n",
        "> [matplotlib & numpy introduction](https://github.com/rasbt/stat479-machine-learning-fs18/blob/master/04_scipython/04_scipython_notes.ipynb)"
      ]
    },
    {
      "cell_type": "code",
      "metadata": {
        "id": "mYtejl4m4f3Q"
      },
      "source": [
        "import numpy as np\n",
        "import matplotlib.pyplot as plt\n",
        "# 노트북 셀 내에 그림 출력\n",
        "%matplotlib inline  "
      ],
      "execution_count": null,
      "outputs": []
    },
    {
      "cell_type": "markdown",
      "metadata": {
        "id": "9adcEpr0C4fO"
      },
      "source": [
        "#### range(10) vs. arange(10)\n",
        "- range(10)\n",
        "- arange(10)"
      ]
    },
    {
      "cell_type": "code",
      "metadata": {
        "id": "PRbXHCpOCjLb"
      },
      "source": [
        "range(10)\n",
        "# np.arange(10)"
      ],
      "execution_count": null,
      "outputs": []
    },
    {
      "cell_type": "code",
      "metadata": {
        "id": "rw6WLD58wCQD"
      },
      "source": [
        "len(np.arange(10))"
      ],
      "execution_count": null,
      "outputs": []
    },
    {
      "cell_type": "markdown",
      "metadata": {
        "id": "9d-l2UbJ4f3T"
      },
      "source": [
        "### plot( )로 그래프를 그린다"
      ]
    },
    {
      "cell_type": "code",
      "metadata": {
        "id": "o592uikn5u4t"
      },
      "source": [
        "np.arange(0.0, 2.0, 0.01)\n",
        "# len(np.arange(0.0, 2.0, 0.01))"
      ],
      "execution_count": null,
      "outputs": []
    },
    {
      "cell_type": "code",
      "metadata": {
        "id": "5N6u_JEc4f3T"
      },
      "source": [
        "# sin그래프를 그린다\n",
        "s = np.sin(np.pi*np.arange(0.0, 2.0, 0.01))\n",
        "plt.plot(s)    # sin의 그래프를 그림"
      ],
      "execution_count": null,
      "outputs": []
    },
    {
      "cell_type": "markdown",
      "metadata": {
        "id": "HRONVhz2QvEL"
      },
      "source": [
        "### x-축을 지정하여 그리기."
      ]
    },
    {
      "cell_type": "code",
      "metadata": {
        "id": "BdfjilXr8KNR"
      },
      "source": [
        "s1 = np.sin(np.pi*np.arange(0.0, 2.0, 0.1))\n",
        "plt.plot(np.arange(0.0, 2.0, 0.1), s1, 'o') #, ms = 4)"
      ],
      "execution_count": null,
      "outputs": []
    },
    {
      "cell_type": "markdown",
      "metadata": {
        "id": "xisWz9yav8wd"
      },
      "source": [
        "## 산포도 (scatter plot)"
      ]
    },
    {
      "cell_type": "code",
      "metadata": {
        "id": "4wLXIm5C4f3Y"
      },
      "source": [
        "# 산포도(scatter plot)를 그린다\n",
        "# 마커를 사용하여 산포도를 작성\n",
        "# 표준 정규 분포에 따라 난수 생성\n",
        "x = np.random.randn(5000)    \n",
        "y = np.random.randn(5000)\n",
        "plt.figure(figsize=(5,5))\n",
        "t = plt.plot(x, y, 'o', alpha=0.1)   #, ms=8)\n"
      ],
      "execution_count": null,
      "outputs": []
    },
    {
      "cell_type": "markdown",
      "metadata": {
        "id": "CxcIX6fA6II_"
      },
      "source": [
        "### [도전] 균일분포(백색잡음)의 산포도 그리기"
      ]
    },
    {
      "cell_type": "code",
      "metadata": {
        "id": "8PKbmSIEweeE"
      },
      "source": [
        "# 균일 분포에 따라 난수 생성하고 산포도 그리기"
      ],
      "execution_count": null,
      "outputs": []
    },
    {
      "cell_type": "markdown",
      "metadata": {
        "id": "4mcspbdAEk4D"
      },
      "source": [
        ">> [python plot: markers](https://matplotlib.org/3.1.1/api/markers_api.html)"
      ]
    },
    {
      "cell_type": "markdown",
      "metadata": {
        "id": "oxbafcrS6r7M"
      },
      "source": [
        "### 막대 그래프 (Bar graph)"
      ]
    },
    {
      "cell_type": "code",
      "metadata": {
        "id": "AMQ_uluj4f3a"
      },
      "source": [
        "# 막대그래프(bar graph)를 그린다.\n",
        "means = [1, 2, 3]\n",
        "stddevs = [0.2, 0.4, 0.5]\n",
        "bar_labels = ['bar 1', 'bar 2', 'bar 3']\n",
        "\n",
        "# plot bars\n",
        "x_pos = list(range(len(bar_labels)))\n",
        "plt.bar(x_pos, means, yerr=stddevs) #, color=('r','g','b'))\n",
        "\n",
        "plt.show()"
      ],
      "execution_count": null,
      "outputs": []
    },
    {
      "cell_type": "markdown",
      "metadata": {
        "id": "9gqrI9Fx7KhV"
      },
      "source": [
        "### 히스토그램 (histogram)"
      ]
    },
    {
      "cell_type": "code",
      "metadata": {
        "id": "C_GEsZBK4f3d"
      },
      "source": [
        "# 히스토그램 (histogram)\n",
        "rng = np.random.RandomState(123)  # different from random.seed()\n",
        "x = rng.normal(0, 20, 1000) \n",
        "\n",
        "# fixed bin size\n",
        "bins = np.arange(-100, 100, 5) # fixed bin size\n",
        "\n",
        "plt.hist(x, bins=bins)\n",
        "plt.show()"
      ],
      "execution_count": null,
      "outputs": []
    },
    {
      "cell_type": "markdown",
      "metadata": {
        "id": "hO2Rbfq17q6g"
      },
      "source": [
        "### [도전하기] 위의 histogram을 정수 bins를 지정해서 그리시오."
      ]
    },
    {
      "cell_type": "code",
      "metadata": {
        "id": "o2ZaFeQn76mP"
      },
      "source": [
        "# 히스토그램 (histogram)\n",
        "rng = np.random.RandomState(123)  # different from random.seed()\n",
        "x = rng.normal(0, 20, 1000) \n",
        "\n",
        "# fixed bin size\n",
        "# bins = np.arange(-100, 100, 5) # fixed bin size\n",
        "# bins=50\n",
        "\n",
        "plt.hist(x, bins=bins)\n",
        "plt.show()"
      ],
      "execution_count": null,
      "outputs": []
    },
    {
      "cell_type": "code",
      "metadata": {
        "id": "P2RA37cA4f3f"
      },
      "source": [
        "# 중첩 히스토그램\n",
        "rng = np.random.RandomState(123)\n",
        "x1 = rng.normal(0, 20, 1000) \n",
        "x2 = rng.normal(20, 10, 1000)\n",
        "\n",
        "# fixed bin size\n",
        "bins = np.arange(-100, 100, 5) # fixed bin size\n",
        "\n",
        "plt.hist(x1, bins=bins, alpha=0.5)\n",
        "plt.hist(x2, bins=bins, alpha=0.5)\n",
        "plt.show()"
      ],
      "execution_count": null,
      "outputs": []
    }
  ]
}