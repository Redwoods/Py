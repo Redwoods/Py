{
  "nbformat": 4,
  "nbformat_minor": 0,
  "metadata": {
    "kernelspec": {
      "display_name": "Python 3",
      "language": "python",
      "name": "python3"
    },
    "language_info": {
      "codemirror_mode": {
        "name": "ipython",
        "version": 3
      },
      "file_extension": ".py",
      "mimetype": "text/x-python",
      "name": "python",
      "nbconvert_exporter": "python",
      "pygments_lexer": "ipython3",
      "version": "3.6.6"
    },
    "colab": {
      "name": "matplotlib_2_style_subplots.ipynb",
      "provenance": [],
      "collapsed_sections": [],
      "include_colab_link": true
    }
  },
  "cells": [
    {
      "cell_type": "markdown",
      "metadata": {
        "id": "view-in-github",
        "colab_type": "text"
      },
      "source": [
        "<a href=\"https://colab.research.google.com/github/Redwoods/Py/blob/master/pdm2020/my-note/py-graphics/matplotlib_2_style_subplots.ipynb\" target=\"_parent\"><img src=\"https://colab.research.google.com/assets/colab-badge.svg\" alt=\"Open In Colab\"/></a>"
      ]
    },
    {
      "cell_type": "markdown",
      "metadata": {
        "id": "9Wej-7GZ4f3N"
      },
      "source": [
        "## Python module 2. **matplotlib**\n",
        "### Python graphics using matplotlib\n",
        "- Style\n",
        "- legend\n",
        "- subplot"
      ]
    },
    {
      "cell_type": "code",
      "metadata": {
        "id": "mYtejl4m4f3Q"
      },
      "source": [
        "import numpy as np\n",
        "import matplotlib.pyplot as plt\n",
        "# 노트북 셀 내에 그림 출력\n",
        "%matplotlib inline  "
      ],
      "execution_count": null,
      "outputs": []
    },
    {
      "cell_type": "markdown",
      "metadata": {
        "id": "c_hRWSkV8kNo"
      },
      "source": [
        "## 그림 스타일"
      ]
    },
    {
      "cell_type": "markdown",
      "metadata": {
        "id": "5arrYkNL4f3h"
      },
      "source": [
        "### 그림의 스타일을 변경"
      ]
    },
    {
      "cell_type": "code",
      "metadata": {
        "id": "wEXs9O8f4f3i"
      },
      "source": [
        "# 선 스타일 변경\n",
        "s = np.sin(np.pi*np.arange(0.0, 2.0, 0.01))\n",
        "t = plt.plot(s, linestyle='--', linewidth=4) #  test using -, --, -., :"
      ],
      "execution_count": null,
      "outputs": []
    },
    {
      "cell_type": "markdown",
      "metadata": {
        "id": "69tCJctJ5U5L"
      },
      "source": [
        "#### 선 스타일\n",
        "- [line_styles_reference](https://matplotlib.org/gallery/lines_bars_and_markers/line_styles_reference.html)\n"
      ]
    },
    {
      "cell_type": "markdown",
      "metadata": {
        "id": "SG-6pAGF4f3k"
      },
      "source": [
        "### legend 표시"
      ]
    },
    {
      "cell_type": "code",
      "metadata": {
        "id": "3apmtKAG4f3l"
      },
      "source": [
        "x = np.linspace(0, 10, 100)\n",
        "\n",
        "plt.plot(x, np.sin(x), label=('sin(x)'))\n",
        "plt.plot(x, np.cos(x), label=('cos(x)'))\n",
        "\n",
        "plt.ylabel('f(x)')\n",
        "plt.xlabel('x')\n",
        "\n",
        "plt.legend(loc='center')  # 'best', 'center', 'lower left'\n",
        "plt.show()"
      ],
      "execution_count": null,
      "outputs": []
    },
    {
      "cell_type": "markdown",
      "metadata": {
        "id": "3qPnYZ3XBdnF"
      },
      "source": [
        "### legend를 그림 외부에 배치하기"
      ]
    },
    {
      "cell_type": "code",
      "metadata": {
        "id": "TyOS3faEBWNy"
      },
      "source": [
        "x = np.linspace(0, 10, 100)\n",
        "\n",
        "plt.plot(x, np.sin(x), label=('sin(x)'))\n",
        "plt.plot(x, np.cos(x), label=('cos(x)'))\n",
        "\n",
        "plt.ylabel('f(x)')\n",
        "plt.xlabel('x')\n",
        "\n",
        "plt.legend(bbox_to_anchor =(1.25, 1.))\n",
        "plt.show()"
      ],
      "execution_count": null,
      "outputs": []
    },
    {
      "cell_type": "markdown",
      "metadata": {
        "id": "legi7apB4f3n"
      },
      "source": [
        "### Multiple plot\n",
        "- subplot\n",
        "- subplots"
      ]
    },
    {
      "cell_type": "code",
      "metadata": {
        "id": "9eLJj4Iqm8cM"
      },
      "source": [
        "# import numpy as np\n",
        "# import matplotlib.pyplot as plt\n",
        "# plt.subplot -> single axis\n",
        "\n",
        "def f(t):\n",
        "    return np.exp(-t) * np.cos(2*np.pi*t)\n",
        "\n",
        "def g(t):\n",
        "    return np.sin(np.pi*t)\n",
        "\n",
        "t1 = np.arange(0.0, 5.0, 0.01)\n",
        "t2 = np.arange(0.0, 5.0, 0.01)\n",
        "\n",
        "plt.subplot(221)\n",
        "plt.plot(t1, f(t1))\n",
        "\n",
        "plt.subplot(222)\n",
        "plt.plot(t2, g(t2))\n",
        "\n",
        "plt.subplot(223)\n",
        "plt.plot(t1, f(t1), 'r-')\n",
        "\n",
        "plt.subplot(224)\n",
        "plt.plot(t2, g(t2), 'r-')\n",
        "\n",
        "plt.show()"
      ],
      "execution_count": null,
      "outputs": []
    },
    {
      "cell_type": "code",
      "metadata": {
        "id": "1GxgJDZkqhY9"
      },
      "source": [
        "plt.subplot(211)\n",
        "plt.plot(t1, f(t1))\n",
        "\n",
        "plt.subplot(212)\n",
        "plt.plot(t2, g(t2))\n",
        "\n",
        "plt.show()"
      ],
      "execution_count": null,
      "outputs": []
    },
    {
      "cell_type": "code",
      "metadata": {
        "id": "BSz0Nr144f3n"
      },
      "source": [
        "#  multiple subplots in grids\n",
        "# figure object, axis array object\n",
        "x = range(11)\n",
        "y = range(11)  #(11,0,-1)\n",
        "\n",
        "fig, ax = plt.subplots(nrows=2, ncols=3,\n",
        "                       sharex=True, sharey=True)  # change sharex, sharey option\n",
        "\n",
        "for row in ax:\n",
        "    for col in row:\n",
        "        col.plot(x, y)\n",
        "        \n",
        "plt.show()"
      ],
      "execution_count": null,
      "outputs": []
    }
  ]
}